{
 "cells": [
  {
   "cell_type": "code",
   "execution_count": 2,
   "metadata": {
    "collapsed": true
   },
   "outputs": [
    {
     "name": "stdout",
     "output_type": "stream",
     "text": [
      "(S (NP_SG_1 (N_SG_1 I)) (VP_SG_1 (V_SG_1 am) (ADJ happy)))\n"
     ]
    }
   ],
   "source": [
    "# Exercise: 9-1\n",
    "# What constraints are required to correctly parse word sequences like I am happy and she is happy but not\n",
    "# *you is happy or *they am happy? Implement two solutions for the present tense paradigm of the verb be in English,\n",
    "# first taking Grammar Example 9-8 as your starting point, and then taking Grammar Example 9-22 as the starting point.\n",
    "\n",
    "import nltk\n",
    "\n",
    "grammar = nltk.CFG.fromstring(\"\"\"\n",
    "S -> NP_SG_1 VP_SG_1\n",
    "S -> NP_SG_2 VP_SG_2\n",
    "S -> NP_SG_3 VP_SG_3\n",
    "S -> NP_PL VP_PL\n",
    "NP_SG_1 -> N_SG_1\n",
    "NP_SG_2 -> N_SG_2\n",
    "NP_SG_3 -> N_SG_3\n",
    "NP_PL -> N_PL_1 | N_PL_2 | N_PL_3\n",
    "VP_SG_1 -> V_SG_1 ADJ\n",
    "VP_SG_2 -> V_SG_2 ADJ\n",
    "VP_SG_3 -> V_SG_3 ADJ\n",
    "VP_PL -> V_PL ADJ\n",
    "N_SG_1 -> \"I\"\n",
    "N_SG_2 -> \"you\"\n",
    "N_SG_3 -> \"he\" | \"she\" | \"it\"\n",
    "N_PL_1 -> \"we\"\n",
    "N_PL_2 -> \"you\"\n",
    "N_PL_3 -> \"they\"\n",
    "V_SG_1 -> \"am\"\n",
    "V_SG_2 -> \"are\"\n",
    "V_SG_3 -> \"is\"\n",
    "V_PL   -> \"are\"\n",
    "ADJ -> \"happy\"\n",
    "\"\"\")\n",
    "\n",
    "sent = \"I am happy\".split()\n",
    "parser = nltk.ChartParser(grammar)\n",
    "for tree in parser.parse(sent):\n",
    "    print(tree)"
   ]
  },
  {
   "cell_type": "code",
   "execution_count": 3,
   "outputs": [
    {
     "name": "stdout",
     "output_type": "stream",
     "text": [
      "(S (NP_SG_3 (N_SG_3 she)) (VP_SG_3 (V_SG_3 is) (ADJ happy)))\n"
     ]
    }
   ],
   "source": [
    "sent = \"she is happy\".split()\n",
    "for tree in parser.parse(sent):\n",
    "    print(tree)"
   ],
   "metadata": {
    "collapsed": false,
    "pycharm": {
     "name": "#%%\n"
    }
   }
  },
  {
   "cell_type": "code",
   "execution_count": 4,
   "outputs": [],
   "source": [
    "sent = \"you is happy\".split()\n",
    "for tree in parser.parse(sent):\n",
    "    print(tree)"
   ],
   "metadata": {
    "collapsed": false,
    "pycharm": {
     "name": "#%%\n"
    }
   }
  },
  {
   "cell_type": "code",
   "execution_count": 5,
   "outputs": [],
   "source": [
    "sent = \"they am happy\".split()\n",
    "for tree in parser.parse(sent):\n",
    "    print(tree)"
   ],
   "metadata": {
    "collapsed": false,
    "pycharm": {
     "name": "#%%\n"
    }
   }
  },
  {
   "cell_type": "code",
   "execution_count": 6,
   "outputs": [
    {
     "name": "stdout",
     "output_type": "stream",
     "text": [
      "(S[]\n",
      "  (NP[AGR=[NUM='sg', PER=1]] (N[AGR=[NUM='sg', PER=1]] I))\n",
      "  (VP[AGR=[NUM='sg', PER=1]]\n",
      "    (V[AGR=[NUM='sg', PER=1]] am)\n",
      "    (ADJ[] happy)))\n"
     ]
    }
   ],
   "source": [
    "from nltk import grammar, parse\n",
    "\n",
    "g = \"\"\"\n",
    "% start S\n",
    "S -> NP[AGR = ?n] VP[AGR = ?n]\n",
    "NP[AGR = ?n] -> N[AGR = ?n]\n",
    "VP[AGR = ?n] -> V[AGR = ?n] ADJ\n",
    "N[AGR = [PER = 1, NUM = sg]] -> \"I\"\n",
    "N[AGR = [PER = 2, NUM = sg]] -> \"you\"\n",
    "N[AGR = [PER = 3, NUM = sg]] -> \"he\" | \"she\" | \"it\"\n",
    "N[AGR = [PER = 1, NUM = pl]] -> \"we\"\n",
    "N[AGR = [PER = 2, NUM = pl]] -> \"you\"\n",
    "N[AGR = [PER = 3, NUM = pl]]-> \"they\"\n",
    "V[AGR = [PER = 1, NUM = sg]] -> \"am\"\n",
    "V[AGR = [PER = 2, NUM = sg]] -> \"are\"\n",
    "V[AGR = [PER = 3, NUM = sg]] -> \"is\"\n",
    "V[AGR = [PER = ?n, NUM = pl]]  -> \"are\"\n",
    "ADJ -> \"happy\"\n",
    "\"\"\"\n",
    "\n",
    "gram = grammar.FeatureGrammar.fromstring(g)\n",
    "parser = parse.FeatureEarleyChartParser(gram)\n",
    "\n",
    "sent = \"I am happy\".split()\n",
    "\n",
    "for tree in parser.parse(sent):\n",
    "    print(tree)"
   ],
   "metadata": {
    "collapsed": false,
    "pycharm": {
     "name": "#%%\n"
    }
   }
  },
  {
   "cell_type": "code",
   "execution_count": 7,
   "outputs": [
    {
     "name": "stdout",
     "output_type": "stream",
     "text": [
      "(S[]\n",
      "  (NP[AGR=[NUM='sg', PER=3]] (N[AGR=[NUM='sg', PER=3]] she))\n",
      "  (VP[AGR=[NUM='sg', PER=3]]\n",
      "    (V[AGR=[NUM='sg', PER=3]] is)\n",
      "    (ADJ[] happy)))\n"
     ]
    }
   ],
   "source": [
    "sent = \"she is happy\".split()\n",
    "for tree in parser.parse(sent):\n",
    "    print(tree)"
   ],
   "metadata": {
    "collapsed": false,
    "pycharm": {
     "name": "#%%\n"
    }
   }
  },
  {
   "cell_type": "code",
   "execution_count": 8,
   "outputs": [
    {
     "name": "stdout",
     "output_type": "stream",
     "text": [
      "(S[]\n",
      "  (NP[AGR=[NUM='pl', PER=3]] (N[AGR=[NUM='pl', PER=3]] they))\n",
      "  (VP[AGR=[NUM='pl', PER=?n2]]\n",
      "    (V[AGR=[NUM='pl', PER=?n]] are)\n",
      "    (ADJ[] happy)))\n"
     ]
    }
   ],
   "source": [
    "sent = \"they are happy\".split()\n",
    "for tree in parser.parse(sent):\n",
    "    print(tree)"
   ],
   "metadata": {
    "collapsed": false,
    "pycharm": {
     "name": "#%%\n"
    }
   }
  },
  {
   "cell_type": "code",
   "execution_count": 9,
   "outputs": [],
   "source": [
    "sent = \"you is happy\".split()\n",
    "for tree in parser.parse(sent):\n",
    "    print(tree)"
   ],
   "metadata": {
    "collapsed": false,
    "pycharm": {
     "name": "#%%\n"
    }
   }
  },
  {
   "cell_type": "code",
   "execution_count": 10,
   "outputs": [],
   "source": [
    "sent = \"they am happy\".split()\n",
    "for tree in parser.parse(sent):\n",
    "    print(tree)"
   ],
   "metadata": {
    "collapsed": false,
    "pycharm": {
     "name": "#%%\n"
    }
   }
  },
  {
   "cell_type": "code",
   "execution_count": 11,
   "outputs": [],
   "source": [
    "# Exercise: 9-2\n",
    "# Develop a variant of grammar in Example 9-17 that uses a feature COUNT to make the distinctions shown here:\n",
    "# Example 9-60.\n",
    "# a. The boy sings.\n",
    "# b. *Boy sings.\n",
    "\n",
    "# Example 9-61.\n",
    "# a. The boys sing.\n",
    "# b. Boys sing.\n",
    "\n",
    "# Example 9-62.\n",
    "# a. The water is precious.\n",
    "# b. Water is precious.\n",
    "\n",
    "g = \"\"\"\n",
    "% start S\n",
    "# ###################\n",
    "# Grammar Productions\n",
    "# ###################\n",
    "# S expansion productions\n",
    "S -> NP[NUM=?n] VP[NUM=?n]\n",
    "# NP expansion productions\n",
    "NP[NUM=?n, Count = ?c] -> Det[NUM=?n] N[NUM=?n, Count = ?c]\n",
    "NP[NUM=pl, Count = ?c] -> N[NUM=pl, Count = ?c]\n",
    "NP[NUM=?n, Count = False] -> N[NUM=?n, Count = False]\n",
    "# VP expansion productions\n",
    "VP[TENSE=?t, NUM=?n] -> ambiV[TENSE=?t, NUM=?n]\n",
    "VP[TENSE=?t, NUM=?n] -> Cop[TENSE=?t, NUM=?n] ADJ\n",
    "# ###################\n",
    "# Lexical Productions\n",
    "# ###################\n",
    "Det -> 'The' | 'the'\n",
    "N[NUM=sg, Count = True] -> 'boy' | 'Boy'\n",
    "N[NUM=sg, Count = False] -> 'water' | 'Water'\n",
    "N[NUM=pl, Count = True] -> 'Boys' | 'boys'\n",
    "ambiV[TENSE=pres,  NUM=sg] -> 'sings'\n",
    "ambiV[TENSE=pres,  NUM=pl] -> 'sing'\n",
    "Cop[TENSE=pres,  NUM=sg] -> 'is'\n",
    "Cop[TENSE=pres,  NUM=pl] -> 'are'\n",
    "ADJ -> 'precious'\n",
    "\"\"\"\n",
    "\n",
    "gram = grammar.FeatureGrammar.fromstring(g)\n",
    "parser = parse.FeatureEarleyChartParser(gram)"
   ],
   "metadata": {
    "collapsed": false,
    "pycharm": {
     "name": "#%%\n"
    }
   }
  },
  {
   "cell_type": "code",
   "execution_count": 12,
   "outputs": [
    {
     "name": "stdout",
     "output_type": "stream",
     "text": [
      "(S[]\n",
      "  (NP[+Count, NUM='sg'] (Det[] the) (N[+Count, NUM='sg'] boy))\n",
      "  (VP[NUM='sg', TENSE='pres'] (ambiV[NUM='sg', TENSE='pres'] sings)))\n"
     ]
    }
   ],
   "source": [
    "sent = \"the boy sings\".split()\n",
    "\n",
    "for tree in parser.parse(sent):\n",
    "    print(tree)"
   ],
   "metadata": {
    "collapsed": false,
    "pycharm": {
     "name": "#%%\n"
    }
   }
  },
  {
   "cell_type": "code",
   "execution_count": 13,
   "outputs": [],
   "source": [
    "sent = \"Boy sings\".split()\n",
    "for tree in parser.parse(sent):\n",
    "    print(tree)"
   ],
   "metadata": {
    "collapsed": false,
    "pycharm": {
     "name": "#%%\n"
    }
   }
  },
  {
   "cell_type": "code",
   "execution_count": 14,
   "outputs": [
    {
     "name": "stdout",
     "output_type": "stream",
     "text": [
      "(S[]\n",
      "  (NP[+Count, NUM='pl'] (Det[] The) (N[+Count, NUM='pl'] boys))\n",
      "  (VP[NUM='pl', TENSE='pres'] (ambiV[NUM='pl', TENSE='pres'] sing)))\n"
     ]
    }
   ],
   "source": [
    "sent = \"The boys sing\".split()\n",
    "for tree in parser.parse(sent):\n",
    "    print(tree)"
   ],
   "metadata": {
    "collapsed": false,
    "pycharm": {
     "name": "#%%\n"
    }
   }
  },
  {
   "cell_type": "code",
   "execution_count": 15,
   "outputs": [
    {
     "name": "stdout",
     "output_type": "stream",
     "text": [
      "(S[]\n",
      "  (NP[+Count, NUM='pl'] (N[+Count, NUM='pl'] Boys))\n",
      "  (VP[NUM='pl', TENSE='pres'] (ambiV[NUM='pl', TENSE='pres'] sing)))\n"
     ]
    }
   ],
   "source": [
    "sent = \"Boys sing\".split()\n",
    "for tree in parser.parse(sent):\n",
    "    print(tree)"
   ],
   "metadata": {
    "collapsed": false,
    "pycharm": {
     "name": "#%%\n"
    }
   }
  },
  {
   "cell_type": "code",
   "execution_count": 16,
   "outputs": [
    {
     "name": "stdout",
     "output_type": "stream",
     "text": [
      "(S[]\n",
      "  (NP[-Count, NUM='sg'] (Det[] The) (N[-Count, NUM='sg'] water))\n",
      "  (VP[NUM='sg', TENSE='pres']\n",
      "    (Cop[NUM='sg', TENSE='pres'] is)\n",
      "    (ADJ[] precious)))\n"
     ]
    }
   ],
   "source": [
    "sent = \"The water is precious\".split()\n",
    "for tree in parser.parse(sent):\n",
    "    print(tree)"
   ],
   "metadata": {
    "collapsed": false,
    "pycharm": {
     "name": "#%%\n"
    }
   }
  },
  {
   "cell_type": "code",
   "execution_count": 17,
   "outputs": [
    {
     "name": "stdout",
     "output_type": "stream",
     "text": [
      "(S[]\n",
      "  (NP[-Count, NUM='sg'] (N[-Count, NUM='sg'] Water))\n",
      "  (VP[NUM='sg', TENSE='pres']\n",
      "    (Cop[NUM='sg', TENSE='pres'] is)\n",
      "    (ADJ[] precious)))\n"
     ]
    }
   ],
   "source": [
    "sent = \"Water is precious\".split()\n",
    "for tree in parser.parse(sent):\n",
    "    print(tree)"
   ],
   "metadata": {
    "collapsed": false,
    "pycharm": {
     "name": "#%%\n"
    }
   }
  },
  {
   "cell_type": "code",
   "execution_count": 18,
   "outputs": [],
   "source": [
    "# Exercise: 9-3\n",
    "# Write a function subsumes() that holds of two feature structures fs1 and fs2 just in case fs1 subsumes fs2.\n",
    "\n",
    "def subsumes(f1, f2):\n",
    "    \"\"\"\n",
    "    Checks two features structures to see if one subsumes the other.\n",
    "\n",
    "    Arguments:\n",
    "    f1, f2: two nltk.FeatStruct objects\n",
    "\n",
    "    Returns:\n",
    "    0:   Neither object subsumes the other\n",
    "    1:   First object subsumes the second\n",
    "    2:   Second object subsumes the first\n",
    "    \"\"\"\n",
    "\n",
    "    for f in [f1, f2]:\n",
    "        assert isinstance(f, nltk.FeatStruct), \\\n",
    "            \"Argument must be an nltk.FeatStruct\"\n",
    "\n",
    "    if f1 == f1.unify(f2):\n",
    "        return 1\n",
    "    elif f2 == f2.unify(f1):\n",
    "        return 2\n",
    "    else:\n",
    "        return 0"
   ],
   "metadata": {
    "collapsed": false,
    "pycharm": {
     "name": "#%%\n"
    }
   }
  },
  {
   "cell_type": "code",
   "execution_count": 19,
   "outputs": [],
   "source": [
    "fs1 = nltk.FeatStruct(NAME = \"Jack Torrance\", ROOM = '237',\n",
    "                      LODGING = 'Overlook Hotel')\n",
    "fs2 = nltk.FeatStruct(ROOM = '237')"
   ],
   "metadata": {
    "collapsed": false,
    "pycharm": {
     "name": "#%%\n"
    }
   }
  },
  {
   "cell_type": "code",
   "execution_count": 20,
   "outputs": [
    {
     "data": {
      "text/plain": "1"
     },
     "execution_count": 20,
     "metadata": {},
     "output_type": "execute_result"
    }
   ],
   "source": [
    "subsumes(fs1, fs2)"
   ],
   "metadata": {
    "collapsed": false,
    "pycharm": {
     "name": "#%%\n"
    }
   }
  },
  {
   "cell_type": "code",
   "execution_count": 21,
   "outputs": [],
   "source": [
    "fs1 = nltk.FeatStruct(ROOM = '237')\n",
    "fs2 = nltk.FeatStruct(NAME = \"Jack Torrance\", ROOM = '237',\n",
    "                      LODGING = 'Overlook Hotel')"
   ],
   "metadata": {
    "collapsed": false,
    "pycharm": {
     "name": "#%%\n"
    }
   }
  },
  {
   "cell_type": "code",
   "execution_count": 22,
   "outputs": [
    {
     "data": {
      "text/plain": "2"
     },
     "execution_count": 22,
     "metadata": {},
     "output_type": "execute_result"
    }
   ],
   "source": [
    "subsumes(fs1, fs2)"
   ],
   "metadata": {
    "collapsed": false,
    "pycharm": {
     "name": "#%%\n"
    }
   }
  },
  {
   "cell_type": "code",
   "execution_count": 23,
   "outputs": [],
   "source": [
    "fs1 = nltk.FeatStruct(ROOM = '237')\n",
    "fs2 = nltk.FeatStruct(NAME = \"Jack Torrance\", LODGING = 'Overlook Hotel')"
   ],
   "metadata": {
    "collapsed": false,
    "pycharm": {
     "name": "#%%\n"
    }
   }
  },
  {
   "cell_type": "code",
   "execution_count": 24,
   "outputs": [
    {
     "data": {
      "text/plain": "0"
     },
     "execution_count": 24,
     "metadata": {},
     "output_type": "execute_result"
    }
   ],
   "source": [
    "subsumes(fs1, fs2)"
   ],
   "metadata": {
    "collapsed": false,
    "pycharm": {
     "name": "#%%\n"
    }
   }
  },
  {
   "cell_type": "code",
   "execution_count": 25,
   "outputs": [],
   "source": [
    "# Exercise: 9-5\n",
    "# Modify the German grammar in Example 9-59 to incorporate the treatment of subcategorization presented in\n",
    "# Extending a Feature-Based Grammar.\n",
    "\n",
    "g = \"\"\"\n",
    "% start S\n",
    "# Grammar Productions\n",
    "S -> NP[CASE=nom, AGR=?a] VP[AGR=?a]\n",
    "NP[CASE=?c, AGR=?a] -> PRO[CASE=?c, AGR=?a]\n",
    "NP[CASE=?c, AGR=?a] -> Det[CASE=?c, AGR=?a] N[CASE=?c, AGR=?a]\n",
    "VP[AGR=?a] -> V[SUBCAT = intrans, AGR=?a]\n",
    "VP[AGR=?a] -> V[SUBCAT = trans, OBJCASE=?c, AGR=?a] NP[CASE=?c]\n",
    "# Lexical Productions\n",
    "# Singular determiners\n",
    "# masc\n",
    "Det[CASE=nom, AGR=[GND=masc,PER=3,NUM=sg]] -> 'der'\n",
    "Det[CASE=dat, AGR=[GND=masc,PER=3,NUM=sg]] -> 'dem'\n",
    "Det[CASE=acc, AGR=[GND=masc,PER=3,NUM=sg]] -> 'den'\n",
    "# fem\n",
    "Det[CASE=nom, AGR=[GND=fem,PER=3,NUM=sg]] -> 'die'\n",
    "Det[CASE=dat, AGR=[GND=fem,PER=3,NUM=sg]] -> 'der'\n",
    "Det[CASE=acc, AGR=[GND=fem,PER=3,NUM=sg]] -> 'die'\n",
    "# Plural determiners\n",
    "Det[CASE=nom, AGR=[PER=3,NUM=pl]] -> 'die'\n",
    "Det[CASE=dat, AGR=[PER=3,NUM=pl]] -> 'den'\n",
    "Det[CASE=acc, AGR=[PER=3,NUM=pl]] -> 'die'\n",
    "# Nouns\n",
    "N[AGR=[GND=masc,PER=3,NUM=sg]] -> 'Hund'\n",
    "N[CASE=nom, AGR=[GND=masc,PER=3,NUM=pl]] -> 'Hunde'\n",
    "N[CASE=dat, AGR=[GND=masc,PER=3,NUM=pl]] -> 'Hunden'\n",
    "N[CASE=acc, AGR=[GND=masc,PER=3,NUM=pl]] -> 'Hunde'\n",
    "N[AGR=[GND=fem,PER=3,NUM=sg]] -> 'Katze'\n",
    "N[AGR=[GND=fem,PER=3,NUM=pl]] -> 'Katzen'\n",
    "# Pronouns\n",
    "PRO[CASE=nom, AGR=[PER=1,NUM=sg]] -> 'ich'\n",
    "PRO[CASE=acc, AGR=[PER=1,NUM=sg]] -> 'mich'\n",
    "PRO[CASE=dat, AGR=[PER=1,NUM=sg]] -> 'mir'\n",
    "PRO[CASE=nom, AGR=[PER=2,NUM=sg]] -> 'du'\n",
    "PRO[CASE=nom, AGR=[PER=3,NUM=sg]] -> 'er' | 'sie' | 'es'\n",
    "PRO[CASE=nom, AGR=[PER=1,NUM=pl]] -> 'wir'\n",
    "PRO[CASE=acc, AGR=[PER=1,NUM=pl]] -> 'uns'\n",
    "PRO[CASE=dat, AGR=[PER=1,NUM=pl]] -> 'uns'\n",
    "PRO[CASE=nom, AGR=[PER=2,NUM=pl]] -> 'ihr'\n",
    "PRO[CASE=nom, AGR=[PER=3,NUM=pl]] -> 'sie'\n",
    "# Verbs\n",
    "V[SUBCAT = intrans, AGR=[NUM=sg,PER=1]] -> 'komme'\n",
    "V[SUBCAT = intrans, AGR=[NUM=sg,PER=2]] -> 'kommst'\n",
    "V[SUBCAT = intrans, AGR=[NUM=sg,PER=3]] -> 'kommt'\n",
    "V[SUBCAT = intrans, AGR=[NUM=pl, PER=1]] -> 'kommen'\n",
    "V[SUBCAT = intrans, AGR=[NUM=pl, PER=2]] -> 'kommt'\n",
    "V[SUBCAT = intrans, AGR=[NUM=pl, PER=3]] -> 'kommen'\n",
    "V[SUBCAT = trans, OBJCASE=acc, AGR=[NUM=sg,PER=1]] -> 'sehe' | 'mag'\n",
    "V[SUBCAT = trans, OBJCASE=acc, AGR=[NUM=sg,PER=2]] -> 'siehst' | 'magst'\n",
    "V[SUBCAT = trans, OBJCASE=acc, AGR=[NUM=sg,PER=3]] -> 'sieht' | 'mag'\n",
    "V[SUBCAT = trans, OBJCASE=dat, AGR=[NUM=sg,PER=1]] -> 'folge' | 'helfe'\n",
    "V[SUBCAT = trans, OBJCASE=dat, AGR=[NUM=sg,PER=2]] -> 'folgst' | 'hilfst'\n",
    "V[SUBCAT = trans, OBJCASE=dat, AGR=[NUM=sg,PER=3]] -> 'folgt' | 'hilft'\n",
    "V[SUBCAT = trans, OBJCASE=acc, AGR=[NUM=pl,PER=1]] -> 'sehen' | 'moegen'\n",
    "V[SUBCAT = trans, OBJCASE=acc, AGR=[NUM=pl,PER=2]] -> 'sieht' | 'moegt'\n",
    "V[SUBCAT = trans, OBJCASE=acc, AGR=[NUM=pl,PER=3]] -> 'sehen' | 'moegen'\n",
    "V[SUBCAT = trans, OBJCASE=dat, AGR=[NUM=pl,PER=1]] -> 'folgen' | 'helfen'\n",
    "V[SUBCAT = trans, OBJCASE=dat, AGR=[NUM=pl,PER=2]] -> 'folgt' | 'helft'\n",
    "V[SUBCAT = trans, OBJCASE=dat, AGR=[NUM=pl,PER=3]] -> 'folgen' | 'helfen'\n",
    "\"\"\"\n",
    "\n",
    "gram = grammar.FeatureGrammar.fromstring(g)\n",
    "parser = parse.FeatureEarleyChartParser(gram)"
   ],
   "metadata": {
    "collapsed": false,
    "pycharm": {
     "name": "#%%\n"
    }
   }
  },
  {
   "cell_type": "code",
   "execution_count": 26,
   "outputs": [
    {
     "name": "stdout",
     "output_type": "stream",
     "text": [
      "(S[]\n",
      "  (NP[AGR=[NUM='sg', PER=1], CASE='nom']\n",
      "    (PRO[AGR=[NUM='sg', PER=1], CASE='nom'] ich))\n",
      "  (VP[AGR=[NUM='sg', PER=1]]\n",
      "    (V[AGR=[NUM='sg', PER=1], OBJCASE='dat', SUBCAT='trans'] folge)\n",
      "    (NP[AGR=[GND='fem', NUM='pl', PER=3], CASE='dat']\n",
      "      (Det[AGR=[NUM='pl', PER=3], CASE='dat'] den)\n",
      "      (N[AGR=[GND='fem', NUM='pl', PER=3]] Katzen))))\n"
     ]
    }
   ],
   "source": [
    "Satz = \"ich folge den Katzen\".split()\n",
    "for tree in parser.parse(Satz):\n",
    "    print(tree)"
   ],
   "metadata": {
    "collapsed": false,
    "pycharm": {
     "name": "#%%\n"
    }
   }
  },
  {
   "cell_type": "code",
   "execution_count": 27,
   "outputs": [
    {
     "name": "stdout",
     "output_type": "stream",
     "text": [
      "(S[]\n",
      "  (NP[AGR=[GND='fem', NUM='sg', PER=3], CASE='nom']\n",
      "    (Det[AGR=[GND='fem', NUM='sg', PER=3], CASE='nom'] die)\n",
      "    (N[AGR=[GND='fem', NUM='sg', PER=3]] Katze))\n",
      "  (VP[AGR=[NUM='sg', PER=3]]\n",
      "    (V[AGR=[NUM='sg', PER=3], OBJCASE='acc', SUBCAT='trans'] sieht)\n",
      "    (NP[AGR=[GND='masc', NUM='sg', PER=3], CASE='acc']\n",
      "      (Det[AGR=[GND='masc', NUM='sg', PER=3], CASE='acc'] den)\n",
      "      (N[AGR=[GND='masc', NUM='sg', PER=3]] Hund))))\n"
     ]
    }
   ],
   "source": [
    "Satz = \"die Katze sieht den Hund\".split()\n",
    "for tree in parser.parse(Satz):\n",
    "    print(tree)"
   ],
   "metadata": {
    "collapsed": false,
    "pycharm": {
     "name": "#%%\n"
    }
   }
  },
  {
   "cell_type": "code",
   "execution_count": 28,
   "outputs": [],
   "source": [
    "Satz = \"die Katze sieht dem Hund\".split()\n",
    "for tree in parser.parse(Satz):\n",
    "    print(tree)"
   ],
   "metadata": {
    "collapsed": false,
    "pycharm": {
     "name": "#%%\n"
    }
   }
  },
  {
   "cell_type": "code",
   "execution_count": 29,
   "outputs": [
    {
     "name": "stdout",
     "output_type": "stream",
     "text": [
      "(S[]\n",
      "  (NP[AGR=[GND='fem', NUM='sg', PER=3], CASE='nom']\n",
      "    (Det[AGR=[GND='fem', NUM='sg', PER=3], CASE='nom'] die)\n",
      "    (N[AGR=[GND='fem', NUM='sg', PER=3]] Katze))\n",
      "  (VP[AGR=[NUM='sg', PER=3]]\n",
      "    (V[AGR=[NUM='sg', PER=3], OBJCASE='dat', SUBCAT='trans'] hilft)\n",
      "    (NP[AGR=[GND='masc', NUM='sg', PER=3], CASE='dat']\n",
      "      (Det[AGR=[GND='masc', NUM='sg', PER=3], CASE='dat'] dem)\n",
      "      (N[AGR=[GND='masc', NUM='sg', PER=3]] Hund))))\n"
     ]
    }
   ],
   "source": [
    "Satz = \"die Katze hilft dem Hund\".split()\n",
    "for tree in parser.parse(Satz):\n",
    "    print(tree)"
   ],
   "metadata": {
    "collapsed": false,
    "pycharm": {
     "name": "#%%\n"
    }
   }
  },
  {
   "cell_type": "code",
   "execution_count": 30,
   "outputs": [],
   "source": [
    "Satz = \"die Katze hilft den Hund\".split()\n",
    "for tree in parser.parse(Satz):\n",
    "    print(tree)"
   ],
   "metadata": {
    "collapsed": false,
    "pycharm": {
     "name": "#%%\n"
    }
   }
  },
  {
   "cell_type": "code",
   "execution_count": 31,
   "outputs": [],
   "source": [
    "Satz = \"ich folge den Katze\".split()\n",
    "for tree in parser.parse(Satz):\n",
    "    print(tree)"
   ],
   "metadata": {
    "collapsed": false,
    "pycharm": {
     "name": "#%%\n"
    }
   }
  },
  {
   "cell_type": "code",
   "execution_count": 32,
   "outputs": [],
   "source": [
    "# Exercise: 9-6\n",
    "# Develop a feature-based grammar that will correctly describe the following Spanish noun phrases:\n",
    "\n",
    "g = \"\"\"\n",
    "% start NP\n",
    "# Grammar Productions\n",
    "\n",
    "NP[AGR=?a] -> INDEF[AGR=?a] N[AGR=?a] ADJ[AGR=?a]\n",
    "\n",
    "# Lexical Productions\n",
    "\n",
    "# Singular determiners\n",
    "INDEF[AGR=[GND=masc, NUM=sg]] -> 'un'\n",
    "INDEF[AGR=[GND=masc, NUM=pl]] -> 'unos'\n",
    "INDEF[AGR=[GND=fem, NUM=sg]] -> 'una'\n",
    "INDEF[AGR=[GND=fem, NUM=pl]] -> 'unas'\n",
    "\n",
    "# Nouns\n",
    "N[AGR=[GND=masc, NUM=sg]] -> 'cuadro'\n",
    "N[AGR=[GND=masc, NUM=pl]] -> 'cuadros'\n",
    "N[AGR=[GND=fem, NUM=sg]] -> 'cortina'\n",
    "N[AGR=[GND=fem, NUM=pl]] -> 'cortinas'\n",
    "\n",
    "# Adjectives\n",
    "ADJ[AGR=[GND=masc, NUM=sg]] -> 'hermoso'\n",
    "ADJ[AGR=[GND=masc, NUM=pl]] -> 'hermosos'\n",
    "ADJ[AGR=[GND=fem, NUM=sg]] -> 'hermosa'\n",
    "ADJ[AGR=[GND=fem, NUM=pl]] -> 'hermosas'\n",
    "\n",
    "\"\"\"\n",
    "\n",
    "gram = grammar.FeatureGrammar.fromstring(g)\n",
    "parser = parse.FeatureEarleyChartParser(gram)"
   ],
   "metadata": {
    "collapsed": false,
    "pycharm": {
     "name": "#%%\n"
    }
   }
  },
  {
   "cell_type": "code",
   "execution_count": 33,
   "outputs": [
    {
     "name": "stdout",
     "output_type": "stream",
     "text": [
      "(NP[AGR=[GND='masc', NUM='sg']]\n",
      "  (INDEF[AGR=[GND='masc', NUM='sg']] un)\n",
      "  (N[AGR=[GND='masc', NUM='sg']] cuadro)\n",
      "  (ADJ[AGR=[GND='masc', NUM='sg']] hermoso))\n"
     ]
    }
   ],
   "source": [
    "frase = \"un cuadro hermoso\".split()\n",
    "for tree in parser.parse(frase):\n",
    "    print(tree)"
   ],
   "metadata": {
    "collapsed": false,
    "pycharm": {
     "name": "#%%\n"
    }
   }
  },
  {
   "cell_type": "code",
   "execution_count": 34,
   "outputs": [
    {
     "name": "stdout",
     "output_type": "stream",
     "text": [
      "(NP[AGR=[GND='masc', NUM='pl']]\n",
      "  (INDEF[AGR=[GND='masc', NUM='pl']] unos)\n",
      "  (N[AGR=[GND='masc', NUM='pl']] cuadros)\n",
      "  (ADJ[AGR=[GND='masc', NUM='pl']] hermosos))\n"
     ]
    }
   ],
   "source": [
    "frase = \"unos cuadros hermosos\".split()\n",
    "for tree in parser.parse(frase):\n",
    "    print(tree)"
   ],
   "metadata": {
    "collapsed": false,
    "pycharm": {
     "name": "#%%\n"
    }
   }
  },
  {
   "cell_type": "code",
   "execution_count": 35,
   "outputs": [
    {
     "name": "stdout",
     "output_type": "stream",
     "text": [
      "(NP[AGR=[GND='fem', NUM='sg']]\n",
      "  (INDEF[AGR=[GND='fem', NUM='sg']] una)\n",
      "  (N[AGR=[GND='fem', NUM='sg']] cortina)\n",
      "  (ADJ[AGR=[GND='fem', NUM='sg']] hermosa))\n"
     ]
    }
   ],
   "source": [
    "frase = \"una cortina hermosa\".split()\n",
    "for tree in parser.parse(frase):\n",
    "    print(tree)"
   ],
   "metadata": {
    "collapsed": false,
    "pycharm": {
     "name": "#%%\n"
    }
   }
  },
  {
   "cell_type": "code",
   "execution_count": 36,
   "outputs": [
    {
     "name": "stdout",
     "output_type": "stream",
     "text": [
      "(NP[AGR=[GND='fem', NUM='pl']]\n",
      "  (INDEF[AGR=[GND='fem', NUM='pl']] unas)\n",
      "  (N[AGR=[GND='fem', NUM='pl']] cortinas)\n",
      "  (ADJ[AGR=[GND='fem', NUM='pl']] hermosas))\n"
     ]
    }
   ],
   "source": [
    "frase = \"unas cortinas hermosas\".split()\n",
    "for tree in parser.parse(frase):\n",
    "    print(tree)"
   ],
   "metadata": {
    "collapsed": false,
    "pycharm": {
     "name": "#%%\n"
    }
   }
  },
  {
   "cell_type": "code",
   "execution_count": 37,
   "outputs": [],
   "source": [
    "frase = \"una cuadro hermosa\".split()\n",
    "for tree in parser.parse(frase):\n",
    "    print(tree)"
   ],
   "metadata": {
    "collapsed": false,
    "pycharm": {
     "name": "#%%\n"
    }
   }
  },
  {
   "cell_type": "code",
   "execution_count": 38,
   "outputs": [],
   "source": [
    "frase = \"unos cuadro hermosos\".split()\n",
    "for tree in parser.parse(frase):\n",
    "    print(tree)"
   ],
   "metadata": {
    "collapsed": false,
    "pycharm": {
     "name": "#%%\n"
    }
   }
  },
  {
   "cell_type": "code",
   "execution_count": 39,
   "outputs": [],
   "source": [
    "# Exercise: 9-7\n",
    "# Develop a wrapper for the earley_parser so that a trace is only printed if the input sequence fails to parse.\n",
    "\n",
    "import nltk\n",
    "\n",
    "def check_Earley(seq, parser):\n",
    "    \"\"\"\n",
    "    Checks seq to determine if it would fail to parse.\n",
    "\n",
    "    Args:\n",
    "\n",
    "    seq:    The string to be checked in the parsed grammar\n",
    "    parser: A pre-defined parser\n",
    "    \"\"\"\n",
    "    phrase = seq.split()\n",
    "    if not tree in parser.parse(phrase):\n",
    "        print(\"This sequence fails to parse.\")"
   ],
   "metadata": {
    "collapsed": false,
    "pycharm": {
     "name": "#%%\n"
    }
   }
  },
  {
   "cell_type": "code",
   "execution_count": 40,
   "outputs": [
    {
     "name": "stdout",
     "output_type": "stream",
     "text": [
      "This sequence fails to parse.\n"
     ]
    }
   ],
   "source": [
    "check_Earley(\"un cuadro hermoso\", parser)"
   ],
   "metadata": {
    "collapsed": false,
    "pycharm": {
     "name": "#%%\n"
    }
   }
  },
  {
   "cell_type": "code",
   "execution_count": 41,
   "outputs": [
    {
     "name": "stdout",
     "output_type": "stream",
     "text": [
      "[ A = ?x          ]\n",
      "[                 ]\n",
      "[ B = [ C = ?x  ] ]\n",
      "[     [ D = 'd' ] ]\n"
     ]
    }
   ],
   "source": [
    "# Exercise: 9-8\n",
    "# fs1 = nltk.FeatStruct(\"[A = ?x, B= [C = ?x]]\")\n",
    "# fs2 = nltk.FeatStruct(\"[B = [D = d]]\")\n",
    "# fs3 = nltk.FeatStruct(\"[B = [C = d]]\")\n",
    "# fs4 = nltk.FeatStruct(\"[A = (1)[B = b], C->(1)]\")\n",
    "# fs5 = nltk.FeatStruct(\"[A = (1)[D = ?x], C = [E -> (1), F = ?x] ]\")\n",
    "# fs6 = nltk.FeatStruct(\"[A = [D = d]]\")\n",
    "# fs7 = nltk.FeatStruct(\"[A = [D = d], C = [F = [D = d]]]\")\n",
    "# fs8 = nltk.FeatStruct(\"[A = (1)[D = ?x, G = ?x], C = [B = ?x, E -> (1)] ]\")\n",
    "# fs9 = nltk.FeatStruct(\"[A = [B = b], C = [E = [G = e]]]\")\n",
    "# fs10 = nltk.FeatStruct(\"[A = (1)[B = b], C -> (1)]\")\n",
    "# Work out on paper what the result is of the following unifications. (Hint: you might find it useful to draw the graph structures.)\n",
    "\n",
    "# a: fs1 and fs2\n",
    "# b: fs1 and fs3\n",
    "# c: fs4 and fs5\n",
    "# d: fs5 and fs6\n",
    "# e: fs5 and fs7\n",
    "# f: fs8 and fs9\n",
    "# g: fs8 and fs10\n",
    "\n",
    "# Check your answers using NLTK.\n",
    "\n",
    "fs1 = nltk.FeatStruct(\"[A = ?x, B= [C = ?x]]\")\n",
    "fs2 = nltk.FeatStruct(\"[B = [D = d]]\")\n",
    "\n",
    "print(fs1.unify(fs2))"
   ],
   "metadata": {
    "collapsed": false,
    "pycharm": {
     "name": "#%%\n"
    }
   }
  },
  {
   "cell_type": "code",
   "execution_count": 42,
   "outputs": [
    {
     "name": "stdout",
     "output_type": "stream",
     "text": [
      "[ A = 'd'         ]\n",
      "[                 ]\n",
      "[ B = [ C = 'd' ] ]\n"
     ]
    }
   ],
   "source": [
    "fs1 = nltk.FeatStruct(\"[A = ?x, B= [C = ?x]]\")\n",
    "fs3 = nltk.FeatStruct(\"[B = [C = d]]\")\n",
    "\n",
    "print(fs1.unify(fs3))"
   ],
   "metadata": {
    "collapsed": false,
    "pycharm": {
     "name": "#%%\n"
    }
   }
  },
  {
   "cell_type": "code",
   "execution_count": 43,
   "outputs": [
    {
     "name": "stdout",
     "output_type": "stream",
     "text": [
      "[         [ B = 'b'  ] ]\n",
      "[ A = (1) [ D = ?x   ] ]\n",
      "[         [ E -> (1) ] ]\n",
      "[         [ F = ?x   ] ]\n",
      "[                      ]\n",
      "[ C -> (1)             ]\n"
     ]
    }
   ],
   "source": [
    "fs4 = nltk.FeatStruct(\"[A = (1)[B = b], C->(1)]\")\n",
    "fs5 = nltk.FeatStruct(\"[A = (1)[D = ?x], C = [E -> (1), F = ?x] ]\")\n",
    "\n",
    "print(fs4.unify(fs5))"
   ],
   "metadata": {
    "collapsed": false,
    "pycharm": {
     "name": "#%%\n"
    }
   }
  },
  {
   "cell_type": "code",
   "execution_count": 44,
   "outputs": [
    {
     "name": "stdout",
     "output_type": "stream",
     "text": [
      "[ A = (1) [ D = 'd' ] ]\n",
      "[                     ]\n",
      "[ C = [ E -> (1) ]    ]\n",
      "[     [ F = 'd'  ]    ]\n"
     ]
    }
   ],
   "source": [
    "fs5 = nltk.FeatStruct(\"[A = (1)[D = ?x], C = [E -> (1), F = ?x] ]\")\n",
    "fs6 = nltk.FeatStruct(\"[A = [D = d]]\")\n",
    "\n",
    "print(fs5.unify(fs6))"
   ],
   "metadata": {
    "collapsed": false,
    "pycharm": {
     "name": "#%%\n"
    }
   }
  },
  {
   "cell_type": "code",
   "execution_count": 45,
   "outputs": [
    {
     "name": "stdout",
     "output_type": "stream",
     "text": [
      "None\n"
     ]
    }
   ],
   "source": [
    "fs5 = nltk.FeatStruct(\"[A = (1)[D = ?x], C = [E -> (1), F = ?x] ]\")\n",
    "fs7 = nltk.FeatStruct(\"[A = [D = d], C = [F = [D = d]]]\")\n",
    "\n",
    "print(fs5.unify(fs7))"
   ],
   "metadata": {
    "collapsed": false,
    "pycharm": {
     "name": "#%%\n"
    }
   }
  },
  {
   "cell_type": "code",
   "execution_count": 46,
   "outputs": [
    {
     "name": "stdout",
     "output_type": "stream",
     "text": [
      "[         [ B = 'b' ] ]\n",
      "[ A = (1) [ D = 'e' ] ]\n",
      "[         [ G = 'e' ] ]\n",
      "[                     ]\n",
      "[ C = [ B = 'e'  ]    ]\n",
      "[     [ E -> (1) ]    ]\n"
     ]
    }
   ],
   "source": [
    "fs8 = nltk.FeatStruct(\"[A = (1)[D = ?x, G = ?x], C = [B = ?x, E -> (1)] ]\")\n",
    "fs9 = nltk.FeatStruct(\"[A = [B = b], C = [E = [G = e]]]\")\n",
    "\n",
    "print(fs8.unify(fs9))"
   ],
   "metadata": {
    "collapsed": false,
    "pycharm": {
     "name": "#%%\n"
    }
   }
  },
  {
   "cell_type": "code",
   "execution_count": 47,
   "outputs": [
    {
     "name": "stdout",
     "output_type": "stream",
     "text": [
      "[         [ B = 'b'  ] ]\n",
      "[ A = (1) [ D = 'b'  ] ]\n",
      "[         [ E -> (1) ] ]\n",
      "[         [ G = 'b'  ] ]\n",
      "[                      ]\n",
      "[ C -> (1)             ]\n"
     ]
    }
   ],
   "source": [
    "fs8 = nltk.FeatStruct(\"[A = (1)[D = ?x, G = ?x], C = [B = ?x, E -> (1)] ]\")\n",
    "fs10 = nltk.FeatStruct(\"[A = (1)[B = b], C -> (1)]\")\n",
    "\n",
    "print(fs8.unify(fs10))"
   ],
   "metadata": {
    "collapsed": false,
    "pycharm": {
     "name": "#%%\n"
    }
   }
  },
  {
   "cell_type": "code",
   "execution_count": 48,
   "outputs": [],
   "source": [
    "# Exercise: 9-11\n",
    "# Extend the German grammar in Example 9-59 so that it can handle so-called verb-second structures\n",
    "# like the following:\n",
    "\n",
    "# Heute sieht der Hund die Katze.\n",
    "\n",
    "g = \"\"\"\n",
    "% start S\n",
    "# Grammar Productions\n",
    "S -> NP[CASE=nom, AGR=?a] VP[AGR=?a]\n",
    "S -> ADV VP[AGR=?a]\n",
    "\n",
    "NP[CASE=?c, AGR=?a] -> PRO[CASE=?c, AGR=?a]\n",
    "NP[CASE=?c, AGR=?a] -> Det[CASE=?c, AGR=?a] N[CASE=?c, AGR=?a]\n",
    "VP[AGR=?a] -> V[SUBCAT = intrans, AGR=?a]\n",
    "VP[AGR=?a] -> V[SUBCAT = trans, OBJCASE=?c, AGR=?a] NP[CASE=?c]\n",
    "\n",
    "# New VP production\n",
    "VP[AGR=?a] -> V[SUBCAT = trans, OBJCASE=?c, AGR=?a] NP[CASE=nom, AGR = ?a] NP[CASE=?c]\n",
    "\n",
    "# Lexical Productions\n",
    "# Singular determiners\n",
    "# masc\n",
    "Det[CASE=nom, AGR=[GND=masc,PER=3,NUM=sg]] -> 'der'\n",
    "Det[CASE=dat, AGR=[GND=masc,PER=3,NUM=sg]] -> 'dem'\n",
    "Det[CASE=acc, AGR=[GND=masc,PER=3,NUM=sg]] -> 'den'\n",
    "# fem\n",
    "Det[CASE=nom, AGR=[GND=fem,PER=3,NUM=sg]] -> 'die'\n",
    "Det[CASE=dat, AGR=[GND=fem,PER=3,NUM=sg]] -> 'der'\n",
    "Det[CASE=acc, AGR=[GND=fem,PER=3,NUM=sg]] -> 'die'\n",
    "# Plural determiners\n",
    "Det[CASE=nom, AGR=[PER=3,NUM=pl]] -> 'die'\n",
    "Det[CASE=dat, AGR=[PER=3,NUM=pl]] -> 'den'\n",
    "Det[CASE=acc, AGR=[PER=3,NUM=pl]] -> 'die'\n",
    "# Nouns\n",
    "N[AGR=[GND=masc,PER=3,NUM=sg]] -> 'Hund'\n",
    "N[CASE=nom, AGR=[GND=masc,PER=3,NUM=pl]] -> 'Hunde'\n",
    "N[CASE=dat, AGR=[GND=masc,PER=3,NUM=pl]] -> 'Hunden'\n",
    "N[CASE=acc, AGR=[GND=masc,PER=3,NUM=pl]] -> 'Hunde'\n",
    "N[AGR=[GND=fem,PER=3,NUM=sg]] -> 'Katze'\n",
    "N[AGR=[GND=fem,PER=3,NUM=pl]] -> 'Katzen'\n",
    "# Pronouns\n",
    "PRO[CASE=nom, AGR=[PER=1,NUM=sg]] -> 'ich'\n",
    "PRO[CASE=acc, AGR=[PER=1,NUM=sg]] -> 'mich'\n",
    "PRO[CASE=dat, AGR=[PER=1,NUM=sg]] -> 'mir'\n",
    "PRO[CASE=nom, AGR=[PER=2,NUM=sg]] -> 'du'\n",
    "PRO[CASE=nom, AGR=[PER=3,NUM=sg]] -> 'er' | 'sie' | 'es'\n",
    "PRO[CASE=nom, AGR=[PER=1,NUM=pl]] -> 'wir'\n",
    "PRO[CASE=acc, AGR=[PER=1,NUM=pl]] -> 'uns'\n",
    "PRO[CASE=dat, AGR=[PER=1,NUM=pl]] -> 'uns'\n",
    "PRO[CASE=nom, AGR=[PER=2,NUM=pl]] -> 'ihr'\n",
    "PRO[CASE=nom, AGR=[PER=3,NUM=pl]] -> 'sie'\n",
    "# Verbs\n",
    "V[SUBCAT = intrans, AGR=[NUM=sg,PER=1]] -> 'komme'\n",
    "V[SUBCAT = intrans, AGR=[NUM=sg,PER=2]] -> 'kommst'\n",
    "V[SUBCAT = intrans, AGR=[NUM=sg,PER=3]] -> 'kommt'\n",
    "V[SUBCAT = intrans, AGR=[NUM=pl, PER=1]] -> 'kommen'\n",
    "V[SUBCAT = intrans, AGR=[NUM=pl, PER=2]] -> 'kommt'\n",
    "V[SUBCAT = intrans, AGR=[NUM=pl, PER=3]] -> 'kommen'\n",
    "V[SUBCAT = trans, OBJCASE=acc, AGR=[NUM=sg,PER=1]] -> 'sehe' | 'mag'\n",
    "V[SUBCAT = trans, OBJCASE=acc, AGR=[NUM=sg,PER=2]] -> 'siehst' | 'magst'\n",
    "V[SUBCAT = trans, OBJCASE=acc, AGR=[NUM=sg,PER=3]] -> 'sieht' | 'mag'\n",
    "V[SUBCAT = trans, OBJCASE=dat, AGR=[NUM=sg,PER=1]] -> 'folge' | 'helfe'\n",
    "V[SUBCAT = trans, OBJCASE=dat, AGR=[NUM=sg,PER=2]] -> 'folgst' | 'hilfst'\n",
    "V[SUBCAT = trans, OBJCASE=dat, AGR=[NUM=sg,PER=3]] -> 'folgt' | 'hilft'\n",
    "V[SUBCAT = trans, OBJCASE=acc, AGR=[NUM=pl,PER=1]] -> 'sehen' | 'moegen'\n",
    "V[SUBCAT = trans, OBJCASE=acc, AGR=[NUM=pl,PER=2]] -> 'sieht' | 'moegt'\n",
    "V[SUBCAT = trans, OBJCASE=acc, AGR=[NUM=pl,PER=3]] -> 'sehen' | 'moegen'\n",
    "V[SUBCAT = trans, OBJCASE=dat, AGR=[NUM=pl,PER=1]] -> 'folgen' | 'helfen'\n",
    "V[SUBCAT = trans, OBJCASE=dat, AGR=[NUM=pl,PER=2]] -> 'folgt' | 'helft'\n",
    "V[SUBCAT = trans, OBJCASE=dat, AGR=[NUM=pl,PER=3]] -> 'folgen' | 'helfen'\n",
    "# Adverbs\n",
    "ADV -> 'Heute'\n",
    "\"\"\"\n",
    "\n",
    "gram = grammar.FeatureGrammar.fromstring(g)\n",
    "parser = parse.FeatureEarleyChartParser(gram)"
   ],
   "metadata": {
    "collapsed": false,
    "pycharm": {
     "name": "#%%\n"
    }
   }
  },
  {
   "cell_type": "code",
   "execution_count": 49,
   "outputs": [
    {
     "name": "stdout",
     "output_type": "stream",
     "text": [
      "(S[]\n",
      "  (ADV[] Heute)\n",
      "  (VP[AGR=[GND='masc', NUM='sg', PER=3]]\n",
      "    (V[AGR=[NUM='sg', PER=3], OBJCASE='acc', SUBCAT='trans'] sieht)\n",
      "    (NP[AGR=[GND='masc', NUM='sg', PER=3], CASE='nom']\n",
      "      (Det[AGR=[GND='masc', NUM='sg', PER=3], CASE='nom'] der)\n",
      "      (N[AGR=[GND='masc', NUM='sg', PER=3]] Hund))\n",
      "    (NP[AGR=[GND='fem', NUM='sg', PER=3], CASE='acc']\n",
      "      (Det[AGR=[GND='fem', NUM='sg', PER=3], CASE='acc'] die)\n",
      "      (N[AGR=[GND='fem', NUM='sg', PER=3]] Katze))))\n"
     ]
    }
   ],
   "source": [
    "Satz = \"Heute sieht der Hund die Katze\".split()\n",
    "for tree in parser.parse(Satz):\n",
    "    print(tree)"
   ],
   "metadata": {
    "collapsed": false,
    "pycharm": {
     "name": "#%%\n"
    }
   }
  },
  {
   "cell_type": "code",
   "execution_count": 50,
   "outputs": [],
   "source": [
    "# Exercise: 9-12\n",
    "# Seemingly synonymous verbs have slightly different syntactic properties (Levin, 1993). Consider the\n",
    "# following patterns of grammaticality for the verbs loaded, filled, and dumped. Can you write grammar\n",
    "# productions to handle such data?\n",
    "\n",
    "# a: The farmer loaded the cart with sand\n",
    "# b: The farmer loaded sand into the cart\n",
    "# c: The farmer filled the cart with sand\n",
    "# d: *The farmer filled sand into the cart\n",
    "# e: *The farmer dumped the cart with sand\n",
    "# f: The farmer dumped sand into the cart\n",
    "\n",
    "g = \"\"\"\n",
    "% start S\n",
    "# Grammar Productions\n",
    "S -> NP VP\n",
    "NP -> N[Count = False]\n",
    "NP -> Det N[Count = ?c]\n",
    "VP -> V[Prep = With] NP 'with' NP\n",
    "VP -> V[Prep = Into] NP 'into' NP\n",
    "\n",
    "# Lexical Productions\n",
    "# Determiner\n",
    "Det -> 'The' | 'the'\n",
    "# Nouns\n",
    "N[Count = True] -> 'farmer' | 'cart'\n",
    "N[Count = False] -> 'sand'\n",
    "# Verbs\n",
    "V[Prep = With] -> 'loaded' | 'filled'\n",
    "V[Prep = Into] -> 'loaded' | 'dumped'\n",
    "\"\"\"\n",
    "\n",
    "gram = grammar.FeatureGrammar.fromstring(g)\n",
    "parser = parse.FeatureEarleyChartParser(gram)"
   ],
   "metadata": {
    "collapsed": false,
    "pycharm": {
     "name": "#%%\n"
    }
   }
  },
  {
   "cell_type": "code",
   "execution_count": 51,
   "outputs": [
    {
     "name": "stdout",
     "output_type": "stream",
     "text": [
      "(S[]\n",
      "  (NP[] (Det[] The) (N[+Count] farmer))\n",
      "  (VP[]\n",
      "    (V[Prep='With'] loaded)\n",
      "    (NP[] (Det[] the) (N[+Count] cart))\n",
      "    with\n",
      "    (NP[] (N[-Count] sand))))\n"
     ]
    }
   ],
   "source": [
    "sent = \"The farmer loaded the cart with sand\".split()\n",
    "for tree in parser.parse(sent):\n",
    "    print(tree)"
   ],
   "metadata": {
    "collapsed": false,
    "pycharm": {
     "name": "#%%\n"
    }
   }
  },
  {
   "cell_type": "code",
   "execution_count": 52,
   "outputs": [
    {
     "name": "stdout",
     "output_type": "stream",
     "text": [
      "(S[]\n",
      "  (NP[] (Det[] The) (N[+Count] farmer))\n",
      "  (VP[]\n",
      "    (V[Prep='Into'] loaded)\n",
      "    (NP[] (N[-Count] sand))\n",
      "    into\n",
      "    (NP[] (Det[] the) (N[+Count] cart))))\n"
     ]
    }
   ],
   "source": [
    "sent = \"The farmer loaded sand into the cart\".split()\n",
    "for tree in parser.parse(sent):\n",
    "    print(tree)"
   ],
   "metadata": {
    "collapsed": false,
    "pycharm": {
     "name": "#%%\n"
    }
   }
  },
  {
   "cell_type": "code",
   "execution_count": 53,
   "outputs": [
    {
     "name": "stdout",
     "output_type": "stream",
     "text": [
      "(S[]\n",
      "  (NP[] (Det[] The) (N[+Count] farmer))\n",
      "  (VP[]\n",
      "    (V[Prep='With'] filled)\n",
      "    (NP[] (Det[] the) (N[+Count] cart))\n",
      "    with\n",
      "    (NP[] (N[-Count] sand))))\n"
     ]
    }
   ],
   "source": [
    "sent = \"The farmer filled the cart with sand\".split()\n",
    "for tree in parser.parse(sent):\n",
    "    print(tree)"
   ],
   "metadata": {
    "collapsed": false,
    "pycharm": {
     "name": "#%%\n"
    }
   }
  },
  {
   "cell_type": "code",
   "execution_count": 54,
   "outputs": [],
   "source": [
    "sent = \"The farmer filled sand into the cart\".split()\n",
    "for tree in parser.parse(sent):\n",
    "    print(tree)"
   ],
   "metadata": {
    "collapsed": false,
    "pycharm": {
     "name": "#%%\n"
    }
   }
  },
  {
   "cell_type": "code",
   "execution_count": 55,
   "outputs": [],
   "source": [
    "sent = \"The farmer dumped the cart with sand\".split()\n",
    "for tree in parser.parse(sent):\n",
    "    print(tree)"
   ],
   "metadata": {
    "collapsed": false,
    "pycharm": {
     "name": "#%%\n"
    }
   }
  },
  {
   "cell_type": "code",
   "execution_count": 56,
   "outputs": [
    {
     "name": "stdout",
     "output_type": "stream",
     "text": [
      "(S[]\n",
      "  (NP[] (Det[] The) (N[+Count] farmer))\n",
      "  (VP[]\n",
      "    (V[Prep='Into'] dumped)\n",
      "    (NP[] (N[-Count] sand))\n",
      "    into\n",
      "    (NP[] (Det[] the) (N[+Count] cart))))\n"
     ]
    }
   ],
   "source": [
    "sent = \"The farmer dumped sand into the cart\".split()\n",
    "for tree in parser.parse(sent):\n",
    "    print(tree)"
   ],
   "metadata": {
    "collapsed": false,
    "pycharm": {
     "name": "#%%\n"
    }
   }
  },
  {
   "cell_type": "code",
   "execution_count": null,
   "outputs": [],
   "source": [],
   "metadata": {
    "collapsed": false,
    "pycharm": {
     "name": "#%%\n"
    }
   }
  }
 ],
 "metadata": {
  "kernelspec": {
   "display_name": "Python 3",
   "language": "python",
   "name": "python3"
  },
  "language_info": {
   "codemirror_mode": {
    "name": "ipython",
    "version": 2
   },
   "file_extension": ".py",
   "mimetype": "text/x-python",
   "name": "python",
   "nbconvert_exporter": "python",
   "pygments_lexer": "ipython2",
   "version": "2.7.6"
  }
 },
 "nbformat": 4,
 "nbformat_minor": 0
}