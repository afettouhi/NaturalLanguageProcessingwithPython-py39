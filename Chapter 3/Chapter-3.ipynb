{
 "cells": [
  {
   "cell_type": "code",
   "execution_count": 1,
   "metadata": {
    "collapsed": true
   },
   "outputs": [],
   "source": [
    "from __future__ import division\n",
    "import nltk, re, pprint"
   ]
  },
  {
   "cell_type": "code",
   "execution_count": 2,
   "outputs": [
    {
     "data": {
      "text/plain": "str"
     },
     "execution_count": 2,
     "metadata": {},
     "output_type": "execute_result"
    }
   ],
   "source": [
    "from urllib.request import urlopen\n",
    "url = \"https://www.gutenberg.org/files/2554/2554-0.txt\"\n",
    "raw = urlopen(url).read().decode(\"utf-8\")\n",
    "type(raw)"
   ],
   "metadata": {
    "collapsed": false,
    "pycharm": {
     "name": "#%%\n"
    }
   }
  },
  {
   "cell_type": "code",
   "execution_count": 3,
   "outputs": [
    {
     "data": {
      "text/plain": "1176967"
     },
     "execution_count": 3,
     "metadata": {},
     "output_type": "execute_result"
    }
   ],
   "source": [
    "len(raw)"
   ],
   "metadata": {
    "collapsed": false,
    "pycharm": {
     "name": "#%%\n"
    }
   }
  },
  {
   "cell_type": "code",
   "execution_count": 4,
   "outputs": [
    {
     "data": {
      "text/plain": "'\\ufeffThe Project Gutenberg EBook of Crime and Punishment, by Fyodor Dostoevsky\\r'"
     },
     "execution_count": 4,
     "metadata": {},
     "output_type": "execute_result"
    }
   ],
   "source": [
    "raw[:75]"
   ],
   "metadata": {
    "collapsed": false,
    "pycharm": {
     "name": "#%%\n"
    }
   }
  },
  {
   "cell_type": "code",
   "execution_count": null,
   "outputs": [],
   "source": [
    "proxies = {'http': 'http://www.someproxy.com:3128'}"
   ],
   "metadata": {
    "collapsed": false,
    "pycharm": {
     "name": "#%%\n"
    }
   }
  },
  {
   "cell_type": "code",
   "execution_count": null,
   "outputs": [],
   "source": [
    "raw = urlopen(url, proxies=proxies).read()"
   ],
   "metadata": {
    "collapsed": false,
    "pycharm": {
     "name": "#%%\n"
    }
   }
  },
  {
   "cell_type": "code",
   "execution_count": 5,
   "outputs": [
    {
     "data": {
      "text/plain": "list"
     },
     "execution_count": 5,
     "metadata": {},
     "output_type": "execute_result"
    }
   ],
   "source": [
    "tokens = nltk.word_tokenize(raw)\n",
    "type(tokens)"
   ],
   "metadata": {
    "collapsed": false,
    "pycharm": {
     "name": "#%%\n"
    }
   }
  },
  {
   "cell_type": "code",
   "execution_count": 6,
   "outputs": [
    {
     "data": {
      "text/plain": "257085"
     },
     "execution_count": 6,
     "metadata": {},
     "output_type": "execute_result"
    }
   ],
   "source": [
    "len(tokens)"
   ],
   "metadata": {
    "collapsed": false,
    "pycharm": {
     "name": "#%%\n"
    }
   }
  },
  {
   "cell_type": "code",
   "execution_count": 7,
   "outputs": [
    {
     "data": {
      "text/plain": "['\\ufeffThe',\n 'Project',\n 'Gutenberg',\n 'EBook',\n 'of',\n 'Crime',\n 'and',\n 'Punishment',\n ',',\n 'by']"
     },
     "execution_count": 7,
     "metadata": {},
     "output_type": "execute_result"
    }
   ],
   "source": [
    "tokens[:10]"
   ],
   "metadata": {
    "collapsed": false,
    "pycharm": {
     "name": "#%%\n"
    }
   }
  },
  {
   "cell_type": "code",
   "execution_count": 8,
   "outputs": [
    {
     "data": {
      "text/plain": "nltk.text.Text"
     },
     "execution_count": 8,
     "metadata": {},
     "output_type": "execute_result"
    }
   ],
   "source": [
    "text = nltk.Text(tokens)\n",
    "type(text)"
   ],
   "metadata": {
    "collapsed": false,
    "pycharm": {
     "name": "#%%\n"
    }
   }
  },
  {
   "cell_type": "code",
   "execution_count": 9,
   "outputs": [
    {
     "data": {
      "text/plain": "['CRIME',\n 'AND',\n 'PUNISHMENT',\n 'PART',\n 'I',\n 'CHAPTER',\n 'I',\n 'On',\n 'an',\n 'exceptionally',\n 'hot',\n 'evening',\n 'early',\n 'in',\n 'July',\n 'a',\n 'young',\n 'man',\n 'came',\n 'out',\n 'of',\n 'the',\n 'garret',\n 'in',\n 'which',\n 'he',\n 'lodged',\n 'in',\n 'S.',\n 'Place',\n 'and',\n 'walked',\n 'slowly',\n ',',\n 'as',\n 'though',\n 'in',\n 'hesitation',\n ',',\n 'towards']"
     },
     "execution_count": 9,
     "metadata": {},
     "output_type": "execute_result"
    }
   ],
   "source": [
    "text[1020:1060]"
   ],
   "metadata": {
    "collapsed": false,
    "pycharm": {
     "name": "#%%\n"
    }
   }
  },
  {
   "cell_type": "code",
   "execution_count": 10,
   "outputs": [
    {
     "data": {
      "text/plain": "5336"
     },
     "execution_count": 10,
     "metadata": {},
     "output_type": "execute_result"
    }
   ],
   "source": [
    "raw.find(\"PART I\")"
   ],
   "metadata": {
    "collapsed": false,
    "pycharm": {
     "name": "#%%\n"
    }
   }
  },
  {
   "cell_type": "code",
   "execution_count": 11,
   "outputs": [
    {
     "data": {
      "text/plain": "-1"
     },
     "execution_count": 11,
     "metadata": {},
     "output_type": "execute_result"
    }
   ],
   "source": [
    "raw.rfind(\"End of Project Gutenberg's Crime\")"
   ],
   "metadata": {
    "collapsed": false,
    "pycharm": {
     "name": "#%%\n"
    }
   }
  },
  {
   "cell_type": "code",
   "execution_count": 12,
   "outputs": [
    {
     "data": {
      "text/plain": "33"
     },
     "execution_count": 12,
     "metadata": {},
     "output_type": "execute_result"
    }
   ],
   "source": [
    "raw = raw[5303:1157681]\n",
    "raw.find(\"PART I\")"
   ],
   "metadata": {
    "collapsed": false,
    "pycharm": {
     "name": "#%%\n"
    }
   }
  },
  {
   "cell_type": "code",
   "execution_count": 13,
   "outputs": [
    {
     "data": {
      "text/plain": "b'<!doctype html public \"-//W3C//DTD HTML 4.0 Transitional//EN'"
     },
     "execution_count": 13,
     "metadata": {},
     "output_type": "execute_result"
    }
   ],
   "source": [
    "url = \"http://news.bbc.co.uk/2/hi/health/2284783.stm\"\n",
    "html = urlopen(url).read()\n",
    "html[:60]"
   ],
   "metadata": {
    "collapsed": false,
    "pycharm": {
     "name": "#%%\n"
    }
   }
  },
  {
   "cell_type": "code",
   "execution_count": 14,
   "outputs": [
    {
     "data": {
      "text/plain": "['BBC',\n 'NEWS',\n '|',\n 'Health',\n '|',\n 'Blondes',\n \"'to\",\n 'die',\n 'out',\n 'in',\n '200',\n \"years'\",\n 'NEWS',\n 'SPORT',\n 'WEATHER',\n 'WORLD',\n 'SERVICE',\n 'A-Z',\n 'INDEX',\n 'SEARCH',\n 'You',\n 'are',\n 'in',\n ':',\n 'Health',\n 'News',\n 'Front',\n 'Page',\n 'Africa',\n 'Americas',\n 'Asia-Pacific',\n 'Europe',\n 'Middle',\n 'East',\n 'South',\n 'Asia',\n 'UK',\n 'Business',\n 'Entertainment',\n 'Science/Nature',\n 'Technology',\n 'Health',\n 'Medical',\n 'notes',\n '--',\n '--',\n '--',\n '--',\n '--',\n '--',\n '-',\n 'Talking',\n 'Point',\n '--',\n '--',\n '--',\n '--',\n '--',\n '--',\n '-',\n 'Country',\n 'Profiles',\n 'In',\n 'Depth',\n '--',\n '--',\n '--',\n '--',\n '--',\n '--',\n '-',\n 'Programmes',\n '--',\n '--',\n '--',\n '--',\n '--',\n '--',\n '-',\n 'SERVICES',\n 'Daily',\n 'E-mail',\n 'News',\n 'Ticker',\n 'Mobile/PDAs',\n '--',\n '--',\n '--',\n '--',\n '--',\n '--',\n '-',\n 'Text',\n 'Only',\n 'Feedback',\n 'Help',\n 'EDITIONS',\n 'Change',\n 'to',\n 'UK',\n 'Friday',\n ',',\n '27',\n 'September',\n ',',\n '2002',\n ',',\n '11:51',\n 'GMT',\n '12:51',\n 'UK',\n 'Blondes',\n \"'to\",\n 'die',\n 'out',\n 'in',\n '200',\n \"years'\",\n 'Scientists',\n 'believe',\n 'the',\n 'last',\n 'blondes',\n 'will',\n 'be',\n 'in',\n 'Finland',\n 'The',\n 'last',\n 'natural',\n 'blondes',\n 'will',\n 'die',\n 'out',\n 'within',\n '200',\n 'years',\n ',',\n 'scientists',\n 'believe',\n '.',\n 'A',\n 'study',\n 'by',\n 'experts',\n 'in',\n 'Germany',\n 'suggests',\n 'people',\n 'with',\n 'blonde',\n 'hair',\n 'are',\n 'an',\n 'endangered',\n 'species',\n 'and',\n 'will',\n 'become',\n 'extinct',\n 'by',\n '2202',\n '.',\n 'Researchers',\n 'predict',\n 'the',\n 'last',\n 'truly',\n 'natural',\n 'blonde',\n 'will',\n 'be',\n 'born',\n 'in',\n 'Finland',\n '-',\n 'the',\n 'country',\n 'with',\n 'the',\n 'highest',\n 'proportion',\n 'of',\n 'blondes',\n '.',\n 'The',\n 'frequency',\n 'of',\n 'blondes',\n 'may',\n 'drop',\n 'but',\n 'they',\n 'wo',\n \"n't\",\n 'disappear',\n 'Prof',\n 'Jonathan',\n 'Rees',\n ',',\n 'University',\n 'of',\n 'Edinburgh',\n 'But',\n 'they',\n 'say',\n 'too',\n 'few',\n 'people',\n 'now',\n 'carry',\n 'the',\n 'gene',\n 'for',\n 'blondes',\n 'to',\n 'last',\n 'beyond',\n 'the',\n 'next',\n 'two',\n 'centuries',\n '.',\n 'The',\n 'problem',\n 'is',\n 'that',\n 'blonde',\n 'hair',\n 'is',\n 'caused',\n 'by',\n 'a',\n 'recessive',\n 'gene',\n '.',\n 'In',\n 'order',\n 'for',\n 'a',\n 'child',\n 'to',\n 'have',\n 'blonde',\n 'hair',\n ',',\n 'it',\n 'must',\n 'have',\n 'the',\n 'gene',\n 'on',\n 'both',\n 'sides',\n 'of',\n 'the',\n 'family',\n 'in',\n 'the',\n 'grandparents',\n \"'\",\n 'generation',\n '.',\n 'Dyed',\n 'rivals',\n 'The',\n 'researchers',\n 'also',\n 'believe',\n 'that',\n 'so-called',\n 'bottle',\n 'blondes',\n 'may',\n 'be',\n 'to',\n 'blame',\n 'for',\n 'the',\n 'demise',\n 'of',\n 'their',\n 'natural',\n 'rivals',\n '.',\n 'They',\n 'suggest',\n 'that',\n 'dyed-blondes',\n 'are',\n 'more',\n 'attractive',\n 'to',\n 'men',\n 'who',\n 'choose',\n 'them',\n 'as',\n 'partners',\n 'over',\n 'true',\n 'blondes',\n '.',\n 'Bottle-blondes',\n 'like',\n 'Ann',\n 'Widdecombe',\n 'may',\n 'be',\n 'to',\n 'blame',\n 'But',\n 'Jonathan',\n 'Rees',\n ',',\n 'professor',\n 'of',\n 'dermatology',\n 'at',\n 'the',\n 'University',\n 'of',\n 'Edinburgh',\n 'said',\n 'it',\n 'was',\n 'unlikely',\n 'blondes',\n 'would',\n 'die',\n 'out',\n 'completely',\n '.',\n '``',\n 'Genes',\n 'do',\n \"n't\",\n 'die',\n 'out',\n 'unless',\n 'there',\n 'is',\n 'a',\n 'disadvantage',\n 'of',\n 'having',\n 'that',\n 'gene',\n 'or',\n 'by',\n 'chance',\n '.',\n 'They',\n 'do',\n \"n't\",\n 'disappear',\n ',',\n \"''\",\n 'he',\n 'told',\n 'BBC',\n 'News',\n 'Online',\n '.',\n '``',\n 'The',\n 'only',\n 'reason',\n 'blondes',\n 'would',\n 'disappear',\n 'is',\n 'if',\n 'having',\n 'the',\n 'gene',\n 'was',\n 'a',\n 'disadvantage',\n 'and',\n 'I',\n 'do',\n 'not',\n 'think',\n 'that',\n 'is',\n 'the',\n 'case',\n '.',\n '``',\n 'The',\n 'frequency',\n 'of',\n 'blondes',\n 'may',\n 'drop',\n 'but',\n 'they',\n 'wo',\n \"n't\",\n 'disappear',\n '.',\n \"''\",\n 'See',\n 'also',\n ':',\n '28',\n 'Mar',\n '01',\n '|',\n 'Education',\n 'What',\n 'is',\n 'it',\n 'about',\n 'blondes',\n '?',\n '09',\n 'Apr',\n '99',\n '|',\n 'Health',\n 'Platinum',\n 'blondes',\n 'are',\n 'labelled',\n 'as',\n 'dumb',\n '17',\n 'Apr',\n '02',\n '|',\n 'Health',\n 'Hair',\n 'dye',\n 'cancer',\n 'alert',\n 'Internet',\n 'links',\n ':',\n 'University',\n 'of',\n 'Edinburgh',\n 'The',\n 'BBC',\n 'is',\n 'not',\n 'responsible',\n 'for',\n 'the',\n 'content',\n 'of',\n 'external',\n 'internet',\n 'sites',\n 'Top',\n 'Health',\n 'stories',\n 'now',\n ':',\n 'Heart',\n 'risk',\n 'link',\n 'to',\n 'big',\n 'families',\n 'Back',\n 'pain',\n 'drug',\n \"'may\",\n 'aid',\n \"diabetics'\",\n 'Congo',\n 'Ebola',\n 'outbreak',\n 'confirmed',\n 'Vegetables',\n 'ward',\n 'off',\n \"Alzheimer's\",\n 'Polio',\n 'campaign',\n 'launched',\n 'in',\n 'Iraq',\n 'Gene',\n 'defect',\n 'explains',\n 'high',\n 'blood',\n 'pressure',\n 'Botox',\n \"'may\",\n 'cause',\n 'new',\n \"wrinkles'\",\n 'Alien',\n \"'abductees\",\n \"'\",\n 'show',\n 'real',\n 'symptoms',\n 'Links',\n 'to',\n 'more',\n 'Health',\n 'stories',\n 'are',\n 'at',\n 'the',\n 'foot',\n 'of',\n 'the',\n 'page',\n '.',\n 'E-mail',\n 'this',\n 'story',\n 'to',\n 'a',\n 'friend',\n 'Links',\n 'to',\n 'more',\n 'Health',\n 'stories',\n 'In',\n 'This',\n 'Section',\n 'Heart',\n 'risk',\n 'link',\n 'to',\n 'big',\n 'families',\n 'Back',\n 'pain',\n 'drug',\n \"'may\",\n 'aid',\n \"diabetics'\",\n 'Congo',\n 'Ebola',\n 'outbreak',\n 'confirmed',\n 'Vegetables',\n 'ward',\n 'off',\n \"Alzheimer's\",\n 'Polio',\n 'campaign',\n 'launched',\n 'in',\n 'Iraq',\n 'Gene',\n 'defect',\n 'explains',\n 'high',\n 'blood',\n 'pressure',\n 'Botox',\n \"'may\",\n 'cause',\n 'new',\n \"wrinkles'\",\n 'Alien',\n \"'abductees\",\n \"'\",\n 'show',\n 'real',\n 'symptoms',\n 'How',\n 'sperm',\n 'wriggle',\n 'Bollywood',\n 'told',\n 'to',\n 'stub',\n 'it',\n 'out',\n 'Fears',\n 'over',\n 'tuna',\n 'health',\n 'risk',\n 'to',\n 'babies',\n 'Public',\n 'can',\n 'be',\n 'taught',\n 'to',\n 'spot',\n 'strokes',\n '^^',\n 'Back',\n 'to',\n 'top',\n 'News',\n 'Front',\n 'Page',\n '|',\n 'Africa',\n '|',\n 'Americas',\n '|',\n 'Asia-Pacific',\n '|',\n 'Europe',\n '|',\n 'Middle',\n 'East',\n '|',\n 'South',\n 'Asia',\n '|',\n 'UK',\n '|',\n 'Business',\n '|',\n 'Entertainment',\n '|',\n 'Science/Nature',\n '|',\n 'Technology',\n '|',\n 'Health',\n '|',\n 'Talking',\n 'Point',\n '|',\n 'Country',\n 'Profiles',\n '|',\n 'In',\n 'Depth',\n '|',\n 'Programmes',\n '--',\n '--',\n '--',\n '--',\n '--',\n '--',\n '--',\n '--',\n '--',\n '--',\n '--',\n '--',\n '--',\n '--',\n '--',\n '--',\n '--',\n '--',\n '--',\n '--',\n '--',\n '--',\n '--',\n '--',\n '--',\n '--',\n '--',\n '--',\n '--',\n '--',\n '--',\n '--',\n '--',\n '--',\n '--',\n '--',\n '--',\n '--',\n '--',\n '--',\n '--',\n 'To',\n 'BBC',\n 'Sport',\n '>',\n '>',\n '|',\n 'To',\n 'BBC',\n 'Weather',\n '>',\n '>',\n '|',\n 'To',\n 'BBC',\n 'World',\n 'Service',\n '>',\n '>',\n '--',\n '--',\n '--',\n '--',\n '--',\n '--',\n '--',\n '--',\n '--',\n '--',\n '--',\n '--',\n '--',\n '--',\n '--',\n '--',\n '--',\n '--',\n '--',\n '--',\n '--',\n '--',\n '--',\n '--',\n '--',\n '--',\n '--',\n '--',\n '--',\n '--',\n '--',\n '--',\n '--',\n '--',\n '--',\n '--',\n '--',\n '--',\n '--',\n '--',\n '--',\n '©',\n 'MMIII',\n '|',\n 'News',\n 'Sources',\n '|',\n 'Privacy']"
     },
     "execution_count": 14,
     "metadata": {},
     "output_type": "execute_result"
    }
   ],
   "source": [
    "from bs4 import BeautifulSoup\n",
    "raw = BeautifulSoup(html, 'html.parser')\n",
    "tokens = nltk.word_tokenize(raw.get_text())\n",
    "tokens"
   ],
   "metadata": {
    "collapsed": false,
    "pycharm": {
     "name": "#%%\n"
    }
   }
  },
  {
   "cell_type": "code",
   "execution_count": 15,
   "outputs": [
    {
     "name": "stdout",
     "output_type": "stream",
     "text": [
      "Displaying 5 of 5 matches:\n",
      "hey say too few people now carry the gene for blondes to last beyond the next \n",
      "blonde hair is caused by a recessive gene . In order for a child to have blond\n",
      " have blonde hair , it must have the gene on both sides of the family in the g\n",
      "ere is a disadvantage of having that gene or by chance . They do n't disappear\n",
      "des would disappear is if having the gene was a disadvantage and I do not thin\n"
     ]
    }
   ],
   "source": [
    "tokens = tokens[96:399]\n",
    "text = nltk.Text(tokens)\n",
    "text.concordance('gene')"
   ],
   "metadata": {
    "collapsed": false,
    "pycharm": {
     "name": "#%%\n"
    }
   }
  },
  {
   "cell_type": "code",
   "execution_count": 16,
   "outputs": [
    {
     "ename": "AttributeError",
     "evalue": "module 'base64' has no attribute 'decodestring'",
     "output_type": "error",
     "traceback": [
      "\u001B[0;31m---------------------------------------------------------------------------\u001B[0m",
      "\u001B[0;31mAttributeError\u001B[0m                            Traceback (most recent call last)",
      "\u001B[0;32m<ipython-input-16-4efc0c4e2b5f>\u001B[0m in \u001B[0;36m<module>\u001B[0;34m\u001B[0m\n\u001B[0;32m----> 1\u001B[0;31m \u001B[0;32mimport\u001B[0m \u001B[0mfeedparser\u001B[0m\u001B[0;34m\u001B[0m\u001B[0;34m\u001B[0m\u001B[0m\n\u001B[0m\u001B[1;32m      2\u001B[0m \u001B[0mllog\u001B[0m \u001B[0;34m=\u001B[0m \u001B[0mfeedparser\u001B[0m\u001B[0;34m.\u001B[0m\u001B[0mparse\u001B[0m\u001B[0;34m(\u001B[0m\u001B[0;34m\"http://languagelog.ldc.upenn.edu/nll/?feed=atom\"\u001B[0m\u001B[0;34m)\u001B[0m\u001B[0;34m\u001B[0m\u001B[0;34m\u001B[0m\u001B[0m\n\u001B[1;32m      3\u001B[0m \u001B[0mllog\u001B[0m\u001B[0;34m[\u001B[0m\u001B[0;34m'feed'\u001B[0m\u001B[0;34m]\u001B[0m\u001B[0;34m[\u001B[0m\u001B[0;34m'title'\u001B[0m\u001B[0;34m]\u001B[0m\u001B[0;34m\u001B[0m\u001B[0;34m\u001B[0m\u001B[0m\n\u001B[1;32m      4\u001B[0m \u001B[0;34m\u001B[0m\u001B[0m\n",
      "\u001B[0;32m~/Dokumenter/Programs/miniconda3/envs/NaturalLanguageProcessingwithPython-py39/lib/python3.9/site-packages/feedparser.py\u001B[0m in \u001B[0;36m<module>\u001B[0;34m\u001B[0m\n\u001B[1;32m     91\u001B[0m \u001B[0;32melse\u001B[0m\u001B[0;34m:\u001B[0m\u001B[0;34m\u001B[0m\u001B[0;34m\u001B[0m\u001B[0m\n\u001B[1;32m     92\u001B[0m     \u001B[0;31m# Python 3.1 deprecates decodestring in favor of decodebytes\u001B[0m\u001B[0;34m\u001B[0m\u001B[0;34m\u001B[0m\u001B[0;34m\u001B[0m\u001B[0m\n\u001B[0;32m---> 93\u001B[0;31m     \u001B[0m_base64decode\u001B[0m \u001B[0;34m=\u001B[0m \u001B[0mgetattr\u001B[0m\u001B[0;34m(\u001B[0m\u001B[0mbase64\u001B[0m\u001B[0;34m,\u001B[0m \u001B[0;34m'decodebytes'\u001B[0m\u001B[0;34m,\u001B[0m \u001B[0mbase64\u001B[0m\u001B[0;34m.\u001B[0m\u001B[0mdecodestring\u001B[0m\u001B[0;34m)\u001B[0m\u001B[0;34m\u001B[0m\u001B[0;34m\u001B[0m\u001B[0m\n\u001B[0m\u001B[1;32m     94\u001B[0m \u001B[0;34m\u001B[0m\u001B[0m\n\u001B[1;32m     95\u001B[0m \u001B[0;31m# _s2bytes: convert a UTF-8 str to bytes if the interpreter is Python 3\u001B[0m\u001B[0;34m\u001B[0m\u001B[0;34m\u001B[0m\u001B[0;34m\u001B[0m\u001B[0m\n",
      "\u001B[0;31mAttributeError\u001B[0m: module 'base64' has no attribute 'decodestring'"
     ]
    }
   ],
   "source": [
    "import feedparser\n",
    "llog = feedparser.parse(\"http://languagelog.ldc.upenn.edu/nll/?feed=atom\")\n",
    "llog['feed']['title']"
   ],
   "metadata": {
    "collapsed": false,
    "pycharm": {
     "name": "#%%\n"
    }
   }
  },
  {
   "cell_type": "code",
   "execution_count": 17,
   "outputs": [
    {
     "ename": "NameError",
     "evalue": "name 'llog' is not defined",
     "output_type": "error",
     "traceback": [
      "\u001B[0;31m---------------------------------------------------------------------------\u001B[0m",
      "\u001B[0;31mNameError\u001B[0m                                 Traceback (most recent call last)",
      "\u001B[0;32m<ipython-input-17-46f1e40497bf>\u001B[0m in \u001B[0;36m<module>\u001B[0;34m\u001B[0m\n\u001B[0;32m----> 1\u001B[0;31m \u001B[0mlen\u001B[0m\u001B[0;34m(\u001B[0m\u001B[0mllog\u001B[0m\u001B[0;34m.\u001B[0m\u001B[0mentries\u001B[0m\u001B[0;34m)\u001B[0m\u001B[0;34m\u001B[0m\u001B[0;34m\u001B[0m\u001B[0m\n\u001B[0m\u001B[1;32m      2\u001B[0m \u001B[0;34m\u001B[0m\u001B[0m\n",
      "\u001B[0;31mNameError\u001B[0m: name 'llog' is not defined"
     ]
    }
   ],
   "source": [
    "len(llog.entries)"
   ],
   "metadata": {
    "collapsed": false,
    "pycharm": {
     "name": "#%%\n"
    }
   }
  },
  {
   "cell_type": "code",
   "execution_count": 18,
   "outputs": [
    {
     "ename": "NameError",
     "evalue": "name 'llog' is not defined",
     "output_type": "error",
     "traceback": [
      "\u001B[0;31m---------------------------------------------------------------------------\u001B[0m",
      "\u001B[0;31mNameError\u001B[0m                                 Traceback (most recent call last)",
      "\u001B[0;32m<ipython-input-18-4ff517937459>\u001B[0m in \u001B[0;36m<module>\u001B[0;34m\u001B[0m\n\u001B[0;32m----> 1\u001B[0;31m \u001B[0mpost\u001B[0m \u001B[0;34m=\u001B[0m \u001B[0mllog\u001B[0m\u001B[0;34m.\u001B[0m\u001B[0mentries\u001B[0m\u001B[0;34m[\u001B[0m\u001B[0;36m2\u001B[0m\u001B[0;34m]\u001B[0m\u001B[0;34m\u001B[0m\u001B[0;34m\u001B[0m\u001B[0m\n\u001B[0m\u001B[1;32m      2\u001B[0m \u001B[0mpost\u001B[0m\u001B[0;34m.\u001B[0m\u001B[0mtitle\u001B[0m\u001B[0;34m\u001B[0m\u001B[0;34m\u001B[0m\u001B[0m\n\u001B[1;32m      3\u001B[0m \u001B[0;34m\u001B[0m\u001B[0m\n",
      "\u001B[0;31mNameError\u001B[0m: name 'llog' is not defined"
     ]
    }
   ],
   "source": [
    "post = llog.entries[2]\n",
    "post.title"
   ],
   "metadata": {
    "collapsed": false,
    "pycharm": {
     "name": "#%%\n"
    }
   }
  },
  {
   "cell_type": "code",
   "execution_count": 19,
   "outputs": [
    {
     "ename": "NameError",
     "evalue": "name 'post' is not defined",
     "output_type": "error",
     "traceback": [
      "\u001B[0;31m---------------------------------------------------------------------------\u001B[0m",
      "\u001B[0;31mNameError\u001B[0m                                 Traceback (most recent call last)",
      "\u001B[0;32m<ipython-input-19-54810f49ad14>\u001B[0m in \u001B[0;36m<module>\u001B[0;34m\u001B[0m\n\u001B[0;32m----> 1\u001B[0;31m \u001B[0mcontent\u001B[0m \u001B[0;34m=\u001B[0m \u001B[0mpost\u001B[0m\u001B[0;34m.\u001B[0m\u001B[0mcontent\u001B[0m\u001B[0;34m[\u001B[0m\u001B[0;36m0\u001B[0m\u001B[0;34m]\u001B[0m\u001B[0;34m.\u001B[0m\u001B[0mvalue\u001B[0m\u001B[0;34m\u001B[0m\u001B[0;34m\u001B[0m\u001B[0m\n\u001B[0m\u001B[1;32m      2\u001B[0m \u001B[0mcontent\u001B[0m\u001B[0;34m[\u001B[0m\u001B[0;34m:\u001B[0m\u001B[0;36m70\u001B[0m\u001B[0;34m]\u001B[0m\u001B[0;34m\u001B[0m\u001B[0;34m\u001B[0m\u001B[0m\n\u001B[1;32m      3\u001B[0m \u001B[0;34m\u001B[0m\u001B[0m\n",
      "\u001B[0;31mNameError\u001B[0m: name 'post' is not defined"
     ]
    }
   ],
   "source": [
    "content = post.content[0].value\n",
    "content[:70]"
   ],
   "metadata": {
    "collapsed": false,
    "pycharm": {
     "name": "#%%\n"
    }
   }
  },
  {
   "cell_type": "code",
   "execution_count": 20,
   "outputs": [
    {
     "ename": "NameError",
     "evalue": "name 'content' is not defined",
     "output_type": "error",
     "traceback": [
      "\u001B[0;31m---------------------------------------------------------------------------\u001B[0m",
      "\u001B[0;31mNameError\u001B[0m                                 Traceback (most recent call last)",
      "\u001B[0;32m<ipython-input-20-1f894c696594>\u001B[0m in \u001B[0;36m<module>\u001B[0;34m\u001B[0m\n\u001B[0;32m----> 1\u001B[0;31m \u001B[0mraw2\u001B[0m \u001B[0;34m=\u001B[0m \u001B[0mBeautifulSoup\u001B[0m\u001B[0;34m(\u001B[0m\u001B[0mcontent\u001B[0m\u001B[0;34m,\u001B[0m \u001B[0;34m'html.parser'\u001B[0m\u001B[0;34m)\u001B[0m\u001B[0;34m\u001B[0m\u001B[0;34m\u001B[0m\u001B[0m\n\u001B[0m\u001B[1;32m      2\u001B[0m \u001B[0mnltk\u001B[0m\u001B[0;34m.\u001B[0m\u001B[0mword_tokenize\u001B[0m\u001B[0;34m(\u001B[0m\u001B[0mraw2\u001B[0m\u001B[0;34m.\u001B[0m\u001B[0mget_text\u001B[0m\u001B[0;34m(\u001B[0m\u001B[0;34m)\u001B[0m\u001B[0;34m)\u001B[0m\u001B[0;34m\u001B[0m\u001B[0;34m\u001B[0m\u001B[0m\n\u001B[1;32m      3\u001B[0m \u001B[0mnltk\u001B[0m\u001B[0;34m.\u001B[0m\u001B[0mword_tokenize\u001B[0m\u001B[0;34m(\u001B[0m\u001B[0mnltk\u001B[0m\u001B[0;34m.\u001B[0m\u001B[0mclean_html\u001B[0m\u001B[0;34m(\u001B[0m\u001B[0mllog\u001B[0m\u001B[0;34m.\u001B[0m\u001B[0mentries\u001B[0m\u001B[0;34m[\u001B[0m\u001B[0;36m2\u001B[0m\u001B[0;34m]\u001B[0m\u001B[0;34m.\u001B[0m\u001B[0mcontent\u001B[0m\u001B[0;34m[\u001B[0m\u001B[0;36m0\u001B[0m\u001B[0;34m]\u001B[0m\u001B[0;34m.\u001B[0m\u001B[0mvalue\u001B[0m\u001B[0;34m)\u001B[0m\u001B[0;34m)\u001B[0m\u001B[0;34m\u001B[0m\u001B[0;34m\u001B[0m\u001B[0m\n\u001B[1;32m      4\u001B[0m \u001B[0;34m\u001B[0m\u001B[0m\n",
      "\u001B[0;31mNameError\u001B[0m: name 'content' is not defined"
     ]
    }
   ],
   "source": [
    "raw2 = BeautifulSoup(content, 'html.parser')\n",
    "nltk.word_tokenize(raw2.get_text())\n",
    "nltk.word_tokenize(nltk.clean_html(llog.entries[2].content[0].value))"
   ],
   "metadata": {
    "collapsed": false,
    "pycharm": {
     "name": "#%%\n"
    }
   }
  },
  {
   "cell_type": "code",
   "execution_count": 21,
   "outputs": [],
   "source": [
    "f = open('document.txt')\n",
    "raw = f.read()"
   ],
   "metadata": {
    "collapsed": false,
    "pycharm": {
     "name": "#%%\n"
    }
   }
  },
  {
   "cell_type": "code",
   "execution_count": 22,
   "outputs": [],
   "source": [
    "f = open('document.txt')"
   ],
   "metadata": {
    "collapsed": false,
    "pycharm": {
     "name": "#%%\n"
    }
   }
  },
  {
   "cell_type": "code",
   "execution_count": 23,
   "outputs": [
    {
     "data": {
      "text/plain": "['Chapter-3.ipynb', 'document.txt']"
     },
     "execution_count": 23,
     "metadata": {},
     "output_type": "execute_result"
    }
   ],
   "source": [
    "import os\n",
    "os.listdir('.')"
   ],
   "metadata": {
    "collapsed": false,
    "pycharm": {
     "name": "#%%\n"
    }
   }
  },
  {
   "cell_type": "code",
   "execution_count": 24,
   "outputs": [
    {
     "data": {
      "text/plain": "'                    GNU GENERAL PUBLIC LICENSE\\n                       Version 3, 29 June 2007\\n\\n Copyright (C) 2007 Free Software Foundation, Inc. <https://fsf.org/>\\n Everyone is permitted to copy and distribute verbatim copies\\n of this license document, but changing it is not allowed.\\n\\n                            Preamble\\n\\n  The GNU General Public License is a free, copyleft license for\\nsoftware and other kinds of works.\\n\\n  The licenses for most software and other practical works are designed\\nto take away your freedom to share and change the works.  By contrast,\\nthe GNU General Public License is intended to guarantee your freedom to\\nshare and change all versions of a program--to make sure it remains free\\nsoftware for all its users.  We, the Free Software Foundation, use the\\nGNU General Public License for most of our software; it applies also to\\nany other work released this way by its authors.  You can apply it to\\nyour programs, too.\\n\\n  When we speak of free software, we are referring to freedom, not\\nprice.  Our General Public Licenses are designed to make sure that you\\nhave the freedom to distribute copies of free software (and charge for\\nthem if you wish), that you receive source code or can get it if you\\nwant it, that you can change the software or use pieces of it in new\\nfree programs, and that you know you can do these things.\\n\\n  To protect your rights, we need to prevent others from denying you\\nthese rights or asking you to surrender the rights.  Therefore, you have\\ncertain responsibilities if you distribute copies of the software, or if\\nyou modify it: responsibilities to respect the freedom of others.\\n\\n  For example, if you distribute copies of such a program, whether\\ngratis or for a fee, you must pass on to the recipients the same\\nfreedoms that you received.  You must make sure that they, too, receive\\nor can get the source code.  And you must show them these terms so they\\nknow their rights.\\n\\n  Developers that use the GNU GPL protect your rights with two steps:\\n(1) assert copyright on the software, and (2) offer you this License\\ngiving you legal permission to copy, distribute and/or modify it.\\n\\n  For the developers\\' and authors\\' protection, the GPL clearly explains\\nthat there is no warranty for this free software.  For both users\\' and\\nauthors\\' sake, the GPL requires that modified versions be marked as\\nchanged, so that their problems will not be attributed erroneously to\\nauthors of previous versions.\\n\\n  Some devices are designed to deny users access to install or run\\nmodified versions of the software inside them, although the manufacturer\\ncan do so.  This is fundamentally incompatible with the aim of\\nprotecting users\\' freedom to change the software.  The systematic\\npattern of such abuse occurs in the area of products for individuals to\\nuse, which is precisely where it is most unacceptable.  Therefore, we\\nhave designed this version of the GPL to prohibit the practice for those\\nproducts.  If such problems arise substantially in other domains, we\\nstand ready to extend this provision to those domains in future versions\\nof the GPL, as needed to protect the freedom of users.\\n\\n  Finally, every program is threatened constantly by software patents.\\nStates should not allow patents to restrict development and use of\\nsoftware on general-purpose computers, but in those that do, we wish to\\navoid the special danger that patents applied to a free program could\\nmake it effectively proprietary.  To prevent this, the GPL assures that\\npatents cannot be used to render the program non-free.\\n\\n  The precise terms and conditions for copying, distribution and\\nmodification follow.\\n\\n                       TERMS AND CONDITIONS\\n\\n  0. Definitions.\\n\\n  \"This License\" refers to version 3 of the GNU General Public License.\\n\\n  \"Copyright\" also means copyright-like laws that apply to other kinds of\\nworks, such as semiconductor masks.\\n\\n  \"The Program\" refers to any copyrightable work licensed under this\\nLicense.  Each licensee is addressed as \"you\".  \"Licensees\" and\\n\"recipients\" may be individuals or organizations.\\n\\n  To \"modify\" a work means to copy from or adapt all or part of the work\\nin a fashion requiring copyright permission, other than the making of an\\nexact copy.  The resulting work is called a \"modified version\" of the\\nearlier work or a work \"based on\" the earlier work.\\n\\n  A \"covered work\" means either the unmodified Program or a work based\\non the Program.\\n\\n  To \"propagate\" a work means to do anything with it that, without\\npermission, would make you directly or secondarily liable for\\ninfringement under applicable copyright law, except executing it on a\\ncomputer or modifying a private copy.  Propagation includes copying,\\ndistribution (with or without modification), making available to the\\npublic, and in some countries other activities as well.\\n\\n  To \"convey\" a work means any kind of propagation that enables other\\nparties to make or receive copies.  Mere interaction with a user through\\na computer network, with no transfer of a copy, is not conveying.\\n\\n  An interactive user interface displays \"Appropriate Legal Notices\"\\nto the extent that it includes a convenient and prominently visible\\nfeature that (1) displays an appropriate copyright notice, and (2)\\ntells the user that there is no warranty for the work (except to the\\nextent that warranties are provided), that licensees may convey the\\nwork under this License, and how to view a copy of this License.  If\\nthe interface presents a list of user commands or options, such as a\\nmenu, a prominent item in the list meets this criterion.\\n\\n  1. Source Code.\\n\\n  The \"source code\" for a work means the preferred form of the work\\nfor making modifications to it.  \"Object code\" means any non-source\\nform of a work.\\n\\n  A \"Standard Interface\" means an interface that either is an official\\nstandard defined by a recognized standards body, or, in the case of\\ninterfaces specified for a particular programming language, one that\\nis widely used among developers working in that language.\\n\\n  The \"System Libraries\" of an executable work include anything, other\\nthan the work as a whole, that (a) is included in the normal form of\\npackaging a Major Component, but which is not part of that Major\\nComponent, and (b) serves only to enable use of the work with that\\nMajor Component, or to implement a Standard Interface for which an\\nimplementation is available to the public in source code form.  A\\n\"Major Component\", in this context, means a major essential component\\n(kernel, window system, and so on) of the specific operating system\\n(if any) on which the executable work runs, or a compiler used to\\nproduce the work, or an object code interpreter used to run it.\\n\\n  The \"Corresponding Source\" for a work in object code form means all\\nthe source code needed to generate, install, and (for an executable\\nwork) run the object code and to modify the work, including scripts to\\ncontrol those activities.  However, it does not include the work\\'s\\nSystem Libraries, or general-purpose tools or generally available free\\nprograms which are used unmodified in performing those activities but\\nwhich are not part of the work.  For example, Corresponding Source\\nincludes interface definition files associated with source files for\\nthe work, and the source code for shared libraries and dynamically\\nlinked subprograms that the work is specifically designed to require,\\nsuch as by intimate data communication or control flow between those\\nsubprograms and other parts of the work.\\n\\n  The Corresponding Source need not include anything that users\\ncan regenerate automatically from other parts of the Corresponding\\nSource.\\n\\n  The Corresponding Source for a work in source code form is that\\nsame work.\\n\\n  2. Basic Permissions.\\n\\n  All rights granted under this License are granted for the term of\\ncopyright on the Program, and are irrevocable provided the stated\\nconditions are met.  This License explicitly affirms your unlimited\\npermission to run the unmodified Program.  The output from running a\\ncovered work is covered by this License only if the output, given its\\ncontent, constitutes a covered work.  This License acknowledges your\\nrights of fair use or other equivalent, as provided by copyright law.\\n\\n  You may make, run and propagate covered works that you do not\\nconvey, without conditions so long as your license otherwise remains\\nin force.  You may convey covered works to others for the sole purpose\\nof having them make modifications exclusively for you, or provide you\\nwith facilities for running those works, provided that you comply with\\nthe terms of this License in conveying all material for which you do\\nnot control copyright.  Those thus making or running the covered works\\nfor you must do so exclusively on your behalf, under your direction\\nand control, on terms that prohibit them from making any copies of\\nyour copyrighted material outside their relationship with you.\\n\\n  Conveying under any other circumstances is permitted solely under\\nthe conditions stated below.  Sublicensing is not allowed; section 10\\nmakes it unnecessary.\\n\\n  3. Protecting Users\\' Legal Rights From Anti-Circumvention Law.\\n\\n  No covered work shall be deemed part of an effective technological\\nmeasure under any applicable law fulfilling obligations under article\\n11 of the WIPO copyright treaty adopted on 20 December 1996, or\\nsimilar laws prohibiting or restricting circumvention of such\\nmeasures.\\n\\n  When you convey a covered work, you waive any legal power to forbid\\ncircumvention of technological measures to the extent such circumvention\\nis effected by exercising rights under this License with respect to\\nthe covered work, and you disclaim any intention to limit operation or\\nmodification of the work as a means of enforcing, against the work\\'s\\nusers, your or third parties\\' legal rights to forbid circumvention of\\ntechnological measures.\\n\\n  4. Conveying Verbatim Copies.\\n\\n  You may convey verbatim copies of the Program\\'s source code as you\\nreceive it, in any medium, provided that you conspicuously and\\nappropriately publish on each copy an appropriate copyright notice;\\nkeep intact all notices stating that this License and any\\nnon-permissive terms added in accord with section 7 apply to the code;\\nkeep intact all notices of the absence of any warranty; and give all\\nrecipients a copy of this License along with the Program.\\n\\n  You may charge any price or no price for each copy that you convey,\\nand you may offer support or warranty protection for a fee.\\n\\n  5. Conveying Modified Source Versions.\\n\\n  You may convey a work based on the Program, or the modifications to\\nproduce it from the Program, in the form of source code under the\\nterms of section 4, provided that you also meet all of these conditions:\\n\\n    a) The work must carry prominent notices stating that you modified\\n    it, and giving a relevant date.\\n\\n    b) The work must carry prominent notices stating that it is\\n    released under this License and any conditions added under section\\n    7.  This requirement modifies the requirement in section 4 to\\n    \"keep intact all notices\".\\n\\n    c) You must license the entire work, as a whole, under this\\n    License to anyone who comes into possession of a copy.  This\\n    License will therefore apply, along with any applicable section 7\\n    additional terms, to the whole of the work, and all its parts,\\n    regardless of how they are packaged.  This License gives no\\n    permission to license the work in any other way, but it does not\\n    invalidate such permission if you have separately received it.\\n\\n    d) If the work has interactive user interfaces, each must display\\n    Appropriate Legal Notices; however, if the Program has interactive\\n    interfaces that do not display Appropriate Legal Notices, your\\n    work need not make them do so.\\n\\n  A compilation of a covered work with other separate and independent\\nworks, which are not by their nature extensions of the covered work,\\nand which are not combined with it such as to form a larger program,\\nin or on a volume of a storage or distribution medium, is called an\\n\"aggregate\" if the compilation and its resulting copyright are not\\nused to limit the access or legal rights of the compilation\\'s users\\nbeyond what the individual works permit.  Inclusion of a covered work\\nin an aggregate does not cause this License to apply to the other\\nparts of the aggregate.\\n\\n  6. Conveying Non-Source Forms.\\n\\n  You may convey a covered work in object code form under the terms\\nof sections 4 and 5, provided that you also convey the\\nmachine-readable Corresponding Source under the terms of this License,\\nin one of these ways:\\n\\n    a) Convey the object code in, or embodied in, a physical product\\n    (including a physical distribution medium), accompanied by the\\n    Corresponding Source fixed on a durable physical medium\\n    customarily used for software interchange.\\n\\n    b) Convey the object code in, or embodied in, a physical product\\n    (including a physical distribution medium), accompanied by a\\n    written offer, valid for at least three years and valid for as\\n    long as you offer spare parts or customer support for that product\\n    model, to give anyone who possesses the object code either (1) a\\n    copy of the Corresponding Source for all the software in the\\n    product that is covered by this License, on a durable physical\\n    medium customarily used for software interchange, for a price no\\n    more than your reasonable cost of physically performing this\\n    conveying of source, or (2) access to copy the\\n    Corresponding Source from a network server at no charge.\\n\\n    c) Convey individual copies of the object code with a copy of the\\n    written offer to provide the Corresponding Source.  This\\n    alternative is allowed only occasionally and noncommercially, and\\n    only if you received the object code with such an offer, in accord\\n    with subsection 6b.\\n\\n    d) Convey the object code by offering access from a designated\\n    place (gratis or for a charge), and offer equivalent access to the\\n    Corresponding Source in the same way through the same place at no\\n    further charge.  You need not require recipients to copy the\\n    Corresponding Source along with the object code.  If the place to\\n    copy the object code is a network server, the Corresponding Source\\n    may be on a different server (operated by you or a third party)\\n    that supports equivalent copying facilities, provided you maintain\\n    clear directions next to the object code saying where to find the\\n    Corresponding Source.  Regardless of what server hosts the\\n    Corresponding Source, you remain obligated to ensure that it is\\n    available for as long as needed to satisfy these requirements.\\n\\n    e) Convey the object code using peer-to-peer transmission, provided\\n    you inform other peers where the object code and Corresponding\\n    Source of the work are being offered to the general public at no\\n    charge under subsection 6d.\\n\\n  A separable portion of the object code, whose source code is excluded\\nfrom the Corresponding Source as a System Library, need not be\\nincluded in conveying the object code work.\\n\\n  A \"User Product\" is either (1) a \"consumer product\", which means any\\ntangible personal property which is normally used for personal, family,\\nor household purposes, or (2) anything designed or sold for incorporation\\ninto a dwelling.  In determining whether a product is a consumer product,\\ndoubtful cases shall be resolved in favor of coverage.  For a particular\\nproduct received by a particular user, \"normally used\" refers to a\\ntypical or common use of that class of product, regardless of the status\\nof the particular user or of the way in which the particular user\\nactually uses, or expects or is expected to use, the product.  A product\\nis a consumer product regardless of whether the product has substantial\\ncommercial, industrial or non-consumer uses, unless such uses represent\\nthe only significant mode of use of the product.\\n\\n  \"Installation Information\" for a User Product means any methods,\\nprocedures, authorization keys, or other information required to install\\nand execute modified versions of a covered work in that User Product from\\na modified version of its Corresponding Source.  The information must\\nsuffice to ensure that the continued functioning of the modified object\\ncode is in no case prevented or interfered with solely because\\nmodification has been made.\\n\\n  If you convey an object code work under this section in, or with, or\\nspecifically for use in, a User Product, and the conveying occurs as\\npart of a transaction in which the right of possession and use of the\\nUser Product is transferred to the recipient in perpetuity or for a\\nfixed term (regardless of how the transaction is characterized), the\\nCorresponding Source conveyed under this section must be accompanied\\nby the Installation Information.  But this requirement does not apply\\nif neither you nor any third party retains the ability to install\\nmodified object code on the User Product (for example, the work has\\nbeen installed in ROM).\\n\\n  The requirement to provide Installation Information does not include a\\nrequirement to continue to provide support service, warranty, or updates\\nfor a work that has been modified or installed by the recipient, or for\\nthe User Product in which it has been modified or installed.  Access to a\\nnetwork may be denied when the modification itself materially and\\nadversely affects the operation of the network or violates the rules and\\nprotocols for communication across the network.\\n\\n  Corresponding Source conveyed, and Installation Information provided,\\nin accord with this section must be in a format that is publicly\\ndocumented (and with an implementation available to the public in\\nsource code form), and must require no special password or key for\\nunpacking, reading or copying.\\n\\n  7. Additional Terms.\\n\\n  \"Additional permissions\" are terms that supplement the terms of this\\nLicense by making exceptions from one or more of its conditions.\\nAdditional permissions that are applicable to the entire Program shall\\nbe treated as though they were included in this License, to the extent\\nthat they are valid under applicable law.  If additional permissions\\napply only to part of the Program, that part may be used separately\\nunder those permissions, but the entire Program remains governed by\\nthis License without regard to the additional permissions.\\n\\n  When you convey a copy of a covered work, you may at your option\\nremove any additional permissions from that copy, or from any part of\\nit.  (Additional permissions may be written to require their own\\nremoval in certain cases when you modify the work.)  You may place\\nadditional permissions on material, added by you to a covered work,\\nfor which you have or can give appropriate copyright permission.\\n\\n  Notwithstanding any other provision of this License, for material you\\nadd to a covered work, you may (if authorized by the copyright holders of\\nthat material) supplement the terms of this License with terms:\\n\\n    a) Disclaiming warranty or limiting liability differently from the\\n    terms of sections 15 and 16 of this License; or\\n\\n    b) Requiring preservation of specified reasonable legal notices or\\n    author attributions in that material or in the Appropriate Legal\\n    Notices displayed by works containing it; or\\n\\n    c) Prohibiting misrepresentation of the origin of that material, or\\n    requiring that modified versions of such material be marked in\\n    reasonable ways as different from the original version; or\\n\\n    d) Limiting the use for publicity purposes of names of licensors or\\n    authors of the material; or\\n\\n    e) Declining to grant rights under trademark law for use of some\\n    trade names, trademarks, or service marks; or\\n\\n    f) Requiring indemnification of licensors and authors of that\\n    material by anyone who conveys the material (or modified versions of\\n    it) with contractual assumptions of liability to the recipient, for\\n    any liability that these contractual assumptions directly impose on\\n    those licensors and authors.\\n\\n  All other non-permissive additional terms are considered \"further\\nrestrictions\" within the meaning of section 10.  If the Program as you\\nreceived it, or any part of it, contains a notice stating that it is\\ngoverned by this License along with a term that is a further\\nrestriction, you may remove that term.  If a license document contains\\na further restriction but permits relicensing or conveying under this\\nLicense, you may add to a covered work material governed by the terms\\nof that license document, provided that the further restriction does\\nnot survive such relicensing or conveying.\\n\\n  If you add terms to a covered work in accord with this section, you\\nmust place, in the relevant source files, a statement of the\\nadditional terms that apply to those files, or a notice indicating\\nwhere to find the applicable terms.\\n\\n  Additional terms, permissive or non-permissive, may be stated in the\\nform of a separately written license, or stated as exceptions;\\nthe above requirements apply either way.\\n\\n  8. Termination.\\n\\n  You may not propagate or modify a covered work except as expressly\\nprovided under this License.  Any attempt otherwise to propagate or\\nmodify it is void, and will automatically terminate your rights under\\nthis License (including any patent licenses granted under the third\\nparagraph of section 11).\\n\\n  However, if you cease all violation of this License, then your\\nlicense from a particular copyright holder is reinstated (a)\\nprovisionally, unless and until the copyright holder explicitly and\\nfinally terminates your license, and (b) permanently, if the copyright\\nholder fails to notify you of the violation by some reasonable means\\nprior to 60 days after the cessation.\\n\\n  Moreover, your license from a particular copyright holder is\\nreinstated permanently if the copyright holder notifies you of the\\nviolation by some reasonable means, this is the first time you have\\nreceived notice of violation of this License (for any work) from that\\ncopyright holder, and you cure the violation prior to 30 days after\\nyour receipt of the notice.\\n\\n  Termination of your rights under this section does not terminate the\\nlicenses of parties who have received copies or rights from you under\\nthis License.  If your rights have been terminated and not permanently\\nreinstated, you do not qualify to receive new licenses for the same\\nmaterial under section 10.\\n\\n  9. Acceptance Not Required for Having Copies.\\n\\n  You are not required to accept this License in order to receive or\\nrun a copy of the Program.  Ancillary propagation of a covered work\\noccurring solely as a consequence of using peer-to-peer transmission\\nto receive a copy likewise does not require acceptance.  However,\\nnothing other than this License grants you permission to propagate or\\nmodify any covered work.  These actions infringe copyright if you do\\nnot accept this License.  Therefore, by modifying or propagating a\\ncovered work, you indicate your acceptance of this License to do so.\\n\\n  10. Automatic Licensing of Downstream Recipients.\\n\\n  Each time you convey a covered work, the recipient automatically\\nreceives a license from the original licensors, to run, modify and\\npropagate that work, subject to this License.  You are not responsible\\nfor enforcing compliance by third parties with this License.\\n\\n  An \"entity transaction\" is a transaction transferring control of an\\norganization, or substantially all assets of one, or subdividing an\\norganization, or merging organizations.  If propagation of a covered\\nwork results from an entity transaction, each party to that\\ntransaction who receives a copy of the work also receives whatever\\nlicenses to the work the party\\'s predecessor in interest had or could\\ngive under the previous paragraph, plus a right to possession of the\\nCorresponding Source of the work from the predecessor in interest, if\\nthe predecessor has it or can get it with reasonable efforts.\\n\\n  You may not impose any further restrictions on the exercise of the\\nrights granted or affirmed under this License.  For example, you may\\nnot impose a license fee, royalty, or other charge for exercise of\\nrights granted under this License, and you may not initiate litigation\\n(including a cross-claim or counterclaim in a lawsuit) alleging that\\nany patent claim is infringed by making, using, selling, offering for\\nsale, or importing the Program or any portion of it.\\n\\n  11. Patents.\\n\\n  A \"contributor\" is a copyright holder who authorizes use under this\\nLicense of the Program or a work on which the Program is based.  The\\nwork thus licensed is called the contributor\\'s \"contributor version\".\\n\\n  A contributor\\'s \"essential patent claims\" are all patent claims\\nowned or controlled by the contributor, whether already acquired or\\nhereafter acquired, that would be infringed by some manner, permitted\\nby this License, of making, using, or selling its contributor version,\\nbut do not include claims that would be infringed only as a\\nconsequence of further modification of the contributor version.  For\\npurposes of this definition, \"control\" includes the right to grant\\npatent sublicenses in a manner consistent with the requirements of\\nthis License.\\n\\n  Each contributor grants you a non-exclusive, worldwide, royalty-free\\npatent license under the contributor\\'s essential patent claims, to\\nmake, use, sell, offer for sale, import and otherwise run, modify and\\npropagate the contents of its contributor version.\\n\\n  In the following three paragraphs, a \"patent license\" is any express\\nagreement or commitment, however denominated, not to enforce a patent\\n(such as an express permission to practice a patent or covenant not to\\nsue for patent infringement).  To \"grant\" such a patent license to a\\nparty means to make such an agreement or commitment not to enforce a\\npatent against the party.\\n\\n  If you convey a covered work, knowingly relying on a patent license,\\nand the Corresponding Source of the work is not available for anyone\\nto copy, free of charge and under the terms of this License, through a\\npublicly available network server or other readily accessible means,\\nthen you must either (1) cause the Corresponding Source to be so\\navailable, or (2) arrange to deprive yourself of the benefit of the\\npatent license for this particular work, or (3) arrange, in a manner\\nconsistent with the requirements of this License, to extend the patent\\nlicense to downstream recipients.  \"Knowingly relying\" means you have\\nactual knowledge that, but for the patent license, your conveying the\\ncovered work in a country, or your recipient\\'s use of the covered work\\nin a country, would infringe one or more identifiable patents in that\\ncountry that you have reason to believe are valid.\\n\\n  If, pursuant to or in connection with a single transaction or\\narrangement, you convey, or propagate by procuring conveyance of, a\\ncovered work, and grant a patent license to some of the parties\\nreceiving the covered work authorizing them to use, propagate, modify\\nor convey a specific copy of the covered work, then the patent license\\nyou grant is automatically extended to all recipients of the covered\\nwork and works based on it.\\n\\n  A patent license is \"discriminatory\" if it does not include within\\nthe scope of its coverage, prohibits the exercise of, or is\\nconditioned on the non-exercise of one or more of the rights that are\\nspecifically granted under this License.  You may not convey a covered\\nwork if you are a party to an arrangement with a third party that is\\nin the business of distributing software, under which you make payment\\nto the third party based on the extent of your activity of conveying\\nthe work, and under which the third party grants, to any of the\\nparties who would receive the covered work from you, a discriminatory\\npatent license (a) in connection with copies of the covered work\\nconveyed by you (or copies made from those copies), or (b) primarily\\nfor and in connection with specific products or compilations that\\ncontain the covered work, unless you entered into that arrangement,\\nor that patent license was granted, prior to 28 March 2007.\\n\\n  Nothing in this License shall be construed as excluding or limiting\\nany implied license or other defenses to infringement that may\\notherwise be available to you under applicable patent law.\\n\\n  12. No Surrender of Others\\' Freedom.\\n\\n  If conditions are imposed on you (whether by court order, agreement or\\notherwise) that contradict the conditions of this License, they do not\\nexcuse you from the conditions of this License.  If you cannot convey a\\ncovered work so as to satisfy simultaneously your obligations under this\\nLicense and any other pertinent obligations, then as a consequence you may\\nnot convey it at all.  For example, if you agree to terms that obligate you\\nto collect a royalty for further conveying from those to whom you convey\\nthe Program, the only way you could satisfy both those terms and this\\nLicense would be to refrain entirely from conveying the Program.\\n\\n  13. Use with the GNU Affero General Public License.\\n\\n  Notwithstanding any other provision of this License, you have\\npermission to link or combine any covered work with a work licensed\\nunder version 3 of the GNU Affero General Public License into a single\\ncombined work, and to convey the resulting work.  The terms of this\\nLicense will continue to apply to the part which is the covered work,\\nbut the special requirements of the GNU Affero General Public License,\\nsection 13, concerning interaction through a network will apply to the\\ncombination as such.\\n\\n  14. Revised Versions of this License.\\n\\n  The Free Software Foundation may publish revised and/or new versions of\\nthe GNU General Public License from time to time.  Such new versions will\\nbe similar in spirit to the present version, but may differ in detail to\\naddress new problems or concerns.\\n\\n  Each version is given a distinguishing version number.  If the\\nProgram specifies that a certain numbered version of the GNU General\\nPublic License \"or any later version\" applies to it, you have the\\noption of following the terms and conditions either of that numbered\\nversion or of any later version published by the Free Software\\nFoundation.  If the Program does not specify a version number of the\\nGNU General Public License, you may choose any version ever published\\nby the Free Software Foundation.\\n\\n  If the Program specifies that a proxy can decide which future\\nversions of the GNU General Public License can be used, that proxy\\'s\\npublic statement of acceptance of a version permanently authorizes you\\nto choose that version for the Program.\\n\\n  Later license versions may give you additional or different\\npermissions.  However, no additional obligations are imposed on any\\nauthor or copyright holder as a result of your choosing to follow a\\nlater version.\\n\\n  15. Disclaimer of Warranty.\\n\\n  THERE IS NO WARRANTY FOR THE PROGRAM, TO THE EXTENT PERMITTED BY\\nAPPLICABLE LAW.  EXCEPT WHEN OTHERWISE STATED IN WRITING THE COPYRIGHT\\nHOLDERS AND/OR OTHER PARTIES PROVIDE THE PROGRAM \"AS IS\" WITHOUT WARRANTY\\nOF ANY KIND, EITHER EXPRESSED OR IMPLIED, INCLUDING, BUT NOT LIMITED TO,\\nTHE IMPLIED WARRANTIES OF MERCHANTABILITY AND FITNESS FOR A PARTICULAR\\nPURPOSE.  THE ENTIRE RISK AS TO THE QUALITY AND PERFORMANCE OF THE PROGRAM\\nIS WITH YOU.  SHOULD THE PROGRAM PROVE DEFECTIVE, YOU ASSUME THE COST OF\\nALL NECESSARY SERVICING, REPAIR OR CORRECTION.\\n\\n  16. Limitation of Liability.\\n\\n  IN NO EVENT UNLESS REQUIRED BY APPLICABLE LAW OR AGREED TO IN WRITING\\nWILL ANY COPYRIGHT HOLDER, OR ANY OTHER PARTY WHO MODIFIES AND/OR CONVEYS\\nTHE PROGRAM AS PERMITTED ABOVE, BE LIABLE TO YOU FOR DAMAGES, INCLUDING ANY\\nGENERAL, SPECIAL, INCIDENTAL OR CONSEQUENTIAL DAMAGES ARISING OUT OF THE\\nUSE OR INABILITY TO USE THE PROGRAM (INCLUDING BUT NOT LIMITED TO LOSS OF\\nDATA OR DATA BEING RENDERED INACCURATE OR LOSSES SUSTAINED BY YOU OR THIRD\\nPARTIES OR A FAILURE OF THE PROGRAM TO OPERATE WITH ANY OTHER PROGRAMS),\\nEVEN IF SUCH HOLDER OR OTHER PARTY HAS BEEN ADVISED OF THE POSSIBILITY OF\\nSUCH DAMAGES.\\n\\n  17. Interpretation of Sections 15 and 16.\\n\\n  If the disclaimer of warranty and limitation of liability provided\\nabove cannot be given local legal effect according to their terms,\\nreviewing courts shall apply local law that most closely approximates\\nan absolute waiver of all civil liability in connection with the\\nProgram, unless a warranty or assumption of liability accompanies a\\ncopy of the Program in return for a fee.\\n\\n                     END OF TERMS AND CONDITIONS\\n\\n            How to Apply These Terms to Your New Programs\\n\\n  If you develop a new program, and you want it to be of the greatest\\npossible use to the public, the best way to achieve this is to make it\\nfree software which everyone can redistribute and change under these terms.\\n\\n  To do so, attach the following notices to the program.  It is safest\\nto attach them to the start of each source file to most effectively\\nstate the exclusion of warranty; and each file should have at least\\nthe \"copyright\" line and a pointer to where the full notice is found.\\n\\n    <one line to give the program\\'s name and a brief idea of what it does.>\\n    Copyright (C) <year>  <name of author>\\n\\n    This program is free software: you can redistribute it and/or modify\\n    it under the terms of the GNU General Public License as published by\\n    the Free Software Foundation, either version 3 of the License, or\\n    (at your option) any later version.\\n\\n    This program is distributed in the hope that it will be useful,\\n    but WITHOUT ANY WARRANTY; without even the implied warranty of\\n    MERCHANTABILITY or FITNESS FOR A PARTICULAR PURPOSE.  See the\\n    GNU General Public License for more details.\\n\\n    You should have received a copy of the GNU General Public License\\n    along with this program.  If not, see <https://www.gnu.org/licenses/>.\\n\\nAlso add information on how to contact you by electronic and paper mail.\\n\\n  If the program does terminal interaction, make it output a short\\nnotice like this when it starts in an interactive mode:\\n\\n    <program>  Copyright (C) <year>  <name of author>\\n    This program comes with ABSOLUTELY NO WARRANTY; for details type `show w\\'.\\n    This is free software, and you are welcome to redistribute it\\n    under certain conditions; type `show c\\' for details.\\n\\nThe hypothetical commands `show w\\' and `show c\\' should show the appropriate\\nparts of the General Public License.  Of course, your program\\'s commands\\nmight be different; for a GUI interface, you would use an \"about box\".\\n\\n  You should also get your employer (if you work as a programmer) or school,\\nif any, to sign a \"copyright disclaimer\" for the program, if necessary.\\nFor more information on this, and how to apply and follow the GNU GPL, see\\n<https://www.gnu.org/licenses/>.\\n\\n  The GNU General Public License does not permit incorporating your program\\ninto proprietary programs.  If your program is a subroutine library, you\\nmay consider it more useful to permit linking proprietary applications with\\nthe library.  If this is what you want to do, use the GNU Lesser General\\nPublic License instead of this License.  But first, please read\\n<https://www.gnu.org/licenses/why-not-lgpl.html>.\\n'"
     },
     "execution_count": 24,
     "metadata": {},
     "output_type": "execute_result"
    }
   ],
   "source": [
    "f.read()"
   ],
   "metadata": {
    "collapsed": false,
    "pycharm": {
     "name": "#%%\n"
    }
   }
  },
  {
   "cell_type": "code",
   "execution_count": 25,
   "outputs": [
    {
     "name": "stdout",
     "output_type": "stream",
     "text": [
      "GNU GENERAL PUBLIC LICENSE\n",
      "Version 3, 29 June 2007\n",
      "\n",
      "Copyright (C) 2007 Free Software Foundation, Inc. <https://fsf.org/>\n",
      "Everyone is permitted to copy and distribute verbatim copies\n",
      "of this license document, but changing it is not allowed.\n",
      "\n",
      "Preamble\n",
      "\n",
      "The GNU General Public License is a free, copyleft license for\n",
      "software and other kinds of works.\n",
      "\n",
      "The licenses for most software and other practical works are designed\n",
      "to take away your freedom to share and change the works.  By contrast,\n",
      "the GNU General Public License is intended to guarantee your freedom to\n",
      "share and change all versions of a program--to make sure it remains free\n",
      "software for all its users.  We, the Free Software Foundation, use the\n",
      "GNU General Public License for most of our software; it applies also to\n",
      "any other work released this way by its authors.  You can apply it to\n",
      "your programs, too.\n",
      "\n",
      "When we speak of free software, we are referring to freedom, not\n",
      "price.  Our General Public Licenses are designed to make sure that you\n",
      "have the freedom to distribute copies of free software (and charge for\n",
      "them if you wish), that you receive source code or can get it if you\n",
      "want it, that you can change the software or use pieces of it in new\n",
      "free programs, and that you know you can do these things.\n",
      "\n",
      "To protect your rights, we need to prevent others from denying you\n",
      "these rights or asking you to surrender the rights.  Therefore, you have\n",
      "certain responsibilities if you distribute copies of the software, or if\n",
      "you modify it: responsibilities to respect the freedom of others.\n",
      "\n",
      "For example, if you distribute copies of such a program, whether\n",
      "gratis or for a fee, you must pass on to the recipients the same\n",
      "freedoms that you received.  You must make sure that they, too, receive\n",
      "or can get the source code.  And you must show them these terms so they\n",
      "know their rights.\n",
      "\n",
      "Developers that use the GNU GPL protect your rights with two steps:\n",
      "(1) assert copyright on the software, and (2) offer you this License\n",
      "giving you legal permission to copy, distribute and/or modify it.\n",
      "\n",
      "For the developers' and authors' protection, the GPL clearly explains\n",
      "that there is no warranty for this free software.  For both users' and\n",
      "authors' sake, the GPL requires that modified versions be marked as\n",
      "changed, so that their problems will not be attributed erroneously to\n",
      "authors of previous versions.\n",
      "\n",
      "Some devices are designed to deny users access to install or run\n",
      "modified versions of the software inside them, although the manufacturer\n",
      "can do so.  This is fundamentally incompatible with the aim of\n",
      "protecting users' freedom to change the software.  The systematic\n",
      "pattern of such abuse occurs in the area of products for individuals to\n",
      "use, which is precisely where it is most unacceptable.  Therefore, we\n",
      "have designed this version of the GPL to prohibit the practice for those\n",
      "products.  If such problems arise substantially in other domains, we\n",
      "stand ready to extend this provision to those domains in future versions\n",
      "of the GPL, as needed to protect the freedom of users.\n",
      "\n",
      "Finally, every program is threatened constantly by software patents.\n",
      "States should not allow patents to restrict development and use of\n",
      "software on general-purpose computers, but in those that do, we wish to\n",
      "avoid the special danger that patents applied to a free program could\n",
      "make it effectively proprietary.  To prevent this, the GPL assures that\n",
      "patents cannot be used to render the program non-free.\n",
      "\n",
      "The precise terms and conditions for copying, distribution and\n",
      "modification follow.\n",
      "\n",
      "TERMS AND CONDITIONS\n",
      "\n",
      "0. Definitions.\n",
      "\n",
      "\"This License\" refers to version 3 of the GNU General Public License.\n",
      "\n",
      "\"Copyright\" also means copyright-like laws that apply to other kinds of\n",
      "works, such as semiconductor masks.\n",
      "\n",
      "\"The Program\" refers to any copyrightable work licensed under this\n",
      "License.  Each licensee is addressed as \"you\".  \"Licensees\" and\n",
      "\"recipients\" may be individuals or organizations.\n",
      "\n",
      "To \"modify\" a work means to copy from or adapt all or part of the work\n",
      "in a fashion requiring copyright permission, other than the making of an\n",
      "exact copy.  The resulting work is called a \"modified version\" of the\n",
      "earlier work or a work \"based on\" the earlier work.\n",
      "\n",
      "A \"covered work\" means either the unmodified Program or a work based\n",
      "on the Program.\n",
      "\n",
      "To \"propagate\" a work means to do anything with it that, without\n",
      "permission, would make you directly or secondarily liable for\n",
      "infringement under applicable copyright law, except executing it on a\n",
      "computer or modifying a private copy.  Propagation includes copying,\n",
      "distribution (with or without modification), making available to the\n",
      "public, and in some countries other activities as well.\n",
      "\n",
      "To \"convey\" a work means any kind of propagation that enables other\n",
      "parties to make or receive copies.  Mere interaction with a user through\n",
      "a computer network, with no transfer of a copy, is not conveying.\n",
      "\n",
      "An interactive user interface displays \"Appropriate Legal Notices\"\n",
      "to the extent that it includes a convenient and prominently visible\n",
      "feature that (1) displays an appropriate copyright notice, and (2)\n",
      "tells the user that there is no warranty for the work (except to the\n",
      "extent that warranties are provided), that licensees may convey the\n",
      "work under this License, and how to view a copy of this License.  If\n",
      "the interface presents a list of user commands or options, such as a\n",
      "menu, a prominent item in the list meets this criterion.\n",
      "\n",
      "1. Source Code.\n",
      "\n",
      "The \"source code\" for a work means the preferred form of the work\n",
      "for making modifications to it.  \"Object code\" means any non-source\n",
      "form of a work.\n",
      "\n",
      "A \"Standard Interface\" means an interface that either is an official\n",
      "standard defined by a recognized standards body, or, in the case of\n",
      "interfaces specified for a particular programming language, one that\n",
      "is widely used among developers working in that language.\n",
      "\n",
      "The \"System Libraries\" of an executable work include anything, other\n",
      "than the work as a whole, that (a) is included in the normal form of\n",
      "packaging a Major Component, but which is not part of that Major\n",
      "Component, and (b) serves only to enable use of the work with that\n",
      "Major Component, or to implement a Standard Interface for which an\n",
      "implementation is available to the public in source code form.  A\n",
      "\"Major Component\", in this context, means a major essential component\n",
      "(kernel, window system, and so on) of the specific operating system\n",
      "(if any) on which the executable work runs, or a compiler used to\n",
      "produce the work, or an object code interpreter used to run it.\n",
      "\n",
      "The \"Corresponding Source\" for a work in object code form means all\n",
      "the source code needed to generate, install, and (for an executable\n",
      "work) run the object code and to modify the work, including scripts to\n",
      "control those activities.  However, it does not include the work's\n",
      "System Libraries, or general-purpose tools or generally available free\n",
      "programs which are used unmodified in performing those activities but\n",
      "which are not part of the work.  For example, Corresponding Source\n",
      "includes interface definition files associated with source files for\n",
      "the work, and the source code for shared libraries and dynamically\n",
      "linked subprograms that the work is specifically designed to require,\n",
      "such as by intimate data communication or control flow between those\n",
      "subprograms and other parts of the work.\n",
      "\n",
      "The Corresponding Source need not include anything that users\n",
      "can regenerate automatically from other parts of the Corresponding\n",
      "Source.\n",
      "\n",
      "The Corresponding Source for a work in source code form is that\n",
      "same work.\n",
      "\n",
      "2. Basic Permissions.\n",
      "\n",
      "All rights granted under this License are granted for the term of\n",
      "copyright on the Program, and are irrevocable provided the stated\n",
      "conditions are met.  This License explicitly affirms your unlimited\n",
      "permission to run the unmodified Program.  The output from running a\n",
      "covered work is covered by this License only if the output, given its\n",
      "content, constitutes a covered work.  This License acknowledges your\n",
      "rights of fair use or other equivalent, as provided by copyright law.\n",
      "\n",
      "You may make, run and propagate covered works that you do not\n",
      "convey, without conditions so long as your license otherwise remains\n",
      "in force.  You may convey covered works to others for the sole purpose\n",
      "of having them make modifications exclusively for you, or provide you\n",
      "with facilities for running those works, provided that you comply with\n",
      "the terms of this License in conveying all material for which you do\n",
      "not control copyright.  Those thus making or running the covered works\n",
      "for you must do so exclusively on your behalf, under your direction\n",
      "and control, on terms that prohibit them from making any copies of\n",
      "your copyrighted material outside their relationship with you.\n",
      "\n",
      "Conveying under any other circumstances is permitted solely under\n",
      "the conditions stated below.  Sublicensing is not allowed; section 10\n",
      "makes it unnecessary.\n",
      "\n",
      "3. Protecting Users' Legal Rights From Anti-Circumvention Law.\n",
      "\n",
      "No covered work shall be deemed part of an effective technological\n",
      "measure under any applicable law fulfilling obligations under article\n",
      "11 of the WIPO copyright treaty adopted on 20 December 1996, or\n",
      "similar laws prohibiting or restricting circumvention of such\n",
      "measures.\n",
      "\n",
      "When you convey a covered work, you waive any legal power to forbid\n",
      "circumvention of technological measures to the extent such circumvention\n",
      "is effected by exercising rights under this License with respect to\n",
      "the covered work, and you disclaim any intention to limit operation or\n",
      "modification of the work as a means of enforcing, against the work's\n",
      "users, your or third parties' legal rights to forbid circumvention of\n",
      "technological measures.\n",
      "\n",
      "4. Conveying Verbatim Copies.\n",
      "\n",
      "You may convey verbatim copies of the Program's source code as you\n",
      "receive it, in any medium, provided that you conspicuously and\n",
      "appropriately publish on each copy an appropriate copyright notice;\n",
      "keep intact all notices stating that this License and any\n",
      "non-permissive terms added in accord with section 7 apply to the code;\n",
      "keep intact all notices of the absence of any warranty; and give all\n",
      "recipients a copy of this License along with the Program.\n",
      "\n",
      "You may charge any price or no price for each copy that you convey,\n",
      "and you may offer support or warranty protection for a fee.\n",
      "\n",
      "5. Conveying Modified Source Versions.\n",
      "\n",
      "You may convey a work based on the Program, or the modifications to\n",
      "produce it from the Program, in the form of source code under the\n",
      "terms of section 4, provided that you also meet all of these conditions:\n",
      "\n",
      "a) The work must carry prominent notices stating that you modified\n",
      "it, and giving a relevant date.\n",
      "\n",
      "b) The work must carry prominent notices stating that it is\n",
      "released under this License and any conditions added under section\n",
      "7.  This requirement modifies the requirement in section 4 to\n",
      "\"keep intact all notices\".\n",
      "\n",
      "c) You must license the entire work, as a whole, under this\n",
      "License to anyone who comes into possession of a copy.  This\n",
      "License will therefore apply, along with any applicable section 7\n",
      "additional terms, to the whole of the work, and all its parts,\n",
      "regardless of how they are packaged.  This License gives no\n",
      "permission to license the work in any other way, but it does not\n",
      "invalidate such permission if you have separately received it.\n",
      "\n",
      "d) If the work has interactive user interfaces, each must display\n",
      "Appropriate Legal Notices; however, if the Program has interactive\n",
      "interfaces that do not display Appropriate Legal Notices, your\n",
      "work need not make them do so.\n",
      "\n",
      "A compilation of a covered work with other separate and independent\n",
      "works, which are not by their nature extensions of the covered work,\n",
      "and which are not combined with it such as to form a larger program,\n",
      "in or on a volume of a storage or distribution medium, is called an\n",
      "\"aggregate\" if the compilation and its resulting copyright are not\n",
      "used to limit the access or legal rights of the compilation's users\n",
      "beyond what the individual works permit.  Inclusion of a covered work\n",
      "in an aggregate does not cause this License to apply to the other\n",
      "parts of the aggregate.\n",
      "\n",
      "6. Conveying Non-Source Forms.\n",
      "\n",
      "You may convey a covered work in object code form under the terms\n",
      "of sections 4 and 5, provided that you also convey the\n",
      "machine-readable Corresponding Source under the terms of this License,\n",
      "in one of these ways:\n",
      "\n",
      "a) Convey the object code in, or embodied in, a physical product\n",
      "(including a physical distribution medium), accompanied by the\n",
      "Corresponding Source fixed on a durable physical medium\n",
      "customarily used for software interchange.\n",
      "\n",
      "b) Convey the object code in, or embodied in, a physical product\n",
      "(including a physical distribution medium), accompanied by a\n",
      "written offer, valid for at least three years and valid for as\n",
      "long as you offer spare parts or customer support for that product\n",
      "model, to give anyone who possesses the object code either (1) a\n",
      "copy of the Corresponding Source for all the software in the\n",
      "product that is covered by this License, on a durable physical\n",
      "medium customarily used for software interchange, for a price no\n",
      "more than your reasonable cost of physically performing this\n",
      "conveying of source, or (2) access to copy the\n",
      "Corresponding Source from a network server at no charge.\n",
      "\n",
      "c) Convey individual copies of the object code with a copy of the\n",
      "written offer to provide the Corresponding Source.  This\n",
      "alternative is allowed only occasionally and noncommercially, and\n",
      "only if you received the object code with such an offer, in accord\n",
      "with subsection 6b.\n",
      "\n",
      "d) Convey the object code by offering access from a designated\n",
      "place (gratis or for a charge), and offer equivalent access to the\n",
      "Corresponding Source in the same way through the same place at no\n",
      "further charge.  You need not require recipients to copy the\n",
      "Corresponding Source along with the object code.  If the place to\n",
      "copy the object code is a network server, the Corresponding Source\n",
      "may be on a different server (operated by you or a third party)\n",
      "that supports equivalent copying facilities, provided you maintain\n",
      "clear directions next to the object code saying where to find the\n",
      "Corresponding Source.  Regardless of what server hosts the\n",
      "Corresponding Source, you remain obligated to ensure that it is\n",
      "available for as long as needed to satisfy these requirements.\n",
      "\n",
      "e) Convey the object code using peer-to-peer transmission, provided\n",
      "you inform other peers where the object code and Corresponding\n",
      "Source of the work are being offered to the general public at no\n",
      "charge under subsection 6d.\n",
      "\n",
      "A separable portion of the object code, whose source code is excluded\n",
      "from the Corresponding Source as a System Library, need not be\n",
      "included in conveying the object code work.\n",
      "\n",
      "A \"User Product\" is either (1) a \"consumer product\", which means any\n",
      "tangible personal property which is normally used for personal, family,\n",
      "or household purposes, or (2) anything designed or sold for incorporation\n",
      "into a dwelling.  In determining whether a product is a consumer product,\n",
      "doubtful cases shall be resolved in favor of coverage.  For a particular\n",
      "product received by a particular user, \"normally used\" refers to a\n",
      "typical or common use of that class of product, regardless of the status\n",
      "of the particular user or of the way in which the particular user\n",
      "actually uses, or expects or is expected to use, the product.  A product\n",
      "is a consumer product regardless of whether the product has substantial\n",
      "commercial, industrial or non-consumer uses, unless such uses represent\n",
      "the only significant mode of use of the product.\n",
      "\n",
      "\"Installation Information\" for a User Product means any methods,\n",
      "procedures, authorization keys, or other information required to install\n",
      "and execute modified versions of a covered work in that User Product from\n",
      "a modified version of its Corresponding Source.  The information must\n",
      "suffice to ensure that the continued functioning of the modified object\n",
      "code is in no case prevented or interfered with solely because\n",
      "modification has been made.\n",
      "\n",
      "If you convey an object code work under this section in, or with, or\n",
      "specifically for use in, a User Product, and the conveying occurs as\n",
      "part of a transaction in which the right of possession and use of the\n",
      "User Product is transferred to the recipient in perpetuity or for a\n",
      "fixed term (regardless of how the transaction is characterized), the\n",
      "Corresponding Source conveyed under this section must be accompanied\n",
      "by the Installation Information.  But this requirement does not apply\n",
      "if neither you nor any third party retains the ability to install\n",
      "modified object code on the User Product (for example, the work has\n",
      "been installed in ROM).\n",
      "\n",
      "The requirement to provide Installation Information does not include a\n",
      "requirement to continue to provide support service, warranty, or updates\n",
      "for a work that has been modified or installed by the recipient, or for\n",
      "the User Product in which it has been modified or installed.  Access to a\n",
      "network may be denied when the modification itself materially and\n",
      "adversely affects the operation of the network or violates the rules and\n",
      "protocols for communication across the network.\n",
      "\n",
      "Corresponding Source conveyed, and Installation Information provided,\n",
      "in accord with this section must be in a format that is publicly\n",
      "documented (and with an implementation available to the public in\n",
      "source code form), and must require no special password or key for\n",
      "unpacking, reading or copying.\n",
      "\n",
      "7. Additional Terms.\n",
      "\n",
      "\"Additional permissions\" are terms that supplement the terms of this\n",
      "License by making exceptions from one or more of its conditions.\n",
      "Additional permissions that are applicable to the entire Program shall\n",
      "be treated as though they were included in this License, to the extent\n",
      "that they are valid under applicable law.  If additional permissions\n",
      "apply only to part of the Program, that part may be used separately\n",
      "under those permissions, but the entire Program remains governed by\n",
      "this License without regard to the additional permissions.\n",
      "\n",
      "When you convey a copy of a covered work, you may at your option\n",
      "remove any additional permissions from that copy, or from any part of\n",
      "it.  (Additional permissions may be written to require their own\n",
      "removal in certain cases when you modify the work.)  You may place\n",
      "additional permissions on material, added by you to a covered work,\n",
      "for which you have or can give appropriate copyright permission.\n",
      "\n",
      "Notwithstanding any other provision of this License, for material you\n",
      "add to a covered work, you may (if authorized by the copyright holders of\n",
      "that material) supplement the terms of this License with terms:\n",
      "\n",
      "a) Disclaiming warranty or limiting liability differently from the\n",
      "terms of sections 15 and 16 of this License; or\n",
      "\n",
      "b) Requiring preservation of specified reasonable legal notices or\n",
      "author attributions in that material or in the Appropriate Legal\n",
      "Notices displayed by works containing it; or\n",
      "\n",
      "c) Prohibiting misrepresentation of the origin of that material, or\n",
      "requiring that modified versions of such material be marked in\n",
      "reasonable ways as different from the original version; or\n",
      "\n",
      "d) Limiting the use for publicity purposes of names of licensors or\n",
      "authors of the material; or\n",
      "\n",
      "e) Declining to grant rights under trademark law for use of some\n",
      "trade names, trademarks, or service marks; or\n",
      "\n",
      "f) Requiring indemnification of licensors and authors of that\n",
      "material by anyone who conveys the material (or modified versions of\n",
      "it) with contractual assumptions of liability to the recipient, for\n",
      "any liability that these contractual assumptions directly impose on\n",
      "those licensors and authors.\n",
      "\n",
      "All other non-permissive additional terms are considered \"further\n",
      "restrictions\" within the meaning of section 10.  If the Program as you\n",
      "received it, or any part of it, contains a notice stating that it is\n",
      "governed by this License along with a term that is a further\n",
      "restriction, you may remove that term.  If a license document contains\n",
      "a further restriction but permits relicensing or conveying under this\n",
      "License, you may add to a covered work material governed by the terms\n",
      "of that license document, provided that the further restriction does\n",
      "not survive such relicensing or conveying.\n",
      "\n",
      "If you add terms to a covered work in accord with this section, you\n",
      "must place, in the relevant source files, a statement of the\n",
      "additional terms that apply to those files, or a notice indicating\n",
      "where to find the applicable terms.\n",
      "\n",
      "Additional terms, permissive or non-permissive, may be stated in the\n",
      "form of a separately written license, or stated as exceptions;\n",
      "the above requirements apply either way.\n",
      "\n",
      "8. Termination.\n",
      "\n",
      "You may not propagate or modify a covered work except as expressly\n",
      "provided under this License.  Any attempt otherwise to propagate or\n",
      "modify it is void, and will automatically terminate your rights under\n",
      "this License (including any patent licenses granted under the third\n",
      "paragraph of section 11).\n",
      "\n",
      "However, if you cease all violation of this License, then your\n",
      "license from a particular copyright holder is reinstated (a)\n",
      "provisionally, unless and until the copyright holder explicitly and\n",
      "finally terminates your license, and (b) permanently, if the copyright\n",
      "holder fails to notify you of the violation by some reasonable means\n",
      "prior to 60 days after the cessation.\n",
      "\n",
      "Moreover, your license from a particular copyright holder is\n",
      "reinstated permanently if the copyright holder notifies you of the\n",
      "violation by some reasonable means, this is the first time you have\n",
      "received notice of violation of this License (for any work) from that\n",
      "copyright holder, and you cure the violation prior to 30 days after\n",
      "your receipt of the notice.\n",
      "\n",
      "Termination of your rights under this section does not terminate the\n",
      "licenses of parties who have received copies or rights from you under\n",
      "this License.  If your rights have been terminated and not permanently\n",
      "reinstated, you do not qualify to receive new licenses for the same\n",
      "material under section 10.\n",
      "\n",
      "9. Acceptance Not Required for Having Copies.\n",
      "\n",
      "You are not required to accept this License in order to receive or\n",
      "run a copy of the Program.  Ancillary propagation of a covered work\n",
      "occurring solely as a consequence of using peer-to-peer transmission\n",
      "to receive a copy likewise does not require acceptance.  However,\n",
      "nothing other than this License grants you permission to propagate or\n",
      "modify any covered work.  These actions infringe copyright if you do\n",
      "not accept this License.  Therefore, by modifying or propagating a\n",
      "covered work, you indicate your acceptance of this License to do so.\n",
      "\n",
      "10. Automatic Licensing of Downstream Recipients.\n",
      "\n",
      "Each time you convey a covered work, the recipient automatically\n",
      "receives a license from the original licensors, to run, modify and\n",
      "propagate that work, subject to this License.  You are not responsible\n",
      "for enforcing compliance by third parties with this License.\n",
      "\n",
      "An \"entity transaction\" is a transaction transferring control of an\n",
      "organization, or substantially all assets of one, or subdividing an\n",
      "organization, or merging organizations.  If propagation of a covered\n",
      "work results from an entity transaction, each party to that\n",
      "transaction who receives a copy of the work also receives whatever\n",
      "licenses to the work the party's predecessor in interest had or could\n",
      "give under the previous paragraph, plus a right to possession of the\n",
      "Corresponding Source of the work from the predecessor in interest, if\n",
      "the predecessor has it or can get it with reasonable efforts.\n",
      "\n",
      "You may not impose any further restrictions on the exercise of the\n",
      "rights granted or affirmed under this License.  For example, you may\n",
      "not impose a license fee, royalty, or other charge for exercise of\n",
      "rights granted under this License, and you may not initiate litigation\n",
      "(including a cross-claim or counterclaim in a lawsuit) alleging that\n",
      "any patent claim is infringed by making, using, selling, offering for\n",
      "sale, or importing the Program or any portion of it.\n",
      "\n",
      "11. Patents.\n",
      "\n",
      "A \"contributor\" is a copyright holder who authorizes use under this\n",
      "License of the Program or a work on which the Program is based.  The\n",
      "work thus licensed is called the contributor's \"contributor version\".\n",
      "\n",
      "A contributor's \"essential patent claims\" are all patent claims\n",
      "owned or controlled by the contributor, whether already acquired or\n",
      "hereafter acquired, that would be infringed by some manner, permitted\n",
      "by this License, of making, using, or selling its contributor version,\n",
      "but do not include claims that would be infringed only as a\n",
      "consequence of further modification of the contributor version.  For\n",
      "purposes of this definition, \"control\" includes the right to grant\n",
      "patent sublicenses in a manner consistent with the requirements of\n",
      "this License.\n",
      "\n",
      "Each contributor grants you a non-exclusive, worldwide, royalty-free\n",
      "patent license under the contributor's essential patent claims, to\n",
      "make, use, sell, offer for sale, import and otherwise run, modify and\n",
      "propagate the contents of its contributor version.\n",
      "\n",
      "In the following three paragraphs, a \"patent license\" is any express\n",
      "agreement or commitment, however denominated, not to enforce a patent\n",
      "(such as an express permission to practice a patent or covenant not to\n",
      "sue for patent infringement).  To \"grant\" such a patent license to a\n",
      "party means to make such an agreement or commitment not to enforce a\n",
      "patent against the party.\n",
      "\n",
      "If you convey a covered work, knowingly relying on a patent license,\n",
      "and the Corresponding Source of the work is not available for anyone\n",
      "to copy, free of charge and under the terms of this License, through a\n",
      "publicly available network server or other readily accessible means,\n",
      "then you must either (1) cause the Corresponding Source to be so\n",
      "available, or (2) arrange to deprive yourself of the benefit of the\n",
      "patent license for this particular work, or (3) arrange, in a manner\n",
      "consistent with the requirements of this License, to extend the patent\n",
      "license to downstream recipients.  \"Knowingly relying\" means you have\n",
      "actual knowledge that, but for the patent license, your conveying the\n",
      "covered work in a country, or your recipient's use of the covered work\n",
      "in a country, would infringe one or more identifiable patents in that\n",
      "country that you have reason to believe are valid.\n",
      "\n",
      "If, pursuant to or in connection with a single transaction or\n",
      "arrangement, you convey, or propagate by procuring conveyance of, a\n",
      "covered work, and grant a patent license to some of the parties\n",
      "receiving the covered work authorizing them to use, propagate, modify\n",
      "or convey a specific copy of the covered work, then the patent license\n",
      "you grant is automatically extended to all recipients of the covered\n",
      "work and works based on it.\n",
      "\n",
      "A patent license is \"discriminatory\" if it does not include within\n",
      "the scope of its coverage, prohibits the exercise of, or is\n",
      "conditioned on the non-exercise of one or more of the rights that are\n",
      "specifically granted under this License.  You may not convey a covered\n",
      "work if you are a party to an arrangement with a third party that is\n",
      "in the business of distributing software, under which you make payment\n",
      "to the third party based on the extent of your activity of conveying\n",
      "the work, and under which the third party grants, to any of the\n",
      "parties who would receive the covered work from you, a discriminatory\n",
      "patent license (a) in connection with copies of the covered work\n",
      "conveyed by you (or copies made from those copies), or (b) primarily\n",
      "for and in connection with specific products or compilations that\n",
      "contain the covered work, unless you entered into that arrangement,\n",
      "or that patent license was granted, prior to 28 March 2007.\n",
      "\n",
      "Nothing in this License shall be construed as excluding or limiting\n",
      "any implied license or other defenses to infringement that may\n",
      "otherwise be available to you under applicable patent law.\n",
      "\n",
      "12. No Surrender of Others' Freedom.\n",
      "\n",
      "If conditions are imposed on you (whether by court order, agreement or\n",
      "otherwise) that contradict the conditions of this License, they do not\n",
      "excuse you from the conditions of this License.  If you cannot convey a\n",
      "covered work so as to satisfy simultaneously your obligations under this\n",
      "License and any other pertinent obligations, then as a consequence you may\n",
      "not convey it at all.  For example, if you agree to terms that obligate you\n",
      "to collect a royalty for further conveying from those to whom you convey\n",
      "the Program, the only way you could satisfy both those terms and this\n",
      "License would be to refrain entirely from conveying the Program.\n",
      "\n",
      "13. Use with the GNU Affero General Public License.\n",
      "\n",
      "Notwithstanding any other provision of this License, you have\n",
      "permission to link or combine any covered work with a work licensed\n",
      "under version 3 of the GNU Affero General Public License into a single\n",
      "combined work, and to convey the resulting work.  The terms of this\n",
      "License will continue to apply to the part which is the covered work,\n",
      "but the special requirements of the GNU Affero General Public License,\n",
      "section 13, concerning interaction through a network will apply to the\n",
      "combination as such.\n",
      "\n",
      "14. Revised Versions of this License.\n",
      "\n",
      "The Free Software Foundation may publish revised and/or new versions of\n",
      "the GNU General Public License from time to time.  Such new versions will\n",
      "be similar in spirit to the present version, but may differ in detail to\n",
      "address new problems or concerns.\n",
      "\n",
      "Each version is given a distinguishing version number.  If the\n",
      "Program specifies that a certain numbered version of the GNU General\n",
      "Public License \"or any later version\" applies to it, you have the\n",
      "option of following the terms and conditions either of that numbered\n",
      "version or of any later version published by the Free Software\n",
      "Foundation.  If the Program does not specify a version number of the\n",
      "GNU General Public License, you may choose any version ever published\n",
      "by the Free Software Foundation.\n",
      "\n",
      "If the Program specifies that a proxy can decide which future\n",
      "versions of the GNU General Public License can be used, that proxy's\n",
      "public statement of acceptance of a version permanently authorizes you\n",
      "to choose that version for the Program.\n",
      "\n",
      "Later license versions may give you additional or different\n",
      "permissions.  However, no additional obligations are imposed on any\n",
      "author or copyright holder as a result of your choosing to follow a\n",
      "later version.\n",
      "\n",
      "15. Disclaimer of Warranty.\n",
      "\n",
      "THERE IS NO WARRANTY FOR THE PROGRAM, TO THE EXTENT PERMITTED BY\n",
      "APPLICABLE LAW.  EXCEPT WHEN OTHERWISE STATED IN WRITING THE COPYRIGHT\n",
      "HOLDERS AND/OR OTHER PARTIES PROVIDE THE PROGRAM \"AS IS\" WITHOUT WARRANTY\n",
      "OF ANY KIND, EITHER EXPRESSED OR IMPLIED, INCLUDING, BUT NOT LIMITED TO,\n",
      "THE IMPLIED WARRANTIES OF MERCHANTABILITY AND FITNESS FOR A PARTICULAR\n",
      "PURPOSE.  THE ENTIRE RISK AS TO THE QUALITY AND PERFORMANCE OF THE PROGRAM\n",
      "IS WITH YOU.  SHOULD THE PROGRAM PROVE DEFECTIVE, YOU ASSUME THE COST OF\n",
      "ALL NECESSARY SERVICING, REPAIR OR CORRECTION.\n",
      "\n",
      "16. Limitation of Liability.\n",
      "\n",
      "IN NO EVENT UNLESS REQUIRED BY APPLICABLE LAW OR AGREED TO IN WRITING\n",
      "WILL ANY COPYRIGHT HOLDER, OR ANY OTHER PARTY WHO MODIFIES AND/OR CONVEYS\n",
      "THE PROGRAM AS PERMITTED ABOVE, BE LIABLE TO YOU FOR DAMAGES, INCLUDING ANY\n",
      "GENERAL, SPECIAL, INCIDENTAL OR CONSEQUENTIAL DAMAGES ARISING OUT OF THE\n",
      "USE OR INABILITY TO USE THE PROGRAM (INCLUDING BUT NOT LIMITED TO LOSS OF\n",
      "DATA OR DATA BEING RENDERED INACCURATE OR LOSSES SUSTAINED BY YOU OR THIRD\n",
      "PARTIES OR A FAILURE OF THE PROGRAM TO OPERATE WITH ANY OTHER PROGRAMS),\n",
      "EVEN IF SUCH HOLDER OR OTHER PARTY HAS BEEN ADVISED OF THE POSSIBILITY OF\n",
      "SUCH DAMAGES.\n",
      "\n",
      "17. Interpretation of Sections 15 and 16.\n",
      "\n",
      "If the disclaimer of warranty and limitation of liability provided\n",
      "above cannot be given local legal effect according to their terms,\n",
      "reviewing courts shall apply local law that most closely approximates\n",
      "an absolute waiver of all civil liability in connection with the\n",
      "Program, unless a warranty or assumption of liability accompanies a\n",
      "copy of the Program in return for a fee.\n",
      "\n",
      "END OF TERMS AND CONDITIONS\n",
      "\n",
      "How to Apply These Terms to Your New Programs\n",
      "\n",
      "If you develop a new program, and you want it to be of the greatest\n",
      "possible use to the public, the best way to achieve this is to make it\n",
      "free software which everyone can redistribute and change under these terms.\n",
      "\n",
      "To do so, attach the following notices to the program.  It is safest\n",
      "to attach them to the start of each source file to most effectively\n",
      "state the exclusion of warranty; and each file should have at least\n",
      "the \"copyright\" line and a pointer to where the full notice is found.\n",
      "\n",
      "<one line to give the program's name and a brief idea of what it does.>\n",
      "Copyright (C) <year>  <name of author>\n",
      "\n",
      "This program is free software: you can redistribute it and/or modify\n",
      "it under the terms of the GNU General Public License as published by\n",
      "the Free Software Foundation, either version 3 of the License, or\n",
      "(at your option) any later version.\n",
      "\n",
      "This program is distributed in the hope that it will be useful,\n",
      "but WITHOUT ANY WARRANTY; without even the implied warranty of\n",
      "MERCHANTABILITY or FITNESS FOR A PARTICULAR PURPOSE.  See the\n",
      "GNU General Public License for more details.\n",
      "\n",
      "You should have received a copy of the GNU General Public License\n",
      "along with this program.  If not, see <https://www.gnu.org/licenses/>.\n",
      "\n",
      "Also add information on how to contact you by electronic and paper mail.\n",
      "\n",
      "If the program does terminal interaction, make it output a short\n",
      "notice like this when it starts in an interactive mode:\n",
      "\n",
      "<program>  Copyright (C) <year>  <name of author>\n",
      "This program comes with ABSOLUTELY NO WARRANTY; for details type `show w'.\n",
      "This is free software, and you are welcome to redistribute it\n",
      "under certain conditions; type `show c' for details.\n",
      "\n",
      "The hypothetical commands `show w' and `show c' should show the appropriate\n",
      "parts of the General Public License.  Of course, your program's commands\n",
      "might be different; for a GUI interface, you would use an \"about box\".\n",
      "\n",
      "You should also get your employer (if you work as a programmer) or school,\n",
      "if any, to sign a \"copyright disclaimer\" for the program, if necessary.\n",
      "For more information on this, and how to apply and follow the GNU GPL, see\n",
      "<https://www.gnu.org/licenses/>.\n",
      "\n",
      "The GNU General Public License does not permit incorporating your program\n",
      "into proprietary programs.  If your program is a subroutine library, you\n",
      "may consider it more useful to permit linking proprietary applications with\n",
      "the library.  If this is what you want to do, use the GNU Lesser General\n",
      "Public License instead of this License.  But first, please read\n",
      "<https://www.gnu.org/licenses/why-not-lgpl.html>.\n"
     ]
    },
    {
     "name": "stderr",
     "output_type": "stream",
     "text": [
      "<ipython-input-25-886986fd0314>:1: DeprecationWarning: 'U' mode is deprecated\n",
      "  f = open('document.txt', 'rU')\n"
     ]
    }
   ],
   "source": [
    "f = open('document.txt', 'rU')\n",
    "for line in f:\n",
    "    print(line.strip())"
   ],
   "metadata": {
    "collapsed": false,
    "pycharm": {
     "name": "#%%\n"
    }
   }
  },
  {
   "cell_type": "code",
   "execution_count": 26,
   "outputs": [
    {
     "name": "stderr",
     "output_type": "stream",
     "text": [
      "<ipython-input-26-c8e3b4775b6c>:2: DeprecationWarning: 'U' mode is deprecated\n",
      "  raw = open(path, 'rU').read()\n"
     ]
    }
   ],
   "source": [
    "path = nltk.data.find('corpora/gutenberg/melville-moby_dick.txt')\n",
    "raw = open(path, 'rU').read()"
   ],
   "metadata": {
    "collapsed": false,
    "pycharm": {
     "name": "#%%\n"
    }
   }
  },
  {
   "cell_type": "code",
   "execution_count": 27,
   "outputs": [],
   "source": [
    "s = input(\"Enter some text: \")"
   ],
   "metadata": {
    "collapsed": false,
    "pycharm": {
     "name": "#%%\n"
    }
   }
  },
  {
   "cell_type": "code",
   "execution_count": 28,
   "outputs": [
    {
     "name": "stdout",
     "output_type": "stream",
     "text": [
      "You typed 8 words.\n"
     ]
    }
   ],
   "source": [
    "print(\"You typed\", len(nltk.word_tokenize(s)), \"words.\")"
   ],
   "metadata": {
    "collapsed": false,
    "pycharm": {
     "name": "#%%\n"
    }
   }
  },
  {
   "cell_type": "code",
   "execution_count": 29,
   "outputs": [
    {
     "data": {
      "text/plain": "str"
     },
     "execution_count": 29,
     "metadata": {},
     "output_type": "execute_result"
    }
   ],
   "source": [
    "raw = open('document.txt').read()\n",
    "type(raw)"
   ],
   "metadata": {
    "collapsed": false,
    "pycharm": {
     "name": "#%%\n"
    }
   }
  },
  {
   "cell_type": "code",
   "execution_count": 30,
   "outputs": [
    {
     "data": {
      "text/plain": "list"
     },
     "execution_count": 30,
     "metadata": {},
     "output_type": "execute_result"
    }
   ],
   "source": [
    "tokens = nltk.word_tokenize(raw)\n",
    "type(tokens)"
   ],
   "metadata": {
    "collapsed": false,
    "pycharm": {
     "name": "#%%\n"
    }
   }
  },
  {
   "cell_type": "code",
   "execution_count": 31,
   "outputs": [
    {
     "data": {
      "text/plain": "list"
     },
     "execution_count": 31,
     "metadata": {},
     "output_type": "execute_result"
    }
   ],
   "source": [
    "words = [w.lower() for w in tokens]\n",
    "type(words)"
   ],
   "metadata": {
    "collapsed": false,
    "pycharm": {
     "name": "#%%\n"
    }
   }
  },
  {
   "cell_type": "code",
   "execution_count": 32,
   "outputs": [
    {
     "data": {
      "text/plain": "list"
     },
     "execution_count": 32,
     "metadata": {},
     "output_type": "execute_result"
    }
   ],
   "source": [
    "vocab = sorted(set(words))\n",
    "type(vocab)"
   ],
   "metadata": {
    "collapsed": false,
    "pycharm": {
     "name": "#%%\n"
    }
   }
  },
  {
   "cell_type": "code",
   "execution_count": 33,
   "outputs": [
    {
     "ename": "AttributeError",
     "evalue": "'str' object has no attribute 'append'",
     "output_type": "error",
     "traceback": [
      "\u001B[0;31m---------------------------------------------------------------------------\u001B[0m",
      "\u001B[0;31mAttributeError\u001B[0m                            Traceback (most recent call last)",
      "\u001B[0;32m<ipython-input-33-e5d4729e9dc8>\u001B[0m in \u001B[0;36m<module>\u001B[0;34m\u001B[0m\n\u001B[1;32m      1\u001B[0m \u001B[0mvocab\u001B[0m\u001B[0;34m.\u001B[0m\u001B[0mappend\u001B[0m\u001B[0;34m(\u001B[0m\u001B[0;34m'blog'\u001B[0m\u001B[0;34m)\u001B[0m\u001B[0;34m\u001B[0m\u001B[0;34m\u001B[0m\u001B[0m\n\u001B[0;32m----> 2\u001B[0;31m \u001B[0mraw\u001B[0m\u001B[0;34m.\u001B[0m\u001B[0mappend\u001B[0m\u001B[0;34m(\u001B[0m\u001B[0;34m'blog'\u001B[0m\u001B[0;34m)\u001B[0m\u001B[0;34m\u001B[0m\u001B[0;34m\u001B[0m\u001B[0m\n\u001B[0m\u001B[1;32m      3\u001B[0m \u001B[0;34m\u001B[0m\u001B[0m\n",
      "\u001B[0;31mAttributeError\u001B[0m: 'str' object has no attribute 'append'"
     ]
    }
   ],
   "source": [
    "vocab.append('blog')\n",
    "raw.append('blog')"
   ],
   "metadata": {
    "collapsed": false,
    "pycharm": {
     "name": "#%%\n"
    }
   }
  },
  {
   "cell_type": "code",
   "execution_count": 34,
   "outputs": [
    {
     "ename": "TypeError",
     "evalue": "can only concatenate str (not \"list\") to str",
     "output_type": "error",
     "traceback": [
      "\u001B[0;31m---------------------------------------------------------------------------\u001B[0m",
      "\u001B[0;31mTypeError\u001B[0m                                 Traceback (most recent call last)",
      "\u001B[0;32m<ipython-input-34-568a35ac7a47>\u001B[0m in \u001B[0;36m<module>\u001B[0;34m\u001B[0m\n\u001B[1;32m      1\u001B[0m \u001B[0mquery\u001B[0m \u001B[0;34m=\u001B[0m \u001B[0;34m'Who knows?'\u001B[0m\u001B[0;34m\u001B[0m\u001B[0;34m\u001B[0m\u001B[0m\n\u001B[1;32m      2\u001B[0m \u001B[0mbeatles\u001B[0m \u001B[0;34m=\u001B[0m \u001B[0;34m[\u001B[0m\u001B[0;34m'john'\u001B[0m\u001B[0;34m,\u001B[0m \u001B[0;34m'paul'\u001B[0m\u001B[0;34m,\u001B[0m \u001B[0;34m'george'\u001B[0m\u001B[0;34m,\u001B[0m \u001B[0;34m'ringo'\u001B[0m\u001B[0;34m]\u001B[0m\u001B[0;34m\u001B[0m\u001B[0;34m\u001B[0m\u001B[0m\n\u001B[0;32m----> 3\u001B[0;31m \u001B[0mquery\u001B[0m \u001B[0;34m+\u001B[0m \u001B[0mbeatles\u001B[0m\u001B[0;34m\u001B[0m\u001B[0;34m\u001B[0m\u001B[0m\n\u001B[0m\u001B[1;32m      4\u001B[0m \u001B[0;34m\u001B[0m\u001B[0m\n",
      "\u001B[0;31mTypeError\u001B[0m: can only concatenate str (not \"list\") to str"
     ]
    }
   ],
   "source": [
    "query = 'Who knows?'\n",
    "beatles = ['john', 'paul', 'george', 'ringo']\n",
    "query + beatles"
   ],
   "metadata": {
    "collapsed": false,
    "pycharm": {
     "name": "#%%\n"
    }
   }
  },
  {
   "cell_type": "code",
   "execution_count": 35,
   "outputs": [
    {
     "data": {
      "text/plain": "'Monty Python'"
     },
     "execution_count": 35,
     "metadata": {},
     "output_type": "execute_result"
    }
   ],
   "source": [
    "monty = 'Monty Python'\n",
    "monty"
   ],
   "metadata": {
    "collapsed": false,
    "pycharm": {
     "name": "#%%\n"
    }
   }
  },
  {
   "cell_type": "code",
   "execution_count": 36,
   "outputs": [
    {
     "data": {
      "text/plain": "\"Monty Python's Flying Circus\""
     },
     "execution_count": 36,
     "metadata": {},
     "output_type": "execute_result"
    }
   ],
   "source": [
    "circus = \"Monty Python's Flying Circus\"\n",
    "circus"
   ],
   "metadata": {
    "collapsed": false,
    "pycharm": {
     "name": "#%%\n"
    }
   }
  },
  {
   "cell_type": "code",
   "execution_count": 37,
   "outputs": [
    {
     "data": {
      "text/plain": "\"Monty Python's Flying Circus\""
     },
     "execution_count": 37,
     "metadata": {},
     "output_type": "execute_result"
    }
   ],
   "source": [
    "circus = 'Monty Python\\'s Flying Circus'\n",
    "circus"
   ],
   "metadata": {
    "collapsed": false,
    "pycharm": {
     "name": "#%%\n"
    }
   }
  },
  {
   "cell_type": "code",
   "execution_count": 38,
   "outputs": [
    {
     "ename": "SyntaxError",
     "evalue": "invalid syntax (<ipython-input-38-b3fa3f1d1412>, line 1)",
     "output_type": "error",
     "traceback": [
      "\u001B[0;36m  File \u001B[0;32m\"<ipython-input-38-b3fa3f1d1412>\"\u001B[0;36m, line \u001B[0;32m1\u001B[0m\n\u001B[0;31m    circus = 'Monty Python's Flying Circus'\u001B[0m\n\u001B[0m                           ^\u001B[0m\n\u001B[0;31mSyntaxError\u001B[0m\u001B[0;31m:\u001B[0m invalid syntax\n"
     ]
    }
   ],
   "source": [
    "circus = 'Monty Python's Flying Circus'"
   ],
   "metadata": {
    "collapsed": false,
    "pycharm": {
     "name": "#%%\n"
    }
   }
  },
  {
   "cell_type": "code",
   "execution_count": 39,
   "outputs": [
    {
     "name": "stdout",
     "output_type": "stream",
     "text": [
      "Shall I compare thee to a Summer's day?Thou are more lovely and more temperate:\n"
     ]
    }
   ],
   "source": [
    "couplet = \"Shall I compare thee to a Summer's day?\"\\\n",
    "          \"Thou are more lovely and more temperate:\"\n",
    "print(couplet)"
   ],
   "metadata": {
    "collapsed": false,
    "pycharm": {
     "name": "#%%\n"
    }
   }
  },
  {
   "cell_type": "code",
   "execution_count": 40,
   "outputs": [
    {
     "name": "stdout",
     "output_type": "stream",
     "text": [
      "Rough winds do shake the darling buds of May,And Summer's lease hath all too short a date:\n"
     ]
    }
   ],
   "source": [
    "couplet = (\"Rough winds do shake the darling buds of May,\"\n",
    "          \"And Summer's lease hath all too short a date:\")\n",
    "print(couplet)"
   ],
   "metadata": {
    "collapsed": false,
    "pycharm": {
     "name": "#%%\n"
    }
   }
  },
  {
   "cell_type": "code",
   "execution_count": 41,
   "outputs": [
    {
     "name": "stdout",
     "output_type": "stream",
     "text": [
      "Shall I compare thee to a Summer's day?\n",
      "Thou are more lovely and more temperate:\n"
     ]
    }
   ],
   "source": [
    "couplet = \"\"\"Shall I compare thee to a Summer's day?\n",
    "... Thou are more lovely and more temperate:\"\"\"\n",
    "print(couplet)"
   ],
   "metadata": {
    "collapsed": false,
    "pycharm": {
     "name": "#%%\n"
    }
   }
  },
  {
   "cell_type": "code",
   "execution_count": 42,
   "outputs": [
    {
     "name": "stdout",
     "output_type": "stream",
     "text": [
      "Rough winds do shake the darling buds of May,\n",
      "And Summer's lease hath all too short a date:\n"
     ]
    }
   ],
   "source": [
    "couplet = '''Rough winds do shake the darling buds of May,\n",
    "... And Summer's lease hath all too short a date:'''\n",
    "print(couplet)"
   ],
   "metadata": {
    "collapsed": false,
    "pycharm": {
     "name": "#%%\n"
    }
   }
  },
  {
   "cell_type": "code",
   "execution_count": 43,
   "outputs": [
    {
     "data": {
      "text/plain": "'veryveryvery'"
     },
     "execution_count": 43,
     "metadata": {},
     "output_type": "execute_result"
    }
   ],
   "source": [
    "'very' + 'very' + 'very'"
   ],
   "metadata": {
    "collapsed": false,
    "pycharm": {
     "name": "#%%\n"
    }
   }
  },
  {
   "cell_type": "code",
   "execution_count": 44,
   "outputs": [
    {
     "data": {
      "text/plain": "'veryveryvery'"
     },
     "execution_count": 44,
     "metadata": {},
     "output_type": "execute_result"
    }
   ],
   "source": [
    "'very' * 3"
   ],
   "metadata": {
    "collapsed": false,
    "pycharm": {
     "name": "#%%\n"
    }
   }
  },
  {
   "cell_type": "code",
   "execution_count": 45,
   "outputs": [
    {
     "name": "stdout",
     "output_type": "stream",
     "text": [
      "            very\n",
      "          veryvery\n",
      "        veryveryvery\n",
      "      veryveryveryvery\n",
      "    veryveryveryveryvery\n",
      "  veryveryveryveryveryvery\n",
      "veryveryveryveryveryveryvery\n",
      "  veryveryveryveryveryvery\n",
      "    veryveryveryveryvery\n",
      "      veryveryveryvery\n",
      "        veryveryvery\n",
      "          veryvery\n",
      "            very\n"
     ]
    }
   ],
   "source": [
    "a = [1, 2, 3, 4, 5, 6, 7, 6, 5, 4, 3, 2, 1]\n",
    "b = [' ' * 2 * (7 - i) + 'very' * i for i in a]\n",
    "for line in b:\n",
    "    print(line)"
   ],
   "metadata": {
    "collapsed": false,
    "pycharm": {
     "name": "#%%\n"
    }
   }
  },
  {
   "cell_type": "code",
   "execution_count": 46,
   "outputs": [
    {
     "ename": "TypeError",
     "evalue": "unsupported operand type(s) for -: 'str' and 'str'",
     "output_type": "error",
     "traceback": [
      "\u001B[0;31m---------------------------------------------------------------------------\u001B[0m",
      "\u001B[0;31mTypeError\u001B[0m                                 Traceback (most recent call last)",
      "\u001B[0;32m<ipython-input-46-6cea4bec950f>\u001B[0m in \u001B[0;36m<module>\u001B[0;34m\u001B[0m\n\u001B[0;32m----> 1\u001B[0;31m \u001B[0;34m'very'\u001B[0m \u001B[0;34m-\u001B[0m \u001B[0;34m'y'\u001B[0m\u001B[0;34m\u001B[0m\u001B[0;34m\u001B[0m\u001B[0m\n\u001B[0m\u001B[1;32m      2\u001B[0m \u001B[0;34m\u001B[0m\u001B[0m\n",
      "\u001B[0;31mTypeError\u001B[0m: unsupported operand type(s) for -: 'str' and 'str'"
     ]
    }
   ],
   "source": [
    "'very' - 'y'"
   ],
   "metadata": {
    "collapsed": false,
    "pycharm": {
     "name": "#%%\n"
    }
   }
  },
  {
   "cell_type": "code",
   "execution_count": 47,
   "outputs": [
    {
     "ename": "TypeError",
     "evalue": "unsupported operand type(s) for /: 'str' and 'int'",
     "output_type": "error",
     "traceback": [
      "\u001B[0;31m---------------------------------------------------------------------------\u001B[0m",
      "\u001B[0;31mTypeError\u001B[0m                                 Traceback (most recent call last)",
      "\u001B[0;32m<ipython-input-47-7247a8283863>\u001B[0m in \u001B[0;36m<module>\u001B[0;34m\u001B[0m\n\u001B[0;32m----> 1\u001B[0;31m \u001B[0;34m'very'\u001B[0m \u001B[0;34m/\u001B[0m \u001B[0;36m2\u001B[0m\u001B[0;34m\u001B[0m\u001B[0;34m\u001B[0m\u001B[0m\n\u001B[0m\u001B[1;32m      2\u001B[0m \u001B[0;34m\u001B[0m\u001B[0m\n",
      "\u001B[0;31mTypeError\u001B[0m: unsupported operand type(s) for /: 'str' and 'int'"
     ]
    }
   ],
   "source": [
    "'very' / 2"
   ],
   "metadata": {
    "collapsed": false,
    "pycharm": {
     "name": "#%%\n"
    }
   }
  },
  {
   "cell_type": "code",
   "execution_count": 48,
   "outputs": [
    {
     "name": "stdout",
     "output_type": "stream",
     "text": [
      "Monty Python\n"
     ]
    }
   ],
   "source": [
    "print(monty)"
   ],
   "metadata": {
    "collapsed": false,
    "pycharm": {
     "name": "#%%\n"
    }
   }
  },
  {
   "cell_type": "code",
   "execution_count": 49,
   "outputs": [
    {
     "name": "stdout",
     "output_type": "stream",
     "text": [
      "Monty PythonHoly Grail\n"
     ]
    }
   ],
   "source": [
    "grail = 'Holy Grail'\n",
    "print(monty + grail)"
   ],
   "metadata": {
    "collapsed": false,
    "pycharm": {
     "name": "#%%\n"
    }
   }
  },
  {
   "cell_type": "code",
   "execution_count": 50,
   "outputs": [
    {
     "name": "stdout",
     "output_type": "stream",
     "text": [
      "Monty Python Holy Grail\n"
     ]
    }
   ],
   "source": [
    "print(monty, grail)"
   ],
   "metadata": {
    "collapsed": false,
    "pycharm": {
     "name": "#%%\n"
    }
   }
  },
  {
   "cell_type": "code",
   "execution_count": 51,
   "outputs": [
    {
     "name": "stdout",
     "output_type": "stream",
     "text": [
      "Monty Python and the Holy Grail\n"
     ]
    }
   ],
   "source": [
    "print(monty, \"and the\", grail)"
   ],
   "metadata": {
    "collapsed": false,
    "pycharm": {
     "name": "#%%\n"
    }
   }
  },
  {
   "cell_type": "code",
   "execution_count": 52,
   "outputs": [
    {
     "data": {
      "text/plain": "'M'"
     },
     "execution_count": 52,
     "metadata": {},
     "output_type": "execute_result"
    }
   ],
   "source": [
    "monty[0]"
   ],
   "metadata": {
    "collapsed": false,
    "pycharm": {
     "name": "#%%\n"
    }
   }
  },
  {
   "cell_type": "code",
   "execution_count": 53,
   "outputs": [
    {
     "data": {
      "text/plain": "'t'"
     },
     "execution_count": 53,
     "metadata": {},
     "output_type": "execute_result"
    }
   ],
   "source": [
    "monty[3]"
   ],
   "metadata": {
    "collapsed": false,
    "pycharm": {
     "name": "#%%\n"
    }
   }
  },
  {
   "cell_type": "code",
   "execution_count": 54,
   "outputs": [
    {
     "data": {
      "text/plain": "' '"
     },
     "execution_count": 54,
     "metadata": {},
     "output_type": "execute_result"
    }
   ],
   "source": [
    "monty[5]"
   ],
   "metadata": {
    "collapsed": false,
    "pycharm": {
     "name": "#%%\n"
    }
   }
  },
  {
   "cell_type": "code",
   "execution_count": 55,
   "outputs": [
    {
     "ename": "IndexError",
     "evalue": "string index out of range",
     "output_type": "error",
     "traceback": [
      "\u001B[0;31m---------------------------------------------------------------------------\u001B[0m",
      "\u001B[0;31mIndexError\u001B[0m                                Traceback (most recent call last)",
      "\u001B[0;32m<ipython-input-55-47ad9c481afa>\u001B[0m in \u001B[0;36m<module>\u001B[0;34m\u001B[0m\n\u001B[0;32m----> 1\u001B[0;31m \u001B[0mmonty\u001B[0m\u001B[0;34m[\u001B[0m\u001B[0;36m20\u001B[0m\u001B[0;34m]\u001B[0m\u001B[0;34m\u001B[0m\u001B[0;34m\u001B[0m\u001B[0m\n\u001B[0m\u001B[1;32m      2\u001B[0m \u001B[0;34m\u001B[0m\u001B[0m\n",
      "\u001B[0;31mIndexError\u001B[0m: string index out of range"
     ]
    }
   ],
   "source": [
    "monty[20]"
   ],
   "metadata": {
    "collapsed": false,
    "pycharm": {
     "name": "#%%\n"
    }
   }
  },
  {
   "cell_type": "code",
   "execution_count": 56,
   "outputs": [
    {
     "data": {
      "text/plain": "'n'"
     },
     "execution_count": 56,
     "metadata": {},
     "output_type": "execute_result"
    }
   ],
   "source": [
    "monty[-1]"
   ],
   "metadata": {
    "collapsed": false,
    "pycharm": {
     "name": "#%%\n"
    }
   }
  },
  {
   "cell_type": "code",
   "execution_count": 57,
   "outputs": [
    {
     "data": {
      "text/plain": "'y'"
     },
     "execution_count": 57,
     "metadata": {},
     "output_type": "execute_result"
    }
   ],
   "source": [
    "monty[-5]"
   ],
   "metadata": {
    "collapsed": false,
    "pycharm": {
     "name": "#%%\n"
    }
   }
  },
  {
   "cell_type": "code",
   "execution_count": 58,
   "outputs": [
    {
     "data": {
      "text/plain": "' '"
     },
     "execution_count": 58,
     "metadata": {},
     "output_type": "execute_result"
    }
   ],
   "source": [
    "monty[-7]"
   ],
   "metadata": {
    "collapsed": false,
    "pycharm": {
     "name": "#%%\n"
    }
   }
  },
  {
   "cell_type": "code",
   "execution_count": 59,
   "outputs": [
    {
     "name": "stdout",
     "output_type": "stream",
     "text": [
      "c\n",
      "o\n",
      "l\n",
      "o\n",
      "r\n",
      "l\n",
      "e\n",
      "s\n",
      "s\n",
      " \n",
      "g\n",
      "r\n",
      "e\n",
      "e\n",
      "n\n",
      " \n",
      "i\n",
      "d\n",
      "e\n",
      "a\n",
      "s\n",
      " \n",
      "s\n",
      "l\n",
      "e\n",
      "e\n",
      "p\n",
      " \n",
      "f\n",
      "u\n",
      "r\n",
      "i\n",
      "o\n",
      "u\n",
      "s\n",
      "l\n",
      "y\n"
     ]
    }
   ],
   "source": [
    "sent = 'colorless green ideas sleep furiously'\n",
    "for char in sent:\n",
    "    print(char,)"
   ],
   "metadata": {
    "collapsed": false,
    "pycharm": {
     "name": "#%%\n"
    }
   }
  },
  {
   "cell_type": "code",
   "execution_count": 60,
   "outputs": [
    {
     "data": {
      "text/plain": "dict_keys(['m', 'o', 'b', 'y', 'd', 'i', 'c', 'k', 'h', 'e', 'r', 'a', 'n', 'l', 'v', 't', 'g', 's', 'u', 'p', 'w', 'x', 'q', 'f', 'j', 'z'])"
     },
     "execution_count": 60,
     "metadata": {},
     "output_type": "execute_result"
    }
   ],
   "source": [
    "from nltk.corpus import gutenberg\n",
    "raw = gutenberg.raw('melville-moby_dick.txt')\n",
    "fdist = nltk.FreqDist(ch.lower() for ch in raw if ch.isalpha())\n",
    "fdist.keys()"
   ],
   "metadata": {
    "collapsed": false,
    "pycharm": {
     "name": "#%%\n"
    }
   }
  },
  {
   "cell_type": "code",
   "execution_count": 61,
   "outputs": [
    {
     "data": {
      "text/plain": "'Pyth'"
     },
     "execution_count": 61,
     "metadata": {},
     "output_type": "execute_result"
    }
   ],
   "source": [
    "monty[6:10]"
   ],
   "metadata": {
    "collapsed": false,
    "pycharm": {
     "name": "#%%\n"
    }
   }
  },
  {
   "cell_type": "code",
   "execution_count": 62,
   "outputs": [
    {
     "data": {
      "text/plain": "'Monty'"
     },
     "execution_count": 62,
     "metadata": {},
     "output_type": "execute_result"
    }
   ],
   "source": [
    "monty[-12:-7]"
   ],
   "metadata": {
    "collapsed": false,
    "pycharm": {
     "name": "#%%\n"
    }
   }
  },
  {
   "cell_type": "code",
   "execution_count": 63,
   "outputs": [
    {
     "data": {
      "text/plain": "'Monty'"
     },
     "execution_count": 63,
     "metadata": {},
     "output_type": "execute_result"
    }
   ],
   "source": [
    "monty[:5]"
   ],
   "metadata": {
    "collapsed": false,
    "pycharm": {
     "name": "#%%\n"
    }
   }
  },
  {
   "cell_type": "code",
   "execution_count": 64,
   "outputs": [
    {
     "data": {
      "text/plain": "'Python'"
     },
     "execution_count": 64,
     "metadata": {},
     "output_type": "execute_result"
    }
   ],
   "source": [
    "monty[6:]"
   ],
   "metadata": {
    "collapsed": false,
    "pycharm": {
     "name": "#%%\n"
    }
   }
  },
  {
   "cell_type": "code",
   "execution_count": 65,
   "outputs": [
    {
     "name": "stdout",
     "output_type": "stream",
     "text": [
      "found \"thing\"\n"
     ]
    }
   ],
   "source": [
    "phrase = 'And now for something completely different'\n",
    "if 'thing' in phrase:\n",
    "    print('found \"thing\"')"
   ],
   "metadata": {
    "collapsed": false,
    "pycharm": {
     "name": "#%%\n"
    }
   }
  },
  {
   "cell_type": "code",
   "execution_count": 66,
   "outputs": [
    {
     "data": {
      "text/plain": "6"
     },
     "execution_count": 66,
     "metadata": {},
     "output_type": "execute_result"
    }
   ],
   "source": [
    "monty.find('Python')"
   ],
   "metadata": {
    "collapsed": false,
    "pycharm": {
     "name": "#%%\n"
    }
   }
  },
  {
   "cell_type": "code",
   "execution_count": 67,
   "outputs": [],
   "source": [
    "sent = 'my sentence...'"
   ],
   "metadata": {
    "collapsed": false,
    "pycharm": {
     "name": "#%%\n"
    }
   }
  },
  {
   "cell_type": "code",
   "execution_count": 68,
   "outputs": [
    {
     "data": {
      "text/plain": "'my'"
     },
     "execution_count": 68,
     "metadata": {},
     "output_type": "execute_result"
    }
   ],
   "source": [
    "sent[0:2]"
   ],
   "metadata": {
    "collapsed": false,
    "pycharm": {
     "name": "#%%\n"
    }
   }
  },
  {
   "cell_type": "code",
   "execution_count": 69,
   "outputs": [
    {
     "data": {
      "text/plain": "'o'"
     },
     "execution_count": 69,
     "metadata": {},
     "output_type": "execute_result"
    }
   ],
   "source": [
    "query = 'Who knows?'\n",
    "beatles = ['John', 'Paul', 'George', 'Ringo']\n",
    "query[2]"
   ],
   "metadata": {
    "collapsed": false,
    "pycharm": {
     "name": "#%%\n"
    }
   }
  },
  {
   "cell_type": "code",
   "execution_count": 70,
   "outputs": [
    {
     "data": {
      "text/plain": "'George'"
     },
     "execution_count": 70,
     "metadata": {},
     "output_type": "execute_result"
    }
   ],
   "source": [
    "beatles[2]"
   ],
   "metadata": {
    "collapsed": false,
    "pycharm": {
     "name": "#%%\n"
    }
   }
  },
  {
   "cell_type": "code",
   "execution_count": 71,
   "outputs": [
    {
     "data": {
      "text/plain": "'Wh'"
     },
     "execution_count": 71,
     "metadata": {},
     "output_type": "execute_result"
    }
   ],
   "source": [
    "query[:2]"
   ],
   "metadata": {
    "collapsed": false,
    "pycharm": {
     "name": "#%%\n"
    }
   }
  },
  {
   "cell_type": "code",
   "execution_count": 72,
   "outputs": [
    {
     "data": {
      "text/plain": "['John', 'Paul']"
     },
     "execution_count": 72,
     "metadata": {},
     "output_type": "execute_result"
    }
   ],
   "source": [
    "beatles[:2]"
   ],
   "metadata": {
    "collapsed": false,
    "pycharm": {
     "name": "#%%\n"
    }
   }
  },
  {
   "cell_type": "code",
   "execution_count": 73,
   "outputs": [
    {
     "data": {
      "text/plain": "\"Who knows? I don't\""
     },
     "execution_count": 73,
     "metadata": {},
     "output_type": "execute_result"
    }
   ],
   "source": [
    "query + \" I don't\""
   ],
   "metadata": {
    "collapsed": false,
    "pycharm": {
     "name": "#%%\n"
    }
   }
  },
  {
   "cell_type": "code",
   "execution_count": 74,
   "outputs": [
    {
     "ename": "TypeError",
     "evalue": "can only concatenate list (not \"str\") to list",
     "output_type": "error",
     "traceback": [
      "\u001B[0;31m---------------------------------------------------------------------------\u001B[0m",
      "\u001B[0;31mTypeError\u001B[0m                                 Traceback (most recent call last)",
      "\u001B[0;32m<ipython-input-74-69d99a08cad2>\u001B[0m in \u001B[0;36m<module>\u001B[0;34m\u001B[0m\n\u001B[0;32m----> 1\u001B[0;31m \u001B[0mbeatles\u001B[0m \u001B[0;34m+\u001B[0m \u001B[0;34m'Brian'\u001B[0m\u001B[0;34m\u001B[0m\u001B[0;34m\u001B[0m\u001B[0m\n\u001B[0m\u001B[1;32m      2\u001B[0m \u001B[0;34m\u001B[0m\u001B[0m\n",
      "\u001B[0;31mTypeError\u001B[0m: can only concatenate list (not \"str\") to list"
     ]
    }
   ],
   "source": [
    "beatles + 'Brian'"
   ],
   "metadata": {
    "collapsed": false,
    "pycharm": {
     "name": "#%%\n"
    }
   }
  },
  {
   "cell_type": "code",
   "execution_count": 75,
   "outputs": [
    {
     "data": {
      "text/plain": "['John', 'Paul', 'George', 'Ringo', 'Brian']"
     },
     "execution_count": 75,
     "metadata": {},
     "output_type": "execute_result"
    }
   ],
   "source": [
    "beatles + ['Brian']"
   ],
   "metadata": {
    "collapsed": false,
    "pycharm": {
     "name": "#%%\n"
    }
   }
  },
  {
   "cell_type": "code",
   "execution_count": 76,
   "outputs": [
    {
     "data": {
      "text/plain": "['John Lennon', 'Paul', 'George']"
     },
     "execution_count": 76,
     "metadata": {},
     "output_type": "execute_result"
    }
   ],
   "source": [
    "beatles[0] = \"John Lennon\"\n",
    "del beatles[-1]\n",
    "beatles"
   ],
   "metadata": {
    "collapsed": false,
    "pycharm": {
     "name": "#%%\n"
    }
   }
  },
  {
   "cell_type": "code",
   "execution_count": 77,
   "outputs": [
    {
     "ename": "TypeError",
     "evalue": "'str' object does not support item assignment",
     "output_type": "error",
     "traceback": [
      "\u001B[0;31m---------------------------------------------------------------------------\u001B[0m",
      "\u001B[0;31mTypeError\u001B[0m                                 Traceback (most recent call last)",
      "\u001B[0;32m<ipython-input-77-0b3300bee0f4>\u001B[0m in \u001B[0;36m<module>\u001B[0;34m\u001B[0m\n\u001B[0;32m----> 1\u001B[0;31m \u001B[0mquery\u001B[0m\u001B[0;34m[\u001B[0m\u001B[0;36m0\u001B[0m\u001B[0;34m]\u001B[0m \u001B[0;34m=\u001B[0m \u001B[0;34m'F'\u001B[0m\u001B[0;34m\u001B[0m\u001B[0;34m\u001B[0m\u001B[0m\n\u001B[0m\u001B[1;32m      2\u001B[0m \u001B[0;34m\u001B[0m\u001B[0m\n",
      "\u001B[0;31mTypeError\u001B[0m: 'str' object does not support item assignment"
     ]
    }
   ],
   "source": [
    "query[0] = 'F'"
   ],
   "metadata": {
    "collapsed": false,
    "pycharm": {
     "name": "#%%\n"
    }
   }
  },
  {
   "cell_type": "code",
   "execution_count": 78,
   "outputs": [],
   "source": [
    "path = nltk.data.find('corpora/unicode_samples/polish-lat2.txt')"
   ],
   "metadata": {
    "collapsed": false,
    "pycharm": {
     "name": "#%%\n"
    }
   }
  },
  {
   "cell_type": "code",
   "execution_count": 79,
   "outputs": [],
   "source": [
    "import codecs\n",
    "f = codecs.open(path, encoding='latin2')"
   ],
   "metadata": {
    "collapsed": false,
    "pycharm": {
     "name": "#%%\n"
    }
   }
  },
  {
   "cell_type": "code",
   "execution_count": 80,
   "outputs": [
    {
     "name": "stdout",
     "output_type": "stream",
     "text": [
      "b'Pruska Biblioteka Pa\\\\u0144stwowa. Jej dawne zbiory znane pod nazw\\\\u0105'\n",
      "b'\"Berlinka\" to skarb kultury i sztuki niemieckiej. Przewiezione przez'\n",
      "b'Niemc\\\\xf3w pod koniec II wojny \\\\u015bwiatowej na Dolny \\\\u015al\\\\u0105sk, zosta\\\\u0142y'\n",
      "b'odnalezione po 1945 r. na terytorium Polski. Trafi\\\\u0142y do Biblioteki'\n",
      "b'Jagiello\\\\u0144skiej w Krakowie, obejmuj\\\\u0105 ponad 500 tys. zabytkowych'\n",
      "b'archiwali\\\\xf3w, m.in. manuskrypty Goethego, Mozarta, Beethovena, Bacha.'\n"
     ]
    }
   ],
   "source": [
    "for line in f:\n",
    "    line = line.strip()\n",
    "    print(line.encode('unicode_escape'))"
   ],
   "metadata": {
    "collapsed": false,
    "pycharm": {
     "name": "#%%\n"
    }
   }
  },
  {
   "cell_type": "code",
   "execution_count": 81,
   "outputs": [
    {
     "data": {
      "text/plain": "97"
     },
     "execution_count": 81,
     "metadata": {},
     "output_type": "execute_result"
    }
   ],
   "source": [
    "ord('a')"
   ],
   "metadata": {
    "collapsed": false,
    "pycharm": {
     "name": "#%%\n"
    }
   }
  },
  {
   "cell_type": "code",
   "execution_count": 82,
   "outputs": [
    {
     "data": {
      "text/plain": "'a'"
     },
     "execution_count": 82,
     "metadata": {},
     "output_type": "execute_result"
    }
   ],
   "source": [
    "a = u'\\u0061'\n",
    "a"
   ],
   "metadata": {
    "collapsed": false,
    "pycharm": {
     "name": "#%%\n"
    }
   }
  },
  {
   "cell_type": "code",
   "execution_count": 83,
   "outputs": [
    {
     "name": "stdout",
     "output_type": "stream",
     "text": [
      "a\n"
     ]
    }
   ],
   "source": [
    "print(a)"
   ],
   "metadata": {
    "collapsed": false,
    "pycharm": {
     "name": "#%%\n"
    }
   }
  },
  {
   "cell_type": "code",
   "execution_count": 84,
   "outputs": [
    {
     "data": {
      "text/plain": "'ń'"
     },
     "execution_count": 84,
     "metadata": {},
     "output_type": "execute_result"
    }
   ],
   "source": [
    "nacute = u'\\u0144'\n",
    "nacute"
   ],
   "metadata": {
    "collapsed": false,
    "pycharm": {
     "name": "#%%\n"
    }
   }
  },
  {
   "cell_type": "code",
   "execution_count": 85,
   "outputs": [
    {
     "name": "stdout",
     "output_type": "stream",
     "text": [
      "b'\\xc5\\x84'\n"
     ]
    }
   ],
   "source": [
    "nacute_utf = nacute.encode('utf8')\n",
    "print(repr(nacute_utf))"
   ],
   "metadata": {
    "collapsed": false,
    "pycharm": {
     "name": "#%%\n"
    }
   }
  },
  {
   "cell_type": "code",
   "execution_count": 86,
   "outputs": [
    {
     "name": "stdout",
     "output_type": "stream",
     "text": [
      "b'Niemc\\\\xf3w pod koniec II wojny \\\\u015bwiatowej na Dolny \\\\u015al\\\\u0105sk, zosta\\\\u0142y\\\\n'\n"
     ]
    }
   ],
   "source": [
    "import unicodedata\n",
    "lines = codecs.open(path, encoding='latin2').readlines()\n",
    "line = lines[2]\n",
    "print(line.encode('unicode_escape'))"
   ],
   "metadata": {
    "collapsed": false,
    "pycharm": {
     "name": "#%%\n"
    }
   }
  },
  {
   "cell_type": "code",
   "execution_count": 87,
   "outputs": [
    {
     "name": "stdout",
     "output_type": "stream",
     "text": [
      "b'\\xc3\\xb3' U+00f3 LATIN SMALL LETTER O WITH ACUTE\n",
      "b'\\xc5\\x9b' U+015b LATIN SMALL LETTER S WITH ACUTE\n",
      "b'\\xc5\\x9a' U+015a LATIN CAPITAL LETTER S WITH ACUTE\n",
      "b'\\xc4\\x85' U+0105 LATIN SMALL LETTER A WITH OGONEK\n",
      "b'\\xc5\\x82' U+0142 LATIN SMALL LETTER L WITH STROKE\n"
     ]
    }
   ],
   "source": [
    "for c in line:\n",
    "    if ord(c) > 127:\n",
    "        print('%r U+%04x %s' % (c.encode('utf8'), ord(c), unicodedata.name(c)))"
   ],
   "metadata": {
    "collapsed": false,
    "pycharm": {
     "name": "#%%\n"
    }
   }
  },
  {
   "cell_type": "code",
   "execution_count": 88,
   "outputs": [
    {
     "name": "stdout",
     "output_type": "stream",
     "text": [
      "b'\\xc3\\xb3' U+00f3 LATIN SMALL LETTER O WITH ACUTE\n",
      "b'\\xc5\\x9b' U+015b LATIN SMALL LETTER S WITH ACUTE\n",
      "b'\\xc5\\x9a' U+015a LATIN CAPITAL LETTER S WITH ACUTE\n",
      "b'\\xc4\\x85' U+0105 LATIN SMALL LETTER A WITH OGONEK\n",
      "b'\\xc5\\x82' U+0142 LATIN SMALL LETTER L WITH STROKE\n"
     ]
    }
   ],
   "source": [
    "for c in line:\n",
    "    if ord(c) > 127:\n",
    "        print('%s U+%04x %s' % (c.encode('utf8'), ord(c), unicodedata.name(c)))"
   ],
   "metadata": {
    "collapsed": false,
    "pycharm": {
     "name": "#%%\n"
    }
   }
  },
  {
   "cell_type": "code",
   "execution_count": 89,
   "outputs": [
    {
     "data": {
      "text/plain": "54"
     },
     "execution_count": 89,
     "metadata": {},
     "output_type": "execute_result"
    }
   ],
   "source": [
    "line.find(u'zosta\\u0142y')"
   ],
   "metadata": {
    "collapsed": false,
    "pycharm": {
     "name": "#%%\n"
    }
   }
  },
  {
   "cell_type": "code",
   "execution_count": 90,
   "outputs": [
    {
     "name": "stdout",
     "output_type": "stream",
     "text": [
      "b'niemc\\\\xf3w pod koniec ii wojny \\\\u015bwiatowej na dolny \\\\u015bl\\\\u0105sk, zosta\\\\u0142y\\\\n'\n"
     ]
    }
   ],
   "source": [
    "line = line.lower()\n",
    "print(line.encode('unicode_escape'))"
   ],
   "metadata": {
    "collapsed": false,
    "pycharm": {
     "name": "#%%\n"
    }
   }
  },
  {
   "cell_type": "code",
   "execution_count": 91,
   "outputs": [
    {
     "data": {
      "text/plain": "'światowej'"
     },
     "execution_count": 91,
     "metadata": {},
     "output_type": "execute_result"
    }
   ],
   "source": [
    "import re\n",
    "m = re.search(u'\\u015b\\w*', line)\n",
    "m.group()"
   ],
   "metadata": {
    "collapsed": false,
    "pycharm": {
     "name": "#%%\n"
    }
   }
  },
  {
   "cell_type": "code",
   "execution_count": 92,
   "outputs": [
    {
     "data": {
      "text/plain": "['niemców',\n 'pod',\n 'koniec',\n 'ii',\n 'wojny',\n 'światowej',\n 'na',\n 'dolny',\n 'śląsk',\n ',',\n 'zostały']"
     },
     "execution_count": 92,
     "metadata": {},
     "output_type": "execute_result"
    }
   ],
   "source": [
    "nltk.word_tokenize(line)"
   ],
   "metadata": {
    "collapsed": false,
    "pycharm": {
     "name": "#%%\n"
    }
   }
  },
  {
   "cell_type": "code",
   "execution_count": 93,
   "outputs": [],
   "source": [
    "import re\n",
    "wordlist = [w for w in nltk.corpus.words.words('en') if w.islower()]"
   ],
   "metadata": {
    "collapsed": false,
    "pycharm": {
     "name": "#%%\n"
    }
   }
  },
  {
   "cell_type": "code",
   "execution_count": 94,
   "outputs": [
    {
     "data": {
      "text/plain": "['abaissed',\n 'abandoned',\n 'abased',\n 'abashed',\n 'abatised',\n 'abed',\n 'aborted',\n 'abridged',\n 'abscessed',\n 'absconded',\n 'absorbed',\n 'abstracted',\n 'abstricted',\n 'accelerated',\n 'accepted',\n 'accidented',\n 'accoladed',\n 'accolated',\n 'accomplished',\n 'accosted',\n 'accredited',\n 'accursed',\n 'accused',\n 'accustomed',\n 'acetated',\n 'acheweed',\n 'aciculated',\n 'aciliated',\n 'acknowledged',\n 'acorned',\n 'acquainted',\n 'acquired',\n 'acquisited',\n 'acred',\n 'aculeated',\n 'addebted',\n 'added',\n 'addicted',\n 'addlebrained',\n 'addleheaded',\n 'addlepated',\n 'addorsed',\n 'adempted',\n 'adfected',\n 'adjoined',\n 'admired',\n 'admitted',\n 'adnexed',\n 'adopted',\n 'adossed',\n 'adreamed',\n 'adscripted',\n 'aduncated',\n 'advanced',\n 'advised',\n 'aeried',\n 'aethered',\n 'afeared',\n 'affected',\n 'affectioned',\n 'affined',\n 'afflicted',\n 'affricated',\n 'affrighted',\n 'affronted',\n 'aforenamed',\n 'afterfeed',\n 'aftershafted',\n 'afterthoughted',\n 'afterwitted',\n 'agazed',\n 'aged',\n 'agglomerated',\n 'aggrieved',\n 'agminated',\n 'agnamed',\n 'agonied',\n 'agreed',\n 'agueweed',\n 'ahungered',\n 'aiguilletted',\n 'ailweed',\n 'airbrained',\n 'airified',\n 'aiseweed',\n 'aisled',\n 'alarmed',\n 'alated',\n 'alimonied',\n 'aliped',\n 'alleyed',\n 'allied',\n 'alligatored',\n 'allseed',\n 'almsdeed',\n 'aloed',\n 'altared',\n 'alveolated',\n 'amazed',\n 'ameed',\n 'amiced',\n 'amphitheatered',\n 'ampullated',\n 'amused',\n 'anchored',\n 'angled',\n 'anguiped',\n 'anguished',\n 'angulated',\n 'angulinerved',\n 'anhungered',\n 'animated',\n 'aniseed',\n 'annodated',\n 'annulated',\n 'anomaliped',\n 'anserated',\n 'anteflected',\n 'anteflexed',\n 'antimoniated',\n 'antimoniureted',\n 'antimoniuretted',\n 'antiquated',\n 'antired',\n 'antiweed',\n 'antlered',\n 'apertured',\n 'apexed',\n 'apicifixed',\n 'apiculated',\n 'apocopated',\n 'apostrophied',\n 'appearanced',\n 'appellatived',\n 'appendaged',\n 'appendiculated',\n 'applied',\n 'appressed',\n 'aralkylated',\n 'arbored',\n 'arched',\n 'architraved',\n 'arcked',\n 'arcuated',\n 'ared',\n 'areolated',\n 'ariled',\n 'arillated',\n 'armchaired',\n 'armed',\n 'armied',\n 'armillated',\n 'armored',\n 'armoried',\n 'arpeggiated',\n 'arpeggioed',\n 'arrased',\n 'arrowed',\n 'arrowheaded',\n 'arrowweed',\n 'arseneted',\n 'arsenetted',\n 'arseniureted',\n 'articled',\n 'articulated',\n 'ashamed',\n 'ashlared',\n 'ashweed',\n 'aspersed',\n 'asphyxied',\n 'assented',\n 'assessed',\n 'assigned',\n 'assistanted',\n 'associated',\n 'assonanced',\n 'assorted',\n 'assumed',\n 'assured',\n 'asteriated',\n 'astonied',\n 'aswooned',\n 'atrophiated',\n 'atrophied',\n 'attached',\n 'attired',\n 'attrited',\n 'augmented',\n 'aurated',\n 'auricled',\n 'auriculated',\n 'authorized',\n 'autoinhibited',\n 'autosensitized',\n 'autosled',\n 'averted',\n 'avowed',\n 'awearied',\n 'awned',\n 'awninged',\n 'axed',\n 'axhammered',\n 'axised',\n 'axled',\n 'axseed',\n 'axweed',\n 'azoted',\n 'azured',\n 'babied',\n 'babished',\n 'babyfied',\n 'baccated',\n 'backboned',\n 'backed',\n 'backhanded',\n 'backwatered',\n 'baconweed',\n 'badgerweed',\n 'bagged',\n 'bagwigged',\n 'baked',\n 'balanced',\n 'balconied',\n 'baldachined',\n 'baldricked',\n 'balled',\n 'ballweed',\n 'balsamweed',\n 'balustered',\n 'balustraded',\n 'bandannaed',\n 'banded',\n 'bandoleered',\n 'bangled',\n 'banked',\n 'bankweed',\n 'bannered',\n 'barbated',\n 'barbed',\n 'barebacked',\n 'bareboned',\n 'barefaced',\n 'barefooted',\n 'barehanded',\n 'bareheaded',\n 'barelegged',\n 'barenecked',\n 'barmybrained',\n 'barred',\n 'barreled',\n 'bartizaned',\n 'basebred',\n 'based',\n 'basehearted',\n 'basifixed',\n 'basilweed',\n 'basined',\n 'basinerved',\n 'basqued',\n 'bastioned',\n 'bated',\n 'bathroomed',\n 'battered',\n 'batteried',\n 'battled',\n 'battlemented',\n 'bayed',\n 'bayoneted',\n 'beached',\n 'beaded',\n 'beaked',\n 'bealtared',\n 'beamed',\n 'beanweed',\n 'beaproned',\n 'bearded',\n 'beautied',\n 'beavered',\n 'beballed',\n 'bebannered',\n 'bebed',\n 'bebelted',\n 'bebled',\n 'bebothered',\n 'bebouldered',\n 'bebuttoned',\n 'becassocked',\n 'bechained',\n 'bechignoned',\n 'becircled',\n 'becoiffed',\n 'becombed',\n 'becousined',\n 'becrinolined',\n 'becuffed',\n 'becurtained',\n 'becushioned',\n 'bed',\n 'bedaggered',\n 'bedangled',\n 'bedded',\n 'bediademed',\n 'bediamonded',\n 'beedged',\n 'beefheaded',\n 'beeheaded',\n 'beeswinged',\n 'beetled',\n 'beetleheaded',\n 'beetleweed',\n 'beeweed',\n 'befamilied',\n 'befanned',\n 'befathered',\n 'beferned',\n 'befetished',\n 'befezzed',\n 'befilleted',\n 'befilmed',\n 'beforested',\n 'befountained',\n 'befrocked',\n 'befrogged',\n 'befurbelowed',\n 'befurred',\n 'begabled',\n 'begarlanded',\n 'begartered',\n 'beggarweed',\n 'beglobed',\n 'begoggled',\n 'begowned',\n 'behatted',\n 'behaviored',\n 'beheadlined',\n 'behooped',\n 'beinked',\n 'bekilted',\n 'beknived',\n 'beknotted',\n 'belaced',\n 'belated',\n 'belatticed',\n 'belavendered',\n 'beledgered',\n 'belfried',\n 'beliked',\n 'belimousined',\n 'belled',\n 'bellied',\n 'bellmouthed',\n 'bellweed',\n 'beloved',\n 'belozenged',\n 'belted',\n 'bemazed',\n 'bemedaled',\n 'bemedalled',\n 'bemitered',\n 'bemitred',\n 'bemused',\n 'bemuslined',\n 'bended',\n 'beneaped',\n 'beneficed',\n 'beneighbored',\n 'benempted',\n 'benighted',\n 'bennetweed',\n 'benumbed',\n 'benweed',\n 'benzoated',\n 'benzoinated',\n 'bepastured',\n 'bepatched',\n 'beperiwigged',\n 'bepewed',\n 'bepillared',\n 'bepistoled',\n 'beplaided',\n 'beplumed',\n 'beribanded',\n 'beribboned',\n 'beringed',\n 'beringleted',\n 'berobed',\n 'berouged',\n 'berried',\n 'berthed',\n 'beruffed',\n 'beruffled',\n 'beshawled',\n 'besieged',\n 'beslushed',\n 'besotted',\n 'bespecked',\n 'bespectacled',\n 'besped',\n 'bespeed',\n 'bespelled',\n 'bespurred',\n 'bestatued',\n 'bestayed',\n 'bestrapped',\n 'bestubbled',\n 'besweatered',\n 'betattered',\n 'betaxed',\n 'betowered',\n 'betrothed',\n 'betrousered',\n 'betted',\n 'betuckered',\n 'beturbaned',\n 'betusked',\n 'betutored',\n 'betwattled',\n 'beuniformed',\n 'beveled',\n 'bevelled',\n 'bevesseled',\n 'bevesselled',\n 'bevined',\n 'bevoiled',\n 'bewaitered',\n 'bewhiskered',\n 'bewigged',\n 'bewildered',\n 'bewinged',\n 'bewired',\n 'bewrathed',\n 'biangulated',\n 'biarcuated',\n 'biarticulated',\n 'bicarbureted',\n 'biciliated',\n 'bicolored',\n 'bicorned',\n 'bidented',\n 'bifanged',\n 'bifidated',\n 'biflected',\n 'biforked',\n 'biformed',\n 'bifronted',\n 'bifurcated',\n 'bigeminated',\n 'bighearted',\n 'bigmouthed',\n 'bigoted',\n 'bigwigged',\n 'bilamellated',\n 'bilaminated',\n 'billed',\n 'bilobated',\n 'bilobed',\n 'bilsted',\n 'bimaculated',\n 'bimotored',\n 'bindweed',\n 'bineweed',\n 'binominated',\n 'binucleated',\n 'biparted',\n 'bipectinated',\n 'biped',\n 'bipennated',\n 'bipinnated',\n 'bipinnatiparted',\n 'bipinnatisected',\n 'biradiated',\n 'birdmouthed',\n 'birdseed',\n 'birdweed',\n 'birostrated',\n 'birthbed',\n 'bisexed',\n 'bishopweed',\n 'bistered',\n 'bistipuled',\n 'bisubstituted',\n 'bitted',\n 'bitterhearted',\n 'bitterweed',\n 'bituberculated',\n 'bitumed',\n 'bivalved',\n 'bivaulted',\n 'bivocalized',\n 'blackhearted',\n 'blackseed',\n 'blackshirted',\n 'bladderseed',\n 'bladderweed',\n 'bladed',\n 'blakeberyed',\n 'blamed',\n 'blanked',\n 'blanketed',\n 'blanketweed',\n 'blasted',\n 'bleached',\n 'bleared',\n 'bleed',\n 'blended',\n 'blessed',\n 'blighted',\n 'blinded',\n 'blindfolded',\n 'blindweed',\n 'blinked',\n 'blinkered',\n 'blistered',\n 'blisterweed',\n 'blithehearted',\n 'bloated',\n 'blobbed',\n 'blocked',\n 'blockheaded',\n 'blooded',\n 'bloodied',\n 'bloodshed',\n 'bloodstained',\n 'bloodweed',\n 'blossomed',\n 'blotched',\n 'bloused',\n 'blowzed',\n 'bludgeoned',\n 'bluebelled',\n 'bluehearted',\n 'blueweed',\n 'blunderheaded',\n 'blunthearted',\n 'blurred',\n 'bobbed',\n 'bobsled',\n 'bobtailed',\n 'bodiced',\n 'bodied',\n 'boiled',\n 'boldhearted',\n 'bolectioned',\n 'boled',\n 'boleweed',\n 'bolled',\n 'bombed',\n 'bonded',\n 'boned',\n 'boneheaded',\n 'bonneted',\n 'booked',\n 'booted',\n 'bootied',\n 'boozed',\n 'bordered',\n 'bordured',\n 'bosomed',\n 'bossed',\n 'bosselated',\n 'botched',\n 'botherheaded',\n 'bothsided',\n 'bottled',\n 'bottomed',\n 'boughed',\n 'bounded',\n 'bountied',\n 'bowed',\n 'boweled',\n 'bowlegged',\n 'bowstringed',\n 'braced',\n 'braceleted',\n 'brackened',\n 'bracted',\n 'braided',\n 'brambled',\n 'branched',\n 'branded',\n 'brandied',\n 'brangled',\n 'bravehearted',\n 'brawned',\n 'brazenfaced',\n 'breasted',\n 'breastweed',\n 'breathed',\n 'brecciated',\n 'bred',\n 'breeched',\n 'breed',\n 'breviped',\n 'bridebed',\n 'brideweed',\n 'bridged',\n 'bridled',\n 'briered',\n 'brimmed',\n 'bristled',\n 'broadhearted',\n 'brocaded',\n 'brocked',\n 'brokenhearted',\n 'bromoiodized',\n 'bronzed',\n 'brooked',\n 'brookweed',\n 'broomweed',\n 'broozled',\n 'browed',\n 'brownweed',\n 'bruckled',\n 'brushed',\n 'buboed',\n 'bucked',\n 'buckled',\n 'buckskinned',\n 'buffed',\n 'bugled',\n 'bugleweed',\n 'bugseed',\n 'bugweed',\n 'bulbed',\n 'bulked',\n 'bulkheaded',\n 'bullated',\n 'bulldogged',\n 'bulleted',\n 'bulletheaded',\n 'bullheaded',\n 'bullweed',\n 'bummed',\n 'bundlerooted',\n 'bundweed',\n 'bunted',\n 'buried',\n 'burled',\n 'burned',\n 'burnoosed',\n 'burntweed',\n 'burred',\n 'burroweed',\n 'burseed',\n 'burweed',\n 'bushed',\n 'busied',\n 'busked',\n 'buskined',\n 'busted',\n 'bustled',\n 'busybodied',\n 'buttered',\n 'butterfingered',\n 'butterweed',\n 'butteryfingered',\n 'buttocked',\n 'buttoned',\n 'buttonweed',\n 'cabled',\n 'caboshed',\n 'caddiced',\n 'caddised',\n 'cadenced',\n 'cadweed',\n 'caftaned',\n 'caged',\n 'cairned',\n 'caissoned',\n 'calced',\n 'calcified',\n 'calcined',\n 'calculated',\n 'calibered',\n 'calicoed',\n 'caligated',\n 'calpacked',\n 'calved',\n 'calycled',\n 'calyculated',\n 'camailed',\n 'camerated',\n 'cammed',\n 'campanulated',\n 'campshed',\n 'camused',\n 'canaliculated',\n 'cancellated',\n 'cancered',\n 'cancerweed',\n 'candied',\n 'candlelighted',\n 'candlesticked',\n 'candyweed',\n 'canioned',\n 'cankered',\n 'cankerweed',\n 'canned',\n 'cannelated',\n 'cannelured',\n 'cannoned',\n 'cannulated',\n 'canted',\n 'cantilevered',\n 'cantoned',\n 'cantred',\n 'caped',\n 'capernoited',\n 'capeweed',\n 'capitaled',\n 'capitated',\n 'capped',\n 'capriped',\n 'capsulated',\n 'capuched',\n 'carapaced',\n 'carbolated',\n 'carboyed',\n 'carbuncled',\n 'carcaneted',\n 'carded',\n 'carinated',\n 'carkled',\n 'carnaged',\n 'carnationed',\n 'carpetweed',\n 'carried',\n 'carrotweed',\n 'carucated',\n 'carunculated',\n 'cased',\n 'casemated',\n 'casemented',\n 'caseweed',\n 'casqued',\n 'castellated',\n 'castled',\n 'castorized',\n 'catamited',\n 'cataracted',\n 'catarrhed',\n 'catchweed',\n 'catenated',\n 'caterpillared',\n 'catfaced',\n 'catfooted',\n 'cathedraled',\n 'caudated',\n 'caverned',\n 'cavitied',\n 'cayenned',\n 'cedared',\n 'ceilinged',\n 'celebrated',\n 'cellated',\n 'celled',\n 'cellulated',\n 'celluloided',\n 'centered',\n 'centriffed',\n 'centuried',\n 'cerated',\n 'cered',\n 'certified',\n 'chafeweed',\n 'chaffseed',\n 'chaffweed',\n 'chafted',\n 'chained',\n 'chaliced',\n 'chambered',\n 'chamberleted',\n 'chamberletted',\n 'chanceled',\n 'channeled',\n 'channelled',\n 'chaped',\n 'chapleted',\n 'chapournetted',\n 'chapped',\n 'charioted',\n 'charqued',\n 'chartered',\n 'chasmed',\n 'chasteweed',\n 'chasubled',\n 'checked',\n 'checkered',\n 'checkrowed',\n 'cheered',\n 'cheliped',\n 'cherried',\n 'chickenbreasted',\n 'chickenhearted',\n 'chickenweed',\n 'chickweed',\n 'chicqued',\n 'chiggerweed',\n 'chignoned',\n 'childbed',\n 'childed',\n 'chilled',\n 'chined',\n 'chinned',\n 'chipped',\n 'chiseled',\n 'chitinized',\n 'chokered',\n 'chokeweed',\n 'cholterheaded',\n 'chopped',\n 'choppered',\n 'chorded',\n 'chowderheaded',\n 'christened',\n 'chubbed',\n 'chuckleheaded',\n 'churchified',\n 'churled',\n 'ciliated',\n 'cingulated',\n 'cinnamoned',\n 'cinquefoiled',\n 'circled',\n 'circumscribed',\n 'circumstanced',\n 'cirrated',\n 'cirrhosed',\n 'cirriped',\n 'cisted',\n 'citied',\n 'citified',\n 'citrated',\n 'civilized',\n 'clammed',\n 'clammyweed',\n 'clanned',\n 'clapped',\n 'classed',\n 'classified',\n 'clavated',\n 'clavellated',\n 'clawed',\n 'claybrained',\n 'clayweed',\n 'cleaded',\n 'cleanhanded',\n 'cleanhearted',\n 'clearheaded',\n 'clearhearted',\n 'clearweed',\n 'cled',\n 'cleeked',\n 'clefted',\n 'clerestoried',\n 'cliented',\n 'cliffed',\n 'cliffweed',\n 'clipped',\n 'cloaked',\n 'clocked',\n 'clodpated',\n 'cloistered',\n 'closed',\n 'closefisted',\n 'closehanded',\n 'closehearted',\n 'closemouthed',\n 'clotweed',\n 'clouded',\n 'clouted',\n 'clovered',\n 'clubbed',\n 'clubfisted',\n 'clubfooted',\n 'clubweed',\n 'clustered',\n 'coaged',\n 'coaggregated',\n 'coated',\n 'coattailed',\n 'cobbed',\n 'cocashweed',\n 'cochleated',\n 'cockaded',\n 'cocked',\n 'cockeyed',\n 'cockled',\n 'cockneybred',\n 'cockscombed',\n 'cockweed',\n 'codheaded',\n 'coed',\n 'coelongated',\n 'coembedded',\n 'coequated',\n 'coexpanded',\n 'coffeeweed',\n 'cogged',\n 'coifed',\n 'coiled',\n 'coldhearted',\n 'coleseed',\n 'colicweed',\n 'collared',\n 'collected',\n 'collied',\n 'colloped',\n 'colonnaded',\n 'colored',\n 'columnated',\n 'columned',\n 'combed',\n 'combined',\n 'compacted',\n 'complected',\n 'complexioned',\n 'complicated',\n 'componed',\n 'componented',\n 'composed',\n 'compressed',\n 'comprised',\n 'compulsed',\n 'conamed',\n 'concamerated',\n 'concealed',\n 'conceded',\n 'conceited',\n 'concentrated',\n 'concerned',\n 'concerted',\n 'conched',\n 'conchyliated',\n 'condemned',\n 'condensed',\n 'conditioned',\n 'conduplicated',\n 'coned',\n 'confated',\n 'conferted',\n 'confined',\n 'confirmed',\n 'conflated',\n 'confounded',\n 'confused',\n 'congested',\n 'conjoined',\n 'conjugated',\n 'connected',\n 'conred',\n 'consecrated',\n 'considered',\n 'consolidated',\n 'constrained',\n 'constricted',\n 'consumpted',\n 'contagioned',\n 'contented',\n 'contextured',\n 'continued',\n 'contorted',\n 'contortioned',\n 'contracted',\n 'contractured',\n 'contusioned',\n 'converted',\n 'convexed',\n 'convinced',\n 'convoluted',\n 'coolheaded',\n 'coolweed',\n 'copied',\n 'copleased',\n 'copped',\n 'coppernosed',\n 'copperytailed',\n 'coppiced',\n 'coppled',\n 'copsewooded',\n 'copygraphed',\n 'coraled',\n 'corded',\n 'corduroyed',\n 'cored',\n 'coreflexed',\n 'corked',\n 'cornered',\n 'cornified',\n 'cornuated',\n 'cornuted',\n 'corollated',\n 'coronaled',\n 'coronated',\n 'coroneted',\n 'coronetted',\n 'corpusculated',\n 'corrected',\n 'correlated',\n 'corridored',\n ...]"
     },
     "execution_count": 94,
     "metadata": {},
     "output_type": "execute_result"
    }
   ],
   "source": [
    "[w for w in wordlist if re.search('ed$', w)]"
   ],
   "metadata": {
    "collapsed": false,
    "pycharm": {
     "name": "#%%\n"
    }
   }
  },
  {
   "cell_type": "code",
   "execution_count": 95,
   "outputs": [
    {
     "data": {
      "text/plain": "['abjectly',\n 'adjuster',\n 'dejected',\n 'dejectly',\n 'injector',\n 'majestic',\n 'objectee',\n 'objector',\n 'rejecter',\n 'rejector',\n 'unjilted',\n 'unjolted',\n 'unjustly']"
     },
     "execution_count": 95,
     "metadata": {},
     "output_type": "execute_result"
    }
   ],
   "source": [
    "[w for w in wordlist if re.search('^..j..t..$', w)]"
   ],
   "metadata": {
    "collapsed": false,
    "pycharm": {
     "name": "#%%\n"
    }
   }
  },
  {
   "cell_type": "code",
   "execution_count": 96,
   "outputs": [
    {
     "data": {
      "text/plain": "['abjectedness',\n 'abjection',\n 'abjective',\n 'abjectly',\n 'abjectness',\n 'adjection',\n 'adjectional',\n 'adjectival',\n 'adjectivally',\n 'adjective',\n 'adjectively',\n 'adjectivism',\n 'adjectivitis',\n 'adjustable',\n 'adjustably',\n 'adjustage',\n 'adjustation',\n 'adjuster',\n 'adjustive',\n 'adjustment',\n 'antejentacular',\n 'antiprojectivity',\n 'bijouterie',\n 'coadjustment',\n 'cojusticiar',\n 'conjective',\n 'conjecturable',\n 'conjecturably',\n 'conjectural',\n 'conjecturalist',\n 'conjecturality',\n 'conjecturally',\n 'conjecture',\n 'conjecturer',\n 'coprojector',\n 'counterobjection',\n 'dejected',\n 'dejectedly',\n 'dejectedness',\n 'dejectile',\n 'dejection',\n 'dejectly',\n 'dejectory',\n 'dejecture',\n 'disjection',\n 'guanajuatite',\n 'inadjustability',\n 'inadjustable',\n 'injectable',\n 'injection',\n 'injector',\n 'injustice',\n 'insubjection',\n 'interjection',\n 'interjectional',\n 'interjectionalize',\n 'interjectionally',\n 'interjectionary',\n 'interjectionize',\n 'interjectiveness',\n 'interjector',\n 'interjectorily',\n 'interjectory',\n 'interjectural',\n 'interobjective',\n 'intersubjective',\n 'introjection',\n 'introjective',\n 'majestic',\n 'majestical',\n 'majestically',\n 'majesticalness',\n 'majesticness',\n 'majestious',\n 'majestyship',\n 'maladjusted',\n 'maladjustive',\n 'maladjustment',\n 'microinjection',\n 'microprojector',\n 'misconjecture',\n 'munjistin',\n 'nonadjectival',\n 'nonadjustable',\n 'nonadjustive',\n 'nonadjustment',\n 'nonconjectural',\n 'nonejection',\n 'nonobjection',\n 'nonobjective',\n 'nonprojection',\n 'nonprojective',\n 'nonprojectively',\n 'nonrejection',\n 'nonsubjective',\n 'objectable',\n 'objectation',\n 'objectative',\n 'objectee',\n 'objecthood',\n 'objectification',\n 'objectify',\n 'objection',\n 'objectionability',\n 'objectionable',\n 'objectionableness',\n 'objectionably',\n 'objectional',\n 'objectioner',\n 'objectionist',\n 'objectival',\n 'objectivate',\n 'objectivation',\n 'objective',\n 'objectively',\n 'objectiveness',\n 'objectivism',\n 'objectivist',\n 'objectivistic',\n 'objectivity',\n 'objectivize',\n 'objectization',\n 'objectize',\n 'objectless',\n 'objectlessly',\n 'objectlessness',\n 'objector',\n 'outjetting',\n 'overjutting',\n 'overobjectify',\n 'preadjectival',\n 'preadjective',\n 'preadjustable',\n 'preadjustment',\n 'preconjecture',\n 'prejustification',\n 'prejustify',\n 'preobjection',\n 'preobjective',\n 'prerejection',\n 'presubjection',\n 'projectable',\n 'projectedly',\n 'projectile',\n 'projecting',\n 'projectingly',\n 'projection',\n 'projectional',\n 'projectionist',\n 'projective',\n 'projectively',\n 'projectivity',\n 'projector',\n 'projectress',\n 'projectrix',\n 'projecture',\n 'readjustable',\n 'readjuster',\n 'readjustment',\n 'rejectable',\n 'rejectableness',\n 'rejectage',\n 'rejectamenta',\n 'rejecter',\n 'rejectingly',\n 'rejection',\n 'rejective',\n 'rejectment',\n 'rejector',\n 'rejustification',\n 'rejustify',\n 'reobjectivization',\n 'reobjectivize',\n 'resubjection',\n 'retrojection',\n 'semiadjectively',\n 'subjectability',\n 'subjectable',\n 'subjectdom',\n 'subjected',\n 'subjectedly',\n 'subjectedness',\n 'subjecthood',\n 'subjectibility',\n 'subjectible',\n 'subjectification',\n 'subjectify',\n 'subjectile',\n 'subjection',\n 'subjectional',\n 'subjectist',\n 'subjective',\n 'subjectively',\n 'subjectiveness',\n 'subjectivism',\n 'subjectivist',\n 'subjectivistic',\n 'subjectivistically',\n 'subjectivity',\n 'subjectivize',\n 'subjectivoidealistic',\n 'subjectless',\n 'subjectlike',\n 'subjectness',\n 'subjectship',\n 'superdejection',\n 'superinjustice',\n 'superjustification',\n 'superobjection',\n 'superobjectionable',\n 'teleobjective',\n 'trajectile',\n 'trajection',\n 'trajectitious',\n 'trajectory',\n 'transsubjective',\n 'unadjectived',\n 'unadjustably',\n 'unadjusted',\n 'unadjustment',\n 'unconjecturable',\n 'unconjectured',\n 'undejected',\n 'underadjustment',\n 'unejected',\n 'uninjectable',\n 'uninjected',\n 'uninterjected',\n 'unjesting',\n 'unjilted',\n 'unjolted',\n 'unjostled',\n 'unjustice',\n 'unjusticiable',\n 'unjustifiable',\n 'unjustifiableness',\n 'unjustifiably',\n 'unjustified',\n 'unjustifiedly',\n 'unjustifiedness',\n 'unjustify',\n 'unjustled',\n 'unjustly',\n 'unjustness',\n 'unmajestic',\n 'unobjected',\n 'unobjectionable',\n 'unobjectionableness',\n 'unobjectionably',\n 'unobjectional',\n 'unobjective',\n 'unprojected',\n 'unprojecting',\n 'unrejectable',\n 'unsubjectable',\n 'unsubjected',\n 'unsubjectedness',\n 'unsubjection',\n 'unsubjective',\n 'unsubjectlike']"
     },
     "execution_count": 96,
     "metadata": {},
     "output_type": "execute_result"
    }
   ],
   "source": [
    "[w for w in wordlist if re.search('..j..t..', w)]"
   ],
   "metadata": {
    "collapsed": false,
    "pycharm": {
     "name": "#%%\n"
    }
   }
  },
  {
   "cell_type": "code",
   "execution_count": 97,
   "outputs": [
    {
     "data": {
      "text/plain": "['gold', 'golf', 'hold', 'hole']"
     },
     "execution_count": 97,
     "metadata": {},
     "output_type": "execute_result"
    }
   ],
   "source": [
    "[w for w in wordlist if re.search('^[ghi][mno][jlk][def]$', w)]"
   ],
   "metadata": {
    "collapsed": false,
    "pycharm": {
     "name": "#%%\n"
    }
   }
  },
  {
   "cell_type": "code",
   "execution_count": 98,
   "outputs": [
    {
     "data": {
      "text/plain": "['miiiiiiiiiiiiinnnnnnnnnnneeeeeeeeee',\n 'miiiiiinnnnnnnnnneeeeeeee',\n 'mine',\n 'mmmmmmmmiiiiiiiiinnnnnnnnneeeeeeee']"
     },
     "execution_count": 98,
     "metadata": {},
     "output_type": "execute_result"
    }
   ],
   "source": [
    "chat_words = sorted(set(w for w in nltk.corpus.nps_chat.words()))\n",
    "[w for w in chat_words if re.search('^m+i+n+e+$', w)]"
   ],
   "metadata": {
    "collapsed": false,
    "pycharm": {
     "name": "#%%\n"
    }
   }
  },
  {
   "cell_type": "code",
   "execution_count": 99,
   "outputs": [
    {
     "data": {
      "text/plain": "['a',\n 'aaaaaaaaaaaaaaaaa',\n 'aaahhhh',\n 'ah',\n 'ahah',\n 'ahahah',\n 'ahh',\n 'ahhahahaha',\n 'ahhh',\n 'ahhhh',\n 'ahhhhhh',\n 'ahhhhhhhhhhhhhh',\n 'h',\n 'ha',\n 'haaa',\n 'hah',\n 'haha',\n 'hahaaa',\n 'hahah',\n 'hahaha',\n 'hahahaa',\n 'hahahah',\n 'hahahaha',\n 'hahahahaaa',\n 'hahahahahaha',\n 'hahahahahahaha',\n 'hahahahahahahahahahahahahahahaha',\n 'hahahhahah',\n 'hahhahahaha']"
     },
     "execution_count": 99,
     "metadata": {},
     "output_type": "execute_result"
    }
   ],
   "source": [
    "[w for w in chat_words if re.search('^[ha]+$', w)]"
   ],
   "metadata": {
    "collapsed": false,
    "pycharm": {
     "name": "#%%\n"
    }
   }
  },
  {
   "cell_type": "code",
   "execution_count": 100,
   "outputs": [
    {
     "data": {
      "text/plain": "['0.0085',\n '0.05',\n '0.1',\n '0.16',\n '0.2',\n '0.25',\n '0.28',\n '0.3',\n '0.4',\n '0.5',\n '0.50',\n '0.54',\n '0.56',\n '0.60',\n '0.7',\n '0.82',\n '0.84',\n '0.9',\n '0.95',\n '0.99',\n '1.01',\n '1.1',\n '1.125',\n '1.14',\n '1.1650',\n '1.17',\n '1.18',\n '1.19',\n '1.2',\n '1.20',\n '1.24',\n '1.25',\n '1.26',\n '1.28',\n '1.35',\n '1.39',\n '1.4',\n '1.457',\n '1.46',\n '1.49',\n '1.5',\n '1.50',\n '1.55',\n '1.56',\n '1.5755',\n '1.5805',\n '1.6',\n '1.61',\n '1.637',\n '1.64',\n '1.65',\n '1.7',\n '1.75',\n '1.76',\n '1.8',\n '1.82',\n '1.8415',\n '1.85',\n '1.8500',\n '1.9',\n '1.916',\n '1.92',\n '10.19',\n '10.2',\n '10.5',\n '107.03',\n '107.9',\n '109.73',\n '11.10',\n '11.5',\n '11.57',\n '11.6',\n '11.72',\n '11.95',\n '112.9',\n '113.2',\n '116.3',\n '116.4',\n '116.7',\n '116.9',\n '118.6',\n '12.09',\n '12.5',\n '12.52',\n '12.68',\n '12.7',\n '12.82',\n '12.97',\n '120.7',\n '1206.26',\n '121.6',\n '126.1',\n '126.15',\n '127.03',\n '129.91',\n '13.1',\n '13.15',\n '13.5',\n '13.50',\n '13.625',\n '13.65',\n '13.73',\n '13.8',\n '13.90',\n '130.6',\n '130.7',\n '131.01',\n '132.9',\n '133.7',\n '133.8',\n '14.00',\n '14.13',\n '14.26',\n '14.28',\n '14.43',\n '14.5',\n '14.53',\n '14.54',\n '14.6',\n '14.75',\n '14.99',\n '141.9',\n '142.84',\n '142.85',\n '143.08',\n '143.80',\n '143.93',\n '148.9',\n '149.9',\n '15.5',\n '150.00',\n '153.3',\n '154.2',\n '16.05',\n '16.09',\n '16.125',\n '16.2',\n '16.5',\n '16.68',\n '16.7',\n '16.9',\n '169.9',\n '17.3',\n '17.4',\n '17.5',\n '17.95',\n '1738.1',\n '176.1',\n '18.3',\n '18.6',\n '18.95',\n '185.9',\n '188.84',\n '19.3',\n '19.50',\n '19.6',\n '19.94',\n '19.95',\n '191.9',\n '2.07',\n '2.1',\n '2.15',\n '2.19',\n '2.2',\n '2.25',\n '2.29',\n '2.3',\n '2.30',\n '2.35',\n '2.375',\n '2.4',\n '2.42',\n '2.44',\n '2.46',\n '2.47',\n '2.5',\n '2.50',\n '2.6',\n '2.62',\n '2.65',\n '2.7',\n '2.75',\n '2.8',\n '2.80',\n '2.87',\n '2.875',\n '2.9',\n '2.95',\n '20.07',\n '20.5',\n '21.1',\n '21.9',\n '2141.7',\n '2160.1',\n '2163.2',\n '22.75',\n '220.45',\n '221.4',\n '225.6',\n '23.25',\n '23.4',\n '23.5',\n '23.72',\n '234.4',\n '236.74',\n '236.79',\n '24.95',\n '25.50',\n '25.6',\n '251.2',\n '26.2',\n '26.5',\n '26.8',\n '263.07',\n '2645.90',\n '2691.19',\n '27.1',\n '27.4',\n '273.5',\n '278.7',\n '28.25',\n '28.36',\n '28.4',\n '28.5',\n '28.53',\n '28.6',\n '29.3',\n '29.4',\n '29.9',\n '292.32',\n '3.01',\n '3.04',\n '3.1',\n '3.16',\n '3.18',\n '3.19',\n '3.2',\n '3.20',\n '3.23',\n '3.253',\n '3.28',\n '3.3',\n '3.35',\n '3.375',\n '3.4',\n '3.42',\n '3.43',\n '3.5',\n '3.55',\n '3.6',\n '3.61',\n '3.625',\n '3.7',\n '3.75',\n '3.8',\n '3.80',\n '3.9',\n '30.6',\n '30.9',\n '319.75',\n '32.8',\n '334.5',\n '34.625',\n '341.20',\n '3436.58',\n '35.2',\n '35.7',\n '352.7',\n '352.9',\n '35500.64',\n '35564.43',\n '36.9',\n '361.8',\n '3648.82',\n '37.3',\n '37.5',\n '372.14',\n '372.9',\n '374.19',\n '374.20',\n '377.60',\n '38.3',\n '38.375',\n '38.5',\n '38.875',\n '387.8',\n '4.1',\n '4.10',\n '4.2',\n '4.25',\n '4.3',\n '4.4',\n '4.5',\n '4.55',\n '4.6',\n '4.7',\n '4.75',\n '4.8',\n '4.875',\n '4.898',\n '4.9',\n '40.21',\n '41.60',\n '415.6',\n '415.8',\n '42.1',\n '42.5',\n '422.5',\n '43.875',\n '434.4',\n '436.01',\n '446.62',\n '449.04',\n '45.2',\n '45.3',\n '45.75',\n '456.64',\n '46.1',\n '47.1',\n '47.125',\n '47.5',\n '47.6',\n '49.9',\n '494.50',\n '497.34',\n '5.1',\n '5.2180',\n '5.276',\n '5.29',\n '5.3',\n '5.39',\n '5.4',\n '5.435',\n '5.5',\n '5.57',\n '5.6',\n '5.63',\n '5.7',\n '5.70',\n '5.8',\n '5.82',\n '5.9',\n '5.92',\n '50.1',\n '50.38',\n '50.45',\n '51.25',\n '51.6',\n '55.1',\n '566.54',\n '57.50',\n '57.6',\n '57.7',\n '58.64',\n '59.6',\n '59.9',\n '6.03',\n '6.1',\n '6.20',\n '6.21',\n '6.25',\n '6.4',\n '6.40',\n '6.44',\n '6.5',\n '6.50',\n '6.53',\n '6.6',\n '6.7',\n '6.70',\n '6.79',\n '6.84',\n '6.9',\n '60.36',\n '618.1',\n '62.1',\n '62.5',\n '62.625',\n '63.79',\n '630.9',\n '64.5',\n '66.5',\n '7.15',\n '7.2',\n '7.20',\n '7.272',\n '7.3',\n '7.4',\n '7.40',\n '7.422',\n '7.45',\n '7.458',\n '7.5',\n '7.50',\n '7.52',\n '7.55',\n '7.60',\n '7.62',\n '7.63',\n '7.65',\n '7.74',\n '7.78',\n '7.79',\n '7.8',\n '7.80',\n '7.84',\n '7.88',\n '7.90',\n '7.95',\n '70.2',\n '70.7',\n '705.6',\n '72.7',\n '734.9',\n '737.5',\n '77.56',\n '77.6',\n '77.70',\n '8.04',\n '8.06',\n '8.07',\n '8.1',\n '8.12',\n '8.14',\n '8.15',\n '8.19',\n '8.2',\n '8.22',\n '8.25',\n '8.30',\n '8.35',\n '8.45',\n '8.467',\n '8.47',\n '8.48',\n '8.5',\n '8.50',\n '8.53',\n '8.55',\n '8.56',\n '8.575',\n '8.60',\n '8.64',\n '8.65',\n '8.70',\n '8.75',\n '8.9',\n '80.50',\n '80.8',\n '81.8',\n '811.9',\n '83.4',\n '84.29',\n '84.9',\n '85.1',\n '85.7',\n '86.12',\n '87.5',\n '88.32',\n '89.7',\n '89.9',\n '9.3',\n '9.32',\n '9.37',\n '9.45',\n '9.5',\n '9.625',\n '9.75',\n '9.8',\n '9.82',\n '9.9',\n '92.9',\n '93.3',\n '93.9',\n '94.2',\n '94.8',\n '95.09',\n '96.4',\n '98.3',\n '99.1',\n '99.3']"
     },
     "execution_count": 100,
     "metadata": {},
     "output_type": "execute_result"
    }
   ],
   "source": [
    "wsj = sorted(set(nltk.corpus.treebank.words()))\n",
    "[w for w in wsj if re.search('^[0-9]+\\.[0-9]+$', w)]"
   ],
   "metadata": {
    "collapsed": false,
    "pycharm": {
     "name": "#%%\n"
    }
   }
  },
  {
   "cell_type": "code",
   "execution_count": 101,
   "outputs": [
    {
     "data": {
      "text/plain": "['C$', 'US$']"
     },
     "execution_count": 101,
     "metadata": {},
     "output_type": "execute_result"
    }
   ],
   "source": [
    "[w for w in wsj if re.search('^[A-Z]+\\$$', w)]"
   ],
   "metadata": {
    "collapsed": false,
    "pycharm": {
     "name": "#%%\n"
    }
   }
  },
  {
   "cell_type": "code",
   "execution_count": 102,
   "outputs": [
    {
     "data": {
      "text/plain": "['1614',\n '1637',\n '1787',\n '1901',\n '1903',\n '1917',\n '1925',\n '1929',\n '1933',\n '1934',\n '1948',\n '1953',\n '1955',\n '1956',\n '1961',\n '1965',\n '1966',\n '1967',\n '1968',\n '1969',\n '1970',\n '1971',\n '1972',\n '1973',\n '1975',\n '1976',\n '1977',\n '1979',\n '1980',\n '1981',\n '1982',\n '1983',\n '1984',\n '1985',\n '1986',\n '1987',\n '1988',\n '1989',\n '1990',\n '1991',\n '1992',\n '1993',\n '1994',\n '1995',\n '1996',\n '1997',\n '1998',\n '1999',\n '2000',\n '2005',\n '2009',\n '2017',\n '2019',\n '2029',\n '3057',\n '8300']"
     },
     "execution_count": 102,
     "metadata": {},
     "output_type": "execute_result"
    }
   ],
   "source": [
    "[w for w in wsj if re.search('^[0-9]{4}$', w)]"
   ],
   "metadata": {
    "collapsed": false,
    "pycharm": {
     "name": "#%%\n"
    }
   }
  },
  {
   "cell_type": "code",
   "execution_count": 103,
   "outputs": [
    {
     "data": {
      "text/plain": "['10-day',\n '10-lap',\n '10-year',\n '100-share',\n '12-point',\n '12-year',\n '14-hour',\n '15-day',\n '150-point',\n '190-point',\n '20-point',\n '20-stock',\n '21-month',\n '237-seat',\n '240-page',\n '27-year',\n '30-day',\n '30-point',\n '30-share',\n '30-year',\n '300-day',\n '36-day',\n '36-store',\n '42-year',\n '50-state',\n '500-stock',\n '52-week',\n '69-point',\n '84-month',\n '87-store',\n '90-day']"
     },
     "execution_count": 103,
     "metadata": {},
     "output_type": "execute_result"
    }
   ],
   "source": [
    "[w for w in wsj if re.search('^[0-9]+-[a-z]{3,5}$', w)]"
   ],
   "metadata": {
    "collapsed": false,
    "pycharm": {
     "name": "#%%\n"
    }
   }
  },
  {
   "cell_type": "code",
   "execution_count": 104,
   "outputs": [
    {
     "data": {
      "text/plain": "['black-and-white',\n 'bread-and-butter',\n 'father-in-law',\n 'machine-gun-toting',\n 'savings-and-loan']"
     },
     "execution_count": 104,
     "metadata": {},
     "output_type": "execute_result"
    }
   ],
   "source": [
    "[w for w in wsj if re.search('^[a-z]{5,}-[a-z]{2,3}-[a-z]{,6}$', w)]"
   ],
   "metadata": {
    "collapsed": false,
    "pycharm": {
     "name": "#%%\n"
    }
   }
  },
  {
   "cell_type": "code",
   "execution_count": 105,
   "outputs": [
    {
     "data": {
      "text/plain": "['62%-owned',\n 'Absorbed',\n 'According',\n 'Adopting',\n 'Advanced',\n 'Advancing',\n 'Alfred',\n 'Allied',\n 'Annualized',\n 'Anything',\n 'Arbitrage-related',\n 'Arbitraging',\n 'Asked',\n 'Assuming',\n 'Atlanta-based',\n 'Baking',\n 'Banking',\n 'Beginning',\n 'Beijing',\n 'Being',\n 'Bermuda-based',\n 'Betting',\n 'Boeing',\n 'Broadcasting',\n 'Bucking',\n 'Buying',\n 'Calif.-based',\n 'Change-ringing',\n 'Citing',\n 'Concerned',\n 'Confronted',\n 'Conn.based',\n 'Consolidated',\n 'Continued',\n 'Continuing',\n 'Declining',\n 'Defending',\n 'Depending',\n 'Designated',\n 'Determining',\n 'Developed',\n 'Died',\n 'During',\n 'Encouraged',\n 'Encouraging',\n 'English-speaking',\n 'Estimated',\n 'Everything',\n 'Excluding',\n 'Exxon-owned',\n 'Faulding',\n 'Fed',\n 'Feeding',\n 'Filling',\n 'Filmed',\n 'Financing',\n 'Following',\n 'Founded',\n 'Fracturing',\n 'Francisco-based',\n 'Fred',\n 'Funded',\n 'Funding',\n 'Generalized',\n 'Germany-based',\n 'Getting',\n 'Guaranteed',\n 'Having',\n 'Heating',\n 'Heightened',\n 'Holding',\n 'Housing',\n 'Illuminating',\n 'Indeed',\n 'Indexing',\n 'Irving',\n 'Jersey-based',\n 'Judging',\n 'Knowing',\n 'Learning',\n 'Legislating',\n 'Leming',\n 'Limited',\n 'London-based',\n 'Manfred',\n 'Manufacturing',\n 'Melamed',\n 'Miami-based',\n 'Mich.-based',\n 'Mining',\n 'Minneapolis-based',\n 'Mo.-based',\n 'Mortgage-Backed',\n 'Moving',\n 'Muzzling',\n 'N.J.-based',\n 'NBC-owned',\n 'NIH-appointed',\n 'Named',\n 'No-Smoking',\n 'Observing',\n 'Offering',\n 'Ohio-based',\n 'Orleans-based',\n 'Packaging',\n 'Performing',\n 'Philadelphia-based',\n 'Posted',\n 'Provided',\n 'Publishing',\n 'Purchasing',\n 'Rated',\n 'Reached',\n 'Red',\n 'Red-blooded',\n 'Reducing',\n 'Reed',\n 'Regarded',\n 'Rekindled',\n 'Related',\n 'Ringing',\n 'Rolling',\n 'Sacramento-based',\n 'Scoring',\n 'Seattle-based',\n 'Seed',\n 'Skilled',\n 'Smelting',\n 'Something',\n 'Spending',\n 'Standardized',\n 'Standing',\n 'Starting',\n 'Sterling',\n 'Taking',\n 'Texas-based',\n 'Toronto-based',\n 'Traded',\n 'Trading',\n 'Troubled',\n 'U.N.-supervised',\n 'U.S.-backed',\n 'United',\n 'Used',\n 'Varying',\n 'Washington-based',\n 'Whiting',\n 'Wilfred',\n 'Winning',\n 'Xiaoping',\n 'York-based',\n 'Zayed',\n 'abandoned',\n 'abating',\n 'abolishing',\n 'abortion-related',\n 'abounding',\n 'abridging',\n 'absorbed',\n 'acceded',\n 'accelerated',\n 'accepted',\n 'accepting',\n 'according',\n 'accounted',\n 'accounting',\n 'accrued',\n 'accumulated',\n 'accused',\n 'accusing',\n 'achieved',\n 'achieving',\n 'acknowledging',\n 'acquired',\n 'acquiring',\n 'acquisition-minded',\n 'acted',\n 'acting',\n 'adapted',\n 'adapting',\n 'added',\n 'adding',\n 'addressing',\n 'adjusted',\n 'adjusting',\n 'admitted',\n 'admitting',\n 'adopted',\n 'advanced',\n 'advancing',\n 'advertised',\n 'advertising',\n 'advised',\n 'advocated',\n 'advocating',\n 'affecting',\n 'afflicted',\n 'aggravated',\n 'agreed',\n 'agreeing',\n 'ailing',\n 'aimed',\n 'aiming',\n 'aired',\n 'airline-related',\n 'alarmed',\n 'alienated',\n 'alleged',\n 'alleging',\n 'allocated',\n 'allowed',\n 'altered',\n 'altering',\n 'amended',\n 'amending',\n 'amounted',\n 'amusing',\n 'angered',\n 'announced',\n 'annoyed',\n 'annualized',\n 'answered',\n 'anti-dumping',\n 'anticipated',\n 'anticipating',\n 'anything',\n 'apologizing',\n 'appealing',\n 'appeared',\n 'appearing',\n 'applied',\n 'appointed',\n 'approached',\n 'appropriated',\n 'approved',\n 'arched',\n 'argued',\n 'arguing',\n 'arising',\n 'armed',\n 'arranged',\n 'arrested',\n 'arrived',\n 'asbestos-related',\n 'asked',\n 'asking',\n 'assassinated',\n 'assembled',\n 'asserted',\n 'asserting',\n 'assessed',\n 'assigned',\n 'assisted',\n 'associated',\n 'assumed',\n 'assuming',\n 'assured',\n 'attached',\n 'attacking',\n 'attempted',\n 'attempting',\n 'attended',\n 'attending',\n 'attracted',\n 'attracting',\n 'attributed',\n 'auctioned',\n 'authorized',\n 'authorizing',\n 'automated',\n 'automotive-lighting',\n 'averaged',\n 'averted',\n 'avoiding',\n 'awarded',\n 'awarding',\n 'backed',\n 'backing',\n 'balanced',\n 'bald-faced',\n 'balkanized',\n 'balked',\n 'balloting',\n 'bank-backed',\n 'banking',\n 'banned',\n 'banning',\n 'barking',\n 'barred',\n 'based',\n 'battered',\n 'battery-operated',\n 'batting',\n 'bearing',\n 'becoming',\n 'bedding',\n 'befuddled',\n 'beginning',\n 'behaving',\n 'beheading',\n 'being',\n 'beleaguered',\n 'believed',\n 'bell-ringing',\n 'belonging',\n 'benefited',\n 'best-selling',\n 'betting',\n 'bickering',\n 'bidding',\n 'billed',\n 'billing',\n 'blamed',\n 'bled',\n 'blessing',\n 'blighted',\n 'blocked',\n 'blurred',\n 'boarding',\n 'bolstered',\n 'bombarding',\n 'booked',\n 'booming',\n 'boosted',\n 'boosting',\n 'borrowed',\n 'borrowing',\n 'botched',\n 'bothered',\n 'bounced',\n 'bowed',\n 'breaking',\n 'breathed',\n 'breathtaking',\n 'breed',\n 'bribed',\n 'bribing',\n 'briefing',\n 'brightened',\n 'bring',\n 'bringing',\n 'broad-based',\n 'broadcasting',\n 'broadened',\n 'brokering',\n 'brushed',\n 'budding',\n 'building',\n 'bundling',\n 'buoyed',\n 'burned',\n 'buying',\n 'calculated',\n 'called',\n 'calling',\n 'campaigning',\n 'cancer-causing',\n 'capitalized',\n 'capped',\n 'captivating',\n 'cared',\n 'carried',\n 'carrying',\n 'cascading',\n 'casting',\n 'caused',\n 'causing',\n 'cautioned',\n 'ceiling',\n 'centralized',\n 'certified',\n 'chaired',\n 'challenging',\n 'championing',\n 'change-ringing',\n 'changed',\n 'changing',\n 'characterized',\n 'characterizing',\n 'charged',\n 'charging',\n 'chastised',\n 'cheating',\n 'checking',\n 'cheerleading',\n 'chilled',\n 'choosing',\n 'chopped',\n 'circulated',\n 'cited',\n 'citing',\n 'citizen-sparked',\n 'city-owned',\n 'claimed',\n 'claiming',\n 'clamped',\n 'clarified',\n 'clashed',\n 'classed',\n 'classified',\n 'cleaned',\n 'cleaner-burning',\n 'cleared',\n 'clearing',\n 'clicked',\n 'climbed',\n 'climbing',\n 'clipped',\n 'clobbered',\n 'closed',\n 'closing',\n 'clothing',\n 'clouding',\n 'cluttered',\n 'co-founded',\n 'coaching',\n 'coal-fired',\n 'coated',\n 'codified',\n 'collaborated',\n 'collapsed',\n 'collected',\n 'collecting',\n 'collective-bargaining',\n 'colored',\n 'combined',\n 'coming',\n 'commanded',\n 'commenting',\n 'committed',\n 'committing',\n 'compared',\n 'compelling',\n 'competed',\n 'competing',\n 'compiled',\n 'complained',\n 'complaining',\n 'completed',\n 'completing',\n 'complicated',\n 'composed',\n 'composting',\n 'compressed',\n 'computer-aided',\n 'computer-assisted',\n 'computer-generated',\n 'computerized',\n 'computing',\n 'conceding',\n 'concentrated',\n 'concentrating',\n 'concerned',\n 'concluded',\n 'condemned',\n 'condemning',\n 'conducted',\n 'conducting',\n 'confined',\n 'confirmed',\n 'confused',\n 'connected',\n 'consented',\n 'considered',\n 'considering',\n 'consisting',\n 'construed',\n 'consulting',\n 'contacted',\n 'contained',\n 'containing',\n 'contesting',\n 'continued',\n 'continuing',\n 'contracted',\n 'contributed',\n 'contributing',\n 'controlled',\n 'controlling',\n 'converted',\n 'converting',\n 'convicted',\n 'convinced',\n 'cooled',\n 'cooperating',\n 'copied',\n 'copying',\n 'corn-buying',\n 'corrected',\n 'correcting',\n 'cost-cutting',\n 'cost-sharing',\n 'counseling',\n 'counting',\n 'coupled',\n 'court-ordered',\n 'covered',\n 'covering',\n 'cranked',\n 'crashing',\n 'created',\n 'creating',\n 'credit-rating',\n 'crippled',\n 'criticized',\n 'crossed',\n 'crossing',\n 'crowded',\n 'cruising',\n 'crushed',\n 'crying',\n 'cultivated',\n 'curbed',\n 'curbing',\n 'curled',\n 'current-carrying',\n 'curtailed',\n 'cushioned',\n 'customized',\n 'cutting',\n 'damaged',\n 'damaging',\n 'dancing',\n 'darned',\n 'dashed',\n 'dating',\n 'dead-eyed',\n 'dealing',\n 'decided',\n 'declared',\n 'declaring',\n 'declined',\n 'declining',\n 'decorated',\n 'decried',\n 'deducting',\n 'deemed',\n 'defeated',\n 'defended',\n 'defined',\n 'defying',\n 'delayed',\n 'deliberating',\n 'delisted',\n 'delivered',\n 'delivering',\n 'demanding',\n 'demonstrating',\n 'denied',\n 'denouncing',\n 'denying',\n 'depended',\n 'depending',\n 'depleted',\n 'depressed',\n 'deprived',\n 'derived',\n 'descending',\n 'described',\n 'deserving',\n 'designated',\n 'designed',\n 'designing',\n 'desired',\n 'despised',\n 'detailed',\n 'deteriorated',\n 'deteriorating',\n 'determined',\n 'deterring',\n 'devastating',\n 'developed',\n 'developing',\n 'devised',\n 'devoted',\n 'devouring',\n 'diagnosed',\n 'died',\n 'diluted',\n 'diming',\n 'diminished',\n 'directed',\n 'directing',\n 'disaffected',\n 'disagreed',\n 'disappointed',\n 'disappointing',\n 'disapproved',\n 'discarded',\n 'disciplined',\n 'disclosed',\n 'disclosing',\n 'discontinued',\n 'discontinuing',\n 'discouraging',\n 'discovered',\n 'discussed',\n 'discussing',\n 'disembodied',\n 'dismayed',\n 'dismissed',\n 'disposed',\n 'disputed',\n 'disseminating',\n 'distinguished',\n 'distorted',\n 'distributed',\n 'disturbing',\n 'diversified',\n 'diversifying',\n 'divided',\n 'dividing',\n 'documented',\n 'doing',\n 'doling',\n 'dollar-denominated',\n 'dominated',\n 'dominating',\n 'doubled',\n 'doubted',\n 'downgraded',\n 'downgrading',\n 'drafted',\n 'drawing',\n 'dreamed',\n 'dressed',\n 'drifted',\n 'drinking',\n 'driving',\n 'drooled',\n 'dropped',\n 'dubbed',\n 'duckling',\n 'dumbfounded',\n 'dumped',\n 'during',\n 'dwindling',\n 'earned',\n 'earning',\n 'eased',\n 'easing',\n 'eating',\n 'echoed',\n 'edged',\n 'editing',\n 'educated',\n 'elected',\n 'eliminated',\n 'eliminating',\n 'embarrassing',\n 'embroiled',\n 'emerged',\n 'emerging',\n 'emphasized',\n 'employed',\n 'empowered',\n 'enabled',\n 'enabling',\n 'enacted',\n 'encircling',\n 'enclosed',\n 'encouraging',\n 'encroaching',\n 'ended',\n 'ending',\n 'endorsed',\n 'engaged',\n 'engaging',\n 'engineered',\n 'engineering',\n 'enhanced',\n 'enjoyed',\n 'enjoying',\n 'enlarged',\n 'enraged',\n 'ensnarled',\n 'entangled',\n 'entered',\n 'entering',\n 'entertaining',\n 'enticed',\n 'entitled',\n 'entrenched',\n 'entrusted',\n 'equaling',\n 'equipped',\n 'escalated',\n 'escaped',\n 'established',\n 'establishing',\n 'estimated',\n 'evaluated',\n 'evaluating',\n 'evaporated',\n 'evening',\n 'everything',\n 'evoking',\n 'evolved',\n 'exacerbated',\n 'examined',\n 'exceed',\n 'exceeded',\n 'exceeding',\n 'exchanging',\n 'excited',\n 'exciting',\n 'executed',\n 'executing',\n 'exercised',\n 'exerting',\n 'exhausted',\n 'exhibited',\n 'existed',\n 'existing',\n 'expanded',\n 'expanding',\n 'expected',\n 'expecting',\n 'expedited',\n 'expelled',\n 'experienced',\n 'experiencing',\n 'expired',\n 'explained',\n 'explaining',\n 'exploded',\n 'export-oriented',\n 'exposed',\n 'expressed',\n 'expressing',\n 'expunged',\n 'extended',\n 'extending',\n 'exuded',\n 'eyeing',\n 'fabled',\n 'faced',\n 'facing',\n 'factoring',\n 'faded',\n 'failed',\n 'failing',\n 'fainting',\n 'falling',\n 'faltered',\n 'famed',\n 'family-planning',\n 'fared',\n 'fashioned',\n 'fast-growing',\n 'fastest-growing',\n 'fattened',\n 'favored',\n 'fawning',\n 'feared',\n 'featured',\n 'featuring',\n 'fed',\n 'feed',\n 'feeling',\n 'fetching',\n 'fielded',\n 'fighting',\n 'filed',\n 'filing',\n 'filled',\n 'filling',\n 'finalized',\n 'financed',\n 'financing',\n 'finding',\n 'fined',\n 'finished',\n 'fired',\n 'firmed',\n 'fixed',\n 'fizzled',\n 'fled',\n 'fledgling',\n 'fleeting',\n 'flirted',\n 'floated',\n 'flooded',\n 'focused',\n 'focusing',\n 'folded',\n 'followed',\n 'following',\n 'forced',\n 'forcing',\n 'forecasting',\n 'foreign-led',\n 'formed',\n 'forthcoming',\n 'founded',\n 'foundering',\n 'fretted',\n 'frightened',\n 'frustrating',\n 'fueled',\n 'fueling',\n 'full-fledged',\n 'fuming',\n 'functioning',\n 'funded',\n 'funding',\n 'fundraising',\n 'futures-related',\n 'gained',\n 'gaining',\n 'galling',\n 'galvanized',\n 'gambling',\n 'gauging',\n 'generated',\n 'getting',\n 'giving',\n 'going',\n 'good-hearted',\n 'good-natured',\n 'gored',\n 'government-certified',\n 'government-funded',\n 'government-owned',\n 'graduated',\n 'granted',\n 'granting',\n 'greed',\n 'gripping',\n 'growing',\n 'guaranteed',\n 'guarding',\n 'guided',\n 'gut-wrenching',\n 'hailed',\n 'hailing',\n 'halted',\n 'hampered',\n 'handed',\n 'handled',\n 'handling',\n 'happened',\n 'happening',\n 'hard-charging',\n 'hard-drinking',\n 'hard-hitting',\n 'harmed',\n 'harped',\n 'harvested',\n 'hauled',\n 'hauling',\n 'having',\n 'headed',\n 'heading',\n 'headlined',\n 'healing',\n 'hearing',\n 'heated',\n 'heating',\n 'hedging',\n 'heightened',\n 'helped',\n 'helping',\n 'high-flying',\n 'high-minded',\n 'high-polluting',\n 'high-priced',\n 'high-rolling',\n 'high-speed',\n 'higher-salaried',\n 'highest-pitched',\n 'hired',\n 'hitting',\n 'holding',\n 'hoped',\n 'hosted',\n 'housing',\n 'hugging',\n 'hundred',\n 'hunted',\n 'hurting',\n 'identified',\n 'ignored',\n 'ignoring',\n 'impaired',\n 'impeding',\n 'impending',\n 'implemented',\n 'implied',\n 'imported',\n 'imposed',\n 'imposing',\n 'impressed',\n 'improved',\n 'improving',\n 'incentive-backed',\n 'inched',\n 'inching',\n 'included',\n 'including',\n 'incorporated',\n 'increased',\n 'increasing',\n 'incurred',\n 'indeed',\n 'index-related',\n 'indicated',\n 'indicating',\n 'indulging',\n 'industrialized',\n 'industry-supported',\n 'inflated',\n 'influenced',\n 'influencing',\n 'infringed',\n 'inherited',\n 'initialing',\n 'initiated',\n 'initiating',\n 'injecting',\n 'injuring',\n 'inkling',\n 'inquiring',\n 'inserted',\n 'insider-trading',\n 'insinuating',\n 'insisted',\n 'inspired',\n 'installed',\n 'installing',\n 'instituted',\n 'instructed',\n 'insured',\n 'integrated',\n 'intended',\n 'intentioned',\n 'interest-bearing',\n 'interested',\n 'interesting',\n 'interrogated',\n 'interviewed',\n 'intriguing',\n 'introduced',\n 'introducing',\n 'invented',\n 'inverted',\n 'invested',\n 'investigating',\n 'investing',\n 'inviting',\n 'involved',\n 'involving',\n 'issued',\n 'issuing',\n 'jeopardizing',\n 'joined',\n 'joining',\n 'judged',\n 'jumped',\n 'jumping',\n 'justified',\n 'justifying',\n 'keeping',\n 'kicked',\n 'kidnapping',\n 'killed',\n 'killing',\n 'knitted',\n 'knocked',\n 'labeled',\n 'labeling',\n 'labor-backed',\n 'lacked',\n 'lagging',\n 'land-idling',\n 'landing',\n 'lasted',\n 'lasting',\n 'lauded',\n 'laughing',\n 'launched',\n 'lawmaking',\n 'laying',\n 'leading',\n 'learned',\n 'learning',\n 'leasing',\n 'leaving',\n 'led',\n 'lending',\n 'lengthened',\n 'lessening',\n 'letter-writing',\n 'letting',\n 'leveling',\n 'leveraged',\n 'leveraging',\n 'licensed',\n 'licensing',\n 'lifted',\n ...]"
     },
     "execution_count": 105,
     "metadata": {},
     "output_type": "execute_result"
    }
   ],
   "source": [
    "[w for w in wsj if re.search('(ed|ing)$', w)]"
   ],
   "metadata": {
    "collapsed": false,
    "pycharm": {
     "name": "#%%\n"
    }
   }
  },
  {
   "cell_type": "code",
   "execution_count": 106,
   "outputs": [
    {
     "data": {
      "text/plain": "['u',\n 'e',\n 'a',\n 'i',\n 'a',\n 'i',\n 'i',\n 'i',\n 'e',\n 'i',\n 'a',\n 'i',\n 'o',\n 'i',\n 'o',\n 'u']"
     },
     "execution_count": 106,
     "metadata": {},
     "output_type": "execute_result"
    }
   ],
   "source": [
    "word = 'supercalifragilisticexpialidocious'\n",
    "re.findall(r'[aeiou]', word)"
   ],
   "metadata": {
    "collapsed": false,
    "pycharm": {
     "name": "#%%\n"
    }
   }
  },
  {
   "cell_type": "code",
   "execution_count": 107,
   "outputs": [
    {
     "data": {
      "text/plain": "16"
     },
     "execution_count": 107,
     "metadata": {},
     "output_type": "execute_result"
    }
   ],
   "source": [
    "len(re.findall(r'[aeiou]', word))"
   ],
   "metadata": {
    "collapsed": false,
    "pycharm": {
     "name": "#%%\n"
    }
   }
  },
  {
   "cell_type": "code",
   "execution_count": 108,
   "outputs": [
    {
     "data": {
      "text/plain": "dict_items([('ea', 476), ('oi', 65), ('ou', 329), ('io', 549), ('ee', 217), ('ie', 331), ('ui', 95), ('ua', 109), ('ai', 261), ('ue', 105), ('ia', 253), ('ei', 86), ('iai', 1), ('oo', 174), ('au', 106), ('eau', 10), ('oa', 59), ('oei', 1), ('oe', 15), ('eo', 39), ('uu', 1), ('eu', 18), ('iu', 14), ('aii', 1), ('aiia', 1), ('ae', 11), ('aa', 3), ('oui', 6), ('ieu', 3), ('ao', 6), ('iou', 27), ('uee', 4), ('eou', 5), ('aia', 1), ('uie', 3), ('iao', 1), ('eei', 2), ('uo', 8), ('uou', 5), ('eea', 1), ('ueui', 1), ('ioa', 1), ('ooi', 1)])"
     },
     "execution_count": 108,
     "metadata": {},
     "output_type": "execute_result"
    }
   ],
   "source": [
    "wsj = sorted(set(nltk.corpus.treebank.words()))\n",
    "fd = nltk.FreqDist(vs for word in wsj\n",
    "                      for vs in re.findall(r'[aeiou]{2,}', word))\n",
    "fd.items()"
   ],
   "metadata": {
    "collapsed": false,
    "pycharm": {
     "name": "#%%\n"
    }
   }
  },
  {
   "cell_type": "code",
   "execution_count": 109,
   "outputs": [],
   "source": [
    "regexp = r'^[AEIOUaeiou]+|[AEIOUaeiou]+$|[^AEIOUaeiou]'\n",
    "def compress(word):\n",
    "    pieces = re.findall(regexp, word)\n",
    "    return ''.join(pieces)"
   ],
   "metadata": {
    "collapsed": false,
    "pycharm": {
     "name": "#%%\n"
    }
   }
  },
  {
   "cell_type": "code",
   "execution_count": 110,
   "outputs": [
    {
     "name": "stdout",
     "output_type": "stream",
     "text": [
      "Unvrsl Dclrtn of Hmn Rghts Prmble Whrs rcgntn of the inhrnt dgnty and\n",
      "of the eql and inlnble rghts of all mmbrs of the hmn fmly is the fndtn\n",
      "of frdm , jstce and pce in the wrld , Whrs dsrgrd and cntmpt fr hmn\n",
      "rghts hve rsltd in brbrs acts whch hve outrgd the cnscnce of mnknd ,\n",
      "and the advnt of a wrld in whch hmn bngs shll enjy frdm of spch and\n"
     ]
    }
   ],
   "source": [
    "english_udhr = nltk.corpus.udhr.words('English-Latin1')\n",
    "print(nltk.tokenwrap(compress(w) for w in english_udhr[:75]))"
   ],
   "metadata": {
    "collapsed": false,
    "pycharm": {
     "name": "#%%\n"
    }
   }
  },
  {
   "cell_type": "code",
   "execution_count": 111,
   "outputs": [
    {
     "name": "stdout",
     "output_type": "stream",
     "text": [
      "    a   e   i   o   u \n",
      "k 418 148  94 420 173 \n",
      "p  83  31 105  34  51 \n",
      "r 187  63  84  89  79 \n",
      "s   0   0 100   2   1 \n",
      "t  47   8   0 148  37 \n",
      "v  93  27 105  48  49 \n"
     ]
    }
   ],
   "source": [
    "rotokas_words = nltk.corpus.toolbox.words('rotokas.dic')\n",
    "cvs = [cv for w in rotokas_words for cv in re.findall(r'[ptksvr][aeiou]', w)]\n",
    "cfd = nltk.ConditionalFreqDist(cvs)\n",
    "cfd.tabulate()"
   ],
   "metadata": {
    "collapsed": false,
    "pycharm": {
     "name": "#%%\n"
    }
   }
  },
  {
   "cell_type": "code",
   "execution_count": 112,
   "outputs": [
    {
     "data": {
      "text/plain": "['kasuari']"
     },
     "execution_count": 112,
     "metadata": {},
     "output_type": "execute_result"
    }
   ],
   "source": [
    "cv_word_pairs = [(cv, w) for w in rotokas_words\n",
    "                         for cv in re.findall(r'[ptksvr][aeiou]', w)]\n",
    "cv_index = nltk.Index(cv_word_pairs)\n",
    "cv_index['su']"
   ],
   "metadata": {
    "collapsed": false,
    "pycharm": {
     "name": "#%%\n"
    }
   }
  },
  {
   "cell_type": "code",
   "execution_count": 113,
   "outputs": [
    {
     "data": {
      "text/plain": "['kaapo',\n 'kaapopato',\n 'kaipori',\n 'kaiporipie',\n 'kaiporivira',\n 'kapo',\n 'kapoa',\n 'kapokao',\n 'kapokapo',\n 'kapokapo',\n 'kapokapoa',\n 'kapokapoa',\n 'kapokapora',\n 'kapokapora',\n 'kapokaporo',\n 'kapokaporo',\n 'kapokari',\n 'kapokarito',\n 'kapokoa',\n 'kapoo',\n 'kapooto',\n 'kapoovira',\n 'kapopaa',\n 'kaporo',\n 'kaporo',\n 'kaporopa',\n 'kaporoto',\n 'kapoto',\n 'karokaropo',\n 'karopo',\n 'kepo',\n 'kepoi',\n 'keposi',\n 'kepoto']"
     },
     "execution_count": 113,
     "metadata": {},
     "output_type": "execute_result"
    }
   ],
   "source": [
    "cv_index['po']"
   ],
   "metadata": {
    "collapsed": false,
    "pycharm": {
     "name": "#%%\n"
    }
   }
  },
  {
   "cell_type": "code",
   "execution_count": 114,
   "outputs": [],
   "source": [
    "def stem(word):\n",
    "    for suffix in ['ing', 'ly', 'ed', 'ious', 'ies', 'ive', 'es', 's', 'ment']:\n",
    "        if word.endswith(suffix):\n",
    "            return word[:-len(suffix)]\n",
    "    return word"
   ],
   "metadata": {
    "collapsed": false,
    "pycharm": {
     "name": "#%%\n"
    }
   }
  },
  {
   "cell_type": "code",
   "execution_count": 115,
   "outputs": [
    {
     "data": {
      "text/plain": "['ing']"
     },
     "execution_count": 115,
     "metadata": {},
     "output_type": "execute_result"
    }
   ],
   "source": [
    "re.findall(r'^.*(ing|ly|ed|ious|ies|ive|es|s|ment)$', 'processing')"
   ],
   "metadata": {
    "collapsed": false,
    "pycharm": {
     "name": "#%%\n"
    }
   }
  },
  {
   "cell_type": "code",
   "execution_count": 116,
   "outputs": [
    {
     "data": {
      "text/plain": "['processing']"
     },
     "execution_count": 116,
     "metadata": {},
     "output_type": "execute_result"
    }
   ],
   "source": [
    "re.findall(r'^.*(?:ing|ly|ed|ious|ies|ive|es|s|ment)$', 'processing')"
   ],
   "metadata": {
    "collapsed": false,
    "pycharm": {
     "name": "#%%\n"
    }
   }
  },
  {
   "cell_type": "code",
   "execution_count": 117,
   "outputs": [
    {
     "data": {
      "text/plain": "[('process', 'ing')]"
     },
     "execution_count": 117,
     "metadata": {},
     "output_type": "execute_result"
    }
   ],
   "source": [
    "re.findall(r'^(.*)(ing|ly|ed|ious|ies|ive|es|s|ment)$', 'processing')"
   ],
   "metadata": {
    "collapsed": false,
    "pycharm": {
     "name": "#%%\n"
    }
   }
  },
  {
   "cell_type": "code",
   "execution_count": 118,
   "outputs": [
    {
     "data": {
      "text/plain": "[('processe', 's')]"
     },
     "execution_count": 118,
     "metadata": {},
     "output_type": "execute_result"
    }
   ],
   "source": [
    "re.findall(r'^(.*)(ing|ly|ed|ious|ies|ive|es|s|ment)$', 'processes')"
   ],
   "metadata": {
    "collapsed": false,
    "pycharm": {
     "name": "#%%\n"
    }
   }
  },
  {
   "cell_type": "code",
   "execution_count": 119,
   "outputs": [
    {
     "data": {
      "text/plain": "[('process', 'es')]"
     },
     "execution_count": 119,
     "metadata": {},
     "output_type": "execute_result"
    }
   ],
   "source": [
    "re.findall(r'^(.*?)(ing|ly|ed|ious|ies|ive|es|s|ment)$', 'processes')"
   ],
   "metadata": {
    "collapsed": false,
    "pycharm": {
     "name": "#%%\n"
    }
   }
  },
  {
   "cell_type": "code",
   "execution_count": 120,
   "outputs": [
    {
     "data": {
      "text/plain": "[('language', '')]"
     },
     "execution_count": 120,
     "metadata": {},
     "output_type": "execute_result"
    }
   ],
   "source": [
    "re.findall(r'^(.*?)(ing|ly|ed|ious|ies|ive|es|s|ment)?$', 'language')"
   ],
   "metadata": {
    "collapsed": false,
    "pycharm": {
     "name": "#%%\n"
    }
   }
  },
  {
   "cell_type": "code",
   "execution_count": 121,
   "outputs": [],
   "source": [
    "def stem(word):\n",
    "    regexp = r'^(.*?)(ing|ly|ed|ious|ies|ive|es|s|ment)?$'\n",
    "    stem, suffix = re.findall(regexp, word)[0]\n",
    "    return stem"
   ],
   "metadata": {
    "collapsed": false,
    "pycharm": {
     "name": "#%%\n"
    }
   }
  },
  {
   "cell_type": "code",
   "execution_count": 122,
   "outputs": [
    {
     "data": {
      "text/plain": "['DENNIS',\n ':',\n 'Listen',\n ',',\n 'strange',\n 'women',\n 'ly',\n 'in',\n 'pond',\n 'distribut',\n 'sword',\n 'i',\n 'no',\n 'basi',\n 'for',\n 'a',\n 'system',\n 'of',\n 'govern',\n '.',\n 'Supreme',\n 'execut',\n 'power',\n 'deriv',\n 'from',\n 'a',\n 'mandate',\n 'from',\n 'the',\n 'mass',\n ',',\n 'not',\n 'from',\n 'some',\n 'farcical',\n 'aquatic',\n 'ceremony',\n '.']"
     },
     "execution_count": 122,
     "metadata": {},
     "output_type": "execute_result"
    }
   ],
   "source": [
    "raw = \"\"\"DENNIS: Listen, strange women lying in ponds distributing swords\n",
    "... is no basis for a system of government.  Supreme executive power derives from\n",
    "... a mandate from the masses, not from some farcical aquatic ceremony.\"\"\"\n",
    "tokens = nltk.word_tokenize(raw)\n",
    "[stem(t) for t in tokens]"
   ],
   "metadata": {
    "collapsed": false,
    "pycharm": {
     "name": "#%%\n"
    }
   }
  },
  {
   "cell_type": "code",
   "execution_count": 123,
   "outputs": [
    {
     "name": "stdout",
     "output_type": "stream",
     "text": [
      "monied; nervous; dangerous; white; white; white; pious; queer; good;\n",
      "mature; white; Cape; great; wise; wise; butterless; white; fiendish;\n",
      "pale; furious; better; certain; complete; dismasted; younger; brave;\n",
      "brave; brave; brave\n"
     ]
    }
   ],
   "source": [
    "from nltk.corpus import gutenberg, nps_chat\n",
    "moby = nltk.Text(gutenberg.words('melville-moby_dick.txt'))\n",
    "moby.findall(r\"<a> (<.*>) <man>\")"
   ],
   "metadata": {
    "collapsed": false,
    "pycharm": {
     "name": "#%%\n"
    }
   }
  },
  {
   "cell_type": "code",
   "execution_count": 124,
   "outputs": [
    {
     "name": "stdout",
     "output_type": "stream",
     "text": [
      "you rule bro; telling you bro; u twizted bro\n"
     ]
    }
   ],
   "source": [
    "chat = nltk.Text(nps_chat.words())\n",
    "chat.findall(r\"<.*> <.*> <bro>\")"
   ],
   "metadata": {
    "collapsed": false,
    "pycharm": {
     "name": "#%%\n"
    }
   }
  },
  {
   "cell_type": "code",
   "execution_count": 125,
   "outputs": [
    {
     "name": "stdout",
     "output_type": "stream",
     "text": [
      "lol lol lol; lmao lol lol; lol lol lol; la la la la la; la la la; la\n",
      "la la; lovely lol lol love; lol lol lol.; la la la; la la la\n"
     ]
    }
   ],
   "source": [
    "chat.findall(r\"<l.*>{3,}\")"
   ],
   "metadata": {
    "collapsed": false,
    "pycharm": {
     "name": "#%%\n"
    }
   }
  },
  {
   "cell_type": "code",
   "execution_count": 126,
   "outputs": [
    {
     "name": "stdout",
     "output_type": "stream",
     "text": [
      "speed and other activities; water and other liquids; tomb and other\n",
      "landmarks; Statues and other monuments; pearls and other jewels;\n",
      "charts and other items; roads and other features; figures and other\n",
      "objects; military and other areas; demands and other factors;\n",
      "abstracts and other compilations; iron and other metals\n"
     ]
    }
   ],
   "source": [
    "from nltk.corpus import brown\n",
    "hobbies_learned = nltk.Text(brown.words(categories=['hobbies', 'learned']))\n",
    "hobbies_learned.findall(r\"<\\w*> <and> <other> <\\w*s>\")"
   ],
   "metadata": {
    "collapsed": false,
    "pycharm": {
     "name": "#%%\n"
    }
   }
  },
  {
   "cell_type": "code",
   "execution_count": 127,
   "outputs": [],
   "source": [
    "raw = \"\"\"DENNIS: Listen, strange women lying in ponds distributing swords\n",
    "... is no basis for a system of government.  Supreme executive power derives from\n",
    "... a mandate from the masses, not from some farcical aquatic ceremony.\"\"\"\n",
    "tokens = nltk.word_tokenize(raw)"
   ],
   "metadata": {
    "collapsed": false,
    "pycharm": {
     "name": "#%%\n"
    }
   }
  },
  {
   "cell_type": "code",
   "execution_count": 128,
   "outputs": [
    {
     "data": {
      "text/plain": "['denni',\n ':',\n 'listen',\n ',',\n 'strang',\n 'women',\n 'lie',\n 'in',\n 'pond',\n 'distribut',\n 'sword',\n 'is',\n 'no',\n 'basi',\n 'for',\n 'a',\n 'system',\n 'of',\n 'govern',\n '.',\n 'suprem',\n 'execut',\n 'power',\n 'deriv',\n 'from',\n 'a',\n 'mandat',\n 'from',\n 'the',\n 'mass',\n ',',\n 'not',\n 'from',\n 'some',\n 'farcic',\n 'aquat',\n 'ceremoni',\n '.']"
     },
     "execution_count": 128,
     "metadata": {},
     "output_type": "execute_result"
    }
   ],
   "source": [
    "porter = nltk.PorterStemmer()\n",
    "lancaster = nltk.LancasterStemmer()\n",
    "[porter.stem(t) for t in tokens]"
   ],
   "metadata": {
    "collapsed": false,
    "pycharm": {
     "name": "#%%\n"
    }
   }
  },
  {
   "cell_type": "code",
   "execution_count": 129,
   "outputs": [
    {
     "data": {
      "text/plain": "['den',\n ':',\n 'list',\n ',',\n 'strange',\n 'wom',\n 'lying',\n 'in',\n 'pond',\n 'distribut',\n 'sword',\n 'is',\n 'no',\n 'bas',\n 'for',\n 'a',\n 'system',\n 'of',\n 'govern',\n '.',\n 'suprem',\n 'execut',\n 'pow',\n 'der',\n 'from',\n 'a',\n 'mand',\n 'from',\n 'the',\n 'mass',\n ',',\n 'not',\n 'from',\n 'som',\n 'farc',\n 'aqu',\n 'ceremony',\n '.']"
     },
     "execution_count": 129,
     "metadata": {},
     "output_type": "execute_result"
    }
   ],
   "source": [
    "[lancaster.stem(t) for t in tokens]"
   ],
   "metadata": {
    "collapsed": false,
    "pycharm": {
     "name": "#%%\n"
    }
   }
  },
  {
   "cell_type": "code",
   "execution_count": 130,
   "outputs": [],
   "source": [
    "class IndexedText(object):\n",
    "\n",
    "    def __init__(self, stemmer, text):\n",
    "        self._text = text\n",
    "        self._stemmer = stemmer\n",
    "        self._index = nltk.Index((self._stem(word), i)\n",
    "                                 for (i, word) in enumerate(text))\n",
    "\n",
    "    def concordance(self, word, width=40):\n",
    "        key = self._stem(word)\n",
    "        wc = width/4                # words of context\n",
    "        for i in self._index[key]:\n",
    "            lcontext = ' '.join(self._text[i-wc:i])\n",
    "            rcontext = ' '.join(self._text[i:i+wc])\n",
    "            ldisplay = '%*s'  % (width, lcontext[-width:])\n",
    "            rdisplay = '%-*s' % (width, rcontext[:width])\n",
    "            print(ldisplay, rdisplay)\n",
    "\n",
    "    def _stem(self, word):\n",
    "        return self._stemmer.stem(word).lower()"
   ],
   "metadata": {
    "collapsed": false,
    "pycharm": {
     "name": "#%%\n"
    }
   }
  },
  {
   "cell_type": "code",
   "execution_count": 134,
   "outputs": [],
   "source": [
    "porter = nltk.PorterStemmer()\n",
    "grail = nltk.corpus.webtext.words('grail.txt')\n",
    "text = IndexedText(porter, grail)"
   ],
   "metadata": {
    "collapsed": false,
    "pycharm": {
     "name": "#%%\n"
    }
   }
  },
  {
   "cell_type": "code",
   "execution_count": 135,
   "outputs": [
    {
     "ename": "TypeError",
     "evalue": "slice indices must be integers or None or have an __index__ method",
     "output_type": "error",
     "traceback": [
      "\u001B[0;31m---------------------------------------------------------------------------\u001B[0m",
      "\u001B[0;31mTypeError\u001B[0m                                 Traceback (most recent call last)",
      "\u001B[0;32m<ipython-input-135-16b05ff1498a>\u001B[0m in \u001B[0;36m<module>\u001B[0;34m\u001B[0m\n\u001B[0;32m----> 1\u001B[0;31m \u001B[0mtext\u001B[0m\u001B[0;34m.\u001B[0m\u001B[0mconcordance\u001B[0m\u001B[0;34m(\u001B[0m\u001B[0;34m'lie'\u001B[0m\u001B[0;34m)\u001B[0m\u001B[0;34m\u001B[0m\u001B[0;34m\u001B[0m\u001B[0m\n\u001B[0m",
      "\u001B[0;32m<ipython-input-130-ef270fd20c1e>\u001B[0m in \u001B[0;36mconcordance\u001B[0;34m(self, word, width)\u001B[0m\n\u001B[1;32m     11\u001B[0m         \u001B[0mwc\u001B[0m \u001B[0;34m=\u001B[0m \u001B[0mwidth\u001B[0m\u001B[0;34m/\u001B[0m\u001B[0;36m4\u001B[0m                \u001B[0;31m# words of context\u001B[0m\u001B[0;34m\u001B[0m\u001B[0;34m\u001B[0m\u001B[0m\n\u001B[1;32m     12\u001B[0m         \u001B[0;32mfor\u001B[0m \u001B[0mi\u001B[0m \u001B[0;32min\u001B[0m \u001B[0mself\u001B[0m\u001B[0;34m.\u001B[0m\u001B[0m_index\u001B[0m\u001B[0;34m[\u001B[0m\u001B[0mkey\u001B[0m\u001B[0;34m]\u001B[0m\u001B[0;34m:\u001B[0m\u001B[0;34m\u001B[0m\u001B[0;34m\u001B[0m\u001B[0m\n\u001B[0;32m---> 13\u001B[0;31m             \u001B[0mlcontext\u001B[0m \u001B[0;34m=\u001B[0m \u001B[0;34m' '\u001B[0m\u001B[0;34m.\u001B[0m\u001B[0mjoin\u001B[0m\u001B[0;34m(\u001B[0m\u001B[0mself\u001B[0m\u001B[0;34m.\u001B[0m\u001B[0m_text\u001B[0m\u001B[0;34m[\u001B[0m\u001B[0mi\u001B[0m\u001B[0;34m-\u001B[0m\u001B[0mwc\u001B[0m\u001B[0;34m:\u001B[0m\u001B[0mi\u001B[0m\u001B[0;34m]\u001B[0m\u001B[0;34m)\u001B[0m\u001B[0;34m\u001B[0m\u001B[0;34m\u001B[0m\u001B[0m\n\u001B[0m\u001B[1;32m     14\u001B[0m             \u001B[0mrcontext\u001B[0m \u001B[0;34m=\u001B[0m \u001B[0;34m' '\u001B[0m\u001B[0;34m.\u001B[0m\u001B[0mjoin\u001B[0m\u001B[0;34m(\u001B[0m\u001B[0mself\u001B[0m\u001B[0;34m.\u001B[0m\u001B[0m_text\u001B[0m\u001B[0;34m[\u001B[0m\u001B[0mi\u001B[0m\u001B[0;34m:\u001B[0m\u001B[0mi\u001B[0m\u001B[0;34m+\u001B[0m\u001B[0mwc\u001B[0m\u001B[0;34m]\u001B[0m\u001B[0;34m)\u001B[0m\u001B[0;34m\u001B[0m\u001B[0;34m\u001B[0m\u001B[0m\n\u001B[1;32m     15\u001B[0m             \u001B[0mldisplay\u001B[0m \u001B[0;34m=\u001B[0m \u001B[0;34m'%*s'\u001B[0m  \u001B[0;34m%\u001B[0m \u001B[0;34m(\u001B[0m\u001B[0mwidth\u001B[0m\u001B[0;34m,\u001B[0m \u001B[0mlcontext\u001B[0m\u001B[0;34m[\u001B[0m\u001B[0;34m-\u001B[0m\u001B[0mwidth\u001B[0m\u001B[0;34m:\u001B[0m\u001B[0;34m]\u001B[0m\u001B[0;34m)\u001B[0m\u001B[0;34m\u001B[0m\u001B[0;34m\u001B[0m\u001B[0m\n",
      "\u001B[0;32m~/Dokumenter/Programs/miniconda3/envs/NaturalLanguageProcessingwithPython-py39/lib/python3.9/site-packages/nltk/corpus/reader/util.py\u001B[0m in \u001B[0;36m__getitem__\u001B[0;34m(self, i)\u001B[0m\n\u001B[1;32m    238\u001B[0m             \u001B[0moffset\u001B[0m \u001B[0;34m=\u001B[0m \u001B[0mself\u001B[0m\u001B[0;34m.\u001B[0m\u001B[0m_cache\u001B[0m\u001B[0;34m[\u001B[0m\u001B[0;36m0\u001B[0m\u001B[0;34m]\u001B[0m\u001B[0;34m\u001B[0m\u001B[0;34m\u001B[0m\u001B[0m\n\u001B[1;32m    239\u001B[0m             \u001B[0;32mif\u001B[0m \u001B[0moffset\u001B[0m \u001B[0;34m<=\u001B[0m \u001B[0mstart\u001B[0m \u001B[0;32mand\u001B[0m \u001B[0mstop\u001B[0m \u001B[0;34m<=\u001B[0m \u001B[0mself\u001B[0m\u001B[0;34m.\u001B[0m\u001B[0m_cache\u001B[0m\u001B[0;34m[\u001B[0m\u001B[0;36m1\u001B[0m\u001B[0;34m]\u001B[0m\u001B[0;34m:\u001B[0m\u001B[0;34m\u001B[0m\u001B[0;34m\u001B[0m\u001B[0m\n\u001B[0;32m--> 240\u001B[0;31m                 \u001B[0;32mreturn\u001B[0m \u001B[0mself\u001B[0m\u001B[0;34m.\u001B[0m\u001B[0m_cache\u001B[0m\u001B[0;34m[\u001B[0m\u001B[0;36m2\u001B[0m\u001B[0;34m]\u001B[0m\u001B[0;34m[\u001B[0m\u001B[0mstart\u001B[0m \u001B[0;34m-\u001B[0m \u001B[0moffset\u001B[0m \u001B[0;34m:\u001B[0m \u001B[0mstop\u001B[0m \u001B[0;34m-\u001B[0m \u001B[0moffset\u001B[0m\u001B[0;34m]\u001B[0m\u001B[0;34m\u001B[0m\u001B[0;34m\u001B[0m\u001B[0m\n\u001B[0m\u001B[1;32m    241\u001B[0m             \u001B[0;31m# Construct & return the result.\u001B[0m\u001B[0;34m\u001B[0m\u001B[0;34m\u001B[0m\u001B[0;34m\u001B[0m\u001B[0m\n\u001B[1;32m    242\u001B[0m             \u001B[0;32mreturn\u001B[0m \u001B[0mLazySubsequence\u001B[0m\u001B[0;34m(\u001B[0m\u001B[0mself\u001B[0m\u001B[0;34m,\u001B[0m \u001B[0mstart\u001B[0m\u001B[0;34m,\u001B[0m \u001B[0mstop\u001B[0m\u001B[0;34m)\u001B[0m\u001B[0;34m\u001B[0m\u001B[0;34m\u001B[0m\u001B[0m\n",
      "\u001B[0;31mTypeError\u001B[0m: slice indices must be integers or None or have an __index__ method"
     ]
    }
   ],
   "source": [
    "text.concordance('lie')"
   ],
   "metadata": {
    "collapsed": false,
    "pycharm": {
     "name": "#%%\n"
    }
   }
  },
  {
   "cell_type": "code",
   "execution_count": 136,
   "outputs": [
    {
     "data": {
      "text/plain": "['DENNIS',\n ':',\n 'Listen',\n ',',\n 'strange',\n 'woman',\n 'lying',\n 'in',\n 'pond',\n 'distributing',\n 'sword',\n 'is',\n 'no',\n 'basis',\n 'for',\n 'a',\n 'system',\n 'of',\n 'government',\n '.',\n 'Supreme',\n 'executive',\n 'power',\n 'derives',\n 'from',\n 'a',\n 'mandate',\n 'from',\n 'the',\n 'mass',\n ',',\n 'not',\n 'from',\n 'some',\n 'farcical',\n 'aquatic',\n 'ceremony',\n '.']"
     },
     "execution_count": 136,
     "metadata": {},
     "output_type": "execute_result"
    }
   ],
   "source": [
    "wnl = nltk.WordNetLemmatizer()\n",
    "[wnl.lemmatize(t) for t in tokens]"
   ],
   "metadata": {
    "collapsed": false,
    "pycharm": {
     "name": "#%%\n"
    }
   }
  },
  {
   "cell_type": "code",
   "execution_count": 137,
   "outputs": [],
   "source": [
    "raw = \"\"\"'When I'M a Duchess,' she said to herself, (not in a very hopeful tone\n",
    "... though), 'I won't have any pepper in my kitchen AT ALL. Soup does very\n",
    "... well without--Maybe it's always pepper that makes people hot-tempered,'...\"\"\""
   ],
   "metadata": {
    "collapsed": false,
    "pycharm": {
     "name": "#%%\n"
    }
   }
  },
  {
   "cell_type": "code",
   "execution_count": 138,
   "outputs": [
    {
     "data": {
      "text/plain": "[\"'When\",\n \"I'M\",\n 'a',\n \"Duchess,'\",\n 'she',\n 'said',\n 'to',\n 'herself,',\n '(not',\n 'in',\n 'a',\n 'very',\n 'hopeful',\n 'tone\\nthough),',\n \"'I\",\n \"won't\",\n 'have',\n 'any',\n 'pepper',\n 'in',\n 'my',\n 'kitchen',\n 'AT',\n 'ALL.',\n 'Soup',\n 'does',\n 'very\\nwell',\n 'without--Maybe',\n \"it's\",\n 'always',\n 'pepper',\n 'that',\n 'makes',\n 'people',\n \"hot-tempered,'...\"]"
     },
     "execution_count": 138,
     "metadata": {},
     "output_type": "execute_result"
    }
   ],
   "source": [
    "re.split(r' ', raw)"
   ],
   "metadata": {
    "collapsed": false,
    "pycharm": {
     "name": "#%%\n"
    }
   }
  },
  {
   "cell_type": "code",
   "execution_count": 139,
   "outputs": [
    {
     "data": {
      "text/plain": "[\"'When\",\n \"I'M\",\n 'a',\n \"Duchess,'\",\n 'she',\n 'said',\n 'to',\n 'herself,',\n '(not',\n 'in',\n 'a',\n 'very',\n 'hopeful',\n 'tone',\n 'though),',\n \"'I\",\n \"won't\",\n 'have',\n 'any',\n 'pepper',\n 'in',\n 'my',\n 'kitchen',\n 'AT',\n 'ALL.',\n 'Soup',\n 'does',\n 'very',\n 'well',\n 'without--Maybe',\n \"it's\",\n 'always',\n 'pepper',\n 'that',\n 'makes',\n 'people',\n \"hot-tempered,'...\"]"
     },
     "execution_count": 139,
     "metadata": {},
     "output_type": "execute_result"
    }
   ],
   "source": [
    "re.split(r'[ \\t\\n]+', raw)"
   ],
   "metadata": {
    "collapsed": false,
    "pycharm": {
     "name": "#%%\n"
    }
   }
  },
  {
   "cell_type": "code",
   "execution_count": 140,
   "outputs": [
    {
     "data": {
      "text/plain": "['',\n 'When',\n 'I',\n 'M',\n 'a',\n 'Duchess',\n 'she',\n 'said',\n 'to',\n 'herself',\n 'not',\n 'in',\n 'a',\n 'very',\n 'hopeful',\n 'tone',\n 'though',\n 'I',\n 'won',\n 't',\n 'have',\n 'any',\n 'pepper',\n 'in',\n 'my',\n 'kitchen',\n 'AT',\n 'ALL',\n 'Soup',\n 'does',\n 'very',\n 'well',\n 'without',\n 'Maybe',\n 'it',\n 's',\n 'always',\n 'pepper',\n 'that',\n 'makes',\n 'people',\n 'hot',\n 'tempered',\n '']"
     },
     "execution_count": 140,
     "metadata": {},
     "output_type": "execute_result"
    }
   ],
   "source": [
    "re.split(r'\\W+', raw)"
   ],
   "metadata": {
    "collapsed": false,
    "pycharm": {
     "name": "#%%\n"
    }
   }
  },
  {
   "cell_type": "code",
   "execution_count": 141,
   "outputs": [
    {
     "data": {
      "text/plain": "[\"'When\",\n 'I',\n \"'M\",\n 'a',\n 'Duchess',\n ',',\n \"'\",\n 'she',\n 'said',\n 'to',\n 'herself',\n ',',\n '(not',\n 'in',\n 'a',\n 'very',\n 'hopeful',\n 'tone',\n 'though',\n ')',\n ',',\n \"'I\",\n 'won',\n \"'t\",\n 'have',\n 'any',\n 'pepper',\n 'in',\n 'my',\n 'kitchen',\n 'AT',\n 'ALL',\n '.',\n 'Soup',\n 'does',\n 'very',\n 'well',\n 'without',\n '-',\n '-Maybe',\n 'it',\n \"'s\",\n 'always',\n 'pepper',\n 'that',\n 'makes',\n 'people',\n 'hot',\n '-tempered',\n ',',\n \"'\",\n '.',\n '.',\n '.']"
     },
     "execution_count": 141,
     "metadata": {},
     "output_type": "execute_result"
    }
   ],
   "source": [
    "re.findall(r'\\w+|\\S\\w*', raw)"
   ],
   "metadata": {
    "collapsed": false,
    "pycharm": {
     "name": "#%%\n"
    }
   }
  },
  {
   "cell_type": "code",
   "execution_count": 142,
   "outputs": [
    {
     "name": "stdout",
     "output_type": "stream",
     "text": [
      "[\"'\", 'When', \"I'M\", 'a', 'Duchess', ',', \"'\", 'she', 'said', 'to', 'herself', ',', '(', 'not', 'in', 'a', 'very', 'hopeful', 'tone', 'though', ')', ',', \"'\", 'I', \"won't\", 'have', 'any', 'pepper', 'in', 'my', 'kitchen', 'AT', 'ALL', '.', 'Soup', 'does', 'very', 'well', 'without', '--', 'Maybe', \"it's\", 'always', 'pepper', 'that', 'makes', 'people', 'hot-tempered', ',', \"'\", '...']\n"
     ]
    }
   ],
   "source": [
    "print(re.findall(r\"\\w+(?:[-']\\w+)*|'|[-.(]+|\\S\\w*\", raw))"
   ],
   "metadata": {
    "collapsed": false,
    "pycharm": {
     "name": "#%%\n"
    }
   }
  },
  {
   "cell_type": "code",
   "execution_count": 143,
   "outputs": [
    {
     "data": {
      "text/plain": "[('', '', ''), ('', '', ''), ('', '-print', ''), ('', '', ''), ('', '', '')]"
     },
     "execution_count": 143,
     "metadata": {},
     "output_type": "execute_result"
    }
   ],
   "source": [
    "text = 'That U.S.A. poster-print costs $12.40...'\n",
    "pattern = r'''(?x)    # set flag to allow verbose regexps\n",
    "...     ([A-Z]\\.)+        # abbreviations, e.g. U.S.A.\n",
    "...   | \\w+(-\\w+)*        # words with optional internal hyphens\n",
    "...   | \\$?\\d+(\\.\\d+)?%?  # currency and percentages, e.g. $12.40, 82%\n",
    "...   | \\.\\.\\.            # ellipsis\n",
    "...   | [][.,;\"'?():-_`]  # these are separate tokens\n",
    "... '''\n",
    "nltk.regexp_tokenize(text, pattern)"
   ],
   "metadata": {
    "collapsed": false,
    "pycharm": {
     "name": "#%%\n"
    }
   }
  },
  {
   "cell_type": "code",
   "execution_count": 144,
   "outputs": [
    {
     "data": {
      "text/plain": "20.250994070456922"
     },
     "execution_count": 144,
     "metadata": {},
     "output_type": "execute_result"
    }
   ],
   "source": [
    "len(nltk.corpus.brown.words()) / len(nltk.corpus.brown.sents())"
   ],
   "metadata": {
    "collapsed": false,
    "pycharm": {
     "name": "#%%\n"
    }
   }
  },
  {
   "cell_type": "code",
   "execution_count": 145,
   "outputs": [
    {
     "name": "stdout",
     "output_type": "stream",
     "text": [
      "['In the wild events which were to follow this girl had no\\n'\n",
      " 'part at all; he never saw her again until all his tale was over.',\n",
      " 'And yet, in some indescribable way, she kept recurring like a\\n'\n",
      " 'motive in music through all his mad adventures afterwards, and the\\n'\n",
      " 'glory of her strange hair ran like a red thread through those dark\\n'\n",
      " 'and ill-drawn tapestries of the night.',\n",
      " 'For what followed was so\\nimprobable, that it might well have been a dream.',\n",
      " 'When Syme went out into the starlit street, he found it for the\\n'\n",
      " 'moment empty.',\n",
      " 'Then he realised (in some odd way) that the silence\\n'\n",
      " 'was rather a living silence than a dead one.',\n",
      " 'Directly outside the\\n'\n",
      " 'door stood a street lamp, whose gleam gilded the leaves of the tree\\n'\n",
      " 'that bent out over the fence behind him.',\n",
      " 'About a foot from the\\n'\n",
      " 'lamp-post stood a figure almost as rigid and motionless as the\\n'\n",
      " 'lamp-post itself.',\n",
      " 'The tall hat and long frock coat were black; the\\n'\n",
      " 'face, in an abrupt shadow, was almost as dark.',\n",
      " 'Only a fringe of\\n'\n",
      " 'fiery hair against the light, and also something aggressive in the\\n'\n",
      " 'attitude, proclaimed that it was the poet Gregory.',\n",
      " 'He had something\\n'\n",
      " 'of the look of a masked bravo waiting sword in hand for his foe.']\n"
     ]
    }
   ],
   "source": [
    "sent_tokenizer=nltk.data.load('tokenizers/punkt/english.pickle')\n",
    "text = nltk.corpus.gutenberg.raw('chesterton-thursday.txt')\n",
    "sents = sent_tokenizer.tokenize(text)\n",
    "pprint.pprint(sents[171:181])"
   ],
   "metadata": {
    "collapsed": false,
    "pycharm": {
     "name": "#%%\n"
    }
   }
  },
  {
   "cell_type": "code",
   "execution_count": 146,
   "outputs": [],
   "source": [
    "text = \"doyouseethekittyseethedoggydoyoulikethekittylikethedoggy\"\n",
    "seg1 = \"0000000000000001000000000010000000000000000100000000000\"\n",
    "seg2 = \"0100100100100001001001000010100100010010000100010010000\""
   ],
   "metadata": {
    "collapsed": false,
    "pycharm": {
     "name": "#%%\n"
    }
   }
  },
  {
   "cell_type": "code",
   "execution_count": 147,
   "outputs": [
    {
     "data": {
      "text/plain": "['doyouseethekitty', 'seethedoggy', 'doyoulikethekitty', 'likethedoggy']"
     },
     "execution_count": 147,
     "metadata": {},
     "output_type": "execute_result"
    }
   ],
   "source": [
    "def segment(text, segs):\n",
    "    words = []\n",
    "    last = 0\n",
    "    for i in range(len(segs)):\n",
    "        if segs[i] == '1':\n",
    "            words.append(text[last:i+1])\n",
    "            last = i+1\n",
    "    words.append(text[last:])\n",
    "    return words\n",
    "text = \"doyouseethekittyseethedoggydoyoulikethekittylikethedoggy\"\n",
    "seg1 = \"0000000000000001000000000010000000000000000100000000000\"\n",
    "seg2 = \"0100100100100001001001000010100100010010000100010010000\"\n",
    "segment(text, seg1)"
   ],
   "metadata": {
    "collapsed": false,
    "pycharm": {
     "name": "#%%\n"
    }
   }
  },
  {
   "cell_type": "code",
   "execution_count": 148,
   "outputs": [
    {
     "data": {
      "text/plain": "['do',\n 'you',\n 'see',\n 'the',\n 'kitty',\n 'see',\n 'the',\n 'doggy',\n 'do',\n 'you',\n 'like',\n 'the',\n 'kitty',\n 'like',\n 'the',\n 'doggy']"
     },
     "execution_count": 148,
     "metadata": {},
     "output_type": "execute_result"
    }
   ],
   "source": [
    "segment(text, seg2)"
   ],
   "metadata": {
    "collapsed": false,
    "pycharm": {
     "name": "#%%\n"
    }
   }
  },
  {
   "cell_type": "code",
   "execution_count": 149,
   "outputs": [
    {
     "data": {
      "text/plain": "['doyou',\n 'see',\n 'thekitt',\n 'y',\n 'see',\n 'thedogg',\n 'y',\n 'doyou',\n 'like',\n 'thekitt',\n 'y',\n 'like',\n 'thedogg',\n 'y']"
     },
     "execution_count": 149,
     "metadata": {},
     "output_type": "execute_result"
    }
   ],
   "source": [
    "def evaluate(text, segs):\n",
    "    words = segment(text, segs)\n",
    "    text_size = len(words)\n",
    "    lexicon_size = len(' '.join(list(set(words))))\n",
    "    return text_size + lexicon_size\n",
    "text = \"doyouseethekittyseethedoggydoyoulikethekittylikethedoggy\"\n",
    "seg1 = \"0000000000000001000000000010000000000000000100000000000\"\n",
    "seg2 = \"0100100100100001001001000010100100010010000100010010000\"\n",
    "seg3 = \"0000100100000011001000000110000100010000001100010000001\"\n",
    "segment(text, seg3)"
   ],
   "metadata": {
    "collapsed": false,
    "pycharm": {
     "name": "#%%\n"
    }
   }
  },
  {
   "cell_type": "code",
   "execution_count": 150,
   "outputs": [
    {
     "data": {
      "text/plain": "46"
     },
     "execution_count": 150,
     "metadata": {},
     "output_type": "execute_result"
    }
   ],
   "source": [
    "evaluate(text, seg3)"
   ],
   "metadata": {
    "collapsed": false,
    "pycharm": {
     "name": "#%%\n"
    }
   }
  },
  {
   "cell_type": "code",
   "execution_count": 151,
   "outputs": [
    {
     "data": {
      "text/plain": "47"
     },
     "execution_count": 151,
     "metadata": {},
     "output_type": "execute_result"
    }
   ],
   "source": [
    "evaluate(text, seg2)"
   ],
   "metadata": {
    "collapsed": false,
    "pycharm": {
     "name": "#%%\n"
    }
   }
  },
  {
   "cell_type": "code",
   "execution_count": 152,
   "outputs": [
    {
     "data": {
      "text/plain": "63"
     },
     "execution_count": 152,
     "metadata": {},
     "output_type": "execute_result"
    }
   ],
   "source": [
    "evaluate(text, seg1)"
   ],
   "metadata": {
    "collapsed": false,
    "pycharm": {
     "name": "#%%\n"
    }
   }
  },
  {
   "cell_type": "code",
   "execution_count": 153,
   "outputs": [
    {
     "name": "stdout",
     "output_type": "stream",
     "text": [
      "63 ['doyouseethekitty', 'seethedoggy', 'doyoulikethekitty', 'likethedoggy']\n",
      "63 ['doyouseethekitty', 'seethedoggy', 'doyoulikethekitty', 'likethedoggy']\n",
      "63 ['doyouseethekitty', 'seethedoggy', 'doyoulikethekitty', 'likethedoggy']\n",
      "63 ['doyouseethekitty', 'seethedoggy', 'doyoulikethekitty', 'likethedoggy']\n",
      "63 ['doyouseethekitty', 'seethedoggy', 'doyoulikethekitty', 'likethedoggy']\n",
      "63 ['doyouseethekitty', 'seethedoggy', 'doyoulikethekitty', 'likethedoggy']\n",
      "63 ['doyouseethekitty', 'seethedoggy', 'doyoulikethekitty', 'likethedoggy']\n",
      "57 ['do', 'yous', 'eeth', 'ekitty', 'se', 'eth', 'edoggy', 'do', 'you', 'liketh', 'ekitty', 'liketh', 'edoggy']\n",
      "57 ['do', 'yous', 'eeth', 'ekitty', 'se', 'eth', 'edoggy', 'do', 'you', 'liketh', 'ekitty', 'liketh', 'edoggy']\n",
      "57 ['do', 'yous', 'eeth', 'ekitty', 'se', 'eth', 'edoggy', 'do', 'you', 'liketh', 'ekitty', 'liketh', 'edoggy']\n",
      "54 ['do', 'you', 's', 'eeth', 'ekitty', 'se', 'eth', 'edoggy', 'do', 'you', 'lik', 'eth', 'ekitty', 'lik', 'eth', 'edoggy']\n",
      "54 ['do', 'you', 's', 'eeth', 'ekitty', 'se', 'eth', 'edoggy', 'do', 'you', 'lik', 'eth', 'ekitty', 'lik', 'eth', 'edoggy']\n",
      "54 ['do', 'you', 's', 'eeth', 'ekitty', 'se', 'eth', 'edoggy', 'do', 'you', 'lik', 'eth', 'ekitty', 'lik', 'eth', 'edoggy']\n",
      "53 ['do', 'you', 's', 'eeth', 'ekitty', 's', 'eeth', 'edoggy', 'd', 'o', 'you', 'liketh', 'ekitty', 'liketh', 'edoggy']\n",
      "52 ['do', 'yous', 'eeth', 'ekitty', 's', 'eeth', 'edoggy', 'do', 'you', 'liketh', 'ekitty', 'liketh', 'edoggy']\n",
      "51 ['doyous', 'eeth', 'ekitty', 's', 'eeth', 'edoggy', 'doyou', 'liketh', 'ekitty', 'liketh', 'edoggy']\n",
      "45 ['doyou', 's', 'eeth', 'ekitty', 's', 'eeth', 'edoggy', 'doyou', 'liketh', 'ekitty', 'liketh', 'edoggy']\n",
      "42 ['doyou', 'seeth', 'ekitty', 'seeth', 'edoggy', 'doyou', 'liketh', 'ekitty', 'liketh', 'edoggy']\n",
      "42 ['doyou', 'seeth', 'ekitty', 'seeth', 'edoggy', 'doyou', 'liketh', 'ekitty', 'liketh', 'edoggy']\n",
      "42 ['doyou', 'seeth', 'ekitty', 'seeth', 'edoggy', 'doyou', 'liketh', 'ekitty', 'liketh', 'edoggy']\n",
      "42 ['doyou', 'seeth', 'ekitty', 'seeth', 'edoggy', 'doyou', 'liketh', 'ekitty', 'liketh', 'edoggy']\n",
      "42 ['doyou', 'seeth', 'ekitty', 'seeth', 'edoggy', 'doyou', 'liketh', 'ekitty', 'liketh', 'edoggy']\n",
      "42 ['doyou', 'seeth', 'ekitty', 'seeth', 'edoggy', 'doyou', 'liketh', 'ekitty', 'liketh', 'edoggy']\n",
      "42 ['doyou', 'seeth', 'ekitty', 'seeth', 'edoggy', 'doyou', 'liketh', 'ekitty', 'liketh', 'edoggy']\n",
      "42 ['doyou', 'seeth', 'ekitty', 'seeth', 'edoggy', 'doyou', 'liketh', 'ekitty', 'liketh', 'edoggy']\n",
      "42 ['doyou', 'seeth', 'ekitty', 'seeth', 'edoggy', 'doyou', 'liketh', 'ekitty', 'liketh', 'edoggy']\n",
      "\n"
     ]
    },
    {
     "data": {
      "text/plain": "'0000100001000001000010000010000100000100000100000100000'"
     },
     "execution_count": 153,
     "metadata": {},
     "output_type": "execute_result"
    }
   ],
   "source": [
    "from random import randint\n",
    "\n",
    "def flip(segs, pos):\n",
    "    return segs[:pos] + str(1-int(segs[pos])) + segs[pos+1:]\n",
    "\n",
    "def flip_n(segs, n):\n",
    "    for i in range(n):\n",
    "        segs = flip(segs, randint(0,len(segs)-1))\n",
    "    return segs\n",
    "\n",
    "def anneal(text, segs, iterations, cooling_rate):\n",
    "    temperature = float(len(segs))\n",
    "    while temperature > 0.5:\n",
    "        best_segs, best = segs, evaluate(text, segs)\n",
    "        for i in range(iterations):\n",
    "            guess = flip_n(segs, int(round(temperature)))\n",
    "            score = evaluate(text, guess)\n",
    "            if score < best:\n",
    "                best, best_segs = score, guess\n",
    "        score, segs = best, best_segs\n",
    "        temperature = temperature / cooling_rate\n",
    "        print(evaluate(text, segs), segment(text, segs))\n",
    "    print()\n",
    "    return segs\n",
    "text = \"doyouseethekittyseethedoggydoyoulikethekittylikethedoggy\"\n",
    "seg1 = \"0000000000000001000000000010000000000000000100000000000\"\n",
    "anneal(text, seg1, 5000, 1.2)"
   ],
   "metadata": {
    "collapsed": false,
    "pycharm": {
     "name": "#%%\n"
    }
   }
  },
  {
   "cell_type": "code",
   "execution_count": 154,
   "outputs": [
    {
     "data": {
      "text/plain": "'We called him Tortoise because he taught us .'"
     },
     "execution_count": 154,
     "metadata": {},
     "output_type": "execute_result"
    }
   ],
   "source": [
    "silly = ['We', 'called', 'him', 'Tortoise', 'because', 'he', 'taught', 'us', '.']\n",
    "' '.join(silly)"
   ],
   "metadata": {
    "collapsed": false,
    "pycharm": {
     "name": "#%%\n"
    }
   }
  },
  {
   "cell_type": "code",
   "execution_count": 155,
   "outputs": [
    {
     "data": {
      "text/plain": "'We;called;him;Tortoise;because;he;taught;us;.'"
     },
     "execution_count": 155,
     "metadata": {},
     "output_type": "execute_result"
    }
   ],
   "source": [
    "';'.join(silly)"
   ],
   "metadata": {
    "collapsed": false,
    "pycharm": {
     "name": "#%%\n"
    }
   }
  },
  {
   "cell_type": "code",
   "execution_count": 156,
   "outputs": [
    {
     "data": {
      "text/plain": "'WecalledhimTortoisebecausehetaughtus.'"
     },
     "execution_count": 156,
     "metadata": {},
     "output_type": "execute_result"
    }
   ],
   "source": [
    "''.join(silly)"
   ],
   "metadata": {
    "collapsed": false,
    "pycharm": {
     "name": "#%%\n"
    }
   }
  },
  {
   "cell_type": "code",
   "execution_count": 157,
   "outputs": [
    {
     "name": "stdout",
     "output_type": "stream",
     "text": [
      "cat\n"
     ]
    }
   ],
   "source": [
    "word = 'cat'\n",
    "sentence = \"\"\"hello\n",
    "... world\"\"\"\n",
    "print(word)"
   ],
   "metadata": {
    "collapsed": false,
    "pycharm": {
     "name": "#%%\n"
    }
   }
  },
  {
   "cell_type": "code",
   "execution_count": 158,
   "outputs": [
    {
     "name": "stdout",
     "output_type": "stream",
     "text": [
      "hello\n",
      "... world\n"
     ]
    }
   ],
   "source": [
    "print(sentence)"
   ],
   "metadata": {
    "collapsed": false,
    "pycharm": {
     "name": "#%%\n"
    }
   }
  },
  {
   "cell_type": "code",
   "execution_count": 159,
   "outputs": [
    {
     "data": {
      "text/plain": "'cat'"
     },
     "execution_count": 159,
     "metadata": {},
     "output_type": "execute_result"
    }
   ],
   "source": [
    "word"
   ],
   "metadata": {
    "collapsed": false,
    "pycharm": {
     "name": "#%%\n"
    }
   }
  },
  {
   "cell_type": "code",
   "execution_count": 160,
   "outputs": [
    {
     "data": {
      "text/plain": "'hello\\n... world'"
     },
     "execution_count": 160,
     "metadata": {},
     "output_type": "execute_result"
    }
   ],
   "source": [
    "sentence"
   ],
   "metadata": {
    "collapsed": false,
    "pycharm": {
     "name": "#%%\n"
    }
   }
  },
  {
   "cell_type": "code",
   "execution_count": 161,
   "outputs": [
    {
     "name": "stdout",
     "output_type": "stream",
     "text": [
      "dog -> 4 ;\n",
      "cat -> 3 ;\n",
      "snake -> 1 ;\n"
     ]
    }
   ],
   "source": [
    "fdist = nltk.FreqDist(['dog', 'cat', 'dog', 'cat', 'dog', 'snake', 'dog', 'cat'])\n",
    "for word in fdist:\n",
    "    print(word, '->', fdist[word], ';',)"
   ],
   "metadata": {
    "collapsed": false,
    "pycharm": {
     "name": "#%%\n"
    }
   }
  },
  {
   "cell_type": "code",
   "execution_count": 162,
   "outputs": [
    {
     "name": "stdout",
     "output_type": "stream",
     "text": [
      "dog->4;\n",
      "cat->3;\n",
      "snake->1;\n"
     ]
    }
   ],
   "source": [
    "for word in fdist:\n",
    "   print('%s->%d;' % (word, fdist[word]),)"
   ],
   "metadata": {
    "collapsed": false,
    "pycharm": {
     "name": "#%%\n"
    }
   }
  },
  {
   "cell_type": "code",
   "execution_count": 163,
   "outputs": [
    {
     "data": {
      "text/plain": "'cat->3;'"
     },
     "execution_count": 163,
     "metadata": {},
     "output_type": "execute_result"
    }
   ],
   "source": [
    "'%s->%d;' % ('cat', 3)"
   ],
   "metadata": {
    "collapsed": false,
    "pycharm": {
     "name": "#%%\n"
    }
   }
  },
  {
   "cell_type": "code",
   "execution_count": 164,
   "outputs": [
    {
     "ename": "TypeError",
     "evalue": "not enough arguments for format string",
     "output_type": "error",
     "traceback": [
      "\u001B[0;31m---------------------------------------------------------------------------\u001B[0m",
      "\u001B[0;31mTypeError\u001B[0m                                 Traceback (most recent call last)",
      "\u001B[0;32m<ipython-input-164-0a940f8bd9ca>\u001B[0m in \u001B[0;36m<module>\u001B[0;34m\u001B[0m\n\u001B[0;32m----> 1\u001B[0;31m \u001B[0;34m'%s->%d;'\u001B[0m \u001B[0;34m%\u001B[0m \u001B[0;34m'cat'\u001B[0m\u001B[0;34m\u001B[0m\u001B[0;34m\u001B[0m\u001B[0m\n\u001B[0m",
      "\u001B[0;31mTypeError\u001B[0m: not enough arguments for format string"
     ]
    }
   ],
   "source": [
    "'%s->%d;' % 'cat'"
   ],
   "metadata": {
    "collapsed": false,
    "pycharm": {
     "name": "#%%\n"
    }
   }
  },
  {
   "cell_type": "code",
   "execution_count": 165,
   "outputs": [
    {
     "data": {
      "text/plain": "'cat->'"
     },
     "execution_count": 165,
     "metadata": {},
     "output_type": "execute_result"
    }
   ],
   "source": [
    "'%s->' % 'cat'"
   ],
   "metadata": {
    "collapsed": false,
    "pycharm": {
     "name": "#%%\n"
    }
   }
  },
  {
   "cell_type": "code",
   "execution_count": 166,
   "outputs": [
    {
     "data": {
      "text/plain": "'3'"
     },
     "execution_count": 166,
     "metadata": {},
     "output_type": "execute_result"
    }
   ],
   "source": [
    "'%d' % 3"
   ],
   "metadata": {
    "collapsed": false,
    "pycharm": {
     "name": "#%%\n"
    }
   }
  },
  {
   "cell_type": "code",
   "execution_count": 167,
   "outputs": [
    {
     "data": {
      "text/plain": "'I want a coffee right now'"
     },
     "execution_count": 167,
     "metadata": {},
     "output_type": "execute_result"
    }
   ],
   "source": [
    "'I want a %s right now' % 'coffee'"
   ],
   "metadata": {
    "collapsed": false,
    "pycharm": {
     "name": "#%%\n"
    }
   }
  },
  {
   "cell_type": "code",
   "execution_count": 168,
   "outputs": [
    {
     "data": {
      "text/plain": "'Lee wants a sandwich for lunch'"
     },
     "execution_count": 168,
     "metadata": {},
     "output_type": "execute_result"
    }
   ],
   "source": [
    "\"%s wants a %s %s\" % (\"Lee\", \"sandwich\", \"for lunch\")"
   ],
   "metadata": {
    "collapsed": false,
    "pycharm": {
     "name": "#%%\n"
    }
   }
  },
  {
   "cell_type": "code",
   "execution_count": 169,
   "outputs": [
    {
     "name": "stdout",
     "output_type": "stream",
     "text": [
      "Lee wants a sandwich right now\n",
      "Lee wants a spam fritter right now\n",
      "Lee wants a pancake right now\n"
     ]
    }
   ],
   "source": [
    "template = 'Lee wants a %s right now'\n",
    "menu = ['sandwich', 'spam fritter', 'pancake']\n",
    "for snack in menu:\n",
    "    print(template % snack)"
   ],
   "metadata": {
    "collapsed": false,
    "pycharm": {
     "name": "#%%\n"
    }
   }
  },
  {
   "cell_type": "code",
   "execution_count": 170,
   "outputs": [
    {
     "data": {
      "text/plain": "'   dog'"
     },
     "execution_count": 170,
     "metadata": {},
     "output_type": "execute_result"
    }
   ],
   "source": [
    "'%6s' % 'dog'"
   ],
   "metadata": {
    "collapsed": false,
    "pycharm": {
     "name": "#%%\n"
    }
   }
  },
  {
   "cell_type": "code",
   "execution_count": 171,
   "outputs": [
    {
     "data": {
      "text/plain": "'dog   '"
     },
     "execution_count": 171,
     "metadata": {},
     "output_type": "execute_result"
    }
   ],
   "source": [
    "'%-6s' % 'dog'"
   ],
   "metadata": {
    "collapsed": false,
    "pycharm": {
     "name": "#%%\n"
    }
   }
  },
  {
   "cell_type": "code",
   "execution_count": 172,
   "outputs": [
    {
     "data": {
      "text/plain": "'dog   '"
     },
     "execution_count": 172,
     "metadata": {},
     "output_type": "execute_result"
    }
   ],
   "source": [
    "width = 6\n",
    "'%-*s' % (width, 'dog')"
   ],
   "metadata": {
    "collapsed": false,
    "pycharm": {
     "name": "#%%\n"
    }
   }
  },
  {
   "cell_type": "code",
   "execution_count": 173,
   "outputs": [
    {
     "data": {
      "text/plain": "'accuracy for 9375 words: 34.1867%'"
     },
     "execution_count": 173,
     "metadata": {},
     "output_type": "execute_result"
    }
   ],
   "source": [
    "count, total = 3205, 9375\n",
    "\"accuracy for %d words: %2.4f%%\" % (total, 100 * count / total)"
   ],
   "metadata": {
    "collapsed": false,
    "pycharm": {
     "name": "#%%\n"
    }
   }
  },
  {
   "cell_type": "code",
   "execution_count": 174,
   "outputs": [
    {
     "name": "stdout",
     "output_type": "stream",
     "text": [
      "Category        \n",
      "   can\n",
      " could\n",
      "   may\n",
      " might\n",
      "  must\n",
      "  will\n",
      "\n",
      "news            \n",
      "    93\n",
      "    86\n",
      "    66\n",
      "    38\n",
      "    50\n",
      "   389\n",
      "\n",
      "religion        \n",
      "    82\n",
      "    59\n",
      "    78\n",
      "    12\n",
      "    54\n",
      "    71\n",
      "\n",
      "hobbies         \n",
      "   268\n",
      "    58\n",
      "   131\n",
      "    22\n",
      "    83\n",
      "   264\n",
      "\n",
      "science_fiction \n",
      "    16\n",
      "    49\n",
      "     4\n",
      "    12\n",
      "     8\n",
      "    16\n",
      "\n",
      "romance         \n",
      "    74\n",
      "   193\n",
      "    11\n",
      "    51\n",
      "    45\n",
      "    43\n",
      "\n",
      "humor           \n",
      "    16\n",
      "    30\n",
      "     8\n",
      "     8\n",
      "     9\n",
      "    13\n",
      "\n"
     ]
    }
   ],
   "source": [
    "def tabulate(cfdist, words, categories):\n",
    "    print('%-16s' % 'Category',)\n",
    "    for word in words:                                  # column headings\n",
    "        print('%6s' % word,)\n",
    "    print()\n",
    "    for category in categories:\n",
    "        print('%-16s' % category,)                      # row heading\n",
    "        for word in words:                              # for each word\n",
    "            print('%6d' % cfdist[category][word],)      # print table cell\n",
    "        print()                                         # end the row\n",
    "from nltk.corpus import brown\n",
    "cfd = nltk.ConditionalFreqDist(\n",
    "          (genre, word)\n",
    "          for genre in brown.categories()\n",
    "          for word in brown.words(categories=genre))\n",
    "genres = ['news', 'religion', 'hobbies', 'science_fiction', 'romance', 'humor']\n",
    "modals = ['can', 'could', 'may', 'might', 'must', 'will']\n",
    "tabulate(cfd, modals, genres)"
   ],
   "metadata": {
    "collapsed": false,
    "pycharm": {
     "name": "#%%\n"
    }
   }
  },
  {
   "cell_type": "code",
   "execution_count": 175,
   "outputs": [
    {
     "data": {
      "text/plain": "'   Monty Python'"
     },
     "execution_count": 175,
     "metadata": {},
     "output_type": "execute_result"
    }
   ],
   "source": [
    "'%*s' % (15, \"Monty Python\")"
   ],
   "metadata": {
    "collapsed": false,
    "pycharm": {
     "name": "#%%\n"
    }
   }
  },
  {
   "cell_type": "code",
   "execution_count": 176,
   "outputs": [],
   "source": [
    "output_file = open('output.txt', 'w')\n",
    "words = set(nltk.corpus.genesis.words('english-kjv.txt'))\n",
    "for word in sorted(words):\n",
    "    output_file.write(word + \"\\n\")"
   ],
   "metadata": {
    "collapsed": false,
    "pycharm": {
     "name": "#%%\n"
    }
   }
  },
  {
   "cell_type": "code",
   "execution_count": 177,
   "outputs": [],
   "source": [
    "output_file = open('output1.txt', 'w')\n",
    "words = set(nltk.corpus.genesis.words('english-kjv.txt'))\n",
    "for word in sorted(words):\n",
    "    output_file.write(word)"
   ],
   "metadata": {
    "collapsed": false,
    "pycharm": {
     "name": "#%%\n"
    }
   }
  },
  {
   "cell_type": "code",
   "execution_count": 178,
   "outputs": [
    {
     "data": {
      "text/plain": "2789"
     },
     "execution_count": 178,
     "metadata": {},
     "output_type": "execute_result"
    }
   ],
   "source": [
    "len(words)"
   ],
   "metadata": {
    "collapsed": false,
    "pycharm": {
     "name": "#%%\n"
    }
   }
  },
  {
   "cell_type": "code",
   "execution_count": 179,
   "outputs": [
    {
     "data": {
      "text/plain": "'2789'"
     },
     "execution_count": 179,
     "metadata": {},
     "output_type": "execute_result"
    }
   ],
   "source": [
    "str(len(words))"
   ],
   "metadata": {
    "collapsed": false,
    "pycharm": {
     "name": "#%%\n"
    }
   }
  },
  {
   "cell_type": "code",
   "execution_count": 180,
   "outputs": [],
   "source": [
    "output_file.write(str(len(words)) + \"\\n\")\n",
    "output_file.close()"
   ],
   "metadata": {
    "collapsed": false,
    "pycharm": {
     "name": "#%%\n"
    }
   }
  },
  {
   "cell_type": "code",
   "execution_count": 181,
   "outputs": [
    {
     "name": "stdout",
     "output_type": "stream",
     "text": [
      "After (5),\n",
      "all (3),\n",
      "is (2),\n",
      "said (4),\n",
      "and (3),\n",
      "done (4),\n",
      ", (1),\n",
      "more (4),\n",
      "is (2),\n",
      "said (4),\n",
      "than (4),\n",
      "done (4),\n",
      ". (1),\n"
     ]
    }
   ],
   "source": [
    "saying = ['After', 'all', 'is', 'said', 'and', 'done', ',',\n",
    "          'more', 'is', 'said', 'than', 'done', '.']\n",
    "for word in saying:\n",
    "    print(word, '(' + str(len(word)) + '),',)"
   ],
   "metadata": {
    "collapsed": false,
    "pycharm": {
     "name": "#%%\n"
    }
   }
  },
  {
   "cell_type": "code",
   "execution_count": 182,
   "outputs": [
    {
     "name": "stdout",
     "output_type": "stream",
     "text": [
      "After (5), all (3), is (2), said (4), and (3), done (4), , (1), more\n",
      "(4), is (2), said (4), than (4), done (4), . (1),\n"
     ]
    }
   ],
   "source": [
    "from textwrap import fill\n",
    "format = '%s (%d),'\n",
    "pieces = [format % (word, len(word)) for word in saying]\n",
    "output = ' '.join(pieces)\n",
    "wrapped = fill(output)\n",
    "print(wrapped)"
   ],
   "metadata": {
    "collapsed": false,
    "pycharm": {
     "name": "#%%\n"
    }
   }
  },
  {
   "cell_type": "code",
   "execution_count": null,
   "outputs": [],
   "source": [],
   "metadata": {
    "collapsed": false,
    "pycharm": {
     "name": "#%%\n"
    }
   }
  }
 ],
 "metadata": {
  "kernelspec": {
   "display_name": "Python 3",
   "language": "python",
   "name": "python3"
  },
  "language_info": {
   "codemirror_mode": {
    "name": "ipython",
    "version": 2
   },
   "file_extension": ".py",
   "mimetype": "text/x-python",
   "name": "python",
   "nbconvert_exporter": "python",
   "pygments_lexer": "ipython2",
   "version": "2.7.6"
  }
 },
 "nbformat": 4,
 "nbformat_minor": 0
}