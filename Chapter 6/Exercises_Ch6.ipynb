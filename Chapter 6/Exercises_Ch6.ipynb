{
 "cells": [
  {
   "cell_type": "code",
   "execution_count": 1,
   "metadata": {
    "collapsed": true
   },
   "outputs": [],
   "source": [
    "# Exercise: 6-2\n",
    "# Using any of the three classifiers described in this chapter, and any features you can think of,\n",
    "# build the best name gender classifier you can. Begin by splitting the Names Corpus into three subsets:\n",
    "# 500 words for the test set, 500 words for the dev-test set, and the remaining 6,900 words for the training set.\n",
    "# Then, starting with the example name gender classifier, make incremental improvements. Use the dev-test set to\n",
    "# check your progress. Once you are satisfied with your classifier, check its final performance on the test set.\n",
    "# How does the performance on the test set compare to the performance on the dev-test set? Is this what you’d expect?\n",
    "\n",
    "def gender_features(word):\n",
    "    return {'last_letter': word[-1]}"
   ]
  },
  {
   "cell_type": "code",
   "execution_count": 2,
   "outputs": [],
   "source": [
    "from nltk.corpus import names\n",
    "import random\n",
    "\n",
    "labeled_names = ([(name, 'male') for name in names.words('male.txt')] +\n",
    "                 [(name, 'female') for name in names.words('female.txt')])\n",
    "random.shuffle(labeled_names)"
   ],
   "metadata": {
    "collapsed": false,
    "pycharm": {
     "name": "#%%\n"
    }
   }
  },
  {
   "cell_type": "code",
   "execution_count": 3,
   "outputs": [
    {
     "name": "stdout",
     "output_type": "stream",
     "text": [
      "  ==> Training (50 iterations)\n",
      "\n",
      "      Iteration    Log Likelihood    Accuracy\n",
      "      ---------------------------------------\n",
      "             1          -0.69315        0.372\n",
      "             2          -0.37315        0.762\n",
      "             3          -0.37282        0.762\n",
      "             4          -0.37262        0.762\n",
      "             5          -0.37249        0.762\n",
      "             6          -0.37240        0.762\n",
      "             7          -0.37233        0.762\n",
      "             8          -0.37227        0.762\n",
      "             9          -0.37223        0.762\n",
      "            10          -0.37219        0.762\n",
      "            11          -0.37216        0.762\n",
      "            12          -0.37213        0.762\n",
      "            13          -0.37211        0.762\n",
      "            14          -0.37209        0.762\n",
      "            15          -0.37208        0.762\n",
      "            16          -0.37206        0.762\n",
      "            17          -0.37205        0.762\n",
      "            18          -0.37204        0.762\n",
      "            19          -0.37203        0.762\n",
      "            20          -0.37202        0.762\n",
      "            21          -0.37201        0.762\n",
      "            22          -0.37200        0.762\n",
      "            23          -0.37199        0.762\n",
      "            24          -0.37199        0.762\n",
      "            25          -0.37198        0.762\n",
      "            26          -0.37198        0.762\n",
      "            27          -0.37197        0.762\n",
      "            28          -0.37197        0.762\n",
      "            29          -0.37196        0.762\n",
      "            30          -0.37196        0.762\n",
      "            31          -0.37195        0.762\n",
      "            32          -0.37195        0.762\n",
      "            33          -0.37195        0.762\n",
      "            34          -0.37194        0.762\n",
      "            35          -0.37194        0.762\n",
      "            36          -0.37194        0.762\n",
      "            37          -0.37193        0.762\n",
      "            38          -0.37193        0.762\n",
      "            39          -0.37193        0.762\n",
      "            40          -0.37193        0.762\n",
      "            41          -0.37192        0.762\n",
      "            42          -0.37192        0.762\n",
      "            43          -0.37192        0.762\n",
      "            44          -0.37192        0.762\n",
      "            45          -0.37192        0.762\n",
      "            46          -0.37191        0.762\n",
      "            47          -0.37191        0.762\n",
      "            48          -0.37191        0.762\n",
      "            49          -0.37191        0.762\n",
      "         Final          -0.37191        0.762\n"
     ]
    }
   ],
   "source": [
    "import nltk\n",
    "\n",
    "featuresets = [(gender_features(n), gender) for (n, gender) in labeled_names]\n",
    "train_set, devtest_set, test_set = featuresets[1000:], featuresets[500:1000], featuresets[:500]\n",
    "classifier = nltk.classify.MaxentClassifier.train(train_set, max_iter = 50)"
   ],
   "metadata": {
    "collapsed": false,
    "pycharm": {
     "name": "#%%\n"
    }
   }
  },
  {
   "cell_type": "code",
   "execution_count": 4,
   "outputs": [
    {
     "name": "stdout",
     "output_type": "stream",
     "text": [
      "0.78\n"
     ]
    }
   ],
   "source": [
    "print(nltk.classify.accuracy(classifier, devtest_set))"
   ],
   "metadata": {
    "collapsed": false,
    "pycharm": {
     "name": "#%%\n"
    }
   }
  },
  {
   "cell_type": "code",
   "execution_count": 5,
   "outputs": [],
   "source": [
    "devtest_names = labeled_names[500:1000]\n",
    "devtest_set = [(gender_features(n), gender) for (n, gender) in devtest_names]\n",
    "errors = []\n",
    "for (name, tag) in devtest_names:\n",
    "    guess = classifier.classify(gender_features(name))\n",
    "    if guess != tag:\n",
    "        errors.append( (tag, guess, name))"
   ],
   "metadata": {
    "collapsed": false,
    "pycharm": {
     "name": "#%%\n"
    }
   }
  },
  {
   "cell_type": "code",
   "execution_count": 6,
   "outputs": [
    {
     "name": "stdout",
     "output_type": "stream",
     "text": [
      "correct = female   guess = male     name = Alisun                        \n",
      "correct = female   guess = male     name = Amber                         \n",
      "correct = female   guess = male     name = Avis                          \n",
      "correct = female   guess = male     name = Beitris                       \n",
      "correct = female   guess = male     name = Bird                          \n",
      "correct = female   guess = male     name = Carmon                        \n",
      "correct = female   guess = male     name = Charmain                      \n",
      "correct = female   guess = male     name = Consuelo                      \n",
      "correct = female   guess = male     name = Corabel                       \n",
      "correct = female   guess = male     name = Darb                          \n",
      "correct = female   guess = male     name = Daryn                         \n",
      "correct = female   guess = male     name = Doris                         \n",
      "correct = female   guess = male     name = Edin                          \n",
      "correct = female   guess = male     name = Ellen                         \n",
      "correct = female   guess = male     name = Estell                        \n",
      "correct = female   guess = male     name = Evelyn                        \n",
      "correct = female   guess = male     name = Farrand                       \n",
      "correct = female   guess = male     name = Fleur                         \n",
      "correct = female   guess = male     name = Ginnifer                      \n",
      "correct = female   guess = male     name = Glynis                        \n",
      "correct = female   guess = male     name = Grissel                       \n",
      "correct = female   guess = male     name = Hester                        \n",
      "correct = female   guess = male     name = Jacklin                       \n",
      "correct = female   guess = male     name = Jo Ann                        \n",
      "correct = female   guess = male     name = Jocelin                       \n",
      "correct = female   guess = male     name = Joelynn                       \n",
      "correct = female   guess = male     name = Joycelin                      \n",
      "correct = female   guess = male     name = Kaitlyn                       \n",
      "correct = female   guess = male     name = Kat                           \n",
      "correct = female   guess = male     name = Katlin                        \n",
      "correct = female   guess = male     name = Kit                           \n",
      "correct = female   guess = male     name = Kristen                       \n",
      "correct = female   guess = male     name = Lauryn                        \n",
      "correct = female   guess = male     name = Lil                           \n",
      "correct = female   guess = male     name = Lilian                        \n",
      "correct = female   guess = male     name = Linnell                       \n",
      "correct = female   guess = male     name = Margalo                       \n",
      "correct = female   guess = male     name = Meagan                        \n",
      "correct = female   guess = male     name = Megan                         \n",
      "correct = female   guess = male     name = Meridel                       \n",
      "correct = female   guess = male     name = Myriam                        \n",
      "correct = female   guess = male     name = Nanon                         \n",
      "correct = female   guess = male     name = Nitin                         \n",
      "correct = female   guess = male     name = Orel                          \n",
      "correct = female   guess = male     name = Philis                        \n",
      "correct = female   guess = male     name = Pru                           \n",
      "correct = female   guess = male     name = Ragnhild                      \n",
      "correct = female   guess = male     name = Rosalyn                       \n",
      "correct = female   guess = male     name = Shaylynn                      \n",
      "correct = female   guess = male     name = Shell                         \n",
      "correct = female   guess = male     name = Sinead                        \n",
      "correct = male     guess = female   name = Augie                         \n",
      "correct = male     guess = female   name = Ave                           \n",
      "correct = male     guess = female   name = Blaine                        \n",
      "correct = male     guess = female   name = Claire                        \n",
      "correct = male     guess = female   name = Cy                            \n",
      "correct = male     guess = female   name = Danie                         \n",
      "correct = male     guess = female   name = Deane                         \n",
      "correct = male     guess = female   name = Donnie                        \n",
      "correct = male     guess = female   name = Dougie                        \n",
      "correct = male     guess = female   name = Earle                         \n",
      "correct = male     guess = female   name = Eddie                         \n",
      "correct = male     guess = female   name = Enoch                         \n",
      "correct = male     guess = female   name = Enrique                       \n",
      "correct = male     guess = female   name = Felice                        \n",
      "correct = male     guess = female   name = Garvey                        \n",
      "correct = male     guess = female   name = Georgie                       \n",
      "correct = male     guess = female   name = Germaine                      \n",
      "correct = male     guess = female   name = Gerome                        \n",
      "correct = male     guess = female   name = Godfree                       \n",
      "correct = male     guess = female   name = Grove                         \n",
      "correct = male     guess = female   name = Heath                         \n",
      "correct = male     guess = female   name = Henry                         \n",
      "correct = male     guess = female   name = Hersh                         \n",
      "correct = male     guess = female   name = Kermie                        \n",
      "correct = male     guess = female   name = Krishna                       \n",
      "correct = male     guess = female   name = Lonnie                        \n",
      "correct = male     guess = female   name = Maurise                       \n",
      "correct = male     guess = female   name = Mendie                        \n",
      "correct = male     guess = female   name = Moe                           \n",
      "correct = male     guess = female   name = Neale                         \n",
      "correct = male     guess = female   name = Nickey                        \n",
      "correct = male     guess = female   name = Orville                       \n",
      "correct = male     guess = female   name = Prince                        \n",
      "correct = male     guess = female   name = Reese                         \n",
      "correct = male     guess = female   name = Reube                         \n",
      "correct = male     guess = female   name = Rice                          \n",
      "correct = male     guess = female   name = Ripley                        \n",
      "correct = male     guess = female   name = Ritch                         \n",
      "correct = male     guess = female   name = Rodrique                      \n",
      "correct = male     guess = female   name = Rory                          \n",
      "correct = male     guess = female   name = Saxe                          \n",
      "correct = male     guess = female   name = Scottie                       \n",
      "correct = male     guess = female   name = Sollie                        \n",
      "correct = male     guess = female   name = Stinky                        \n",
      "correct = male     guess = female   name = Taite                         \n",
      "correct = male     guess = female   name = Tammie                        \n",
      "correct = male     guess = female   name = Toby                          \n",
      "correct = male     guess = female   name = Torey                         \n",
      "correct = male     guess = female   name = Towny                         \n",
      "correct = male     guess = female   name = Tremaine                      \n",
      "correct = male     guess = female   name = Tye                           \n",
      "correct = male     guess = female   name = Vijay                         \n",
      "correct = male     guess = female   name = Vince                         \n",
      "correct = male     guess = female   name = Warde                         \n",
      "correct = male     guess = female   name = Welch                         \n",
      "correct = male     guess = female   name = Worthy                        \n",
      "correct = male     guess = female   name = Zacherie                      \n",
      "correct = male     guess = female   name = Zane                          \n",
      "correct = male     guess = female   name = Zebedee                       \n"
     ]
    }
   ],
   "source": [
    "for (tag, guess, name) in sorted(errors):\n",
    "    print('correct = {:<8} guess = {:<8} name = {:<30}'.format(tag, guess, name))"
   ],
   "metadata": {
    "collapsed": false,
    "pycharm": {
     "name": "#%%\n"
    }
   }
  },
  {
   "cell_type": "code",
   "execution_count": 7,
   "outputs": [],
   "source": [
    "def gender_features(word):\n",
    "    return {'last_letter': word[-1],\n",
    "            'length'     : len(word)}"
   ],
   "metadata": {
    "collapsed": false,
    "pycharm": {
     "name": "#%%\n"
    }
   }
  },
  {
   "cell_type": "code",
   "execution_count": 8,
   "outputs": [
    {
     "name": "stdout",
     "output_type": "stream",
     "text": [
      "  ==> Training (50 iterations)\n",
      "\n",
      "      Iteration    Log Likelihood    Accuracy\n",
      "      ---------------------------------------\n",
      "             1          -0.69315        0.372\n",
      "             2          -0.44693        0.752\n",
      "             3          -0.40265        0.771\n",
      "             4          -0.38591        0.765\n",
      "             5          -0.37848        0.764\n",
      "             6          -0.37489        0.764\n",
      "             7          -0.37305        0.760\n",
      "             8          -0.37207        0.760\n",
      "             9          -0.37152        0.760\n",
      "            10          -0.37119        0.760\n",
      "            11          -0.37098        0.760\n",
      "            12          -0.37084        0.760\n",
      "            13          -0.37074        0.760\n",
      "            14          -0.37067        0.760\n",
      "            15          -0.37061        0.760\n",
      "            16          -0.37057        0.760\n",
      "            17          -0.37053        0.760\n",
      "            18          -0.37050        0.760\n",
      "            19          -0.37047        0.760\n",
      "            20          -0.37045        0.760\n",
      "            21          -0.37043        0.760\n",
      "            22          -0.37041        0.760\n",
      "            23          -0.37039        0.760\n",
      "            24          -0.37038        0.760\n",
      "            25          -0.37036        0.760\n",
      "            26          -0.37035        0.760\n",
      "            27          -0.37034        0.760\n",
      "            28          -0.37033        0.760\n",
      "            29          -0.37032        0.760\n",
      "            30          -0.37031        0.760\n",
      "            31          -0.37030        0.760\n",
      "            32          -0.37029        0.760\n",
      "            33          -0.37028        0.760\n",
      "            34          -0.37027        0.760\n",
      "            35          -0.37027        0.760\n",
      "            36          -0.37026        0.760\n",
      "            37          -0.37025        0.760\n",
      "            38          -0.37025        0.760\n",
      "            39          -0.37024        0.760\n",
      "            40          -0.37024        0.760\n",
      "            41          -0.37023        0.760\n",
      "            42          -0.37023        0.760\n",
      "            43          -0.37022        0.760\n",
      "            44          -0.37022        0.760\n",
      "            45          -0.37021        0.760\n",
      "            46          -0.37021        0.760\n",
      "            47          -0.37021        0.760\n",
      "            48          -0.37020        0.760\n",
      "            49          -0.37020        0.760\n",
      "         Final          -0.37019        0.760\n"
     ]
    }
   ],
   "source": [
    "featuresets = [(gender_features(n), gender) for (n, gender) in labeled_names]\n",
    "train_set, devtest_set, test_set = featuresets[1000:], featuresets[500:1000], featuresets[:500]\n",
    "classifier = nltk.classify.MaxentClassifier.train(train_set, max_iter = 50)"
   ],
   "metadata": {
    "collapsed": false,
    "pycharm": {
     "name": "#%%\n"
    }
   }
  },
  {
   "cell_type": "code",
   "execution_count": 9,
   "outputs": [
    {
     "name": "stdout",
     "output_type": "stream",
     "text": [
      "correct = female   guess = male     name = Alisun                        \n",
      "correct = female   guess = male     name = Amber                         \n",
      "correct = female   guess = male     name = Avis                          \n",
      "correct = female   guess = male     name = Beitris                       \n",
      "correct = female   guess = male     name = Bird                          \n",
      "correct = female   guess = male     name = Carmon                        \n",
      "correct = female   guess = male     name = Charmain                      \n",
      "correct = female   guess = male     name = Consuelo                      \n",
      "correct = female   guess = male     name = Darb                          \n",
      "correct = female   guess = male     name = Daryn                         \n",
      "correct = female   guess = male     name = Doris                         \n",
      "correct = female   guess = male     name = Edin                          \n",
      "correct = female   guess = male     name = Ellen                         \n",
      "correct = female   guess = male     name = Estell                        \n",
      "correct = female   guess = male     name = Evelyn                        \n",
      "correct = female   guess = male     name = Farrand                       \n",
      "correct = female   guess = male     name = Fleur                         \n",
      "correct = female   guess = male     name = Ginnifer                      \n",
      "correct = female   guess = male     name = Glynis                        \n",
      "correct = female   guess = male     name = Hester                        \n",
      "correct = female   guess = male     name = Jacklin                       \n",
      "correct = female   guess = male     name = Jo Ann                        \n",
      "correct = female   guess = male     name = Jocelin                       \n",
      "correct = female   guess = male     name = Joelynn                       \n",
      "correct = female   guess = male     name = Joycelin                      \n",
      "correct = female   guess = male     name = Kaitlyn                       \n",
      "correct = female   guess = male     name = Kat                           \n",
      "correct = female   guess = male     name = Katlin                        \n",
      "correct = female   guess = male     name = Kit                           \n",
      "correct = female   guess = male     name = Kristen                       \n",
      "correct = female   guess = male     name = Lauryn                        \n",
      "correct = female   guess = male     name = Leah                          \n",
      "correct = female   guess = male     name = Lil                           \n",
      "correct = female   guess = male     name = Lilian                        \n",
      "correct = female   guess = male     name = Margalo                       \n",
      "correct = female   guess = male     name = Meagan                        \n",
      "correct = female   guess = male     name = Megan                         \n",
      "correct = female   guess = male     name = Myriam                        \n",
      "correct = female   guess = male     name = Nanon                         \n",
      "correct = female   guess = male     name = Nitin                         \n",
      "correct = female   guess = male     name = Orel                          \n",
      "correct = female   guess = male     name = Philis                        \n",
      "correct = female   guess = male     name = Pru                           \n",
      "correct = female   guess = male     name = Ragnhild                      \n",
      "correct = female   guess = male     name = Rosalyn                       \n",
      "correct = female   guess = male     name = Shaylynn                      \n",
      "correct = female   guess = male     name = Shell                         \n",
      "correct = female   guess = male     name = Sinead                        \n",
      "correct = male     guess = female   name = Augie                         \n",
      "correct = male     guess = female   name = Ave                           \n",
      "correct = male     guess = female   name = Blaine                        \n",
      "correct = male     guess = female   name = Claire                        \n",
      "correct = male     guess = female   name = Cy                            \n",
      "correct = male     guess = female   name = Danie                         \n",
      "correct = male     guess = female   name = Deane                         \n",
      "correct = male     guess = female   name = Donnie                        \n",
      "correct = male     guess = female   name = Dougie                        \n",
      "correct = male     guess = female   name = Earle                         \n",
      "correct = male     guess = female   name = Eddie                         \n",
      "correct = male     guess = female   name = Enoch                         \n",
      "correct = male     guess = female   name = Enrique                       \n",
      "correct = male     guess = female   name = Felice                        \n",
      "correct = male     guess = female   name = Garvey                        \n",
      "correct = male     guess = female   name = Georgie                       \n",
      "correct = male     guess = female   name = Germaine                      \n",
      "correct = male     guess = female   name = Gerome                        \n",
      "correct = male     guess = female   name = Godfree                       \n",
      "correct = male     guess = female   name = Grove                         \n",
      "correct = male     guess = female   name = Heath                         \n",
      "correct = male     guess = female   name = Henry                         \n",
      "correct = male     guess = female   name = Hersh                         \n",
      "correct = male     guess = female   name = Kendall                       \n",
      "correct = male     guess = female   name = Kermie                        \n",
      "correct = male     guess = female   name = Kimball                       \n",
      "correct = male     guess = female   name = Krishna                       \n",
      "correct = male     guess = female   name = Lonnie                        \n",
      "correct = male     guess = female   name = Maurise                       \n",
      "correct = male     guess = female   name = Mendie                        \n",
      "correct = male     guess = female   name = Mitchel                       \n",
      "correct = male     guess = female   name = Moe                           \n",
      "correct = male     guess = female   name = Neale                         \n",
      "correct = male     guess = female   name = Nickey                        \n",
      "correct = male     guess = female   name = Orville                       \n",
      "correct = male     guess = female   name = Parnell                       \n",
      "correct = male     guess = female   name = Prince                        \n",
      "correct = male     guess = female   name = Reese                         \n",
      "correct = male     guess = female   name = Reube                         \n",
      "correct = male     guess = female   name = Rice                          \n",
      "correct = male     guess = female   name = Ripley                        \n",
      "correct = male     guess = female   name = Ritch                         \n",
      "correct = male     guess = female   name = Rodrique                      \n",
      "correct = male     guess = female   name = Rory                          \n",
      "correct = male     guess = female   name = Saxe                          \n",
      "correct = male     guess = female   name = Scottie                       \n",
      "correct = male     guess = female   name = Sollie                        \n",
      "correct = male     guess = female   name = Stinky                        \n",
      "correct = male     guess = female   name = Taite                         \n",
      "correct = male     guess = female   name = Tammie                        \n",
      "correct = male     guess = female   name = Toby                          \n",
      "correct = male     guess = female   name = Torey                         \n",
      "correct = male     guess = female   name = Towny                         \n",
      "correct = male     guess = female   name = Tremaine                      \n",
      "correct = male     guess = female   name = Tye                           \n",
      "correct = male     guess = female   name = Vijay                         \n",
      "correct = male     guess = female   name = Vince                         \n",
      "correct = male     guess = female   name = Warde                         \n",
      "correct = male     guess = female   name = Welch                         \n",
      "correct = male     guess = female   name = Worthy                        \n",
      "correct = male     guess = female   name = Zacherie                      \n",
      "correct = male     guess = female   name = Zane                          \n",
      "correct = male     guess = female   name = Zebedee                       \n"
     ]
    }
   ],
   "source": [
    "errors = []\n",
    "for (name, tag) in devtest_names:\n",
    "    guess = classifier.classify(gender_features(name))\n",
    "    if guess != tag:\n",
    "        errors.append( (tag, guess, name))\n",
    "\n",
    "for (tag, guess, name) in sorted(errors):\n",
    "    print('correct = {:<8} guess = {:<8} name = {:<30}'.format(tag, guess, name))"
   ],
   "metadata": {
    "collapsed": false,
    "pycharm": {
     "name": "#%%\n"
    }
   }
  },
  {
   "cell_type": "code",
   "execution_count": 10,
   "outputs": [],
   "source": [
    "def gender_features(word):\n",
    "    return {'last_letter'  : word[-1],\n",
    "            'length'       : len(word),\n",
    "            'first_letter' : word[0],\n",
    "            'last_2letters': word[-2:],\n",
    "            'first_2letters': word[:2],\n",
    "            'first_vowel'  : [i for i in range(len(word))\n",
    "                              if word[i] in 'AEIOUaeiouy'][0],\n",
    "            'double_letters': sum([1 for ch in range(len(word) - 1)\n",
    "                                  if word[ch] == word[ch + 1]])}"
   ],
   "metadata": {
    "collapsed": false,
    "pycharm": {
     "name": "#%%\n"
    }
   }
  },
  {
   "cell_type": "code",
   "execution_count": 11,
   "outputs": [
    {
     "name": "stdout",
     "output_type": "stream",
     "text": [
      "  ==> Training (50 iterations)\n",
      "\n",
      "      Iteration    Log Likelihood    Accuracy\n",
      "      ---------------------------------------\n",
      "             1          -0.69315        0.372\n",
      "             2          -0.47588        0.751\n",
      "             3          -0.40714        0.810\n",
      "             4          -0.36900        0.817\n",
      "             5          -0.34555        0.821\n",
      "             6          -0.32987        0.822\n",
      "             7          -0.31869        0.824\n",
      "             8          -0.31035        0.826\n",
      "             9          -0.30389        0.829\n",
      "            10          -0.29874        0.832\n",
      "            11          -0.29454        0.833\n",
      "            12          -0.29104        0.833\n",
      "            13          -0.28809        0.834\n",
      "            14          -0.28555        0.834\n",
      "            15          -0.28336        0.834\n",
      "            16          -0.28143        0.834\n",
      "            17          -0.27972        0.834\n",
      "            18          -0.27820        0.835\n",
      "            19          -0.27683        0.835\n",
      "            20          -0.27560        0.836\n",
      "            21          -0.27448        0.836\n",
      "            22          -0.27345        0.836\n",
      "            23          -0.27251        0.837\n",
      "            24          -0.27165        0.836\n",
      "            25          -0.27085        0.836\n",
      "            26          -0.27011        0.837\n",
      "            27          -0.26942        0.837\n",
      "            28          -0.26878        0.837\n",
      "            29          -0.26818        0.836\n",
      "            30          -0.26762        0.836\n",
      "            31          -0.26709        0.836\n",
      "            32          -0.26659        0.837\n",
      "            33          -0.26612        0.837\n",
      "            34          -0.26568        0.837\n",
      "            35          -0.26526        0.837\n",
      "            36          -0.26487        0.837\n",
      "            37          -0.26449        0.837\n",
      "            38          -0.26414        0.837\n",
      "            39          -0.26380        0.837\n",
      "            40          -0.26347        0.837\n",
      "            41          -0.26316        0.837\n",
      "            42          -0.26287        0.837\n",
      "            43          -0.26259        0.837\n",
      "            44          -0.26232        0.837\n",
      "            45          -0.26206        0.837\n",
      "            46          -0.26181        0.837\n",
      "            47          -0.26158        0.837\n",
      "            48          -0.26135        0.837\n",
      "            49          -0.26113        0.837\n",
      "         Final          -0.26092        0.837\n"
     ]
    }
   ],
   "source": [
    "featuresets = [(gender_features(n), gender) for (n, gender) in labeled_names]\n",
    "train_set, devtest_set, test_set = featuresets[1000:], featuresets[500:1000], featuresets[:500]\n",
    "classifier = nltk.classify.MaxentClassifier.train(train_set, max_iter = 50)"
   ],
   "metadata": {
    "collapsed": false,
    "pycharm": {
     "name": "#%%\n"
    }
   }
  },
  {
   "cell_type": "code",
   "execution_count": 12,
   "outputs": [
    {
     "name": "stdout",
     "output_type": "stream",
     "text": [
      "correct = female   guess = male     name = Aleece                        \n",
      "correct = female   guess = male     name = Alisun                        \n",
      "correct = female   guess = male     name = Amber                         \n",
      "correct = female   guess = male     name = Ange                          \n",
      "correct = female   guess = male     name = Bird                          \n",
      "correct = female   guess = male     name = Carmon                        \n",
      "correct = female   guess = male     name = Consuelo                      \n",
      "correct = female   guess = male     name = Edin                          \n",
      "correct = female   guess = male     name = Fleur                         \n",
      "correct = female   guess = male     name = Gabey                         \n",
      "correct = female   guess = male     name = Gaby                          \n",
      "correct = female   guess = male     name = George                        \n",
      "correct = female   guess = male     name = Ginnifer                      \n",
      "correct = female   guess = male     name = Gray                          \n",
      "correct = female   guess = male     name = Heath                         \n",
      "correct = female   guess = male     name = Hester                        \n",
      "correct = female   guess = male     name = Jeniece                       \n",
      "correct = female   guess = male     name = Jocelin                       \n",
      "correct = female   guess = male     name = Joycelin                      \n",
      "correct = female   guess = male     name = Lucky                         \n",
      "correct = female   guess = male     name = Margalo                       \n",
      "correct = female   guess = male     name = Marji                         \n",
      "correct = female   guess = male     name = Meagan                        \n",
      "correct = female   guess = male     name = Megan                         \n",
      "correct = female   guess = male     name = Monah                         \n",
      "correct = female   guess = male     name = Monique                       \n",
      "correct = female   guess = male     name = Myriam                        \n",
      "correct = female   guess = male     name = Nanon                         \n",
      "correct = female   guess = male     name = Nike                          \n",
      "correct = female   guess = male     name = Nitin                         \n",
      "correct = female   guess = male     name = Orel                          \n",
      "correct = female   guess = male     name = Pru                           \n",
      "correct = female   guess = male     name = Ragnhild                      \n",
      "correct = female   guess = male     name = Shell                         \n",
      "correct = female   guess = male     name = Sinead                        \n",
      "correct = female   guess = male     name = Tobe                          \n",
      "correct = female   guess = male     name = Wendie                        \n",
      "correct = male     guess = female   name = Angel                         \n",
      "correct = male     guess = female   name = Augie                         \n",
      "correct = male     guess = female   name = Augustin                      \n",
      "correct = male     guess = female   name = Ave                           \n",
      "correct = male     guess = female   name = Blaine                        \n",
      "correct = male     guess = female   name = Bo                            \n",
      "correct = male     guess = female   name = Cass                          \n",
      "correct = male     guess = female   name = Claire                        \n",
      "correct = male     guess = female   name = Cy                            \n",
      "correct = male     guess = female   name = Danie                         \n",
      "correct = male     guess = female   name = Deane                         \n",
      "correct = male     guess = female   name = Deryl                         \n",
      "correct = male     guess = female   name = Donnie                        \n",
      "correct = male     guess = female   name = Dougie                        \n",
      "correct = male     guess = female   name = Earle                         \n",
      "correct = male     guess = female   name = Eben                          \n",
      "correct = male     guess = female   name = Eddie                         \n",
      "correct = male     guess = female   name = Enrique                       \n",
      "correct = male     guess = female   name = Ethan                         \n",
      "correct = male     guess = female   name = Felice                        \n",
      "correct = male     guess = female   name = Florian                       \n",
      "correct = male     guess = female   name = Francis                       \n",
      "correct = male     guess = female   name = Georgie                       \n",
      "correct = male     guess = female   name = Germaine                      \n",
      "correct = male     guess = female   name = Godfree                       \n",
      "correct = male     guess = female   name = Jo                            \n",
      "correct = male     guess = female   name = Kermie                        \n",
      "correct = male     guess = female   name = Kimball                       \n",
      "correct = male     guess = female   name = Krishna                       \n",
      "correct = male     guess = female   name = Linoel                        \n",
      "correct = male     guess = female   name = Llewellyn                     \n",
      "correct = male     guess = female   name = Lonnie                        \n",
      "correct = male     guess = female   name = Marwin                        \n",
      "correct = male     guess = female   name = Maurise                       \n",
      "correct = male     guess = female   name = Mendel                        \n",
      "correct = male     guess = female   name = Mendie                        \n",
      "correct = male     guess = female   name = Mitchel                       \n",
      "correct = male     guess = female   name = Neale                         \n",
      "correct = male     guess = female   name = Orville                       \n",
      "correct = male     guess = female   name = Reese                         \n",
      "correct = male     guess = female   name = Rodrique                      \n",
      "correct = male     guess = female   name = Rory                          \n",
      "correct = male     guess = female   name = Sollie                        \n",
      "correct = male     guess = female   name = Taite                         \n",
      "correct = male     guess = female   name = Tammie                        \n",
      "correct = male     guess = female   name = Tremaine                      \n",
      "correct = male     guess = female   name = Tye                           \n",
      "correct = male     guess = female   name = Vijay                         \n",
      "correct = male     guess = female   name = Vince                         \n",
      "correct = male     guess = female   name = Zebedee                       \n"
     ]
    }
   ],
   "source": [
    "errors = []\n",
    "for (name, tag) in devtest_names:\n",
    "    guess = classifier.classify(gender_features(name))\n",
    "    if guess != tag:\n",
    "        errors.append( (tag, guess, name))\n",
    "\n",
    "for (tag, guess, name) in sorted(errors):\n",
    "    print('correct = {:<8} guess = {:<8} name = {:<30}'.format(tag, guess, name))"
   ],
   "metadata": {
    "collapsed": false,
    "pycharm": {
     "name": "#%%\n"
    }
   }
  },
  {
   "cell_type": "code",
   "execution_count": 13,
   "outputs": [],
   "source": [
    "def gender_features(word):\n",
    "    return {'last_letter'  : word[-1],\n",
    "            'length'       : len(word),\n",
    "            'first_letter' : word[0],\n",
    "            'last_2letters': word[-2:],\n",
    "            'first_2letters': word[:2],\n",
    "            'number_vowels': sum([1 for ch in word if ch in 'AEIOUaeiouy']),\n",
    "            'first_vowel'  : [i for i in range(len(word))\n",
    "                              if word[i] in 'AEIOUaeiouy'][0],\n",
    "            'double_letters': sum([1 for ch in range(len(word) - 1)\n",
    "                                  if word[ch] == word[ch + 1]])}"
   ],
   "metadata": {
    "collapsed": false,
    "pycharm": {
     "name": "#%%\n"
    }
   }
  },
  {
   "cell_type": "code",
   "execution_count": 14,
   "outputs": [
    {
     "name": "stdout",
     "output_type": "stream",
     "text": [
      "  ==> Training (50 iterations)\n",
      "\n",
      "      Iteration    Log Likelihood    Accuracy\n",
      "      ---------------------------------------\n",
      "             1          -0.69315        0.372\n",
      "             2          -0.48503        0.734\n",
      "             3          -0.41697        0.805\n",
      "             4          -0.37785        0.816\n",
      "             5          -0.35326        0.820\n",
      "             6          -0.33655        0.822\n",
      "             7          -0.32452        0.823\n",
      "             8          -0.31546        0.826\n",
      "             9          -0.30840        0.828\n",
      "            10          -0.30273        0.830\n",
      "            11          -0.29808        0.832\n",
      "            12          -0.29420        0.831\n",
      "            13          -0.29090        0.832\n",
      "            14          -0.28806        0.832\n",
      "            15          -0.28559        0.834\n",
      "            16          -0.28342        0.835\n",
      "            17          -0.28149        0.836\n",
      "            18          -0.27977        0.836\n",
      "            19          -0.27822        0.836\n",
      "            20          -0.27681        0.837\n",
      "            21          -0.27553        0.837\n",
      "            22          -0.27437        0.837\n",
      "            23          -0.27329        0.837\n",
      "            24          -0.27230        0.837\n",
      "            25          -0.27138        0.837\n",
      "            26          -0.27053        0.837\n",
      "            27          -0.26974        0.838\n",
      "            28          -0.26900        0.838\n",
      "            29          -0.26831        0.838\n",
      "            30          -0.26766        0.839\n",
      "            31          -0.26704        0.839\n",
      "            32          -0.26647        0.839\n",
      "            33          -0.26592        0.838\n",
      "            34          -0.26541        0.838\n",
      "            35          -0.26492        0.838\n",
      "            36          -0.26446        0.838\n",
      "            37          -0.26402        0.838\n",
      "            38          -0.26360        0.838\n",
      "            39          -0.26320        0.839\n",
      "            40          -0.26282        0.839\n",
      "            41          -0.26245        0.839\n",
      "            42          -0.26210        0.839\n",
      "            43          -0.26177        0.839\n",
      "            44          -0.26145        0.839\n",
      "            45          -0.26114        0.839\n",
      "            46          -0.26085        0.839\n",
      "            47          -0.26056        0.839\n",
      "            48          -0.26029        0.839\n",
      "            49          -0.26003        0.840\n",
      "         Final          -0.25978        0.840\n"
     ]
    }
   ],
   "source": [
    "featuresets = [(gender_features(n), gender) for (n, gender) in labeled_names]\n",
    "train_set, devtest_set, test_set = featuresets[1000:], featuresets[500:1000], featuresets[:500]\n",
    "classifier = nltk.classify.MaxentClassifier.train(train_set, max_iter = 50)"
   ],
   "metadata": {
    "collapsed": false,
    "pycharm": {
     "name": "#%%\n"
    }
   }
  },
  {
   "cell_type": "code",
   "execution_count": 15,
   "outputs": [
    {
     "name": "stdout",
     "output_type": "stream",
     "text": [
      "correct = female   guess = male     name = Alisun                        \n",
      "correct = female   guess = male     name = Amber                         \n",
      "correct = female   guess = male     name = Ange                          \n",
      "correct = female   guess = male     name = Avis                          \n",
      "correct = female   guess = male     name = Bird                          \n",
      "correct = female   guess = male     name = Carmon                        \n",
      "correct = female   guess = male     name = Constance                     \n",
      "correct = female   guess = male     name = Consuelo                      \n",
      "correct = female   guess = male     name = Edin                          \n",
      "correct = female   guess = male     name = Fleur                         \n",
      "correct = female   guess = male     name = Gabey                         \n",
      "correct = female   guess = male     name = Gaby                          \n",
      "correct = female   guess = male     name = Ginnifer                      \n",
      "correct = female   guess = male     name = Gray                          \n",
      "correct = female   guess = male     name = Heath                         \n",
      "correct = female   guess = male     name = Hester                        \n",
      "correct = female   guess = male     name = Jeniece                       \n",
      "correct = female   guess = male     name = Jocelin                       \n",
      "correct = female   guess = male     name = Lucky                         \n",
      "correct = female   guess = male     name = Margalo                       \n",
      "correct = female   guess = male     name = Marji                         \n",
      "correct = female   guess = male     name = Megan                         \n",
      "correct = female   guess = male     name = Monah                         \n",
      "correct = female   guess = male     name = Monique                       \n",
      "correct = female   guess = male     name = Myriam                        \n",
      "correct = female   guess = male     name = Nanon                         \n",
      "correct = female   guess = male     name = Nike                          \n",
      "correct = female   guess = male     name = Nitin                         \n",
      "correct = female   guess = male     name = Orel                          \n",
      "correct = female   guess = male     name = Pru                           \n",
      "correct = female   guess = male     name = Ragnhild                      \n",
      "correct = female   guess = male     name = Sinead                        \n",
      "correct = female   guess = male     name = Tobe                          \n",
      "correct = female   guess = male     name = Wendie                        \n",
      "correct = male     guess = female   name = Angel                         \n",
      "correct = male     guess = female   name = Augie                         \n",
      "correct = male     guess = female   name = Augustin                      \n",
      "correct = male     guess = female   name = Ave                           \n",
      "correct = male     guess = female   name = Blaine                        \n",
      "correct = male     guess = female   name = Bo                            \n",
      "correct = male     guess = female   name = Cass                          \n",
      "correct = male     guess = female   name = Claire                        \n",
      "correct = male     guess = female   name = Cy                            \n",
      "correct = male     guess = female   name = Danie                         \n",
      "correct = male     guess = female   name = Deane                         \n",
      "correct = male     guess = female   name = Deryl                         \n",
      "correct = male     guess = female   name = Donnie                        \n",
      "correct = male     guess = female   name = Dougie                        \n",
      "correct = male     guess = female   name = Earle                         \n",
      "correct = male     guess = female   name = Eddie                         \n",
      "correct = male     guess = female   name = Enrique                       \n",
      "correct = male     guess = female   name = Felice                        \n",
      "correct = male     guess = female   name = Florian                       \n",
      "correct = male     guess = female   name = Georgie                       \n",
      "correct = male     guess = female   name = Germaine                      \n",
      "correct = male     guess = female   name = Godfree                       \n",
      "correct = male     guess = female   name = Jo                            \n",
      "correct = male     guess = female   name = Kermie                        \n",
      "correct = male     guess = female   name = Kimball                       \n",
      "correct = male     guess = female   name = Krishna                       \n",
      "correct = male     guess = female   name = Linoel                        \n",
      "correct = male     guess = female   name = Llewellyn                     \n",
      "correct = male     guess = female   name = Lonnie                        \n",
      "correct = male     guess = female   name = Maurise                       \n",
      "correct = male     guess = female   name = Mendel                        \n",
      "correct = male     guess = female   name = Mendie                        \n",
      "correct = male     guess = female   name = Mitchel                       \n",
      "correct = male     guess = female   name = Neale                         \n",
      "correct = male     guess = female   name = Orville                       \n",
      "correct = male     guess = female   name = Reese                         \n",
      "correct = male     guess = female   name = Reube                         \n",
      "correct = male     guess = female   name = Rodrique                      \n",
      "correct = male     guess = female   name = Rory                          \n",
      "correct = male     guess = female   name = Sollie                        \n",
      "correct = male     guess = female   name = Taite                         \n",
      "correct = male     guess = female   name = Tammie                        \n",
      "correct = male     guess = female   name = Tremaine                      \n",
      "correct = male     guess = female   name = Tye                           \n",
      "correct = male     guess = female   name = Vijay                         \n",
      "correct = male     guess = female   name = Vince                         \n",
      "correct = male     guess = female   name = Zebedee                       \n"
     ]
    }
   ],
   "source": [
    "errors = []\n",
    "for (name, tag) in devtest_names:\n",
    "    guess = classifier.classify(gender_features(name))\n",
    "    if guess != tag:\n",
    "        errors.append( (tag, guess, name))\n",
    "\n",
    "for (tag, guess, name) in sorted(errors):\n",
    "    print('correct = {:<8} guess = {:<8} name = {:<30}'.format(tag, guess, name))"
   ],
   "metadata": {
    "collapsed": false,
    "pycharm": {
     "name": "#%%\n"
    }
   }
  },
  {
   "cell_type": "code",
   "execution_count": 16,
   "outputs": [
    {
     "name": "stdout",
     "output_type": "stream",
     "text": [
      "0.816\n"
     ]
    }
   ],
   "source": [
    "print(nltk.classify.accuracy(classifier, test_set))"
   ],
   "metadata": {
    "collapsed": false,
    "pycharm": {
     "name": "#%%\n"
    }
   }
  },
  {
   "cell_type": "code",
   "execution_count": 17,
   "outputs": [],
   "source": [
    "# Exercise: 6-2\n",
    "# The Senseval 2 Corpus contains data intended to train word-sense disambiguation classifiers. It contains data\n",
    "# for four words: hard, interest, line, and serve. Choose one of these four words, and load the corresponding data:\n",
    "# >>> from nltk.corpus import senseval\n",
    "# >>> instances = senseval.instances('hard.pos')\n",
    "# >>> size = int(len(instances) * 0.1)\n",
    "# >>> train_set, test_set = instances[size:], instances[:size]\n",
    "# Using this dataset, build a classifier that predicts the correct sense tag for a given instance. See the corpus\n",
    "# HOWTO at http://www.nltk.org/howto for information on using the instance objects returned by the Senseval 2 Corpus.\n",
    "\n",
    "from nltk.corpus import senseval\n",
    "instances = senseval.instances('hard.pos')\n",
    "size = int(len(instances) * 0.1)\n",
    "train_set, test_set = instances[size:], instances[:size]"
   ],
   "metadata": {
    "collapsed": false,
    "pycharm": {
     "name": "#%%\n"
    }
   }
  },
  {
   "cell_type": "code",
   "execution_count": 18,
   "outputs": [],
   "source": [
    "%matplotlib inline\n",
    "senses = [instances[i].senses[0][4] for i in range(len(instances))]"
   ],
   "metadata": {
    "collapsed": false,
    "pycharm": {
     "name": "#%%\n"
    }
   }
  },
  {
   "cell_type": "code",
   "execution_count": 19,
   "outputs": [
    {
     "data": {
      "text/plain": "<Figure size 432x288 with 1 Axes>",
      "image/png": "[encoded data removed]"
     },
     "metadata": {
      "needs_background": "light"
     },
     "output_type": "display_data"
    }
   ],
   "source": [
    "import matplotlib.pyplot as plt\n",
    "\n",
    "plt.scatter(range(len(instances)), senses, alpha = 0.1)\n",
    "plt.show()"
   ],
   "metadata": {
    "collapsed": false,
    "pycharm": {
     "name": "#%%\n"
    }
   }
  },
  {
   "cell_type": "code",
   "execution_count": 20,
   "outputs": [],
   "source": [
    "import random\n",
    "\n",
    "instances = list(instances)\n",
    "random.shuffle(instances)"
   ],
   "metadata": {
    "collapsed": false,
    "pycharm": {
     "name": "#%%\n"
    }
   }
  },
  {
   "cell_type": "code",
   "execution_count": 21,
   "outputs": [
    {
     "data": {
      "text/plain": "<Figure size 432x288 with 1 Axes>",
      "image/png": "[encoded data removed]"
     },
     "metadata": {
      "needs_background": "light"
     },
     "output_type": "display_data"
    }
   ],
   "source": [
    "senses = [int(instances[i].senses[0][4]) for i in range(len(instances))]\n",
    "\n",
    "plt.scatter(range(len(instances)), senses, alpha = 0.1)\n",
    "plt.yticks([1, 2, 3])\n",
    "plt.show()"
   ],
   "metadata": {
    "collapsed": false,
    "pycharm": {
     "name": "#%%\n"
    }
   }
  },
  {
   "cell_type": "code",
   "execution_count": 22,
   "outputs": [],
   "source": [
    "def hard_features(inst):\n",
    "    p = inst.position\n",
    "    return {'left2':  inst.context[p - 2],\n",
    "            'left1':  inst.context[p - 1],\n",
    "            'right':  inst.context[p + 1]}"
   ],
   "metadata": {
    "collapsed": false,
    "pycharm": {
     "name": "#%%\n"
    }
   }
  },
  {
   "cell_type": "code",
   "execution_count": 23,
   "outputs": [],
   "source": [
    "featuresets = [(hard_features(n), n.senses) for n in instances]\n",
    "size = int(len(featuresets) * 0.1)\n",
    "train_set, test_set = featuresets[size:], featuresets[:size]\n",
    "\n",
    "classifier = nltk.NaiveBayesClassifier.train(train_set)"
   ],
   "metadata": {
    "collapsed": false,
    "pycharm": {
     "name": "#%%\n"
    }
   }
  },
  {
   "cell_type": "code",
   "execution_count": 24,
   "outputs": [
    {
     "data": {
      "text/plain": "0.8937644341801386"
     },
     "execution_count": 24,
     "metadata": {},
     "output_type": "execute_result"
    }
   ],
   "source": [
    "nltk.classify.accuracy(classifier, test_set)"
   ],
   "metadata": {
    "collapsed": false,
    "pycharm": {
     "name": "#%%\n"
    }
   }
  },
  {
   "cell_type": "code",
   "execution_count": 25,
   "outputs": [
    {
     "data": {
      "text/plain": "('HARD1',)"
     },
     "execution_count": 25,
     "metadata": {},
     "output_type": "execute_result"
    }
   ],
   "source": [
    "classifier.classify(hard_features(instances[0]))"
   ],
   "metadata": {
    "collapsed": false,
    "pycharm": {
     "name": "#%%\n"
    }
   }
  },
  {
   "cell_type": "code",
   "execution_count": 26,
   "outputs": [
    {
     "data": {
      "text/plain": "SensevalInstance(word='hard-a', position=4, context=[('``', '``'), ('i', 'PRP'), ('have', 'VBP'), ('a', 'DT'), ('hard', 'JJ'), ('time', 'NN'), ('understanding', 'NN'), ('how', 'WRB'), ('you', 'PRP'), ('can', 'MD'), ('signal', 'VB'), ('before', 'IN'), ('you', 'PRP'), ('get', 'VBP'), ('to', 'TO'), ('the', 'DT'), ('bottom', 'NN'), ('of', 'IN'), ('the', 'DT'), ('pile', 'NN'), ('.', '.'), (\"''\", \"''\")], senses=('HARD1',))"
     },
     "execution_count": 26,
     "metadata": {},
     "output_type": "execute_result"
    }
   ],
   "source": [
    "instances[0]"
   ],
   "metadata": {
    "collapsed": false,
    "pycharm": {
     "name": "#%%\n"
    }
   }
  },
  {
   "cell_type": "code",
   "execution_count": 27,
   "outputs": [],
   "source": [
    "# Exercise: 6-4\n",
    "# Using the movie review document classifier discussed in this chapter, generate a list of the 30 features that\n",
    "# the classifier finds to be most informative. Can you explain why these particular features are informative?\n",
    "# Do you find any of them surprising?\n",
    "\n",
    "from nltk.corpus import movie_reviews\n",
    "documents = [(list(movie_reviews.words(fileid)), category)\n",
    "             for category in movie_reviews.categories()\n",
    "             for fileid in movie_reviews.fileids(category)]\n",
    "random.shuffle(documents)"
   ],
   "metadata": {
    "collapsed": false,
    "pycharm": {
     "name": "#%%\n"
    }
   }
  },
  {
   "cell_type": "code",
   "execution_count": 28,
   "outputs": [],
   "source": [
    "all_words = nltk.FreqDist(w.lower() for w in movie_reviews.words())\n",
    "word_features = list(all_words)[:2000]\n",
    "\n",
    "def document_features(document):\n",
    "    document_words = set(document)\n",
    "    features = {}\n",
    "    for word in word_features:\n",
    "        features['contains({})'.format(word)] = (word in document_words)\n",
    "    return features"
   ],
   "metadata": {
    "collapsed": false,
    "pycharm": {
     "name": "#%%\n"
    }
   }
  },
  {
   "cell_type": "code",
   "execution_count": 29,
   "outputs": [],
   "source": [
    "featuresets = [(document_features(d), c) for (d, c) in documents]\n",
    "train_set, test_set = featuresets[100:], featuresets[:100]\n",
    "classifier = nltk.NaiveBayesClassifier.train(train_set)"
   ],
   "metadata": {
    "collapsed": false,
    "pycharm": {
     "name": "#%%\n"
    }
   }
  },
  {
   "cell_type": "code",
   "execution_count": 30,
   "outputs": [
    {
     "name": "stdout",
     "output_type": "stream",
     "text": [
      "Most Informative Features\n",
      "   contains(outstanding) = True              pos : neg    =     11.2 : 1.0\n",
      "         contains(mulan) = True              pos : neg    =      8.9 : 1.0\n",
      "        contains(seagal) = True              neg : pos    =      8.3 : 1.0\n",
      "         contains(damon) = True              pos : neg    =      7.8 : 1.0\n",
      "   contains(wonderfully) = True              pos : neg    =      6.6 : 1.0\n",
      "        contains(wasted) = True              neg : pos    =      6.2 : 1.0\n",
      "          contains(lame) = True              neg : pos    =      5.6 : 1.0\n",
      "         contains(flynt) = True              pos : neg    =      5.6 : 1.0\n",
      "         contains(waste) = True              neg : pos    =      5.3 : 1.0\n",
      "        contains(poorly) = True              neg : pos    =      5.3 : 1.0\n",
      "         contains(awful) = True              neg : pos    =      5.1 : 1.0\n",
      "    contains(ridiculous) = True              neg : pos    =      5.0 : 1.0\n",
      "           contains(era) = True              pos : neg    =      4.3 : 1.0\n",
      "         contains(worst) = True              neg : pos    =      4.2 : 1.0\n",
      "       contains(unfunny) = True              neg : pos    =      4.2 : 1.0\n",
      "     contains(pointless) = True              neg : pos    =      4.1 : 1.0\n",
      "        contains(allows) = True              pos : neg    =      4.0 : 1.0\n",
      "          contains(dull) = True              neg : pos    =      4.0 : 1.0\n",
      "        contains(stupid) = True              neg : pos    =      3.9 : 1.0\n",
      "         contains(bland) = True              neg : pos    =      3.9 : 1.0\n",
      "     contains(portrayal) = True              pos : neg    =      3.7 : 1.0\n",
      "     contains(laughable) = True              neg : pos    =      3.7 : 1.0\n",
      "          contains(mess) = True              neg : pos    =      3.7 : 1.0\n",
      "      contains(terrific) = True              pos : neg    =      3.7 : 1.0\n",
      "     contains(memorable) = True              pos : neg    =      3.7 : 1.0\n",
      "     contains(fantastic) = True              pos : neg    =      3.6 : 1.0\n",
      "          contains(jedi) = True              pos : neg    =      3.6 : 1.0\n",
      "        contains(boring) = True              neg : pos    =      3.6 : 1.0\n",
      "        contains(superb) = True              pos : neg    =      3.5 : 1.0\n",
      "       contains(sandler) = True              neg : pos    =      3.5 : 1.0\n"
     ]
    }
   ],
   "source": [
    "classifier.show_most_informative_features(30)"
   ],
   "metadata": {
    "collapsed": false,
    "pycharm": {
     "name": "#%%\n"
    }
   }
  },
  {
   "cell_type": "code",
   "execution_count": 31,
   "outputs": [],
   "source": [
    "# Exercise: 6-5\n",
    "# Select one of the classification tasks described in this chapter, such as name gender detection, document\n",
    "# classification, part-of-speech tagging, or dialogue act classification. Using the same training and test data,\n",
    "# and the same feature extractor, build three classifiers for the task: a decision tree, a naive Bayes classifier,\n",
    "# and a Maximum Entropy classifier. Compare the performance of the three classifiers on your selected task. How do\n",
    "# you think that your results might be different if you used a different feature extractor?\n",
    "\n",
    "def gender_features(word):\n",
    "    return {'last_letter'  : word[-1],\n",
    "            'length'       : len(word),\n",
    "            'first_letter' : word[0],\n",
    "            'last_2letters': word[-2:],\n",
    "            'first_2letters': word[:2],\n",
    "            'number_vowels': sum([1 for ch in word if ch in 'AEIOUaeiouy']),\n",
    "            'first_vowel'  : [i for i in range(len(word))\n",
    "                              if word[i] in 'AEIOUaeiouy'][0],\n",
    "            'double_letters': sum([1 for ch in range(len(word) - 1)\n",
    "                                  if word[ch] == word[ch + 1]])}"
   ],
   "metadata": {
    "collapsed": false,
    "pycharm": {
     "name": "#%%\n"
    }
   }
  },
  {
   "cell_type": "code",
   "execution_count": 32,
   "outputs": [],
   "source": [
    "from nltk.corpus import names\n",
    "import random\n",
    "\n",
    "labeled_names = ([(name, 'male') for name in names.words('male.txt')] +\n",
    "                 [(name, 'female') for name in names.words('female.txt')])\n",
    "random.shuffle(labeled_names)"
   ],
   "metadata": {
    "collapsed": false,
    "pycharm": {
     "name": "#%%\n"
    }
   }
  },
  {
   "cell_type": "code",
   "execution_count": 33,
   "outputs": [
    {
     "name": "stdout",
     "output_type": "stream",
     "text": [
      "  ==> Training (50 iterations)\n",
      "\n",
      "      Iteration    Log Likelihood    Accuracy\n",
      "      ---------------------------------------\n",
      "             1          -0.69315        0.371\n",
      "             2          -0.48311        0.728\n",
      "             3          -0.41637        0.806\n",
      "             4          -0.37818        0.814\n",
      "             5          -0.35418        0.820\n",
      "             6          -0.33786        0.823\n",
      "             7          -0.32609        0.823\n",
      "             8          -0.31719        0.825\n",
      "             9          -0.31023        0.828\n",
      "            10          -0.30464        0.829\n",
      "            11          -0.30003        0.829\n",
      "            12          -0.29618        0.831\n",
      "            13          -0.29289        0.832\n",
      "            14          -0.29006        0.832\n",
      "            15          -0.28758        0.834\n",
      "            16          -0.28540        0.834\n",
      "            17          -0.28346        0.835\n",
      "            18          -0.28172        0.836\n",
      "            19          -0.28015        0.836\n",
      "            20          -0.27873        0.836\n",
      "            21          -0.27743        0.836\n",
      "            22          -0.27624        0.836\n",
      "            23          -0.27514        0.837\n",
      "            24          -0.27412        0.837\n",
      "            25          -0.27318        0.838\n",
      "            26          -0.27230        0.838\n",
      "            27          -0.27149        0.838\n",
      "            28          -0.27072        0.838\n",
      "            29          -0.27000        0.839\n",
      "            30          -0.26933        0.839\n",
      "            31          -0.26869        0.839\n",
      "            32          -0.26809        0.839\n",
      "            33          -0.26752        0.839\n",
      "            34          -0.26698        0.840\n",
      "            35          -0.26647        0.840\n",
      "            36          -0.26598        0.840\n",
      "            37          -0.26552        0.840\n",
      "            38          -0.26508        0.840\n",
      "            39          -0.26466        0.840\n",
      "            40          -0.26425        0.840\n",
      "            41          -0.26387        0.840\n",
      "            42          -0.26350        0.840\n",
      "            43          -0.26315        0.840\n",
      "            44          -0.26281        0.840\n",
      "            45          -0.26248        0.841\n",
      "            46          -0.26217        0.841\n",
      "            47          -0.26187        0.841\n",
      "            48          -0.26157        0.841\n",
      "            49          -0.26129        0.841\n",
      "         Final          -0.26102        0.841\n"
     ]
    }
   ],
   "source": [
    "featuresets = [(gender_features(n), gender) for (n, gender) in labeled_names]\n",
    "train_set, devtest_set, test_set = featuresets[1000:], featuresets[500:1000], featuresets[:500]\n",
    "classifier = nltk.classify.MaxentClassifier.train(train_set, max_iter = 50)"
   ],
   "metadata": {
    "collapsed": false,
    "pycharm": {
     "name": "#%%\n"
    }
   }
  },
  {
   "cell_type": "code",
   "execution_count": 34,
   "outputs": [
    {
     "data": {
      "text/plain": "0.742"
     },
     "execution_count": 34,
     "metadata": {},
     "output_type": "execute_result"
    }
   ],
   "source": [
    "classifier = nltk.DecisionTreeClassifier.train(train_set)\n",
    "nltk.classify.accuracy(classifier, test_set)"
   ],
   "metadata": {
    "collapsed": false,
    "pycharm": {
     "name": "#%%\n"
    }
   }
  },
  {
   "cell_type": "code",
   "execution_count": 35,
   "outputs": [
    {
     "data": {
      "text/plain": "0.792"
     },
     "execution_count": 35,
     "metadata": {},
     "output_type": "execute_result"
    }
   ],
   "source": [
    "classifier = nltk.NaiveBayesClassifier.train(train_set)\n",
    "nltk.classify.accuracy(classifier, test_set)"
   ],
   "metadata": {
    "collapsed": false,
    "pycharm": {
     "name": "#%%\n"
    }
   }
  },
  {
   "cell_type": "code",
   "execution_count": 36,
   "outputs": [],
   "source": [
    "def gender_features(word):\n",
    "    return {'last_letter'  : word[-1]}"
   ],
   "metadata": {
    "collapsed": false,
    "pycharm": {
     "name": "#%%\n"
    }
   }
  },
  {
   "cell_type": "code",
   "execution_count": 37,
   "outputs": [],
   "source": [
    "from nltk.corpus import names\n",
    "import random\n",
    "\n",
    "labeled_names = ([(name, 'male') for name in names.words('male.txt')] +\n",
    "                 [(name, 'female') for name in names.words('female.txt')])\n",
    "random.shuffle(labeled_names)"
   ],
   "metadata": {
    "collapsed": false,
    "pycharm": {
     "name": "#%%\n"
    }
   }
  },
  {
   "cell_type": "code",
   "execution_count": 38,
   "outputs": [
    {
     "name": "stdout",
     "output_type": "stream",
     "text": [
      "  ==> Training (50 iterations)\n",
      "\n",
      "      Iteration    Log Likelihood    Accuracy\n",
      "      ---------------------------------------\n",
      "             1          -0.69315        0.370\n",
      "             2          -0.37513        0.761\n",
      "             3          -0.37473        0.761\n",
      "             4          -0.37449        0.761\n",
      "             5          -0.37433        0.761\n",
      "             6          -0.37422        0.761\n",
      "             7          -0.37413        0.761\n",
      "             8          -0.37406        0.761\n",
      "             9          -0.37401        0.761\n",
      "            10          -0.37397        0.761\n",
      "            11          -0.37393        0.761\n",
      "            12          -0.37390        0.761\n",
      "            13          -0.37387        0.761\n",
      "            14          -0.37385        0.761\n",
      "            15          -0.37383        0.761\n",
      "            16          -0.37381        0.761\n",
      "            17          -0.37380        0.761\n",
      "            18          -0.37378        0.761\n",
      "            19          -0.37377        0.761\n",
      "            20          -0.37376        0.761\n",
      "            21          -0.37375        0.761\n",
      "            22          -0.37374        0.761\n",
      "            23          -0.37373        0.761\n",
      "            24          -0.37372        0.761\n",
      "            25          -0.37371        0.761\n",
      "            26          -0.37371        0.761\n",
      "            27          -0.37370        0.761\n",
      "            28          -0.37369        0.761\n",
      "            29          -0.37369        0.761\n",
      "            30          -0.37368        0.761\n",
      "            31          -0.37368        0.761\n",
      "            32          -0.37367        0.761\n",
      "            33          -0.37367        0.761\n",
      "            34          -0.37367        0.761\n",
      "            35          -0.37366        0.761\n",
      "            36          -0.37366        0.761\n",
      "            37          -0.37365        0.761\n",
      "            38          -0.37365        0.761\n",
      "            39          -0.37365        0.761\n",
      "            40          -0.37365        0.761\n",
      "            41          -0.37364        0.761\n",
      "            42          -0.37364        0.761\n",
      "            43          -0.37364        0.761\n",
      "            44          -0.37364        0.761\n",
      "            45          -0.37363        0.761\n",
      "            46          -0.37363        0.761\n",
      "            47          -0.37363        0.761\n",
      "            48          -0.37363        0.761\n",
      "            49          -0.37362        0.761\n",
      "         Final          -0.37362        0.761\n"
     ]
    }
   ],
   "source": [
    "featuresets = [(gender_features(n), gender) for (n, gender) in labeled_names]\n",
    "train_set, devtest_set, test_set = featuresets[1000:], featuresets[500:1000], featuresets[:500]\n",
    "classifier = nltk.classify.MaxentClassifier.train(train_set, max_iter = 50)"
   ],
   "metadata": {
    "collapsed": false,
    "pycharm": {
     "name": "#%%\n"
    }
   }
  },
  {
   "cell_type": "code",
   "execution_count": 39,
   "outputs": [
    {
     "data": {
      "text/plain": "0.766"
     },
     "execution_count": 39,
     "metadata": {},
     "output_type": "execute_result"
    }
   ],
   "source": [
    "classifier = nltk.DecisionTreeClassifier.train(train_set)\n",
    "nltk.classify.accuracy(classifier, test_set)"
   ],
   "metadata": {
    "collapsed": false,
    "pycharm": {
     "name": "#%%\n"
    }
   }
  },
  {
   "cell_type": "code",
   "execution_count": 40,
   "outputs": [
    {
     "data": {
      "text/plain": "0.764"
     },
     "execution_count": 40,
     "metadata": {},
     "output_type": "execute_result"
    }
   ],
   "source": [
    "classifier = nltk.NaiveBayesClassifier.train(train_set)\n",
    "nltk.classify.accuracy(classifier, test_set)"
   ],
   "metadata": {
    "collapsed": false,
    "pycharm": {
     "name": "#%%\n"
    }
   }
  },
  {
   "cell_type": "code",
   "execution_count": 41,
   "outputs": [],
   "source": [
    "# Exercise: 6-6\n",
    "# The synonyms strong and powerful pattern differently (try combining them with chip and sales). What features are\n",
    "# relevant in this distinction? Build a classifier that predicts when each word should be used.\n",
    "\n",
    "from nltk.corpus import brown\n",
    "\n",
    "text = nltk.Text([w for s in brown.sents() for w in s])"
   ],
   "metadata": {
    "collapsed": false,
    "pycharm": {
     "name": "#%%\n"
    }
   }
  },
  {
   "cell_type": "code",
   "execution_count": 42,
   "outputs": [
    {
     "name": "stdout",
     "output_type": "stream",
     "text": [
      "Displaying 25 of 202 matches:\n",
      "n . Georgia Republicans are getting strong encouragement to enter a candidate \n",
      "industry by Southern states , and a strong fight against discrimination in bus\n",
      "cit on where I stand to bring you a strong , dynamic administration . I'm not \n",
      "using bill is expected to encounter strong opposition by the coalition of Sout\n",
      "p with some good stops and showed a strong arm at third base . Bingles and bob\n",
      " aerials . Skorich , however , is a strong advocate of a balanced attack -- sp\n",
      "and swept all championships . Carol Strong , 13 , of Cedar Mill cooked the cha\n",
      "emain are those that were headed by strong executives , men with the abilities\n",
      "s the only antidote -- a Biblically strong Christianity . So the Christian You\n",
      " control machinery . In the U. S. , strong pressures have been building up for\n",
      " the forthcoming encounter produced strong reactions in the U. S. of both appr\n",
      ", Player said later , `` and I felt strong . When you're playing like that you\n",
      "s and good nature and by his kind , strong and somewhat sly face '' . G. David\n",
      "favored a unified Congo with a very strong central government . And fourth , t\n",
      "f Dr. Conant's specific views . His strong opposition to the transfer of Negro\n",
      " and graduate schools will run into strong opposition from these colleges them\n",
      "reak of violence . They are putting strong pressure on their police department\n",
      "nt misbehavior . His desires are so strong that he needs constant reassurance \n",
      " . Dissenting views of senators Two strong dissents from the majority report o\n",
      "self-determination , when we become strong enough to resist any more drifts to\n",
      "om the other also developed , and a strong conviction grew that each had insig\n",
      "osition of yet another pressure , a strong one , from the outside , might caus\n",
      " the Albanian incident shows , have strong suspicions that Khrushchev is anxio\n",
      " feel that , militarily , Russia is strong enough to support them in the `` ju\n",
      "'' nearly liquidated him . He seems strong enough inside the party to cope wit\n"
     ]
    }
   ],
   "source": [
    "text.concordance('strong')"
   ],
   "metadata": {
    "collapsed": false,
    "pycharm": {
     "name": "#%%\n"
    }
   }
  },
  {
   "cell_type": "code",
   "execution_count": 43,
   "outputs": [
    {
     "name": "stdout",
     "output_type": "stream",
     "text": [
      "Displaying 25 of 63 matches:\n",
      " . Cincinnati , Ohio ( AP ) -- The powerful New York Yankees won their 19th wo\n",
      "ecrets off to Moscow , either on a powerful transmitter buried under the kitch\n",
      "gerous precedent '' ! ! Cannon , a powerful , conservative man , brought welco\n",
      "ker of the House , and second most powerful man in Washington . Mr. Rayburn wa\n",
      "d . But these are side issues to a powerful central theme . That theme cuts th\n",
      " world is dominated by two large , powerful nations armed with murderous nucle\n",
      "sively in his footsteps . When one powerful nation strives to emulate the succ\n",
      ", because it provides a direct and powerful mirror in which the Negro can hear\n",
      "( the charge-excess ) are far more powerful than gravitation , the surface hyd\n",
      "world in balanced harmony around a powerful central axis . The tremendous emph\n",
      ". But such a reaction obscures the powerful efforts made in the past by both N\n",
      "ch a decision should have placed a powerful weapon in the hands of the entire \n",
      ", imagine that you can put on more powerful glasses and go back inside the ato\n",
      "ual control over already supremely powerful divine spirits , was held responsi\n",
      "es a toughness and bravado that no powerful otherworldly ancestor could ever i\n",
      " burning lusts of the flesh or the powerful victory of Holy Spirit discipline \n",
      "ir of our new presses . Here was a powerful , ready-made medium , but it could\n",
      "ways , but they would require more powerful engines than we have today . There\n",
      "for spending money to develop more powerful engines because of the erroneous b\n",
      "Credo of words -- with torrents of powerful music . Compare the vast differenc\n",
      "ted from the elements , gives them powerful visual appeal at night ; ; during \n",
      "ce prolongs the pain while a swift powerful act gets it over with and leaves t\n",
      "uville where she met a member of a powerful Greek syndicate of gamblers '' . T\n",
      "igious organization , especially a powerful or dominant one , to impose throug\n",
      "ts as Torrio and Capone , the most powerful and most dangerous mob leader in t\n"
     ]
    }
   ],
   "source": [
    "text.concordance('powerful')"
   ],
   "metadata": {
    "collapsed": false,
    "pycharm": {
     "name": "#%%\n"
    }
   }
  },
  {
   "cell_type": "code",
   "execution_count": 44,
   "outputs": [],
   "source": [
    "bts = brown.tagged_sents()\n",
    "strong = [s for s in bts for t in s if 'strong' in t]\n",
    "\n",
    "for s in strong:\n",
    "    for i in range(len(s)):\n",
    "        if s[i][0] == 'strong':\n",
    "            s[i] = '_____'"
   ],
   "metadata": {
    "collapsed": false,
    "pycharm": {
     "name": "#%%\n"
    }
   }
  },
  {
   "cell_type": "code",
   "execution_count": 45,
   "outputs": [],
   "source": [
    "labeled_strong = [(s, 'strong') for s in strong]\n",
    "powerful = [s for s in bts for t in s if 'powerful' in t]\n",
    "for s in powerful:\n",
    "    for i in range(len(s)):\n",
    "        if s[i][0] == 'powerful':\n",
    "            s[i] = '_____'\n",
    "labeled_powerful = [(s, 'powerful') for s in powerful]"
   ],
   "metadata": {
    "collapsed": false,
    "pycharm": {
     "name": "#%%\n"
    }
   }
  },
  {
   "cell_type": "code",
   "execution_count": 46,
   "outputs": [
    {
     "data": {
      "text/plain": "([('--', '--'),\n  ('The', 'AT'),\n  '_____',\n  ('New', 'JJ-TL'),\n  ('York', 'NP-TL'),\n  ('Yankees', 'NPS-TL'),\n  ('won', 'VBD'),\n  ('their', 'PP$'),\n  ('19th', 'OD'),\n  ('world', 'NN'),\n  ('series', 'NN'),\n  ('in', 'IN'),\n  ('a', 'AT'),\n  ('5-game', 'JJ'),\n  ('romp', 'NN'),\n  ('over', 'IN'),\n  ('outclassed', 'VBN'),\n  ('Cincinnati', 'NP'),\n  (',', ','),\n  ('crushing', 'VBG'),\n  ('the', 'AT'),\n  ('Reds', 'NNS-TL'),\n  ('in', 'IN'),\n  ('a', 'AT'),\n  ('humiliating', 'JJ'),\n  ('13-5', 'CD'),\n  ('barrage', 'NN'),\n  ('Monday', 'NR'),\n  ('in', 'IN'),\n  ('the', 'AT'),\n  ('loosely', 'RB'),\n  ('played', 'VBN'),\n  ('finale', 'NN'),\n  ('.', '.')],\n 'powerful')"
     },
     "execution_count": 46,
     "metadata": {},
     "output_type": "execute_result"
    }
   ],
   "source": [
    "labeled_powerful[0]"
   ],
   "metadata": {
    "collapsed": false,
    "pycharm": {
     "name": "#%%\n"
    }
   }
  },
  {
   "cell_type": "code",
   "execution_count": 47,
   "outputs": [],
   "source": [
    "def adj_features(sent):\n",
    "    p = sent.index('_____')\n",
    "    if p >= 2:\n",
    "        left2 = sent[p - 2][0]\n",
    "    else:\n",
    "        left2 = (None, None)\n",
    "    if p >= 1:\n",
    "        left1 = sent[p - 1][0]\n",
    "    else:\n",
    "        left1 = (None, None)\n",
    "    return {'left2':  left2,\n",
    "            'left1':  left1,\n",
    "            'right':  sent[p + 1][0]}"
   ],
   "metadata": {
    "collapsed": false,
    "pycharm": {
     "name": "#%%\n"
    }
   }
  },
  {
   "cell_type": "code",
   "execution_count": 48,
   "outputs": [
    {
     "data": {
      "text/plain": "{'left2': '--', 'left1': 'The', 'right': 'New'}"
     },
     "execution_count": 48,
     "metadata": {},
     "output_type": "execute_result"
    }
   ],
   "source": [
    "adj_features(labeled_powerful[0][0])"
   ],
   "metadata": {
    "collapsed": false,
    "pycharm": {
     "name": "#%%\n"
    }
   }
  },
  {
   "cell_type": "code",
   "execution_count": 49,
   "outputs": [],
   "source": [
    "labeled_sents = (labeled_strong + labeled_powerful)\n",
    "random.shuffle(labeled_sents)"
   ],
   "metadata": {
    "collapsed": false,
    "pycharm": {
     "name": "#%%\n"
    }
   }
  },
  {
   "cell_type": "code",
   "execution_count": 50,
   "outputs": [],
   "source": [
    "featuresets = [(adj_features(s), adj) for (s, adj) in labeled_sents]\n",
    "test_set, train_set = featuresets[:25], featuresets[25:]\n",
    "classifier = nltk.classify.DecisionTreeClassifier.train(train_set)"
   ],
   "metadata": {
    "collapsed": false,
    "pycharm": {
     "name": "#%%\n"
    }
   }
  },
  {
   "cell_type": "code",
   "execution_count": 51,
   "outputs": [
    {
     "data": {
      "text/plain": "0.76"
     },
     "execution_count": 51,
     "metadata": {},
     "output_type": "execute_result"
    }
   ],
   "source": [
    "nltk.classify.accuracy(classifier, test_set)"
   ],
   "metadata": {
    "collapsed": false,
    "pycharm": {
     "name": "#%%\n"
    }
   }
  },
  {
   "cell_type": "code",
   "execution_count": 52,
   "outputs": [],
   "source": [
    "vocab = [1000, 2000, 3000, 4000, 5000]\n",
    "perfs = []\n",
    "\n",
    "for v in vocab:\n",
    "    all_words = nltk.FreqDist(w.lower() for w in brown.words())\n",
    "    word_features = [w for w, _ in all_words.most_common(v)]\n",
    "\n",
    "    def sent_features(sent):\n",
    "        sent_words = set([t[0] for t in sent])\n",
    "        features = {}\n",
    "        for word in word_features:\n",
    "            features['contains({})'.format(word)] = (word in sent_words)\n",
    "        return features\n",
    "\n",
    "    featuresets = [(sent_features(n), adj) for (n, adj) in labeled_sents]\n",
    "    test_set, train_set = featuresets[:25], featuresets[25:]\n",
    "    classifier = nltk.classify.NaiveBayesClassifier.train(train_set)\n",
    "\n",
    "    perfs.append(nltk.classify.accuracy(classifier, test_set))"
   ],
   "metadata": {
    "collapsed": false,
    "pycharm": {
     "name": "#%%\n"
    }
   }
  },
  {
   "cell_type": "code",
   "execution_count": 53,
   "outputs": [
    {
     "data": {
      "text/plain": "[0.8, 0.76, 0.72, 0.68, 0.68]"
     },
     "execution_count": 53,
     "metadata": {},
     "output_type": "execute_result"
    }
   ],
   "source": [
    "perfs"
   ],
   "metadata": {
    "collapsed": false,
    "pycharm": {
     "name": "#%%\n"
    }
   }
  },
  {
   "cell_type": "code",
   "execution_count": 54,
   "outputs": [
    {
     "name": "stdout",
     "output_type": "stream",
     "text": [
      "now im left with this gay name Statement\n",
      ":P Emotion\n",
      "PART System\n",
      "hey everyone   Greet\n",
      "ah well Statement\n",
      "NICK :10-19-20sUser7 System\n",
      "10-19-20sUser7 is a gay name. Accept\n",
      ".ACTION gives 10-19-20sUser121 a golf clap. System\n",
      ":) Emotion\n",
      "JOIN System\n",
      "hi 10-19-20sUser59 Greet\n",
      "26/ m/ ky women that are nice please pm me Statement\n",
      "JOIN System\n",
      "PART System\n",
      "there ya go 10-19-20sUser7 Statement\n",
      "don't golf clap me. Reject\n",
      "fuck you 10-19-20sUser121:@ Reject\n",
      "whats everyone up to? whQuestion\n",
      "PART System\n",
      "PART System\n"
     ]
    }
   ],
   "source": [
    "# Exercise: 6-7\n",
    "# The dialogue act classifier assigns labels to individual posts, without considering the context in which the\n",
    "# post is found. However, dialogue acts are highly dependent on context, and some sequences of dialogue act are\n",
    "# much more likely than others. For example, a ynQuestion dialogue act is much more likely to be answered by a\n",
    "# yanswer than by a greeting. Make use of this fact to build a consecutive classifier for labeling dialogue acts.\n",
    "# Be sure to consider what features might be useful. See the code for the consecutive classifier for part-of-speech\n",
    "# tags in Example 6-5 to get some ideas.\n",
    "\n",
    "post = nltk.corpus.nps_chat.xml_posts()\n",
    "for i in range(20):\n",
    "    print(post[i].text, post[i].get('class'))"
   ],
   "metadata": {
    "collapsed": false,
    "pycharm": {
     "name": "#%%\n"
    }
   }
  },
  {
   "cell_type": "code",
   "execution_count": 55,
   "outputs": [],
   "source": [
    "post_words = [w.lower() for i in range(len(post))\n",
    "              for w in post[i].text.split()]\n",
    "fd = nltk.FreqDist(post_words)\n",
    "word_features = [w for (w, _) in fd.most_common(2000)]"
   ],
   "metadata": {
    "collapsed": false,
    "pycharm": {
     "name": "#%%\n"
    }
   }
  },
  {
   "cell_type": "code",
   "execution_count": 56,
   "outputs": [],
   "source": [
    "def dialog_features(post, i):\n",
    "    post_words = set(post[i].text.split())\n",
    "    features = {}\n",
    "    for word in word_features:\n",
    "        features['contains({})'.format(word)] = (word in post_words)\n",
    "    if i == 0:\n",
    "        features[\"prev-class\"] = \"<START>\"\n",
    "    else:\n",
    "        features[\"prev-class\"] = post[i - 1].get('class')\n",
    "    return features"
   ],
   "metadata": {
    "collapsed": false,
    "pycharm": {
     "name": "#%%\n"
    }
   }
  },
  {
   "cell_type": "code",
   "execution_count": 57,
   "outputs": [
    {
     "data": {
      "text/plain": "{'gay', 'im', 'left', 'name', 'now', 'this', 'with'}"
     },
     "execution_count": 57,
     "metadata": {},
     "output_type": "execute_result"
    }
   ],
   "source": [
    "set(post[0].text.split())"
   ],
   "metadata": {
    "collapsed": false,
    "pycharm": {
     "name": "#%%\n"
    }
   }
  },
  {
   "cell_type": "code",
   "execution_count": 58,
   "outputs": [],
   "source": [
    "featuresets = []\n",
    "for i in range(len(post)):\n",
    "    featuresets.append( (dialog_features(post, i), post[i].get('class') ) )"
   ],
   "metadata": {
    "collapsed": false,
    "pycharm": {
     "name": "#%%\n"
    }
   }
  },
  {
   "cell_type": "code",
   "execution_count": 59,
   "outputs": [],
   "source": [
    "size = int(len(featuresets) * 0.9)\n",
    "train_set, test_set = featuresets[:size], featuresets[size:]\n",
    "classifier = nltk.NaiveBayesClassifier.train(train_set)"
   ],
   "metadata": {
    "collapsed": false,
    "pycharm": {
     "name": "#%%\n"
    }
   }
  },
  {
   "cell_type": "code",
   "execution_count": 60,
   "outputs": [
    {
     "data": {
      "text/plain": "15"
     },
     "execution_count": 60,
     "metadata": {},
     "output_type": "execute_result"
    }
   ],
   "source": [
    "classes = set([c for (_, c) in featuresets])\n",
    "len(classes)"
   ],
   "metadata": {
    "collapsed": false,
    "pycharm": {
     "name": "#%%\n"
    }
   }
  },
  {
   "cell_type": "code",
   "execution_count": 61,
   "outputs": [
    {
     "name": "stdout",
     "output_type": "stream",
     "text": [
      "{'Emphasis', 'Reject', 'nAnswer', 'Accept', 'yAnswer', 'Bye', 'Continuer', 'Clarify', 'Emotion', 'Other', 'Greet', 'ynQuestion', 'whQuestion', 'Statement', 'System'}"
     ]
    }
   ],
   "source": [
    "print(classes, end = '')"
   ],
   "metadata": {
    "collapsed": false,
    "pycharm": {
     "name": "#%%\n"
    }
   }
  },
  {
   "cell_type": "code",
   "execution_count": 62,
   "outputs": [
    {
     "data": {
      "text/plain": "0.674550614947966"
     },
     "execution_count": 62,
     "metadata": {},
     "output_type": "execute_result"
    }
   ],
   "source": [
    "nltk.classify.accuracy(classifier, test_set)"
   ],
   "metadata": {
    "collapsed": false,
    "pycharm": {
     "name": "#%%\n"
    }
   }
  },
  {
   "cell_type": "code",
   "execution_count": 63,
   "outputs": [],
   "source": [
    "# Exercise: 5-8\n",
    "# Word features can be very useful for performing document classification, since the words that appear in a\n",
    "# document give a strong indication about what its semantic content is. However, many words occur very infrequently,\n",
    "# and some of the most informative words in a document may never have occurred in our training data. One solution is\n",
    "# to make use of a lexicon, which describes how different words relate to one another. Using the WordNet lexicon,\n",
    "# augment the movie review document classifier presented in this chapter to use features that generalize the words\n",
    "# that appear in a document, making it more likely that they will match words found in the training data.\n",
    "\n",
    "from nltk.corpus import movie_reviews\n",
    "import random\n",
    "\n",
    "documents = [(list(movie_reviews.words(fileid)), category)\n",
    "             for category in movie_reviews.categories()\n",
    "             for fileid in movie_reviews.fileids(category)]\n",
    "random.shuffle(documents)"
   ],
   "metadata": {
    "collapsed": false,
    "pycharm": {
     "name": "#%%\n"
    }
   }
  },
  {
   "cell_type": "code",
   "execution_count": 64,
   "outputs": [],
   "source": [
    "all_words = nltk.FreqDist(w.lower() for w in movie_reviews.words())\n",
    "word_features = [w for (w, _) in all_words.most_common(2000)]"
   ],
   "metadata": {
    "collapsed": false,
    "pycharm": {
     "name": "#%%\n"
    }
   }
  },
  {
   "cell_type": "code",
   "execution_count": 65,
   "outputs": [],
   "source": [
    "from nltk.corpus import wordnet as wn\n",
    "\n",
    "def document_features(document):\n",
    "    document_words = set(document)\n",
    "    features = {}\n",
    "    for word in document_words:\n",
    "        # if word amongst most common words,\n",
    "        # report that this word is in the document,\n",
    "        # otherwise, get wordnet synset\n",
    "        if word in word_features:\n",
    "            features['contains({})'.format(word)] = True\n",
    "        else:\n",
    "            ws = wn.synsets(word) # not bothering with POS\n",
    "            if ws != []:\n",
    "                features['{}'.format(ws[0])] = True\n",
    "    return features"
   ],
   "metadata": {
    "collapsed": false,
    "pycharm": {
     "name": "#%%\n"
    }
   }
  },
  {
   "cell_type": "code",
   "execution_count": 66,
   "outputs": [],
   "source": [
    "featuresets = [(document_features(d), c) for (d, c) in documents]"
   ],
   "metadata": {
    "collapsed": false,
    "pycharm": {
     "name": "#%%\n"
    }
   }
  },
  {
   "cell_type": "code",
   "execution_count": 67,
   "outputs": [],
   "source": [
    "train_set, test_set = featuresets[100:], featuresets[:100]\n",
    "classifier = nltk.NaiveBayesClassifier.train(train_set)"
   ],
   "metadata": {
    "collapsed": false,
    "pycharm": {
     "name": "#%%\n"
    }
   }
  },
  {
   "cell_type": "code",
   "execution_count": 68,
   "outputs": [
    {
     "data": {
      "text/plain": "0.73"
     },
     "execution_count": 68,
     "metadata": {},
     "output_type": "execute_result"
    }
   ],
   "source": [
    "nltk.classify.accuracy(classifier, test_set)"
   ],
   "metadata": {
    "collapsed": false,
    "pycharm": {
     "name": "#%%\n"
    }
   }
  },
  {
   "cell_type": "code",
   "execution_count": 69,
   "outputs": [
    {
     "name": "stdout",
     "output_type": "stream",
     "text": [
      "Most Informative Features\n",
      "   Synset('feeble.s.01') = True              neg : pos    =     11.1 : 1.0\n",
      "   contains(outstanding) = True              pos : neg    =     10.7 : 1.0\n",
      "Synset('atrocious.s.01') = True              neg : pos    =     10.4 : 1.0\n",
      "   Synset('hudson.n.01') = True              neg : pos    =     10.4 : 1.0\n",
      " Synset('seamless.a.01') = True              pos : neg    =     10.2 : 1.0\n",
      "   Synset('symbol.n.01') = True              pos : neg    =     10.1 : 1.0\n",
      "Synset('agonizingly.r.01') = True              neg : pos    =      9.8 : 1.0\n",
      "Synset('incoherent.a.01') = True              neg : pos    =      9.8 : 1.0\n",
      "Synset('odds_and_ends.n.01') = True              neg : pos    =      9.8 : 1.0\n",
      "   Synset('annual.n.01') = True              pos : neg    =      9.6 : 1.0\n",
      "     Synset('deft.s.01') = True              pos : neg    =      9.6 : 1.0\n",
      " Synset('thematic.a.01') = True              pos : neg    =      9.6 : 1.0\n",
      "Synset('crackbrained.s.01') = True              neg : pos    =      9.1 : 1.0\n",
      "    Synset('chaff.n.01') = True              neg : pos    =      9.1 : 1.0\n",
      " Synset('fairness.n.01') = True              neg : pos    =      9.1 : 1.0\n",
      "Synset('illogical.a.01') = True              neg : pos    =      9.1 : 1.0\n",
      " Synset('marauder.n.01') = True              neg : pos    =      9.1 : 1.0\n",
      "Synset('accessible.a.01') = True              pos : neg    =      8.9 : 1.0\n",
      "Synset('stupidity.n.01') = True              neg : pos    =      8.8 : 1.0\n",
      "Synset('all_right.s.01') = True              pos : neg    =      8.5 : 1.0\n",
      "  Synset('misfire.n.01') = True              neg : pos    =      8.4 : 1.0\n",
      "  Synset('farther.s.01') = True              pos : neg    =      8.2 : 1.0\n",
      "Synset('political_orientation.n.01') = True              pos : neg    =      8.2 : 1.0\n",
      "Synset('refreshingly.r.01') = True              pos : neg    =      8.2 : 1.0\n",
      "    Synset('trash.n.02') = True              pos : neg    =      8.2 : 1.0\n",
      "         contains(mulan) = True              pos : neg    =      8.2 : 1.0\n",
      "        contains(seagal) = True              neg : pos    =      7.9 : 1.0\n",
      "Synset('averageness.n.02') = True              neg : pos    =      7.7 : 1.0\n",
      " Synset('cachexia.n.01') = True              neg : pos    =      7.7 : 1.0\n",
      " Synset('dumbbell.n.02') = True              neg : pos    =      7.7 : 1.0\n"
     ]
    }
   ],
   "source": [
    "classifier.show_most_informative_features(30)"
   ],
   "metadata": {
    "collapsed": false,
    "pycharm": {
     "name": "#%%\n"
    }
   }
  },
  {
   "cell_type": "code",
   "execution_count": 70,
   "outputs": [
    {
     "data": {
      "text/plain": "'the friend of Phintias who pledged his life that Phintias would return (4th century BC)'"
     },
     "execution_count": 70,
     "metadata": {},
     "output_type": "execute_result"
    }
   ],
   "source": [
    "wn.synset('damon.n.01').definition()"
   ],
   "metadata": {
    "collapsed": false,
    "pycharm": {
     "name": "#%%\n"
    }
   }
  },
  {
   "cell_type": "code",
   "execution_count": 71,
   "outputs": [],
   "source": [
    "vocab = [500, 1000, 1500, 2000, 2500, 3000]\n",
    "perfs = []\n",
    "\n",
    "for v in vocab:\n",
    "\n",
    "\n",
    "    all_words = nltk.FreqDist(w.lower() for w in movie_reviews.words())\n",
    "    word_features = [w for (w, _) in all_words.most_common(v)]\n",
    "\n",
    "    from nltk.corpus import wordnet as wn\n",
    "\n",
    "    def document_features(document):\n",
    "        document_words = set(document)\n",
    "        features = {}\n",
    "        for word in document_words:\n",
    "            if word in word_features:\n",
    "                features['contains({})'.format(word)] = True\n",
    "            else:\n",
    "                ws = wn.synsets(word)\n",
    "                if ws != []:\n",
    "                    features['{}'.format(ws[0])] = True\n",
    "        return features\n",
    "\n",
    "\n",
    "    featuresets = [(document_features(d), c) for (d, c) in documents]\n",
    "\n",
    "\n",
    "    train_set, test_set = featuresets[100:], featuresets[:100]\n",
    "    classifier = nltk.NaiveBayesClassifier.train(train_set)\n",
    "\n",
    "    perfs.append(nltk.classify.accuracy(classifier, test_set))"
   ],
   "metadata": {
    "collapsed": false,
    "pycharm": {
     "name": "#%%\n"
    }
   }
  },
  {
   "cell_type": "code",
   "execution_count": 72,
   "outputs": [
    {
     "data": {
      "text/plain": "[0.73, 0.73, 0.74, 0.73, 0.75, 0.73]"
     },
     "execution_count": 72,
     "metadata": {},
     "output_type": "execute_result"
    }
   ],
   "source": [
    "perfs"
   ],
   "metadata": {
    "collapsed": false,
    "pycharm": {
     "name": "#%%\n"
    }
   }
  },
  {
   "cell_type": "code",
   "execution_count": 73,
   "outputs": [
    {
     "data": {
      "text/plain": "<Figure size 432x288 with 1 Axes>",
      "image/png": "[encoded data removed]"
     },
     "metadata": {
      "needs_background": "light"
     },
     "output_type": "display_data"
    }
   ],
   "source": [
    "import matplotlib.pyplot as plt\n",
    "\n",
    "plt.plot(vocab, perfs)\n",
    "plt.ylim(0, 1.0)\n",
    "plt.show()"
   ],
   "metadata": {
    "collapsed": false,
    "pycharm": {
     "name": "#%%\n"
    }
   }
  },
  {
   "cell_type": "code",
   "execution_count": 74,
   "outputs": [
    {
     "data": {
      "text/plain": "[PPAttachment(sent='0', verb='join', noun1='board', prep='as', noun2='director', attachment='V'), PPAttachment(sent='1', verb='is', noun1='chairman', prep='of', noun2='N.V.', attachment='N'), ...]"
     },
     "execution_count": 74,
     "metadata": {},
     "output_type": "execute_result"
    }
   ],
   "source": [
    "# Exercise: 6-9\n",
    "# The PP Attachment Corpus is a corpus describing prepositional phrase attachment decisions. Each instance in the\n",
    "# corpus is encoded as a PPAttachment object:\n",
    "# >>> from nltk.corpus import ppattach\n",
    "# >>> ppattach.attachments('training')\n",
    "# [PPAttachment(sent='0', verb='join', noun1='board',\n",
    "#               prep='as', noun2='director', attachment='V'),\n",
    "#  PPAttachment(sent='1', verb='is', noun1='chairman',\n",
    "#               prep='of', noun2='N.V.', attachment='N'),\n",
    "#  ...]\n",
    "# >>> inst = ppattach.attachments('training')[1]\n",
    "# >>> (inst.noun1, inst.prep, inst.noun2)\n",
    "# ('chairman', 'of', 'N.V.')\n",
    "# Select only the instances where inst.attachment is N:\n",
    "# >>> nattach = [inst for inst in ppattach.attachments('training')\n",
    "# ...            if inst.attachment == 'N']\n",
    "# Using this subcorpus, build a classifier that attempts to predict which preposition is used to connect a\n",
    "# given pair of nouns. For example, given the pair of nouns team and researchers, the classifier should\n",
    "# predict the preposition of. See the corpus HOWTO at http://www.nltk.org/howto for more information on\n",
    "# using the PP Attachment Corpus.\n",
    "\n",
    "from nltk.corpus import ppattach\n",
    "ppattach.attachments('training')"
   ],
   "metadata": {
    "collapsed": false,
    "pycharm": {
     "name": "#%%\n"
    }
   }
  },
  {
   "cell_type": "code",
   "execution_count": 75,
   "outputs": [
    {
     "data": {
      "text/plain": "('chairman', 'of', 'N.V.')"
     },
     "execution_count": 75,
     "metadata": {},
     "output_type": "execute_result"
    }
   ],
   "source": [
    "inst = ppattach.attachments('training')[1]\n",
    "(inst.noun1, inst.prep, inst.noun2)"
   ],
   "metadata": {
    "collapsed": false,
    "pycharm": {
     "name": "#%%\n"
    }
   }
  },
  {
   "cell_type": "code",
   "execution_count": 76,
   "outputs": [
    {
     "data": {
      "text/plain": "[PPAttachment(sent='1', verb='is', noun1='chairman', prep='of', noun2='N.V.', attachment='N'),\n PPAttachment(sent='2', verb='named', noun1='director', prep='of', noun2='conglomerate', attachment='N'),\n PPAttachment(sent='3', verb='caused', noun1='percentage', prep='of', noun2='deaths', attachment='N'),\n PPAttachment(sent='9', verb='is', noun1='asbestos', prep='in', noun2='products', attachment='N'),\n PPAttachment(sent='12', verb='led', noun1='team', prep='of', noun2='researchers', attachment='N')]"
     },
     "execution_count": 76,
     "metadata": {},
     "output_type": "execute_result"
    }
   ],
   "source": [
    "nattach = [inst for inst in ppattach.attachments('training')\n",
    "           if inst.attachment == 'N']\n",
    "nattach[:5]"
   ],
   "metadata": {
    "collapsed": false,
    "pycharm": {
     "name": "#%%\n"
    }
   }
  },
  {
   "cell_type": "code",
   "execution_count": 77,
   "outputs": [
    {
     "data": {
      "text/plain": "{'noun1': 'chairman'}"
     },
     "execution_count": 77,
     "metadata": {},
     "output_type": "execute_result"
    }
   ],
   "source": [
    "def prep_features(inst):\n",
    "    features = {'noun1': inst.noun1}\n",
    "    return features\n",
    "\n",
    "prep_features(nattach[0])"
   ],
   "metadata": {
    "collapsed": false,
    "pycharm": {
     "name": "#%%\n"
    }
   }
  },
  {
   "cell_type": "code",
   "execution_count": 78,
   "outputs": [],
   "source": [
    "featuresets = [(prep_features(inst), inst.prep) for inst in nattach]\n",
    "\n",
    "size = int(len(featuresets) * 0.1)\n",
    "train_set, test_set = featuresets[size:], featuresets[:size]"
   ],
   "metadata": {
    "collapsed": false,
    "pycharm": {
     "name": "#%%\n"
    }
   }
  },
  {
   "cell_type": "code",
   "execution_count": 79,
   "outputs": [],
   "source": [
    "classifier = nltk.NaiveBayesClassifier.train(train_set)"
   ],
   "metadata": {
    "collapsed": false,
    "pycharm": {
     "name": "#%%\n"
    }
   }
  },
  {
   "cell_type": "code",
   "execution_count": 80,
   "outputs": [
    {
     "data": {
      "text/plain": "0.647329650092081"
     },
     "execution_count": 80,
     "metadata": {},
     "output_type": "execute_result"
    }
   ],
   "source": [
    "nltk.classify.accuracy(classifier, test_set)"
   ],
   "metadata": {
    "collapsed": false,
    "pycharm": {
     "name": "#%%\n"
    }
   }
  },
  {
   "cell_type": "code",
   "execution_count": 81,
   "outputs": [
    {
     "data": {
      "text/plain": "59"
     },
     "execution_count": 81,
     "metadata": {},
     "output_type": "execute_result"
    }
   ],
   "source": [
    "preps = [p for (_, p) in featuresets]\n",
    "len(set(preps))"
   ],
   "metadata": {
    "collapsed": false,
    "pycharm": {
     "name": "#%%\n"
    }
   }
  },
  {
   "cell_type": "code",
   "execution_count": 82,
   "outputs": [],
   "source": [
    "fd = nltk.FreqDist(preps)"
   ],
   "metadata": {
    "collapsed": false,
    "pycharm": {
     "name": "#%%\n"
    }
   }
  },
  {
   "cell_type": "code",
   "execution_count": 83,
   "outputs": [
    {
     "data": {
      "text/plain": "0.508697653014266"
     },
     "execution_count": 83,
     "metadata": {},
     "output_type": "execute_result"
    }
   ],
   "source": [
    "fd['of']/len(preps)"
   ],
   "metadata": {
    "collapsed": false,
    "pycharm": {
     "name": "#%%\n"
    }
   }
  },
  {
   "cell_type": "code",
   "execution_count": 84,
   "outputs": [],
   "source": [
    "# Exercise: 6-10\n",
    "# Suppose you wanted to automatically generate a prose description of a scene, and already had a word to uniquely\n",
    "# describe each entity, such as the book, and simply wanted to decide whether to use in or on in relating various\n",
    "# items, e.g., the book is in the cupboard versus the book is on the shelf. Explore this issue by looking at\n",
    "# corpus data and writing programs as needed. Consider the following examples:\n",
    "# 1. in the car versus on the train\n",
    "# 2. in town versus on campus\n",
    "# 3. in the picture versus on the screen\n",
    "# 4. in Macbeth versus on Letterman\n",
    "\n",
    "from nltk.corpus import brown\n",
    "bts = brown.tagged_sents()"
   ],
   "metadata": {
    "collapsed": false,
    "pycharm": {
     "name": "#%%\n"
    }
   }
  },
  {
   "cell_type": "code",
   "execution_count": 85,
   "outputs": [],
   "source": [
    "def find_sents(corpus, *words):\n",
    "    \"\"\"\n",
    "    Returns from a tagged corpus sentences that\n",
    "    contain a phrase.  Words in the phrase must be\n",
    "    in the same order as listed in the arguments.\n",
    "\n",
    "    Arguments:\n",
    "    corpus: Tagged corpus.\n",
    "    *words: Words in the phrase to be matched.  Words\n",
    "            must be in the order in which they are to be found.\n",
    "    \"\"\"\n",
    "\n",
    "    sents = []\n",
    "    lw = len(words)\n",
    "    for s in corpus:\n",
    "        flag = False\n",
    "        for i in range(len(s) - lw):\n",
    "            for j in range(lw):\n",
    "                if s[i + j][0] == words[j]:\n",
    "                    flag = True\n",
    "                else:\n",
    "                    flag = False\n",
    "                    break\n",
    "            if flag:\n",
    "                sents.append(s)\n",
    "    return sents"
   ],
   "metadata": {
    "collapsed": false,
    "pycharm": {
     "name": "#%%\n"
    }
   }
  },
  {
   "cell_type": "code",
   "execution_count": 86,
   "outputs": [],
   "source": [
    "car = find_sents(bts, \"in\", \"the\", \"car\")\n",
    "train = find_sents(bts, \"on\", \"the\", \"train\")\n",
    "town = find_sents(bts, \"in\", \"town\")\n",
    "campus = find_sents(bts, \"on\", \"campus\")\n",
    "picture = find_sents(bts, \"in\", \"the\", \"picture\")\n",
    "screen = find_sents(bts, \"on\", \"the\", \"screen\")\n",
    "Macbeth = find_sents(bts, \"in\", \"Macbeth\")\n",
    "Letterman = find_sents(bts, \"on\", \"Letterman\")"
   ],
   "metadata": {
    "collapsed": false,
    "pycharm": {
     "name": "#%%\n"
    }
   }
  },
  {
   "cell_type": "code",
   "execution_count": 87,
   "outputs": [
    {
     "name": "stdout",
     "output_type": "stream",
     "text": [
      "9\n",
      "8\n",
      "21\n",
      "1\n",
      "5\n",
      "6\n",
      "1\n",
      "0\n"
     ]
    }
   ],
   "source": [
    "sets = [car, train, town, campus, picture, screen, Macbeth, Letterman]\n",
    "for s in sets:\n",
    "    print(len(s))"
   ],
   "metadata": {
    "collapsed": false,
    "pycharm": {
     "name": "#%%\n"
    }
   }
  },
  {
   "cell_type": "code",
   "execution_count": null,
   "outputs": [],
   "source": [],
   "metadata": {
    "collapsed": false,
    "pycharm": {
     "name": "#%%\n"
    }
   }
  }
 ],
 "metadata": {
  "kernelspec": {
   "display_name": "Python 3",
   "language": "python",
   "name": "python3"
  },
  "language_info": {
   "codemirror_mode": {
    "name": "ipython",
    "version": 2
   },
   "file_extension": ".py",
   "mimetype": "text/x-python",
   "name": "python",
   "nbconvert_exporter": "python",
   "pygments_lexer": "ipython2",
   "version": "2.7.6"
  }
 },
 "nbformat": 4,
 "nbformat_minor": 0
}