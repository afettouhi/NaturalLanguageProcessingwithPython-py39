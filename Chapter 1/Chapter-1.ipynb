{
 "cells": [
  {
   "cell_type": "code",
   "execution_count": 1,
   "metadata": {
    "collapsed": true
   },
   "outputs": [
    {
     "data": {
      "text/plain": "8"
     },
     "execution_count": 1,
     "metadata": {},
     "output_type": "execute_result"
    }
   ],
   "source": [
    "1 + 5 * 2 - 3"
   ]
  },
  {
   "cell_type": "code",
   "execution_count": 2,
   "outputs": [
    {
     "ename": "SyntaxError",
     "evalue": "invalid syntax (<ipython-input-2-953e01372b97>, line 1)",
     "output_type": "error",
     "traceback": [
      "\u001B[0;36m  File \u001B[0;32m\"<ipython-input-2-953e01372b97>\"\u001B[0;36m, line \u001B[0;32m1\u001B[0m\n\u001B[0;31m    1 +\u001B[0m\n\u001B[0m       ^\u001B[0m\n\u001B[0;31mSyntaxError\u001B[0m\u001B[0;31m:\u001B[0m invalid syntax\n"
     ]
    }
   ],
   "source": [
    "1 +"
   ],
   "metadata": {
    "collapsed": false,
    "pycharm": {
     "name": "#%%\n"
    }
   }
  },
  {
   "cell_type": "code",
   "execution_count": 3,
   "outputs": [],
   "source": [
    "import nltk"
   ],
   "metadata": {
    "collapsed": false,
    "pycharm": {
     "name": "#%%\n"
    }
   }
  },
  {
   "cell_type": "code",
   "execution_count": null,
   "outputs": [
    {
     "name": "stdout",
     "output_type": "stream",
     "text": [
      "showing info https://raw.githubusercontent.com/nltk/nltk_data/gh-pages/index.xml\n"
     ]
    }
   ],
   "source": [
    "nltk.download()"
   ],
   "metadata": {
    "collapsed": false,
    "pycharm": {
     "name": "#%%\n",
     "is_executing": true
    }
   }
  },
  {
   "cell_type": "code",
   "execution_count": 1,
   "outputs": [
    {
     "name": "stdout",
     "output_type": "stream",
     "text": [
      "*** Introductory Examples for the NLTK Book ***\n",
      "Loading text1, ..., text9 and sent1, ..., sent9\n",
      "Type the name of the text or sentence to view it.\n",
      "Type: 'texts()' or 'sents()' to list the materials.\n",
      "text1: Moby Dick by Herman Melville 1851\n",
      "text2: Sense and Sensibility by Jane Austen 1811\n",
      "text3: The Book of Genesis\n",
      "text4: Inaugural Address Corpus\n",
      "text5: Chat Corpus\n",
      "text6: Monty Python and the Holy Grail\n",
      "text7: Wall Street Journal\n",
      "text8: Personals Corpus\n",
      "text9: The Man Who Was Thursday by G . K . Chesterton 1908\n"
     ]
    }
   ],
   "source": [
    "from nltk.book import *"
   ],
   "metadata": {
    "collapsed": false,
    "pycharm": {
     "name": "#%%\n"
    }
   }
  },
  {
   "cell_type": "code",
   "execution_count": 2,
   "outputs": [
    {
     "data": {
      "text/plain": "<Text: Moby Dick by Herman Melville 1851>"
     },
     "execution_count": 2,
     "metadata": {},
     "output_type": "execute_result"
    }
   ],
   "source": [
    "text1"
   ],
   "metadata": {
    "collapsed": false,
    "pycharm": {
     "name": "#%%\n"
    }
   }
  },
  {
   "cell_type": "code",
   "execution_count": 3,
   "outputs": [
    {
     "data": {
      "text/plain": "<Text: Sense and Sensibility by Jane Austen 1811>"
     },
     "execution_count": 3,
     "metadata": {},
     "output_type": "execute_result"
    }
   ],
   "source": [
    "text2"
   ],
   "metadata": {
    "collapsed": false,
    "pycharm": {
     "name": "#%%\n"
    }
   }
  },
  {
   "cell_type": "code",
   "execution_count": 4,
   "outputs": [
    {
     "name": "stdout",
     "output_type": "stream",
     "text": [
      "Displaying 11 of 11 matches:\n",
      "ong the former , one was of a most monstrous size . ... This came towards us , \n",
      "ON OF THE PSALMS . \" Touching that monstrous bulk of the whale or ork we have r\n",
      "ll over with a heathenish array of monstrous clubs and spears . Some were thick\n",
      "d as you gazed , and wondered what monstrous cannibal and savage could ever hav\n",
      "that has survived the flood ; most monstrous and most mountainous ! That Himmal\n",
      "they might scout at Moby Dick as a monstrous fable , or still worse and more de\n",
      "th of Radney .'\" CHAPTER 55 Of the Monstrous Pictures of Whales . I shall ere l\n",
      "ing Scenes . In connexion with the monstrous pictures of whales , I am strongly\n",
      "ere to enter upon those still more monstrous stories of them which are to be fo\n",
      "ght have been rummaged out of this monstrous cabinet there is no telling . But \n",
      "of Whale - Bones ; for Whales of a monstrous size are oftentimes cast up dead u\n"
     ]
    }
   ],
   "source": [
    "text1.concordance(\"monstrous\")"
   ],
   "metadata": {
    "collapsed": false,
    "pycharm": {
     "name": "#%%\n"
    }
   }
  },
  {
   "cell_type": "code",
   "execution_count": 5,
   "outputs": [
    {
     "name": "stdout",
     "output_type": "stream",
     "text": [
      "Displaying 25 of 79 matches:\n",
      ", however , and , as a mark of his affection for the three girls , he left them\n",
      "t . It was very well known that no affection was ever supposed to exist between\n",
      "deration of politeness or maternal affection on the side of the former , the tw\n",
      "d the suspicion -- the hope of his affection for me may warrant , without impru\n",
      "hich forbade the indulgence of his affection . She knew that his mother neither\n",
      "rd she gave one with still greater affection . Though her late conversation wit\n",
      " can never hope to feel or inspire affection again , and if her home be uncomfo\n",
      "m of the sense , elegance , mutual affection , and domestic comfort of the fami\n",
      ", and which recommended him to her affection beyond every thing else . His soci\n",
      "ween the parties might forward the affection of Mr . Willoughby , an equally st\n",
      " the most pointed assurance of her affection . Elinor could not be surprised at\n",
      "he natural consequence of a strong affection in a young and ardent mind . This \n",
      " opinion . But by an appeal to her affection for her mother , by representing t\n",
      " every alteration of a place which affection had established as perfect with hi\n",
      "e will always have one claim of my affection , which no other can possibly shar\n",
      "f the evening declared at once his affection and happiness . \" Shall we see you\n",
      "ause he took leave of us with less affection than his usual behaviour has shewn\n",
      "ness .\" \" I want no proof of their affection ,\" said Elinor ; \" but of their en\n",
      "onths , without telling her of his affection ;-- that they should part without \n",
      "ould be the natural result of your affection for her . She used to be all unres\n",
      "distinguished Elinor by no mark of affection . Marianne saw and listened with i\n",
      "th no inclination for expense , no affection for strangers , no profession , an\n",
      "till distinguished her by the same affection which once she had felt no doubt o\n",
      "al of her confidence in Edward ' s affection , to the remembrance of every mark\n",
      " was made ? Had he never owned his affection to yourself ?\" \" Oh , no ; but if \n"
     ]
    }
   ],
   "source": [
    "text2.concordance(\"affection\")"
   ],
   "metadata": {
    "collapsed": false,
    "pycharm": {
     "name": "#%%\n"
    }
   }
  },
  {
   "cell_type": "code",
   "execution_count": 6,
   "outputs": [
    {
     "name": "stdout",
     "output_type": "stream",
     "text": [
      "Displaying 25 of 38 matches:\n",
      "ay when they were created . And Adam lived an hundred and thirty years , and be\n",
      "ughters : And all the days that Adam lived were nine hundred and thirty yea and\n",
      "nd thirty yea and he died . And Seth lived an hundred and five years , and bega\n",
      "ve years , and begat Enos : And Seth lived after he begat Enos eight hundred an\n",
      "welve years : and he died . And Enos lived ninety years , and begat Cainan : An\n",
      " years , and begat Cainan : And Enos lived after he begat Cainan eight hundred \n",
      "ive years : and he died . And Cainan lived seventy years and begat Mahalaleel :\n",
      "rs and begat Mahalaleel : And Cainan lived after he begat Mahalaleel eight hund\n",
      "years : and he died . And Mahalaleel lived sixty and five years , and begat Jar\n",
      "s , and begat Jared : And Mahalaleel lived after he begat Jared eight hundred a\n",
      "and five yea and he died . And Jared lived an hundred sixty and two years , and\n",
      "o years , and he begat Eno And Jared lived after he begat Enoch eight hundred y\n",
      " and two yea and he died . And Enoch lived sixty and five years , and begat Met\n",
      " ; for God took him . And Methuselah lived an hundred eighty and seven years , \n",
      " , and begat Lamech . And Methuselah lived after he begat Lamech seven hundred \n",
      "nd nine yea and he died . And Lamech lived an hundred eighty and two years , an\n",
      "ch the LORD hath cursed . And Lamech lived after he begat Noah five hundred nin\n",
      "naan shall be his servant . And Noah lived after the flood three hundred and fi\n",
      "xad two years after the flo And Shem lived after he begat Arphaxad five hundred\n",
      "at sons and daughters . And Arphaxad lived five and thirty years , and begat Sa\n",
      "ars , and begat Salah : And Arphaxad lived after he begat Salah four hundred an\n",
      "begat sons and daughters . And Salah lived thirty years , and begat Eber : And \n",
      "y years , and begat Eber : And Salah lived after he begat Eber four hundred and\n",
      " begat sons and daughters . And Eber lived four and thirty years , and begat Pe\n",
      "y years , and begat Peleg : And Eber lived after he begat Peleg four hundred an\n"
     ]
    }
   ],
   "source": [
    "text3.concordance(\"lived\")"
   ],
   "metadata": {
    "collapsed": false,
    "pycharm": {
     "name": "#%%\n"
    }
   }
  },
  {
   "cell_type": "code",
   "execution_count": 8,
   "outputs": [
    {
     "name": "stdout",
     "output_type": "stream",
     "text": [
      "Displaying 25 of 316 matches:\n",
      " to the character of an independent nation seems to have been distinguished by\n",
      "f Heaven can never be expected on a nation that disregards the eternal rules o\n",
      "first , the representatives of this nation , then consisting of little more th\n",
      ", situation , and relations of this nation and country than any which had ever\n",
      ", prosperity , and happiness of the nation I have acquired an habitual attachm\n",
      "an be no spectacle presented by any nation more pleasing , more noble , majest\n",
      "party for its own ends , not of the nation for the national good . If that sol\n",
      "tures and the people throughout the nation . On this subject it might become m\n",
      "if a personal esteem for the French nation , formed in a residence of seven ye\n",
      "f our fellow - citizens by whatever nation , and if success can not be obtaine\n",
      "y , continue His blessing upon this nation and its Government and give it all \n",
      "powers so justly inspire . A rising nation , spread over a wide and fruitful l\n",
      "ing now decided by the voice of the nation , announced according to the rules \n",
      "ars witness to the fact that a just nation is trusted on its word when recours\n",
      "e union of opinion which gives to a nation the blessing of harmony and the ben\n",
      "uil suffrage of a free and virtuous nation , would under any circumstances hav\n",
      "d spirit and united councils of the nation will be safeguards to its honor and\n",
      "iction that the war with a powerful nation , which forms so prominent a featur\n",
      "out breaking down the spirit of the nation , destroying all confidence in itse\n",
      "ed on the military resources of the nation . These resources are amply suffici\n",
      "the war to an honorable issue . Our nation is in number more than half that of\n",
      "ndividually have been happy and the nation prosperous . Under this Constitutio\n",
      "rights , and is able to protect the nation against injustice from foreign powe\n",
      " great agricultural interest of the nation prospers under its protection . Loc\n",
      "ak our Union , and demolish us as a nation . Our distance from Europe and the \n"
     ]
    }
   ],
   "source": [
    "text4.concordance(\"nation\")"
   ],
   "metadata": {
    "collapsed": false,
    "pycharm": {
     "name": "#%%\n"
    }
   }
  },
  {
   "cell_type": "code",
   "execution_count": 9,
   "outputs": [
    {
     "name": "stdout",
     "output_type": "stream",
     "text": [
      "Displaying 8 of 8 matches:\n",
      "menaces , by fraud or violence , by terror , intrigue , or venality , the Gove\n",
      "ameless , unreasoning , unjustified terror which paralyzes needed efforts to c\n",
      "ublic seemed frozen by a fatalistic terror , we proved that this is not true .\n",
      " to alter that uncertain balance of terror that stays the hand of mankind ' s \n",
      "eans freeing all Americans from the terror of runaway living costs . All must \n",
      "still . They fuel the fanaticism of terror . And they torment the lives of mil\n",
      "d maintain a strong defense against terror and destruction . Our children will\n",
      "k to advance their aims by inducing terror and slaughtering innocents , we say\n"
     ]
    }
   ],
   "source": [
    "text4.concordance(\"terror\")"
   ],
   "metadata": {
    "collapsed": false,
    "pycharm": {
     "name": "#%%\n"
    }
   }
  },
  {
   "cell_type": "code",
   "execution_count": 10,
   "outputs": [
    {
     "name": "stdout",
     "output_type": "stream",
     "text": [
      "Displaying 25 of 108 matches:\n",
      "eliance on the protection of Almighty God , I shall forthwith commence the duti\n",
      "humble , acknowledged dependence upon God and His overruling providence . We ha\n",
      "great office I must humbly invoke the God of our fathers for wisdom and firmnes\n",
      "d the same Bible and pray to the same God , and each invokes His aid against th\n",
      "hat any men should dare to ask a just God ' s assistance in wringing their brea\n",
      "offenses which , in the providence of God , must needs come , but which , havin\n",
      "butes which the believers in a living God always ascribe to Him ? Fondly do we \n",
      "war may speedily pass away . Yet , if God wills that it continue until all the \n",
      "r all , with firmness in the right as God gives us to see the right , let us st\n",
      "the prayers of the nation to Almighty God in behalf of this consummation . Fell\n",
      "r , they have \" followed the light as God gave them to see the light .\" They ar\n",
      "ess their fathers and their fathers ' God that the Union was preserved , that s\n",
      "the support and blessings of Almighty God . Fellow citizens , in the presence o\n",
      "ng the power and goodness of Almighty God , who presides over the destiny of na\n",
      "expect the favor and help of Almighty God -- that He will give to me wisdom , s\n",
      " suggestion to enterprise and labor . God has placed upon our head a diadem and\n",
      "urn than the pledge I now give before God and these witnesses of unreserved and\n",
      "han human life can escape the laws of God and nature . Manifestly nothing is mo\n",
      "and invoking the guidance of Almighty God . Our faith teaches that there is no \n",
      "re is no safer reliance than upon the God of our fathers , who has so singularl\n",
      "e the direction and favor of Almighty God . I should shrink from the duties thi\n",
      " devolve upon it , and in the fear of God will \" take occasion by the hand and \n",
      " citizens and the aid of the Almighty God in the discharge of my responsible du\n",
      "our heartstrings like some air out of God ' s own presence , where justice and \n",
      " forward - looking men , to my side . God helping me , I will not fail them , i\n"
     ]
    }
   ],
   "source": [
    "text4.concordance(\"god\")"
   ],
   "metadata": {
    "collapsed": false,
    "pycharm": {
     "name": "#%%\n"
    }
   }
  },
  {
   "cell_type": "code",
   "execution_count": null,
   "outputs": [],
   "source": [
    "text5.concordance(\"im\")"
   ],
   "metadata": {
    "collapsed": false,
    "pycharm": {
     "name": "#%%\n"
    }
   }
  },
  {
   "cell_type": "code",
   "execution_count": 12,
   "outputs": [
    {
     "name": "stdout",
     "output_type": "stream",
     "text": [
      "Displaying 21 of 21 matches:\n",
      "k up PART no i dont want daughters !! ur annoying . ACTION Now Playing - Cradl\n",
      "ooo U92 !!!!!! . ACTION U1370 watches ur nad with a stick . ca u U23 ewwww lol\n",
      "er lip . Meep . ACTION is resisting . ur female right lol U115 beeeeehave Reme\n",
      " geeshh ... two kids fighting ! whats ur major i probably sucks in summer too \n",
      "II Men scorpions rock ... lol what is ur job me too U11 hehe went to manhattan\n",
      "e no one i like to say if u have done ur time then that is that U42 Ok U37 , i\n",
      "hat a ride JOIN ty ty cheers babes .. ur the first to follow up with the pseud\n",
      " charger \\ty LoL yeah ;-) well i hope ur doing ok .. i 'm dojn fine babe . . g\n",
      " gonna rock up soojn and rob u of all ur ' candy ' :) as long as you are happy\n",
      "genital warts ? LoL moped U28 ?.. ohh ur a real man i had a moped once yup heh\n",
      "b-day is in 5 days =( PART LOL U35 no ur nawt yup your gay lmao U37 dang come \n",
      " people talk to me anymore oh because ur gay . PART PART . ACTION = U58 . Man \n",
      " om hi U73 heya U7 ! h shit i get all ur money now fawker ok girl lol JOIN ed \n",
      "hat tired huh U66 ? lol U75 ... bring ur pillow get comfy U70 yep , off to bed\n",
      "talked to hi sean . ACTION whispers : ur a douche . who PART . ACTION whispers\n",
      "ew england usa ? U7 .. it adds wax to ur clothes .. u think cottons breathe ?.\n",
      "ver knew what flavor to get specially ur towels lol U31 < whistles > U34 U39 I\n",
      "cks out U7 s pic JOIN PART U41 Hi U41 ur gettin pretty savvy there U39 ahhh ..\n",
      "om ? brb U30 a week .. heck a day and ur problem there , U30 ??? Hi U34 hartfo\n",
      " JOIN U57 Whats really good room JOIN ur telllin me hey any uk girls her ? JOI\n",
      "JOIN PART JOIN JOIN yea guitar rocker ur kool u lil guitar rocker PART whats e\n"
     ]
    }
   ],
   "source": [
    "text5.concordance(\"ur\")"
   ],
   "metadata": {
    "collapsed": false,
    "pycharm": {
     "name": "#%%\n"
    }
   }
  },
  {
   "cell_type": "code",
   "execution_count": 13,
   "outputs": [
    {
     "name": "stdout",
     "output_type": "stream",
     "text": [
      "Displaying 25 of 822 matches:\n",
      "ast PART 24 / m boo . 26 / m and sexy lol U115 boo . JOIN PART he drew a girl w\n",
      "ope he didnt draw a penis PART ewwwww lol & a head between her legs JOIN JOIN s\n",
      "a bowl i got a blunt an a bong ...... lol JOIN well , glad it worked out my cha\n",
      "e \" PART Hi U121 in ny . ACTION would lol @ U121 . . . but appearently she does\n",
      "30 make sure u buy a nice ring for U6 lol U7 Hi U115 . ACTION isnt falling for \n",
      " didnt ya hear !!!! PART JOIN geeshhh lol U6 PART hes deaf ppl here dont get it\n",
      "es nobody here i wanna misbeahve with lol JOIN so read it . thanks U7 .. Im hap\n",
      "ies want to chat can i talk to him !! lol U121 !!! forwards too lol JOIN ALL PE\n",
      "k to him !! lol U121 !!! forwards too lol JOIN ALL PErvs ... redirect to U121 '\n",
      " loves ME the most i love myself JOIN lol U44 how do u know that what ? jerkett\n",
      "ng wrong ... i can see it in his eyes lol U20 = fiance Jerketts lmao wtf yah I \n",
      "cooler by the minute what 'd I miss ? lol noo there too much work ! why not ?? \n",
      " that mean I want you ? U6 hello room lol U83 and this .. has been the grammar \n",
      " the rule he 's in PM land now though lol ah ok i wont bug em then someone wann\n",
      "flight to hell :) lmao bbl maybe PART LOL lol U7 it was me , U83 hahah U83 ! 80\n",
      "ht to hell :) lmao bbl maybe PART LOL lol U7 it was me , U83 hahah U83 ! 808265\n",
      "082653953 K-Fed got his ass kicked .. Lol . ACTION laughs . i got a first class\n",
      " . i got a first class ticket to hell lol U7 JOIN any texas girls in here ? any\n",
      " . whats up U155 i was only kidding . lol he 's a douchebag . Poor U121 i 'm bo\n",
      " ??? sits with U30 Cum to my shower . lol U121 . ACTION U1370 watches his nads \n",
      " ur nad with a stick . ca u U23 ewwww lol *sniffs* ewwwwww PART U115 ! owww spl\n",
      "ACTION is resisting . ur female right lol U115 beeeeehave Remember the LAst tim\n",
      "pm's me . charge that is 1.99 / min . lol @ innocent hahah lol .... yeah LOLOLO\n",
      " is 1.99 / min . lol @ innocent hahah lol .... yeah LOLOLOLLL U12 thats not nic\n",
      "s . lmao no U115 Check my record . :) Lol lick em U7 U23 how old r u lol Way to\n"
     ]
    }
   ],
   "source": [
    "text5.concordance(\"lol\")"
   ],
   "metadata": {
    "collapsed": false,
    "pycharm": {
     "name": "#%%\n"
    }
   }
  },
  {
   "cell_type": "code",
   "execution_count": 14,
   "outputs": [
    {
     "name": "stdout",
     "output_type": "stream",
     "text": [
      "true contemptible christian abundant few part mean careful puzzled\n",
      "mystifying passing curious loving wise doleful gamesome singular\n",
      "delightfully perilous fearless\n"
     ]
    }
   ],
   "source": [
    "text1.similar(\"monstrous\")"
   ],
   "metadata": {
    "collapsed": false,
    "pycharm": {
     "name": "#%%\n"
    }
   }
  },
  {
   "cell_type": "code",
   "execution_count": 15,
   "outputs": [
    {
     "name": "stdout",
     "output_type": "stream",
     "text": [
      "very so exceedingly heartily a as good great extremely remarkably\n",
      "sweet vast amazingly\n"
     ]
    }
   ],
   "source": [
    "text2.similar(\"monstrous\")"
   ],
   "metadata": {
    "collapsed": false,
    "pycharm": {
     "name": "#%%\n"
    }
   }
  },
  {
   "cell_type": "code",
   "execution_count": 16,
   "outputs": [
    {
     "name": "stdout",
     "output_type": "stream",
     "text": [
      "am_glad a_pretty a_lucky is_pretty be_glad\n"
     ]
    }
   ],
   "source": [
    "text2.common_contexts([\"monstrous\", \"very\"])"
   ],
   "metadata": {
    "collapsed": false,
    "pycharm": {
     "name": "#%%\n"
    }
   }
  },
  {
   "cell_type": "code",
   "execution_count": 17,
   "outputs": [
    {
     "data": {
      "text/plain": "<Figure size 432x288 with 1 Axes>",
      "image/png": "[encoded data removed]"
     },
     "metadata": {
      "needs_background": "light"
     },
     "output_type": "display_data"
    }
   ],
   "source": [
    "text4.dispersion_plot([\"citizens\", \"democracy\", \"freedom\", \"duties\", \"America\"])"
   ],
   "metadata": {
    "collapsed": false,
    "pycharm": {
     "name": "#%%\n"
    }
   }
  },
  {
   "cell_type": "code",
   "execution_count": 19,
   "outputs": [
    {
     "name": "stderr",
     "output_type": "stream",
     "text": [
      "Building ngram index...\n"
     ]
    },
    {
     "name": "stdout",
     "output_type": "stream",
     "text": [
      "laid by her , and said unto Cain , Where art thou , and said , Go to ,\n",
      "I will not do it for ten ' s sons ; we dreamed each man according to\n",
      "their generatio the firstborn said unto Laban , Because I said , Nay ,\n",
      "but Sarah shall her name be . , duke Elah , duke Shobal , and Akan .\n",
      "and looked upon my affliction . Bashemath Ishmael ' s blood , but Isra\n",
      "for as a prince hast thou found of all the cattle in the valley , and\n",
      "the wo The\n"
     ]
    },
    {
     "data": {
      "text/plain": "\"laid by her , and said unto Cain , Where art thou , and said , Go to ,\\nI will not do it for ten ' s sons ; we dreamed each man according to\\ntheir generatio the firstborn said unto Laban , Because I said , Nay ,\\nbut Sarah shall her name be . , duke Elah , duke Shobal , and Akan .\\nand looked upon my affliction . Bashemath Ishmael ' s blood , but Isra\\nfor as a prince hast thou found of all the cattle in the valley , and\\nthe wo The\""
     },
     "execution_count": 19,
     "metadata": {},
     "output_type": "execute_result"
    }
   ],
   "source": [
    "text3.generate()"
   ],
   "metadata": {
    "collapsed": false,
    "pycharm": {
     "name": "#%%\n"
    }
   }
  },
  {
   "cell_type": "code",
   "execution_count": 20,
   "outputs": [
    {
     "data": {
      "text/plain": "44764"
     },
     "execution_count": 20,
     "metadata": {},
     "output_type": "execute_result"
    }
   ],
   "source": [
    "len(text3)"
   ],
   "metadata": {
    "collapsed": false,
    "pycharm": {
     "name": "#%%\n"
    }
   }
  },
  {
   "cell_type": "code",
   "execution_count": 21,
   "outputs": [
    {
     "data": {
      "text/plain": "['!',\n \"'\",\n '(',\n ')',\n ',',\n ',)',\n '.',\n '.)',\n ':',\n ';',\n ';)',\n '?',\n '?)',\n 'A',\n 'Abel',\n 'Abelmizraim',\n 'Abidah',\n 'Abide',\n 'Abimael',\n 'Abimelech',\n 'Abr',\n 'Abrah',\n 'Abraham',\n 'Abram',\n 'Accad',\n 'Achbor',\n 'Adah',\n 'Adam',\n 'Adbeel',\n 'Admah',\n 'Adullamite',\n 'After',\n 'Aholibamah',\n 'Ahuzzath',\n 'Ajah',\n 'Akan',\n 'All',\n 'Allonbachuth',\n 'Almighty',\n 'Almodad',\n 'Also',\n 'Alvah',\n 'Alvan',\n 'Am',\n 'Amal',\n 'Amalek',\n 'Amalekites',\n 'Ammon',\n 'Amorite',\n 'Amorites',\n 'Amraphel',\n 'An',\n 'Anah',\n 'Anamim',\n 'And',\n 'Aner',\n 'Angel',\n 'Appoint',\n 'Aram',\n 'Aran',\n 'Ararat',\n 'Arbah',\n 'Ard',\n 'Are',\n 'Areli',\n 'Arioch',\n 'Arise',\n 'Arkite',\n 'Arodi',\n 'Arphaxad',\n 'Art',\n 'Arvadite',\n 'As',\n 'Asenath',\n 'Ashbel',\n 'Asher',\n 'Ashkenaz',\n 'Ashteroth',\n 'Ask',\n 'Asshur',\n 'Asshurim',\n 'Assyr',\n 'Assyria',\n 'At',\n 'Atad',\n 'Avith',\n 'Baalhanan',\n 'Babel',\n 'Bashemath',\n 'Be',\n 'Because',\n 'Becher',\n 'Bedad',\n 'Beeri',\n 'Beerlahairoi',\n 'Beersheba',\n 'Behold',\n 'Bela',\n 'Belah',\n 'Benam',\n 'Benjamin',\n 'Beno',\n 'Beor',\n 'Bera',\n 'Bered',\n 'Beriah',\n 'Bethel',\n 'Bethlehem',\n 'Bethuel',\n 'Beware',\n 'Bilhah',\n 'Bilhan',\n 'Binding',\n 'Birsha',\n 'Bless',\n 'Blessed',\n 'Both',\n 'Bow',\n 'Bozrah',\n 'Bring',\n 'But',\n 'Buz',\n 'By',\n 'Cain',\n 'Cainan',\n 'Calah',\n 'Calneh',\n 'Can',\n 'Cana',\n 'Canaan',\n 'Canaanite',\n 'Canaanites',\n 'Canaanitish',\n 'Caphtorim',\n 'Carmi',\n 'Casluhim',\n 'Cast',\n 'Cause',\n 'Chaldees',\n 'Chedorlaomer',\n 'Cheran',\n 'Cherubims',\n 'Chesed',\n 'Chezib',\n 'Come',\n 'Cursed',\n 'Cush',\n 'Damascus',\n 'Dan',\n 'Day',\n 'Deborah',\n 'Dedan',\n 'Deliver',\n 'Diklah',\n 'Din',\n 'Dinah',\n 'Dinhabah',\n 'Discern',\n 'Dishan',\n 'Dishon',\n 'Do',\n 'Dodanim',\n 'Dothan',\n 'Drink',\n 'Duke',\n 'Dumah',\n 'Earth',\n 'Ebal',\n 'Eber',\n 'Edar',\n 'Eden',\n 'Edom',\n 'Edomites',\n 'Egy',\n 'Egypt',\n 'Egyptia',\n 'Egyptian',\n 'Egyptians',\n 'Ehi',\n 'Elah',\n 'Elam',\n 'Elbethel',\n 'Eldaah',\n 'EleloheIsrael',\n 'Eliezer',\n 'Eliphaz',\n 'Elishah',\n 'Ellasar',\n 'Elon',\n 'Elparan',\n 'Emins',\n 'En',\n 'Enmishpat',\n 'Eno',\n 'Enoch',\n 'Enos',\n 'Ephah',\n 'Epher',\n 'Ephra',\n 'Ephraim',\n 'Ephrath',\n 'Ephron',\n 'Er',\n 'Erech',\n 'Eri',\n 'Es',\n 'Esau',\n 'Escape',\n 'Esek',\n 'Eshban',\n 'Eshcol',\n 'Ethiopia',\n 'Euphrat',\n 'Euphrates',\n 'Eve',\n 'Even',\n 'Every',\n 'Except',\n 'Ezbon',\n 'Ezer',\n 'Fear',\n 'Feed',\n 'Fifteen',\n 'Fill',\n 'For',\n 'Forasmuch',\n 'Forgive',\n 'From',\n 'Fulfil',\n 'G',\n 'Gad',\n 'Gaham',\n 'Galeed',\n 'Gatam',\n 'Gather',\n 'Gaza',\n 'Gentiles',\n 'Gera',\n 'Gerar',\n 'Gershon',\n 'Get',\n 'Gether',\n 'Gihon',\n 'Gilead',\n 'Girgashites',\n 'Girgasite',\n 'Give',\n 'Go',\n 'God',\n 'Gomer',\n 'Gomorrah',\n 'Goshen',\n 'Guni',\n 'Hadad',\n 'Hadar',\n 'Hadoram',\n 'Hagar',\n 'Haggi',\n 'Hai',\n 'Ham',\n 'Hamathite',\n 'Hamor',\n 'Hamul',\n 'Hanoch',\n 'Happy',\n 'Haran',\n 'Hast',\n 'Haste',\n 'Have',\n 'Havilah',\n 'Hazarmaveth',\n 'Hazezontamar',\n 'Hazo',\n 'He',\n 'Hear',\n 'Heaven',\n 'Heber',\n 'Hebrew',\n 'Hebrews',\n 'Hebron',\n 'Hemam',\n 'Hemdan',\n 'Here',\n 'Hereby',\n 'Heth',\n 'Hezron',\n 'Hiddekel',\n 'Hinder',\n 'Hirah',\n 'His',\n 'Hitti',\n 'Hittite',\n 'Hittites',\n 'Hivite',\n 'Hobah',\n 'Hori',\n 'Horite',\n 'Horites',\n 'How',\n 'Hul',\n 'Huppim',\n 'Husham',\n 'Hushim',\n 'Huz',\n 'I',\n 'If',\n 'In',\n 'Irad',\n 'Iram',\n 'Is',\n 'Isa',\n 'Isaac',\n 'Iscah',\n 'Ishbak',\n 'Ishmael',\n 'Ishmeelites',\n 'Ishuah',\n 'Isra',\n 'Israel',\n 'Issachar',\n 'Isui',\n 'It',\n 'Ithran',\n 'Jaalam',\n 'Jabal',\n 'Jabbok',\n 'Jac',\n 'Jachin',\n 'Jacob',\n 'Jahleel',\n 'Jahzeel',\n 'Jamin',\n 'Japhe',\n 'Japheth',\n 'Jared',\n 'Javan',\n 'Jebusite',\n 'Jebusites',\n 'Jegarsahadutha',\n 'Jehovahjireh',\n 'Jemuel',\n 'Jerah',\n 'Jetheth',\n 'Jetur',\n 'Jeush',\n 'Jezer',\n 'Jidlaph',\n 'Jimnah',\n 'Job',\n 'Jobab',\n 'Jokshan',\n 'Joktan',\n 'Jordan',\n 'Joseph',\n 'Jubal',\n 'Judah',\n 'Judge',\n 'Judith',\n 'Kadesh',\n 'Kadmonites',\n 'Karnaim',\n 'Kedar',\n 'Kedemah',\n 'Kemuel',\n 'Kenaz',\n 'Kenites',\n 'Kenizzites',\n 'Keturah',\n 'Kiriathaim',\n 'Kirjatharba',\n 'Kittim',\n 'Know',\n 'Kohath',\n 'Kor',\n 'Korah',\n 'LO',\n 'LORD',\n 'Laban',\n 'Lahairoi',\n 'Lamech',\n 'Lasha',\n 'Lay',\n 'Leah',\n 'Lehabim',\n 'Lest',\n 'Let',\n 'Letushim',\n 'Leummim',\n 'Levi',\n 'Lie',\n 'Lift',\n 'Lo',\n 'Look',\n 'Lot',\n 'Lotan',\n 'Lud',\n 'Ludim',\n 'Luz',\n 'Maachah',\n 'Machir',\n 'Machpelah',\n 'Madai',\n 'Magdiel',\n 'Magog',\n 'Mahalaleel',\n 'Mahalath',\n 'Mahanaim',\n 'Make',\n 'Malchiel',\n 'Male',\n 'Mam',\n 'Mamre',\n 'Man',\n 'Manahath',\n 'Manass',\n 'Manasseh',\n 'Mash',\n 'Masrekah',\n 'Massa',\n 'Matred',\n 'Me',\n 'Medan',\n 'Mehetabel',\n 'Mehujael',\n 'Melchizedek',\n 'Merari',\n 'Mesha',\n 'Meshech',\n 'Mesopotamia',\n 'Methusa',\n 'Methusael',\n 'Methuselah',\n 'Mezahab',\n 'Mibsam',\n 'Mibzar',\n 'Midian',\n 'Midianites',\n 'Milcah',\n 'Mishma',\n 'Mizpah',\n 'Mizraim',\n 'Mizz',\n 'Moab',\n 'Moabites',\n 'Moreh',\n 'Moreover',\n 'Moriah',\n 'Muppim',\n 'My',\n 'Naamah',\n 'Naaman',\n 'Nahath',\n 'Nahor',\n 'Naphish',\n 'Naphtali',\n 'Naphtuhim',\n 'Nay',\n 'Nebajoth',\n 'Neither',\n 'Night',\n 'Nimrod',\n 'Nineveh',\n 'Noah',\n 'Nod',\n 'Not',\n 'Now',\n 'O',\n 'Obal',\n 'Of',\n 'Oh',\n 'Ohad',\n 'Omar',\n 'On',\n 'Onam',\n 'Onan',\n 'Only',\n 'Ophir',\n 'Our',\n 'Out',\n 'Padan',\n 'Padanaram',\n 'Paran',\n 'Pass',\n 'Pathrusim',\n 'Pau',\n 'Peace',\n 'Peleg',\n 'Peniel',\n 'Penuel',\n 'Peradventure',\n 'Perizzit',\n 'Perizzite',\n 'Perizzites',\n 'Phallu',\n 'Phara',\n 'Pharaoh',\n 'Pharez',\n 'Phichol',\n 'Philistim',\n 'Philistines',\n 'Phut',\n 'Phuvah',\n 'Pildash',\n 'Pinon',\n 'Pison',\n 'Potiphar',\n 'Potipherah',\n 'Put',\n 'Raamah',\n 'Rachel',\n 'Rameses',\n 'Rebek',\n 'Rebekah',\n 'Rehoboth',\n 'Remain',\n 'Rephaims',\n 'Resen',\n 'Return',\n 'Reu',\n 'Reub',\n 'Reuben',\n 'Reuel',\n 'Reumah',\n 'Riphath',\n 'Rosh',\n 'Sabtah',\n 'Sabtech',\n 'Said',\n 'Salah',\n 'Salem',\n 'Samlah',\n 'Sarah',\n 'Sarai',\n 'Saul',\n 'Save',\n 'Say',\n 'Se',\n 'Seba',\n 'See',\n 'Seeing',\n 'Seir',\n 'Sell',\n 'Send',\n 'Sephar',\n 'Serah',\n 'Sered',\n 'Serug',\n 'Set',\n 'Seth',\n 'Shalem',\n 'Shall',\n 'Shalt',\n 'Shammah',\n 'Shaul',\n 'Shaveh',\n 'She',\n 'Sheba',\n 'Shebah',\n 'Shechem',\n 'Shed',\n 'Shel',\n 'Shelah',\n 'Sheleph',\n 'Shem',\n 'Shemeber',\n 'Shepho',\n 'Shillem',\n 'Shiloh',\n 'Shimron',\n 'Shinab',\n 'Shinar',\n 'Shobal',\n 'Should',\n 'Shuah',\n 'Shuni',\n 'Shur',\n 'Sichem',\n 'Siddim',\n 'Sidon',\n 'Simeon',\n 'Sinite',\n 'Sitnah',\n 'Slay',\n 'So',\n 'Sod',\n 'Sodom',\n 'Sojourn',\n 'Some',\n 'Spake',\n 'Speak',\n 'Spirit',\n 'Stand',\n 'Succoth',\n 'Surely',\n 'Swear',\n 'Syrian',\n 'Take',\n 'Tamar',\n 'Tarshish',\n 'Tebah',\n 'Tell',\n 'Tema',\n 'Teman',\n 'Temani',\n 'Terah',\n 'Thahash',\n 'That',\n 'The',\n 'Then',\n 'There',\n 'Therefore',\n 'These',\n 'They',\n 'Thirty',\n 'This',\n 'Thorns',\n 'Thou',\n 'Thus',\n 'Thy',\n 'Tidal',\n 'Timna',\n 'Timnah',\n 'Timnath',\n 'Tiras',\n 'To',\n 'Togarmah',\n 'Tola',\n 'Tubal',\n 'Tubalcain',\n 'Twelve',\n 'Two',\n 'Unstable',\n 'Until',\n 'Unto',\n 'Up',\n 'Upon',\n 'Ur',\n 'Uz',\n 'Uzal',\n 'We',\n 'What',\n 'When',\n 'Whence',\n 'Where',\n 'Whereas',\n 'Wherefore',\n 'Which',\n 'While',\n 'Who',\n 'Whose',\n 'Whoso',\n 'Why',\n 'Wilt',\n 'With',\n 'Woman',\n 'Ye',\n 'Yea',\n 'Yet',\n 'Zaavan',\n 'Zaphnathpaaneah',\n 'Zar',\n 'Zarah',\n 'Zeboiim',\n 'Zeboim',\n 'Zebul',\n 'Zebulun',\n 'Zemarite',\n 'Zepho',\n 'Zerah',\n 'Zibeon',\n 'Zidon',\n 'Zillah',\n 'Zilpah',\n 'Zimran',\n 'Ziphion',\n 'Zo',\n 'Zoar',\n 'Zohar',\n 'Zuzims',\n 'a',\n 'abated',\n 'abide',\n 'able',\n 'abode',\n 'abomination',\n 'about',\n 'above',\n 'abroad',\n 'absent',\n 'abundantly',\n 'accept',\n 'accepted',\n 'according',\n 'acknowledged',\n 'activity',\n 'add',\n 'adder',\n 'afar',\n 'afflict',\n 'affliction',\n 'afraid',\n 'after',\n 'afterward',\n 'afterwards',\n 'aga',\n 'again',\n 'against',\n 'age',\n 'aileth',\n 'air',\n 'al',\n 'alive',\n 'all',\n 'almon',\n 'alo',\n 'alone',\n 'aloud',\n 'also',\n 'altar',\n 'altogether',\n 'always',\n 'am',\n 'among',\n 'amongst',\n 'an',\n 'and',\n 'angel',\n 'angels',\n 'anger',\n 'angry',\n 'anguish',\n 'anointedst',\n 'anoth',\n 'another',\n 'answer',\n 'answered',\n 'any',\n 'anything',\n 'appe',\n 'appear',\n 'appeared',\n 'appease',\n 'appoint',\n 'appointed',\n 'aprons',\n 'archer',\n 'archers',\n 'are',\n 'arise',\n 'ark',\n 'armed',\n 'arms',\n 'army',\n 'arose',\n 'arrayed',\n 'art',\n 'artificer',\n 'as',\n 'ascending',\n 'ash',\n 'ashamed',\n 'ask',\n 'asked',\n 'asketh',\n 'ass',\n 'assembly',\n 'asses',\n 'assigned',\n 'asswaged',\n 'at',\n 'attained',\n 'audience',\n 'avenged',\n 'aw',\n 'awaked',\n 'away',\n 'awoke',\n 'back',\n 'backward',\n 'bad',\n 'bade',\n 'badest',\n 'badne',\n 'bak',\n 'bake',\n 'bakemeats',\n 'baker',\n 'bakers',\n 'balm',\n 'bands',\n 'bank',\n 'bare',\n 'barr',\n 'barren',\n 'basket',\n 'baskets',\n 'battle',\n 'bdellium',\n 'be',\n 'bear',\n 'beari',\n 'bearing',\n 'beast',\n 'beasts',\n 'beautiful',\n 'became',\n 'because',\n 'become',\n 'bed',\n 'been',\n 'befall',\n 'befell',\n 'before',\n 'began',\n 'begat',\n 'beget',\n 'begettest',\n 'begin',\n 'beginning',\n 'begotten',\n 'beguiled',\n 'beheld',\n 'behind',\n 'behold',\n 'being',\n 'believed',\n 'belly',\n 'belong',\n 'beneath',\n 'bereaved',\n 'beside',\n 'besides',\n 'besought',\n 'best',\n 'betimes',\n 'better',\n 'between',\n 'betwixt',\n 'beyond',\n 'binding',\n 'bird',\n 'birds',\n 'birthday',\n 'birthright',\n 'biteth',\n 'bitter',\n 'blame',\n 'blameless',\n 'blasted',\n 'bless',\n 'blessed',\n 'blesseth',\n 'blessi',\n 'blessing',\n 'blessings',\n 'blindness',\n 'blood',\n 'blossoms',\n 'bodies',\n 'boldly',\n 'bondman',\n 'bondmen',\n 'bondwoman',\n 'bone',\n 'bones',\n 'book',\n 'booths',\n 'border',\n 'borders',\n 'born',\n 'bosom',\n 'both',\n 'bottle',\n 'bou',\n 'boug',\n 'bough',\n 'bought',\n 'bound',\n 'bow',\n 'bowed',\n 'bowels',\n 'bowing',\n 'boys',\n 'bracelets',\n 'branches',\n 'brass',\n 'bre',\n 'breach',\n 'bread',\n 'breadth',\n 'break',\n 'breaketh',\n 'breaking',\n 'breasts',\n 'breath',\n 'breathed',\n 'breed',\n 'brethren',\n 'brick',\n 'brimstone',\n 'bring',\n 'brink',\n 'broken',\n 'brook',\n 'broth',\n 'brother',\n 'brought',\n 'brown',\n 'bruise',\n 'budded',\n 'build',\n 'builded',\n 'built',\n 'bulls',\n 'bundle',\n 'bundles',\n 'burdens',\n 'buried',\n 'burn',\n 'burning',\n 'burnt',\n 'bury',\n 'buryingplace',\n 'business',\n 'but',\n 'butler',\n 'butlers',\n 'butlership',\n 'butter',\n 'buy',\n 'by',\n 'cakes',\n 'calf',\n 'call',\n 'called',\n 'came',\n 'camel',\n 'camels',\n 'camest',\n 'can',\n 'cannot',\n 'canst',\n 'captain',\n 'captive',\n 'captives',\n 'carcases',\n 'carried',\n 'carry',\n 'cast',\n 'castles',\n 'catt',\n 'cattle',\n 'caught',\n 'cause',\n 'caused',\n 'cave',\n 'cease',\n 'ceased',\n 'certain',\n 'certainly',\n 'chain',\n 'chamber',\n 'change',\n 'changed',\n 'changes',\n 'charge',\n 'charged',\n 'chariot',\n 'chariots',\n 'chesnut',\n 'chi',\n 'chief',\n 'child',\n 'childless',\n 'childr',\n 'children',\n 'chode',\n 'choice',\n 'chose',\n 'circumcis',\n 'circumcise',\n 'circumcised',\n 'citi',\n 'cities',\n 'city',\n 'clave',\n 'clean',\n 'clear',\n 'cleave',\n 'clo',\n 'closed',\n 'clothed',\n 'clothes',\n 'cloud',\n 'clusters',\n 'co',\n 'coat',\n 'coats',\n 'coffin',\n 'cold',\n ...]"
     },
     "execution_count": 21,
     "metadata": {},
     "output_type": "execute_result"
    }
   ],
   "source": [
    "sorted(set(text3))"
   ],
   "metadata": {
    "collapsed": false,
    "pycharm": {
     "name": "#%%\n"
    }
   }
  },
  {
   "cell_type": "code",
   "execution_count": 22,
   "outputs": [],
   "source": [
    "from __future__ import division"
   ],
   "metadata": {
    "collapsed": false,
    "pycharm": {
     "name": "#%%\n"
    }
   }
  },
  {
   "cell_type": "code",
   "execution_count": 23,
   "outputs": [
    {
     "data": {
      "text/plain": "16.050197203298673"
     },
     "execution_count": 23,
     "metadata": {},
     "output_type": "execute_result"
    }
   ],
   "source": [
    "len(text3) / len(set(text3))"
   ],
   "metadata": {
    "collapsed": false,
    "pycharm": {
     "name": "#%%\n"
    }
   }
  },
  {
   "cell_type": "code",
   "execution_count": 24,
   "outputs": [
    {
     "data": {
      "text/plain": "5"
     },
     "execution_count": 24,
     "metadata": {},
     "output_type": "execute_result"
    }
   ],
   "source": [
    "text3.count(\"smote\")"
   ],
   "metadata": {
    "collapsed": false,
    "pycharm": {
     "name": "#%%\n"
    }
   }
  },
  {
   "cell_type": "code",
   "execution_count": 25,
   "outputs": [
    {
     "data": {
      "text/plain": "1.457973123627309"
     },
     "execution_count": 25,
     "metadata": {},
     "output_type": "execute_result"
    }
   ],
   "source": [
    "100 * text4.count('a') / len(text4)"
   ],
   "metadata": {
    "collapsed": false,
    "pycharm": {
     "name": "#%%\n"
    }
   }
  },
  {
   "cell_type": "code",
   "execution_count": 26,
   "outputs": [],
   "source": [
    "def lexical_diversity(text):\n",
    "    return len(text) / len(set(text))"
   ],
   "metadata": {
    "collapsed": false,
    "pycharm": {
     "name": "#%%\n"
    }
   }
  },
  {
   "cell_type": "code",
   "execution_count": 27,
   "outputs": [],
   "source": [
    "def percentage(count, total):\n",
    "    return 100 * count / total"
   ],
   "metadata": {
    "collapsed": false,
    "pycharm": {
     "name": "#%%\n"
    }
   }
  },
  {
   "cell_type": "code",
   "execution_count": 28,
   "outputs": [
    {
     "data": {
      "text/plain": "16.050197203298673"
     },
     "execution_count": 28,
     "metadata": {},
     "output_type": "execute_result"
    }
   ],
   "source": [
    "lexical_diversity(text3)"
   ],
   "metadata": {
    "collapsed": false,
    "pycharm": {
     "name": "#%%\n"
    }
   }
  },
  {
   "cell_type": "code",
   "execution_count": 29,
   "outputs": [
    {
     "data": {
      "text/plain": "7.420046158918563"
     },
     "execution_count": 29,
     "metadata": {},
     "output_type": "execute_result"
    }
   ],
   "source": [
    "lexical_diversity(text5)"
   ],
   "metadata": {
    "collapsed": false,
    "pycharm": {
     "name": "#%%\n"
    }
   }
  },
  {
   "cell_type": "code",
   "execution_count": 30,
   "outputs": [
    {
     "data": {
      "text/plain": "80.0"
     },
     "execution_count": 30,
     "metadata": {},
     "output_type": "execute_result"
    }
   ],
   "source": [
    "percentage(4, 5)"
   ],
   "metadata": {
    "collapsed": false,
    "pycharm": {
     "name": "#%%\n"
    }
   }
  },
  {
   "cell_type": "code",
   "execution_count": 31,
   "outputs": [
    {
     "data": {
      "text/plain": "1.457973123627309"
     },
     "execution_count": 31,
     "metadata": {},
     "output_type": "execute_result"
    }
   ],
   "source": [
    "percentage(text4.count('a'), len(text4))"
   ],
   "metadata": {
    "collapsed": false,
    "pycharm": {
     "name": "#%%\n"
    }
   }
  },
  {
   "cell_type": "code",
   "execution_count": 32,
   "outputs": [],
   "source": [
    "sent1 = ['Call', 'me', 'Ishmael', '.']"
   ],
   "metadata": {
    "collapsed": false,
    "pycharm": {
     "name": "#%%\n"
    }
   }
  },
  {
   "cell_type": "code",
   "execution_count": 33,
   "outputs": [
    {
     "data": {
      "text/plain": "['Call', 'me', 'Ishmael', '.']"
     },
     "execution_count": 33,
     "metadata": {},
     "output_type": "execute_result"
    }
   ],
   "source": [
    "sent1"
   ],
   "metadata": {
    "collapsed": false,
    "pycharm": {
     "name": "#%%\n"
    }
   }
  },
  {
   "cell_type": "code",
   "execution_count": 34,
   "outputs": [
    {
     "data": {
      "text/plain": "4"
     },
     "execution_count": 34,
     "metadata": {},
     "output_type": "execute_result"
    }
   ],
   "source": [
    "len(sent1)"
   ],
   "metadata": {
    "collapsed": false,
    "pycharm": {
     "name": "#%%\n"
    }
   }
  },
  {
   "cell_type": "code",
   "execution_count": 35,
   "outputs": [
    {
     "data": {
      "text/plain": "1.0"
     },
     "execution_count": 35,
     "metadata": {},
     "output_type": "execute_result"
    }
   ],
   "source": [
    "lexical_diversity(sent1)"
   ],
   "metadata": {
    "collapsed": false,
    "pycharm": {
     "name": "#%%\n"
    }
   }
  },
  {
   "cell_type": "code",
   "execution_count": 36,
   "outputs": [
    {
     "data": {
      "text/plain": "['The',\n 'family',\n 'of',\n 'Dashwood',\n 'had',\n 'long',\n 'been',\n 'settled',\n 'in',\n 'Sussex',\n '.']"
     },
     "execution_count": 36,
     "metadata": {},
     "output_type": "execute_result"
    }
   ],
   "source": [
    "sent2"
   ],
   "metadata": {
    "collapsed": false,
    "pycharm": {
     "name": "#%%\n"
    }
   }
  },
  {
   "cell_type": "code",
   "execution_count": 37,
   "outputs": [
    {
     "data": {
      "text/plain": "['In',\n 'the',\n 'beginning',\n 'God',\n 'created',\n 'the',\n 'heaven',\n 'and',\n 'the',\n 'earth',\n '.']"
     },
     "execution_count": 37,
     "metadata": {},
     "output_type": "execute_result"
    }
   ],
   "source": [
    "sent3"
   ],
   "metadata": {
    "collapsed": false,
    "pycharm": {
     "name": "#%%\n"
    }
   }
  },
  {
   "cell_type": "code",
   "execution_count": 38,
   "outputs": [],
   "source": [
    "ex1 = ['Monty', 'Python', 'and', 'the', 'Holy', 'Grail']"
   ],
   "metadata": {
    "collapsed": false,
    "pycharm": {
     "name": "#%%\n"
    }
   }
  },
  {
   "cell_type": "code",
   "execution_count": 39,
   "outputs": [
    {
     "data": {
      "text/plain": "['Grail', 'Holy', 'Monty', 'Python', 'and', 'the']"
     },
     "execution_count": 39,
     "metadata": {},
     "output_type": "execute_result"
    }
   ],
   "source": [
    "sorted(ex1)"
   ],
   "metadata": {
    "collapsed": false,
    "pycharm": {
     "name": "#%%\n"
    }
   }
  },
  {
   "cell_type": "code",
   "execution_count": 40,
   "outputs": [
    {
     "data": {
      "text/plain": "6"
     },
     "execution_count": 40,
     "metadata": {},
     "output_type": "execute_result"
    }
   ],
   "source": [
    "len(set(ex1))"
   ],
   "metadata": {
    "collapsed": false,
    "pycharm": {
     "name": "#%%\n"
    }
   }
  },
  {
   "cell_type": "code",
   "execution_count": 41,
   "outputs": [
    {
     "data": {
      "text/plain": "1"
     },
     "execution_count": 41,
     "metadata": {},
     "output_type": "execute_result"
    }
   ],
   "source": [
    "ex1.count('the')"
   ],
   "metadata": {
    "collapsed": false,
    "pycharm": {
     "name": "#%%\n"
    }
   }
  },
  {
   "cell_type": "code",
   "execution_count": 42,
   "outputs": [
    {
     "data": {
      "text/plain": "['Monty', 'Python', 'and', 'the', 'Holy', 'Grail']"
     },
     "execution_count": 42,
     "metadata": {},
     "output_type": "execute_result"
    }
   ],
   "source": [
    "['Monty', 'Python'] + ['and', 'the', 'Holy', 'Grail']"
   ],
   "metadata": {
    "collapsed": false,
    "pycharm": {
     "name": "#%%\n"
    }
   }
  },
  {
   "cell_type": "code",
   "execution_count": 43,
   "outputs": [
    {
     "data": {
      "text/plain": "['Fellow',\n '-',\n 'Citizens',\n 'of',\n 'the',\n 'Senate',\n 'and',\n 'of',\n 'the',\n 'House',\n 'of',\n 'Representatives',\n ':',\n 'Call',\n 'me',\n 'Ishmael',\n '.']"
     },
     "execution_count": 43,
     "metadata": {},
     "output_type": "execute_result"
    }
   ],
   "source": [
    "sent4 + sent1"
   ],
   "metadata": {
    "collapsed": false,
    "pycharm": {
     "name": "#%%\n"
    }
   }
  },
  {
   "cell_type": "code",
   "execution_count": 44,
   "outputs": [],
   "source": [
    "sent1.append(\"Some\")"
   ],
   "metadata": {
    "collapsed": false,
    "pycharm": {
     "name": "#%%\n"
    }
   }
  },
  {
   "cell_type": "code",
   "execution_count": 45,
   "outputs": [
    {
     "data": {
      "text/plain": "['Call', 'me', 'Ishmael', '.', 'Some']"
     },
     "execution_count": 45,
     "metadata": {},
     "output_type": "execute_result"
    }
   ],
   "source": [
    "sent1"
   ],
   "metadata": {
    "collapsed": false,
    "pycharm": {
     "name": "#%%\n"
    }
   }
  },
  {
   "cell_type": "code",
   "execution_count": 46,
   "outputs": [
    {
     "data": {
      "text/plain": "260819"
     },
     "execution_count": 46,
     "metadata": {},
     "output_type": "execute_result"
    }
   ],
   "source": [
    "len(text1)"
   ],
   "metadata": {
    "collapsed": false,
    "pycharm": {
     "name": "#%%\n"
    }
   }
  },
  {
   "cell_type": "code",
   "execution_count": 47,
   "outputs": [
    {
     "data": {
      "text/plain": "40"
     },
     "execution_count": 47,
     "metadata": {},
     "output_type": "execute_result"
    }
   ],
   "source": [
    "text1.count('heaven')"
   ],
   "metadata": {
    "collapsed": false,
    "pycharm": {
     "name": "#%%\n"
    }
   }
  },
  {
   "cell_type": "code",
   "execution_count": 48,
   "outputs": [
    {
     "data": {
      "text/plain": "'awaken'"
     },
     "execution_count": 48,
     "metadata": {},
     "output_type": "execute_result"
    }
   ],
   "source": [
    "text4[173]"
   ],
   "metadata": {
    "collapsed": false,
    "pycharm": {
     "name": "#%%\n"
    }
   }
  },
  {
   "cell_type": "code",
   "execution_count": 49,
   "outputs": [
    {
     "data": {
      "text/plain": "173"
     },
     "execution_count": 49,
     "metadata": {},
     "output_type": "execute_result"
    }
   ],
   "source": [
    "text4.index('awaken')"
   ],
   "metadata": {
    "collapsed": false,
    "pycharm": {
     "name": "#%%\n"
    }
   }
  },
  {
   "cell_type": "code",
   "execution_count": 50,
   "outputs": [
    {
     "data": {
      "text/plain": "['U86',\n 'thats',\n 'why',\n 'something',\n 'like',\n 'gamefly',\n 'is',\n 'so',\n 'good',\n 'because',\n 'you',\n 'can',\n 'actually',\n 'play',\n 'a',\n 'full',\n 'game',\n 'without',\n 'buying',\n 'it']"
     },
     "execution_count": 50,
     "metadata": {},
     "output_type": "execute_result"
    }
   ],
   "source": [
    "text5[16715:16735]"
   ],
   "metadata": {
    "collapsed": false,
    "pycharm": {
     "name": "#%%\n"
    }
   }
  },
  {
   "cell_type": "code",
   "execution_count": 51,
   "outputs": [
    {
     "data": {
      "text/plain": "['We',\n \"'\",\n 're',\n 'an',\n 'anarcho',\n '-',\n 'syndicalist',\n 'commune',\n '.',\n 'We',\n 'take',\n 'it',\n 'in',\n 'turns',\n 'to',\n 'act',\n 'as',\n 'a',\n 'sort',\n 'of',\n 'executive',\n 'officer',\n 'for',\n 'the',\n 'week']"
     },
     "execution_count": 51,
     "metadata": {},
     "output_type": "execute_result"
    }
   ],
   "source": [
    "text6[1600:1625]"
   ],
   "metadata": {
    "collapsed": false,
    "pycharm": {
     "name": "#%%\n"
    }
   }
  },
  {
   "cell_type": "code",
   "execution_count": 52,
   "outputs": [],
   "source": [
    "sent = ['word1', 'word2', 'word3', 'word4', 'word5',\n",
    "        'word6', 'word7', 'word8', 'word9', 'word10']"
   ],
   "metadata": {
    "collapsed": false,
    "pycharm": {
     "name": "#%%\n"
    }
   }
  },
  {
   "cell_type": "code",
   "execution_count": 53,
   "outputs": [
    {
     "data": {
      "text/plain": "'word1'"
     },
     "execution_count": 53,
     "metadata": {},
     "output_type": "execute_result"
    }
   ],
   "source": [
    "sent[0]"
   ],
   "metadata": {
    "collapsed": false,
    "pycharm": {
     "name": "#%%\n"
    }
   }
  },
  {
   "cell_type": "code",
   "execution_count": 54,
   "outputs": [
    {
     "data": {
      "text/plain": "'word10'"
     },
     "execution_count": 54,
     "metadata": {},
     "output_type": "execute_result"
    }
   ],
   "source": [
    "sent[9]"
   ],
   "metadata": {
    "collapsed": false,
    "pycharm": {
     "name": "#%%\n"
    }
   }
  },
  {
   "cell_type": "code",
   "execution_count": 55,
   "outputs": [
    {
     "ename": "IndexError",
     "evalue": "list index out of range",
     "output_type": "error",
     "traceback": [
      "\u001B[0;31m---------------------------------------------------------------------------\u001B[0m",
      "\u001B[0;31mIndexError\u001B[0m                                Traceback (most recent call last)",
      "\u001B[0;32m<ipython-input-55-baa8b4ccd19d>\u001B[0m in \u001B[0;36m<module>\u001B[0;34m\u001B[0m\n\u001B[0;32m----> 1\u001B[0;31m \u001B[0msent\u001B[0m\u001B[0;34m[\u001B[0m\u001B[0;36m10\u001B[0m\u001B[0;34m]\u001B[0m\u001B[0;34m\u001B[0m\u001B[0;34m\u001B[0m\u001B[0m\n\u001B[0m",
      "\u001B[0;31mIndexError\u001B[0m: list index out of range"
     ]
    }
   ],
   "source": [
    "sent[10]"
   ],
   "metadata": {
    "collapsed": false,
    "pycharm": {
     "name": "#%%\n"
    }
   }
  },
  {
   "cell_type": "code",
   "execution_count": 56,
   "outputs": [
    {
     "data": {
      "text/plain": "['word6', 'word7', 'word8']"
     },
     "execution_count": 56,
     "metadata": {},
     "output_type": "execute_result"
    }
   ],
   "source": [
    "sent[5:8]"
   ],
   "metadata": {
    "collapsed": false,
    "pycharm": {
     "name": "#%%\n"
    }
   }
  },
  {
   "cell_type": "code",
   "execution_count": 57,
   "outputs": [
    {
     "data": {
      "text/plain": "'word6'"
     },
     "execution_count": 57,
     "metadata": {},
     "output_type": "execute_result"
    }
   ],
   "source": [
    "sent[5]"
   ],
   "metadata": {
    "collapsed": false,
    "pycharm": {
     "name": "#%%\n"
    }
   }
  },
  {
   "cell_type": "code",
   "execution_count": 58,
   "outputs": [
    {
     "data": {
      "text/plain": "'word7'"
     },
     "execution_count": 58,
     "metadata": {},
     "output_type": "execute_result"
    }
   ],
   "source": [
    "sent[6]"
   ],
   "metadata": {
    "collapsed": false,
    "pycharm": {
     "name": "#%%\n"
    }
   }
  },
  {
   "cell_type": "code",
   "execution_count": 59,
   "outputs": [
    {
     "data": {
      "text/plain": "'word8'"
     },
     "execution_count": 59,
     "metadata": {},
     "output_type": "execute_result"
    }
   ],
   "source": [
    "sent[7]"
   ],
   "metadata": {
    "collapsed": false,
    "pycharm": {
     "name": "#%%\n"
    }
   }
  },
  {
   "cell_type": "code",
   "execution_count": 60,
   "outputs": [
    {
     "data": {
      "text/plain": "['word1', 'word2', 'word3']"
     },
     "execution_count": 60,
     "metadata": {},
     "output_type": "execute_result"
    }
   ],
   "source": [
    "sent[:3]"
   ],
   "metadata": {
    "collapsed": false,
    "pycharm": {
     "name": "#%%\n"
    }
   }
  },
  {
   "cell_type": "code",
   "execution_count": 61,
   "outputs": [
    {
     "data": {
      "text/plain": "['among',\n 'the',\n 'merits',\n 'and',\n 'the',\n 'happiness',\n 'of',\n 'Elinor',\n 'and',\n 'Marianne',\n ',',\n 'let',\n 'it',\n 'not',\n 'be',\n 'ranked',\n 'as',\n 'the',\n 'least',\n 'considerable',\n ',',\n 'that',\n 'though',\n 'sisters',\n ',',\n 'and',\n 'living',\n 'almost',\n 'within',\n 'sight',\n 'of',\n 'each',\n 'other',\n ',',\n 'they',\n 'could',\n 'live',\n 'without',\n 'disagreement',\n 'between',\n 'themselves',\n ',',\n 'or',\n 'producing',\n 'coolness',\n 'between',\n 'their',\n 'husbands',\n '.',\n 'THE',\n 'END']"
     },
     "execution_count": 61,
     "metadata": {},
     "output_type": "execute_result"
    }
   ],
   "source": [
    "text2[141525:]"
   ],
   "metadata": {
    "collapsed": false,
    "pycharm": {
     "name": "#%%\n"
    }
   }
  },
  {
   "cell_type": "code",
   "execution_count": 62,
   "outputs": [],
   "source": [
    "sent[0] = 'First'"
   ],
   "metadata": {
    "collapsed": false,
    "pycharm": {
     "name": "#%%\n"
    }
   }
  },
  {
   "cell_type": "code",
   "execution_count": 63,
   "outputs": [],
   "source": [
    "sent[9] = 'Last'"
   ],
   "metadata": {
    "collapsed": false,
    "pycharm": {
     "name": "#%%\n"
    }
   }
  },
  {
   "cell_type": "code",
   "execution_count": 64,
   "outputs": [
    {
     "data": {
      "text/plain": "10"
     },
     "execution_count": 64,
     "metadata": {},
     "output_type": "execute_result"
    }
   ],
   "source": [
    "len(sent)"
   ],
   "metadata": {
    "collapsed": false,
    "pycharm": {
     "name": "#%%\n"
    }
   }
  },
  {
   "cell_type": "code",
   "execution_count": 65,
   "outputs": [],
   "source": [
    "sent[1:9] = ['Second', 'Third']"
   ],
   "metadata": {
    "collapsed": false,
    "pycharm": {
     "name": "#%%\n"
    }
   }
  },
  {
   "cell_type": "code",
   "execution_count": 66,
   "outputs": [
    {
     "data": {
      "text/plain": "['First', 'Second', 'Third', 'Last']"
     },
     "execution_count": 66,
     "metadata": {},
     "output_type": "execute_result"
    }
   ],
   "source": [
    "sent"
   ],
   "metadata": {
    "collapsed": false,
    "pycharm": {
     "name": "#%%\n"
    }
   }
  },
  {
   "cell_type": "code",
   "execution_count": 67,
   "outputs": [
    {
     "ename": "IndexError",
     "evalue": "list index out of range",
     "output_type": "error",
     "traceback": [
      "\u001B[0;31m---------------------------------------------------------------------------\u001B[0m",
      "\u001B[0;31mIndexError\u001B[0m                                Traceback (most recent call last)",
      "\u001B[0;32m<ipython-input-67-9d73df3f8677>\u001B[0m in \u001B[0;36m<module>\u001B[0;34m\u001B[0m\n\u001B[0;32m----> 1\u001B[0;31m \u001B[0msent\u001B[0m\u001B[0;34m[\u001B[0m\u001B[0;36m9\u001B[0m\u001B[0;34m]\u001B[0m\u001B[0;34m\u001B[0m\u001B[0;34m\u001B[0m\u001B[0m\n\u001B[0m",
      "\u001B[0;31mIndexError\u001B[0m: list index out of range"
     ]
    }
   ],
   "source": [
    "sent[9]"
   ],
   "metadata": {
    "collapsed": false,
    "pycharm": {
     "name": "#%%\n"
    }
   }
  },
  {
   "cell_type": "code",
   "execution_count": 68,
   "outputs": [],
   "source": [
    "sent1 = ['Call', 'me', 'Ishmael', '.']"
   ],
   "metadata": {
    "collapsed": false,
    "pycharm": {
     "name": "#%%\n"
    }
   }
  },
  {
   "cell_type": "code",
   "execution_count": 69,
   "outputs": [],
   "source": [
    "my_sent = ['Bravely', 'bold', 'Sir', 'Robin', ',', 'rode',\n",
    "'forth', 'from', 'Camelot', '.']"
   ],
   "metadata": {
    "collapsed": false,
    "pycharm": {
     "name": "#%%\n"
    }
   }
  },
  {
   "cell_type": "code",
   "execution_count": 70,
   "outputs": [],
   "source": [
    "noun_phrase = my_sent[1:4]"
   ],
   "metadata": {
    "collapsed": false,
    "pycharm": {
     "name": "#%%\n"
    }
   }
  },
  {
   "cell_type": "code",
   "execution_count": 71,
   "outputs": [
    {
     "data": {
      "text/plain": "['bold', 'Sir', 'Robin']"
     },
     "execution_count": 71,
     "metadata": {},
     "output_type": "execute_result"
    }
   ],
   "source": [
    "noun_phrase"
   ],
   "metadata": {
    "collapsed": false,
    "pycharm": {
     "name": "#%%\n"
    }
   }
  },
  {
   "cell_type": "code",
   "execution_count": 72,
   "outputs": [],
   "source": [
    "wOrDs = sorted(noun_phrase)"
   ],
   "metadata": {
    "collapsed": false,
    "pycharm": {
     "name": "#%%\n"
    }
   }
  },
  {
   "cell_type": "code",
   "execution_count": 73,
   "outputs": [
    {
     "data": {
      "text/plain": "['Robin', 'Sir', 'bold']"
     },
     "execution_count": 73,
     "metadata": {},
     "output_type": "execute_result"
    }
   ],
   "source": [
    "wOrDs"
   ],
   "metadata": {
    "collapsed": false,
    "pycharm": {
     "name": "#%%\n"
    }
   }
  },
  {
   "cell_type": "code",
   "execution_count": 74,
   "outputs": [
    {
     "ename": "SyntaxError",
     "evalue": "invalid syntax (<ipython-input-74-673e7f915d89>, line 1)",
     "output_type": "error",
     "traceback": [
      "\u001B[0;36m  File \u001B[0;32m\"<ipython-input-74-673e7f915d89>\"\u001B[0;36m, line \u001B[0;32m1\u001B[0m\n\u001B[0;31m    not = 'Camelot'\u001B[0m\n\u001B[0m        ^\u001B[0m\n\u001B[0;31mSyntaxError\u001B[0m\u001B[0;31m:\u001B[0m invalid syntax\n"
     ]
    }
   ],
   "source": [
    "not = 'Camelot'"
   ],
   "metadata": {
    "collapsed": false,
    "pycharm": {
     "name": "#%%\n"
    }
   }
  },
  {
   "cell_type": "code",
   "execution_count": 75,
   "outputs": [],
   "source": [
    "vocab = set(text1)"
   ],
   "metadata": {
    "collapsed": false,
    "pycharm": {
     "name": "#%%\n"
    }
   }
  },
  {
   "cell_type": "code",
   "execution_count": 76,
   "outputs": [],
   "source": [
    "vocab_size = len(vocab)"
   ],
   "metadata": {
    "collapsed": false,
    "pycharm": {
     "name": "#%%\n"
    }
   }
  },
  {
   "cell_type": "code",
   "execution_count": 77,
   "outputs": [
    {
     "data": {
      "text/plain": "19317"
     },
     "execution_count": 77,
     "metadata": {},
     "output_type": "execute_result"
    }
   ],
   "source": [
    "vocab_size"
   ],
   "metadata": {
    "collapsed": false,
    "pycharm": {
     "name": "#%%\n"
    }
   }
  },
  {
   "cell_type": "code",
   "execution_count": 78,
   "outputs": [],
   "source": [
    "name = 'Monty'"
   ],
   "metadata": {
    "collapsed": false,
    "pycharm": {
     "name": "#%%\n"
    }
   }
  },
  {
   "cell_type": "code",
   "execution_count": 79,
   "outputs": [
    {
     "data": {
      "text/plain": "'M'"
     },
     "execution_count": 79,
     "metadata": {},
     "output_type": "execute_result"
    }
   ],
   "source": [
    "name[0]"
   ],
   "metadata": {
    "collapsed": false,
    "pycharm": {
     "name": "#%%\n"
    }
   }
  },
  {
   "cell_type": "code",
   "execution_count": 80,
   "outputs": [
    {
     "data": {
      "text/plain": "'Mont'"
     },
     "execution_count": 80,
     "metadata": {},
     "output_type": "execute_result"
    }
   ],
   "source": [
    "name[:4]"
   ],
   "metadata": {
    "collapsed": false,
    "pycharm": {
     "name": "#%%\n"
    }
   }
  },
  {
   "cell_type": "code",
   "execution_count": 81,
   "outputs": [
    {
     "data": {
      "text/plain": "'MontyMonty'"
     },
     "execution_count": 81,
     "metadata": {},
     "output_type": "execute_result"
    }
   ],
   "source": [
    "name * 2"
   ],
   "metadata": {
    "collapsed": false,
    "pycharm": {
     "name": "#%%\n"
    }
   }
  },
  {
   "cell_type": "code",
   "execution_count": 82,
   "outputs": [
    {
     "data": {
      "text/plain": "'Monty!'"
     },
     "execution_count": 82,
     "metadata": {},
     "output_type": "execute_result"
    }
   ],
   "source": [
    "name + '!'"
   ],
   "metadata": {
    "collapsed": false,
    "pycharm": {
     "name": "#%%\n"
    }
   }
  },
  {
   "cell_type": "code",
   "execution_count": 83,
   "outputs": [
    {
     "data": {
      "text/plain": "'Monty Python'"
     },
     "execution_count": 83,
     "metadata": {},
     "output_type": "execute_result"
    }
   ],
   "source": [
    "' '.join(['Monty', 'Python'])"
   ],
   "metadata": {
    "collapsed": false,
    "pycharm": {
     "name": "#%%\n"
    }
   }
  },
  {
   "cell_type": "code",
   "execution_count": 84,
   "outputs": [
    {
     "data": {
      "text/plain": "['Monty', 'Python']"
     },
     "execution_count": 84,
     "metadata": {},
     "output_type": "execute_result"
    }
   ],
   "source": [
    "'Monty Python'.split()"
   ],
   "metadata": {
    "collapsed": false,
    "pycharm": {
     "name": "#%%\n"
    }
   }
  },
  {
   "cell_type": "code",
   "execution_count": 85,
   "outputs": [],
   "source": [
    "saying = ['After', 'all', 'is', 'said', 'and', 'done',\n",
    "          'more', 'is', 'said', 'than', 'done']"
   ],
   "metadata": {
    "collapsed": false,
    "pycharm": {
     "name": "#%%\n"
    }
   }
  },
  {
   "cell_type": "code",
   "execution_count": 86,
   "outputs": [],
   "source": [
    "tokens = set(saying)"
   ],
   "metadata": {
    "collapsed": false,
    "pycharm": {
     "name": "#%%\n"
    }
   }
  },
  {
   "cell_type": "code",
   "execution_count": 87,
   "outputs": [],
   "source": [
    "tokens = sorted(tokens)"
   ],
   "metadata": {
    "collapsed": false,
    "pycharm": {
     "name": "#%%\n"
    }
   }
  },
  {
   "cell_type": "code",
   "execution_count": 88,
   "outputs": [
    {
     "data": {
      "text/plain": "['said', 'than']"
     },
     "execution_count": 88,
     "metadata": {},
     "output_type": "execute_result"
    }
   ],
   "source": [
    "tokens[-2:]"
   ],
   "metadata": {
    "collapsed": false,
    "pycharm": {
     "name": "#%%\n"
    }
   }
  },
  {
   "cell_type": "code",
   "execution_count": 89,
   "outputs": [],
   "source": [
    "fdist1 = FreqDist(text1)"
   ],
   "metadata": {
    "collapsed": false,
    "pycharm": {
     "name": "#%%\n"
    }
   }
  },
  {
   "cell_type": "code",
   "execution_count": 90,
   "outputs": [
    {
     "data": {
      "text/plain": "FreqDist({',': 18713, 'the': 13721, '.': 6862, 'of': 6536, 'and': 6024, 'a': 4569, 'to': 4542, ';': 4072, 'in': 3916, 'that': 2982, ...})"
     },
     "execution_count": 90,
     "metadata": {},
     "output_type": "execute_result"
    }
   ],
   "source": [
    "fdist1"
   ],
   "metadata": {
    "collapsed": false,
    "pycharm": {
     "name": "#%%\n"
    }
   }
  },
  {
   "cell_type": "code",
   "execution_count": 98,
   "outputs": [],
   "source": [
    "vocabulary1 = list(fdist1.keys())  # changed to work with Python3"
   ],
   "metadata": {
    "collapsed": false,
    "pycharm": {
     "name": "#%%\n"
    }
   }
  },
  {
   "cell_type": "code",
   "execution_count": 99,
   "outputs": [
    {
     "data": {
      "text/plain": "['[',\n 'Moby',\n 'Dick',\n 'by',\n 'Herman',\n 'Melville',\n '1851',\n ']',\n 'ETYMOLOGY',\n '.',\n '(',\n 'Supplied',\n 'a',\n 'Late',\n 'Consumptive',\n 'Usher',\n 'to',\n 'Grammar',\n 'School',\n ')',\n 'The',\n 'pale',\n '--',\n 'threadbare',\n 'in',\n 'coat',\n ',',\n 'heart',\n 'body',\n 'and',\n 'brain',\n ';',\n 'I',\n 'see',\n 'him',\n 'now',\n 'He',\n 'was',\n 'ever',\n 'dusting',\n 'his',\n 'old',\n 'lexicons',\n 'grammars',\n 'with',\n 'queer',\n 'handkerchief',\n 'mockingly',\n 'embellished',\n 'all']"
     },
     "execution_count": 99,
     "metadata": {},
     "output_type": "execute_result"
    }
   ],
   "source": [
    "vocabulary1[:50]"
   ],
   "metadata": {
    "collapsed": false,
    "pycharm": {
     "name": "#%%\n"
    }
   }
  },
  {
   "cell_type": "code",
   "execution_count": 100,
   "outputs": [
    {
     "data": {
      "text/plain": "906"
     },
     "execution_count": 100,
     "metadata": {},
     "output_type": "execute_result"
    }
   ],
   "source": [
    "fdist1['whale']"
   ],
   "metadata": {
    "collapsed": false,
    "pycharm": {
     "name": "#%%\n"
    }
   }
  },
  {
   "cell_type": "code",
   "execution_count": 101,
   "outputs": [
    {
     "data": {
      "text/plain": "['Herman',\n 'Melville',\n ']',\n 'ETYMOLOGY',\n 'Late',\n 'Consumptive',\n 'School',\n 'threadbare',\n 'lexicons',\n 'mockingly',\n 'flags',\n 'mortality',\n 'signification',\n 'HACKLUYT',\n 'Sw',\n 'HVAL',\n 'roundness',\n 'Dut',\n 'Ger',\n 'WALLEN',\n 'WALW',\n 'IAN',\n 'RICHARDSON',\n 'KETOS',\n 'GREEK',\n 'CETUS',\n 'LATIN',\n 'WHOEL',\n 'ANGLO',\n 'SAXON',\n 'WAL',\n 'HWAL',\n 'SWEDISH',\n 'ICELANDIC',\n 'BALEINE',\n 'BALLENA',\n 'FEGEE',\n 'ERROMANGOAN',\n 'Librarian',\n 'painstaking',\n 'burrower',\n 'grub',\n 'Vaticans',\n 'stalls',\n 'higgledy',\n 'piggledy',\n 'gospel',\n 'promiscuously',\n 'commentator',\n 'belongest',\n 'sallow',\n 'Pale',\n 'Sherry',\n 'loves',\n 'bluntly',\n 'Subs',\n 'thankless',\n 'Hampton',\n 'Court',\n 'hie',\n 'refugees',\n 'pampered',\n 'Michael',\n 'Raphael',\n 'unsplinterable',\n 'GENESIS',\n 'JOB',\n 'JONAH',\n 'punish',\n 'ISAIAH',\n 'soever',\n 'cometh',\n 'incontinently',\n 'perisheth',\n 'PLUTARCH',\n 'MORALS',\n 'breedeth',\n 'Whirlpooles',\n 'Balaene',\n 'arpens',\n 'PLINY',\n 'Scarcely',\n 'TOOKE',\n 'LUCIAN',\n 'TRUE',\n 'catched',\n 'OCTHER',\n 'VERBAL',\n 'TAKEN',\n 'MOUTH',\n 'ALFRED',\n '890',\n 'gudgeon',\n 'retires',\n 'MONTAIGNE',\n 'APOLOGY',\n 'RAIMOND',\n 'SEBOND',\n 'Nick',\n 'RABELAIS',\n 'cartloads',\n 'STOWE',\n 'ANNALS',\n 'LORD',\n 'BACON',\n 'Touching',\n 'ork',\n 'DEATH',\n 'sovereignest',\n 'bruise',\n 'HAMLET',\n 'leach',\n 'Mote',\n 'availle',\n 'returne',\n 'againe',\n 'worker',\n 'Dinting',\n 'paine',\n 'thro',\n 'maine',\n 'FAERIE',\n 'Immense',\n 'til',\n 'DAVENANT',\n 'PREFACE',\n 'GONDIBERT',\n 'spermacetti',\n 'Hosmannus',\n 'Nescio',\n 'VIDE',\n 'Spencer',\n 'Talus',\n 'flail',\n 'threatens',\n 'jav',\n 'lins',\n 'WALLER',\n 'SUMMER',\n 'ISLANDS',\n 'Commonwealth',\n 'Civitas',\n 'OPENING',\n 'SENTENCE',\n 'HOBBES',\n 'LEVIATHAN',\n 'Silly',\n 'Mansoul',\n 'chewing',\n 'sprat',\n 'PILGRIM',\n 'PROGRESS',\n 'Created',\n 'PARADISE',\n 'LOST',\n '---\"',\n 'Hugest',\n 'Stretched',\n 'Draws',\n 'FULLLER',\n 'PROFANE',\n 'HOLY',\n 'STATE',\n 'DRYDEN',\n 'ANNUS',\n 'MIRABILIS',\n 'aground',\n 'EDGE',\n 'TEN',\n 'SPITZBERGEN',\n 'PURCHAS',\n 'wantonness',\n 'fuzzing',\n 'vents',\n 'HERBERT',\n 'INTO',\n 'ASIA',\n 'AFRICA',\n 'SCHOUTEN',\n 'SIXTH',\n 'CIRCUMNAVIGATION',\n 'Elbe',\n 'ducat',\n 'herrings',\n 'GREENLAND',\n 'Several',\n 'Fife',\n 'Anno',\n '1652',\n 'Pitferren',\n 'SIBBALD',\n 'FIFE',\n 'KINROSS',\n 'Myself',\n 'Sperma',\n 'ceti',\n 'fierceness',\n 'RICHARD',\n 'STRAFFORD',\n 'LETTER',\n 'BERMUDAS',\n 'PHIL',\n 'TRANS',\n '1668',\n 'PRIMER',\n 'COWLEY',\n '1729',\n '\"...',\n 'frequendy',\n 'insupportable',\n 'disorder',\n 'ULLOA',\n 'SOUTH',\n 'AMERICA',\n 'sylphs',\n 'petticoat',\n 'Oft',\n 'Tho',\n 'RAPE',\n 'LOCK',\n 'NAT',\n 'wales',\n 'JOHNSON',\n 'COOK',\n 'dung',\n 'lime',\n 'juniper',\n 'UNO',\n 'VON',\n 'TROIL',\n 'LETTERS',\n 'BANKS',\n 'SOLANDER',\n '1772',\n 'Nantuckois',\n 'JEFFERSON',\n 'MEMORIAL',\n 'MINISTER',\n 'REFERENCE',\n 'PARLIAMENT',\n 'SOMEWHERE',\n 'guarding',\n 'protecting',\n 'robbers',\n 'BLACKSTONE',\n 'Rodmond',\n 'suspends',\n 'attends',\n 'FALCONER',\n 'Bright',\n 'roofs',\n 'domes',\n 'rockets',\n 'Around',\n 'unwieldy',\n 'COWPER',\n 'VISIT',\n 'LONDON',\n 'HUNTER',\n 'DISSECTION',\n 'SMALL',\n 'SIZED',\n 'aorta',\n 'gushing',\n 'PALEY',\n 'THEOLOGY',\n 'mammiferous',\n 'hind',\n 'BARON',\n 'CUVIER',\n 'COLNETT',\n 'PURPOSE',\n 'EXTENDING',\n 'SPERMACETI',\n 'Floundered',\n 'chace',\n 'peopling',\n 'Gather',\n 'Led',\n 'instincts',\n 'trackless',\n 'Assaulted',\n 'voracious',\n 'spiral',\n 'MONTGOMERY',\n 'WORLD',\n 'FLOOD',\n 'Paean',\n 'fatter',\n 'Flounders',\n 'CHARLES',\n 'LAMB',\n 'TRIUMPH',\n '1690',\n 'OBED',\n 'Susan',\n 'HAWTHORNE',\n 'TWICE',\n 'bespeak',\n 'raal',\n 'COOPER',\n 'PILOT',\n 'Berlin',\n 'Gazette',\n 'ECKERMANN',\n 'CONVERSATIONS',\n 'GOETHE',\n 'ESSEX',\n 'WAS',\n 'ATTACKED',\n 'FINALLY',\n 'DESTROYED',\n 'OWEN',\n 'CHACE',\n 'FIRST',\n 'SAID',\n 'VESSEL',\n 'YORK',\n '1821',\n 'piping',\n 'dimmed',\n 'phospher',\n 'ELIZABETH',\n 'OAKES',\n 'SMITH',\n 'amounted',\n '440',\n 'SCORESBY',\n 'Mad',\n 'agonies',\n 'endures',\n 'infuriated',\n 'rears',\n 'snaps',\n 'propelled',\n 'observers',\n 'opportunities',\n 'habitudes',\n 'BEALE',\n 'offensively',\n 'artful',\n 'mischievous',\n 'FREDERICK',\n 'DEBELL',\n '1840',\n 'October',\n 'Raise',\n 'ay',\n 'THAR',\n 'bowes',\n 'os',\n 'ROSS',\n 'ETCHINGS',\n 'CRUIZE',\n '1846',\n 'Globe',\n 'transactions',\n 'relate',\n 'HUSSEY',\n 'SURVIVORS',\n 'parried',\n 'MISSIONARY',\n 'JOURNAL',\n 'TYERMAN',\n 'boldest',\n 'persevering',\n 'REPORT',\n 'DANIEL',\n 'SPEECH',\n 'SENATE',\n 'APPLICATION',\n 'ERECTION',\n 'BREAKWATER',\n 'CAPTORS',\n 'WHALEMAN',\n 'ADVENTURES',\n 'BIOGRAPHY',\n 'GATHERED',\n 'HOMEWARD',\n 'COMMODORE',\n 'PREBLE',\n 'REV',\n 'CHEEVER',\n 'MUTINEER',\n 'BROTHER',\n 'ANOTHER',\n 'MCCULLOCH',\n 'COMMERCIAL',\n 'reciprocal',\n 'clews',\n 'SOMETHING',\n 'UNPUBLISHED',\n 'CURRENTS',\n 'Pedestrians',\n 'recollect',\n 'gateways',\n 'VOYAGER',\n 'ARCTIC',\n 'NEWSPAPER',\n 'TAKING',\n 'RETAKING',\n 'HOBOMACK',\n 'MIRIAM',\n 'FISHERMAN',\n 'appliance',\n 'RIBS',\n 'TRUCKS',\n 'Terra',\n 'Del',\n 'Fuego',\n 'DARWIN',\n 'NATURALIST',\n \";--'\",\n '!\\'\"',\n 'WHARTON',\n 'Loomings',\n 'spleen',\n 'regulating',\n 'circulation',\n 'Whenever',\n 'drizzly',\n 'hypos',\n 'philosophical',\n 'Cato',\n 'Manhattoes',\n 'reefs',\n 'downtown',\n 'gazers',\n 'Circumambulate',\n 'Corlears',\n 'Coenties',\n 'Slip',\n 'Whitehall',\n 'Posted',\n 'sentinels',\n 'spiles',\n 'pier',\n 'lath',\n 'counters',\n 'desks',\n 'loitering',\n 'shady',\n 'Inlanders',\n 'lanes',\n 'alleys',\n 'attract',\n 'dale',\n 'dreamiest',\n 'shadiest',\n 'quietest',\n 'enchanting',\n 'Saco',\n 'crucifix',\n 'Deep',\n 'mazy',\n 'Tiger',\n 'Tennessee',\n 'Rockaway',\n 'Persians',\n 'deity',\n 'Narcissus',\n 'ungraspable',\n 'hazy',\n 'quarrelsome',\n 'offices',\n 'abominate',\n 'toils',\n 'trials',\n 'barques',\n 'schooners',\n 'broiling',\n 'buttered',\n 'judgmatically',\n 'peppered',\n 'reverentially',\n 'idolatrous',\n 'dotings',\n 'ibis',\n 'roasted',\n 'bake',\n 'plumb',\n 'Van',\n 'Rensselaers',\n 'Randolphs',\n 'Hardicanutes',\n 'lording',\n 'tallest',\n 'decoction',\n 'Seneca',\n 'Stoics',\n 'Testament',\n 'promptly',\n 'rub',\n 'infliction',\n 'BEING',\n 'PAID',\n 'urbane',\n 'ills',\n 'monied',\n 'consign',\n 'prevalent',\n 'violate',\n 'Pythagorean',\n 'commonalty',\n 'police',\n 'surveillance',\n 'programme',\n 'solo',\n 'CONTESTED',\n 'ELECTION',\n 'PRESIDENCY',\n 'UNITED',\n 'STATES',\n 'ISHMAEL',\n 'BLOODY',\n 'AFFGHANISTAN',\n 'managers',\n 'genteel',\n 'comedies',\n 'farces',\n 'cunningly',\n 'disguises',\n 'cajoling',\n 'unbiased',\n 'freewill',\n 'discriminating',\n 'overwhelming',\n 'undeliverable',\n 'itch',\n 'forbidden',\n 'ignoring',\n 'lodges',\n 'Carpet',\n 'Bag',\n 'Manhatto',\n 'candidates',\n 'penalties',\n 'Tyre',\n 'Carthage',\n 'imported',\n 'cobblestones',\n 'bitingly',\n 'shouldering',\n 'price',\n 'fervent',\n 'asphaltic',\n 'pavement',\n 'flinty',\n 'projections',\n 'soles',\n 'Too',\n 'cheapest',\n 'cheeriest',\n 'invitingly',\n 'particles',\n 'peer',\n 'Angel',\n 'Doom',\n 'wailing',\n 'gnashing',\n 'Wretched',\n 'entertainment',\n 'Moving',\n 'emigrant',\n 'poverty',\n 'creak',\n 'lodgings',\n 'zephyr',\n 'hob',\n 'toasting',\n 'observest',\n 'sashless',\n 'glazier',\n 'reasonest',\n 'chinks',\n 'crannies',\n 'lint',\n 'chattering',\n 'shiverings',\n 'cob',\n 'redder',\n 'Orion',\n 'glitters',\n 'conservatories',\n 'president',\n 'temperance',\n 'blubbering',\n 'straggling',\n 'wainscots',\n 'reminding',\n 'oilpainting',\n 'besmoked',\n 'defaced',\n 'unequal',\n 'crosslights',\n 'hags',\n 'delineate',\n 'bewitched',\n 'ponderings',\n 'boggy',\n 'soggy',\n 'squitchy',\n 'froze',\n 'heath',\n 'icebound',\n 'represents',\n 'Horner',\n 'foundered',\n 'clubs',\n 'harvesting',\n 'hacking',\n 'horrifying',\n 'Mixed',\n 'Nathan',\n 'Swain',\n 'corkscrew',\n 'Blanco',\n 'sojourning',\n 'fireplaces',\n 'duskier',\n 'cockpits',\n 'rarities',\n 'Projecting',\n 'Within',\n 'shelves',\n 'flasks',\n 'bustles',\n 'deliriums',\n 'Abominable',\n 'tumblers',\n 'cylinders',\n 'goggling',\n 'deceitfully',\n 'tapered',\n 'Parallel',\n 'pecked',\n 'footpads',\n 'Fill',\n 'shilling',\n 'examining',\n 'SKRIMSHANDER',\n 'accommodated',\n 'unoccupied',\n 'haint',\n 'pose',\n 'whalin',\n 'decidedly',\n 'objectionable',\n 'wander',\n 'Battery',\n 'ruminating',\n 'adorning',\n 'potatoes',\n 'sartainty',\n 'diabolically',\n 'steaks',\n 'undress',\n 'looker',\n 'rioting',\n 'Grampus',\n 'seed',\n 'Feegees',\n 'tramping',\n 'Enveloped',\n 'bedarned',\n 'eruption',\n 'officiating',\n 'brimmers',\n 'complained',\n 'potion',\n 'colds',\n 'catarrhs',\n 'liquor',\n 'arrantest',\n 'topers',\n 'obstreperously',\n 'aloof',\n 'desirous',\n 'hilarity',\n 'coffer',\n 'Southerner',\n 'mountaineers',\n 'Alleghanian',\n 'missed',\n 'supernaturally',\n 'congratulate',\n 'multiply',\n 'bachelor',\n 'abominated',\n 'tidiest',\n 'bedwards',\n 'shan',\n 'tablecloth',\n 'Skrimshander',\n 'bump',\n 'spraining',\n 'eider',\n 'yoking',\n 'rickety',\n 'whirlwinds',\n 'knockings',\n 'dismissed',\n 'popped',\n 'cherishing',\n 'chuckled',\n 'chuckle',\n 'mightily',\n 'catches',\n 'bamboozingly',\n 'overstocked',\n 'toothpick',\n 'rayther',\n 'BROWN',\n 'slanderin',\n 'farrago',\n 'BROKE',\n 'Sartain',\n 'Mt',\n 'Hecla',\n 'persist',\n 'mystifying',\n 'unsay',\n 'criminal',\n 'Wall',\n 'purty',\n 'sarmon',\n 'rips',\n 'tellin',\n 'bought',\n 'balmed',\n 'curios',\n 'sellin',\n 'inions',\n 'fooling',\n 'idolators',\n 'Depend',\n 'reg',\n 'lar',\n 'spliced',\n 'Johnny',\n 'sprawling',\n 'Arter',\n 'glim',\n 'jiffy',\n 'irresolute',\n 'vum',\n 'WON',\n 'Folding',\n 'scrutiny',\n 'porcupine',\n 'moccasin',\n 'ponchos',\n 'parade',\n 'rainy',\n 'remembering',\n 'commended',\n 'cobs',\n 'Nod',\n 'footfall',\n 'unlacing',\n 'blackish',\n 'plasters',\n 'inkling',\n 'Placing',\n 'crammed',\n 'scalp',\n 'mildewed',\n 'Ignorance',\n 'parent',\n 'nonplussed',\n 'undressing',\n 'checkered',\n 'Thirty',\n 'frogs',\n 'quaked',\n 'wrapall',\n 'dreadnaught',\n 'fumbled',\n 'Remembering',\n 'manikin',\n 'tenpin',\n 'andirons',\n 'jambs',\n 'bricks',\n 'appropriate',\n 'applying',\n 'hastier',\n 'withdrawals',\n 'antics',\n 'devotee',\n 'extinguishing',\n 'unceremoniously',\n 'bagged',\n 'sportsman',\n 'woodcock',\n 'uncomfortableness',\n 'deliberating',\n 'puffed',\n 'sang',\n 'Stammering',\n 'conjured',\n 'responses',\n 'debel',\n 'flourishing',\n 'Angels',\n 'flourishings',\n 'peddlin',\n 'sleepe',\n 'grunted',\n 'gettee',\n 'motioning',\n 'comely',\n 'insured',\n 'Counterpane',\n 'parti',\n 'triangles',\n 'interminable',\n 'caper',\n 'supperless',\n '21st',\n 'hemisphere',\n 'sigh',\n 'Sixteen',\n 'ached',\n 'coaches',\n 'stockinged',\n 'slippering',\n 'misbehaviour',\n 'unendurable',\n 'stepmothers',\n 'misfortunes',\n 'steeped',\n 'shudderingly',\n 'confounding',\n 'soberly',\n 'recurred',\n 'predicament',\n 'unlock',\n 'bridegroom',\n 'clasp',\n 'hugged',\n 'rouse',\n 'snore',\n 'scratch',\n 'Throwing',\n 'expostulations',\n 'unbecomingness',\n 'matrimonial',\n 'dawning',\n 'overture',\n 'innate',\n 'compliment',\n 'civility',\n 'rudeness',\n 'toilette',\n 'dressing',\n 'donning',\n 'gaspings',\n 'booting',\n 'caterpillar',\n 'outlandishness',\n 'manners',\n 'education',\n 'undergraduate',\n 'dreamt',\n 'cowhide',\n 'pinched',\n 'curtains',\n 'indecorous',\n 'contented',\n 'restricting',\n 'donned',\n 'lathering',\n 'unsheathes',\n 'whets',\n 'Rogers',\n 'cutlery',\n 'Afterwards',\n 'baton',\n 'Breakfast',\n 'pleasantly',\n 'bountifully',\n 'laughable',\n 'bosky',\n 'unshorn',\n 'gowns',\n 'toasted',\n 'lingers',\n 'tarried',\n 'barred',\n 'Grub',\n 'Park',\n 'assurance',\n 'polish',\n 'occasioned',\n 'embarrassed',\n 'bashfulness',\n 'duelled',\n 'winking',\n 'tastes',\n 'sheepishly',\n 'bashful',\n 'icicle',\n 'admirer',\n 'cordially',\n 'grappling',\n 'genteelly',\n 'eschewed',\n 'undivided',\n '6',\n 'circulating',\n 'nondescripts',\n 'Chestnut',\n 'jostle',\n 'Regent',\n 'Lascars',\n 'Bombay',\n 'Apollo',\n 'Feegeeans',\n 'Tongatobooarrs',\n 'Erromanggoans',\n 'Pannangians',\n 'Brighggians',\n 'weekly',\n 'Vermonters',\n 'stalwart',\n 'frames',\n 'felled',\n 'strutting',\n 'wester',\n 'bombazine',\n 'cloak',\n 'mow',\n 'gloves',\n 'joins',\n 'outfit',\n 'waistcoats',\n 'Hay',\n 'Seed',\n 'tract',\n 'dearest',\n 'pave',\n 'eggs',\n 'patrician',\n 'parks',\n 'scraggy',\n 'scoria',\n 'Herr',\n 'dowers',\n 'nieces',\n 'reservoirs',\n 'maples',\n 'bountiful',\n 'proffer',\n 'passer',\n 'cones',\n 'blossoms',\n 'superinduced',\n 'carnation',\n 'Salem',\n 'sweethearts',\n 'Puritanic',\n 'Whaleman',\n 'Wrapping',\n 'Each',\n 'quote',\n 'TALBOT',\n 'Near',\n 'Desolation',\n '1st',\n 'SISTER',\n 'ROBERT',\n 'WILLIS',\n 'ELLERY',\n 'NATHAN',\n 'COLEMAN',\n 'WALTER',\n 'CANNY',\n 'SETH',\n 'GLEIG',\n 'Forming',\n 'ELIZA',\n '31st',\n 'MARBLE',\n 'SHIPMATES',\n 'EZEKIEL',\n 'HARDY',\n 'AUGUST',\n '3d',\n '1833',\n 'WIDOW',\n 'Shaking',\n 'glazed',\n 'Affected',\n 'relatives',\n 'unhealing',\n 'sympathetically',\n 'wounds',\n 'bleed',\n 'blanks',\n ...]"
     },
     "execution_count": 101,
     "metadata": {},
     "output_type": "execute_result"
    }
   ],
   "source": [
    "fdist1.hapaxes()"
   ],
   "metadata": {
    "collapsed": false,
    "pycharm": {
     "name": "#%%\n"
    }
   }
  },
  {
   "cell_type": "code",
   "execution_count": 102,
   "outputs": [],
   "source": [
    "V = set(text1)"
   ],
   "metadata": {
    "collapsed": false,
    "pycharm": {
     "name": "#%%\n"
    }
   }
  },
  {
   "cell_type": "code",
   "execution_count": 103,
   "outputs": [],
   "source": [
    "long_words = [w for w in V if len(w) > 15]"
   ],
   "metadata": {
    "collapsed": false,
    "pycharm": {
     "name": "#%%\n"
    }
   }
  },
  {
   "cell_type": "code",
   "execution_count": 104,
   "outputs": [
    {
     "data": {
      "text/plain": "['CIRCUMNAVIGATION',\n 'Physiognomically',\n 'apprehensiveness',\n 'cannibalistically',\n 'characteristically',\n 'circumnavigating',\n 'circumnavigation',\n 'circumnavigations',\n 'comprehensiveness',\n 'hermaphroditical',\n 'indiscriminately',\n 'indispensableness',\n 'irresistibleness',\n 'physiognomically',\n 'preternaturalness',\n 'responsibilities',\n 'simultaneousness',\n 'subterraneousness',\n 'supernaturalness',\n 'superstitiousness',\n 'uncomfortableness',\n 'uncompromisedness',\n 'undiscriminating',\n 'uninterpenetratingly']"
     },
     "execution_count": 104,
     "metadata": {},
     "output_type": "execute_result"
    }
   ],
   "source": [
    "sorted(long_words)"
   ],
   "metadata": {
    "collapsed": false,
    "pycharm": {
     "name": "#%%\n"
    }
   }
  },
  {
   "cell_type": "code",
   "execution_count": 105,
   "outputs": [],
   "source": [
    "fdist5 = FreqDist(text5)"
   ],
   "metadata": {
    "collapsed": false,
    "pycharm": {
     "name": "#%%\n"
    }
   }
  },
  {
   "cell_type": "code",
   "execution_count": 106,
   "outputs": [
    {
     "data": {
      "text/plain": "['#14-19teens',\n '#talkcity_adults',\n '((((((((((',\n '........',\n 'Question',\n 'actually',\n 'anything',\n 'computer',\n 'cute.-ass',\n 'everyone',\n 'football',\n 'innocent',\n 'listening',\n 'remember',\n 'seriously',\n 'something',\n 'together',\n 'tomorrow',\n 'watching']"
     },
     "execution_count": 106,
     "metadata": {},
     "output_type": "execute_result"
    }
   ],
   "source": [
    "sorted([w for w in set(text5) if len(w) > 7 and fdist5[w] > 7])"
   ],
   "metadata": {
    "collapsed": false,
    "pycharm": {
     "name": "#%%\n"
    }
   }
  },
  {
   "cell_type": "code",
   "execution_count": 107,
   "outputs": [
    {
     "data": {
      "text/plain": "<generator object bigrams at 0x7f25d796fd60>"
     },
     "execution_count": 107,
     "metadata": {},
     "output_type": "execute_result"
    }
   ],
   "source": [
    "bigrams(['more', 'is', 'said', 'than', 'done'])"
   ],
   "metadata": {
    "collapsed": false,
    "pycharm": {
     "name": "#%%\n"
    }
   }
  },
  {
   "cell_type": "code",
   "execution_count": 108,
   "outputs": [
    {
     "name": "stdout",
     "output_type": "stream",
     "text": [
      "United States; fellow citizens; four years; years ago; Federal\n",
      "Government; General Government; American people; Vice President; God\n",
      "bless; Chief Justice; Old World; Almighty God; Fellow citizens; Chief\n",
      "Magistrate; every citizen; one another; fellow Americans; Indian\n",
      "tribes; public debt; foreign nations\n"
     ]
    }
   ],
   "source": [
    "text4.collocations()"
   ],
   "metadata": {
    "collapsed": false,
    "pycharm": {
     "name": "#%%\n"
    }
   }
  },
  {
   "cell_type": "code",
   "execution_count": 109,
   "outputs": [
    {
     "name": "stdout",
     "output_type": "stream",
     "text": [
      "would like; medium build; social drinker; quiet nights; non smoker;\n",
      "long term; age open; Would like; easy going; financially secure; fun\n",
      "times; similar interests; Age open; weekends away; poss rship; well\n",
      "presented; never married; single mum; permanent relationship; slim\n",
      "build\n"
     ]
    }
   ],
   "source": [
    "text8.collocations()"
   ],
   "metadata": {
    "collapsed": false,
    "pycharm": {
     "name": "#%%\n"
    }
   }
  },
  {
   "cell_type": "code",
   "execution_count": 110,
   "outputs": [
    {
     "data": {
      "text/plain": "[1,\n 4,\n 4,\n 2,\n 6,\n 8,\n 4,\n 1,\n 9,\n 1,\n 1,\n 8,\n 2,\n 1,\n 4,\n 11,\n 5,\n 2,\n 1,\n 7,\n 6,\n 1,\n 3,\n 4,\n 5,\n 2,\n 10,\n 2,\n 4,\n 1,\n 5,\n 1,\n 4,\n 1,\n 3,\n 5,\n 1,\n 1,\n 3,\n 3,\n 3,\n 1,\n 2,\n 3,\n 4,\n 7,\n 3,\n 3,\n 8,\n 3,\n 8,\n 1,\n 4,\n 1,\n 5,\n 12,\n 1,\n 9,\n 11,\n 4,\n 3,\n 3,\n 3,\n 5,\n 2,\n 3,\n 3,\n 5,\n 7,\n 2,\n 3,\n 5,\n 1,\n 2,\n 5,\n 2,\n 4,\n 3,\n 3,\n 8,\n 1,\n 2,\n 7,\n 6,\n 8,\n 3,\n 2,\n 3,\n 9,\n 1,\n 1,\n 5,\n 3,\n 4,\n 2,\n 4,\n 2,\n 6,\n 6,\n 1,\n 3,\n 2,\n 5,\n 4,\n 2,\n 4,\n 4,\n 1,\n 5,\n 1,\n 4,\n 2,\n 2,\n 2,\n 6,\n 2,\n 3,\n 6,\n 7,\n 3,\n 1,\n 7,\n 9,\n 1,\n 3,\n 6,\n 1,\n 1,\n 5,\n 6,\n 5,\n 6,\n 3,\n 13,\n 2,\n 3,\n 4,\n 1,\n 3,\n 7,\n 4,\n 5,\n 2,\n 3,\n 4,\n 2,\n 2,\n 8,\n 1,\n 5,\n 1,\n 3,\n 2,\n 1,\n 3,\n 3,\n 1,\n 4,\n 1,\n 4,\n 6,\n 2,\n 5,\n 4,\n 9,\n 2,\n 7,\n 1,\n 3,\n 2,\n 3,\n 1,\n 5,\n 2,\n 6,\n 2,\n 7,\n 2,\n 2,\n 7,\n 1,\n 1,\n 10,\n 1,\n 5,\n 1,\n 3,\n 2,\n 2,\n 4,\n 11,\n 4,\n 3,\n 3,\n 1,\n 3,\n 3,\n 1,\n 6,\n 1,\n 1,\n 1,\n 1,\n 1,\n 4,\n 1,\n 3,\n 1,\n 2,\n 4,\n 1,\n 2,\n 6,\n 2,\n 2,\n 10,\n 1,\n 1,\n 10,\n 5,\n 1,\n 5,\n 1,\n 5,\n 1,\n 5,\n 1,\n 5,\n 1,\n 5,\n 1,\n 5,\n 1,\n 5,\n 1,\n 6,\n 1,\n 3,\n 1,\n 5,\n 1,\n 4,\n 1,\n 7,\n 1,\n 5,\n 1,\n 9,\n 1,\n 5,\n 1,\n 7,\n 1,\n 7,\n 1,\n 6,\n 1,\n 7,\n 1,\n 7,\n 1,\n 5,\n 1,\n 4,\n 1,\n 4,\n 1,\n 5,\n 1,\n 5,\n 1,\n 4,\n 1,\n 4,\n 1,\n 11,\n 1,\n 8,\n 1,\n 8,\n 2,\n 1,\n 3,\n 1,\n 3,\n 1,\n 9,\n 2,\n 2,\n 4,\n 2,\n 4,\n 4,\n 4,\n 4,\n 11,\n 8,\n 3,\n 4,\n 1,\n 4,\n 2,\n 1,\n 4,\n 5,\n 2,\n 1,\n 3,\n 1,\n 3,\n 7,\n 2,\n 4,\n 4,\n 7,\n 3,\n 4,\n 8,\n 3,\n 6,\n 1,\n 6,\n 2,\n 3,\n 5,\n 1,\n 7,\n 2,\n 8,\n 6,\n 9,\n 2,\n 6,\n 2,\n 5,\n 7,\n 4,\n 2,\n 3,\n 4,\n 10,\n 1,\n 6,\n 2,\n 7,\n 1,\n 9,\n 3,\n 4,\n 3,\n 1,\n 2,\n 5,\n 4,\n 2,\n 5,\n 1,\n 4,\n 3,\n 8,\n 1,\n 8,\n 5,\n 10,\n 1,\n 7,\n 9,\n 1,\n 2,\n 5,\n 8,\n 1,\n 3,\n 9,\n 6,\n 8,\n 1,\n 3,\n 4,\n 2,\n 1,\n 2,\n 8,\n 3,\n 7,\n 7,\n 9,\n 1,\n 2,\n 4,\n 2,\n 3,\n 5,\n 4,\n 9,\n 1,\n 5,\n 8,\n 3,\n 6,\n 8,\n 2,\n 12,\n 1,\n 2,\n 9,\n 1,\n 8,\n 4,\n 1,\n 1,\n 3,\n 4,\n 2,\n 4,\n 3,\n 4,\n 13,\n 4,\n 1,\n 7,\n 1,\n 7,\n 1,\n 3,\n 4,\n 2,\n 9,\n 1,\n 2,\n 4,\n 7,\n 3,\n 11,\n 1,\n 9,\n 3,\n 3,\n 1,\n 2,\n 4,\n 4,\n 4,\n 1,\n 4,\n 5,\n 2,\n 1,\n 3,\n 1,\n 3,\n 1,\n 5,\n 11,\n 1,\n 2,\n 1,\n 4,\n 9,\n 2,\n 4,\n 8,\n 1,\n 6,\n 5,\n 5,\n 2,\n 4,\n 2,\n 4,\n 5,\n 4,\n 4,\n 4,\n 1,\n 3,\n 3,\n 4,\n 4,\n 4,\n 6,\n 5,\n 2,\n 3,\n 4,\n 1,\n 6,\n 1,\n 3,\n 4,\n 4,\n 3,\n 9,\n 5,\n 2,\n 3,\n 1,\n 3,\n 4,\n 4,\n 1,\n 8,\n 1,\n 3,\n 1,\n 3,\n 4,\n 9,\n 4,\n 5,\n 1,\n 3,\n 3,\n 2,\n 4,\n 7,\n 1,\n 4,\n 4,\n 4,\n 3,\n 5,\n 7,\n 1,\n 3,\n 2,\n 3,\n 10,\n 10,\n 7,\n 2,\n 4,\n 2,\n 2,\n 1,\n 3,\n 1,\n 4,\n 1,\n 3,\n 2,\n 3,\n 4,\n 3,\n 4,\n 5,\n 2,\n 4,\n 2,\n 6,\n 3,\n 5,\n 1,\n 2,\n 2,\n 4,\n 3,\n 4,\n 5,\n 2,\n 3,\n 4,\n 2,\n 9,\n 1,\n 5,\n 4,\n 1,\n 5,\n 5,\n 3,\n 7,\n 5,\n 3,\n 3,\n 9,\n 3,\n 2,\n 1,\n 3,\n 4,\n 4,\n 4,\n 5,\n 3,\n 3,\n 5,\n 2,\n 3,\n 5,\n 1,\n 4,\n 4,\n 4,\n 6,\n 1,\n 3,\n 4,\n 7,\n 3,\n 4,\n 4,\n 6,\n 3,\n 8,\n 3,\n 3,\n 5,\n 1,\n 7,\n 7,\n 1,\n 3,\n 6,\n 8,\n 2,\n 4,\n 1,\n 8,\n 7,\n 1,\n 7,\n 1,\n 3,\n 7,\n 1,\n 7,\n 4,\n 6,\n 1,\n 4,\n 2,\n 6,\n 3,\n 10,\n 6,\n 8,\n 2,\n 5,\n 1,\n 2,\n 5,\n 6,\n 14,\n 7,\n 1,\n 8,\n 1,\n 1,\n 3,\n 3,\n 7,\n 5,\n 6,\n 2,\n 2,\n 7,\n 1,\n 1,\n 9,\n 6,\n 1,\n 4,\n 2,\n 5,\n 5,\n 3,\n 1,\n 3,\n 5,\n 5,\n 3,\n 4,\n 2,\n 2,\n 5,\n 2,\n 2,\n 3,\n 1,\n 1,\n 3,\n 3,\n 4,\n 3,\n 8,\n 1,\n 5,\n 4,\n 2,\n 7,\n 2,\n 5,\n 2,\n 2,\n 5,\n 1,\n 1,\n 5,\n 2,\n 3,\n 5,\n 1,\n 5,\n 2,\n 4,\n 9,\n 4,\n 4,\n 4,\n 4,\n 2,\n 4,\n 7,\n 2,\n 2,\n 6,\n 1,\n 1,\n 2,\n 4,\n 3,\n 1,\n 3,\n 4,\n 4,\n 3,\n 4,\n 1,\n 3,\n 5,\n 1,\n 3,\n 6,\n 5,\n 1,\n 5,\n 6,\n 9,\n 3,\n 8,\n 7,\n 1,\n 4,\n 9,\n 4,\n 7,\n 7,\n 1,\n 3,\n 2,\n 5,\n 4,\n 3,\n 6,\n 4,\n 2,\n 2,\n 3,\n 3,\n 2,\n 2,\n 6,\n 1,\n 3,\n 4,\n 5,\n 6,\n 7,\n 6,\n 6,\n 3,\n 5,\n 2,\n 4,\n 7,\n 1,\n 1,\n 5,\n 1,\n 2,\n 2,\n 5,\n 1,\n 4,\n 1,\n 2,\n 5,\n 1,\n 4,\n 2,\n 4,\n 3,\n 13,\n 4,\n 4,\n 5,\n 7,\n 2,\n 3,\n 1,\n 3,\n 9,\n 2,\n 3,\n 10,\n 4,\n 2,\n 3,\n 6,\n 2,\n 2,\n 7,\n 1,\n 1,\n 8,\n 1,\n 1,\n 6,\n 1,\n 1,\n 3,\n 6,\n 3,\n 8,\n 3,\n 4,\n 3,\n 3,\n 7,\n 6,\n 4,\n 3,\n 1,\n 5,\n 5,\n 3,\n 6,\n 3,\n 11,\n 6,\n 7,\n 1,\n 4,\n 2,\n 2,\n 4,\n 2,\n 6,\n 2,\n 4,\n 5,\n 2,\n 6,\n 2,\n 4,\n 2,\n 2,\n 7,\n 1,\n 1,\n 5,\n 1,\n 1,\n 8,\n 3,\n 2,\n 9,\n 3,\n 4,\n 2,\n 3,\n 3,\n 1,\n 4,\n 5,\n 7,\n 1,\n 5,\n 4,\n 6,\n 3,\n 5,\n 8,\n 2,\n 3,\n 3,\n 1,\n 8,\n 1,\n 5,\n 3,\n 6,\n 1,\n 3,\n 3,\n 2,\n 1,\n 4,\n 9,\n 4,\n 1,\n 3,\n 4,\n 4,\n 7,\n 2,\n 1,\n 4,\n 1,\n 7,\n 1,\n 7,\n 3,\n 5,\n 2,\n 3,\n 5,\n 1,\n 3,\n 7,\n 3,\n 3,\n 6,\n 3,\n 4,\n 1,\n 4,\n 2,\n 2,\n 5,\n 1,\n 1,\n 6,\n 1,\n 1,\n 3,\n 4,\n 7,\n 2,\n 1,\n 2,\n 7,\n 4,\n 7,\n 4,\n 4,\n 1,\n 4,\n 2,\n 8,\n 5,\n 1,\n 6,\n 1,\n 5,\n 3,\n 5,\n 2,\n 4,\n 5,\n 5,\n 3,\n 5,\n 5,\n 1,\n 2,\n 5,\n 2,\n 7,\n 4,\n 2,\n 3,\n 4,\n 1,\n 3,\n 3,\n 4,\n 6,\n 4,\n 7,\n 2,\n 3,\n 3,\n 7,\n 1,\n 2,\n 5,\n 4,\n 4,\n 5,\n 1,\n 5,\n 1,\n 4,\n 5,\n 5,\n 4,\n 1,\n 2,\n ...]"
     },
     "execution_count": 110,
     "metadata": {},
     "output_type": "execute_result"
    }
   ],
   "source": [
    "[len(w) for w in text1]"
   ],
   "metadata": {
    "collapsed": false,
    "pycharm": {
     "name": "#%%\n"
    }
   }
  },
  {
   "cell_type": "code",
   "execution_count": 111,
   "outputs": [],
   "source": [
    "fdist = FreqDist([len(w) for w in text1])"
   ],
   "metadata": {
    "collapsed": false,
    "pycharm": {
     "name": "#%%\n"
    }
   }
  },
  {
   "cell_type": "code",
   "execution_count": 112,
   "outputs": [
    {
     "data": {
      "text/plain": "FreqDist({3: 50223, 1: 47933, 4: 42345, 2: 38513, 5: 26597, 6: 17111, 7: 14399, 8: 9966, 9: 6428, 10: 3528, ...})"
     },
     "execution_count": 112,
     "metadata": {},
     "output_type": "execute_result"
    }
   ],
   "source": [
    "fdist"
   ],
   "metadata": {
    "collapsed": false,
    "pycharm": {
     "name": "#%%\n"
    }
   }
  },
  {
   "cell_type": "code",
   "execution_count": 113,
   "outputs": [
    {
     "data": {
      "text/plain": "dict_keys([1, 4, 2, 6, 8, 9, 11, 5, 7, 3, 10, 12, 13, 14, 16, 15, 17, 18, 20])"
     },
     "execution_count": 113,
     "metadata": {},
     "output_type": "execute_result"
    }
   ],
   "source": [
    "fdist.keys()"
   ],
   "metadata": {
    "collapsed": false,
    "pycharm": {
     "name": "#%%\n"
    }
   }
  },
  {
   "cell_type": "code",
   "execution_count": 114,
   "outputs": [
    {
     "data": {
      "text/plain": "dict_items([(1, 47933), (4, 42345), (2, 38513), (6, 17111), (8, 9966), (9, 6428), (11, 1873), (5, 26597), (7, 14399), (3, 50223), (10, 3528), (12, 1053), (13, 567), (14, 177), (16, 22), (15, 70), (17, 12), (18, 1), (20, 1)])"
     },
     "execution_count": 114,
     "metadata": {},
     "output_type": "execute_result"
    }
   ],
   "source": [
    "fdist.items()"
   ],
   "metadata": {
    "collapsed": false,
    "pycharm": {
     "name": "#%%\n"
    }
   }
  },
  {
   "cell_type": "code",
   "execution_count": 115,
   "outputs": [
    {
     "data": {
      "text/plain": "3"
     },
     "execution_count": 115,
     "metadata": {},
     "output_type": "execute_result"
    }
   ],
   "source": [
    "fdist.max()"
   ],
   "metadata": {
    "collapsed": false,
    "pycharm": {
     "name": "#%%\n"
    }
   }
  },
  {
   "cell_type": "code",
   "execution_count": 116,
   "outputs": [
    {
     "data": {
      "text/plain": "50223"
     },
     "execution_count": 116,
     "metadata": {},
     "output_type": "execute_result"
    }
   ],
   "source": [
    "fdist[3]"
   ],
   "metadata": {
    "collapsed": false,
    "pycharm": {
     "name": "#%%\n"
    }
   }
  },
  {
   "cell_type": "code",
   "execution_count": 117,
   "outputs": [
    {
     "data": {
      "text/plain": "0.19255882431878046"
     },
     "execution_count": 117,
     "metadata": {},
     "output_type": "execute_result"
    }
   ],
   "source": [
    "fdist.freq(3)"
   ],
   "metadata": {
    "collapsed": false,
    "pycharm": {
     "name": "#%%\n"
    }
   }
  },
  {
   "cell_type": "code",
   "execution_count": 118,
   "outputs": [
    {
     "data": {
      "text/plain": "['Pierre',\n 'Vinken',\n ',',\n '61',\n 'years',\n 'old',\n ',',\n 'will',\n 'join',\n 'the',\n 'board',\n 'as',\n 'a',\n 'nonexecutive',\n 'director',\n 'Nov.',\n '29',\n '.']"
     },
     "execution_count": 118,
     "metadata": {},
     "output_type": "execute_result"
    }
   ],
   "source": [
    "sent7"
   ],
   "metadata": {
    "collapsed": false,
    "pycharm": {
     "name": "#%%\n"
    }
   }
  },
  {
   "cell_type": "code",
   "execution_count": 119,
   "outputs": [
    {
     "data": {
      "text/plain": "[',', '61', 'old', ',', 'the', 'as', 'a', '29', '.']"
     },
     "execution_count": 119,
     "metadata": {},
     "output_type": "execute_result"
    }
   ],
   "source": [
    "[w for w in sent7 if len(w) < 4]"
   ],
   "metadata": {
    "collapsed": false,
    "pycharm": {
     "name": "#%%\n"
    }
   }
  },
  {
   "cell_type": "code",
   "execution_count": 120,
   "outputs": [
    {
     "data": {
      "text/plain": "[',', '61', 'old', ',', 'will', 'join', 'the', 'as', 'a', 'Nov.', '29', '.']"
     },
     "execution_count": 120,
     "metadata": {},
     "output_type": "execute_result"
    }
   ],
   "source": [
    "[w for w in sent7 if len(w) <= 4]"
   ],
   "metadata": {
    "collapsed": false,
    "pycharm": {
     "name": "#%%\n"
    }
   }
  },
  {
   "cell_type": "code",
   "execution_count": 121,
   "outputs": [
    {
     "data": {
      "text/plain": "['will', 'join', 'Nov.']"
     },
     "execution_count": 121,
     "metadata": {},
     "output_type": "execute_result"
    }
   ],
   "source": [
    "[w for w in sent7 if len(w) == 4]"
   ],
   "metadata": {
    "collapsed": false,
    "pycharm": {
     "name": "#%%\n"
    }
   }
  },
  {
   "cell_type": "code",
   "execution_count": 122,
   "outputs": [
    {
     "data": {
      "text/plain": "['Pierre',\n 'Vinken',\n ',',\n '61',\n 'years',\n 'old',\n ',',\n 'the',\n 'board',\n 'as',\n 'a',\n 'nonexecutive',\n 'director',\n '29',\n '.']"
     },
     "execution_count": 122,
     "metadata": {},
     "output_type": "execute_result"
    }
   ],
   "source": [
    "[w for w in sent7 if len(w) != 4]"
   ],
   "metadata": {
    "collapsed": false,
    "pycharm": {
     "name": "#%%\n"
    }
   }
  },
  {
   "cell_type": "code",
   "execution_count": 123,
   "outputs": [
    {
     "data": {
      "text/plain": "['comfortableness',\n 'honourableness',\n 'immutableness',\n 'indispensableness',\n 'indomitableness',\n 'intolerableness',\n 'palpableness',\n 'reasonableness',\n 'uncomfortableness']"
     },
     "execution_count": 123,
     "metadata": {},
     "output_type": "execute_result"
    }
   ],
   "source": [
    "sorted([w for w in set(text1) if w.endswith('ableness')])"
   ],
   "metadata": {
    "collapsed": false,
    "pycharm": {
     "name": "#%%\n"
    }
   }
  },
  {
   "cell_type": "code",
   "execution_count": 124,
   "outputs": [
    {
     "data": {
      "text/plain": "['Sovereignty', 'sovereignties', 'sovereignty']"
     },
     "execution_count": 124,
     "metadata": {},
     "output_type": "execute_result"
    }
   ],
   "source": [
    "sorted([term for term in set(text4) if 'gnt' in term])"
   ],
   "metadata": {
    "collapsed": false,
    "pycharm": {
     "name": "#%%\n"
    }
   }
  },
  {
   "cell_type": "code",
   "execution_count": 125,
   "outputs": [
    {
     "data": {
      "text/plain": "['A',\n 'Aaaaaaaaah',\n 'Aaaaaaaah',\n 'Aaaaaah',\n 'Aaaah',\n 'Aaaaugh',\n 'Aaagh',\n 'Aaah',\n 'Aaauggh',\n 'Aaaugh',\n 'Aaauugh',\n 'Aagh',\n 'Aah',\n 'Aauuggghhh',\n 'Aauuugh',\n 'Aauuuuugh',\n 'Aauuuves',\n 'Action',\n 'Actually',\n 'African',\n 'Ages',\n 'Aggh',\n 'Agh',\n 'Ah',\n 'Ahh',\n 'Alice',\n 'All',\n 'Allo',\n 'Almighty',\n 'Alright',\n 'Am',\n 'Amen',\n 'An',\n 'Anarcho',\n 'And',\n 'Angnor',\n 'Anthrax',\n 'Antioch',\n 'Anybody',\n 'Anyway',\n 'Apples',\n 'Aramaic',\n 'Are',\n 'Arimathea',\n 'Armaments',\n 'Arthur',\n 'As',\n 'Ask',\n 'Assyria',\n 'At',\n 'Attila',\n 'Augh',\n 'Autumn',\n 'Auuuuuuuugh',\n 'Away',\n 'Ay',\n 'Ayy',\n 'B',\n 'Back',\n 'Bad',\n 'Badon',\n 'Battle',\n 'Be',\n 'Beast',\n 'Bedevere',\n 'Bedwere',\n 'Behold',\n 'Between',\n 'Beyond',\n 'Black',\n 'Bloody',\n 'Blue',\n 'Bon',\n 'Bones',\n 'Book',\n 'Bors',\n 'Brave',\n 'Bravely',\n 'Bravest',\n 'Bread',\n 'Bridge',\n 'Bring',\n 'Bristol',\n 'Britain',\n 'Britons',\n 'Brother',\n 'Build',\n 'Burn',\n 'But',\n 'By',\n 'C',\n 'Caerbannog',\n 'Camaaaaaargue',\n 'Camelot',\n 'Castle',\n 'Chapter',\n 'Charge',\n 'Chaste',\n 'Cherries',\n 'Chicken',\n 'Chickennn',\n 'Chop',\n 'Christ',\n 'Churches',\n 'Cider',\n 'Clark',\n 'Clear',\n 'Come',\n 'Concorde',\n 'Consult',\n 'Cornwall',\n 'Could',\n 'Course',\n 'Court',\n 'Crapper',\n 'Cut',\n 'Dappy',\n 'Death',\n 'Defeat',\n 'Dennis',\n 'Did',\n 'Didn',\n 'Dingo',\n 'Dis',\n 'Divine',\n 'Do',\n 'Doctor',\n 'Does',\n 'Don',\n 'Dragon',\n 'Dramatically',\n 'Ecky',\n 'Ector',\n 'Eee',\n 'Eh',\n 'Enchanter',\n 'England',\n 'English',\n 'Erbert',\n 'Ere',\n 'Erm',\n 'Eternal',\n 'European',\n 'Even',\n 'Every',\n 'Everything',\n 'Ewing',\n 'Exactly',\n 'Excalibur',\n 'Excuse',\n 'Explain',\n 'Far',\n 'Farewell',\n 'Father',\n 'Fetchez',\n 'Fiends',\n 'Fine',\n 'First',\n 'Firstly',\n 'Five',\n 'Follow',\n 'For',\n 'Forgive',\n 'Forward',\n 'Found',\n 'Four',\n 'France',\n 'Frank',\n 'French',\n 'Gable',\n 'Galahad',\n 'Gallahad',\n 'Gawain',\n 'Get',\n 'Go',\n 'God',\n 'Good',\n 'Gorge',\n 'Grail',\n 'Great',\n 'Greetings',\n 'Grenade',\n 'Guards',\n 'Guy',\n 'Ha',\n 'Hah',\n 'Hallo',\n 'Halt',\n 'Hand',\n 'Hang',\n 'Have',\n 'Haw',\n 'He',\n 'Hee',\n 'Heee',\n 'Heh',\n 'Hello',\n 'Help',\n 'Herbert',\n 'Here',\n 'Hey',\n 'Hic',\n 'Hill',\n 'Himself',\n 'His',\n 'Hiyaah',\n 'Hiyah',\n 'Hiyya',\n 'Hm',\n 'Hmm',\n 'Ho',\n 'Hoa',\n 'Hold',\n 'Holy',\n 'Honestly',\n 'Hoo',\n 'Hooray',\n 'How',\n 'Huh',\n 'Hurry',\n 'Huy',\n 'Huyah',\n 'Hya',\n 'Hyy',\n 'I',\n 'Idiom',\n 'Iesu',\n 'If',\n 'Iiiiives',\n 'Iiiives',\n 'In',\n 'Is',\n 'Isn',\n 'It',\n 'Ives',\n 'Jesus',\n 'Joseph',\n 'Just',\n 'Keep',\n 'King',\n 'Knight',\n 'Knights',\n 'Lady',\n 'Lake',\n 'Lancelot',\n 'Launcelot',\n 'Lead',\n 'Leaving',\n 'Let',\n 'Lie',\n 'Like',\n 'Listen',\n 'Loimbard',\n 'Look',\n 'Looks',\n 'Lord',\n 'Lucky',\n 'Make',\n 'Man',\n 'May',\n 'Maynard',\n 'Meanwhile',\n 'Mercea',\n 'Message',\n 'Midget',\n 'Mind',\n 'Mine',\n 'Mmm',\n 'Monsieur',\n 'More',\n 'Morning',\n 'Most',\n 'Mother',\n 'Mud',\n 'Must',\n 'My',\n 'N',\n 'Nador',\n 'Nay',\n 'Neee',\n 'Never',\n 'Ni',\n 'Nine',\n 'Ninepence',\n 'No',\n 'None',\n 'Not',\n 'Nothing',\n 'Now',\n 'Nu',\n 'O',\n 'Of',\n 'Off',\n 'Oh',\n 'Ohh',\n 'Old',\n 'Olfin',\n 'On',\n 'Once',\n 'One',\n 'Ooh',\n 'Oooh',\n 'Oooo',\n 'Oooohoohohooo',\n 'Oooooooh',\n 'Open',\n 'Or',\n 'Order',\n 'Other',\n 'Oui',\n 'Our',\n 'Over',\n 'Ow',\n 'Packing',\n 'Patsy',\n 'Pendragon',\n 'Peng',\n 'Perhaps',\n 'Peril',\n 'Picture',\n 'Pie',\n 'Piglet',\n 'Pin',\n 'Please',\n 'Practice',\n 'Prepare',\n 'Prince',\n 'Princess',\n 'Providence',\n 'Psalms',\n 'Pull',\n 'Pure',\n 'Put',\n 'Quick',\n 'Quickly',\n 'Quiet',\n 'Quite',\n 'Quoi',\n 'Rather',\n 'Really',\n 'Recently',\n 'Remove',\n 'Rheged',\n 'Ridden',\n 'Right',\n 'Riiight',\n 'Robin',\n 'Robinson',\n 'Roger',\n 'Round',\n 'Run',\n 'Running',\n 'S',\n 'Said',\n 'Saint',\n 'Saxons',\n 'Say',\n 'Schools',\n 'See',\n 'Seek',\n 'Shall',\n 'She',\n 'Shh',\n 'Shrubber',\n 'Shrubberies',\n 'Shut',\n 'Silence',\n 'Silly',\n 'Since',\n 'Sir',\n 'Skip',\n 'So',\n 'Sorry',\n 'Speak',\n 'Splendid',\n 'Spring',\n 'Stand',\n 'Stay',\n 'Steady',\n 'Stop',\n 'Summer',\n 'Supposing',\n 'Supreme',\n 'Surely',\n 'Swamp',\n 'Table',\n 'Tale',\n 'Tall',\n 'Tell',\n 'Thank',\n 'That',\n 'The',\n 'Thee',\n 'Then',\n 'There',\n 'Therefore',\n 'They',\n 'This',\n 'Those',\n 'Thou',\n 'Thpppppt',\n 'Thppppt',\n 'Thpppt',\n 'Thppt',\n 'Three',\n 'Throw',\n 'Thsss',\n 'Thursday',\n 'Thy',\n 'Til',\n 'Tim',\n 'Tis',\n 'To',\n 'Today',\n 'Together',\n 'Too',\n 'Torment',\n 'Tower',\n 'True',\n 'Try',\n 'Twenty',\n 'Two',\n 'U',\n 'Uh',\n 'Uhh',\n 'Ulk',\n 'Um',\n 'Umhm',\n 'Umm',\n 'Un',\n 'Unfortunately',\n 'Until',\n 'Use',\n 'Uther',\n 'Uugh',\n 'Uuh',\n 'Very',\n 'Victory',\n 'W',\n 'Waa',\n 'Wait',\n 'Walk',\n 'Wayy',\n 'We',\n 'Welcome',\n 'Well',\n 'What',\n 'When',\n 'Where',\n 'Which',\n 'Who',\n 'Whoa',\n 'Why',\n 'Will',\n 'Winston',\n 'Winter',\n 'With',\n 'Woa',\n 'Wood',\n 'Would',\n 'Y',\n 'Yapping',\n 'Yay',\n 'Yeaaah',\n 'Yeaah',\n 'Yeah',\n 'Yes',\n 'You',\n 'Your',\n 'Yup',\n 'Zoot']"
     },
     "execution_count": 125,
     "metadata": {},
     "output_type": "execute_result"
    }
   ],
   "source": [
    "sorted([item for item in set(text6) if item.istitle()])"
   ],
   "metadata": {
    "collapsed": false,
    "pycharm": {
     "name": "#%%\n"
    }
   }
  },
  {
   "cell_type": "code",
   "execution_count": 126,
   "outputs": [
    {
     "data": {
      "text/plain": "['29', '61']"
     },
     "execution_count": 126,
     "metadata": {},
     "output_type": "execute_result"
    }
   ],
   "source": [
    "sorted([item for item in set(sent7) if item.isdigit()])"
   ],
   "metadata": {
    "collapsed": false,
    "pycharm": {
     "name": "#%%\n"
    }
   }
  },
  {
   "cell_type": "code",
   "execution_count": 127,
   "outputs": [
    {
     "data": {
      "text/plain": "['Stock-index',\n 'index-arbitrage',\n 'index-fund',\n 'index-options',\n 'index-related',\n 'stock-index']"
     },
     "execution_count": 127,
     "metadata": {},
     "output_type": "execute_result"
    }
   ],
   "source": [
    "sorted([w for w in set(text7) if '-' in w and 'index' in w])"
   ],
   "metadata": {
    "collapsed": false,
    "pycharm": {
     "name": "#%%\n"
    }
   }
  },
  {
   "cell_type": "code",
   "execution_count": 128,
   "outputs": [
    {
     "data": {
      "text/plain": "['Abelmizraim',\n 'Allonbachuth',\n 'Beerlahairoi',\n 'Canaanitish',\n 'Chedorlaomer',\n 'Girgashites',\n 'Hazarmaveth',\n 'Hazezontamar',\n 'Ishmeelites',\n 'Jegarsahadutha',\n 'Jehovahjireh',\n 'Kirjatharba',\n 'Melchizedek',\n 'Mesopotamia',\n 'Peradventure',\n 'Philistines',\n 'Zaphnathpaaneah']"
     },
     "execution_count": 128,
     "metadata": {},
     "output_type": "execute_result"
    }
   ],
   "source": [
    "sorted([wd for wd in set(text3) if wd.istitle() and len(wd) > 10])"
   ],
   "metadata": {
    "collapsed": false,
    "pycharm": {
     "name": "#%%\n"
    }
   }
  },
  {
   "cell_type": "code",
   "execution_count": 129,
   "outputs": [
    {
     "data": {
      "text/plain": "[',', '.', '29', '61', 'Nov.', 'Pierre', 'Vinken']"
     },
     "execution_count": 129,
     "metadata": {},
     "output_type": "execute_result"
    }
   ],
   "source": [
    "sorted([w for w in set(sent7) if not w.islower()])"
   ],
   "metadata": {
    "collapsed": false,
    "pycharm": {
     "name": "#%%\n"
    }
   }
  },
  {
   "cell_type": "code",
   "execution_count": 130,
   "outputs": [
    {
     "data": {
      "text/plain": "['ancient',\n 'ceiling',\n 'conceit',\n 'conceited',\n 'conceive',\n 'conscience',\n 'conscientious',\n 'conscientiously',\n 'deceitful',\n 'deceive',\n 'deceived',\n 'deceiving',\n 'deficiencies',\n 'deficiency',\n 'deficient',\n 'delicacies',\n 'excellencies',\n 'fancied',\n 'insufficiency',\n 'insufficient',\n 'legacies',\n 'perceive',\n 'perceived',\n 'perceiving',\n 'prescience',\n 'prophecies',\n 'receipt',\n 'receive',\n 'received',\n 'receiving',\n 'society',\n 'species',\n 'sufficient',\n 'sufficiently',\n 'undeceive',\n 'undeceiving']"
     },
     "execution_count": 130,
     "metadata": {},
     "output_type": "execute_result"
    }
   ],
   "source": [
    "sorted([t for t in set(text2) if 'cie' in t or 'cei' in t])"
   ],
   "metadata": {
    "collapsed": false,
    "pycharm": {
     "name": "#%%\n"
    }
   }
  },
  {
   "cell_type": "code",
   "execution_count": 131,
   "outputs": [
    {
     "data": {
      "text/plain": "[1,\n 4,\n 4,\n 2,\n 6,\n 8,\n 4,\n 1,\n 9,\n 1,\n 1,\n 8,\n 2,\n 1,\n 4,\n 11,\n 5,\n 2,\n 1,\n 7,\n 6,\n 1,\n 3,\n 4,\n 5,\n 2,\n 10,\n 2,\n 4,\n 1,\n 5,\n 1,\n 4,\n 1,\n 3,\n 5,\n 1,\n 1,\n 3,\n 3,\n 3,\n 1,\n 2,\n 3,\n 4,\n 7,\n 3,\n 3,\n 8,\n 3,\n 8,\n 1,\n 4,\n 1,\n 5,\n 12,\n 1,\n 9,\n 11,\n 4,\n 3,\n 3,\n 3,\n 5,\n 2,\n 3,\n 3,\n 5,\n 7,\n 2,\n 3,\n 5,\n 1,\n 2,\n 5,\n 2,\n 4,\n 3,\n 3,\n 8,\n 1,\n 2,\n 7,\n 6,\n 8,\n 3,\n 2,\n 3,\n 9,\n 1,\n 1,\n 5,\n 3,\n 4,\n 2,\n 4,\n 2,\n 6,\n 6,\n 1,\n 3,\n 2,\n 5,\n 4,\n 2,\n 4,\n 4,\n 1,\n 5,\n 1,\n 4,\n 2,\n 2,\n 2,\n 6,\n 2,\n 3,\n 6,\n 7,\n 3,\n 1,\n 7,\n 9,\n 1,\n 3,\n 6,\n 1,\n 1,\n 5,\n 6,\n 5,\n 6,\n 3,\n 13,\n 2,\n 3,\n 4,\n 1,\n 3,\n 7,\n 4,\n 5,\n 2,\n 3,\n 4,\n 2,\n 2,\n 8,\n 1,\n 5,\n 1,\n 3,\n 2,\n 1,\n 3,\n 3,\n 1,\n 4,\n 1,\n 4,\n 6,\n 2,\n 5,\n 4,\n 9,\n 2,\n 7,\n 1,\n 3,\n 2,\n 3,\n 1,\n 5,\n 2,\n 6,\n 2,\n 7,\n 2,\n 2,\n 7,\n 1,\n 1,\n 10,\n 1,\n 5,\n 1,\n 3,\n 2,\n 2,\n 4,\n 11,\n 4,\n 3,\n 3,\n 1,\n 3,\n 3,\n 1,\n 6,\n 1,\n 1,\n 1,\n 1,\n 1,\n 4,\n 1,\n 3,\n 1,\n 2,\n 4,\n 1,\n 2,\n 6,\n 2,\n 2,\n 10,\n 1,\n 1,\n 10,\n 5,\n 1,\n 5,\n 1,\n 5,\n 1,\n 5,\n 1,\n 5,\n 1,\n 5,\n 1,\n 5,\n 1,\n 5,\n 1,\n 6,\n 1,\n 3,\n 1,\n 5,\n 1,\n 4,\n 1,\n 7,\n 1,\n 5,\n 1,\n 9,\n 1,\n 5,\n 1,\n 7,\n 1,\n 7,\n 1,\n 6,\n 1,\n 7,\n 1,\n 7,\n 1,\n 5,\n 1,\n 4,\n 1,\n 4,\n 1,\n 5,\n 1,\n 5,\n 1,\n 4,\n 1,\n 4,\n 1,\n 11,\n 1,\n 8,\n 1,\n 8,\n 2,\n 1,\n 3,\n 1,\n 3,\n 1,\n 9,\n 2,\n 2,\n 4,\n 2,\n 4,\n 4,\n 4,\n 4,\n 11,\n 8,\n 3,\n 4,\n 1,\n 4,\n 2,\n 1,\n 4,\n 5,\n 2,\n 1,\n 3,\n 1,\n 3,\n 7,\n 2,\n 4,\n 4,\n 7,\n 3,\n 4,\n 8,\n 3,\n 6,\n 1,\n 6,\n 2,\n 3,\n 5,\n 1,\n 7,\n 2,\n 8,\n 6,\n 9,\n 2,\n 6,\n 2,\n 5,\n 7,\n 4,\n 2,\n 3,\n 4,\n 10,\n 1,\n 6,\n 2,\n 7,\n 1,\n 9,\n 3,\n 4,\n 3,\n 1,\n 2,\n 5,\n 4,\n 2,\n 5,\n 1,\n 4,\n 3,\n 8,\n 1,\n 8,\n 5,\n 10,\n 1,\n 7,\n 9,\n 1,\n 2,\n 5,\n 8,\n 1,\n 3,\n 9,\n 6,\n 8,\n 1,\n 3,\n 4,\n 2,\n 1,\n 2,\n 8,\n 3,\n 7,\n 7,\n 9,\n 1,\n 2,\n 4,\n 2,\n 3,\n 5,\n 4,\n 9,\n 1,\n 5,\n 8,\n 3,\n 6,\n 8,\n 2,\n 12,\n 1,\n 2,\n 9,\n 1,\n 8,\n 4,\n 1,\n 1,\n 3,\n 4,\n 2,\n 4,\n 3,\n 4,\n 13,\n 4,\n 1,\n 7,\n 1,\n 7,\n 1,\n 3,\n 4,\n 2,\n 9,\n 1,\n 2,\n 4,\n 7,\n 3,\n 11,\n 1,\n 9,\n 3,\n 3,\n 1,\n 2,\n 4,\n 4,\n 4,\n 1,\n 4,\n 5,\n 2,\n 1,\n 3,\n 1,\n 3,\n 1,\n 5,\n 11,\n 1,\n 2,\n 1,\n 4,\n 9,\n 2,\n 4,\n 8,\n 1,\n 6,\n 5,\n 5,\n 2,\n 4,\n 2,\n 4,\n 5,\n 4,\n 4,\n 4,\n 1,\n 3,\n 3,\n 4,\n 4,\n 4,\n 6,\n 5,\n 2,\n 3,\n 4,\n 1,\n 6,\n 1,\n 3,\n 4,\n 4,\n 3,\n 9,\n 5,\n 2,\n 3,\n 1,\n 3,\n 4,\n 4,\n 1,\n 8,\n 1,\n 3,\n 1,\n 3,\n 4,\n 9,\n 4,\n 5,\n 1,\n 3,\n 3,\n 2,\n 4,\n 7,\n 1,\n 4,\n 4,\n 4,\n 3,\n 5,\n 7,\n 1,\n 3,\n 2,\n 3,\n 10,\n 10,\n 7,\n 2,\n 4,\n 2,\n 2,\n 1,\n 3,\n 1,\n 4,\n 1,\n 3,\n 2,\n 3,\n 4,\n 3,\n 4,\n 5,\n 2,\n 4,\n 2,\n 6,\n 3,\n 5,\n 1,\n 2,\n 2,\n 4,\n 3,\n 4,\n 5,\n 2,\n 3,\n 4,\n 2,\n 9,\n 1,\n 5,\n 4,\n 1,\n 5,\n 5,\n 3,\n 7,\n 5,\n 3,\n 3,\n 9,\n 3,\n 2,\n 1,\n 3,\n 4,\n 4,\n 4,\n 5,\n 3,\n 3,\n 5,\n 2,\n 3,\n 5,\n 1,\n 4,\n 4,\n 4,\n 6,\n 1,\n 3,\n 4,\n 7,\n 3,\n 4,\n 4,\n 6,\n 3,\n 8,\n 3,\n 3,\n 5,\n 1,\n 7,\n 7,\n 1,\n 3,\n 6,\n 8,\n 2,\n 4,\n 1,\n 8,\n 7,\n 1,\n 7,\n 1,\n 3,\n 7,\n 1,\n 7,\n 4,\n 6,\n 1,\n 4,\n 2,\n 6,\n 3,\n 10,\n 6,\n 8,\n 2,\n 5,\n 1,\n 2,\n 5,\n 6,\n 14,\n 7,\n 1,\n 8,\n 1,\n 1,\n 3,\n 3,\n 7,\n 5,\n 6,\n 2,\n 2,\n 7,\n 1,\n 1,\n 9,\n 6,\n 1,\n 4,\n 2,\n 5,\n 5,\n 3,\n 1,\n 3,\n 5,\n 5,\n 3,\n 4,\n 2,\n 2,\n 5,\n 2,\n 2,\n 3,\n 1,\n 1,\n 3,\n 3,\n 4,\n 3,\n 8,\n 1,\n 5,\n 4,\n 2,\n 7,\n 2,\n 5,\n 2,\n 2,\n 5,\n 1,\n 1,\n 5,\n 2,\n 3,\n 5,\n 1,\n 5,\n 2,\n 4,\n 9,\n 4,\n 4,\n 4,\n 4,\n 2,\n 4,\n 7,\n 2,\n 2,\n 6,\n 1,\n 1,\n 2,\n 4,\n 3,\n 1,\n 3,\n 4,\n 4,\n 3,\n 4,\n 1,\n 3,\n 5,\n 1,\n 3,\n 6,\n 5,\n 1,\n 5,\n 6,\n 9,\n 3,\n 8,\n 7,\n 1,\n 4,\n 9,\n 4,\n 7,\n 7,\n 1,\n 3,\n 2,\n 5,\n 4,\n 3,\n 6,\n 4,\n 2,\n 2,\n 3,\n 3,\n 2,\n 2,\n 6,\n 1,\n 3,\n 4,\n 5,\n 6,\n 7,\n 6,\n 6,\n 3,\n 5,\n 2,\n 4,\n 7,\n 1,\n 1,\n 5,\n 1,\n 2,\n 2,\n 5,\n 1,\n 4,\n 1,\n 2,\n 5,\n 1,\n 4,\n 2,\n 4,\n 3,\n 13,\n 4,\n 4,\n 5,\n 7,\n 2,\n 3,\n 1,\n 3,\n 9,\n 2,\n 3,\n 10,\n 4,\n 2,\n 3,\n 6,\n 2,\n 2,\n 7,\n 1,\n 1,\n 8,\n 1,\n 1,\n 6,\n 1,\n 1,\n 3,\n 6,\n 3,\n 8,\n 3,\n 4,\n 3,\n 3,\n 7,\n 6,\n 4,\n 3,\n 1,\n 5,\n 5,\n 3,\n 6,\n 3,\n 11,\n 6,\n 7,\n 1,\n 4,\n 2,\n 2,\n 4,\n 2,\n 6,\n 2,\n 4,\n 5,\n 2,\n 6,\n 2,\n 4,\n 2,\n 2,\n 7,\n 1,\n 1,\n 5,\n 1,\n 1,\n 8,\n 3,\n 2,\n 9,\n 3,\n 4,\n 2,\n 3,\n 3,\n 1,\n 4,\n 5,\n 7,\n 1,\n 5,\n 4,\n 6,\n 3,\n 5,\n 8,\n 2,\n 3,\n 3,\n 1,\n 8,\n 1,\n 5,\n 3,\n 6,\n 1,\n 3,\n 3,\n 2,\n 1,\n 4,\n 9,\n 4,\n 1,\n 3,\n 4,\n 4,\n 7,\n 2,\n 1,\n 4,\n 1,\n 7,\n 1,\n 7,\n 3,\n 5,\n 2,\n 3,\n 5,\n 1,\n 3,\n 7,\n 3,\n 3,\n 6,\n 3,\n 4,\n 1,\n 4,\n 2,\n 2,\n 5,\n 1,\n 1,\n 6,\n 1,\n 1,\n 3,\n 4,\n 7,\n 2,\n 1,\n 2,\n 7,\n 4,\n 7,\n 4,\n 4,\n 1,\n 4,\n 2,\n 8,\n 5,\n 1,\n 6,\n 1,\n 5,\n 3,\n 5,\n 2,\n 4,\n 5,\n 5,\n 3,\n 5,\n 5,\n 1,\n 2,\n 5,\n 2,\n 7,\n 4,\n 2,\n 3,\n 4,\n 1,\n 3,\n 3,\n 4,\n 6,\n 4,\n 7,\n 2,\n 3,\n 3,\n 7,\n 1,\n 2,\n 5,\n 4,\n 4,\n 5,\n 1,\n 5,\n 1,\n 4,\n 5,\n 5,\n 4,\n 1,\n 2,\n ...]"
     },
     "execution_count": 131,
     "metadata": {},
     "output_type": "execute_result"
    }
   ],
   "source": [
    "[len(w) for w in text1]"
   ],
   "metadata": {
    "collapsed": false,
    "pycharm": {
     "name": "#%%\n"
    }
   }
  },
  {
   "cell_type": "code",
   "execution_count": 132,
   "outputs": [
    {
     "data": {
      "text/plain": "['[',\n 'MOBY',\n 'DICK',\n 'BY',\n 'HERMAN',\n 'MELVILLE',\n '1851',\n ']',\n 'ETYMOLOGY',\n '.',\n '(',\n 'SUPPLIED',\n 'BY',\n 'A',\n 'LATE',\n 'CONSUMPTIVE',\n 'USHER',\n 'TO',\n 'A',\n 'GRAMMAR',\n 'SCHOOL',\n ')',\n 'THE',\n 'PALE',\n 'USHER',\n '--',\n 'THREADBARE',\n 'IN',\n 'COAT',\n ',',\n 'HEART',\n ',',\n 'BODY',\n ',',\n 'AND',\n 'BRAIN',\n ';',\n 'I',\n 'SEE',\n 'HIM',\n 'NOW',\n '.',\n 'HE',\n 'WAS',\n 'EVER',\n 'DUSTING',\n 'HIS',\n 'OLD',\n 'LEXICONS',\n 'AND',\n 'GRAMMARS',\n ',',\n 'WITH',\n 'A',\n 'QUEER',\n 'HANDKERCHIEF',\n ',',\n 'MOCKINGLY',\n 'EMBELLISHED',\n 'WITH',\n 'ALL',\n 'THE',\n 'GAY',\n 'FLAGS',\n 'OF',\n 'ALL',\n 'THE',\n 'KNOWN',\n 'NATIONS',\n 'OF',\n 'THE',\n 'WORLD',\n '.',\n 'HE',\n 'LOVED',\n 'TO',\n 'DUST',\n 'HIS',\n 'OLD',\n 'GRAMMARS',\n ';',\n 'IT',\n 'SOMEHOW',\n 'MILDLY',\n 'REMINDED',\n 'HIM',\n 'OF',\n 'HIS',\n 'MORTALITY',\n '.',\n '\"',\n 'WHILE',\n 'YOU',\n 'TAKE',\n 'IN',\n 'HAND',\n 'TO',\n 'SCHOOL',\n 'OTHERS',\n ',',\n 'AND',\n 'TO',\n 'TEACH',\n 'THEM',\n 'BY',\n 'WHAT',\n 'NAME',\n 'A',\n 'WHALE',\n '-',\n 'FISH',\n 'IS',\n 'TO',\n 'BE',\n 'CALLED',\n 'IN',\n 'OUR',\n 'TONGUE',\n 'LEAVING',\n 'OUT',\n ',',\n 'THROUGH',\n 'IGNORANCE',\n ',',\n 'THE',\n 'LETTER',\n 'H',\n ',',\n 'WHICH',\n 'ALMOST',\n 'ALONE',\n 'MAKETH',\n 'THE',\n 'SIGNIFICATION',\n 'OF',\n 'THE',\n 'WORD',\n ',',\n 'YOU',\n 'DELIVER',\n 'THAT',\n 'WHICH',\n 'IS',\n 'NOT',\n 'TRUE',\n '.\"',\n '--',\n 'HACKLUYT',\n '\"',\n 'WHALE',\n '.',\n '...',\n 'SW',\n '.',\n 'AND',\n 'DAN',\n '.',\n 'HVAL',\n '.',\n 'THIS',\n 'ANIMAL',\n 'IS',\n 'NAMED',\n 'FROM',\n 'ROUNDNESS',\n 'OR',\n 'ROLLING',\n ';',\n 'FOR',\n 'IN',\n 'DAN',\n '.',\n 'HVALT',\n 'IS',\n 'ARCHED',\n 'OR',\n 'VAULTED',\n '.\"',\n '--',\n 'WEBSTER',\n \"'\",\n 'S',\n 'DICTIONARY',\n '\"',\n 'WHALE',\n '.',\n '...',\n 'IT',\n 'IS',\n 'MORE',\n 'IMMEDIATELY',\n 'FROM',\n 'THE',\n 'DUT',\n '.',\n 'AND',\n 'GER',\n '.',\n 'WALLEN',\n ';',\n 'A',\n '.',\n 'S',\n '.',\n 'WALW',\n '-',\n 'IAN',\n ',',\n 'TO',\n 'ROLL',\n ',',\n 'TO',\n 'WALLOW',\n '.\"',\n '--',\n 'RICHARDSON',\n \"'\",\n 'S',\n 'DICTIONARY',\n 'KETOS',\n ',',\n 'GREEK',\n '.',\n 'CETUS',\n ',',\n 'LATIN',\n '.',\n 'WHOEL',\n ',',\n 'ANGLO',\n '-',\n 'SAXON',\n '.',\n 'HVALT',\n ',',\n 'DANISH',\n '.',\n 'WAL',\n ',',\n 'DUTCH',\n '.',\n 'HWAL',\n ',',\n 'SWEDISH',\n '.',\n 'WHALE',\n ',',\n 'ICELANDIC',\n '.',\n 'WHALE',\n ',',\n 'ENGLISH',\n '.',\n 'BALEINE',\n ',',\n 'FRENCH',\n '.',\n 'BALLENA',\n ',',\n 'SPANISH',\n '.',\n 'PEKEE',\n '-',\n 'NUEE',\n '-',\n 'NUEE',\n ',',\n 'FEGEE',\n '.',\n 'PEKEE',\n '-',\n 'NUEE',\n '-',\n 'NUEE',\n ',',\n 'ERROMANGOAN',\n '.',\n 'EXTRACTS',\n '(',\n 'SUPPLIED',\n 'BY',\n 'A',\n 'SUB',\n '-',\n 'SUB',\n '-',\n 'LIBRARIAN',\n ').',\n 'IT',\n 'WILL',\n 'BE',\n 'SEEN',\n 'THAT',\n 'THIS',\n 'MERE',\n 'PAINSTAKING',\n 'BURROWER',\n 'AND',\n 'GRUB',\n '-',\n 'WORM',\n 'OF',\n 'A',\n 'POOR',\n 'DEVIL',\n 'OF',\n 'A',\n 'SUB',\n '-',\n 'SUB',\n 'APPEARS',\n 'TO',\n 'HAVE',\n 'GONE',\n 'THROUGH',\n 'THE',\n 'LONG',\n 'VATICANS',\n 'AND',\n 'STREET',\n '-',\n 'STALLS',\n 'OF',\n 'THE',\n 'EARTH',\n ',',\n 'PICKING',\n 'UP',\n 'WHATEVER',\n 'RANDOM',\n 'ALLUSIONS',\n 'TO',\n 'WHALES',\n 'HE',\n 'COULD',\n 'ANYWAYS',\n 'FIND',\n 'IN',\n 'ANY',\n 'BOOK',\n 'WHATSOEVER',\n ',',\n 'SACRED',\n 'OR',\n 'PROFANE',\n '.',\n 'THEREFORE',\n 'YOU',\n 'MUST',\n 'NOT',\n ',',\n 'IN',\n 'EVERY',\n 'CASE',\n 'AT',\n 'LEAST',\n ',',\n 'TAKE',\n 'THE',\n 'HIGGLEDY',\n '-',\n 'PIGGLEDY',\n 'WHALE',\n 'STATEMENTS',\n ',',\n 'HOWEVER',\n 'AUTHENTIC',\n ',',\n 'IN',\n 'THESE',\n 'EXTRACTS',\n ',',\n 'FOR',\n 'VERITABLE',\n 'GOSPEL',\n 'CETOLOGY',\n '.',\n 'FAR',\n 'FROM',\n 'IT',\n '.',\n 'AS',\n 'TOUCHING',\n 'THE',\n 'ANCIENT',\n 'AUTHORS',\n 'GENERALLY',\n ',',\n 'AS',\n 'WELL',\n 'AS',\n 'THE',\n 'POETS',\n 'HERE',\n 'APPEARING',\n ',',\n 'THESE',\n 'EXTRACTS',\n 'ARE',\n 'SOLELY',\n 'VALUABLE',\n 'OR',\n 'ENTERTAINING',\n ',',\n 'AS',\n 'AFFORDING',\n 'A',\n 'GLANCING',\n 'BIRD',\n \"'\",\n 'S',\n 'EYE',\n 'VIEW',\n 'OF',\n 'WHAT',\n 'HAS',\n 'BEEN',\n 'PROMISCUOUSLY',\n 'SAID',\n ',',\n 'THOUGHT',\n ',',\n 'FANCIED',\n ',',\n 'AND',\n 'SUNG',\n 'OF',\n 'LEVIATHAN',\n ',',\n 'BY',\n 'MANY',\n 'NATIONS',\n 'AND',\n 'GENERATIONS',\n ',',\n 'INCLUDING',\n 'OUR',\n 'OWN',\n '.',\n 'SO',\n 'FARE',\n 'THEE',\n 'WELL',\n ',',\n 'POOR',\n 'DEVIL',\n 'OF',\n 'A',\n 'SUB',\n '-',\n 'SUB',\n ',',\n 'WHOSE',\n 'COMMENTATOR',\n 'I',\n 'AM',\n '.',\n 'THOU',\n 'BELONGEST',\n 'TO',\n 'THAT',\n 'HOPELESS',\n ',',\n 'SALLOW',\n 'TRIBE',\n 'WHICH',\n 'NO',\n 'WINE',\n 'OF',\n 'THIS',\n 'WORLD',\n 'WILL',\n 'EVER',\n 'WARM',\n ';',\n 'AND',\n 'FOR',\n 'WHOM',\n 'EVEN',\n 'PALE',\n 'SHERRY',\n 'WOULD',\n 'BE',\n 'TOO',\n 'ROSY',\n '-',\n 'STRONG',\n ';',\n 'BUT',\n 'WITH',\n 'WHOM',\n 'ONE',\n 'SOMETIMES',\n 'LOVES',\n 'TO',\n 'SIT',\n ',',\n 'AND',\n 'FEEL',\n 'POOR',\n '-',\n 'DEVILISH',\n ',',\n 'TOO',\n ';',\n 'AND',\n 'GROW',\n 'CONVIVIAL',\n 'UPON',\n 'TEARS',\n ';',\n 'AND',\n 'SAY',\n 'TO',\n 'THEM',\n 'BLUNTLY',\n ',',\n 'WITH',\n 'FULL',\n 'EYES',\n 'AND',\n 'EMPTY',\n 'GLASSES',\n ',',\n 'AND',\n 'IN',\n 'NOT',\n 'ALTOGETHER',\n 'UNPLEASANT',\n 'SADNESS',\n '--',\n 'GIVE',\n 'IT',\n 'UP',\n ',',\n 'SUB',\n '-',\n 'SUBS',\n '!',\n 'FOR',\n 'BY',\n 'HOW',\n 'MUCH',\n 'THE',\n 'MORE',\n 'PAINS',\n 'YE',\n 'TAKE',\n 'TO',\n 'PLEASE',\n 'THE',\n 'WORLD',\n ',',\n 'BY',\n 'SO',\n 'MUCH',\n 'THE',\n 'MORE',\n 'SHALL',\n 'YE',\n 'FOR',\n 'EVER',\n 'GO',\n 'THANKLESS',\n '!',\n 'WOULD',\n 'THAT',\n 'I',\n 'COULD',\n 'CLEAR',\n 'OUT',\n 'HAMPTON',\n 'COURT',\n 'AND',\n 'THE',\n 'TUILERIES',\n 'FOR',\n 'YE',\n '!',\n 'BUT',\n 'GULP',\n 'DOWN',\n 'YOUR',\n 'TEARS',\n 'AND',\n 'HIE',\n 'ALOFT',\n 'TO',\n 'THE',\n 'ROYAL',\n '-',\n 'MAST',\n 'WITH',\n 'YOUR',\n 'HEARTS',\n ';',\n 'FOR',\n 'YOUR',\n 'FRIENDS',\n 'WHO',\n 'HAVE',\n 'GONE',\n 'BEFORE',\n 'ARE',\n 'CLEARING',\n 'OUT',\n 'THE',\n 'SEVEN',\n '-',\n 'STORIED',\n 'HEAVENS',\n ',',\n 'AND',\n 'MAKING',\n 'REFUGEES',\n 'OF',\n 'LONG',\n '-',\n 'PAMPERED',\n 'GABRIEL',\n ',',\n 'MICHAEL',\n ',',\n 'AND',\n 'RAPHAEL',\n ',',\n 'AGAINST',\n 'YOUR',\n 'COMING',\n '.',\n 'HERE',\n 'YE',\n 'STRIKE',\n 'BUT',\n 'SPLINTERED',\n 'HEARTS',\n 'TOGETHER',\n '--',\n 'THERE',\n ',',\n 'YE',\n 'SHALL',\n 'STRIKE',\n 'UNSPLINTERABLE',\n 'GLASSES',\n '!',\n 'EXTRACTS',\n '.',\n '\"',\n 'AND',\n 'GOD',\n 'CREATED',\n 'GREAT',\n 'WHALES',\n '.\"',\n '--',\n 'GENESIS',\n '.',\n '\"',\n 'LEVIATHAN',\n 'MAKETH',\n 'A',\n 'PATH',\n 'TO',\n 'SHINE',\n 'AFTER',\n 'HIM',\n ';',\n 'ONE',\n 'WOULD',\n 'THINK',\n 'THE',\n 'DEEP',\n 'TO',\n 'BE',\n 'HOARY',\n '.\"',\n '--',\n 'JOB',\n '.',\n '\"',\n 'NOW',\n 'THE',\n 'LORD',\n 'HAD',\n 'PREPARED',\n 'A',\n 'GREAT',\n 'FISH',\n 'TO',\n 'SWALLOW',\n 'UP',\n 'JONAH',\n '.\"',\n '--',\n 'JONAH',\n '.',\n '\"',\n 'THERE',\n 'GO',\n 'THE',\n 'SHIPS',\n ';',\n 'THERE',\n 'IS',\n 'THAT',\n 'LEVIATHAN',\n 'WHOM',\n 'THOU',\n 'HAST',\n 'MADE',\n 'TO',\n 'PLAY',\n 'THEREIN',\n '.\"',\n '--',\n 'PSALMS',\n '.',\n '\"',\n 'IN',\n 'THAT',\n 'DAY',\n ',',\n 'THE',\n 'LORD',\n 'WITH',\n 'HIS',\n 'SORE',\n ',',\n 'AND',\n 'GREAT',\n ',',\n 'AND',\n 'STRONG',\n 'SWORD',\n ',',\n 'SHALL',\n 'PUNISH',\n 'LEVIATHAN',\n 'THE',\n 'PIERCING',\n 'SERPENT',\n ',',\n 'EVEN',\n 'LEVIATHAN',\n 'THAT',\n 'CROOKED',\n 'SERPENT',\n ';',\n 'AND',\n 'HE',\n 'SHALL',\n 'SLAY',\n 'THE',\n 'DRAGON',\n 'THAT',\n 'IS',\n 'IN',\n 'THE',\n 'SEA',\n '.\"',\n '--',\n 'ISAIAH',\n '\"',\n 'AND',\n 'WHAT',\n 'THING',\n 'SOEVER',\n 'BESIDES',\n 'COMETH',\n 'WITHIN',\n 'THE',\n 'CHAOS',\n 'OF',\n 'THIS',\n 'MONSTER',\n \"'\",\n 'S',\n 'MOUTH',\n ',',\n 'BE',\n 'IT',\n 'BEAST',\n ',',\n 'BOAT',\n ',',\n 'OR',\n 'STONE',\n ',',\n 'DOWN',\n 'IT',\n 'GOES',\n 'ALL',\n 'INCONTINENTLY',\n 'THAT',\n 'FOUL',\n 'GREAT',\n 'SWALLOW',\n 'OF',\n 'HIS',\n ',',\n 'AND',\n 'PERISHETH',\n 'IN',\n 'THE',\n 'BOTTOMLESS',\n 'GULF',\n 'OF',\n 'HIS',\n 'PAUNCH',\n '.\"',\n '--',\n 'HOLLAND',\n \"'\",\n 'S',\n 'PLUTARCH',\n \"'\",\n 'S',\n 'MORALS',\n '.',\n '\"',\n 'THE',\n 'INDIAN',\n 'SEA',\n 'BREEDETH',\n 'THE',\n 'MOST',\n 'AND',\n 'THE',\n 'BIGGEST',\n 'FISHES',\n 'THAT',\n 'ARE',\n ':',\n 'AMONG',\n 'WHICH',\n 'THE',\n 'WHALES',\n 'AND',\n 'WHIRLPOOLES',\n 'CALLED',\n 'BALAENE',\n ',',\n 'TAKE',\n 'UP',\n 'AS',\n 'MUCH',\n 'IN',\n 'LENGTH',\n 'AS',\n 'FOUR',\n 'ACRES',\n 'OR',\n 'ARPENS',\n 'OF',\n 'LAND',\n '.\"',\n '--',\n 'HOLLAND',\n \"'\",\n 'S',\n 'PLINY',\n '.',\n '\"',\n 'SCARCELY',\n 'HAD',\n 'WE',\n 'PROCEEDED',\n 'TWO',\n 'DAYS',\n 'ON',\n 'THE',\n 'SEA',\n ',',\n 'WHEN',\n 'ABOUT',\n 'SUNRISE',\n 'A',\n 'GREAT',\n 'MANY',\n 'WHALES',\n 'AND',\n 'OTHER',\n 'MONSTERS',\n 'OF',\n 'THE',\n 'SEA',\n ',',\n 'APPEARED',\n '.',\n 'AMONG',\n 'THE',\n 'FORMER',\n ',',\n 'ONE',\n 'WAS',\n 'OF',\n 'A',\n 'MOST',\n 'MONSTROUS',\n 'SIZE',\n '.',\n '...',\n 'THIS',\n 'CAME',\n 'TOWARDS',\n 'US',\n ',',\n 'OPEN',\n '-',\n 'MOUTHED',\n ',',\n 'RAISING',\n 'THE',\n 'WAVES',\n 'ON',\n 'ALL',\n 'SIDES',\n ',',\n 'AND',\n 'BEATING',\n 'THE',\n 'SEA',\n 'BEFORE',\n 'HIM',\n 'INTO',\n 'A',\n 'FOAM',\n '.\"',\n '--',\n 'TOOKE',\n \"'\",\n 'S',\n 'LUCIAN',\n '.',\n '\"',\n 'THE',\n 'TRUE',\n 'HISTORY',\n '.\"',\n '\"',\n 'HE',\n 'VISITED',\n 'THIS',\n 'COUNTRY',\n 'ALSO',\n 'WITH',\n 'A',\n 'VIEW',\n 'OF',\n 'CATCHING',\n 'HORSE',\n '-',\n 'WHALES',\n ',',\n 'WHICH',\n 'HAD',\n 'BONES',\n 'OF',\n 'VERY',\n 'GREAT',\n 'VALUE',\n 'FOR',\n 'THEIR',\n 'TEETH',\n ',',\n 'OF',\n 'WHICH',\n 'HE',\n 'BROUGHT',\n 'SOME',\n 'TO',\n 'THE',\n 'KING',\n '.',\n '...',\n 'THE',\n 'BEST',\n 'WHALES',\n 'WERE',\n 'CATCHED',\n 'IN',\n 'HIS',\n 'OWN',\n 'COUNTRY',\n ',',\n 'OF',\n 'WHICH',\n 'SOME',\n 'WERE',\n 'FORTY',\n '-',\n 'EIGHT',\n ',',\n 'SOME',\n 'FIFTY',\n 'YARDS',\n 'LONG',\n '.',\n 'HE',\n ...]"
     },
     "execution_count": 132,
     "metadata": {},
     "output_type": "execute_result"
    }
   ],
   "source": [
    "[w.upper() for w in text1]"
   ],
   "metadata": {
    "collapsed": false,
    "pycharm": {
     "name": "#%%\n"
    }
   }
  },
  {
   "cell_type": "code",
   "execution_count": 133,
   "outputs": [
    {
     "data": {
      "text/plain": "260819"
     },
     "execution_count": 133,
     "metadata": {},
     "output_type": "execute_result"
    }
   ],
   "source": [
    "len(text1)"
   ],
   "metadata": {
    "collapsed": false,
    "pycharm": {
     "name": "#%%\n"
    }
   }
  },
  {
   "cell_type": "code",
   "execution_count": 134,
   "outputs": [
    {
     "data": {
      "text/plain": "19317"
     },
     "execution_count": 134,
     "metadata": {},
     "output_type": "execute_result"
    }
   ],
   "source": [
    "len(set(text1))"
   ],
   "metadata": {
    "collapsed": false,
    "pycharm": {
     "name": "#%%\n"
    }
   }
  },
  {
   "cell_type": "code",
   "execution_count": 135,
   "outputs": [
    {
     "data": {
      "text/plain": "17231"
     },
     "execution_count": 135,
     "metadata": {},
     "output_type": "execute_result"
    }
   ],
   "source": [
    "len(set([word.lower() for word in text1]))"
   ],
   "metadata": {
    "collapsed": false,
    "pycharm": {
     "name": "#%%\n"
    }
   }
  },
  {
   "cell_type": "code",
   "execution_count": 136,
   "outputs": [
    {
     "data": {
      "text/plain": "16948"
     },
     "execution_count": 136,
     "metadata": {},
     "output_type": "execute_result"
    }
   ],
   "source": [
    "len(set([word.lower() for word in text1 if word.isalpha()]))"
   ],
   "metadata": {
    "collapsed": false,
    "pycharm": {
     "name": "#%%\n"
    }
   }
  },
  {
   "cell_type": "code",
   "execution_count": 137,
   "outputs": [],
   "source": [
    "word = 'cat'"
   ],
   "metadata": {
    "collapsed": false,
    "pycharm": {
     "name": "#%%\n"
    }
   }
  },
  {
   "cell_type": "code",
   "execution_count": 138,
   "outputs": [
    {
     "name": "stdout",
     "output_type": "stream",
     "text": [
      "word length is less than 5\n"
     ]
    }
   ],
   "source": [
    "if len(word) < 5:\n",
    "    print('word length is less than 5')"
   ],
   "metadata": {
    "collapsed": false,
    "pycharm": {
     "name": "#%%\n"
    }
   }
  },
  {
   "cell_type": "code",
   "execution_count": 139,
   "outputs": [],
   "source": [
    "if len(word) >= 5:\n",
    "    print('word length is greater than or equal to 5')"
   ],
   "metadata": {
    "collapsed": false,
    "pycharm": {
     "name": "#%%\n"
    }
   }
  },
  {
   "cell_type": "code",
   "execution_count": 140,
   "outputs": [
    {
     "name": "stdout",
     "output_type": "stream",
     "text": [
      "Call\n",
      "me\n",
      "Ishmael\n",
      ".\n"
     ]
    }
   ],
   "source": [
    "for word in ['Call', 'me', 'Ishmael', '.']:\n",
    "    print(word)"
   ],
   "metadata": {
    "collapsed": false,
    "pycharm": {
     "name": "#%%\n"
    }
   }
  },
  {
   "cell_type": "code",
   "execution_count": 141,
   "outputs": [],
   "source": [
    "sent1 = ['Call', 'me', 'Ishmael', '.']"
   ],
   "metadata": {
    "collapsed": false,
    "pycharm": {
     "name": "#%%\n"
    }
   }
  },
  {
   "cell_type": "code",
   "execution_count": 142,
   "outputs": [
    {
     "name": "stdout",
     "output_type": "stream",
     "text": [
      "Call\n",
      "Ishmael\n"
     ]
    }
   ],
   "source": [
    "for xyzzy in sent1:\n",
    "    if xyzzy.endswith('l'):\n",
    "        print(xyzzy)"
   ],
   "metadata": {
    "collapsed": false,
    "pycharm": {
     "name": "#%%\n"
    }
   }
  },
  {
   "cell_type": "code",
   "execution_count": 143,
   "outputs": [
    {
     "name": "stdout",
     "output_type": "stream",
     "text": [
      "Call is a titlecase word\n",
      "me is a lowercase word\n",
      "Ishmael is a titlecase word\n",
      ". is punctuation\n"
     ]
    }
   ],
   "source": [
    "for token in sent1:\n",
    "    if token.islower():\n",
    "        print(token, 'is a lowercase word')\n",
    "    elif token.istitle():\n",
    "        print(token, 'is a titlecase word')\n",
    "    else:\n",
    "        print(token, 'is punctuation')"
   ],
   "metadata": {
    "collapsed": false,
    "pycharm": {
     "name": "#%%\n"
    }
   }
  },
  {
   "cell_type": "code",
   "execution_count": 144,
   "outputs": [],
   "source": [
    "tricky = sorted([w for w in set(text2) if 'cie' in w or 'cei' in w])"
   ],
   "metadata": {
    "collapsed": false,
    "pycharm": {
     "name": "#%%\n"
    }
   }
  },
  {
   "cell_type": "code",
   "execution_count": 145,
   "outputs": [
    {
     "name": "stdout",
     "output_type": "stream",
     "text": [
      "ancient\n",
      "ceiling\n",
      "conceit\n",
      "conceited\n",
      "conceive\n",
      "conscience\n",
      "conscientious\n",
      "conscientiously\n",
      "deceitful\n",
      "deceive\n",
      "deceived\n",
      "deceiving\n",
      "deficiencies\n",
      "deficiency\n",
      "deficient\n",
      "delicacies\n",
      "excellencies\n",
      "fancied\n",
      "insufficiency\n",
      "insufficient\n",
      "legacies\n",
      "perceive\n",
      "perceived\n",
      "perceiving\n",
      "prescience\n",
      "prophecies\n",
      "receipt\n",
      "receive\n",
      "received\n",
      "receiving\n",
      "society\n",
      "species\n",
      "sufficient\n",
      "sufficiently\n",
      "undeceive\n",
      "undeceiving\n"
     ]
    }
   ],
   "source": [
    "for word in tricky:\n",
    "    print(word)"
   ],
   "metadata": {
    "collapsed": false,
    "pycharm": {
     "name": "#%%\n"
    }
   }
  },
  {
   "cell_type": "code",
   "execution_count": 146,
   "outputs": [
    {
     "ename": "NameError",
     "evalue": "name 'babelize_shell' is not defined",
     "output_type": "error",
     "traceback": [
      "\u001B[0;31m---------------------------------------------------------------------------\u001B[0m",
      "\u001B[0;31mNameError\u001B[0m                                 Traceback (most recent call last)",
      "\u001B[0;32m<ipython-input-146-7420127cd0cd>\u001B[0m in \u001B[0;36m<module>\u001B[0;34m\u001B[0m\n\u001B[0;32m----> 1\u001B[0;31m \u001B[0mbabelize_shell\u001B[0m\u001B[0;34m(\u001B[0m\u001B[0;34m)\u001B[0m\u001B[0;34m\u001B[0m\u001B[0;34m\u001B[0m\u001B[0m\n\u001B[0m",
      "\u001B[0;31mNameError\u001B[0m: name 'babelize_shell' is not defined"
     ]
    }
   ],
   "source": [
    "\n",
    "\n"
   ],
   "metadata": {
    "collapsed": false,
    "pycharm": {
     "name": "#%%\n"
    }
   }
  }
 ],
 "metadata": {
  "kernelspec": {
   "display_name": "Python 3",
   "language": "python",
   "name": "python3"
  },
  "language_info": {
   "codemirror_mode": {
    "name": "ipython",
    "version": 2
   },
   "file_extension": ".py",
   "mimetype": "text/x-python",
   "name": "python",
   "nbconvert_exporter": "python",
   "pygments_lexer": "ipython2",
   "version": "2.7.6"
  }
 },
 "nbformat": 4,
 "nbformat_minor": 0
}