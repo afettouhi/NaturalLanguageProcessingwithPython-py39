{
 "cells": [
  {
   "cell_type": "code",
   "execution_count": 1,
   "metadata": {
    "collapsed": true
   },
   "outputs": [
    {
     "data": {
      "text/plain": "2.4"
     },
     "execution_count": 1,
     "metadata": {},
     "output_type": "execute_result"
    }
   ],
   "source": [
    "# Exercise: 1-1\n",
    "# Try using the Python interpreter as a calculator, and typing expressions like 12 / (4 + 1).\n",
    "\n",
    "12 / (4 + 1)"
   ]
  },
  {
   "cell_type": "code",
   "execution_count": 3,
   "outputs": [
    {
     "data": {
      "text/plain": "141167095653376"
     },
     "execution_count": 3,
     "metadata": {},
     "output_type": "execute_result"
    }
   ],
   "source": [
    "# Exercise: 1-2\n",
    "# Given an alphabet of 26 letters, there are 26 to the power 10, or 26 ** 10, 10-letter strings we can form. That works\n",
    "# out to 141167095653376L (the L at the end just indicates that this is Python’s long-number format). How many hundred\n",
    "# -letter strings are possible?\n",
    "\n",
    "26 ** 10"
   ],
   "metadata": {
    "collapsed": false,
    "pycharm": {
     "name": "#%%\n"
    }
   }
  },
  {
   "cell_type": "code",
   "execution_count": 4,
   "outputs": [
    {
     "data": {
      "text/plain": "3142930641582938830174357788501626427282669988762475256374173175398995908420104023465432599069702289330964075081611719197835869803511992549376"
     },
     "execution_count": 4,
     "metadata": {},
     "output_type": "execute_result"
    }
   ],
   "source": [
    "26 ** 100"
   ],
   "metadata": {
    "collapsed": false,
    "pycharm": {
     "name": "#%%\n"
    }
   }
  },
  {
   "cell_type": "code",
   "execution_count": 5,
   "outputs": [
    {
     "data": {
      "text/plain": "['Monty',\n 'Python',\n 'Monty',\n 'Python',\n 'Monty',\n 'Python',\n 'Monty',\n 'Python',\n 'Monty',\n 'Python',\n 'Monty',\n 'Python',\n 'Monty',\n 'Python',\n 'Monty',\n 'Python',\n 'Monty',\n 'Python',\n 'Monty',\n 'Python',\n 'Monty',\n 'Python',\n 'Monty',\n 'Python',\n 'Monty',\n 'Python',\n 'Monty',\n 'Python',\n 'Monty',\n 'Python',\n 'Monty',\n 'Python',\n 'Monty',\n 'Python',\n 'Monty',\n 'Python',\n 'Monty',\n 'Python',\n 'Monty',\n 'Python']"
     },
     "execution_count": 5,
     "metadata": {},
     "output_type": "execute_result"
    }
   ],
   "source": [
    "# Exercise: 1-3\n",
    "# The Python multiplication operation can be applied to lists. What happens when you type ['Monty', 'Python'] * 20, or\n",
    "# 3 * sent1?\n",
    "\n",
    "['Monty', 'Python'] * 20"
   ],
   "metadata": {
    "collapsed": false,
    "pycharm": {
     "name": "#%%\n"
    }
   }
  },
  {
   "cell_type": "code",
   "execution_count": 6,
   "outputs": [
    {
     "ename": "NameError",
     "evalue": "name 'sent1' is not defined",
     "output_type": "error",
     "traceback": [
      "\u001B[0;31m---------------------------------------------------------------------------\u001B[0m",
      "\u001B[0;31mNameError\u001B[0m                                 Traceback (most recent call last)",
      "\u001B[0;32m<ipython-input-6-f33dac2e693e>\u001B[0m in \u001B[0;36m<module>\u001B[0;34m\u001B[0m\n\u001B[0;32m----> 1\u001B[0;31m \u001B[0;36m3\u001B[0m \u001B[0;34m*\u001B[0m \u001B[0msent1\u001B[0m\u001B[0;34m\u001B[0m\u001B[0;34m\u001B[0m\u001B[0m\n\u001B[0m",
      "\u001B[0;31mNameError\u001B[0m: name 'sent1' is not defined"
     ]
    }
   ],
   "source": [
    "3 * sent1"
   ],
   "metadata": {
    "collapsed": false,
    "pycharm": {
     "name": "#%%\n"
    }
   }
  },
  {
   "cell_type": "code",
   "execution_count": 7,
   "outputs": [
    {
     "name": "stdout",
     "output_type": "stream",
     "text": [
      "*** Introductory Examples for the NLTK Book ***\n",
      "Loading text1, ..., text9 and sent1, ..., sent9\n",
      "Type the name of the text or sentence to view it.\n",
      "Type: 'texts()' or 'sents()' to list the materials.\n",
      "text1: Moby Dick by Herman Melville 1851\n",
      "text2: Sense and Sensibility by Jane Austen 1811\n",
      "text3: The Book of Genesis\n",
      "text4: Inaugural Address Corpus\n",
      "text5: Chat Corpus\n",
      "text6: Monty Python and the Holy Grail\n",
      "text7: Wall Street Journal\n",
      "text8: Personals Corpus\n",
      "text9: The Man Who Was Thursday by G . K . Chesterton 1908\n"
     ]
    },
    {
     "data": {
      "text/plain": "141576"
     },
     "execution_count": 7,
     "metadata": {},
     "output_type": "execute_result"
    }
   ],
   "source": [
    "# Exercise: 1-4\n",
    "# Review Computing with Language: Texts and Words on computing with language. How many words are there in text2? How\n",
    "# many distinct words are there?\n",
    "\n",
    "from nltk.book import *\n",
    "\n",
    "len(text2)"
   ],
   "metadata": {
    "collapsed": false,
    "pycharm": {
     "name": "#%%\n"
    }
   }
  },
  {
   "cell_type": "code",
   "execution_count": 8,
   "outputs": [
    {
     "data": {
      "text/plain": "6833"
     },
     "execution_count": 8,
     "metadata": {},
     "output_type": "execute_result"
    }
   ],
   "source": [
    "len(set(text2))"
   ],
   "metadata": {
    "collapsed": false,
    "pycharm": {
     "name": "#%%\n"
    }
   }
  },
  {
   "cell_type": "code",
   "execution_count": 9,
   "outputs": [
    {
     "data": {
      "text/plain": "<Figure size 432x288 with 1 Axes>",
      "image/png": "[encoded data removed]"
     },
     "metadata": {
      "needs_background": "light"
     },
     "output_type": "display_data"
    }
   ],
   "source": [
    "# Exercise: 1-6\n",
    "# Produce a dispersion plot of the four main protagonists in Sense and Sensibility: Elinor, Marianne, Edward, and\n",
    "# Willoughby. What can you observe about the different roles played by the males and females in this novel? Can you\n",
    "# identify the couples?\n",
    "\n",
    "text2.dispersion_plot([\"Elinor\", \"Marianne\", \"Edward\", \"Willoughby\"])"
   ],
   "metadata": {
    "collapsed": false,
    "pycharm": {
     "name": "#%%\n"
    }
   }
  },
  {
   "cell_type": "code",
   "execution_count": 10,
   "outputs": [
    {
     "name": "stdout",
     "output_type": "stream",
     "text": [
      "wanna chat; PART JOIN; MODE #14-19teens; JOIN PART; PART PART;\n",
      "cute.-ass MP3; MP3 player; JOIN JOIN; times .. .; ACTION watches; guys\n",
      "wanna; song lasts; last night; ACTION sits; -...)...- S.M.R.; Lime\n",
      "Player; Player 12%; dont know; lez gurls; long time\n"
     ]
    }
   ],
   "source": [
    "# Exercise: 1-7\n",
    "# Find the collocations in text5.\n",
    "\n",
    "text5.collocations()"
   ],
   "metadata": {
    "collapsed": false,
    "pycharm": {
     "name": "#%%\n"
    }
   }
  },
  {
   "cell_type": "code",
   "execution_count": 11,
   "outputs": [
    {
     "data": {
      "text/plain": "9913"
     },
     "execution_count": 11,
     "metadata": {},
     "output_type": "execute_result"
    }
   ],
   "source": [
    "# Exercise: 1-8\n",
    "# Consider the following Python expression: len(set(text4)). State the purpose of this expression. Describe the two\n",
    "# steps involved in performing this computation.\n",
    "\n",
    "len(set(text4))"
   ],
   "metadata": {
    "collapsed": false,
    "pycharm": {
     "name": "#%%\n"
    }
   }
  },
  {
   "cell_type": "code",
   "execution_count": 12,
   "outputs": [],
   "source": [
    "# Exercise: 1-9a\n",
    "# Define a string and assign it to a variable, e.g., my_string = 'My String' (but put something more interesting in the\n",
    "# string). Print the contents of this variable in two ways, first by simply typing the variable name and pressing Enter,\n",
    "# then by using the print statement.\n",
    "\n",
    "my_string = 'My String'"
   ],
   "metadata": {
    "collapsed": false,
    "pycharm": {
     "name": "#%%\n"
    }
   }
  },
  {
   "cell_type": "code",
   "execution_count": 13,
   "outputs": [
    {
     "data": {
      "text/plain": "'My String'"
     },
     "execution_count": 13,
     "metadata": {},
     "output_type": "execute_result"
    }
   ],
   "source": [
    "my_string"
   ],
   "metadata": {
    "collapsed": false,
    "pycharm": {
     "name": "#%%\n"
    }
   }
  },
  {
   "cell_type": "code",
   "execution_count": 14,
   "outputs": [
    {
     "name": "stdout",
     "output_type": "stream",
     "text": [
      "My String\n"
     ]
    }
   ],
   "source": [
    "print(my_string)"
   ],
   "metadata": {
    "collapsed": false,
    "pycharm": {
     "name": "#%%\n"
    }
   }
  },
  {
   "cell_type": "code",
   "execution_count": 15,
   "outputs": [
    {
     "data": {
      "text/plain": "'My StringMy String'"
     },
     "execution_count": 15,
     "metadata": {},
     "output_type": "execute_result"
    }
   ],
   "source": [
    "# Exercise: 1-9b\n",
    "# Try adding the string to itself using my_string + my_string, or multiplying it by a number, e.g., my_string * 3.\n",
    "# Notice that the strings are joined together without any spaces. How could you fix this?\n",
    "\n",
    "my_string + my_string"
   ],
   "metadata": {
    "collapsed": false,
    "pycharm": {
     "name": "#%%\n"
    }
   }
  },
  {
   "cell_type": "code",
   "execution_count": 16,
   "outputs": [
    {
     "data": {
      "text/plain": "'My StringMy StringMy String'"
     },
     "execution_count": 16,
     "metadata": {},
     "output_type": "execute_result"
    }
   ],
   "source": [
    "my_string * 3"
   ],
   "metadata": {
    "collapsed": false,
    "pycharm": {
     "name": "#%%\n"
    }
   }
  },
  {
   "cell_type": "code",
   "execution_count": 17,
   "outputs": [],
   "source": [
    "my_other_string = ' '"
   ],
   "metadata": {
    "collapsed": false,
    "pycharm": {
     "name": "#%%\n"
    }
   }
  },
  {
   "cell_type": "code",
   "execution_count": 18,
   "outputs": [
    {
     "data": {
      "text/plain": "'My String My String'"
     },
     "execution_count": 18,
     "metadata": {},
     "output_type": "execute_result"
    }
   ],
   "source": [
    "my_string + my_other_string + my_string"
   ],
   "metadata": {
    "collapsed": false,
    "pycharm": {
     "name": "#%%\n"
    }
   }
  },
  {
   "cell_type": "code",
   "execution_count": 20,
   "outputs": [
    {
     "data": {
      "text/plain": "'My String My String My String '"
     },
     "execution_count": 20,
     "metadata": {},
     "output_type": "execute_result"
    }
   ],
   "source": [
    "(my_string + my_other_string) * 3"
   ],
   "metadata": {
    "collapsed": false,
    "pycharm": {
     "name": "#%%\n"
    }
   }
  },
  {
   "cell_type": "code",
   "execution_count": 21,
   "outputs": [],
   "source": [
    "# Exercise: 1-10\n",
    "# Define a variable my_sent to be a list of words, using the syntax my_sent = [\"My\", \"sent\"] (but with your own words,\n",
    "# or a favorite saying).\n",
    "# a: Use ' '.join(my_sent) to convert this into a string.\n",
    "\n",
    "my_sent = [\"My\", \"sent\"]"
   ],
   "metadata": {
    "collapsed": false,
    "pycharm": {
     "name": "#%%\n"
    }
   }
  },
  {
   "cell_type": "code",
   "execution_count": 22,
   "outputs": [
    {
     "data": {
      "text/plain": "'My sent'"
     },
     "execution_count": 22,
     "metadata": {},
     "output_type": "execute_result"
    }
   ],
   "source": [
    "' '.join(my_sent)"
   ],
   "metadata": {
    "collapsed": false,
    "pycharm": {
     "name": "#%%\n"
    }
   }
  },
  {
   "cell_type": "code",
   "execution_count": 23,
   "outputs": [
    {
     "data": {
      "text/plain": "['My', 'sent']"
     },
     "execution_count": 23,
     "metadata": {},
     "output_type": "execute_result"
    }
   ],
   "source": [
    "# b: Use split() to split the string back into the list form you had to start with.\n",
    "\n",
    "'My sent'.split()"
   ],
   "metadata": {
    "collapsed": false,
    "pycharm": {
     "name": "#%%\n"
    }
   }
  },
  {
   "cell_type": "code",
   "execution_count": 26,
   "outputs": [],
   "source": [
    "# Exercise: 1-11\n",
    "# Define several variables containing lists of words, e.g., phrase1, phrase2, and so on. Join them together in various\n",
    "# combinations (using the plus operator) to form whole sentences. What is the relationship between len(phrase1 +\n",
    "# phrase2) and len(phrase1) + len(phrase2)?\n",
    "\n",
    "phrase1 = 'my world'\n",
    "phrase2 = ' is strange'"
   ],
   "metadata": {
    "collapsed": false,
    "pycharm": {
     "name": "#%%\n"
    }
   }
  },
  {
   "cell_type": "code",
   "execution_count": 27,
   "outputs": [
    {
     "data": {
      "text/plain": "'my world is strange'"
     },
     "execution_count": 27,
     "metadata": {},
     "output_type": "execute_result"
    }
   ],
   "source": [
    "phrase1 + phrase2"
   ],
   "metadata": {
    "collapsed": false,
    "pycharm": {
     "name": "#%%\n"
    }
   }
  },
  {
   "cell_type": "code",
   "execution_count": 28,
   "outputs": [
    {
     "data": {
      "text/plain": "19"
     },
     "execution_count": 28,
     "metadata": {},
     "output_type": "execute_result"
    }
   ],
   "source": [
    "len(phrase1 + phrase2)"
   ],
   "metadata": {
    "collapsed": false,
    "pycharm": {
     "name": "#%%\n"
    }
   }
  },
  {
   "cell_type": "code",
   "execution_count": 29,
   "outputs": [
    {
     "data": {
      "text/plain": "19"
     },
     "execution_count": 29,
     "metadata": {},
     "output_type": "execute_result"
    }
   ],
   "source": [
    "len(phrase1) + len(phrase2)"
   ],
   "metadata": {
    "collapsed": false,
    "pycharm": {
     "name": "#%%\n"
    }
   }
  },
  {
   "cell_type": "code",
   "execution_count": 30,
   "outputs": [
    {
     "data": {
      "text/plain": "'Python'"
     },
     "execution_count": 30,
     "metadata": {},
     "output_type": "execute_result"
    }
   ],
   "source": [
    "# Exercise: 1-12\n",
    "# Consider the following two expressions, which have the same value. Which one will typically be more relevant in NLP?\n",
    "# Why?\n",
    "\n",
    "\"Monty Python\"[6:12]"
   ],
   "metadata": {
    "collapsed": false,
    "pycharm": {
     "name": "#%%\n"
    }
   }
  },
  {
   "cell_type": "code",
   "execution_count": 31,
   "outputs": [
    {
     "data": {
      "text/plain": "'Python'"
     },
     "execution_count": 31,
     "metadata": {},
     "output_type": "execute_result"
    }
   ],
   "source": [
    "[\"Monty\", \"Python\"][1]"
   ],
   "metadata": {
    "collapsed": false,
    "pycharm": {
     "name": "#%%\n"
    }
   }
  },
  {
   "cell_type": "code",
   "execution_count": 32,
   "outputs": [
    {
     "data": {
      "text/plain": "'h'"
     },
     "execution_count": 32,
     "metadata": {},
     "output_type": "execute_result"
    }
   ],
   "source": [
    "# Exercise: 1-13\n",
    "# We have seen how to represent a sentence as a list of words, where each word is a sequence of characters. What does\n",
    "# sent1[2][2] do? Why? Experiment with other index values.\n",
    "\n",
    "sent1[2][2]"
   ],
   "metadata": {
    "collapsed": false,
    "pycharm": {
     "name": "#%%\n"
    }
   }
  },
  {
   "cell_type": "code",
   "execution_count": 33,
   "outputs": [
    {
     "data": {
      "text/plain": "'the'"
     },
     "execution_count": 33,
     "metadata": {},
     "output_type": "execute_result"
    }
   ],
   "source": [
    "# Exercise: 1-14\n",
    "# The first sentence of text3 is provided to you in the variable sent3. The index of the in sent3 is 1, because\n",
    "# sent3[1] gives us 'the'. What are the indexes of the two other occurrences of this word in sent3?\n",
    "\n",
    "sent3[1]"
   ],
   "metadata": {
    "collapsed": false,
    "pycharm": {
     "name": "#%%\n"
    }
   }
  },
  {
   "cell_type": "code",
   "execution_count": 36,
   "outputs": [
    {
     "data": {
      "text/plain": "['In',\n 'the',\n 'beginning',\n 'God',\n 'created',\n 'the',\n 'heaven',\n 'and',\n 'the',\n 'earth',\n '.']"
     },
     "execution_count": 36,
     "metadata": {},
     "output_type": "execute_result"
    }
   ],
   "source": [
    "sent3"
   ],
   "metadata": {
    "collapsed": false,
    "pycharm": {
     "name": "#%%\n"
    }
   }
  },
  {
   "cell_type": "code",
   "execution_count": 37,
   "outputs": [
    {
     "data": {
      "text/plain": "['b',\n 'b-day',\n 'b/c',\n 'b4',\n 'babay',\n 'babble',\n 'babblein',\n 'babe',\n 'babes',\n 'babi',\n 'babies',\n 'babiess',\n 'baby',\n 'babycakeses',\n 'bachelorette',\n 'back',\n 'backatchya',\n 'backfrontsidewaysandallaroundtheworld',\n 'backroom',\n 'backup',\n 'bacl',\n 'bad',\n 'bag',\n 'bagel',\n 'bagels',\n 'bahahahaa',\n 'bak',\n 'baked',\n 'balad',\n 'balance',\n 'balck',\n 'ball',\n 'ballin',\n 'balls',\n 'ban',\n 'band',\n 'bandito',\n 'bandsaw',\n 'banjoes',\n 'banned',\n 'baord',\n 'bar',\n 'barbie',\n 'bare',\n 'barely',\n 'bares',\n 'barfights',\n 'barks',\n 'barn',\n 'barrel',\n 'base',\n 'bases',\n 'basically',\n 'basket',\n 'battery',\n 'bay',\n 'bbbbbyyyyyyyeeeeeeeee',\n 'bbiam',\n 'bbl',\n 'bbs',\n 'bc',\n 'be',\n 'beach',\n 'beachhhh',\n 'beam',\n 'beams',\n 'beanbag',\n 'beans',\n 'bear',\n 'bears',\n 'beat',\n 'beaten',\n 'beatles',\n 'beats',\n 'beattles',\n 'beautiful',\n 'because',\n 'beckley',\n 'become',\n 'bed',\n 'bedford',\n 'bedroom',\n 'beeeeehave',\n 'beeehave',\n 'been',\n 'beer',\n 'before',\n 'beg',\n 'begin',\n 'behave',\n 'behind',\n 'bein',\n 'being',\n 'beleive',\n 'believe',\n 'belive',\n 'bell',\n 'belly',\n 'belong',\n 'belongings',\n 'ben',\n 'bend',\n 'benz',\n 'bes',\n 'beside',\n 'besides',\n 'best',\n 'bet',\n 'betrayal',\n 'betta',\n 'better',\n 'between',\n 'beuty',\n 'bf',\n 'bi',\n 'biatch',\n 'bible',\n 'biebsa',\n 'bied',\n 'big',\n 'bigest',\n 'biggest',\n 'biiiatch',\n 'bike',\n 'bikes',\n 'bikini',\n 'bio',\n 'bird',\n 'birfday',\n 'birthday',\n 'bisexual',\n 'bishes',\n 'bit',\n 'bitch',\n 'bitches',\n 'bitdh',\n 'bite',\n 'bites',\n 'biyatch',\n 'biz',\n 'bj',\n 'black',\n 'blade',\n 'blah',\n 'blank',\n 'blankie',\n 'blazed',\n 'bleach',\n 'blech',\n 'bless',\n 'blessings',\n 'blew',\n 'blind',\n 'blinks',\n 'bliss',\n 'blocking',\n 'bloe',\n 'blood',\n 'blooded',\n 'bloody',\n 'blow',\n 'blowing',\n 'blowjob',\n 'blowup',\n 'blue',\n 'blueberry',\n 'bluer',\n 'blues',\n 'blunt',\n 'board',\n 'bob',\n 'bodies',\n 'body',\n 'boed',\n 'boght',\n 'boi',\n 'boing',\n 'boinked',\n 'bois',\n 'bomb',\n 'bone',\n 'boned',\n 'bones',\n 'bong',\n 'boning',\n 'bonus',\n 'boo',\n 'booboo',\n 'boobs',\n 'book',\n 'boom',\n 'boooooooooooglyyyyyy',\n 'boost',\n 'boot',\n 'bootay',\n 'booted',\n 'boots',\n 'booty',\n 'border',\n 'borderline',\n 'bored',\n 'boredom',\n 'boring',\n 'born',\n 'born-again',\n 'bosom',\n 'boss',\n 'bossy',\n 'bot',\n 'both',\n 'bother',\n 'bothering',\n 'bottle',\n 'bought',\n 'bounced',\n 'bouncer',\n 'bouncers',\n 'bound',\n 'bout',\n 'bouts',\n 'bow',\n 'bowl',\n 'box',\n 'boy',\n 'boyfriend',\n 'boys',\n 'bra',\n 'brad',\n 'brady',\n 'brain',\n 'brakes',\n 'brass',\n 'brat',\n 'brb',\n 'brbbb',\n 'bread',\n 'break',\n 'breaks',\n 'breath',\n 'breathe',\n 'bred',\n 'breeding',\n 'bright',\n 'brightened',\n 'bring',\n 'brings',\n 'bro',\n 'broke',\n 'brooklyn',\n 'brother',\n 'brothers',\n 'brought',\n 'brown',\n 'brrrrrrr',\n 'bruises',\n 'brunswick',\n 'brwn',\n 'btw',\n 'bucks',\n 'buddyyyyyy',\n 'buff',\n 'buffalo',\n 'bug',\n 'bugs',\n 'buh',\n 'build',\n 'builds',\n 'built',\n 'bull',\n 'bulls',\n 'bum',\n 'bumber',\n 'bummer',\n 'bumped',\n 'bumper',\n 'bunch',\n 'bunny',\n 'burger',\n 'burito',\n 'burned',\n 'burns',\n 'burp',\n 'burpin',\n 'burps',\n 'burried',\n 'burryed',\n 'bus',\n 'buses',\n 'bust',\n 'busted',\n 'busy',\n 'but',\n 'butt',\n 'butter',\n 'butterscotch',\n 'button',\n 'buttons',\n 'buy',\n 'buying',\n 'bwahahahahahahahahahaha',\n 'by',\n 'byb',\n 'bye',\n 'byeee',\n 'byeeee',\n 'byeeeeeeee',\n 'byeeeeeeeeeeeee',\n 'byes']"
     },
     "execution_count": 37,
     "metadata": {},
     "output_type": "execute_result"
    }
   ],
   "source": [
    "# Exercise: 1-15\n",
    "# Review the discussion of conditionals in Back to Python: Making Decisions and Taking Control. Find all words in the\n",
    "# Chat Corpus (text5) starting with the letter b. Show them in alphabetical order.\n",
    "\n",
    "sorted([w for w in set(text5) if w.startswith('b')])"
   ],
   "metadata": {
    "collapsed": false,
    "pycharm": {
     "name": "#%%\n"
    }
   }
  },
  {
   "cell_type": "code",
   "execution_count": 38,
   "outputs": [
    {
     "data": {
      "text/plain": "range(0, 10)"
     },
     "execution_count": 38,
     "metadata": {},
     "output_type": "execute_result"
    }
   ],
   "source": [
    "# Exercise: 1-16\n",
    "# Type the expression range(10) at the interpreter prompt. Now try range(10, 20), range(10, 20, 2), and range(20, 10,\n",
    "# -2). We will see a variety of uses for this built-in function in later chapters.\n",
    "\n",
    "range(10)"
   ],
   "metadata": {
    "collapsed": false,
    "pycharm": {
     "name": "#%%\n"
    }
   }
  },
  {
   "cell_type": "code",
   "execution_count": 39,
   "outputs": [
    {
     "data": {
      "text/plain": "range(10, 20)"
     },
     "execution_count": 39,
     "metadata": {},
     "output_type": "execute_result"
    }
   ],
   "source": [
    "range(10, 20)"
   ],
   "metadata": {
    "collapsed": false,
    "pycharm": {
     "name": "#%%\n"
    }
   }
  },
  {
   "cell_type": "code",
   "execution_count": 40,
   "outputs": [
    {
     "data": {
      "text/plain": "range(10, 20, 2)"
     },
     "execution_count": 40,
     "metadata": {},
     "output_type": "execute_result"
    }
   ],
   "source": [
    "range(10, 20, 2)"
   ],
   "metadata": {
    "collapsed": false,
    "pycharm": {
     "name": "#%%\n"
    }
   }
  },
  {
   "cell_type": "code",
   "execution_count": 41,
   "outputs": [
    {
     "data": {
      "text/plain": "range(20, 10, -2)"
     },
     "execution_count": 41,
     "metadata": {},
     "output_type": "execute_result"
    }
   ],
   "source": [
    "range(20, 10, -2)"
   ],
   "metadata": {
    "collapsed": false,
    "pycharm": {
     "name": "#%%\n"
    }
   }
  },
  {
   "cell_type": "code",
   "execution_count": 42,
   "outputs": [
    {
     "data": {
      "text/plain": "629"
     },
     "execution_count": 42,
     "metadata": {},
     "output_type": "execute_result"
    }
   ],
   "source": [
    "# Exercise: 1-17\n",
    "# Use text9.index() to find the index of the word sunset. You’ll need to insert this word as an argument between the\n",
    "# parentheses. By a process of trial and error, find the slice for the complete sentence that contains this word.\n",
    "\n",
    "text9.index('sunset')"
   ],
   "metadata": {
    "collapsed": false,
    "pycharm": {
     "name": "#%%\n"
    }
   }
  },
  {
   "cell_type": "code",
   "execution_count": 51,
   "outputs": [
    {
     "data": {
      "text/plain": "['CHAPTER',\n 'I',\n 'THE',\n 'TWO',\n 'POETS',\n 'OF',\n 'SAFFRON',\n 'PARK',\n 'THE',\n 'suburb',\n 'of',\n 'Saffron',\n 'Park',\n 'lay',\n 'on',\n 'the',\n 'sunset',\n 'side',\n 'of',\n 'London',\n ',',\n 'as',\n 'red',\n 'and',\n 'ragged',\n 'as',\n 'a',\n 'cloud',\n 'of',\n 'sunset',\n '.']"
     },
     "execution_count": 51,
     "metadata": {},
     "output_type": "execute_result"
    }
   ],
   "source": [
    "text9[613:644]"
   ],
   "metadata": {
    "collapsed": false,
    "pycharm": {
     "name": "#%%\n"
    }
   }
  },
  {
   "cell_type": "code",
   "execution_count": 52,
   "outputs": [
    {
     "data": {
      "text/plain": "['.', 'Call', 'Ishmael', 'me']"
     },
     "execution_count": 52,
     "metadata": {},
     "output_type": "execute_result"
    }
   ],
   "source": [
    "# Exercise: 1-18\n",
    "# Using list addition, and the set and sorted operations, compute the vocabulary of the sentences sent1 ... sent8.\n",
    "\n",
    "sorted(set(sent1))"
   ],
   "metadata": {
    "collapsed": false,
    "pycharm": {
     "name": "#%%\n"
    }
   }
  },
  {
   "cell_type": "code",
   "execution_count": 53,
   "outputs": [
    {
     "data": {
      "text/plain": "4"
     },
     "execution_count": 53,
     "metadata": {},
     "output_type": "execute_result"
    }
   ],
   "source": [
    "len(set(sent1))"
   ],
   "metadata": {
    "collapsed": false,
    "pycharm": {
     "name": "#%%\n"
    }
   }
  },
  {
   "cell_type": "code",
   "execution_count": 54,
   "outputs": [
    {
     "data": {
      "text/plain": "['.',\n 'Dashwood',\n 'Sussex',\n 'The',\n 'been',\n 'family',\n 'had',\n 'in',\n 'long',\n 'of',\n 'settled']"
     },
     "execution_count": 54,
     "metadata": {},
     "output_type": "execute_result"
    }
   ],
   "source": [
    "sorted(set(sent2))"
   ],
   "metadata": {
    "collapsed": false,
    "pycharm": {
     "name": "#%%\n"
    }
   }
  },
  {
   "cell_type": "code",
   "execution_count": 55,
   "outputs": [
    {
     "data": {
      "text/plain": "11"
     },
     "execution_count": 55,
     "metadata": {},
     "output_type": "execute_result"
    }
   ],
   "source": [
    "len(set(sent2))"
   ],
   "metadata": {
    "collapsed": false,
    "pycharm": {
     "name": "#%%\n"
    }
   }
  },
  {
   "cell_type": "code",
   "execution_count": 56,
   "outputs": [
    {
     "data": {
      "text/plain": "['.', 'God', 'In', 'and', 'beginning', 'created', 'earth', 'heaven', 'the']"
     },
     "execution_count": 56,
     "metadata": {},
     "output_type": "execute_result"
    }
   ],
   "source": [
    "sorted(set(sent3))"
   ],
   "metadata": {
    "collapsed": false,
    "pycharm": {
     "name": "#%%\n"
    }
   }
  },
  {
   "cell_type": "code",
   "execution_count": 57,
   "outputs": [
    {
     "data": {
      "text/plain": "9"
     },
     "execution_count": 57,
     "metadata": {},
     "output_type": "execute_result"
    }
   ],
   "source": [
    "len(set(sent3))"
   ],
   "metadata": {
    "collapsed": false,
    "pycharm": {
     "name": "#%%\n"
    }
   }
  },
  {
   "cell_type": "code",
   "execution_count": 58,
   "outputs": [
    {
     "data": {
      "text/plain": "['-',\n ':',\n 'Citizens',\n 'Fellow',\n 'House',\n 'Representatives',\n 'Senate',\n 'and',\n 'of',\n 'the']"
     },
     "execution_count": 58,
     "metadata": {},
     "output_type": "execute_result"
    }
   ],
   "source": [
    "sorted(set(sent4))"
   ],
   "metadata": {
    "collapsed": false,
    "pycharm": {
     "name": "#%%\n"
    }
   }
  },
  {
   "cell_type": "code",
   "execution_count": 59,
   "outputs": [
    {
     "data": {
      "text/plain": "10"
     },
     "execution_count": 59,
     "metadata": {},
     "output_type": "execute_result"
    }
   ],
   "source": [
    "len(set(sent4))"
   ],
   "metadata": {
    "collapsed": false,
    "pycharm": {
     "name": "#%%\n"
    }
   }
  },
  {
   "cell_type": "code",
   "execution_count": 60,
   "outputs": [
    {
     "data": {
      "text/plain": "['I',\n 'JOIN',\n 'PMing',\n 'a',\n 'have',\n 'lol',\n 'me',\n 'people',\n 'problem',\n 'to',\n 'with']"
     },
     "execution_count": 60,
     "metadata": {},
     "output_type": "execute_result"
    }
   ],
   "source": [
    "sorted(set(sent5))"
   ],
   "metadata": {
    "collapsed": false,
    "pycharm": {
     "name": "#%%\n"
    }
   }
  },
  {
   "cell_type": "code",
   "execution_count": 61,
   "outputs": [
    {
     "data": {
      "text/plain": "11"
     },
     "execution_count": 61,
     "metadata": {},
     "output_type": "execute_result"
    }
   ],
   "source": [
    "len(set(sent5))"
   ],
   "metadata": {
    "collapsed": false,
    "pycharm": {
     "name": "#%%\n"
    }
   }
  },
  {
   "cell_type": "code",
   "execution_count": 62,
   "outputs": [
    {
     "data": {
      "text/plain": "['!',\n '1',\n ':',\n 'ARTHUR',\n 'KING',\n 'SCENE',\n 'Whoa',\n '[',\n ']',\n 'clop',\n 'there',\n 'wind']"
     },
     "execution_count": 62,
     "metadata": {},
     "output_type": "execute_result"
    }
   ],
   "source": [
    "sorted(set(sent6))"
   ],
   "metadata": {
    "collapsed": false,
    "pycharm": {
     "name": "#%%\n"
    }
   }
  },
  {
   "cell_type": "code",
   "execution_count": 63,
   "outputs": [
    {
     "data": {
      "text/plain": "12"
     },
     "execution_count": 63,
     "metadata": {},
     "output_type": "execute_result"
    }
   ],
   "source": [
    "len(set(sent6))"
   ],
   "metadata": {
    "collapsed": false,
    "pycharm": {
     "name": "#%%\n"
    }
   }
  },
  {
   "cell_type": "code",
   "execution_count": 64,
   "outputs": [
    {
     "data": {
      "text/plain": "[',',\n '.',\n '29',\n '61',\n 'Nov.',\n 'Pierre',\n 'Vinken',\n 'a',\n 'as',\n 'board',\n 'director',\n 'join',\n 'nonexecutive',\n 'old',\n 'the',\n 'will',\n 'years']"
     },
     "execution_count": 64,
     "metadata": {},
     "output_type": "execute_result"
    }
   ],
   "source": [
    "sorted(set(sent7))"
   ],
   "metadata": {
    "collapsed": false,
    "pycharm": {
     "name": "#%%\n"
    }
   }
  },
  {
   "cell_type": "code",
   "execution_count": 65,
   "outputs": [
    {
     "data": {
      "text/plain": "17"
     },
     "execution_count": 65,
     "metadata": {},
     "output_type": "execute_result"
    }
   ],
   "source": [
    "len(set(sent7))"
   ],
   "metadata": {
    "collapsed": false,
    "pycharm": {
     "name": "#%%\n"
    }
   }
  },
  {
   "cell_type": "code",
   "execution_count": 66,
   "outputs": [
    {
     "data": {
      "text/plain": "[',',\n '.',\n '25',\n 'MALE',\n 'SEXY',\n 'attrac',\n 'discreet',\n 'encounters',\n 'for',\n 'lady',\n 'older',\n 'seeks',\n 'single']"
     },
     "execution_count": 66,
     "metadata": {},
     "output_type": "execute_result"
    }
   ],
   "source": [
    "sorted(set(sent8))"
   ],
   "metadata": {
    "collapsed": false,
    "pycharm": {
     "name": "#%%\n"
    }
   }
  },
  {
   "cell_type": "code",
   "execution_count": 67,
   "outputs": [
    {
     "data": {
      "text/plain": "13"
     },
     "execution_count": 67,
     "metadata": {},
     "output_type": "execute_result"
    }
   ],
   "source": [
    "len(set(sent8))"
   ],
   "metadata": {
    "collapsed": false,
    "pycharm": {
     "name": "#%%\n"
    }
   }
  },
  {
   "cell_type": "code",
   "execution_count": 68,
   "outputs": [
    {
     "data": {
      "text/plain": "['!',\n '!\"',\n '!\"--',\n \"!'\",\n '!\\'\"',\n '!)',\n '!)\"',\n '!*',\n '!--',\n '!--\"',\n \"!--'\",\n '\"',\n '\"\\'',\n '\"--',\n '\"...',\n '\";',\n '$',\n '&',\n \"'\",\n \"',\",\n \"',--\",\n \"'-\",\n \"'--\",\n \"';\",\n '(',\n ')',\n '),',\n ')--',\n ').',\n ').--',\n '):',\n ');',\n ');--',\n '*',\n ',',\n ',\"',\n ',\"--',\n \",'\",\n \",'--\",\n ',)',\n ',*',\n ',--',\n ',--\"',\n \",--'\",\n '-',\n '--',\n '--\"',\n \"--'\",\n '--\\'\"',\n '--(',\n '---\"',\n '---,',\n '.',\n '.\"',\n '.\"*',\n '.\"--',\n \".'\",\n '.\\'\"',\n '.)',\n '.*',\n '.*--',\n '.,',\n '.--',\n '.--\"',\n '...',\n '....',\n '.]',\n '000',\n '1',\n '10',\n '100',\n '101',\n '102',\n '103',\n '104',\n '105',\n '106',\n '107',\n '108',\n '109',\n '11',\n '110',\n '111',\n '112',\n '113',\n '114',\n '115',\n '116',\n '117',\n '118',\n '119',\n '12',\n '120',\n '121',\n '122',\n '123',\n '124',\n '125',\n '126',\n '127',\n '128',\n '129',\n '13',\n '130',\n '131',\n '132',\n '133',\n '134',\n '135',\n '14',\n '144',\n '1492',\n '15',\n '150',\n '15th',\n '16',\n '1652',\n '1668',\n '1671',\n '1690',\n '1695',\n '16th',\n '17',\n '1726',\n '1729',\n '1750',\n '1772',\n '1775',\n '1776',\n '1778',\n '1779',\n '1788',\n '1791',\n '1793',\n '18',\n '180',\n '1807',\n '1819',\n '1820',\n '1821',\n '1825',\n '1828',\n '1833',\n '1836',\n '1839',\n '1840',\n '1842',\n '1846',\n '1850',\n '1851',\n '19',\n '1st',\n '2',\n '20',\n '2000',\n '200th',\n '21',\n '21st',\n '22',\n '23',\n '24',\n '25',\n '26',\n '27',\n '275th',\n '28',\n '29',\n '2nd',\n '3',\n '30',\n '31',\n '31st',\n '32',\n '33',\n '34',\n '35',\n '36',\n '37',\n '38',\n '39',\n '3d',\n '4',\n '40',\n '400',\n '41',\n '42',\n '43',\n '44',\n '440',\n '45',\n '46',\n '47',\n '48',\n '49',\n '4th',\n '5',\n '50',\n '500',\n '51',\n '52',\n '53',\n '54',\n '55',\n '550',\n '56',\n '57',\n '58',\n '59',\n '5th',\n '6',\n '60',\n '61',\n '62',\n '63',\n '64',\n '65',\n '66',\n '67',\n '68',\n '69',\n '7',\n '70',\n '71',\n '72',\n '73',\n '74',\n '75',\n '76',\n '77',\n '78',\n '79',\n '8',\n '80',\n '800',\n '81',\n '82',\n '83',\n '84',\n '85',\n '86',\n '87',\n '88',\n '89',\n '890',\n '9',\n '90',\n '91',\n '92',\n '93',\n '94',\n '95',\n '96',\n '97',\n '98',\n '99',\n ':',\n ':\"-',\n ':--',\n ':--\"',\n \":--'\",\n ';',\n ';\"',\n ';\"--',\n ';\"--(',\n \";'\",\n ';*',\n ';--',\n ';--\"',\n \";--'\",\n '?',\n '?\"',\n '?\"--',\n \"?'\",\n \"?'--'\",\n '?--',\n '?--\"',\n \"?--'\",\n '[',\n ']',\n '_____________',\n 'a',\n 'aback',\n 'abaft',\n 'abandon',\n 'abandoned',\n 'abandonedly',\n 'abandonment',\n 'abased',\n 'abasement',\n 'abashed',\n 'abate',\n 'abated',\n 'abatement',\n 'abating',\n 'abbreviate',\n 'abbreviation',\n 'abeam',\n 'abed',\n 'abednego',\n 'abel',\n 'abhorred',\n 'abhorrence',\n 'abhorrent',\n 'abhorring',\n 'abide',\n 'abided',\n 'abiding',\n 'ability',\n 'abjectly',\n 'abjectus',\n 'able',\n 'ablutions',\n 'aboard',\n 'abode',\n 'abominable',\n 'abominate',\n 'abominated',\n 'abomination',\n 'aboriginal',\n 'aboriginally',\n 'aboriginalness',\n 'abortion',\n 'abortions',\n 'abound',\n 'abounded',\n 'abounding',\n 'aboundingly',\n 'about',\n 'above',\n 'abraham',\n 'abreast',\n 'abridged',\n 'abroad',\n 'abruptly',\n 'absence',\n 'absent',\n 'absolute',\n 'absolutely',\n 'absorbed',\n 'absorbing',\n 'absorbingly',\n 'abstained',\n 'abstemious',\n 'abstinence',\n 'abstract',\n 'abstracted',\n 'abstraction',\n 'absurd',\n 'absurdly',\n 'abundance',\n 'abundant',\n 'abundantly',\n 'academy',\n 'accelerate',\n 'accelerated',\n 'accelerating',\n 'accept',\n 'accessible',\n 'accessory',\n 'accident',\n 'accidental',\n 'accidentally',\n 'accidents',\n 'accommodate',\n 'accommodated',\n 'accommodation',\n 'accompanied',\n 'accompanies',\n 'accompaniments',\n 'accompany',\n 'accompanying',\n 'accomplish',\n 'accomplished',\n 'accomplishing',\n 'accomplishment',\n 'accordance',\n 'according',\n 'accordingly',\n 'accosted',\n 'account',\n 'accountable',\n 'accountants',\n 'accounted',\n 'accounting',\n 'accounts',\n 'accumulate',\n 'accumulated',\n 'accumulating',\n 'accuracy',\n 'accurate',\n 'accurately',\n 'accursed',\n 'accustomed',\n 'acerbities',\n 'ache',\n 'ached',\n 'achieve',\n 'achieved',\n 'achilles',\n 'acknowledges',\n 'acknowledging',\n 'acquaintance',\n 'acquaintances',\n 'acquainted',\n 'acquiesce',\n 'acquiesced',\n 'acquiescence',\n 'acquired',\n 'acre',\n 'acres',\n 'acridness',\n 'across',\n 'act',\n 'acted',\n 'actest',\n 'action',\n 'actions',\n 'actium',\n 'active',\n 'actively',\n 'activity',\n 'acts',\n 'actual',\n 'actually',\n 'actuated',\n 'acushnet',\n 'acute',\n 'acuteness',\n 'adam',\n 'adamite',\n 'adapted',\n 'add',\n 'added',\n 'adding',\n 'addition',\n 'additional',\n 'address',\n 'addressed',\n 'addressing',\n 'adds',\n 'adequate',\n 'adequately',\n 'adhering',\n 'adhesiveness',\n 'adieu',\n 'adieux',\n 'adios',\n 'adjacent',\n 'adjoining',\n 'adjust',\n 'adjusting',\n 'admeasurement',\n 'admeasurements',\n 'administered',\n 'administering',\n 'admirable',\n 'admirably',\n 'admiral',\n 'admirals',\n 'admire',\n 'admirer',\n 'admirers',\n 'admit',\n 'admits',\n 'admitted',\n 'admitting',\n 'admonish',\n 'admonished',\n 'admonishing',\n 'admonitions',\n 'admonitory',\n 'ado',\n 'adolescence',\n 'adopt',\n 'adopted',\n 'adopting',\n 'adoption',\n 'adoration',\n 'adoring',\n 'adorned',\n 'adorning',\n 'adornment',\n 'adown',\n 'adrift',\n 'adroit',\n 'adroitly',\n 'adroop',\n 'adult',\n 'adulterer',\n 'advance',\n 'advanced',\n 'advancement',\n 'advances',\n 'advancing',\n 'advantage',\n 'advantages',\n 'advent',\n 'adventure',\n 'adventures',\n 'adventurous',\n 'adventurously',\n 'adverse',\n 'advert',\n 'advertised',\n 'advice',\n 'advised',\n 'advocate',\n 'aerated',\n 'aesthetically',\n 'aesthetics',\n 'afar',\n 'affair',\n 'affairs',\n 'affect',\n 'affected',\n 'affecting',\n 'affection',\n 'affectionate',\n 'affectionately',\n 'affghanistan',\n 'affidavit',\n 'affinities',\n 'affirm',\n 'affirmative',\n 'affirms',\n 'affixed',\n 'afflicted',\n 'afflictions',\n 'affluent',\n 'afford',\n 'afforded',\n 'affording',\n 'affords',\n 'affright',\n 'affrighted',\n 'affrights',\n 'affronted',\n 'afire',\n 'afloat',\n 'afoam',\n 'afore',\n 'aforesaid',\n 'aforethought',\n 'afoul',\n 'afraid',\n 'afresh',\n 'afric',\n 'africa',\n 'african',\n 'africans',\n 'aft',\n 'after',\n 'afternoon',\n 'afternoons',\n 'afterwards',\n 'again',\n 'againe',\n 'against',\n 'agassiz',\n 'age',\n 'aged',\n 'agencies',\n 'agency',\n 'agent',\n 'agents',\n 'ages',\n 'aggravate',\n 'aggregate',\n 'aggregated',\n 'aggregation',\n 'aggregations',\n 'aggrieved',\n 'aghast',\n 'agile',\n 'agitated',\n 'aglow',\n 'ago',\n 'agonies',\n 'agonized',\n 'agonizing',\n 'agonizingly',\n 'agony',\n 'agrarian',\n 'agree',\n 'agreeable',\n 'agreed',\n 'agrees',\n 'aground',\n 'ague',\n 'ah',\n 'ahab',\n 'ahabs',\n 'ahasuerus',\n 'ahaz',\n 'ahead',\n 'ahoy',\n 'aid',\n 'aides',\n 'ails',\n 'aim',\n 'aimed',\n 'aimlessly',\n 'ain',\n 'aint',\n 'air',\n 'airley',\n 'airth',\n 'aisle',\n 'ajar',\n 'akin',\n 'alabama',\n 'aladdin',\n 'alarm',\n 'alarmed',\n 'alarms',\n 'alas',\n 'alb',\n 'albatross',\n 'albatrosses',\n 'albemarle',\n 'albert',\n 'albicore',\n 'albino',\n 'alcoves',\n 'aldermen',\n 'aldrovandi',\n 'aldrovandus',\n 'ale',\n 'aleak',\n 'alert',\n 'alewives',\n 'alexander',\n 'alexanders',\n 'alfred',\n 'algerine',\n 'algiers',\n 'alien',\n 'aliens',\n 'alights',\n 'alike',\n 'aliment',\n 'alive',\n 'all',\n 'allay',\n 'allaying',\n 'alleged',\n 'alleghanian',\n 'alleghanies',\n 'allegiance',\n 'allegorical',\n 'allegory',\n 'alley',\n 'alleys',\n 'allies',\n 'allotted',\n 'allow',\n 'allowance',\n 'allowances',\n 'allowed',\n 'allowing',\n 'allude',\n 'alluded',\n 'alluding',\n 'allured',\n 'allurements',\n 'allures',\n 'alluring',\n 'alluringly',\n 'allurings',\n 'allusion',\n 'allusions',\n 'almanac',\n 'almanack',\n 'almighty',\n 'almost',\n 'alms',\n 'aloft',\n 'alone',\n 'along',\n 'alongside',\n 'aloof',\n 'aloud',\n 'alow',\n 'alpacas',\n 'alpine',\n 'alps',\n 'already',\n 'also',\n 'altar',\n 'alter',\n 'altered',\n 'altering',\n 'alternate',\n 'alternately',\n 'alternating',\n 'although',\n 'altitude',\n 'altitudes',\n 'altogether',\n 'always',\n 'am',\n 'amain',\n 'amaze',\n 'amazement',\n 'amazing',\n 'amazingly',\n 'amber',\n 'ambergriese',\n 'ambergris',\n 'ambiguous',\n 'ambition',\n 'ambitious',\n 'amelia',\n 'amen',\n 'amend',\n 'america',\n 'american',\n 'americans',\n 'americas',\n 'amid',\n 'amidst',\n 'amittai',\n 'among',\n 'amongst',\n 'amorous',\n 'amount',\n 'amounted',\n 'amounts',\n 'amours',\n 'amphibious',\n 'amphitheatrical',\n 'ample',\n 'amplified',\n 'amplify',\n 'amputate',\n 'amputated',\n 'amputating',\n 'amputation',\n 'amputations',\n 'amsterdam',\n 'amuck',\n 'amusing',\n 'an',\n 'anacharsis',\n 'anaconda',\n 'anacondas',\n 'anak',\n 'analogical',\n 'analogies',\n 'analogous',\n 'analogy',\n 'analyse',\n 'analysed',\n 'analysis',\n 'analytic',\n 'anathemas',\n 'anatomical',\n 'anatomist',\n 'anatomy',\n 'ancestors',\n 'ancestress',\n 'ancestry',\n 'anchor',\n 'anchored',\n 'anchors',\n 'ancient',\n 'ancientest',\n 'and',\n 'andes',\n 'andirons',\n 'andrew',\n 'andromeda',\n 'anew',\n 'angel',\n 'angelo',\n 'angels',\n 'anger',\n 'angle',\n 'angles',\n 'anglo',\n 'angrily',\n 'angry',\n 'anguish',\n 'angular',\n 'angularly',\n 'animal',\n 'animals',\n 'animate',\n 'animated',\n 'animating',\n 'animation',\n 'animosity',\n 'ankers',\n 'ankles',\n 'annals',\n 'annawon',\n 'anne',\n 'annihilated',\n 'annihilating',\n 'annihilation',\n 'anno',\n 'announced',\n 'announcement',\n 'announces',\n 'announcing',\n 'annual',\n 'annually',\n 'annuitants',\n 'annus',\n 'anoint',\n 'anointed',\n 'anointing',\n 'anoints',\n 'anomalous',\n 'anomalously',\n 'anomaly',\n 'anon',\n 'anonymous',\n 'another',\n 'answer',\n 'answered',\n 'answers',\n 'ant',\n 'antagonistic',\n 'antarctic',\n 'antecedent',\n 'antediluvian',\n 'antelope',\n 'antemosaic',\n 'anti',\n 'antichronical',\n 'anticipated',\n 'anticipatingly',\n 'anticipation',\n 'anticipative',\n 'antics',\n 'antidote',\n 'antilles',\n 'antiochus',\n 'antique',\n 'antiquities',\n 'antiquity',\n 'antlered',\n 'antlers',\n 'antony',\n 'ants',\n 'antwerp',\n 'anus',\n 'anvil',\n 'anxieties',\n 'anxiety',\n 'anxious',\n 'any',\n 'anybody',\n 'anyhow',\n 'anyone',\n 'anything',\n 'anyway',\n 'anyways',\n 'anywhere',\n 'aorta',\n 'apart',\n 'apartment',\n 'ape',\n 'apeak',\n 'apertures',\n 'apex',\n 'apollo',\n 'apology',\n 'apoplectic',\n 'apoplexy',\n 'apostolic',\n 'apothecary',\n 'apotheosis',\n 'appal',\n 'appalled',\n 'appalling',\n 'appallingly',\n 'appals',\n 'apparatus',\n 'apparel',\n 'apparelled',\n 'apparent',\n 'apparently',\n 'apparition',\n 'appeal',\n 'appeals',\n 'appear',\n 'appearance',\n 'appearances',\n 'appeared',\n 'appearing',\n 'appears',\n 'appellation',\n 'appellations',\n 'appellative',\n 'append',\n 'appendage',\n 'appetite',\n 'appetites',\n 'apple',\n 'appliance',\n 'applicable',\n 'application',\n 'applied',\n 'applies',\n 'apply',\n 'applying',\n 'appoint',\n 'appointed',\n 'appointments',\n 'apportioned',\n 'appreciative',\n 'apprehension',\n 'apprehensions',\n 'apprehensiveness',\n 'apprise',\n 'apprised',\n 'approach',\n 'approached',\n 'approaches',\n 'approaching',\n 'appropriate',\n 'appropriated',\n 'approval',\n 'approve',\n 'approved',\n 'approving',\n 'approvingly',\n 'approximate',\n 'apricot',\n 'april',\n 'apron',\n 'apt',\n 'aptitude',\n 'aptitudes',\n 'aquarius',\n 'arbitrary',\n 'arboring',\n 'arbours',\n 'arc',\n 'arch',\n 'archaeological',\n 'archaeologists',\n 'archangel',\n 'archangelic',\n 'archangelical',\n 'archangels',\n 'archbishop',\n 'archbishopric',\n 'arched',\n 'archer',\n 'arches',\n 'archiepiscopacy',\n 'arching',\n 'archipelagoes',\n 'architect',\n 'architects',\n 'architecture',\n 'archy',\n 'arctic',\n 'ardour',\n 'are',\n 'area',\n 'arethusa',\n 'argo',\n 'argosy',\n 'argue',\n 'argued',\n 'arguing',\n 'argument',\n 'arguments',\n 'arid',\n 'aries',\n 'aright',\n 'arion',\n 'arise',\n 'arisen',\n 'arises',\n 'arising',\n 'aristotle',\n 'arithmetic',\n 'ark',\n 'arkansas',\n 'arkite',\n 'arm',\n 'armada',\n 'armed',\n 'armies',\n 'armor',\n 'arms',\n 'army',\n 'arnold',\n 'aroma',\n 'aromas',\n 'aromatic',\n 'aroostook',\n 'arose',\n 'around',\n 'arpens',\n ...]"
     },
     "execution_count": 68,
     "metadata": {},
     "output_type": "execute_result"
    }
   ],
   "source": [
    "# Exercise: 1-19\n",
    "# What is the difference between the following two lines? Which one will give a larger value? Will this be the case\n",
    "# for other texts?\n",
    "\n",
    "sorted(set([w.lower() for w in text1]))"
   ],
   "metadata": {
    "collapsed": false,
    "pycharm": {
     "name": "#%%\n"
    }
   }
  },
  {
   "cell_type": "code",
   "execution_count": 69,
   "outputs": [
    {
     "data": {
      "text/plain": "['!',\n '!\"',\n '!\"--',\n \"!'\",\n '!\\'\"',\n '!)',\n '!)\"',\n '!*',\n '!--',\n '!--\"',\n \"!--'\",\n '\"',\n '\"\\'',\n '\"--',\n '\"...',\n '\";',\n '$',\n '&',\n \"'\",\n \"',\",\n \"',--\",\n \"'-\",\n \"'--\",\n \"';\",\n '(',\n ')',\n '),',\n ')--',\n ').',\n ').--',\n '):',\n ');',\n ');--',\n '*',\n ',',\n ',\"',\n ',\"--',\n \",'\",\n \",'--\",\n ',)',\n ',*',\n ',--',\n ',--\"',\n \",--'\",\n '-',\n '--',\n '--\"',\n \"--'\",\n '--\\'\"',\n '--(',\n '---\"',\n '---,',\n '.',\n '.\"',\n '.\"*',\n '.\"--',\n \".'\",\n '.\\'\"',\n '.)',\n '.*',\n '.*--',\n '.,',\n '.--',\n '.--\"',\n '...',\n '....',\n '.]',\n '000',\n '1',\n '10',\n '100',\n '101',\n '102',\n '103',\n '104',\n '105',\n '106',\n '107',\n '108',\n '109',\n '11',\n '110',\n '111',\n '112',\n '113',\n '114',\n '115',\n '116',\n '117',\n '118',\n '119',\n '12',\n '120',\n '121',\n '122',\n '123',\n '124',\n '125',\n '126',\n '127',\n '128',\n '129',\n '13',\n '130',\n '131',\n '132',\n '133',\n '134',\n '135',\n '14',\n '144',\n '1492',\n '15',\n '150',\n '15th',\n '16',\n '1652',\n '1668',\n '1671',\n '1690',\n '1695',\n '16th',\n '17',\n '1726',\n '1729',\n '1750',\n '1772',\n '1775',\n '1776',\n '1778',\n '1779',\n '1788',\n '1791',\n '1793',\n '18',\n '180',\n '1807',\n '1819',\n '1820',\n '1821',\n '1825',\n '1828',\n '1833',\n '1836',\n '1839',\n '1840',\n '1842',\n '1846',\n '1850',\n '1851',\n '19',\n '1st',\n '1st',\n '2',\n '20',\n '2000',\n '200th',\n '21',\n '21st',\n '22',\n '23',\n '24',\n '25',\n '26',\n '27',\n '275th',\n '28',\n '29',\n '2nd',\n '3',\n '30',\n '31',\n '31st',\n '32',\n '33',\n '34',\n '35',\n '36',\n '37',\n '38',\n '39',\n '3d',\n '3d',\n '4',\n '40',\n '400',\n '41',\n '42',\n '43',\n '44',\n '440',\n '45',\n '46',\n '47',\n '48',\n '49',\n '4th',\n '5',\n '50',\n '500',\n '51',\n '52',\n '53',\n '54',\n '55',\n '550',\n '56',\n '57',\n '58',\n '59',\n '5th',\n '6',\n '60',\n '61',\n '62',\n '63',\n '64',\n '65',\n '66',\n '67',\n '68',\n '69',\n '7',\n '70',\n '71',\n '72',\n '73',\n '74',\n '75',\n '76',\n '77',\n '78',\n '79',\n '8',\n '80',\n '800',\n '81',\n '82',\n '83',\n '84',\n '85',\n '86',\n '87',\n '88',\n '89',\n '890',\n '9',\n '90',\n '91',\n '92',\n '93',\n '94',\n '95',\n '96',\n '97',\n '98',\n '99',\n ':',\n ':\"-',\n ':--',\n ':--\"',\n \":--'\",\n ';',\n ';\"',\n ';\"--',\n ';\"--(',\n \";'\",\n ';*',\n ';--',\n ';--\"',\n \";--'\",\n '?',\n '?\"',\n '?\"--',\n \"?'\",\n \"?'--'\",\n '?--',\n '?--\"',\n \"?--'\",\n '[',\n ']',\n '_____________',\n 'a',\n 'a',\n 'aback',\n 'abaft',\n 'abandon',\n 'abandoned',\n 'abandonedly',\n 'abandonment',\n 'abased',\n 'abasement',\n 'abashed',\n 'abashed',\n 'abate',\n 'abated',\n 'abatement',\n 'abating',\n 'abbreviate',\n 'abbreviation',\n 'abeam',\n 'abed',\n 'abednego',\n 'abel',\n 'abhorred',\n 'abhorrence',\n 'abhorrent',\n 'abhorring',\n 'abide',\n 'abided',\n 'abiding',\n 'ability',\n 'abjectly',\n 'abjectus',\n 'able',\n 'ablutions',\n 'aboard',\n 'aboard',\n 'abode',\n 'abominable',\n 'abominable',\n 'abominate',\n 'abominated',\n 'abomination',\n 'aboriginal',\n 'aboriginally',\n 'aboriginalness',\n 'abortion',\n 'abortions',\n 'abound',\n 'abounded',\n 'abounding',\n 'aboundingly',\n 'about',\n 'about',\n 'about',\n 'above',\n 'above',\n 'abraham',\n 'abreast',\n 'abridged',\n 'abroad',\n 'abruptly',\n 'absence',\n 'absent',\n 'absolute',\n 'absolutely',\n 'absorbed',\n 'absorbing',\n 'absorbingly',\n 'abstained',\n 'abstemious',\n 'abstinence',\n 'abstract',\n 'abstracted',\n 'abstraction',\n 'absurd',\n 'absurdly',\n 'abundance',\n 'abundant',\n 'abundantly',\n 'academy',\n 'accelerate',\n 'accelerated',\n 'accelerating',\n 'accept',\n 'accessible',\n 'accessory',\n 'accessory',\n 'accident',\n 'accidental',\n 'accidentally',\n 'accidents',\n 'accommodate',\n 'accommodated',\n 'accommodation',\n 'accompanied',\n 'accompanies',\n 'accompaniments',\n 'accompany',\n 'accompanying',\n 'accomplish',\n 'accomplished',\n 'accomplishing',\n 'accomplishment',\n 'accordance',\n 'according',\n 'according',\n 'accordingly',\n 'accordingly',\n 'accosted',\n 'account',\n 'account',\n 'accountable',\n 'accountants',\n 'accounted',\n 'accounting',\n 'accounts',\n 'accumulate',\n 'accumulated',\n 'accumulating',\n 'accuracy',\n 'accurate',\n 'accurately',\n 'accursed',\n 'accursed',\n 'accustomed',\n 'acerbities',\n 'ache',\n 'ached',\n 'achieve',\n 'achieved',\n 'achilles',\n 'acknowledges',\n 'acknowledging',\n 'acquaintance',\n 'acquaintances',\n 'acquainted',\n 'acquiesce',\n 'acquiesced',\n 'acquiescence',\n 'acquired',\n 'acre',\n 'acres',\n 'acridness',\n 'across',\n 'act',\n 'acted',\n 'actest',\n 'action',\n 'actions',\n 'actium',\n 'active',\n 'actively',\n 'activity',\n 'acts',\n 'actual',\n 'actually',\n 'actuated',\n 'acushnet',\n 'acute',\n 'acuteness',\n 'adam',\n 'adamite',\n 'adapted',\n 'add',\n 'added',\n 'adding',\n 'addition',\n 'additional',\n 'additional',\n 'address',\n 'addressed',\n 'addressing',\n 'adds',\n 'adequate',\n 'adequately',\n 'adhering',\n 'adhesiveness',\n 'adieu',\n 'adieu',\n 'adieux',\n 'adios',\n 'adjacent',\n 'adjoining',\n 'adjust',\n 'adjusting',\n 'admeasurement',\n 'admeasurements',\n 'administered',\n 'administering',\n 'admirable',\n 'admirably',\n 'admiral',\n 'admiral',\n 'admirals',\n 'admirals',\n 'admire',\n 'admirer',\n 'admirers',\n 'admit',\n 'admits',\n 'admitted',\n 'admitting',\n 'admonish',\n 'admonished',\n 'admonishing',\n 'admonitions',\n 'admonitory',\n 'ado',\n 'adolescence',\n 'adopt',\n 'adopted',\n 'adopting',\n 'adoption',\n 'adoration',\n 'adoring',\n 'adorned',\n 'adorning',\n 'adornment',\n 'adown',\n 'adrift',\n 'adroit',\n 'adroitly',\n 'adroop',\n 'adult',\n 'adulterer',\n 'advance',\n 'advance',\n 'advanced',\n 'advancement',\n 'advances',\n 'advancing',\n 'advancing',\n 'advantage',\n 'advantages',\n 'advent',\n 'adventure',\n 'adventures',\n 'adventures',\n 'adventures',\n 'adventurous',\n 'adventurously',\n 'adverse',\n 'advert',\n 'advertised',\n 'advice',\n 'advised',\n 'advocate',\n 'advocate',\n 'aerated',\n 'aesthetically',\n 'aesthetics',\n 'afar',\n 'affair',\n 'affairs',\n 'affect',\n 'affected',\n 'affected',\n 'affecting',\n 'affection',\n 'affectionate',\n 'affectionately',\n 'affghanistan',\n 'affidavit',\n 'affidavit',\n 'affinities',\n 'affirm',\n 'affirmative',\n 'affirms',\n 'affixed',\n 'afflicted',\n 'afflictions',\n 'affluent',\n 'afford',\n 'afforded',\n 'affording',\n 'affords',\n 'affright',\n 'affrighted',\n 'affrighted',\n 'affrights',\n 'affronted',\n 'afire',\n 'afloat',\n 'afoam',\n 'afore',\n 'aforesaid',\n 'aforethought',\n 'afoul',\n 'afraid',\n 'afresh',\n 'afric',\n 'africa',\n 'africa',\n 'african',\n 'africans',\n 'aft',\n 'aft',\n 'after',\n 'after',\n 'after',\n 'afternoon',\n 'afternoons',\n 'afterwards',\n 'afterwards',\n 'again',\n 'again',\n 'againe',\n 'against',\n 'against',\n 'against',\n 'agassiz',\n 'age',\n 'aged',\n 'agencies',\n 'agency',\n 'agent',\n 'agents',\n 'ages',\n 'ages',\n 'aggravate',\n 'aggregate',\n 'aggregated',\n 'aggregation',\n 'aggregations',\n 'aggrieved',\n 'aghast',\n 'agile',\n 'agitated',\n 'aglow',\n 'ago',\n 'agonies',\n 'agonized',\n 'agonizing',\n 'agonizingly',\n 'agony',\n 'agrarian',\n 'agree',\n 'agreeable',\n 'agreed',\n 'agrees',\n 'aground',\n 'ague',\n 'ah',\n 'ah',\n 'ahab',\n 'ahab',\n 'ahabs',\n 'ahasuerus',\n 'ahaz',\n 'ahead',\n 'ahoy',\n 'ahoy',\n 'aid',\n 'aides',\n 'ails',\n 'aim',\n 'aimed',\n 'aimlessly',\n 'ain',\n 'ain',\n 'aint',\n 'air',\n 'air',\n 'airley',\n 'airth',\n 'aisle',\n 'ajar',\n 'akin',\n 'akin',\n 'alabama',\n 'aladdin',\n 'alarm',\n 'alarmed',\n 'alarmed',\n 'alarms',\n 'alas',\n 'alas',\n 'alb',\n 'albatross',\n 'albatross',\n 'albatrosses',\n 'albemarle',\n 'albert',\n 'albicore',\n 'albino',\n 'alcoves',\n 'aldermen',\n 'aldrovandi',\n 'aldrovandus',\n 'ale',\n 'aleak',\n 'alert',\n 'alewives',\n 'alexander',\n 'alexanders',\n 'alfred',\n 'alfred',\n 'algerine',\n 'algerine',\n 'algiers',\n 'alien',\n 'aliens',\n 'alights',\n 'alike',\n 'alike',\n 'aliment',\n 'alive',\n 'alive',\n 'alive',\n 'all',\n 'all',\n 'all',\n 'allay',\n 'allaying',\n 'alleged',\n 'alleghanian',\n 'alleghanies',\n 'allegiance',\n 'allegorical',\n 'allegory',\n 'alley',\n 'alleys',\n 'allies',\n 'allotted',\n 'allow',\n 'allowance',\n 'allowances',\n 'allowed',\n 'allowing',\n 'allude',\n 'alluded',\n 'alluding',\n 'allured',\n 'allurements',\n 'allures',\n 'alluring',\n 'alluringly',\n 'allurings',\n 'allusion',\n 'allusions',\n 'almanac',\n 'almanack',\n 'almighty',\n 'almighty',\n 'almost',\n 'almost',\n 'alms',\n 'aloft',\n 'aloft',\n 'alone',\n 'alone',\n 'alone',\n 'along',\n 'alongside',\n 'aloof',\n 'aloud',\n 'alow',\n 'alpacas',\n 'alpine',\n 'alps',\n 'already',\n 'already',\n 'also',\n 'also',\n 'altar',\n 'alter',\n 'altered',\n 'altering',\n 'alternate',\n 'alternately',\n 'alternating',\n 'although',\n 'altitude',\n 'altitudes',\n 'altogether',\n 'always',\n 'am',\n 'am',\n 'am',\n 'amain',\n 'amaze',\n 'amazement',\n 'amazing',\n 'amazingly',\n 'amber',\n 'ambergriese',\n 'ambergris',\n 'ambergris',\n 'ambiguous',\n 'ambition',\n 'ambitious',\n 'amelia',\n 'amen',\n 'amend',\n 'america',\n 'america',\n 'american',\n 'americans',\n 'americas',\n 'amid',\n 'amidst',\n 'amittai',\n 'among',\n 'among',\n 'among',\n 'amongst',\n 'amorous',\n 'amount',\n 'amounted',\n 'amounts',\n 'amours',\n 'amphibious',\n 'amphitheatrical',\n 'ample',\n 'amplified',\n 'amplify',\n 'amputate',\n 'amputated',\n 'amputating',\n 'amputation',\n 'amputations',\n 'amsterdam',\n 'amuck',\n 'amusing',\n 'an',\n 'an',\n 'anacharsis',\n 'anaconda',\n 'anacondas',\n 'anak',\n 'analogical',\n 'analogies',\n 'analogous',\n 'analogy',\n 'analyse',\n 'analysed',\n 'analysis',\n 'analytic',\n 'anathemas',\n 'anatomical',\n 'anatomist',\n 'anatomy',\n 'ancestors',\n 'ancestress',\n 'ancestry',\n 'anchor',\n 'anchored',\n 'anchors',\n 'anchors',\n 'ancient',\n 'ancientest',\n 'and',\n 'and',\n 'and',\n 'andes',\n 'andirons',\n 'andrew',\n 'andromeda',\n 'anew',\n 'angel',\n 'angel',\n 'angelo',\n 'angels',\n 'angels',\n 'anger',\n 'angle',\n 'angles',\n 'anglo',\n 'angrily',\n 'angry',\n 'anguish',\n 'angular',\n 'angularly',\n 'animal',\n 'animal',\n 'animals',\n 'animate',\n 'animated',\n 'animated',\n 'animating',\n 'animation',\n 'animosity',\n 'ankers',\n 'ankles',\n 'annals',\n 'annals',\n 'annawon',\n 'anne',\n 'annihilated',\n 'annihilating',\n 'annihilation',\n 'anno',\n 'announced',\n 'announcement',\n 'announces',\n 'announcing',\n 'annual',\n 'annually',\n 'annuitants',\n 'annus',\n 'anoint',\n 'anointed',\n 'anointing',\n 'anoints',\n 'anomalous',\n 'anomalous',\n 'anomalously',\n 'anomaly',\n 'anon',\n 'anonymous',\n 'another',\n 'another',\n 'another',\n 'answer',\n 'answer',\n 'answered',\n 'answers',\n 'ant',\n 'antagonistic',\n 'antarctic',\n 'antecedent',\n 'antediluvian',\n 'antelope',\n 'antemosaic',\n 'anti',\n 'antichronical',\n 'anticipated',\n 'anticipatingly',\n 'anticipation',\n 'anticipative',\n 'antics',\n 'antidote',\n 'antilles',\n 'antiochus',\n 'antique',\n 'antiquities',\n 'antiquity',\n 'antlered',\n 'antlers',\n 'antony',\n 'ants',\n 'antwerp',\n 'anus',\n 'anvil',\n 'anvil',\n 'anxieties',\n 'anxiety',\n 'anxious',\n 'any',\n 'any',\n 'any',\n 'anybody',\n 'anyhow',\n 'anyhow',\n 'anyone',\n 'anything',\n 'anything',\n 'anyway',\n 'anyways',\n 'anywhere',\n 'aorta',\n 'apart',\n 'apartment',\n 'ape',\n 'apeak',\n 'apertures',\n 'apex',\n 'apollo',\n 'apology',\n 'apoplectic',\n 'apoplexy',\n 'apoplexy',\n 'apostolic',\n 'apothecary',\n 'apotheosis',\n 'appal',\n 'appalled',\n 'appalling',\n 'appallingly',\n 'appals',\n 'apparatus',\n 'apparel',\n 'apparelled',\n 'apparent',\n 'apparently',\n 'apparition',\n 'appeal',\n 'appeals',\n 'appear',\n 'appearance',\n 'appearances',\n 'appeared',\n 'appearing',\n 'appears',\n 'appellation',\n 'appellations',\n 'appellative',\n 'append',\n 'appendage',\n 'appetite',\n 'appetites',\n 'apple',\n 'appliance',\n 'applicable',\n 'application',\n 'application',\n 'applied',\n 'applied',\n 'applies',\n 'apply',\n 'apply',\n 'applying',\n 'appoint',\n 'appointed',\n 'appointments',\n 'apportioned',\n 'appreciative',\n 'apprehension',\n ...]"
     },
     "execution_count": 69,
     "metadata": {},
     "output_type": "execute_result"
    }
   ],
   "source": [
    "sorted([w.lower() for w in set(text1)])"
   ],
   "metadata": {
    "collapsed": false,
    "pycharm": {
     "name": "#%%\n"
    }
   }
  },
  {
   "cell_type": "code",
   "execution_count": 70,
   "outputs": [
    {
     "data": {
      "text/plain": "['!',\n '!\"',\n '!\"--',\n \"!'\",\n '!\\'\"',\n '!--',\n '!--\"',\n '\"',\n '\"\\'',\n '\"--',\n '&',\n \"'\",\n \"',\",\n \"'--\",\n '(',\n ')',\n '),',\n ')--',\n '***',\n ',',\n ',\"',\n ',\"--',\n \",'\",\n ',)',\n ',-',\n ',--',\n ',--\"',\n '-',\n '--',\n '--\"',\n \"--'\",\n '--(',\n '--,',\n '-?',\n '-?\"',\n '.',\n '.\"',\n '.\"--',\n \".'\",\n '.\\'\"',\n \".'--\",\n '.)',\n '.)--',\n '.--',\n '.--\"',\n '...',\n '...\"',\n '.]',\n '1',\n '10',\n '11',\n '12',\n '13',\n '14',\n '15',\n '16',\n '17',\n '18',\n '1811',\n '19',\n '2',\n '20',\n '200',\n '21',\n '22',\n '23',\n '24',\n '25',\n '26',\n '27',\n '28',\n '29',\n '3',\n '30',\n '31',\n '32',\n '33',\n '34',\n '35',\n '36',\n '37',\n '38',\n '39',\n '4',\n '40',\n '41',\n '42',\n '43',\n '44',\n '45',\n '46',\n '47',\n '48',\n '49',\n '5',\n '50',\n '6',\n '7',\n '7000l',\n '8',\n '9',\n ':',\n ':--',\n ':--\"',\n ';',\n ';\"',\n ';\"--',\n \";'\",\n ';--',\n ';--\"',\n '>',\n '?',\n '?\"',\n '?\"--',\n \"?'\",\n '?)',\n '?--',\n '?--\"',\n '[',\n ']',\n 'a',\n 'a',\n 'abandoned',\n 'abatement',\n 'abbeyland',\n 'abhor',\n 'abhorred',\n 'abhorrence',\n 'abilities',\n 'ability',\n 'able',\n 'ablest',\n 'abode',\n 'abominably',\n 'abounded',\n 'about',\n 'about',\n 'above',\n 'abridge',\n 'abridgement',\n 'abroad',\n 'abruptly',\n 'abruptness',\n 'absence',\n 'absence',\n 'absent',\n 'absolute',\n 'absolutely',\n 'abstracted',\n 'abstraction',\n 'abstruse',\n 'absurd',\n 'absurdity',\n 'abundance',\n 'abundance',\n 'abundantly',\n 'abuse',\n 'abused',\n 'abuses',\n 'acacia',\n 'accelerate',\n 'accent',\n 'accents',\n 'accept',\n 'acceptable',\n 'acceptably',\n 'acceptance',\n 'accepted',\n 'accepting',\n 'accident',\n 'accidental',\n 'accidentally',\n 'accidently',\n 'accommodate',\n 'accommodating',\n 'accommodation',\n 'accommodations',\n 'accompanied',\n 'accompany',\n 'accomplished',\n 'accomplishment',\n 'accordant',\n 'according',\n 'accordingly',\n 'accosted',\n 'account',\n 'accounted',\n 'accounts',\n 'accrue',\n 'accurately',\n 'accusation',\n 'accuse',\n 'accustom',\n 'accustomary',\n 'aches',\n 'aching',\n 'acknowledge',\n 'acknowledged',\n 'acknowledging',\n 'acknowledgment',\n 'acknowledgments',\n 'acquaintance',\n 'acquaintances',\n 'acquainted',\n 'acquiesced',\n 'acquiescence',\n 'acquired',\n 'acquisition',\n 'acquit',\n 'acquitted',\n 'acquitting',\n 'across',\n 'act',\n 'acted',\n 'acting',\n 'action',\n 'actions',\n 'active',\n 'acts',\n 'actual',\n 'actually',\n 'acute',\n 'acutely',\n 'acuteness',\n 'adapted',\n 'add',\n 'add',\n 'added',\n 'adding',\n 'addition',\n 'additional',\n 'additions',\n 'address',\n 'addressed',\n 'addresses',\n 'addressing',\n 'adequate',\n 'adhering',\n 'adieu',\n 'adieus',\n 'adjoining',\n 'adjusting',\n 'administer',\n 'administering',\n 'admirable',\n 'admiration',\n 'admire',\n 'admired',\n 'admirers',\n 'admires',\n 'admiring',\n 'admission',\n 'admit',\n 'admittance',\n 'admitted',\n 'admitting',\n 'adopt',\n 'adopted',\n 'adorned',\n 'advance',\n 'advanced',\n 'advancement',\n 'advances',\n 'advancing',\n 'advantage',\n 'advantageous',\n 'advantages',\n 'advice',\n 'advisable',\n 'advise',\n 'advised',\n 'affability',\n 'affable',\n 'affair',\n 'affairs',\n 'affect',\n 'affectation',\n 'affected',\n 'affectedly',\n 'affecting',\n 'affecting',\n 'affection',\n 'affectionate',\n 'affectionately',\n 'affections',\n 'affects',\n 'affirmative',\n 'affixed',\n 'afflict',\n 'afflicted',\n 'afflicting',\n 'affliction',\n 'afflictions',\n 'affluence',\n 'afford',\n 'afforded',\n 'affording',\n 'affront',\n 'affronting',\n 'afraid',\n 'after',\n 'after',\n 'afternoon',\n 'afterward',\n 'afterwards',\n 'again',\n 'again',\n 'against',\n 'against',\n 'age',\n 'ages',\n 'aggrandizement',\n 'aggravation',\n 'agitate',\n 'agitated',\n 'agitation',\n 'ago',\n 'agonies',\n 'agony',\n 'agree',\n 'agreeable',\n 'agreed',\n 'agreeing',\n 'agreement',\n 'ah',\n 'aid',\n 'ailment',\n 'ailments',\n 'aim',\n 'aimed',\n 'air',\n 'alacrity',\n 'alarm',\n 'alarmed',\n 'alarming',\n 'alarms',\n 'alienated',\n 'alighted',\n 'alike',\n 'alive',\n 'all',\n 'all',\n 'all',\n 'alleged',\n 'allenham',\n 'alleviation',\n 'allow',\n 'allow',\n 'allowable',\n 'allowance',\n 'allowances',\n 'allowed',\n 'allowing',\n 'alloy',\n 'alluded',\n 'allusion',\n 'almost',\n 'almost',\n 'almost',\n 'alone',\n 'along',\n 'aloud',\n 'alphabet',\n 'already',\n 'also',\n 'altar',\n 'alter',\n 'alteration',\n 'alterations',\n 'altered',\n 'altering',\n 'alternately',\n 'alternative',\n 'although',\n 'altogether',\n 'altogether',\n 'always',\n 'always',\n 'am',\n 'am',\n 'am',\n 'amazement',\n 'amazing',\n 'amazingly',\n 'ambition',\n 'amended',\n 'amendment',\n 'amends',\n 'amiable',\n 'amiably',\n 'amidst',\n 'amiss',\n 'among',\n 'among',\n 'amongst',\n 'amongst',\n 'amount',\n 'amounted',\n 'ample',\n 'amply',\n 'amuse',\n 'amused',\n 'amusement',\n 'amusements',\n 'amusing',\n 'an',\n 'an',\n 'ancient',\n 'and',\n 'and',\n 'anew',\n 'angel',\n 'anger',\n 'angrily',\n 'angry',\n 'anguish',\n 'animated',\n 'animating',\n 'animation',\n 'ankle',\n 'ankles',\n 'annamaria',\n 'anne',\n 'annexed',\n 'annihilation',\n 'announce',\n 'announced',\n 'announcing',\n 'annuities',\n 'annuity',\n 'annum',\n 'another',\n 'another',\n 'answer',\n 'answerable',\n 'answered',\n 'answering',\n 'answers',\n 'anticipate',\n 'anticipated',\n 'anticipating',\n 'anticipation',\n 'anticipations',\n 'anxiety',\n 'anxiety',\n 'anxious',\n 'anxiously',\n 'any',\n 'any',\n 'anybody',\n 'anymore',\n 'anything',\n 'apartment',\n 'apartments',\n 'apiece',\n 'apologies',\n 'apologising',\n 'apologize',\n 'apologized',\n 'apology',\n 'apothecary',\n 'apparent',\n 'apparently',\n 'appeal',\n 'appear',\n 'appearance',\n 'appearances',\n 'appeared',\n 'appearing',\n 'appeased',\n 'appetite',\n 'appetites',\n 'applauded',\n 'application',\n 'applied',\n 'applying',\n 'appointed',\n 'appointment',\n 'apprehended',\n 'apprehension',\n 'apprehensions',\n 'apprehensive',\n 'approach',\n 'approached',\n 'approaching',\n 'approbation',\n 'appropriate',\n 'approve',\n 'approved',\n 'apricot',\n 'april',\n 'aptitude',\n 'arbour',\n 'archness',\n 'ardent',\n 'ardour',\n 'are',\n 'are',\n 'are',\n 'argue',\n 'argument',\n 'arguments',\n 'arise',\n 'arisen',\n 'arm',\n 'arms',\n 'army',\n 'arose',\n 'around',\n 'arranged',\n 'arrangement',\n 'arrangements',\n 'arranging',\n 'arrival',\n 'arrive',\n 'arrived',\n 'arrives',\n 'arriving',\n 'art',\n 'artful',\n 'article',\n 'articulate',\n 'articulation',\n 'artificial',\n 'artless',\n 'artlessness',\n 'as',\n 'as',\n 'ascended',\n 'ascending',\n 'ascertain',\n 'ascertained',\n 'ash',\n 'ashamed',\n 'ashamed',\n 'aside',\n 'ask',\n 'asked',\n 'asking',\n 'asleep',\n 'aspect',\n 'assembled',\n 'assemblies',\n 'assent',\n 'assented',\n 'asserted',\n 'assertion',\n 'assertions',\n 'assiduities',\n 'assiduous',\n 'assigned',\n 'assist',\n 'assistance',\n 'assisted',\n 'assisting',\n 'associate',\n 'associating',\n 'assuage',\n 'assurance',\n 'assurances',\n 'assure',\n 'assured',\n 'assuring',\n 'astonished',\n 'astonished',\n 'astonishing',\n 'astonishment',\n 'astonishment',\n 'astray',\n 'asunder',\n 'at',\n 'at',\n 'ate',\n 'atmosphere',\n 'atone',\n 'atoned',\n 'atonement',\n 'atoning',\n 'attach',\n 'attached',\n 'attaching',\n 'attachment',\n 'attachments',\n 'attack',\n 'attacked',\n 'attacks',\n 'attainable',\n 'attained',\n 'attempt',\n 'attempted',\n 'attempting',\n 'attempts',\n 'attend',\n 'attendance',\n 'attendant',\n 'attendants',\n 'attended',\n 'attending',\n 'attention',\n 'attentions',\n 'attentive',\n 'attentively',\n 'attitude',\n 'attract',\n 'attracted',\n 'attraction',\n 'attractions',\n 'attractive',\n 'attribute',\n 'attributed',\n 'attributing',\n 'audacity',\n 'audible',\n 'auditors',\n 'augment',\n 'augmented',\n 'augmenting',\n 'aunt',\n 'auspicious',\n 'auspiciously',\n 'austen',\n 'author',\n 'authorised',\n 'authority',\n 'authors',\n 'autumn',\n 'avail',\n 'availed',\n 'avarice',\n 'avignon',\n 'avoid',\n 'avoided',\n 'avoiding',\n 'avowal',\n 'await',\n 'awaited',\n 'awake',\n 'awaken',\n 'awakened',\n 'awakening',\n 'awaking',\n 'aware',\n 'away',\n 'awful',\n 'awhile',\n 'awkward',\n 'awkwardness',\n 'awoke',\n 'ay',\n 'ay',\n 'aye',\n 'aye',\n 'baby',\n 'bachelor',\n 'back',\n 'backwardness',\n 'backwards',\n 'bad',\n 'bad',\n 'badness',\n 'bags',\n 'ball',\n 'balls',\n 'band',\n 'banditti',\n 'banish',\n 'banished',\n 'bank',\n 'banker',\n 'banns',\n 'barbarous',\n 'barbarously',\n 'bargain',\n 'barouche',\n 'barouches',\n 'bartlett',\n 'barton',\n 'bashful',\n 'basis',\n 'basket',\n 'bath',\n 'bathed',\n 'be',\n 'beamed',\n 'bear',\n 'bearing',\n 'bears',\n 'beasts',\n 'beat',\n 'beau',\n 'beauties',\n 'beautiful',\n 'beautifully',\n 'beautifully',\n 'beauty',\n 'beaux',\n 'became',\n 'because',\n 'because',\n 'become',\n 'becoming',\n 'bed',\n 'bedchamber',\n 'bedroom',\n 'bedrooms',\n 'beds',\n 'bee',\n 'beef',\n 'been',\n 'been',\n 'befall',\n 'befallen',\n 'befalls',\n 'befell',\n 'before',\n 'before',\n 'beg',\n 'began',\n 'begged',\n 'begging',\n 'begin',\n 'beginning',\n 'begins',\n 'begun',\n 'behave',\n 'behaved',\n 'behaviour',\n 'beheld',\n 'behind',\n 'behold',\n 'beholding',\n 'being',\n 'being',\n 'beings',\n 'belief',\n 'believe',\n 'believe',\n 'believed',\n 'believes',\n 'believing',\n 'bell',\n 'belonged',\n 'belonging',\n 'belongs',\n 'beloved',\n 'below',\n 'bely',\n 'beneath',\n 'benefactress',\n 'beneficial',\n 'benefit',\n 'benefited',\n 'benevolence',\n 'benevolent',\n 'benignant',\n 'bent',\n 'bequeath',\n 'bequeathed',\n 'bequest',\n 'berkeley',\n 'beset',\n 'besides',\n 'besides',\n 'bespeak',\n 'bespoke',\n 'best',\n 'bestow',\n 'bestowed',\n 'bestowing',\n 'betray',\n 'betrayed',\n 'betraying',\n 'better',\n 'betty',\n 'between',\n 'between',\n 'bewitching',\n 'beyond',\n 'beyond',\n 'bias',\n 'biased',\n 'bid',\n 'bidding',\n 'biddy',\n 'bide',\n 'bigger',\n 'billiard',\n 'billiards',\n 'bind',\n 'birth',\n 'bishop',\n 'bit',\n 'bitch',\n 'bitter',\n 'bitterly',\n 'bitterness',\n 'black',\n 'blackest',\n 'blackguard',\n 'blamable',\n 'blame',\n 'blameable',\n 'blamed',\n 'blameless',\n 'blank',\n 'blast',\n 'blasted',\n 'bless',\n 'blessed',\n 'blessing',\n 'blessings',\n 'blights',\n 'blind',\n 'blinded',\n 'blindly',\n 'bliss',\n 'blockhead',\n 'blood',\n 'bloom',\n 'blooming',\n 'blossoms',\n 'blow',\n 'blown',\n 'blue',\n 'blunder',\n 'blundered',\n 'blunt',\n 'bluntly',\n 'blush',\n 'blushed',\n 'blushes',\n 'blushing',\n 'bluster',\n 'board',\n 'boast',\n 'boasting',\n 'bodily',\n 'body',\n 'boiled',\n 'boisterous',\n 'bold',\n 'bolder',\n 'boldly',\n 'bond',\n 'bones',\n 'bonnet',\n 'bonomi',\n 'book',\n 'books',\n 'booksellers',\n 'bore',\n 'born',\n 'born',\n 'borne',\n 'borrow',\n 'borrowed',\n 'both',\n 'both',\n 'bottom',\n 'bottoms',\n 'bound',\n 'bout',\n 'bow',\n 'bowed',\n 'bowing',\n 'bowling',\n 'boy',\n 'boyish',\n 'boys',\n 'branch',\n 'branched',\n 'brandon',\n 'braving',\n 'breach',\n 'break',\n 'breakfast',\n 'breakfasting',\n 'breaking',\n 'breast',\n 'breath',\n 'breathing',\n 'bred',\n 'breed',\n 'breeding',\n 'bribing',\n 'brief',\n 'briefly',\n 'bright',\n 'brightened',\n 'brighter',\n 'brightness',\n 'brilliancy',\n 'brilliant',\n 'bring',\n 'bringing',\n 'brings',\n 'bristol',\n 'broad',\n 'broader',\n 'broke',\n 'broken',\n 'brood',\n 'brooding',\n 'brother',\n 'brothers',\n 'brought',\n 'brow',\n 'brown',\n 'brown',\n 'bruised',\n 'brush',\n 'build',\n 'building',\n 'building',\n 'buildings',\n 'built',\n 'bulk',\n 'burgess',\n 'burnt',\n 'burst',\n 'bursts',\n 'bury',\n 'busily',\n 'business',\n 'business',\n 'bustle',\n 'busy',\n 'but',\n 'but',\n 'butcher',\n 'buy',\n 'buying',\n 'by',\n 'by',\n 'bye',\n 'c',\n 'calculate',\n 'calculated',\n 'calculation',\n 'call',\n 'called',\n 'calling',\n 'calls',\n 'calm',\n 'calmer',\n 'calming',\n 'calmly',\n 'calmness',\n 'came',\n 'can',\n 'can',\n 'can',\n 'canal',\n 'candid',\n 'candidly',\n 'candlelight',\n 'candles',\n 'candour',\n 'cannot',\n 'cant',\n 'canvassing',\n 'cap',\n 'capability',\n 'capable',\n 'caprice',\n 'captivate',\n 'captivating',\n 'card',\n 'cards',\n 'care',\n 'careful',\n 'carefully',\n 'carefulness',\n 'careless',\n 'careless',\n 'carelessly',\n 'carelessness',\n 'cares',\n 'caresses',\n 'caressing',\n 'careys',\n 'caricature',\n 'carpet',\n 'carriage',\n 'carriages',\n 'carried',\n 'carries',\n 'carry',\n 'carrying',\n 'cartwright',\n 'case',\n 'casement',\n 'cases',\n 'cash',\n 'casino',\n 'cassino',\n 'cast',\n 'casts',\n 'catch',\n 'catching',\n ...]"
     },
     "execution_count": 70,
     "metadata": {},
     "output_type": "execute_result"
    }
   ],
   "source": [
    "sorted([w.lower() for w in set(text2)])"
   ],
   "metadata": {
    "collapsed": false,
    "pycharm": {
     "name": "#%%\n"
    }
   }
  },
  {
   "cell_type": "code",
   "execution_count": 71,
   "outputs": [
    {
     "data": {
      "text/plain": "['!',\n '!\"',\n '!\"--',\n \"!'\",\n '!\\'\"',\n '!--',\n '!--\"',\n '\"',\n '\"\\'',\n '\"--',\n '&',\n \"'\",\n \"',\",\n \"'--\",\n '(',\n ')',\n '),',\n ')--',\n '***',\n ',',\n ',\"',\n ',\"--',\n \",'\",\n ',)',\n ',-',\n ',--',\n ',--\"',\n '-',\n '--',\n '--\"',\n \"--'\",\n '--(',\n '--,',\n '-?',\n '-?\"',\n '.',\n '.\"',\n '.\"--',\n \".'\",\n '.\\'\"',\n \".'--\",\n '.)',\n '.)--',\n '.--',\n '.--\"',\n '...',\n '...\"',\n '.]',\n '1',\n '10',\n '11',\n '12',\n '13',\n '14',\n '15',\n '16',\n '17',\n '18',\n '1811',\n '19',\n '2',\n '20',\n '200',\n '21',\n '22',\n '23',\n '24',\n '25',\n '26',\n '27',\n '28',\n '29',\n '3',\n '30',\n '31',\n '32',\n '33',\n '34',\n '35',\n '36',\n '37',\n '38',\n '39',\n '4',\n '40',\n '41',\n '42',\n '43',\n '44',\n '45',\n '46',\n '47',\n '48',\n '49',\n '5',\n '50',\n '6',\n '7',\n '7000l',\n '8',\n '9',\n ':',\n ':--',\n ':--\"',\n ';',\n ';\"',\n ';\"--',\n \";'\",\n ';--',\n ';--\"',\n '>',\n '?',\n '?\"',\n '?\"--',\n \"?'\",\n '?)',\n '?--',\n '?--\"',\n '[',\n ']',\n 'a',\n 'abandoned',\n 'abatement',\n 'abbeyland',\n 'abhor',\n 'abhorred',\n 'abhorrence',\n 'abilities',\n 'ability',\n 'able',\n 'ablest',\n 'abode',\n 'abominably',\n 'abounded',\n 'about',\n 'above',\n 'abridge',\n 'abridgement',\n 'abroad',\n 'abruptly',\n 'abruptness',\n 'absence',\n 'absent',\n 'absolute',\n 'absolutely',\n 'abstracted',\n 'abstraction',\n 'abstruse',\n 'absurd',\n 'absurdity',\n 'abundance',\n 'abundantly',\n 'abuse',\n 'abused',\n 'abuses',\n 'acacia',\n 'accelerate',\n 'accent',\n 'accents',\n 'accept',\n 'acceptable',\n 'acceptably',\n 'acceptance',\n 'accepted',\n 'accepting',\n 'accident',\n 'accidental',\n 'accidentally',\n 'accidently',\n 'accommodate',\n 'accommodating',\n 'accommodation',\n 'accommodations',\n 'accompanied',\n 'accompany',\n 'accomplished',\n 'accomplishment',\n 'accordant',\n 'according',\n 'accordingly',\n 'accosted',\n 'account',\n 'accounted',\n 'accounts',\n 'accrue',\n 'accurately',\n 'accusation',\n 'accuse',\n 'accustom',\n 'accustomary',\n 'aches',\n 'aching',\n 'acknowledge',\n 'acknowledged',\n 'acknowledging',\n 'acknowledgment',\n 'acknowledgments',\n 'acquaintance',\n 'acquaintances',\n 'acquainted',\n 'acquiesced',\n 'acquiescence',\n 'acquired',\n 'acquisition',\n 'acquit',\n 'acquitted',\n 'acquitting',\n 'across',\n 'act',\n 'acted',\n 'acting',\n 'action',\n 'actions',\n 'active',\n 'acts',\n 'actual',\n 'actually',\n 'acute',\n 'acutely',\n 'acuteness',\n 'adapted',\n 'add',\n 'added',\n 'adding',\n 'addition',\n 'additional',\n 'additions',\n 'address',\n 'addressed',\n 'addresses',\n 'addressing',\n 'adequate',\n 'adhering',\n 'adieu',\n 'adieus',\n 'adjoining',\n 'adjusting',\n 'administer',\n 'administering',\n 'admirable',\n 'admiration',\n 'admire',\n 'admired',\n 'admirers',\n 'admires',\n 'admiring',\n 'admission',\n 'admit',\n 'admittance',\n 'admitted',\n 'admitting',\n 'adopt',\n 'adopted',\n 'adorned',\n 'advance',\n 'advanced',\n 'advancement',\n 'advances',\n 'advancing',\n 'advantage',\n 'advantageous',\n 'advantages',\n 'advice',\n 'advisable',\n 'advise',\n 'advised',\n 'affability',\n 'affable',\n 'affair',\n 'affairs',\n 'affect',\n 'affectation',\n 'affected',\n 'affectedly',\n 'affecting',\n 'affection',\n 'affectionate',\n 'affectionately',\n 'affections',\n 'affects',\n 'affirmative',\n 'affixed',\n 'afflict',\n 'afflicted',\n 'afflicting',\n 'affliction',\n 'afflictions',\n 'affluence',\n 'afford',\n 'afforded',\n 'affording',\n 'affront',\n 'affronting',\n 'afraid',\n 'after',\n 'afternoon',\n 'afterward',\n 'afterwards',\n 'again',\n 'against',\n 'age',\n 'ages',\n 'aggrandizement',\n 'aggravation',\n 'agitate',\n 'agitated',\n 'agitation',\n 'ago',\n 'agonies',\n 'agony',\n 'agree',\n 'agreeable',\n 'agreed',\n 'agreeing',\n 'agreement',\n 'ah',\n 'aid',\n 'ailment',\n 'ailments',\n 'aim',\n 'aimed',\n 'air',\n 'alacrity',\n 'alarm',\n 'alarmed',\n 'alarming',\n 'alarms',\n 'alienated',\n 'alighted',\n 'alike',\n 'alive',\n 'all',\n 'alleged',\n 'allenham',\n 'alleviation',\n 'allow',\n 'allowable',\n 'allowance',\n 'allowances',\n 'allowed',\n 'allowing',\n 'alloy',\n 'alluded',\n 'allusion',\n 'almost',\n 'alone',\n 'along',\n 'aloud',\n 'alphabet',\n 'already',\n 'also',\n 'altar',\n 'alter',\n 'alteration',\n 'alterations',\n 'altered',\n 'altering',\n 'alternately',\n 'alternative',\n 'although',\n 'altogether',\n 'always',\n 'am',\n 'amazement',\n 'amazing',\n 'amazingly',\n 'ambition',\n 'amended',\n 'amendment',\n 'amends',\n 'amiable',\n 'amiably',\n 'amidst',\n 'amiss',\n 'among',\n 'amongst',\n 'amount',\n 'amounted',\n 'ample',\n 'amply',\n 'amuse',\n 'amused',\n 'amusement',\n 'amusements',\n 'amusing',\n 'an',\n 'ancient',\n 'and',\n 'anew',\n 'angel',\n 'anger',\n 'angrily',\n 'angry',\n 'anguish',\n 'animated',\n 'animating',\n 'animation',\n 'ankle',\n 'ankles',\n 'annamaria',\n 'anne',\n 'annexed',\n 'annihilation',\n 'announce',\n 'announced',\n 'announcing',\n 'annuities',\n 'annuity',\n 'annum',\n 'another',\n 'answer',\n 'answerable',\n 'answered',\n 'answering',\n 'answers',\n 'anticipate',\n 'anticipated',\n 'anticipating',\n 'anticipation',\n 'anticipations',\n 'anxiety',\n 'anxious',\n 'anxiously',\n 'any',\n 'anybody',\n 'anymore',\n 'anything',\n 'apartment',\n 'apartments',\n 'apiece',\n 'apologies',\n 'apologising',\n 'apologize',\n 'apologized',\n 'apology',\n 'apothecary',\n 'apparent',\n 'apparently',\n 'appeal',\n 'appear',\n 'appearance',\n 'appearances',\n 'appeared',\n 'appearing',\n 'appeased',\n 'appetite',\n 'appetites',\n 'applauded',\n 'application',\n 'applied',\n 'applying',\n 'appointed',\n 'appointment',\n 'apprehended',\n 'apprehension',\n 'apprehensions',\n 'apprehensive',\n 'approach',\n 'approached',\n 'approaching',\n 'approbation',\n 'appropriate',\n 'approve',\n 'approved',\n 'apricot',\n 'april',\n 'aptitude',\n 'arbour',\n 'archness',\n 'ardent',\n 'ardour',\n 'are',\n 'argue',\n 'argument',\n 'arguments',\n 'arise',\n 'arisen',\n 'arm',\n 'arms',\n 'army',\n 'arose',\n 'around',\n 'arranged',\n 'arrangement',\n 'arrangements',\n 'arranging',\n 'arrival',\n 'arrive',\n 'arrived',\n 'arrives',\n 'arriving',\n 'art',\n 'artful',\n 'article',\n 'articulate',\n 'articulation',\n 'artificial',\n 'artless',\n 'artlessness',\n 'as',\n 'ascended',\n 'ascending',\n 'ascertain',\n 'ascertained',\n 'ash',\n 'ashamed',\n 'aside',\n 'ask',\n 'asked',\n 'asking',\n 'asleep',\n 'aspect',\n 'assembled',\n 'assemblies',\n 'assent',\n 'assented',\n 'asserted',\n 'assertion',\n 'assertions',\n 'assiduities',\n 'assiduous',\n 'assigned',\n 'assist',\n 'assistance',\n 'assisted',\n 'assisting',\n 'associate',\n 'associating',\n 'assuage',\n 'assurance',\n 'assurances',\n 'assure',\n 'assured',\n 'assuring',\n 'astonished',\n 'astonishing',\n 'astonishment',\n 'astray',\n 'asunder',\n 'at',\n 'ate',\n 'atmosphere',\n 'atone',\n 'atoned',\n 'atonement',\n 'atoning',\n 'attach',\n 'attached',\n 'attaching',\n 'attachment',\n 'attachments',\n 'attack',\n 'attacked',\n 'attacks',\n 'attainable',\n 'attained',\n 'attempt',\n 'attempted',\n 'attempting',\n 'attempts',\n 'attend',\n 'attendance',\n 'attendant',\n 'attendants',\n 'attended',\n 'attending',\n 'attention',\n 'attentions',\n 'attentive',\n 'attentively',\n 'attitude',\n 'attract',\n 'attracted',\n 'attraction',\n 'attractions',\n 'attractive',\n 'attribute',\n 'attributed',\n 'attributing',\n 'audacity',\n 'audible',\n 'auditors',\n 'augment',\n 'augmented',\n 'augmenting',\n 'aunt',\n 'auspicious',\n 'auspiciously',\n 'austen',\n 'author',\n 'authorised',\n 'authority',\n 'authors',\n 'autumn',\n 'avail',\n 'availed',\n 'avarice',\n 'avignon',\n 'avoid',\n 'avoided',\n 'avoiding',\n 'avowal',\n 'await',\n 'awaited',\n 'awake',\n 'awaken',\n 'awakened',\n 'awakening',\n 'awaking',\n 'aware',\n 'away',\n 'awful',\n 'awhile',\n 'awkward',\n 'awkwardness',\n 'awoke',\n 'ay',\n 'aye',\n 'baby',\n 'bachelor',\n 'back',\n 'backwardness',\n 'backwards',\n 'bad',\n 'badness',\n 'bags',\n 'ball',\n 'balls',\n 'band',\n 'banditti',\n 'banish',\n 'banished',\n 'bank',\n 'banker',\n 'banns',\n 'barbarous',\n 'barbarously',\n 'bargain',\n 'barouche',\n 'barouches',\n 'bartlett',\n 'barton',\n 'bashful',\n 'basis',\n 'basket',\n 'bath',\n 'bathed',\n 'be',\n 'beamed',\n 'bear',\n 'bearing',\n 'bears',\n 'beasts',\n 'beat',\n 'beau',\n 'beauties',\n 'beautiful',\n 'beautifully',\n 'beauty',\n 'beaux',\n 'became',\n 'because',\n 'become',\n 'becoming',\n 'bed',\n 'bedchamber',\n 'bedroom',\n 'bedrooms',\n 'beds',\n 'bee',\n 'beef',\n 'been',\n 'befall',\n 'befallen',\n 'befalls',\n 'befell',\n 'before',\n 'beg',\n 'began',\n 'begged',\n 'begging',\n 'begin',\n 'beginning',\n 'begins',\n 'begun',\n 'behave',\n 'behaved',\n 'behaviour',\n 'beheld',\n 'behind',\n 'behold',\n 'beholding',\n 'being',\n 'beings',\n 'belief',\n 'believe',\n 'believed',\n 'believes',\n 'believing',\n 'bell',\n 'belonged',\n 'belonging',\n 'belongs',\n 'beloved',\n 'below',\n 'bely',\n 'beneath',\n 'benefactress',\n 'beneficial',\n 'benefit',\n 'benefited',\n 'benevolence',\n 'benevolent',\n 'benignant',\n 'bent',\n 'bequeath',\n 'bequeathed',\n 'bequest',\n 'berkeley',\n 'beset',\n 'besides',\n 'bespeak',\n 'bespoke',\n 'best',\n 'bestow',\n 'bestowed',\n 'bestowing',\n 'betray',\n 'betrayed',\n 'betraying',\n 'better',\n 'betty',\n 'between',\n 'bewitching',\n 'beyond',\n 'bias',\n 'biased',\n 'bid',\n 'bidding',\n 'biddy',\n 'bide',\n 'bigger',\n 'billiard',\n 'billiards',\n 'bind',\n 'birth',\n 'bishop',\n 'bit',\n 'bitch',\n 'bitter',\n 'bitterly',\n 'bitterness',\n 'black',\n 'blackest',\n 'blackguard',\n 'blamable',\n 'blame',\n 'blameable',\n 'blamed',\n 'blameless',\n 'blank',\n 'blast',\n 'blasted',\n 'bless',\n 'blessed',\n 'blessing',\n 'blessings',\n 'blights',\n 'blind',\n 'blinded',\n 'blindly',\n 'bliss',\n 'blockhead',\n 'blood',\n 'bloom',\n 'blooming',\n 'blossoms',\n 'blow',\n 'blown',\n 'blue',\n 'blunder',\n 'blundered',\n 'blunt',\n 'bluntly',\n 'blush',\n 'blushed',\n 'blushes',\n 'blushing',\n 'bluster',\n 'board',\n 'boast',\n 'boasting',\n 'bodily',\n 'body',\n 'boiled',\n 'boisterous',\n 'bold',\n 'bolder',\n 'boldly',\n 'bond',\n 'bones',\n 'bonnet',\n 'bonomi',\n 'book',\n 'books',\n 'booksellers',\n 'bore',\n 'born',\n 'borne',\n 'borrow',\n 'borrowed',\n 'both',\n 'bottom',\n 'bottoms',\n 'bound',\n 'bout',\n 'bow',\n 'bowed',\n 'bowing',\n 'bowling',\n 'boy',\n 'boyish',\n 'boys',\n 'branch',\n 'branched',\n 'brandon',\n 'braving',\n 'breach',\n 'break',\n 'breakfast',\n 'breakfasting',\n 'breaking',\n 'breast',\n 'breath',\n 'breathing',\n 'bred',\n 'breed',\n 'breeding',\n 'bribing',\n 'brief',\n 'briefly',\n 'bright',\n 'brightened',\n 'brighter',\n 'brightness',\n 'brilliancy',\n 'brilliant',\n 'bring',\n 'bringing',\n 'brings',\n 'bristol',\n 'broad',\n 'broader',\n 'broke',\n 'broken',\n 'brood',\n 'brooding',\n 'brother',\n 'brothers',\n 'brought',\n 'brow',\n 'brown',\n 'bruised',\n 'brush',\n 'build',\n 'building',\n 'buildings',\n 'built',\n 'bulk',\n 'burgess',\n 'burnt',\n 'burst',\n 'bursts',\n 'bury',\n 'busily',\n 'business',\n 'bustle',\n 'busy',\n 'but',\n 'butcher',\n 'buy',\n 'buying',\n 'by',\n 'bye',\n 'c',\n 'calculate',\n 'calculated',\n 'calculation',\n 'call',\n 'called',\n 'calling',\n 'calls',\n 'calm',\n 'calmer',\n 'calming',\n 'calmly',\n 'calmness',\n 'came',\n 'can',\n 'canal',\n 'candid',\n 'candidly',\n 'candlelight',\n 'candles',\n 'candour',\n 'cannot',\n 'cant',\n 'canvassing',\n 'cap',\n 'capability',\n 'capable',\n 'caprice',\n 'captivate',\n 'captivating',\n 'card',\n 'cards',\n 'care',\n 'careful',\n 'carefully',\n 'carefulness',\n 'careless',\n 'carelessly',\n 'carelessness',\n 'cares',\n 'caresses',\n 'caressing',\n 'careys',\n 'caricature',\n 'carpet',\n 'carriage',\n 'carriages',\n 'carried',\n 'carries',\n 'carry',\n 'carrying',\n 'cartwright',\n 'case',\n 'casement',\n 'cases',\n 'cash',\n 'casino',\n 'cassino',\n 'cast',\n 'casts',\n 'catch',\n 'catching',\n 'cats',\n 'caught',\n 'cause',\n 'caused',\n 'caution',\n 'cautious',\n 'cautiously',\n 'cautiousness',\n 'cavil',\n 'cease',\n 'ceased',\n 'ceasing',\n 'ceiling',\n 'celebrated',\n 'celebration',\n 'censure',\n 'censured',\n 'centered',\n 'centre',\n 'ceremony',\n 'certain',\n 'certainly',\n 'certainties',\n 'certainty',\n 'cessation',\n 'chagrined',\n 'chained',\n 'chair',\n 'chairs',\n 'chaise',\n 'chamber',\n 'chambers',\n 'chance',\n 'chanced',\n 'change',\n 'changed',\n 'changes',\n 'changing',\n 'chaperon',\n 'chapter',\n 'character',\n 'characters',\n 'charge',\n 'charged',\n 'chariot',\n 'charity',\n 'charlotte',\n 'charm',\n 'charmed',\n 'charming',\n 'charms',\n 'chat',\n 'chatty',\n 'cheap',\n ...]"
     },
     "execution_count": 71,
     "metadata": {},
     "output_type": "execute_result"
    }
   ],
   "source": [
    "sorted(set([w.lower() for w in text2]))"
   ],
   "metadata": {
    "collapsed": false,
    "pycharm": {
     "name": "#%%\n"
    }
   }
  },
  {
   "cell_type": "code",
   "execution_count": 72,
   "outputs": [
    {
     "data": {
      "text/plain": "141576"
     },
     "execution_count": 72,
     "metadata": {},
     "output_type": "execute_result"
    }
   ],
   "source": [
    "# Exercise: 1-21\n",
    "# Write the slice expression that extracts the last two words of text2.\n",
    "\n",
    "len(text2)"
   ],
   "metadata": {
    "collapsed": false,
    "pycharm": {
     "name": "#%%\n"
    }
   }
  },
  {
   "cell_type": "code",
   "execution_count": 74,
   "outputs": [
    {
     "data": {
      "text/plain": "['THE', 'END']"
     },
     "execution_count": 74,
     "metadata": {},
     "output_type": "execute_result"
    }
   ],
   "source": [
    "text2[141574:141576]"
   ],
   "metadata": {
    "collapsed": false,
    "pycharm": {
     "name": "#%%\n"
    }
   }
  },
  {
   "cell_type": "code",
   "execution_count": 75,
   "outputs": [
    {
     "data": {
      "text/plain": "['left',\n 'with',\n 'this',\n 'name',\n 'PART',\n 'well',\n 'NICK',\n 'name',\n 'U121',\n 'golf',\n 'clap',\n 'JOIN',\n 'that',\n 'nice',\n 'JOIN',\n 'PART',\n 'golf',\n 'clap',\n 'fuck',\n 'U121',\n 'PART',\n 'PART',\n 'clap',\n 'your',\n 'PART',\n 'dont',\n 'even',\n 'know',\n 'what',\n 'that',\n 'that',\n 'chat',\n 'JOIN',\n 'drew',\n 'cast',\n 'PART',\n 'sexy',\n 'U115',\n 'JOIN',\n 'PART',\n 'drew',\n 'girl',\n 'with',\n 'legs',\n 'hope',\n 'draw',\n 'PART',\n 'head',\n 'legs',\n 'JOIN',\n 'JOIN',\n 'good',\n 'JOIN',\n 'PART',\n 'take',\n 'have',\n 'docs',\n 'Slip',\n 'away',\n 'Fade',\n 'away',\n 'Days',\n 'away',\n 'feel',\n 'have',\n 'back',\n 'U115',\n 'U129',\n 'U115',\n 'chat',\n 'with',\n 'PART',\n 'JOIN',\n 'JOIN',\n 'fast',\n 'U116',\n 'bowl',\n 'bong',\n 'JOIN',\n 'well',\n 'glad',\n 'hard',\n 'from',\n 'here',\n 'back',\n 'PART',\n 'PART',\n 'JOIN',\n 'U121',\n 'name',\n 'hard',\n 'very',\n 'fire',\n 'from',\n 'here',\n 'JOIN',\n 'PART',\n 'itch',\n 'JOIN',\n 'U133',\n 'ogan',\n 'male',\n 'JOIN',\n 'JOIN',\n 'show',\n 'will',\n 'talk',\n 'PART',\n 'haha',\n 'opps',\n 'JOIN',\n 'PART',\n 'U115',\n 'nice',\n 'warm',\n 'guys',\n 'with',\n 'cams',\n 'play',\n 'sits',\n 'JOIN',\n 'JOIN',\n 'guyz',\n 'chat',\n 'U126',\n 'PART',\n 'chat',\n 'PART',\n 'gooo',\n 'sure',\n 'U126',\n 'JOIN',\n 'what',\n 'feel',\n 'like',\n 'room',\n 'yeee',\n 'JOIN',\n 'want',\n 'pics',\n 'look',\n 'U139',\n 'PART',\n 'PART',\n 'JOIN',\n 'here',\n 'JOIN',\n 'PART',\n 'JOIN',\n 'U139',\n 'PART',\n 'JOIN',\n 'U138',\n 'U139',\n 'make',\n 'U139',\n 'that',\n 'U126',\n 'late',\n 'lmao',\n 'ahah',\n 'PART',\n 'U121',\n 'U121',\n 'does',\n 'like',\n 'that',\n 'guys',\n 'male',\n 'JOIN',\n 'U139',\n 'well',\n 'what',\n 'yeah',\n 'know',\n 'U136',\n 'hell',\n 'with',\n 'U139',\n 'U101',\n 'like',\n 'when',\n 'plan',\n 'PART',\n 'JOIN',\n 'gold',\n 'jeep',\n 'make',\n 'sure',\n 'nice',\n 'ring',\n 'U115',\n 'isnt',\n 'that',\n 'U136',\n 'hell',\n 'have',\n 'have',\n 'doin',\n 'U139',\n 'U121',\n 'many',\n 'Just',\n 'fine',\n 'that',\n 'like',\n 'PART',\n 'hiya',\n 'room',\n 'lmao',\n 'doin',\n 'Deep',\n 'Show',\n 'that',\n 'love',\n 'that',\n 'Turn',\n 'take',\n 'Hand',\n 'just',\n 'even',\n 'look',\n 'hang',\n 'PART',\n 'that',\n 'such',\n 'word',\n 'U141',\n 'hear',\n '!!!!',\n 'PART',\n 'JOIN',\n 'PART',\n 'deaf',\n 'here',\n 'dont',\n 'U115',\n 'U115',\n '....',\n 'hugs',\n 'chat',\n 'with',\n 'baby',\n 'Only',\n 'U121',\n 'U121',\n 'PART',\n 'have',\n 'away',\n 'from',\n 'U121',\n 'what',\n 'read',\n 'here',\n 'with',\n 'JOIN',\n 'read',\n 'have',\n 'here',\n 'JOIN',\n 'want',\n 'chat',\n 'talk',\n 'U121',\n 'JOIN',\n 'U121',\n 'VBox',\n 'PART',\n 'take',\n 'that',\n 'JOIN',\n 'PART',\n 'hate',\n 'when',\n 'U121',\n 'U115',\n 'lmao',\n 'PART',\n 'your',\n 'know',\n 'what',\n 'your',\n 'what',\n 'JOIN',\n 'love',\n 'more',\n 'than',\n 'ELSE',\n 'serg',\n 'well',\n 'most',\n 'love',\n 'JOIN',\n 'know',\n 'that',\n 'what',\n 'lmao',\n 'well',\n 'have',\n 'eyes',\n 'lmao',\n 'know',\n 'JOIN',\n 'girl',\n 'jerk',\n 'kids',\n 'guys',\n 'type',\n 'much',\n 'shut',\n 'fuck',\n 'girl',\n 'nice',\n 'shut',\n 'fuck',\n 'PART',\n 'dont',\n 'want',\n 'JOIN',\n 'want',\n 'U115',\n 'what',\n 'miss',\n 'much',\n 'work',\n 'nice',\n 'U116',\n 'PART',\n 'PART',\n 'heyy',\n 'U148',\n 'hate',\n 'boys',\n 'JOIN',\n 'U148',\n 'hate',\n 'what',\n 'PART',\n 'hate',\n 'U121',\n 'fuck',\n 'your',\n 'ugly',\n 'JOIN',\n 'bein',\n 'PART',\n 'What',\n 'U115',\n 'whys',\n 'that',\n 'deep',\n 'U121',\n 'what',\n 'JOIN',\n 'tape',\n 'Your',\n 'sexs',\n 'best',\n 'phil',\n 'said',\n 'ugly',\n 'PART',\n 'date',\n 'feel',\n 'your',\n 'they',\n 'form',\n 'PART',\n 'sits',\n 'JOIN',\n 'sits',\n 'with',\n 'hmph',\n 'hate',\n 'does',\n 'that',\n 'mean',\n 'want',\n 'room',\n 'this',\n 'been',\n 'PART',\n 'JOIN',\n 'U115',\n 'U116',\n 'your',\n 'here',\n 'talk',\n 'wait',\n 'that',\n 'perv',\n 'lets',\n 'hope',\n 'U121',\n 'PART',\n 'U115',\n '!!!!',\n 'lets',\n 'chat',\n 'JOIN',\n 'rule',\n 'land',\n 'wont',\n 'then',\n 'find',\n 'need',\n 'this',\n 'HUGE',\n 'perv',\n 'that',\n 'deal',\n '????',\n 'JOIN',\n 'shit',\n 'hell',\n 'lmao',\n 'PART',\n 'hell',\n 'JOIN',\n 'here',\n 'guys',\n 'have',\n 'U121',\n 'JOIN',\n 'U155',\n 'only',\n 'Poor',\n 'U121',\n 'love',\n 'pick',\n 'much',\n 'that',\n 'PART',\n 'PART',\n 'sits',\n 'with',\n 'U121',\n 'nads',\n 'JOIN',\n 'from',\n 'pick',\n 'your',\n 'pick',\n 'your',\n 'nose',\n 'pick',\n 'your',\n 'nose',\n 'JOIN',\n 'face',\n 'with',\n 'PART',\n 'U115',\n 'owww',\n 'PART',\n 'JOIN',\n 'U116',\n 'PART',\n 'does',\n 'want',\n 'talk',\n 'head',\n 'gags',\n 'even',\n 'U121',\n 'neck',\n 'Meep',\n 'U115',\n 'LAst',\n 'time',\n 'that',\n 'wash',\n 'your',\n 'dude',\n 'gets',\n 'JOIN',\n 'U121',\n 'dang',\n 'just',\n \"pm's\",\n 'that',\n '1.99',\n '....',\n 'yeah',\n 'nice',\n 'neck',\n 'U115',\n 'like',\n 'shut',\n 'free',\n 'JOIN',\n 'goes',\n 'wash',\n 'lmao',\n 'Lies',\n 'lmao',\n 'U115',\n 'lick',\n 'very',\n 'lmao',\n 'U115',\n 'ummm',\n 'U109',\n 'dont',\n 'dead',\n 'more',\n 'than',\n 'call',\n 'just',\n 'case',\n 'dead',\n 'good',\n 'neck',\n 'talk',\n 'what',\n 'ummm',\n 'else',\n 'wont',\n 'bite',\n 'U115',\n 'yeah',\n 'wait',\n 'yeah',\n 'PART',\n 'your',\n 'want',\n 'have',\n 'sexy',\n 'bite',\n 'lmao',\n 'call',\n 'have',\n 'free',\n 'call',\n 'mins',\n 'JOIN',\n 'nite',\n 'lool',\n 'know',\n 'that',\n 'kina',\n 'give',\n 'away',\n 'then',\n 'room',\n 'call',\n 'yeah',\n 'U155',\n 'PART',\n 'U115',\n 'more',\n 'U115',\n 'guys',\n 'baby',\n 'U109',\n 'fuck',\n 'case',\n 'know',\n 'were',\n 'girl',\n 'JOIN',\n 'baby',\n 'what',\n 'U109',\n 'guys',\n 'chat',\n 'have',\n 'have',\n 'sext',\n 'piff',\n 'dont',\n 'talk',\n 'read',\n 'dang',\n 'lazy',\n 'dont',\n 'read',\n 'PART',\n 'JOIN',\n 'mean',\n 'fine',\n '....',\n 'busy',\n 'work',\n 'okay',\n 'dont',\n 'talk',\n 'calm',\n 'down',\n 'busy',\n 'busy',\n 'want',\n 'chat',\n 'arms',\n 'kids',\n 'name',\n 'PART',\n 'sits',\n 'down',\n 'eats',\n 'JOIN',\n 'hugs',\n 'want',\n 'U121',\n 'near',\n 'just',\n 'PART',\n 'JOIN',\n 'PART',\n 'hell',\n 'yeah',\n 'U115',\n 'near',\n 'near',\n 'good',\n 'smax',\n 'JOIN',\n 'haha',\n 'only',\n '>:->',\n 'near',\n 'PART',\n 'piff',\n 'VVil',\n 'JOIN',\n 'free',\n 'wont',\n 'cold',\n 'U121',\n 'cell',\n 'runs',\n 'thru',\n 'back',\n 'hair',\n 'eyes',\n 'neck',\n 'yeah',\n 'caps',\n 'PART',\n 'JOIN',\n 'PART',\n 'PART',\n 'U165',\n 'jump',\n 'U165',\n 'baby',\n 'here',\n 'over',\n 'your',\n 'good',\n 'PART',\n 'that',\n 'left',\n 'room',\n 'este',\n 'U115',\n 'will',\n 'PART',\n 'U121',\n 'U165',\n 'lmao',\n 'PART',\n 'PART',\n 'very',\n 'guys',\n 'wana',\n 'chat',\n 'chik',\n 'from',\n 'mean',\n 'chat',\n 'well',\n 'PART',\n 'that',\n 'dont',\n 'shit',\n 'U165',\n 'U165',\n 'left',\n 'room',\n 'with',\n 'your',\n 'JOIN',\n 'U115',\n 'what',\n 'list',\n 'wish',\n 'cmon',\n 'U128',\n 'nice',\n 'JOIN',\n 'list',\n 'PART',\n 'list',\n 'U115',\n 'good',\n 'lmao',\n 'U128',\n 'hehe',\n 'hows',\n 'bout',\n 'good',\n 'hear',\n 'U165',\n 'have',\n 'JOIN',\n 'good',\n 'PART',\n 'JOIN',\n 'wats',\n 'they',\n 'PART',\n 'piff',\n 'aint',\n 'know',\n 'shut',\n 'much',\n 'good',\n 'PART',\n 'JOIN',\n 'JOIN',\n 'yeah',\n 'lost',\n 'like',\n 'same',\n 'well',\n 'work',\n 'what',\n 'Boyz',\n 'rock',\n 'what',\n 'hehe',\n 'went',\n 'back',\n 'some',\n 'then',\n 'came',\n 'back',\n 'home',\n 'PART',\n 'what',\n 'they',\n 'coat',\n 'nice',\n 'read',\n 'many',\n 'nice',\n 'hehe',\n 'lmao',\n 'even',\n 'JOIN',\n 'well',\n 'talk',\n 'nite',\n 'what',\n 'very',\n 'time',\n 'What',\n 'kind',\n '....',\n 'nite',\n 'PART',\n 'Eyes',\n 'Dawn',\n 'last',\n 'song',\n 'LIVE',\n 'cool',\n 'good',\n 'nite',\n 'mauh',\n 'nite',\n 'mike',\n 'keep',\n 'must',\n 'girl',\n 'seem',\n 'pick',\n 'else',\n '....',\n 'take',\n 'your',\n 'your',\n 'JOIN',\n 'lmao',\n 'just',\n 'days',\n 'late',\n 'with',\n 'room',\n 'JOIN',\n 'PART',\n 'good',\n 'ques',\n 'lmao',\n 'JOIN',\n 'that',\n 'like',\n 'dont',\n 'quit',\n 'what',\n 'your',\n '4.20',\n 'PART',\n 'like',\n 'mine',\n 'over',\n 'cali',\n 'good',\n 'this',\n 'year',\n 'NICK',\n 'whoa',\n 'have',\n 'have',\n 'have',\n 'what',\n 'boys',\n 'gosh',\n 'that',\n 'ruff',\n 'what',\n 'PART',\n 'hell',\n 'rock',\n 'roll',\n 'PART',\n 'with',\n 'like',\n 'that',\n 'nope',\n '....',\n 'rest',\n 'rock',\n 'roll',\n '....',\n '....',\n 'sing',\n 'from',\n 'kids',\n '....',\n 'mame',\n 'nada',\n 'cali',\n 'here',\n 'that',\n 'cool',\n 'kids',\n 'cool',\n 'JOIN',\n 'with',\n 'from',\n 'said',\n 'alot',\n 'JOIN',\n 'year',\n 'band',\n 'JOIN',\n 'NICK',\n 'cool',\n 'nice',\n 'here',\n 'hair',\n 'hard',\n 'what',\n 'type',\n 'does',\n 'your',\n 'band',\n 'play',\n 'hair',\n 'yeah',\n 'what',\n 'doin',\n '....',\n 'with',\n 'hand',\n 'what',\n 'JOIN',\n 'room',\n '....',\n 'sexy',\n 'PART',\n 'dumb',\n 'they',\n 'wont',\n 'chat',\n 'with',\n 'lmao',\n 'damn',\n 'what',\n 'orgy',\n 'orgy',\n 'lmao',\n 'what',\n 'word',\n 'some',\n 'easy',\n 'PART',\n 'JOIN',\n 'back',\n 'orgy',\n 'lmao',\n 'PART',\n 'lets',\n 'play',\n 'room',\n 'PART',\n 'JOIN',\n 'JOIN',\n 'were',\n 'damn',\n 'PART',\n 'good',\n 'call',\n 'what',\n 'like',\n 'just',\n 'late',\n 'date',\n 'know',\n 'push',\n 'PART',\n 'lose',\n 'name',\n 'shit',\n 'head',\n 'long',\n 'time',\n 'said',\n 'shit',\n 'lost',\n 'baby',\n 'then',\n 'JOIN',\n 'PART',\n 'JOIN',\n 'What',\n 'sure',\n 'JOIN',\n 'sure',\n 'lmao',\n 'this',\n 'room',\n '....',\n '....',\n 'your',\n '....',\n 'lmao',\n 'that',\n 'yeah',\n 'have',\n 'many',\n 'lmao',\n 'sexy',\n 'stay',\n 'keep',\n 'lmao',\n 'with',\n 'hair',\n 'like',\n 'that',\n '....',\n 'down',\n 'door',\n 'prob',\n '....',\n 'hair',\n 'lmao',\n 'JOIN',\n 'sexy',\n 'just',\n 'this',\n 'life',\n 'just',\n 'PART',\n 'room',\n 'with',\n 'hair',\n 'like',\n 'what',\n 'from',\n 'here',\n 'said',\n 'wild',\n '....',\n 'even',\n 'from',\n 'JOIN',\n 'cool',\n 'sexy',\n 'JOIN',\n 'sexy',\n 'only',\n 'none',\n 'sexy',\n 'whew',\n 'sexy',\n 'hell',\n 'have',\n ...]"
     },
     "execution_count": 75,
     "metadata": {},
     "output_type": "execute_result"
    }
   ],
   "source": [
    "# Exercise: 1-22\n",
    "# Find all the four-letter words in the Chat Corpus (text5). With the help of a frequency distribution (FreqDist),\n",
    "# show these words in decreasing order of frequency.\n",
    "\n",
    "[w for w in text5 if len(w) == 4]"
   ],
   "metadata": {
    "collapsed": false,
    "pycharm": {
     "name": "#%%\n"
    }
   }
  },
  {
   "cell_type": "code",
   "execution_count": 76,
   "outputs": [
    {
     "data": {
      "text/plain": "FreqDist({'JOIN': 1021, 'PART': 1016, 'that': 274, 'what': 183, 'here': 181, '....': 170, 'have': 164, 'like': 156, 'with': 152, 'chat': 142, ...})"
     },
     "execution_count": 76,
     "metadata": {},
     "output_type": "execute_result"
    }
   ],
   "source": [
    "FreqDist([w for w in text5 if len(w) == 4])"
   ],
   "metadata": {
    "collapsed": false,
    "pycharm": {
     "name": "#%%\n"
    }
   }
  },
  {
   "cell_type": "code",
   "execution_count": 77,
   "outputs": [
    {
     "name": "stdout",
     "output_type": "stream",
     "text": [
      "SCENE\n",
      " KING\n",
      " ARTHUR\n",
      " SOLDIER\n",
      " ARTHUR\n",
      " I\n",
      " SOLDIER\n",
      " ARTHUR\n",
      " I\n",
      " I\n",
      " SOLDIER\n",
      " ARTHUR\n",
      " SOLDIER\n",
      " ARTHUR\n",
      " SOLDIER\n",
      " ARTHUR\n",
      " SOLDIER\n",
      " ARTHUR\n",
      " SOLDIER\n",
      " ARTHUR\n",
      " SOLDIER\n",
      " ARTHUR\n",
      " SOLDIER\n",
      " ARTHUR\n",
      " SOLDIER\n",
      " A\n",
      " ARTHUR\n",
      " SOLDIER\n",
      " A\n",
      " ARTHUR\n",
      " SOLDIER\n",
      " ARTHUR\n",
      " SOLDIER\n",
      " I\n",
      " ARTHUR\n",
      " I\n",
      " SOLDIER\n",
      " SOLDIER\n",
      " SOLDIER\n",
      " I\n",
      " ARTHUR\n",
      " SOLDIER\n",
      " SOLDIER\n",
      " SOLDIER\n",
      " SOLDIER\n",
      " SOLDIER\n",
      " SOLDIER\n",
      " SOLDIER\n",
      " SOLDIER\n",
      " SCENE\n",
      " CART\n",
      " MASTER\n",
      " CUSTOMER\n",
      " CART\n",
      " MASTER\n",
      " DEAD\n",
      " PERSON\n",
      " I\n",
      " CART\n",
      " MASTER\n",
      " CUSTOMER\n",
      " DEAD\n",
      " PERSON\n",
      " I\n",
      " CART\n",
      " MASTER\n",
      " CUSTOMER\n",
      " DEAD\n",
      " PERSON\n",
      " I\n",
      " CART\n",
      " MASTER\n",
      " CUSTOMER\n",
      " DEAD\n",
      " PERSON\n",
      " I\n",
      " CUSTOMER\n",
      " CART\n",
      " MASTER\n",
      " I\n",
      " DEAD\n",
      " PERSON\n",
      " I\n",
      " CUSTOMER\n",
      " CART\n",
      " MASTER\n",
      " I\n",
      " DEAD\n",
      " PERSON\n",
      " I\n",
      " CUSTOMER\n",
      " CART\n",
      " MASTER\n",
      " I\n",
      " CUSTOMER\n",
      " CART\n",
      " MASTER\n",
      " I\n",
      " CUSTOMER\n",
      " CART\n",
      " MASTER\n",
      " DEAD\n",
      " PERSON\n",
      " I\n",
      " I\n",
      " CUSTOMER\n",
      " DEAD\n",
      " PERSON\n",
      " I\n",
      " I\n",
      " CUSTOMER\n",
      " CART\n",
      " MASTER\n",
      " CUSTOMER\n",
      " CART\n",
      " MASTER\n",
      " I\n",
      " CUSTOMER\n",
      " CART\n",
      " MASTER\n",
      " SCENE\n",
      " ARTHUR\n",
      " DENNIS\n",
      " ARTHUR\n",
      " DENNIS\n",
      " I\n",
      " ARTHUR\n",
      " I\n",
      " DENNIS\n",
      " I\n",
      " I\n",
      " ARTHUR\n",
      " I\n",
      " DENNIS\n",
      " ARTHUR\n",
      " I\n",
      " DENNIS\n",
      " ARTHUR\n",
      " I\n",
      " DENNIS\n",
      " I\n",
      " ARTHUR\n",
      " I\n",
      " DENNIS\n",
      " WOMAN\n",
      " ARTHUR\n",
      " I\n",
      " WOMAN\n",
      " ARTHUR\n",
      " WOMAN\n",
      " ARTHUR\n",
      " I\n",
      " WOMAN\n",
      " I\n",
      " I\n",
      " DENNIS\n",
      " A\n",
      " WOMAN\n",
      " DENNIS\n",
      " ARTHUR\n",
      " I\n",
      " WOMAN\n",
      " ARTHUR\n",
      " WOMAN\n",
      " ARTHUR\n",
      " DENNIS\n",
      " I\n",
      " ARTHUR\n",
      " DENNIS\n",
      " ARTHUR\n",
      " I\n",
      " DENNIS\n",
      " ARTHUR\n",
      " DENNIS\n",
      " ARTHUR\n",
      " I\n",
      " WOMAN\n",
      " ARTHUR\n",
      " I\n",
      " WOMAN\n",
      " I\n",
      " ARTHUR\n",
      " WOMAN\n",
      " ARTHUR\n",
      " I\n",
      " I\n",
      " DENNIS\n",
      " ARTHUR\n",
      " DENNIS\n",
      " ARTHUR\n",
      " DENNIS\n",
      " I\n",
      " I\n",
      " I\n",
      " ARTHUR\n",
      " DENNIS\n",
      " ARTHUR\n",
      " DENNIS\n",
      " I\n",
      " ARTHUR\n",
      " DENNIS\n",
      " I\n",
      " SCENE\n",
      " BLACK\n",
      " KNIGHT\n",
      " BLACK\n",
      " KNIGHT\n",
      " GREEN\n",
      " KNIGHT\n",
      " BLACK\n",
      " KNIGHT\n",
      " GREEN\n",
      " KNIGHT\n",
      " BLACK\n",
      " KNIGHT\n",
      " BLACK\n",
      " KNIGHT\n",
      " GREEN\n",
      " KNIGHT\n",
      " GREEN\n",
      " KNIGHT\n",
      " BLACK\n",
      " KNIGHT\n",
      " GREEN\n",
      " KNIGHT\n",
      " BLACK\n",
      " KNIGHT\n",
      " ARTHUR\n",
      " I\n",
      " I\n",
      " BLACK\n",
      " KNIGHT\n",
      " ARTHUR\n",
      " BLACK\n",
      " KNIGHT\n",
      " ARTHUR\n",
      " I\n",
      " I\n",
      " BLACK\n",
      " KNIGHT\n",
      " ARTHUR\n",
      " I\n",
      " BLACK\n",
      " KNIGHT\n",
      " I\n",
      " ARTHUR\n",
      " ARTHUR\n",
      " BLACK\n",
      " KNIGHT\n",
      " ARTHUR\n",
      " BLACK\n",
      " KNIGHT\n",
      " ARTHUR\n",
      " BLACK\n",
      " KNIGHT\n",
      " ARTHUR\n",
      " A\n",
      " BLACK\n",
      " KNIGHT\n",
      " ARTHUR\n",
      " BLACK\n",
      " KNIGHT\n",
      " I\n",
      " ARTHUR\n",
      " BLACK\n",
      " KNIGHT\n",
      " ARTHUR\n",
      " BLACK\n",
      " KNIGHT\n",
      " ARTHUR\n",
      " BLACK\n",
      " KNIGHT\n",
      " ARTHUR\n",
      " BLACK\n",
      " KNIGHT\n",
      " ARTHUR\n",
      " BLACK\n",
      " KNIGHT\n",
      " ARTHUR\n",
      " BLACK\n",
      " KNIGHT\n",
      " I\n",
      " ARTHUR\n",
      " BLACK\n",
      " KNIGHT\n",
      " ARTHUR\n",
      " BLACK\n",
      " KNIGHT\n",
      " ARTHUR\n",
      " I\n",
      " ARTHUR\n",
      " BLACK\n",
      " KNIGHT\n",
      " BLACK\n",
      " KNIGHT\n",
      " I\n",
      " ARTHUR\n",
      " BLACK\n",
      " KNIGHT\n",
      " ARTHUR\n",
      " BLACK\n",
      " KNIGHT\n",
      " I\n",
      " ARTHUR\n",
      " BLACK\n",
      " KNIGHT\n",
      " ARTHUR\n",
      " BLACK\n",
      " KNIGHT\n",
      " BLACK\n",
      " KNIGHT\n",
      " ARTHUR\n",
      " BLACK\n",
      " KNIGHT\n",
      " I\n",
      " I\n",
      " SCENE\n",
      " MONKS\n",
      " CROWD\n",
      " A\n",
      " A\n",
      " A\n",
      " A\n",
      " MONKS\n",
      " CROWD\n",
      " A\n",
      " A\n",
      " A\n",
      " A\n",
      " A\n",
      " A\n",
      " A\n",
      " A\n",
      " A\n",
      " A\n",
      " A\n",
      " A\n",
      " A\n",
      " VILLAGER\n",
      " CROWD\n",
      " BEDEVERE\n",
      " VILLAGER\n",
      " CROWD\n",
      " BEDEVERE\n",
      " WITCH\n",
      " I\n",
      " I\n",
      " BEDEVERE\n",
      " WITCH\n",
      " CROWD\n",
      " WITCH\n",
      " BEDEVERE\n",
      " VILLAGER\n",
      " BEDEVERE\n",
      " VILLAGER\n",
      " VILLAGER\n",
      " CROWD\n",
      " BEDEVERE\n",
      " VILLAGER\n",
      " VILLAGER\n",
      " VILLAGER\n",
      " VILLAGER\n",
      " VILLAGERS\n",
      " VILLAGER\n",
      " VILLAGER\n",
      " VILLAGER\n",
      " VILLAGER\n",
      " A\n",
      " VILLAGERS\n",
      " A\n",
      " VILLAGER\n",
      " A\n",
      " VILLAGER\n",
      " RANDOM\n",
      " BEDEVERE\n",
      " VILLAGER\n",
      " BEDEVERE\n",
      " A\n",
      " VILLAGER\n",
      " I\n",
      " VILLAGER\n",
      " VILLAGER\n",
      " CROWD\n",
      " BEDEVERE\n",
      " VILLAGER\n",
      " VILLAGER\n",
      " VILLAGER\n",
      " CROWD\n",
      " BEDEVERE\n",
      " VILLAGER\n",
      " VILLAGER\n",
      " CROWD\n",
      " BEDEVERE\n",
      " VILLAGER\n",
      " VILLAGER\n",
      " VILLAGER\n",
      " BEDEVERE\n",
      " VILLAGER\n",
      " B\n",
      " BEDEVERE\n",
      " CROWD\n",
      " BEDEVERE\n",
      " VILLAGER\n",
      " BEDEVERE\n",
      " VILLAGER\n",
      " RANDOM\n",
      " BEDEVERE\n",
      " VILLAGER\n",
      " VILLAGER\n",
      " VILLAGER\n",
      " CROWD\n",
      " BEDEVERE\n",
      " VILLAGER\n",
      " VILLAGER\n",
      " VILLAGER\n",
      " VILLAGER\n",
      " VILLAGER\n",
      " VILLAGER\n",
      " VILLAGER\n",
      " VILLAGER\n",
      " VILLAGER\n",
      " ARTHUR\n",
      " A\n",
      " CROWD\n",
      " BEDEVERE\n",
      " VILLAGER\n",
      " BEDEVERE\n",
      " VILLAGER\n",
      " A\n",
      " VILLAGER\n",
      " A\n",
      " CROWD\n",
      " A\n",
      " A\n",
      " VILLAGER\n",
      " BEDEVERE\n",
      " CROWD\n",
      " BEDEVERE\n",
      " CROWD\n",
      " A\n",
      " A\n",
      " A\n",
      " WITCH\n",
      " VILLAGER\n",
      " CROWD\n",
      " BEDEVERE\n",
      " ARTHUR\n",
      " I\n",
      " BEDEVERE\n",
      " ARTHUR\n",
      " BEDEVERE\n",
      " I\n",
      " ARTHUR\n",
      " BEDEVERE\n",
      " ARTHUR\n",
      " I\n",
      " NARRATOR\n",
      " SCENE\n",
      " SIR\n",
      " BEDEVERE\n",
      " ARTHUR\n",
      " BEDEVERE\n",
      " SIR\n",
      " LAUNCELOT\n",
      " ARTHUR\n",
      " SIR\n",
      " GALAHAD\n",
      " LAUNCELOT\n",
      " PATSY\n",
      " ARTHUR\n",
      " I\n",
      " KNIGHTS\n",
      " PRISONER\n",
      " KNIGHTS\n",
      " MAN\n",
      " I\n",
      " ARTHUR\n",
      " KNIGHTS\n",
      " SCENE\n",
      " GOD\n",
      " I\n",
      " ARTHUR\n",
      " GOD\n",
      " I\n",
      " I\n",
      " ARTHUR\n",
      " I\n",
      " O\n",
      " GOD\n",
      " ARTHUR\n",
      " GOD\n",
      " ARTHUR\n",
      " O\n",
      " GOD\n",
      " LAUNCELOT\n",
      " A\n",
      " A\n",
      " GALAHAD\n",
      " SCENE\n",
      " ARTHUR\n",
      " FRENCH\n",
      " GUARD\n",
      " ARTHUR\n",
      " FRENCH\n",
      " GUARD\n",
      " ARTHUR\n",
      " FRENCH\n",
      " GUARD\n",
      " I\n",
      " I\n",
      " ARTHUR\n",
      " GALAHAD\n",
      " ARTHUR\n",
      " FRENCH\n",
      " GUARD\n",
      " I\n",
      " ARTHUR\n",
      " FRENCH\n",
      " GUARD\n",
      " ARTHUR\n",
      " FRENCH\n",
      " GUARD\n",
      " I\n",
      " I\n",
      " GALAHAD\n",
      " FRENCH\n",
      " GUARD\n",
      " ARTHUR\n",
      " FRENCH\n",
      " GUARD\n",
      " I\n",
      " GALAHAD\n",
      " ARTHUR\n",
      " FRENCH\n",
      " GUARD\n",
      " I\n",
      " I\n",
      " GALAHAD\n",
      " FRENCH\n",
      " GUARD\n",
      " I\n",
      " ARTHUR\n",
      " I\n",
      " FRENCH\n",
      " GUARD\n",
      " OTHER\n",
      " FRENCH\n",
      " GUARD\n",
      " FRENCH\n",
      " GUARD\n",
      " ARTHUR\n",
      " I\n",
      " KNIGHTS\n",
      " ARTHUR\n",
      " KNIGHTS\n",
      " FRENCH\n",
      " GUARD\n",
      " FRENCH\n",
      " GUARD\n",
      " ARTHUR\n",
      " KNIGHTS\n",
      " FRENCH\n",
      " GUARD\n",
      " FRENCH\n",
      " GUARDS\n",
      " LAUNCELOT\n",
      " I\n",
      " ARTHUR\n",
      " BEDEVERE\n",
      " I\n",
      " FRENCH\n",
      " GUARDS\n",
      " C\n",
      " A\n",
      " ARTHUR\n",
      " BEDEVERE\n",
      " I\n",
      " ARTHUR\n",
      " BEDEVERE\n",
      " U\n",
      " I\n",
      " ARTHUR\n",
      " BEDEVERE\n",
      " ARTHUR\n",
      " KNIGHTS\n",
      " CRASH\n",
      " FRENCH\n",
      " GUARDS\n",
      " SCENE\n",
      " VOICE\n",
      " DIRECTOR\n",
      " HISTORIAN\n",
      " KNIGHT\n",
      " KNIGHT\n",
      " HISTORIAN\n",
      " HISTORIAN\n",
      " S\n",
      " WIFE\n",
      " SCENE\n",
      " NARRATOR\n",
      " MINSTREL\n",
      " O\n",
      " SIR\n",
      " ROBIN\n",
      " DENNIS\n",
      " WOMAN\n",
      " ALL\n",
      " HEADS\n",
      " MINSTREL\n",
      " ROBIN\n",
      " I\n",
      " ALL\n",
      " HEADS\n",
      " MINSTREL\n",
      " ROBIN\n",
      " I\n",
      " ALL\n",
      " HEADS\n",
      " I\n",
      " ROBIN\n",
      " W\n",
      " I\n",
      " I\n",
      " ALL\n",
      " HEADS\n",
      " ROBIN\n",
      " I\n",
      " LEFT\n",
      " HEAD\n",
      " I\n",
      " MIDDLE\n",
      " HEAD\n",
      " I\n",
      " RIGHT\n",
      " HEAD\n",
      " I\n",
      " MIDDLE\n",
      " HEAD\n",
      " I\n",
      " LEFT\n",
      " HEAD\n",
      " I\n",
      " RIGHT\n",
      " HEAD\n",
      " LEFT\n",
      " HEAD\n",
      " ROBIN\n",
      " I\n",
      " LEFT\n",
      " HEAD\n",
      " I\n",
      " RIGHT\n",
      " HEAD\n",
      " MIDDLE\n",
      " HEAD\n",
      " LEFT\n",
      " HEAD\n",
      " RIGHT\n",
      " HEAD\n",
      " MIDDLE\n",
      " HEAD\n",
      " LEFT\n",
      " HEAD\n",
      " MIDDLE\n",
      " HEAD\n",
      " LEFT\n",
      " HEAD\n",
      " I\n",
      " MIDDLE\n",
      " HEAD\n",
      " RIGHT\n",
      " HEAD\n",
      " LEFT\n",
      " HEAD\n",
      " MIDDLE\n",
      " HEAD\n",
      " RIGHT\n",
      " HEAD\n",
      " LEFT\n",
      " HEAD\n",
      " ALL\n",
      " HEADS\n",
      " MIDDLE\n",
      " HEAD\n",
      " RIGHT\n",
      " HEAD\n",
      " MINSTREL\n",
      " ROBIN\n",
      " MINSTREL\n",
      " ROBIN\n",
      " I\n",
      " MINSTREL\n",
      " ROBIN\n",
      " MINSTREL\n",
      " ROBIN\n",
      " I\n",
      " MINSTREL\n",
      " ROBIN\n",
      " I\n",
      " MINSTREL\n",
      " ROBIN\n",
      " MINSTREL\n",
      " ROBIN\n",
      " I\n",
      " CARTOON\n",
      " MONKS\n",
      " CARTOON\n",
      " CHARACTER\n",
      " CARTOON\n",
      " MONKS\n",
      " CARTOON\n",
      " CHARACTERS\n",
      " CARTOON\n",
      " MONKS\n",
      " CARTOON\n",
      " CHARACTER\n",
      " VOICE\n",
      " CARTOON\n",
      " CHARACTER\n",
      " SCENE\n",
      " NARRATOR\n",
      " GALAHAD\n",
      " GIRLS\n",
      " ZOOT\n",
      " GALAHAD\n",
      " ZOOT\n",
      " GALAHAD\n",
      " ZOOT\n",
      " GALAHAD\n",
      " ZOOT\n",
      " MIDGET\n",
      " CRAPPER\n",
      " O\n",
      " ZOOT\n",
      " MIDGET\n",
      " CRAPPER\n",
      " ZOOT\n",
      " GALAHAD\n",
      " I\n",
      " I\n",
      " ZOOT\n",
      " GALAHAD\n",
      " ZOOT\n",
      " GALAHAD\n",
      " ZOOT\n",
      " GALAHAD\n",
      " I\n",
      " ZOOT\n",
      " GALAHAD\n",
      " I\n",
      " I\n",
      " ZOOT\n",
      " I\n",
      " GALAHAD\n",
      " ZOOT\n",
      " PIGLET\n",
      " GALAHAD\n",
      " ZOOT\n",
      " GALAHAD\n",
      " B\n",
      " ZOOT\n",
      " WINSTON\n",
      " GALAHAD\n",
      " PIGLET\n",
      " GALAHAD\n",
      " PIGLET\n",
      " GALAHAD\n",
      " I\n",
      " PIGLET\n",
      " GALAHAD\n",
      " I\n",
      " PIGLET\n",
      " GALAHAD\n",
      " I\n",
      " I\n",
      " I\n",
      " GIRLS\n",
      " GALAHAD\n",
      " GIRLS\n",
      " GALAHAD\n",
      " DINGO\n",
      " I\n",
      " GALAHAD\n",
      " I\n",
      " DINGO\n",
      " GALAHAD\n",
      " I\n",
      " I\n",
      " DINGO\n",
      " GALAHAD\n",
      " DINGO\n",
      " I\n",
      " GALAHAD\n",
      " DINGO\n",
      " I\n",
      " LEFT\n",
      " HEAD\n",
      " DENNIS\n",
      " OLD\n",
      " MAN\n",
      " TIM\n",
      " THE\n",
      " ENCHANTER\n",
      " ARMY\n",
      " OF\n",
      " KNIGHTS\n",
      " DINGO\n",
      " I\n",
      " GOD\n",
      " DINGO\n",
      " GIRLS\n",
      " A\n",
      " A\n",
      " DINGO\n",
      " AMAZING\n",
      " STUNNER\n",
      " LOVELY\n",
      " DINGO\n",
      " GIRLS\n",
      " A\n",
      " A\n",
      " DINGO\n",
      " GIRLS\n",
      " GALAHAD\n",
      " I\n",
      " LAUNCELOT\n",
      " GALAHAD\n",
      " LAUNCELOT\n",
      " GALAHAD\n",
      " LAUNCELOT\n",
      " GALAHAD\n",
      " LAUNCELOT\n",
      " DINGO\n",
      " LAUNCELOT\n",
      " GALAHAD\n",
      " LAUNCELOT\n",
      " GALAHAD\n",
      " I\n",
      " LAUNCELOT\n",
      " GIRLS\n",
      " GALAHAD\n",
      " I\n",
      " DINGO\n",
      " GIRLS\n",
      " LAUNCELOT\n",
      " GALAHAD\n",
      " I\n",
      " I\n",
      " DINGO\n",
      " GIRLS\n",
      " LAUNCELOT\n",
      " GALAHAD\n",
      " I\n",
      " DINGO\n",
      " GIRLS\n",
      " DINGO\n",
      " LAUNCELOT\n",
      " GALAHAD\n",
      " I\n",
      " I\n",
      " LAUNCELOT\n",
      " GALAHAD\n",
      " LAUNCELOT\n",
      " GALAHAD\n",
      " I\n",
      " LAUNCELOT\n",
      " GALAHAD\n",
      " LAUNCELOT\n",
      " GALAHAD\n",
      " I\n",
      " LAUNCELOT\n",
      " I\n",
      " NARRATOR\n",
      " I\n",
      " I\n",
      " CROWD\n",
      " NARRATOR\n",
      " I\n",
      " SCENE\n",
      " OLD\n",
      " MAN\n",
      " ARTHUR\n",
      " OLD\n",
      " MAN\n",
      " ARTHUR\n",
      " OLD\n",
      " MAN\n",
      " ARTHUR\n",
      " OLD\n",
      " MAN\n",
      " ARTHUR\n",
      " OLD\n",
      " MAN\n",
      " ARTHUR\n",
      " OLD\n",
      " MAN\n",
      " ARTHUR\n",
      " OLD\n",
      " MAN\n",
      " SCENE\n",
      " HEAD\n",
      " KNIGHT\n",
      " OF\n",
      " NI\n",
      " KNIGHTS\n",
      " OF\n",
      " NI\n",
      " ARTHUR\n",
      " HEAD\n",
      " KNIGHT\n",
      " RANDOM\n",
      " ARTHUR\n",
      " HEAD\n",
      " KNIGHT\n",
      " BEDEVERE\n",
      " HEAD\n",
      " KNIGHT\n",
      " RANDOM\n",
      " ARTHUR\n",
      " HEAD\n",
      " KNIGHT\n",
      " ARTHUR\n",
      " HEAD\n",
      " KNIGHT\n",
      " KNIGHTS\n",
      " OF\n",
      " NI\n",
      " ARTHUR\n",
      " HEAD\n",
      " KNIGHT\n",
      " ARTHUR\n",
      " HEAD\n",
      " KNIGHT\n",
      " ARTHUR\n",
      " A\n",
      " KNIGHTS\n",
      " OF\n",
      " NI\n",
      " ARTHUR\n",
      " PARTY\n",
      " ARTHUR\n",
      " HEAD\n",
      " KNIGHT\n",
      " ARTHUR\n",
      " O\n",
      " HEAD\n",
      " KNIGHT\n",
      " ARTHUR\n",
      " HEAD\n",
      " KNIGHT\n",
      " ARTHUR\n",
      " HEAD\n",
      " KNIGHT\n",
      " CARTOON\n",
      " CHARACTER\n",
      " SUN\n",
      " CARTOON\n",
      " CHARACTER\n",
      " SUN\n",
      " CARTOON\n",
      " CHARACTER\n",
      " SUN\n",
      " CARTOON\n",
      " CHARACTER\n",
      " SCENE\n",
      " NARRATOR\n",
      " FATHER\n",
      " PRINCE\n",
      " HERBERT\n",
      " FATHER\n",
      " HERBERT\n",
      " FATHER\n",
      " HERBERT\n",
      " B\n",
      " I\n",
      " FATHER\n",
      " I\n",
      " I\n",
      " I\n",
      " I\n",
      " I\n",
      " I\n",
      " HERBERT\n",
      " I\n",
      " I\n",
      " FATHER\n",
      " HERBERT\n",
      " I\n",
      " FATHER\n",
      " I\n",
      " HERBERT\n",
      " B\n",
      " I\n",
      " FATHER\n",
      " HERBERT\n",
      " FATHER\n",
      " HERBERT\n",
      " I\n",
      " FATHER\n",
      " HERBERT\n",
      " I\n",
      " I\n",
      " I\n",
      " FATHER\n",
      " I\n",
      " GUARD\n",
      " GUARD\n",
      " FATHER\n",
      " I\n",
      " GUARD\n",
      " FATHER\n",
      " GUARD\n",
      " GUARD\n",
      " FATHER\n",
      " GUARD\n",
      " FATHER\n",
      " GUARD\n",
      " FATHER\n",
      " GUARD\n",
      " GUARD\n",
      " FATHER\n",
      " GUARD\n",
      " FATHER\n",
      " GUARD\n",
      " FATHER\n",
      " GUARD\n",
      " FATHER\n",
      " GUARD\n",
      " FATHER\n",
      " GUARD\n",
      " I\n",
      " FATHER\n",
      " N\n",
      " GUARD\n",
      " FATHER\n",
      " GUARD\n",
      " FATHER\n",
      " GUARD\n",
      " GUARD\n",
      " FATHER\n",
      " GUARD\n",
      " FATHER\n",
      " GUARD\n",
      " GUARD\n",
      " FATHER\n",
      " GUARD\n",
      " FATHER\n",
      " GUARD\n",
      " FATHER\n",
      " GUARD\n",
      " GUARD\n",
      " GUARD\n",
      " I\n",
      " FATHER\n",
      " GUARD\n",
      " GUARD\n",
      " FATHER\n",
      " GUARD\n",
      " FATHER\n",
      " I\n",
      " GUARD\n",
      " I\n",
      " HERBERT\n",
      " FATHER\n",
      " GUARD\n",
      " FATHER\n",
      " SCENE\n",
      " LAUNCELOT\n",
      " CONCORDE\n",
      " LAUNCELOT\n",
      " CONCORDE\n",
      " LAUNCELOT\n",
      " I\n",
      " I\n",
      " A\n",
      " A\n",
      " CONCORDE\n",
      " I\n",
      " I\n",
      " LAUNCELOT\n",
      " CONCORDE\n",
      " I\n",
      " I\n",
      " I\n",
      " I\n",
      " I\n",
      " LAUNCELOT\n",
      " I\n",
      " CONCORDE\n",
      " I\n",
      " I\n",
      " LAUNCELOT\n",
      " I\n",
      " I\n",
      " CONCORDE\n",
      " LAUNCELOT\n",
      " CONCORDE\n",
      " I\n",
      " LAUNCELOT\n",
      " CONCORDE\n",
      " I\n",
      " I\n",
      " I\n",
      " SCENE\n",
      " PRINCESS\n",
      " LUCKY\n",
      " GIRLS\n",
      " GUEST\n",
      " SENTRY\n",
      " SENTRY\n",
      " SENTRY\n",
      " LAUNCELOT\n",
      " SENTRY\n",
      " LAUNCELOT\n",
      " PRINCESS\n",
      " LUCKY\n",
      " GIRLS\n",
      " LAUNCELOT\n",
      " GUESTS\n",
      " LAUNCELOT\n",
      " GUARD\n",
      " LAUNCELOT\n",
      " O\n",
      " I\n",
      " I\n",
      " HERBERT\n",
      " LAUNCELOT\n",
      " I\n",
      " I\n",
      " HERBERT\n",
      " LAUNCELOT\n",
      " I\n",
      " HERBERT\n",
      " I\n",
      " I\n",
      " LAUNCELOT\n",
      " I\n",
      " HERBERT\n",
      " FATHER\n",
      " HERBERT\n",
      " I\n",
      " FATHER\n",
      " LAUNCELOT\n",
      " I\n",
      " HERBERT\n",
      " LAUNCELOT\n",
      " FATHER\n",
      " LAUNCELOT\n",
      " FATHER\n",
      " LAUNCELOT\n",
      " I\n",
      " I\n",
      " HERBERT\n",
      " I\n",
      " FATHER\n",
      " LAUNCELOT\n",
      " I\n",
      " FATHER\n",
      " I\n",
      " HERBERT\n",
      " FATHER\n",
      " LAUNCELOT\n",
      " I\n",
      " FATHER\n",
      " LAUNCELOT\n",
      " FATHER\n",
      " LAUNCELOT\n",
      " I\n",
      " I\n",
      " I\n",
      " FATHER\n",
      " HERBERT\n",
      " LAUNCELOT\n",
      " I\n",
      " FATHER\n",
      " LAUNCELOT\n",
      " HERBERT\n",
      " I\n",
      " FATHER\n",
      " LAUNCELOT\n",
      " HERBERT\n",
      " I\n",
      " LAUNCELOT\n",
      " I\n",
      " HERBERT\n",
      " LAUNCELOT\n",
      " I\n",
      " I\n",
      " I\n",
      " FATHER\n",
      " HERBERT\n",
      " SCENE\n",
      " GUESTS\n",
      " FATHER\n",
      " GUEST\n",
      " FATHER\n",
      " LAUNCELOT\n",
      " FATHER\n",
      " LAUNCELOT\n",
      " I\n",
      " I\n",
      " I\n",
      " GUEST\n",
      " GUESTS\n",
      " FATHER\n",
      " LAUNCELOT\n",
      " GUEST\n",
      " GUESTS\n",
      " FATHER\n",
      " GUESTS\n",
      " FATHER\n",
      " I\n",
      " I\n",
      " GUEST\n",
      " FATHER\n",
      " GUEST\n",
      " FATHER\n",
      " BRIDE\n",
      " S\n",
      " FATHER\n",
      " GUEST\n",
      " FATHER\n",
      " I\n",
      " I\n",
      " LAUNCELOT\n",
      " GUEST\n",
      " GUESTS\n",
      " CONCORDE\n",
      " HERBERT\n",
      " I\n",
      " FATHER\n",
      " HERBERT\n",
      " I\n",
      " FATHER\n",
      " HERBERT\n",
      " I\n",
      " FATHER\n",
      " GUESTS\n",
      " FATHER\n",
      " GUESTS\n",
      " FATHER\n",
      " GUESTS\n",
      " FATHER\n",
      " GUESTS\n",
      " FATHER\n",
      " GUESTS\n",
      " CONCORDE\n",
      " GUESTS\n",
      " CONCORDE\n",
      " GUESTS\n",
      " LAUNCELOT\n",
      " GUESTS\n",
      " LAUNCELOT\n",
      " I\n",
      " GUESTS\n",
      " CONCORDE\n",
      " LAUNCELOT\n",
      " GUESTS\n",
      " LAUNCELOT\n",
      " GUESTS\n",
      " LAUNCELOT\n",
      " SCENE\n",
      " ARTHUR\n",
      " OLD\n",
      " CRONE\n",
      " ARTHUR\n",
      " CRONE\n",
      " ARTHUR\n",
      " I\n",
      " CRONE\n",
      " ARTHUR\n",
      " CRONE\n",
      " ARTHUR\n",
      " CRONE\n",
      " BEDEVERE\n",
      " ARTHUR\n",
      " BEDEVERE\n",
      " ARTHUR\n",
      " BEDEVERE\n",
      " ARTHUR\n",
      " BEDEVERE\n",
      " ARTHUR\n",
      " BEDEVERE\n",
      " ARTHUR\n",
      " ARTHUR\n",
      " BEDEVERE\n",
      " CRONE\n",
      " BEDEVERE\n",
      " ARTHUR\n",
      " CRONE\n",
      " BEDEVERE\n",
      " ARTHUR\n",
      " BEDEVERE\n",
      " ARTHUR\n",
      " BEDEVERE\n",
      " ROGER\n",
      " THE\n",
      " SHRUBBER\n",
      " ARTHUR\n",
      " ROGER\n",
      " ARTHUR\n",
      " ROGER\n",
      " I\n",
      " I\n",
      " BEDEVERE\n",
      " ARTHUR\n",
      " SCENE\n",
      " ARTHUR\n",
      " O\n",
      " HEAD\n",
      " KNIGHT\n",
      " I\n",
      " ARTHUR\n",
      " HEAD\n",
      " KNIGHT\n",
      " KNIGHTS\n",
      " OF\n",
      " NI\n",
      " HEAD\n",
      " KNIGHT\n",
      " RANDOM\n",
      " HEAD\n",
      " KNIGHT\n",
      " ARTHUR\n",
      " O\n",
      " HEAD\n",
      " KNIGHT\n",
      " ARTHUR\n",
      " RANDOM\n",
      " HEAD\n",
      " KNIGHT\n",
      " KNIGHTS\n",
      " OF\n",
      " NI\n",
      " A\n",
      " A\n",
      " A\n",
      " HEAD\n",
      " KNIGHT\n",
      " ARTHUR\n",
      " HEAD\n",
      " KNIGHT\n",
      " ARTHUR\n",
      " KNIGHTS\n",
      " OF\n",
      " NI\n",
      " HEAD\n",
      " KNIGHT\n",
      " ARTHUR\n",
      " HEAD\n",
      " KNIGHT\n",
      " I\n",
      " ARTHUR\n",
      " KNIGHTS\n",
      " OF\n",
      " NI\n",
      " HEAD\n",
      " KNIGHT\n",
      " ARTHUR\n",
      " KNIGHTS\n",
      " OF\n",
      " NI\n",
      " HEAD\n",
      " KNIGHT\n",
      " KNIGHTS\n",
      " OF\n",
      " NI\n",
      " BEDEVERE\n",
      " MINSTREL\n",
      " ARTHUR\n",
      " ROBIN\n",
      " HEAD\n",
      " KNIGHT\n",
      " ARTHUR\n",
      " MINSTREL\n",
      " ROBIN\n",
      " HEAD\n",
      " KNIGHT\n",
      " KNIGHTS\n",
      " OF\n",
      " NI\n",
      " ROBIN\n",
      " I\n",
      " KNIGHTS\n",
      " OF\n",
      " NI\n",
      " ROBIN\n",
      " ARTHUR\n",
      " KNIGHTS\n",
      " OF\n",
      " NI\n",
      " HEAD\n",
      " KNIGHT\n",
      " ARTHUR\n",
      " KNIGHTS\n",
      " OF\n",
      " NI\n",
      " HEAD\n",
      " KNIGHT\n",
      " ARTHUR\n",
      " HEAD\n",
      " KNIGHT\n",
      " I\n",
      " I\n",
      " I\n",
      " KNIGHTS\n",
      " OF\n",
      " NI\n",
      " NARRATOR\n",
      " KNIGHTS\n",
      " NARRATOR\n",
      " MINSTREL\n",
      " NARRATOR\n",
      " KNIGHTS\n",
      " NARRATOR\n",
      " A\n",
      " CARTOON\n",
      " CHARACTER\n",
      " NARRATOR\n",
      " CARTOON\n",
      " CHARACTER\n",
      " NARRATOR\n",
      " CARTOON\n",
      " CHARACTER\n",
      " NARRATOR\n",
      " CARTOON\n",
      " CHARACTER\n",
      " NARRATOR\n",
      " CARTOON\n",
      " CHARACTER\n",
      " NARRATOR\n",
      " SCENE\n",
      " KNIGHTS\n",
      " ARTHUR\n",
      " TIM\n",
      " THE\n",
      " ENCHANTER\n",
      " I\n",
      " ARTHUR\n",
      " TIM\n",
      " ARTHUR\n",
      " TIM\n",
      " ARTHUR\n",
      " TIM\n",
      " I\n",
      " ARTHUR\n",
      " O\n",
      " TIM\n",
      " ROBIN\n",
      " ARTHUR\n",
      " KNIGHTS\n",
      " ARTHUR\n",
      " BEDEVERE\n",
      " GALAHAD\n",
      " ROBIN\n",
      " BEDEVERE\n",
      " ROBIN\n",
      " BEDEVERE\n",
      " ARTHUR\n",
      " GALAHAD\n",
      " ARTHUR\n",
      " I\n",
      " I\n",
      " TIM\n",
      " A\n",
      " ARTHUR\n",
      " A\n",
      " TIM\n",
      " A\n",
      " ARTHUR\n",
      " I\n",
      " ROBIN\n",
      " Y\n",
      " ARTHUR\n",
      " GALAHAD\n",
      " KNIGHTS\n",
      " TIM\n",
      " ROBIN\n",
      " ARTHUR\n",
      " ROBIN\n",
      " GALAHAD\n",
      " ARTHUR\n",
      " ROBIN\n",
      " KNIGHTS\n",
      " ARTHUR\n",
      " TIM\n",
      " I\n",
      " KNIGHTS\n",
      " TIM\n",
      " ARTHUR\n",
      " O\n",
      " TIM\n",
      " ARTHUR\n",
      " SCENE\n",
      " GALAHAD\n",
      " ARTHUR\n",
      " TIM\n",
      " ARTHUR\n",
      " GALAHAD\n",
      " ARTHUR\n",
      " W\n",
      " TIM\n",
      " ARTHUR\n",
      " TIM\n",
      " ARTHUR\n",
      " TIM\n",
      " ARTHUR\n",
      " TIM\n",
      " ARTHUR\n",
      " TIM\n",
      " ARTHUR\n",
      " TIM\n",
      " ARTHUR\n",
      " TIM\n",
      " ROBIN\n",
      " I\n",
      " I\n",
      " TIM\n",
      " GALAHAD\n",
      " TIM\n",
      " GALAHAD\n",
      " ROBIN\n",
      " TIM\n",
      " I\n",
      " ROBIN\n",
      " TIM\n",
      " ARTHUR\n",
      " BORS\n",
      " TIM\n",
      " BORS\n",
      " ARTHUR\n",
      " TIM\n",
      " I\n",
      " ROBIN\n",
      " I\n",
      " TIM\n",
      " I\n",
      " I\n",
      " ARTHUR\n",
      " TIM\n",
      " ARTHUR\n",
      " TIM\n",
      " KNIGHTS\n",
      " KNIGHTS\n",
      " ARTHUR\n",
      " KNIGHTS\n",
      " TIM\n",
      " ARTHUR\n",
      " LAUNCELOT\n",
      " GALAHAD\n",
      " ARTHUR\n",
      " GALAHAD\n",
      " ARTHUR\n",
      " ROBIN\n",
      " ARTHUR\n",
      " GALAHAD\n",
      " ARTHUR\n",
      " GALAHAD\n",
      " LAUNCELOT\n",
      " ARTHUR\n",
      " LAUNCELOT\n",
      " ARTHUR\n",
      " MONKS\n",
      " ARTHUR\n",
      " LAUNCELOT\n",
      " I\n",
      " ARTHUR\n",
      " BROTHER\n",
      " MAYNARD\n",
      " SECOND\n",
      " BROTHER\n",
      " O\n",
      " MAYNARD\n",
      " SECOND\n",
      " BROTHER\n",
      " MAYNARD\n",
      " KNIGHTS\n",
      " ARTHUR\n",
      " GALAHAD\n",
      " ARTHUR\n",
      " SCENE\n",
      " ARTHUR\n",
      " LAUNCELOT\n",
      " GALAHAD\n",
      " ARTHUR\n",
      " MAYNARD\n",
      " GALAHAD\n",
      " LAUNCELOT\n",
      " ARTHUR\n",
      " MAYNARD\n",
      " ARTHUR\n",
      " MAYNARD\n",
      " BEDEVERE\n",
      " MAYNARD\n",
      " LAUNCELOT\n",
      " MAYNARD\n",
      " ARTHUR\n",
      " MAYNARD\n",
      " GALAHAD\n",
      " ARTHUR\n",
      " MAYNARD\n",
      " LAUNCELOT\n",
      " ARTHUR\n",
      " BEDEVERE\n",
      " GALAHAD\n",
      " BEDEVERE\n",
      " I\n",
      " LAUNCELOT\n",
      " ARTHUR\n",
      " LAUNCELOT\n",
      " KNIGHTS\n",
      " BEDEVERE\n",
      " LAUNCELOT\n",
      " BEDEVERE\n",
      " N\n",
      " LAUNCELOT\n",
      " BEDEVERE\n",
      " I\n",
      " ARTHUR\n",
      " GALAHAD\n",
      " MAYNARD\n",
      " BROTHER\n",
      " MAYNARD\n",
      " BEDEVERE\n",
      " ARTHUR\n",
      " KNIGHTS\n",
      " BEDEVERE\n",
      " KNIGHTS\n",
      " NARRATOR\n",
      " ANIMATOR\n",
      " NARRATOR\n",
      " SCENE\n",
      " GALAHAD\n",
      " ARTHUR\n",
      " ROBIN\n",
      " ARTHUR\n",
      " BEDEVERE\n",
      " ARTHUR\n",
      " GALAHAD\n",
      " ARTHUR\n",
      " GALAHAD\n",
      " ARTHUR\n",
      " ROBIN\n",
      " ARTHUR\n",
      " ROBIN\n",
      " I\n",
      " GALAHAD\n",
      " ARTHUR\n",
      " ROBIN\n",
      " ARTHUR\n",
      " ROBIN\n",
      " I\n",
      " LAUNCELOT\n",
      " I\n",
      " I\n",
      " ARTHUR\n",
      " GALAHAD\n",
      " ARTHUR\n",
      " LAUNCELOT\n",
      " I\n",
      " ARTHUR\n",
      " BRIDGEKEEPER\n",
      " LAUNCELOT\n",
      " I\n",
      " BRIDGEKEEPER\n",
      " LAUNCELOT\n",
      " BRIDGEKEEPER\n",
      " LAUNCELOT\n",
      " BRIDGEKEEPER\n",
      " LAUNCELOT\n",
      " BRIDGEKEEPER\n",
      " LAUNCELOT\n",
      " ROBIN\n",
      " BRIDGEKEEPER\n",
      " ROBIN\n",
      " I\n",
      " BRIDGEKEEPER\n",
      " ROBIN\n",
      " BRIDGEKEEPER\n",
      " ROBIN\n",
      " BRIDGEKEEPER\n",
      " ROBIN\n",
      " I\n",
      " BRIDGEKEEPER\n",
      " GALAHAD\n",
      " BRIDGEKEEPER\n",
      " GALAHAD\n",
      " I\n",
      " BRIDGEKEEPER\n",
      " GALAHAD\n",
      " BRIDGEKEEPER\n",
      " ARTHUR\n",
      " BRIDGEKEEPER\n",
      " ARTHUR\n",
      " BRIDGEKEEPER\n",
      " ARTHUR\n",
      " BRIDGEKEEPER\n",
      " I\n",
      " I\n",
      " BEDEVERE\n",
      " ARTHUR\n",
      " SCENE\n",
      " ARTHUR\n",
      " BEDEVERE\n",
      " ARTHUR\n",
      " BEDEVERE\n",
      " ARTHUR\n",
      " FRENCH\n",
      " GUARD\n",
      " ARTHUR\n",
      " I\n",
      " FRENCH\n",
      " GUARD\n",
      " I\n",
      " I\n",
      " ARTHUR\n",
      " FRENCH\n",
      " GUARD\n",
      " I\n",
      " ARTHUR\n",
      " FRENCH\n",
      " GUARDS\n",
      " ARTHUR\n",
      " FRENCH\n",
      " GUARD\n",
      " ARTHUR\n",
      " FRENCH\n",
      " GUARD\n",
      " FRENCH\n",
      " GUARDS\n",
      " ARTHUR\n",
      " BEDEVERE\n",
      " ARTHUR\n",
      " FRENCH\n",
      " GUARDS\n",
      " ARTHUR\n",
      " FRENCH\n",
      " GUARDS\n",
      " ARTHUR\n",
      " FRENCH\n",
      " GUARDS\n",
      " ARTHUR\n",
      " ARMY\n",
      " OF\n",
      " KNIGHTS\n",
      " HISTORIAN\n",
      " S\n",
      " WIFE\n",
      " I\n",
      " INSPECTOR\n",
      " OFFICER\n",
      " HISTORIAN\n",
      " S\n",
      " WIFE\n",
      " OFFICER\n",
      " INSPECTOR\n",
      " OFFICER\n",
      " BEDEVERE\n",
      " INSPECTOR\n",
      " OFFICER\n",
      " INSPECTOR\n",
      " OFFICER\n",
      " OFFICER\n",
      " RANDOM\n",
      " RANDOM\n",
      " OFFICER\n",
      " OFFICER\n",
      " OFFICER\n",
      " OFFICER\n",
      " INSPECTOR\n",
      " OFFICER\n",
      " CAMERAMAN\n",
      " "
     ]
    }
   ],
   "source": [
    "# Exercise: 1-23\n",
    "# Review the discussion of looping with conditions in Back to Python: Making Decisions and Taking Control. Use a\n",
    "# combination of for and if statements to loop over the words of the movie script for Monty Python and the Holy Grail\n",
    "# (text6) and print all the uppercase words, one per line.\n",
    "\n",
    "for w in text6:\n",
    "    if w.isupper():\n",
    "        print(w, end = '\\n ')"
   ],
   "metadata": {
    "collapsed": false,
    "pycharm": {
     "name": "#%%\n"
    }
   }
  },
  {
   "cell_type": "code",
   "execution_count": 78,
   "outputs": [
    {
     "name": "stdout",
     "output_type": "stream",
     "text": [
      "['A', 'AMAZING', 'Aaaaaaaaah', 'Aaaaaaaah', 'Aaaaaah', 'Aaaah', 'Aaaaugh', 'Aaagh', 'Aaah', 'Aaauggh', 'Aaaugh', 'Aaauugh', 'Aagh', 'Aah', 'Aauuggghhh', 'Aauuugh', 'Aauuuuugh', 'Aauuuves', 'Action', 'Actually', 'African', 'Ages', 'Aggh', 'Agh', 'Ah', 'Ahh', 'Alice', 'All', 'Allo', 'Almighty', 'Alright', 'Am', 'Amen', 'An', 'Anarcho', 'And', 'Angnor', 'Anthrax', 'Antioch', 'Anybody', 'Anyway', 'Apples', 'Aramaic', 'Are', 'Arimathea', 'Armaments', 'Arthur', 'As', 'Ask', 'Assyria', 'At', 'Attila', 'Augh', 'Autumn', 'Auuuuuuuugh', 'Away', 'Ay', 'Ayy', 'B', 'Back', 'Bad', 'Badon', 'Battle', 'Be', 'Beast', 'Bedevere', 'Bedwere', 'Behold', 'Between', 'Beyond', 'Black', 'Bloody', 'Blue', 'Bon', 'Bones', 'Book', 'Bors', 'Brave', 'Bravely', 'Bravest', 'Bread', 'Bridge', 'Bring', 'Bristol', 'Britain', 'Britons', 'Brother', 'Build', 'Burn', 'But', 'By', 'C', 'Caerbannog', 'Camaaaaaargue', 'Camelot', 'Castle', 'Chapter', 'Charge', 'Chaste', 'Cherries', 'Chicken', 'Chickennn', 'Chop', 'Christ', 'Churches', 'Cider', 'Clark', 'Clear', 'Come', 'Concorde', 'Consult', 'Cornwall', 'Could', 'Course', 'Court', 'Crapper', 'Cut', 'Dappy', 'Death', 'Defeat', 'Dennis', 'Did', 'Didn', 'Dingo', 'Dis', 'Divine', 'Do', 'Doctor', 'Does', 'Don', 'Dragon', 'Dramatically', 'Ecky', 'Ector', 'Eee', 'Eh', 'Enchanter', 'England', 'English', 'Erbert', 'Ere', 'Erm', 'Eternal', 'European', 'Even', 'Every', 'Everything', 'Ewing', 'Exactly', 'Excalibur', 'Excuse', 'Explain', 'Far', 'Farewell', 'Father', 'Fetchez', 'Fiends', 'Fine', 'First', 'Firstly', 'Five', 'Follow', 'For', 'Forgive', 'Forward', 'Found', 'Four', 'France', 'Frank', 'French', 'Gable', 'Galahad', 'Gallahad', 'Gawain', 'Get', 'Go', 'God', 'Good', 'Gorge', 'Grail', 'Great', 'Greetings', 'Grenade', 'Guards', 'Guy', 'Ha', 'Hah', 'Hallo', 'Halt', 'Hand', 'Hang', 'Have', 'Haw', 'He', 'Hee', 'Heee', 'Heh', 'Hello', 'Help', 'Herbert', 'Here', 'Hey', 'Hic', 'Hill', 'Himself', 'His', 'Hiyaah', 'Hiyah', 'Hiyya', 'Hm', 'Hmm', 'Ho', 'Hoa', 'Hold', 'Holy', 'Honestly', 'Hoo', 'Hooray', 'How', 'Huh', 'Hurry', 'Huy', 'Huyah', 'Hya', 'Hyy', 'I', 'Idiom', 'Iesu', 'If', 'Iiiiives', 'Iiiives', 'In', 'Is', 'Isn', 'It', 'Ives', 'Jesus', 'Joseph', 'Just', 'Keep', 'King', 'Knight', 'Knights', 'Lady', 'Lake', 'Lancelot', 'Launcelot', 'Lead', 'Leaving', 'Let', 'Lie', 'Like', 'Listen', 'Loimbard', 'Look', 'Looks', 'Lord', 'Lucky', 'Make', 'Man', 'May', 'Maynard', 'Meanwhile', 'Mercea', 'Message', 'Midget', 'Mind', 'Mine', 'Mmm', 'Monsieur', 'More', 'Morning', 'Most', 'Mother', 'Mud', 'Must', 'My', 'N', 'Nador', 'Nay', 'Neee', 'Never', 'Ni', 'Nine', 'Ninepence', 'No', 'None', 'Not', 'Nothing', 'Now', 'Nu', 'O', 'Of', 'Off', 'Oh', 'Ohh', 'Old', 'Olfin', 'On', 'Once', 'One', 'Ooh', 'Oooh', 'Oooo', 'Oooohoohohooo', 'Oooooooh', 'Open', 'Or', 'Order', 'Other', 'Oui', 'Our', 'Over', 'Ow', 'Packing', 'Patsy', 'Pendragon', 'Peng', 'Perhaps', 'Peril', 'Picture', 'Pie', 'Piglet', 'Pin', 'Please', 'Practice', 'Prepare', 'Prince', 'Princess', 'Providence', 'Psalms', 'Pull', 'Pure', 'Put', 'Quick', 'Quickly', 'Quiet', 'Quite', 'Quoi', 'Rather', 'Really', 'Recently', 'Remove', 'Rheged', 'Ridden', 'Right', 'Riiight', 'Robin', 'Robinson', 'Roger', 'Round', 'Run', 'Running', 'S', 'Said', 'Saint', 'Saxons', 'Say', 'Schools', 'See', 'Seek', 'Shall', 'She', 'Shh', 'Shrubber', 'Shrubberies', 'Shut', 'Silence', 'Silly', 'Since', 'Sir', 'Skip', 'So', 'Sorry', 'Speak', 'Splendid', 'Spring', 'Stand', 'Stay', 'Steady', 'Stop', 'Summer', 'Supposing', 'Supreme', 'Surely', 'Swamp', 'Table', 'Tale', 'Tall', 'Tell', 'Thank', 'That', 'The', 'Thee', 'Then', 'There', 'Therefore', 'They', 'This', 'Those', 'Thou', 'Thpppppt', 'Thppppt', 'Thpppt', 'Thppt', 'Three', 'Throw', 'Thsss', 'Thursday', 'Thy', 'Til', 'Tim', 'Tis', 'To', 'Today', 'Together', 'Too', 'Torment', 'Tower', 'True', 'Try', 'Twenty', 'Two', 'U', 'Uh', 'Uhh', 'Ulk', 'Um', 'Umhm', 'Umm', 'Un', 'Unfortunately', 'Until', 'Use', 'Uther', 'Uugh', 'Uuh', 'Very', 'Victory', 'W', 'Waa', 'Wait', 'Walk', 'Wayy', 'We', 'Welcome', 'Well', 'What', 'When', 'Where', 'Which', 'Who', 'Whoa', 'Why', 'Will', 'Winston', 'Winter', 'With', 'Woa', 'Wood', 'Would', 'Y', 'Yapping', 'Yay', 'Yeaaah', 'Yeaah', 'Yeah', 'Yes', 'You', 'Your', 'Yup', 'ZOOT', 'Zoot', 'amazes', 'aptly', 'empty', 'excepting', 'frozen', 'ptoo', 'temptation', 'temptress', 'zhiv', 'zone', 'zoo', 'zoop', 'zoosh']\n"
     ]
    }
   ],
   "source": [
    "# Exercise: 1-24\n",
    "# Write expressions for finding all words in text6 that meet the following conditions. The result should be in the form of a list of words: ['word1', 'word2', ...].\n",
    "# a: Ending in ize\n",
    "# b: Containing the letter z\n",
    "# c: Containing the sequence of letters pt\n",
    "# d: All lowercase letters except for an initial capital (i.e., titlecase)\n",
    "\n",
    "my_list = []\n",
    "\n",
    "for w in text6:\n",
    "    if w.endswith('ize'):\n",
    "        my_list.append(w)\n",
    "    elif 'z' in w.lower():\n",
    "        my_list.append(w)\n",
    "    elif 'pt' in w.lower():\n",
    "        my_list.append(w)\n",
    "    elif w.istitle():\n",
    "        my_list.append(w)\n",
    "\n",
    "print(sorted(set(my_list)))"
   ],
   "metadata": {
    "collapsed": false,
    "pycharm": {
     "name": "#%%\n"
    }
   }
  },
  {
   "cell_type": "code",
   "execution_count": 79,
   "outputs": [
    {
     "name": "stdout",
     "output_type": "stream",
     "text": [
      "['she', 'shells', 'shore']\n"
     ]
    }
   ],
   "source": [
    "# Exercise: 1-25\n",
    "# Define sent to be the list of words ['she', 'sells', 'sea', 'shells', 'by', 'the', 'sea', 'shore']. Now write code\n",
    "# to perform the following tasks:\n",
    "# a: Print all words beginning with sh.\n",
    "\n",
    "sent = ['she', 'sells', 'sea', 'shells', 'by', 'the', 'sea', 'shore']\n",
    "\n",
    "print([w for w in sent if w.startswith('sh')])"
   ],
   "metadata": {
    "collapsed": false,
    "pycharm": {
     "name": "#%%\n"
    }
   }
  },
  {
   "cell_type": "code",
   "execution_count": 81,
   "outputs": [
    {
     "name": "stdout",
     "output_type": "stream",
     "text": [
      "['sells', 'shells', 'shore']\n"
     ]
    }
   ],
   "source": [
    "# b: Print all words longer than four characters\n",
    "\n",
    "print([w for w in sent if len(w) > 4])"
   ],
   "metadata": {
    "collapsed": false,
    "pycharm": {
     "name": "#%%\n"
    }
   }
  },
  {
   "cell_type": "code",
   "execution_count": 82,
   "outputs": [
    {
     "data": {
      "text/plain": "999044"
     },
     "execution_count": 82,
     "metadata": {},
     "output_type": "execute_result"
    }
   ],
   "source": [
    "# Exercise: 1-26\n",
    "# What does the following Python code do? sum([len(w) for w in text1]) Can you use it to work out the average word\n",
    "# length of a text?\n",
    "\n",
    "sum([len(w) for w in text1])"
   ],
   "metadata": {
    "collapsed": false,
    "pycharm": {
     "name": "#%%\n"
    }
   }
  },
  {
   "cell_type": "code",
   "execution_count": 83,
   "outputs": [
    {
     "data": {
      "text/plain": "3.830411128023649"
     },
     "execution_count": 83,
     "metadata": {},
     "output_type": "execute_result"
    }
   ],
   "source": [
    "sum([len(w) for w in text1]) / len(text1)"
   ],
   "metadata": {
    "collapsed": false,
    "pycharm": {
     "name": "#%%\n"
    }
   }
  },
  {
   "cell_type": "code",
   "execution_count": 84,
   "outputs": [],
   "source": [
    "# Exercise: 1-27\n",
    "# Define a function called vocab_size(text) that has a single parameter for the text, and which returns the\n",
    "# vocabulary size of the text.\n",
    "\n",
    "def vocab_size(text):\n",
    "    \"\"\"\n",
    "    Returns the number of words in a text.\n",
    "    \"\"\"\n",
    "    return len(text)"
   ],
   "metadata": {
    "collapsed": false,
    "pycharm": {
     "name": "#%%\n"
    }
   }
  },
  {
   "cell_type": "code",
   "execution_count": 85,
   "outputs": [
    {
     "data": {
      "text/plain": "260819"
     },
     "execution_count": 85,
     "metadata": {},
     "output_type": "execute_result"
    }
   ],
   "source": [
    "vocab_size(text1)"
   ],
   "metadata": {
    "collapsed": false,
    "pycharm": {
     "name": "#%%\n"
    }
   }
  },
  {
   "cell_type": "code",
   "execution_count": 86,
   "outputs": [],
   "source": [
    "# Exercise: 1-28\n",
    "# Define a function percent(word, text) that calculates how often a given word occurs in a text and expresses the\n",
    "# result as a percentage.\n",
    "\n",
    "def percent(word, text):\n",
    "    \"\"\"\n",
    "    Returns the percentage that a given word comprises in a text.\n",
    "    \"\"\"\n",
    "    word_count = len([w for w in text if w.lower() == word.lower()])\n",
    "    total_words = vocab_size(text)\n",
    "    return 100 * word_count/total_words"
   ],
   "metadata": {
    "collapsed": false,
    "pycharm": {
     "name": "#%%\n"
    }
   }
  },
  {
   "cell_type": "code",
   "execution_count": 87,
   "outputs": [
    {
     "data": {
      "text/plain": "0.4700577795329328"
     },
     "execution_count": 87,
     "metadata": {},
     "output_type": "execute_result"
    }
   ],
   "source": [
    "percent(\"whale\", text1)"
   ],
   "metadata": {
    "collapsed": false,
    "pycharm": {
     "name": "#%%\n"
    }
   }
  },
  {
   "cell_type": "code",
   "execution_count": 88,
   "outputs": [
    {
     "data": {
      "text/plain": "True"
     },
     "execution_count": 88,
     "metadata": {},
     "output_type": "execute_result"
    }
   ],
   "source": [
    "# Exercise: 1-29\n",
    "# We have been using sets to store vocabularies. Try the following Python expression: set(sent3) < set(text1).\n",
    "# Experiment with this using different arguments to set(). What does it do? Can you think of a practical application for this?\n",
    "\n",
    "set(sent3) < set(text1)"
   ],
   "metadata": {
    "collapsed": false,
    "pycharm": {
     "name": "#%%\n"
    }
   }
  }
 ],
 "metadata": {
  "kernelspec": {
   "display_name": "Python 3",
   "language": "python",
   "name": "python3"
  },
  "language_info": {
   "codemirror_mode": {
    "name": "ipython",
    "version": 2
   },
   "file_extension": ".py",
   "mimetype": "text/x-python",
   "name": "python",
   "nbconvert_exporter": "python",
   "pygments_lexer": "ipython2",
   "version": "2.7.6"
  }
 },
 "nbformat": 4,
 "nbformat_minor": 0
}