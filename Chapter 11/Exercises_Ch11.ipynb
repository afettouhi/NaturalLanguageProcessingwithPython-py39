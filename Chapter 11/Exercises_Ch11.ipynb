{
 "cells": [
  {
   "cell_type": "code",
   "execution_count": 1,
   "metadata": {
    "collapsed": true
   },
   "outputs": [],
   "source": [
    "# Exercise: 11-1\n",
    "# In Example 11-7 the new field appeared at the bottom of the entry. Modify this program so that it inserts\n",
    "# the new subelement right after the lx field. (Hint: create the new cv field using Element('cv'), assign a\n",
    "# text value to it, then use the insert() method of the parent element.)\n",
    "\n",
    "from xml.etree.ElementTree import Element\n",
    "import re\n",
    "\n",
    "def cv(s):\n",
    "    s = s.lower()\n",
    "    s = re.sub(r'[^a-z]',  r'_', s)\n",
    "    s = re.sub(r'[aeiou]', r'V', s)\n",
    "    s = re.sub(r'[^V_]',   r'C', s)\n",
    "    return s\n",
    "\n",
    "def add_cv_field(entry):\n",
    "    for i in range(len(entry)):\n",
    "        if entry[i].tag == 'lx':\n",
    "            cv_field = Element('cv')\n",
    "            cv_field.text = cv(entry[i].text)\n",
    "            entry.insert(i + 1, cv_field)"
   ]
  },
  {
   "cell_type": "code",
   "execution_count": 2,
   "outputs": [
    {
     "name": "stdout",
     "output_type": "stream",
     "text": [
      "\\lx kaeviro\n",
      "\\cv CVVCVCV\n",
      "\\ps V\n",
      "\\pt A\n",
      "\\ge lift off\n",
      "\\ge take off\n",
      "\\tkp go antap\n",
      "\\sc MOTION\n",
      "\\vx 1\n",
      "\\nt used to describe action of plane\n",
      "\\dt 03/Jun/2005\n",
      "\\ex Pita kaeviroroe kepa kekesia oa vuripierevo kiuvu.\n",
      "\\xp Pita i go antap na lukim haus win i bagarapim.\n",
      "\\xe Peter went to look at the house that the wind destroyed.\n",
      "\n"
     ]
    }
   ],
   "source": [
    "import nltk\n",
    "from nltk.corpus import toolbox\n",
    "\n",
    "lexicon = toolbox.xml('rotokas.dic')\n",
    "add_cv_field(lexicon[53])\n",
    "print(nltk.toolbox.to_sfm_string(lexicon[53]))"
   ],
   "metadata": {
    "collapsed": false,
    "pycharm": {
     "name": "#%%\n"
    }
   }
  },
  {
   "cell_type": "code",
   "execution_count": 3,
   "outputs": [
    {
     "name": "stdout",
     "output_type": "stream",
     "text": [
      "Entry 333\n",
      "\\lx keevuruvira\n",
      "\\cv CVVCVCVCVCV\n",
      "\\rt keevuru\n",
      "\\ge ???\n",
      "\\tkp ???\n",
      "\\dt 18/Apr/2007\n",
      "\\ex Kokio kare keevuruvira papapaiveira keauvere oisio koveroi rara kevururo vara???.\n",
      "\\xp Ol pisin i save plai isisi antap. Na ai yu ting olsem bai em i pundaun taim i plai ???.\n",
      "\\xe Birds fly gliding ???\n",
      "\n"
     ]
    }
   ],
   "source": [
    "import random\n",
    "\n",
    "r = random.randint(1, len(lexicon))\n",
    "print(\"Entry {}\".format(r))\n",
    "\n",
    "add_cv_field(lexicon[r])\n",
    "print(nltk.toolbox.to_sfm_string(lexicon[r]))"
   ],
   "metadata": {
    "collapsed": false,
    "pycharm": {
     "name": "#%%\n"
    }
   }
  },
  {
   "cell_type": "code",
   "execution_count": 4,
   "outputs": [
    {
     "name": "stdout",
     "output_type": "stream",
     "text": [
      "Entry 859\n",
      "\\lx kuukuuvuto\n",
      "\\cv CVVCVVCVCV\n",
      "\\alt kuukuuvupato\n",
      "\\rt kuukuuvu\n",
      "\\ps N\n",
      "\\pt HUM\n",
      "\\ge liar\n",
      "\\ge deceiver\n",
      "\\tkp ???\n",
      "\\dt 02/Sep/2005\n",
      "\\ex Pita riro kuukuuvuto.\n",
      "\\xp Pita em i man bilong giaman man.\n",
      "\\xe Peter is a big liar.\n",
      "\\ex Riro kuukuuvuva vii.\n",
      "\\xp Yu man bilong giaman.\n",
      "\\xe You're a liar.\n",
      "\\ex Tugarato riro kuukuuvuto ira oirara keakeapareveira.\n",
      "\\xp Setan i man bilong giaman em i save giamanim ol man.\n",
      "\\xe Satan is a big liar who deceives people.\n",
      "\n"
     ]
    }
   ],
   "source": [
    "r = random.randint(1, len(lexicon))\n",
    "print(\"Entry {}\".format(r))\n",
    "\n",
    "add_cv_field(lexicon[r])\n",
    "print(nltk.toolbox.to_sfm_string(lexicon[r]))"
   ],
   "metadata": {
    "collapsed": false,
    "pycharm": {
     "name": "#%%\n"
    }
   }
  },
  {
   "cell_type": "code",
   "execution_count": 5,
   "outputs": [
    {
     "name": "stdout",
     "output_type": "stream",
     "text": [
      "Entry 676\n",
      "\\lx koria\n",
      "\\cv CVCVV\n",
      "\\rt kori\n",
      "\\ps N\n",
      "\\pt NT\n",
      "\\ge writing\n",
      "\\ge markings\n",
      "\\ge design\n",
      "\\tkp makmak raft\n",
      "\\dt 14/Feb/2005\n",
      "\\ex Avaisisi koria purarevoi kepa-ia.\n",
      "\\xp Avaisisi i wokim ol makmak long haus.\n",
      "\\xe Avaisisi is putting markings on the house.\n",
      "\n"
     ]
    }
   ],
   "source": [
    "r = random.randint(1, len(lexicon))\n",
    "print(\"Entry {}\".format(r))\n",
    "\n",
    "add_cv_field(lexicon[r])\n",
    "print(nltk.toolbox.to_sfm_string(lexicon[r]))"
   ],
   "metadata": {
    "collapsed": false,
    "pycharm": {
     "name": "#%%\n"
    }
   }
  },
  {
   "cell_type": "code",
   "execution_count": 6,
   "outputs": [],
   "source": [
    "# Exercise: 11-2\n",
    "# Write a function that deletes a specified field from a lexical entry. (We could use this to sanitize our\n",
    "# lexical data before giving it to others, e.g., by removing fields containing irrelevant or uncertain content.)\n",
    "\n",
    "from xml.etree.ElementTree import Element\n",
    "\n",
    "def remove_field(entry, tbr):\n",
    "    \"\"\"\n",
    "    Removes a field from a lexical entry.\n",
    "\n",
    "    Arguments:\n",
    "\n",
    "    entry: xml Element\n",
    "    tbr:   field to be removed\n",
    "    \"\"\"\n",
    "\n",
    "    assert isinstance(entry, Element), 'Entry must be an xml Element'\n",
    "\n",
    "    for field in entry:\n",
    "        if field.tag == tbr:\n",
    "            entry.remove(field)"
   ],
   "metadata": {
    "collapsed": false,
    "pycharm": {
     "name": "#%%\n"
    }
   }
  },
  {
   "cell_type": "code",
   "execution_count": 7,
   "outputs": [
    {
     "name": "stdout",
     "output_type": "stream",
     "text": [
      "\\lx karepie\n",
      "\\rt kare\n",
      "\\ps V\n",
      "\\pt B\n",
      "\\ge return\n",
      "\\tkp bekim\n",
      "\\eng return\n",
      "\\eng pay back\n",
      "\\eng send back\n",
      "\\vx 2\n",
      "\\dt 08/Jun/2005\n",
      "\\ex Vii vaaro vukua oa vii iare karepieavere.\n",
      "\\xp ???\n",
      "\\xe I will return your book to you.\n",
      "\\ex Oire vii varo vukua karepieavere.\n",
      "\\xp Em i orait, bai mi bekim buk bilong yu.\n",
      "\\xe Okay, I'll give you your book back.\n",
      "\n"
     ]
    }
   ],
   "source": [
    "remove_field(lexicon[203], 'arg')\n",
    "\n",
    "print(nltk.toolbox.to_sfm_string(lexicon[203]))"
   ],
   "metadata": {
    "collapsed": false,
    "pycharm": {
     "name": "#%%\n"
    }
   }
  },
  {
   "cell_type": "code",
   "execution_count": 8,
   "outputs": [],
   "source": [
    "# Exercise: 11-3\n",
    "# Write a program that scans an HTML dictionary file to find entries having an illegal part-of-speech field, and\n",
    "# then reports the headword for each entry.\n",
    "\n",
    "import re\n",
    "\n",
    "def find_illegal_pos(entry, head_tag, pos_tag, illegal_pos):\n",
    "    \"\"\"\n",
    "    Scans an HTML dictionary file and returns headword if an\n",
    "    illegal part-of-speech field is present.\n",
    "\n",
    "    Arguments:\n",
    "\n",
    "    entry:       entry in an HTML dictionary file\n",
    "    head_tag:    regex tag to identify headwords\n",
    "    pos_tag:     regex tag to identify POS fields\n",
    "    illegal_pos: Illegal POS fields. May be a list or string.\n",
    "    \"\"\"\n",
    "\n",
    "    pos = re.findall(re.compile(pos_tag), entry)\n",
    "\n",
    "    # When we have several illegal POS:\n",
    "    if isinstance(illegal_pos, list):\n",
    "        for p in pos:\n",
    "            if p in illegal_pos:\n",
    "                return re.findall(re.compile(head_tag), entry)\n",
    "\n",
    "    # When we have no illegal POS:\n",
    "    elif isinstance(illegal_pos, str):\n",
    "        for p in pos:\n",
    "            if p == illegal_pos:\n",
    "                return re.findall(re.compile(head_tag), entry)"
   ],
   "metadata": {
    "collapsed": false,
    "pycharm": {
     "name": "#%%\n"
    }
   }
  },
  {
   "cell_type": "code",
   "execution_count": 9,
   "outputs": [],
   "source": [
    "test = \"\"\"\n",
    "<p class=MsoNormal>sleep\n",
    "  <span style='mso-spacerun:yes'> </span>\n",
    "  [<span class=SpellE>sli:p</span>]\n",
    "  <span style='mso-spacerun:yes'> </span>\n",
    "  <b><span style='font-size:11.0pt'>v.i.</span></b>\n",
    "  <span style='mso-spacerun:yes'> </span>\n",
    "  <i>a condition of body and mind ...<o:p></o:p></i>\n",
    "</p>\n",
    "\"\"\""
   ],
   "metadata": {
    "collapsed": false,
    "pycharm": {
     "name": "#%%\n"
    }
   }
  },
  {
   "cell_type": "code",
   "execution_count": 10,
   "outputs": [
    {
     "data": {
      "text/plain": "['sleep']"
     },
     "execution_count": 10,
     "metadata": {},
     "output_type": "execute_result"
    }
   ],
   "source": [
    "find_illegal_pos(test, r\"<p [^>]*>(.*)\\n.*<\",\n",
    "                 r\"style='font-size:11.0pt'>([a-z.]+)<\", ['v.i.'])"
   ],
   "metadata": {
    "collapsed": false,
    "pycharm": {
     "name": "#%%\n"
    }
   }
  },
  {
   "cell_type": "code",
   "execution_count": 11,
   "outputs": [
    {
     "data": {
      "text/plain": "[('CLASS', 6), ('FFP', 1), ('NUM', 1), ('POST', 1), ('EXCL', 1)]"
     },
     "execution_count": 11,
     "metadata": {},
     "output_type": "execute_result"
    }
   ],
   "source": [
    "# Exercise: 11-4\n",
    "# Write a program to find any parts-of-speech (ps field) that occurred less than 10 times. Perhaps\n",
    "# these are typing mistakes?\n",
    "\n",
    "from collections import Counter\n",
    "\n",
    "POSs = [field.text for entry in lexicon for field in entry if field.tag == 'ps']\n",
    "POS_freq = Counter(POSs)\n",
    "\n",
    "[(k, v) for k, v in POS_freq.items() if v < 10]"
   ],
   "metadata": {
    "collapsed": false,
    "pycharm": {
     "name": "#%%\n"
    }
   }
  },
  {
   "cell_type": "code",
   "execution_count": 12,
   "outputs": [
    {
     "name": "stdout",
     "output_type": "stream",
     "text": [
      "\\lx karepie\n",
      "\\cv CVCVCVV\n",
      "\\rt kare\n",
      "\\ps V\n",
      "\\pt B\n",
      "\\ge return\n",
      "\\tkp bekim\n",
      "\\eng return\n",
      "\\eng pay back\n",
      "\\eng send back\n",
      "\\vx 2\n",
      "\\dt 08/Jun/2005\n",
      "\\ex Vii vaaro vukua oa vii iare karepieavere.\n",
      "\\xp ???\n",
      "\\xe I will return your book to you.\n",
      "\\ex Oire vii varo vukua karepieavere.\n",
      "\\xp Em i orait, bai mi bekim buk bilong yu.\n",
      "\\xe Okay, I'll give you your book back.\n",
      "\n"
     ]
    }
   ],
   "source": [
    "# Exercise: 11-5\n",
    "# We saw a method for adding a cv field (Working with Toolbox Data). There is an interesting issue with\n",
    "# keeping this up-to-date when someone modifies the content of the lx field on which it is based. Write a\n",
    "# version of this program to add a cv field, replacing any existing cv field.\n",
    "\n",
    "add_cv_field(lexicon[203])\n",
    "print(nltk.toolbox.to_sfm_string(lexicon[203]))"
   ],
   "metadata": {
    "collapsed": false,
    "pycharm": {
     "name": "#%%\n"
    }
   }
  },
  {
   "cell_type": "code",
   "execution_count": 13,
   "outputs": [],
   "source": [
    "lexicon[203].findall('lx')[0].text = 'karepieavere'"
   ],
   "metadata": {
    "collapsed": false,
    "pycharm": {
     "name": "#%%\n"
    }
   }
  },
  {
   "cell_type": "code",
   "execution_count": 14,
   "outputs": [
    {
     "name": "stdout",
     "output_type": "stream",
     "text": [
      "\\lx karepieavere\n",
      "\\cv CVCVCVV\n",
      "\\rt kare\n",
      "\\ps V\n",
      "\\pt B\n",
      "\\ge return\n",
      "\\tkp bekim\n",
      "\\eng return\n",
      "\\eng pay back\n",
      "\\eng send back\n",
      "\\vx 2\n",
      "\\dt 08/Jun/2005\n",
      "\\ex Vii vaaro vukua oa vii iare karepieavere.\n",
      "\\xp ???\n",
      "\\xe I will return your book to you.\n",
      "\\ex Oire vii varo vukua karepieavere.\n",
      "\\xp Em i orait, bai mi bekim buk bilong yu.\n",
      "\\xe Okay, I'll give you your book back.\n",
      "\n"
     ]
    }
   ],
   "source": [
    "print(nltk.toolbox.to_sfm_string(lexicon[203]))"
   ],
   "metadata": {
    "collapsed": false,
    "pycharm": {
     "name": "#%%\n"
    }
   }
  },
  {
   "cell_type": "code",
   "execution_count": 15,
   "outputs": [],
   "source": [
    "def cv(s):\n",
    "    s = s.lower()\n",
    "    s = re.sub(r'[^a-z]',  r'_', s)\n",
    "    s = re.sub(r'[aeiou]', r'V', s)\n",
    "    s = re.sub(r'[^V_]',   r'C', s)\n",
    "    return s\n",
    "\n",
    "def update_cv_field(entry):\n",
    "    for field in entry:\n",
    "        if field.tag == 'lx':\n",
    "            new_cv_field = cv(field.text)\n",
    "            entry.findall('cv')[0].text = new_cv_field"
   ],
   "metadata": {
    "collapsed": false,
    "pycharm": {
     "name": "#%%\n"
    }
   }
  },
  {
   "cell_type": "code",
   "execution_count": 16,
   "outputs": [],
   "source": [
    "update_cv_field(lexicon[203])"
   ],
   "metadata": {
    "collapsed": false,
    "pycharm": {
     "name": "#%%\n"
    }
   }
  },
  {
   "cell_type": "code",
   "execution_count": 17,
   "outputs": [
    {
     "name": "stdout",
     "output_type": "stream",
     "text": [
      "\\lx karepieavere\n",
      "\\cv CVCVCVVVCVCV\n",
      "\\rt kare\n",
      "\\ps V\n",
      "\\pt B\n",
      "\\ge return\n",
      "\\tkp bekim\n",
      "\\eng return\n",
      "\\eng pay back\n",
      "\\eng send back\n",
      "\\vx 2\n",
      "\\dt 08/Jun/2005\n",
      "\\ex Vii vaaro vukua oa vii iare karepieavere.\n",
      "\\xp ???\n",
      "\\xe I will return your book to you.\n",
      "\\ex Oire vii varo vukua karepieavere.\n",
      "\\xp Em i orait, bai mi bekim buk bilong yu.\n",
      "\\xe Okay, I'll give you your book back.\n",
      "\n"
     ]
    }
   ],
   "source": [
    "print(nltk.toolbox.to_sfm_string(lexicon[203]))"
   ],
   "metadata": {
    "collapsed": false,
    "pycharm": {
     "name": "#%%\n"
    }
   }
  },
  {
   "cell_type": "code",
   "execution_count": 18,
   "outputs": [],
   "source": [
    "# Exercise: 11-6\n",
    "# Write a function to add a new field syl which gives a count of the number of syllables in the word.\n",
    "\n",
    "def count_syllables(word):\n",
    "    CV = cv(word)\n",
    "    syl = 0\n",
    "\n",
    "    # If the initial letter is a vowel\n",
    "    if CV[0] == 'V':\n",
    "        syl += 1\n",
    "\n",
    "    # Count the number of vowels not preceded by a vowel\n",
    "    flag = False\n",
    "    for i in range(1, len(CV)):\n",
    "        if CV[i] == 'V' and CV[i - 1] != 'V':\n",
    "            syl += 1\n",
    "            flag = False\n",
    "        # make exception for three vowels in a row\n",
    "        elif CV[i] == 'V' and flag == True:\n",
    "            syl += 1\n",
    "            flag = False\n",
    "        elif CV[i] == 'V' and CV[i - 1] == 'V':\n",
    "            flag = True\n",
    "\n",
    "    return str(syl)"
   ],
   "metadata": {
    "collapsed": false,
    "pycharm": {
     "name": "#%%\n"
    }
   }
  },
  {
   "cell_type": "code",
   "execution_count": 19,
   "outputs": [
    {
     "data": {
      "text/plain": "'5'"
     },
     "execution_count": 19,
     "metadata": {},
     "output_type": "execute_result"
    }
   ],
   "source": [
    "count_syllables('rugorugoopau')"
   ],
   "metadata": {
    "collapsed": false,
    "pycharm": {
     "name": "#%%\n"
    }
   }
  },
  {
   "cell_type": "code",
   "execution_count": 20,
   "outputs": [
    {
     "data": {
      "text/plain": "'6'"
     },
     "execution_count": 20,
     "metadata": {},
     "output_type": "execute_result"
    }
   ],
   "source": [
    "count_syllables('karepieavere')"
   ],
   "metadata": {
    "collapsed": false,
    "pycharm": {
     "name": "#%%\n"
    }
   }
  },
  {
   "cell_type": "code",
   "execution_count": 21,
   "outputs": [],
   "source": [
    "from xml.etree.ElementTree import SubElement\n",
    "\n",
    "def add_syl_field(entry):\n",
    "    for field in entry:\n",
    "        if field.tag == 'lx':\n",
    "            syl_field = SubElement(entry, 'syl')\n",
    "            syl_field.text = count_syllables(field.text)"
   ],
   "metadata": {
    "collapsed": false,
    "pycharm": {
     "name": "#%%\n"
    }
   }
  },
  {
   "cell_type": "code",
   "execution_count": 22,
   "outputs": [],
   "source": [
    "add_syl_field(lexicon[203])"
   ],
   "metadata": {
    "collapsed": false,
    "pycharm": {
     "name": "#%%\n"
    }
   }
  },
  {
   "cell_type": "code",
   "execution_count": 23,
   "outputs": [
    {
     "name": "stdout",
     "output_type": "stream",
     "text": [
      "\\lx karepieavere\n",
      "\\cv CVCVCVVVCVCV\n",
      "\\rt kare\n",
      "\\ps V\n",
      "\\pt B\n",
      "\\ge return\n",
      "\\tkp bekim\n",
      "\\eng return\n",
      "\\eng pay back\n",
      "\\eng send back\n",
      "\\vx 2\n",
      "\\dt 08/Jun/2005\n",
      "\\ex Vii vaaro vukua oa vii iare karepieavere.\n",
      "\\xp ???\n",
      "\\xe I will return your book to you.\n",
      "\\ex Oire vii varo vukua karepieavere.\n",
      "\\xp Em i orait, bai mi bekim buk bilong yu.\n",
      "\\xe Okay, I'll give you your book back.\n",
      "\\syl 6\n",
      "\n"
     ]
    }
   ],
   "source": [
    "print(nltk.toolbox.to_sfm_string(lexicon[203]))"
   ],
   "metadata": {
    "collapsed": false,
    "pycharm": {
     "name": "#%%\n"
    }
   }
  },
  {
   "cell_type": "code",
   "execution_count": 24,
   "outputs": [],
   "source": [
    "# Exercise: 11-7\n",
    "# Write a function which displays the complete entry for a lexeme. When the lexeme is incorrectly spelled, it should\n",
    "# display the entry for the most similarly spelled lexeme.\n",
    "\n",
    "from xml.etree.ElementTree import Element\n",
    "\n",
    "new_lex = []\n",
    "\n",
    "def rank(word, wordlist):\n",
    "    ranked = sorted((nltk.edit_distance(word, w), w) for w in wordlist)\n",
    "    return [word for(_, word) in ranked]\n",
    "\n",
    "def display_complete_entry(lexicon, lexeme, tag = 'lx'):\n",
    "    \"\"\"\n",
    "    Displays complete entry for a lexeme.  If lexeme is\n",
    "    incorrectly spelled, the entry for the most similary\n",
    "    spelled is displayed.\n",
    "\n",
    "    Arguments:\n",
    "\n",
    "    lexicon: Must be an xml Element. Lexem\n",
    "    lexeme:  String.  If not found, most similarly\n",
    "             spelled lexeme is used.\n",
    "    tag:     Lexeme tag in the lexicon.  Default is 'lx'.\n",
    "    \"\"\"\n",
    "\n",
    "    assert isinstance(lexicon, Element), 'Entry must be an xml Element'\n",
    "\n",
    "    for entry in lexicon:\n",
    "        for field in entry:\n",
    "            if field.tag == tag:\n",
    "                if field.text == lexeme:\n",
    "                    print(nltk.toolbox.to_sfm_string(entry))\n",
    "                    return\n",
    "\n",
    "\n",
    "    lexs = [field.text for entry in lexicon for field in entry\n",
    "               if field.tag == tag]\n",
    "\n",
    "    new_lex = rank(lexeme, lexs)[0]\n",
    "    eight_trial(lexicon, new_lex)"
   ],
   "metadata": {
    "collapsed": false,
    "pycharm": {
     "name": "#%%\n"
    }
   }
  },
  {
   "cell_type": "code",
   "execution_count": 25,
   "outputs": [
    {
     "name": "stdout",
     "output_type": "stream",
     "text": [
      "\\lx kaeviro\n",
      "\\cv CVVCVCV\n",
      "\\ps V\n",
      "\\pt A\n",
      "\\ge lift off\n",
      "\\ge take off\n",
      "\\tkp go antap\n",
      "\\sc MOTION\n",
      "\\vx 1\n",
      "\\nt used to describe action of plane\n",
      "\\dt 03/Jun/2005\n",
      "\\ex Pita kaeviroroe kepa kekesia oa vuripierevo kiuvu.\n",
      "\\xp Pita i go antap na lukim haus win i bagarapim.\n",
      "\\xe Peter went to look at the house that the wind destroyed.\n",
      "\n"
     ]
    }
   ],
   "source": [
    "display_complete_entry(lexicon, 'kaeviro')"
   ],
   "metadata": {
    "collapsed": false,
    "pycharm": {
     "name": "#%%\n"
    }
   }
  },
  {
   "cell_type": "code",
   "execution_count": 26,
   "outputs": [
    {
     "ename": "NameError",
     "evalue": "name 'eight_trial' is not defined",
     "output_type": "error",
     "traceback": [
      "\u001B[0;31m---------------------------------------------------------------------------\u001B[0m",
      "\u001B[0;31mNameError\u001B[0m                                 Traceback (most recent call last)",
      "\u001B[0;32m<ipython-input-26-8ef8d0d1b1d7>\u001B[0m in \u001B[0;36m<module>\u001B[0;34m\u001B[0m\n\u001B[0;32m----> 1\u001B[0;31m \u001B[0mdisplay_complete_entry\u001B[0m\u001B[0;34m(\u001B[0m\u001B[0mlexicon\u001B[0m\u001B[0;34m,\u001B[0m \u001B[0;34m'kappa'\u001B[0m\u001B[0;34m)\u001B[0m\u001B[0;34m\u001B[0m\u001B[0;34m\u001B[0m\u001B[0m\n\u001B[0m\u001B[1;32m      2\u001B[0m \u001B[0;34m\u001B[0m\u001B[0m\n",
      "\u001B[0;32m<ipython-input-24-56aafac1b5bb>\u001B[0m in \u001B[0;36mdisplay_complete_entry\u001B[0;34m(lexicon, lexeme, tag)\u001B[0m\n\u001B[1;32m     39\u001B[0m \u001B[0;34m\u001B[0m\u001B[0m\n\u001B[1;32m     40\u001B[0m     \u001B[0mnew_lex\u001B[0m \u001B[0;34m=\u001B[0m \u001B[0mrank\u001B[0m\u001B[0;34m(\u001B[0m\u001B[0mlexeme\u001B[0m\u001B[0;34m,\u001B[0m \u001B[0mlexs\u001B[0m\u001B[0;34m)\u001B[0m\u001B[0;34m[\u001B[0m\u001B[0;36m0\u001B[0m\u001B[0;34m]\u001B[0m\u001B[0;34m\u001B[0m\u001B[0;34m\u001B[0m\u001B[0m\n\u001B[0;32m---> 41\u001B[0;31m     \u001B[0meight_trial\u001B[0m\u001B[0;34m(\u001B[0m\u001B[0mlexicon\u001B[0m\u001B[0;34m,\u001B[0m \u001B[0mnew_lex\u001B[0m\u001B[0;34m)\u001B[0m\u001B[0;34m\u001B[0m\u001B[0;34m\u001B[0m\u001B[0m\n\u001B[0m\u001B[1;32m     42\u001B[0m \u001B[0;34m\u001B[0m\u001B[0m\n",
      "\u001B[0;31mNameError\u001B[0m: name 'eight_trial' is not defined"
     ]
    }
   ],
   "source": [
    "display_complete_entry(lexicon, 'kappa')"
   ],
   "metadata": {
    "collapsed": false,
    "pycharm": {
     "name": "#%%\n"
    }
   }
  },
  {
   "cell_type": "code",
   "execution_count": 27,
   "outputs": [],
   "source": [
    "# Exercise: 11-8\n",
    "# Write a function that takes a lexicon and finds which pairs of consecutive fields are most frequent (e.g.,\n",
    "# ps is often followed by pt). (This might help us to discover some of the structure of a lexical entry.)\n",
    "\n",
    "from xml.etree.ElementTree import Element\n",
    "from collections import Counter\n",
    "\n",
    "def find_frequent_consecutive_fields(lexicon, n = 15):\n",
    "    \"\"\"\n",
    "    Find most frequent consecutive fields in a lexicon.\n",
    "\n",
    "    Arguments:\n",
    "\n",
    "    lexicon: Lexicon. Must be an xml Element.\n",
    "    n:       Number of most frequent pairs to be returned.\n",
    "             Default is 15.\n",
    "    \"\"\"\n",
    "    assert isinstance(lexicon, Element), 'lexicon must be an xml Element'\n",
    "\n",
    "    tags = []\n",
    "    for entry in lexicon:\n",
    "        for i in range(len(entry) - 1):\n",
    "                tags.append((entry[i].tag, entry[i + 1].tag))\n",
    "\n",
    "    return Counter(tags).most_common(n)"
   ],
   "metadata": {
    "collapsed": false,
    "pycharm": {
     "name": "#%%\n"
    }
   }
  },
  {
   "cell_type": "code",
   "execution_count": 28,
   "outputs": [
    {
     "data": {
      "text/plain": "[(('ex', 'xp'), 1532),\n (('xp', 'xe'), 1526),\n (('ps', 'pt'), 835),\n (('ge', 'tkp'), 824),\n (('pt', 'ge'), 766),\n (('dt', 'ex'), 758),\n (('xe', 'ex'), 708),\n (('lx', 'ps'), 519),\n (('rt', 'ps'), 356),\n (('tkp', 'dt'), 327),\n (('lx', 'rt'), 310),\n (('ge', 'ge'), 287),\n (('eng', 'eng'), 143),\n (('cmt', 'dt'), 143),\n (('tkp', 'nt'), 130)]"
     },
     "execution_count": 28,
     "metadata": {},
     "output_type": "execute_result"
    }
   ],
   "source": [
    "find_frequent_consecutive_fields(lexicon)"
   ],
   "metadata": {
    "collapsed": false,
    "pycharm": {
     "name": "#%%\n"
    }
   }
  },
  {
   "cell_type": "code",
   "execution_count": 29,
   "outputs": [],
   "source": [
    "# Exercise: 11-9\n",
    "# Create a spreadsheet using office software, containing one lexical entry per row, consisting of a headword, a\n",
    "# part of speech, and a gloss. Save the spreadsheet in CSV format. Write Python code to read the CSV file and\n",
    "# print it in Toolbox format, using lx for the headword, ps for the part of speech, and gl for the gloss.\n",
    "\n",
    "import csv\n",
    "\n",
    "new_lex = []\n",
    "\n",
    "with open('simple_lexicon.csv', encoding = 'utf-8-sig') as f:\n",
    "    reader = csv.reader(f, delimiter = \",\")\n",
    "    for row in reader:\n",
    "        new_lex.append(row)"
   ],
   "metadata": {
    "collapsed": false,
    "pycharm": {
     "name": "#%%\n"
    }
   }
  },
  {
   "cell_type": "code",
   "execution_count": 30,
   "outputs": [
    {
     "data": {
      "text/plain": "[]"
     },
     "execution_count": 30,
     "metadata": {},
     "output_type": "execute_result"
    }
   ],
   "source": [
    "new_lex"
   ],
   "metadata": {
    "collapsed": false,
    "pycharm": {
     "name": "#%%\n"
    }
   }
  },
  {
   "cell_type": "code",
   "execution_count": 31,
   "outputs": [],
   "source": [
    "xml =   \"\"\" <toolbox_data>\n",
    "                <header>\n",
    "                    <_sh>v1.0 Absurdly Short Lexicon</_sh>\n",
    "                </header>\n",
    "        \"\"\"\n",
    "\n",
    "for nl in new_lex:\n",
    "\n",
    "    xml += \"\"\"\n",
    "                    <record>\n",
    "                        <lx>{}</lx>\n",
    "                        <ps>{}</ps>\n",
    "                        <gl>{}</gl>\n",
    "                    </record>\"\"\".format(nl[0], nl[1], nl[2])\n",
    "\n",
    "xml += \"</toolbox_data>\""
   ],
   "metadata": {
    "collapsed": false,
    "pycharm": {
     "name": "#%%\n"
    }
   }
  },
  {
   "cell_type": "code",
   "execution_count": 32,
   "outputs": [
    {
     "name": "stdout",
     "output_type": "stream",
     "text": [
      " <toolbox_data>\n",
      "                <header>\n",
      "                    <_sh>v1.0 Absurdly Short Lexicon</_sh>\n",
      "                </header>\n",
      "        </toolbox_data>\n"
     ]
    }
   ],
   "source": [
    "print(xml)"
   ],
   "metadata": {
    "collapsed": false,
    "pycharm": {
     "name": "#%%\n"
    }
   }
  },
  {
   "cell_type": "code",
   "execution_count": 33,
   "outputs": [],
   "source": [
    "# Exercise: 11-10\n",
    "# Index the words of Shakespeare’s plays, with the help of nltk.Index. The resulting data structure should permit\n",
    "# lookup on individual words, such as music, returning a list of references to acts, scenes, and speeches, of the\n",
    "# form [(3, 2, 9), (5, 1, 23), ...], where (3, 2, 9) indicates Act 3 Scene 2 Speech 9.\n",
    "\n",
    "from xml.etree.ElementTree import ElementTree\n",
    "\n",
    "plays = [\"Anthony and Cleopatra\",\n",
    "         \"A Midsummer Night's Dream\",\n",
    "         \"Hamlet\",\n",
    "         \"Julius Caesar\",\n",
    "         \"MacBeth\",\n",
    "         \"The Merchant of Venice\",\n",
    "         \"Othello\",\n",
    "         \"Romeo and Juliet\"]\n",
    "\n",
    "\n",
    "def find_in_shakespeare(word):\n",
    "    print(\"The format for the references is [(A, S, P)], with A, S, P being respectively the Act, Scene, and Speech of the play.\\n\")\n",
    "    for pf, piece in zip(nltk.corpus.shakespeare.fileids(), plays):\n",
    "        play_file = nltk.data.find('corpora/shakespeare/{}'.format(pf))\n",
    "        play = ElementTree().parse(play_file)\n",
    "\n",
    "        refs = []\n",
    "\n",
    "        for i, act in enumerate(play.findall('ACT')):\n",
    "            for j, scene in enumerate(act.findall('SCENE')):\n",
    "                for k, speech in enumerate(scene.findall('SPEECH')):\n",
    "                    for line in speech.findall('LINE'):\n",
    "                        if word in str(line.text):\n",
    "                            refs.append((\"({}, {}, {})\".format(i + 1, j + 1, k + 1)))\n",
    "\n",
    "        print(\"References to '{}' in \\\"{}\\\":\".format(word, piece))\n",
    "        print(\"\\t\", refs, end = \" \")\n",
    "        print(\"\\n\")"
   ],
   "metadata": {
    "collapsed": false,
    "pycharm": {
     "name": "#%%\n"
    }
   }
  },
  {
   "cell_type": "code",
   "execution_count": 34,
   "outputs": [
    {
     "name": "stdout",
     "output_type": "stream",
     "text": [
      "The format for the references is [(A, S, P)], with A, S, P being respectively the Act, Scene, and Speech of the play.\n",
      "\n",
      "References to 'music' in \"Anthony and Cleopatra\":\n",
      "\t ['(2, 5, 1)', '(2, 5, 2)', '(2, 5, 7)', '(2, 7, 65)'] \n",
      "\n",
      "References to 'music' in \"A Midsummer Night's Dream\":\n",
      "\t ['(2, 1, 19)', '(4, 1, 11)', '(4, 1, 12)', '(4, 1, 22)', '(4, 1, 23)', '(4, 1, 25)', '(4, 1, 29)', '(4, 1, 29)', '(4, 1, 30)', '(5, 1, 8)'] \n",
      "\n",
      "References to 'music' in \"Hamlet\":\n",
      "\t ['(2, 1, 25)', '(3, 1, 42)', '(3, 2, 94)', '(3, 2, 94)', '(3, 2, 128)', '(3, 2, 130)', '(3, 4, 48)', '(5, 2, 147)'] \n",
      "\n",
      "References to 'music' in \"Julius Caesar\":\n",
      "\t ['(1, 2, 13)', '(1, 2, 49)', '(4, 3, 126)'] \n",
      "\n",
      "References to 'music' in \"MacBeth\":\n",
      "\t [] \n",
      "\n",
      "References to 'music' in \"The Merchant of Venice\":\n",
      "\t ['(3, 2, 9)', '(3, 2, 9)', '(3, 2, 9)', '(5, 1, 23)', '(5, 1, 23)', '(5, 1, 23)', '(5, 1, 24)', '(5, 1, 25)', '(5, 1, 25)', '(5, 1, 25)', '(5, 1, 25)', '(5, 1, 25)', '(5, 1, 29)', '(5, 1, 32)'] \n",
      "\n",
      "References to 'music' in \"Othello\":\n",
      "\t ['(2, 1, 71)', '(3, 1, 8)', '(3, 1, 10)', '(3, 1, 10)', '(4, 1, 88)', '(5, 2, 141)'] \n",
      "\n",
      "References to 'music' in \"Romeo and Juliet\":\n",
      "\t ['(1, 5, 7)', '(2, 2, 43)', '(2, 5, 3)', '(2, 6, 7)', '(4, 4, 11)', '(4, 5, 27)', '(4, 5, 29)', '(4, 5, 40)', '(4, 5, 40)', '(4, 5, 43)', '(4, 5, 46)', '(4, 5, 46)', '(4, 5, 46)'] \n",
      "\n"
     ]
    }
   ],
   "source": [
    "find_in_shakespeare('music')"
   ],
   "metadata": {
    "collapsed": false,
    "pycharm": {
     "name": "#%%\n"
    }
   }
  },
  {
   "cell_type": "code",
   "execution_count": 35,
   "outputs": [
    {
     "name": "stdout",
     "output_type": "stream",
     "text": [
      "The format for the references is [(A, S, P)], with A, S, P being respectively the Act, Scene, and Speech of the play.\n",
      "\n",
      "References to 'death' in \"Anthony and Cleopatra\":\n",
      "\t ['(1, 2, 61)', '(1, 2, 77)', '(1, 2, 79)', '(1, 2, 92)', '(1, 3, 24)', '(1, 3, 27)', '(3, 1, 1)', '(3, 5, 6)', '(3, 10, 6)', '(3, 11, 19)', '(3, 13, 66)', '(4, 2, 15)', '(4, 2, 17)', '(4, 9, 17)', '(4, 12, 5)', '(4, 13, 3)', '(4, 14, 9)', '(4, 14, 15)', '(4, 14, 30)', '(4, 14, 31)', '(4, 14, 41)', '(4, 14, 45)', '(4, 15, 4)', '(4, 15, 8)', '(4, 15, 28)', '(4, 15, 28)', '(4, 15, 28)', '(5, 1, 7)', '(5, 2, 14)', '(5, 2, 15)', '(5, 2, 16)', '(5, 2, 104)', '(5, 2, 111)', '(5, 2, 124)'] \n",
      "\n",
      "References to 'death' in \"A Midsummer Night's Dream\":\n",
      "\t ['(1, 1, 6)', '(1, 1, 13)', '(1, 1, 20)', '(1, 1, 30)', '(1, 2, 5)', '(2, 2, 23)', '(3, 2, 33)', '(3, 2, 47)', '(3, 2, 92)', '(3, 2, 92)', '(4, 1, 50)', '(5, 1, 10)', '(5, 1, 48)', '(5, 1, 83)'] \n",
      "\n",
      "References to 'death' in \"Hamlet\":\n",
      "\t ['(1, 1, 50)', '(1, 2, 1)', '(1, 2, 1)', '(1, 2, 15)', '(1, 4, 11)', '(1, 5, 16)', '(2, 2, 1)', '(2, 2, 15)', '(2, 2, 146)', '(2, 2, 154)', '(3, 1, 19)', '(3, 1, 19)', '(3, 2, 13)', '(3, 3, 7)', '(3, 4, 50)', '(4, 3, 27)', '(4, 4, 17)', '(4, 4, 17)', '(4, 5, 24)', '(4, 5, 24)', '(4, 5, 24)', '(4, 5, 24)', '(4, 5, 45)', '(4, 5, 49)', '(4, 5, 60)', '(4, 5, 63)', '(4, 6, 7)', '(4, 7, 15)', '(4, 7, 32)', '(4, 7, 32)', '(4, 7, 36)', '(5, 1, 7)', '(5, 1, 88)', '(5, 2, 11)', '(5, 2, 133)', '(5, 2, 134)', '(5, 2, 142)', '(5, 2, 144)', '(5, 2, 144)'] \n",
      "\n",
      "References to 'death' in \"Julius Caesar\":\n",
      "\t ['(1, 2, 35)', '(1, 2, 35)', '(2, 1, 5)', '(2, 1, 45)', '(2, 2, 9)', '(2, 2, 10)', '(2, 2, 10)', '(2, 2, 10)', '(2, 4, 18)', '(3, 1, 51)', '(3, 1, 52)', '(3, 1, 52)', '(3, 1, 59)', '(3, 1, 65)', '(3, 1, 65)', '(3, 1, 66)', '(3, 1, 69)', '(3, 1, 78)', '(3, 2, 2)', '(3, 2, 6)', '(3, 2, 8)', '(3, 2, 8)', '(3, 2, 8)', '(3, 2, 8)', '(3, 2, 77)', '(4, 3, 69)', '(4, 3, 80)', '(5, 1, 39)', '(5, 4, 6)', '(5, 5, 28)'] \n",
      "\n",
      "References to 'death' in \"MacBeth\":\n",
      "\t ['(1, 2, 16)', '(1, 3, 27)', '(1, 3, 35)', '(1, 4, 2)', '(1, 7, 10)', '(1, 7, 12)', '(2, 2, 1)', '(2, 2, 20)', '(2, 3, 20)', '(2, 3, 28)', '(2, 3, 28)', '(3, 1, 22)', '(3, 4, 12)', '(3, 5, 2)', '(3, 5, 2)', '(4, 3, 53)', '(5, 3, 19)', '(5, 5, 5)', '(5, 6, 3)', '(5, 8, 18)'] \n",
      "\n",
      "References to 'death' in \"The Merchant of Venice\":\n",
      "\t ['(1, 2, 6)', '(1, 2, 11)', '(3, 1, 3)', '(3, 2, 9)', '(3, 2, 45)', '(4, 1, 24)', '(4, 1, 71)', '(4, 1, 76)', '(4, 1, 112)', '(5, 1, 50)', '(5, 1, 87)'] \n",
      "\n",
      "References to 'death' in \"Othello\":\n",
      "\t ['(1, 3, 71)', '(2, 1, 15)', '(2, 1, 68)', '(2, 3, 60)', '(3, 3, 96)', '(3, 3, 162)', '(4, 2, 101)', '(5, 1, 21)', '(5, 2, 20)', '(5, 2, 25)', '(5, 2, 57)', '(5, 2, 72)', '(5, 2, 156)', '(5, 2, 164)'] \n",
      "\n",
      "References to 'death' in \"Romeo and Juliet\":\n",
      "\t ['(1, 1, 42)', '(1, 1, 51)', '(1, 4, 27)', '(2, 2, 12)', '(2, 2, 17)', '(2, 3, 1)', '(2, 5, 10)', '(2, 6, 2)', '(3, 1, 36)', '(3, 1, 46)', '(3, 1, 56)', '(3, 2, 7)', '(3, 2, 19)', '(3, 2, 19)', '(3, 2, 19)', '(3, 2, 19)', '(3, 2, 21)', '(3, 3, 5)', '(3, 3, 6)', '(3, 3, 6)', '(3, 3, 8)', '(3, 3, 8)', '(3, 3, 9)', '(3, 3, 9)', '(3, 3, 10)', '(3, 3, 10)', '(3, 3, 28)', '(3, 3, 32)', '(3, 5, 4)', '(3, 5, 4)', '(3, 5, 23)', '(3, 5, 27)', '(3, 5, 32)', '(4, 1, 4)', '(4, 1, 28)', '(4, 1, 28)', '(4, 1, 30)', '(4, 1, 30)', '(4, 1, 30)', '(4, 3, 5)', '(4, 5, 17)', '(4, 5, 19)', '(4, 5, 19)', '(4, 5, 21)', '(5, 1, 7)', '(5, 1, 10)', '(5, 3, 4)', '(5, 3, 8)', '(5, 3, 9)', '(5, 3, 15)', '(5, 3, 15)', '(5, 3, 15)', '(5, 3, 15)', '(5, 3, 15)', '(5, 3, 25)', '(5, 3, 30)', '(5, 3, 48)', '(5, 3, 53)', '(5, 3, 56)', '(5, 3, 56)', '(5, 3, 58)', '(5, 3, 58)', '(5, 3, 61)'] \n",
      "\n"
     ]
    }
   ],
   "source": [
    "find_in_shakespeare('death')"
   ],
   "metadata": {
    "collapsed": false,
    "pycharm": {
     "name": "#%%\n"
    }
   }
  },
  {
   "cell_type": "code",
   "execution_count": 36,
   "outputs": [
    {
     "name": "stdout",
     "output_type": "stream",
     "text": [
      "The format for the references is [(A, S, P)], with A, S, P being respectively the Act, Scene, and Speech of the play.\n",
      "\n",
      "References to 'Romans' in \"Anthony and Cleopatra\":\n",
      "\t ['(3, 2, 20)'] \n",
      "\n",
      "References to 'Romans' in \"A Midsummer Night's Dream\":\n",
      "\t [] \n",
      "\n",
      "References to 'Romans' in \"Hamlet\":\n",
      "\t [] \n",
      "\n",
      "References to 'Romans' in \"Julius Caesar\":\n",
      "\t ['(1, 2, 36)', '(1, 3, 19)', '(1, 3, 23)', '(1, 3, 23)', '(1, 3, 25)', '(2, 1, 35)', '(2, 1, 59)', '(2, 1, 79)', '(2, 2, 20)', '(2, 2, 21)', '(3, 1, 52)', '(3, 2, 6)', '(3, 2, 28)', '(3, 2, 30)', '(5, 3, 32)', '(5, 3, 32)', '(5, 3, 32)'] \n",
      "\n",
      "References to 'Romans' in \"MacBeth\":\n",
      "\t [] \n",
      "\n",
      "References to 'Romans' in \"The Merchant of Venice\":\n",
      "\t [] \n",
      "\n",
      "References to 'Romans' in \"Othello\":\n",
      "\t [] \n",
      "\n",
      "References to 'Romans' in \"Romeo and Juliet\":\n",
      "\t [] \n",
      "\n"
     ]
    }
   ],
   "source": [
    "find_in_shakespeare('Romans')"
   ],
   "metadata": {
    "collapsed": false,
    "pycharm": {
     "name": "#%%\n"
    }
   }
  },
  {
   "cell_type": "code",
   "execution_count": 37,
   "outputs": [
    {
     "name": "stdout",
     "output_type": "stream",
     "text": [
      "The format for the references is [(A, S, P)], with A, S, P being respectively the Act, Scene, and Speech of the play.\n",
      "\n",
      "References to 'Venice' in \"Anthony and Cleopatra\":\n",
      "\t [] \n",
      "\n",
      "References to 'Venice' in \"A Midsummer Night's Dream\":\n",
      "\t [] \n",
      "\n",
      "References to 'Venice' in \"Hamlet\":\n",
      "\t [] \n",
      "\n",
      "References to 'Venice' in \"Julius Caesar\":\n",
      "\t [] \n",
      "\n",
      "References to 'Venice' in \"MacBeth\":\n",
      "\t [] \n",
      "\n",
      "References to 'Venice' in \"The Merchant of Venice\":\n",
      "\t ['(1, 1, 25)', '(1, 1, 32)', '(1, 3, 17)', '(2, 8, 5)', '(3, 1, 34)', '(3, 1, 39)', '(3, 2, 34)', '(3, 2, 44)', '(3, 3, 9)', '(3, 4, 7)', '(4, 1, 19)', '(4, 1, 50)', '(4, 1, 54)', '(4, 1, 59)', '(4, 1, 86)', '(4, 1, 86)', '(4, 1, 105)', '(4, 1, 130)', '(5, 1, 5)'] \n",
      "\n",
      "References to 'Venice' in \"Othello\":\n",
      "\t ['(1, 1, 28)', '(2, 1, 6)', '(2, 1, 79)', '(2, 1, 85)', '(2, 3, 98)', '(3, 3, 75)', '(3, 4, 71)', '(4, 1, 103)', '(4, 1, 106)', '(4, 1, 130)', '(4, 1, 138)', '(4, 2, 41)', '(4, 2, 77)', '(4, 2, 95)', '(4, 2, 96)', '(4, 3, 23)', '(5, 1, 58)'] \n",
      "\n",
      "References to 'Venice' in \"Romeo and Juliet\":\n",
      "\t [] \n",
      "\n"
     ]
    }
   ],
   "source": [
    "find_in_shakespeare('Venice')"
   ],
   "metadata": {
    "collapsed": false,
    "pycharm": {
     "name": "#%%\n"
    }
   }
  },
  {
   "cell_type": "code",
   "execution_count": 38,
   "outputs": [],
   "source": [
    "# Exercise: 11-11\n",
    "# Construct a conditional frequency distribution which records the word length for each speech in The Merchant of\n",
    "# Venice, conditioned on the name of the character; e.g., cfd['PORTIA'][12] would give us the number of speeches\n",
    "# by Portia consisting of 12 words.\n",
    "\n",
    "import re\n",
    "from xml.etree.ElementTree import ElementTree\n",
    "from nltk.probability import ConditionalFreqDist\n",
    "\n",
    "merchant_file = nltk.data.find('corpora/shakespeare/merchant.xml')\n",
    "merchant = ElementTree().parse(merchant_file)\n",
    "\n",
    "lines_by_speaker = []\n",
    "\n",
    "tokenizer = nltk.tokenize.RegexpTokenizer(r'\\w+')\n",
    "\n",
    "for act in merchant.findall('ACT'):\n",
    "    for scene in act.findall('SCENE'):\n",
    "        for speech in scene.findall('SPEECH'):\n",
    "            for speaker in speech.findall('SPEAKER'):\n",
    "                tally = 0\n",
    "            for line in speech.findall('LINE'):\n",
    "                if line.text:\n",
    "                    tally += len([w for w in tokenizer.tokenize(line.text)])\n",
    "            lines_by_speaker.append((speaker.text, tally))\n",
    "\n",
    "cfd = ConditionalFreqDist((s, l) for s, l in lines_by_speaker)"
   ],
   "metadata": {
    "collapsed": false,
    "pycharm": {
     "name": "#%%\n"
    }
   }
  },
  {
   "cell_type": "code",
   "execution_count": 39,
   "outputs": [
    {
     "data": {
      "text/plain": "3"
     },
     "execution_count": 39,
     "metadata": {},
     "output_type": "execute_result"
    }
   ],
   "source": [
    "cfd['PORTIA'][12]"
   ],
   "metadata": {
    "collapsed": false,
    "pycharm": {
     "name": "#%%\n"
    }
   }
  },
  {
   "cell_type": "code",
   "execution_count": 40,
   "outputs": [
    {
     "name": "stdout",
     "output_type": "stream",
     "text": [
      "By my troth, Nerissa, my little body is aweary of\n",
      "this great world.\n",
      "**** 13\n",
      "Good sentences and well pronounced.\n",
      "**** 5\n",
      "If to do were as easy as to know what were good to\n",
      "do, chapels had been churches and poor men's\n",
      "cottages princes' palaces. It is a good divine that\n",
      "follows his own instructions: I can easier teach\n",
      "twenty what were good to be done, than be one of the\n",
      "twenty to follow mine own teaching. The brain may\n",
      "devise laws for the blood, but a hot temper leaps\n",
      "o'er a cold decree: such a hare is madness the\n",
      "youth, to skip o'er the meshes of good counsel the\n",
      "cripple. But this reasoning is not in the fashion to\n",
      "choose me a husband. O me, the word 'choose!' I may\n",
      "neither choose whom I would nor refuse whom I\n",
      "dislike; so is the will of a living daughter curbed\n",
      "by the will of a dead father. Is it not hard,\n",
      "Nerissa, that I cannot choose one nor refuse none?\n",
      "**** 152\n",
      "I pray thee, over-name them; and as thou namest\n",
      "them, I will describe them; and, according to my\n",
      "description, level at my affection.\n",
      "**** 24\n",
      "Ay, that's a colt indeed, for he doth nothing but\n",
      "talk of his horse; and he makes it a great\n",
      "appropriation to his own good parts, that he can\n",
      "shoe him himself. I am much afeard my lady his\n",
      "mother played false with a smith.\n",
      "**** 46\n",
      "He doth nothing but frown, as who should say 'If you\n",
      "will not have me, choose:' he hears merry tales and\n",
      "smiles not: I fear he will prove the weeping\n",
      "philosopher when he grows old, being so full of\n",
      "unmannerly sadness in his youth. I had rather be\n",
      "married to a death's-head with a bone in his mouth\n",
      "than to either of these. God defend me from these\n",
      "two!\n",
      "**** 71\n",
      "God made him, and therefore let him pass for a man.\n",
      "In truth, I know it is a sin to be a mocker: but,\n",
      "he! why, he hath a horse better than the\n",
      "Neapolitan's, a better bad habit of frowning than\n",
      "the Count Palatine; he is every man in no man; if a\n",
      "throstle sing, he falls straight a capering: he will\n",
      "fence with his own shadow: if I should marry him, I\n",
      "should marry twenty husbands. If he would despise me\n",
      "I would forgive him, for if he love me to madness, I\n",
      "shall never requite him.\n",
      "**** 99\n",
      "You know I say nothing to him, for he understands\n",
      "not me, nor I him: he hath neither Latin, French,\n",
      "nor Italian, and you will come into the court and\n",
      "swear that I have a poor pennyworth in the English.\n",
      "He is a proper man's picture, but, alas, who can\n",
      "converse with a dumb-show? How oddly he is suited!\n",
      "I think he bought his doublet in Italy, his round\n",
      "hose in France, his bonnet in Germany and his\n",
      "behavior every where.\n",
      "**** 83\n",
      "That he hath a neighbourly charity in him, for he\n",
      "borrowed a box of the ear of the Englishman and\n",
      "swore he would pay him again when he was able: I\n",
      "think the Frenchman became his surety and sealed\n",
      "under for another.\n",
      "**** 42\n",
      "Very vilely in the morning, when he is sober, and\n",
      "most vilely in the afternoon, when he is drunk: when\n",
      "he is best, he is a little worse than a man, and\n",
      "when he is worst, he is little better than a beast:\n",
      "and the worst fall that ever fell, I hope I shall\n",
      "make shift to go without him.\n",
      "**** 60\n",
      "Therefore, for fear of the worst, I pray thee, set a\n",
      "deep glass of rhenish wine on the contrary casket,\n",
      "for if the devil be within and that temptation\n",
      "without, I know he will choose it. I will do any\n",
      "thing, Nerissa, ere I'll be married to a sponge.\n",
      "**** 50\n",
      "If I live to be as old as Sibylla, I will die as\n",
      "chaste as Diana, unless I be obtained by the manner\n",
      "of my father's will. I am glad this parcel of wooers\n",
      "are so reasonable, for there is not one among them\n",
      "but I dote on his very absence, and I pray God grant\n",
      "them a fair departure.\n",
      "**** 61\n",
      "Yes, yes, it was Bassanio; as I think, he was so called.\n",
      "**** 12\n",
      "I remember him well, and I remember him worthy of\n",
      "thy praise.\n",
      "How now! what news?\n",
      "**** 16\n",
      "If I could bid the fifth welcome with so good a\n",
      "heart as I can bid the other four farewell, I should\n",
      "be glad of his approach: if he have the condition\n",
      "of a saint and the complexion of a devil, I had\n",
      "rather he should shrive me than wive me. Come,\n",
      "Nerissa. Sirrah, go before.\n",
      "Whiles we shut the gates\n",
      "upon one wooer, another knocks at the door.\n",
      "**** 69\n",
      "In terms of choice I am not solely led\n",
      "By nice direction of a maiden's eyes;\n",
      "Besides, the lottery of my destiny\n",
      "Bars me the right of voluntary choosing:\n",
      "But if my father had not scanted me\n",
      "And hedged me by his wit, to yield myself\n",
      "His wife who wins me by that means I told you,\n",
      "Yourself, renowned prince, then stood as fair\n",
      "As any comer I have look'd on yet\n",
      "For my affection.\n",
      "**** 77\n",
      "You must take your chance,\n",
      "And either not attempt to choose at all\n",
      "Or swear before you choose, if you choose wrong\n",
      "Never to speak to lady afterward\n",
      "In way of marriage: therefore be advised.\n",
      "**** 35\n",
      "First, forward to the temple: after dinner\n",
      "Your hazard shall be made.\n",
      "**** 12\n",
      "Go draw aside the curtains and discover\n",
      "The several caskets to this noble prince.\n",
      "Now make your choice.\n",
      "**** 18\n",
      "The one of them contains my picture, prince:\n",
      "If you choose that, then I am yours withal.\n",
      "**** 17\n",
      "There, take it, prince; and if my form lie there,\n",
      "Then I am yours.\n",
      "**** 14\n",
      "A gentle riddance. Draw the curtains, go.\n",
      "Let all of his complexion choose me so.\n",
      "**** 15\n",
      "Behold, there stand the caskets, noble prince:\n",
      "If you choose that wherein I am contain'd,\n",
      "Straight shall our nuptial rites be solemnized:\n",
      "But if you fail, without more speech, my lord,\n",
      "You must be gone from hence immediately.\n",
      "**** 39\n",
      "To these injunctions every one doth swear\n",
      "That comes to hazard for my worthless self.\n",
      "**** 15\n",
      "Too long a pause for that which you find there.\n",
      "**** 10\n",
      "To offend, and judge, are distinct offices\n",
      "And of opposed natures.\n",
      "**** 11\n",
      "Thus hath the candle singed the moth.\n",
      "O, these deliberate fools! when they do choose,\n",
      "They have the wisdom by their wit to lose.\n",
      "**** 24\n",
      "Come, draw the curtain, Nerissa.\n",
      "**** 5\n",
      "Here: what would my lord?\n",
      "**** 5\n",
      "No more, I pray thee: I am half afeard\n",
      "Thou wilt say anon he is some kin to thee,\n",
      "Thou spend'st such high-day wit in praising him.\n",
      "Come, come, Nerissa; for I long to see\n",
      "Quick Cupid's post that comes so mannerly.\n",
      "**** 45\n",
      "I pray you, tarry: pause a day or two\n",
      "Before you hazard; for, in choosing wrong,\n",
      "I lose your company: therefore forbear awhile.\n",
      "There's something tells me, but it is not love,\n",
      "I would not lose you; and you know yourself,\n",
      "Hate counsels not in such a quality.\n",
      "But lest you should not understand me well,--\n",
      "And yet a maiden hath no tongue but thought,--\n",
      "I would detain you here some month or two\n",
      "Before you venture for me. I could teach you\n",
      "How to choose right, but I am then forsworn;\n",
      "So will I never be: so may you miss me;\n",
      "But if you do, you'll make me wish a sin,\n",
      "That I had been forsworn. Beshrew your eyes,\n",
      "They have o'erlook'd me and divided me;\n",
      "One half of me is yours, the other half yours,\n",
      "Mine own, I would say; but if mine, then yours,\n",
      "And so all yours. O, these naughty times\n",
      "Put bars between the owners and their rights!\n",
      "And so, though yours, not yours. Prove it so,\n",
      "Let fortune go to hell for it, not I.\n",
      "I speak too long; but 'tis to peize the time,\n",
      "To eke it and to draw it out in length,\n",
      "To stay you from election.\n",
      "**** 210\n",
      "Upon the rack, Bassanio! then confess\n",
      "What treason there is mingled with your love.\n",
      "**** 14\n",
      "Ay, but I fear you speak upon the rack,\n",
      "Where men enforced do speak anything.\n",
      "**** 15\n",
      "Well then, confess and live.\n",
      "**** 5\n",
      "Away, then! I am lock'd in one of them:\n",
      "If you do love me, you will find me out.\n",
      "Nerissa and the rest, stand all aloof.\n",
      "Let music sound while he doth make his choice;\n",
      "Then, if he lose, he makes a swan-like end,\n",
      "Fading in music: that the comparison\n",
      "May stand more proper, my eye shall be the stream\n",
      "And watery death-bed for him. He may win;\n",
      "And what is music then? Then music is\n",
      "Even as the flourish when true subjects bow\n",
      "To a new-crowned monarch: such it is\n",
      "As are those dulcet sounds in break of day\n",
      "That creep into the dreaming bridegroom's ear,\n",
      "And summon him to marriage. Now he goes,\n",
      "With no less presence, but with much more love,\n",
      "Than young Alcides, when he did redeem\n",
      "The virgin tribute paid by howling Troy\n",
      "To the sea-monster: I stand for sacrifice\n",
      "The rest aloof are the Dardanian wives,\n",
      "With bleared visages, come forth to view\n",
      "The issue of the exploit. Go, Hercules!\n",
      "Live thou, I live: with much, much more dismay\n",
      "I view the fight than thou that makest the fray.\n",
      "Tell me where is fancy bred,\n",
      "Or in the heart, or in the head?\n",
      "How begot, how nourished?\n",
      "Reply, reply.\n",
      "It is engender'd in the eyes,\n",
      "With gazing fed; and fancy dies\n",
      "In the cradle where it lies.\n",
      "Let us all ring fancy's knell\n",
      "I'll begin it,--Ding, dong, bell.\n",
      "**** 244\n",
      "As doubtful thoughts, and rash-embraced despair,\n",
      "And shuddering fear, and green-eyed jealousy! O love,\n",
      "Be moderate; allay thy ecstasy,\n",
      "In measure rein thy joy; scant this excess.\n",
      "I feel too much thy blessing: make it less,\n",
      "For fear I surfeit.\n",
      "**** 42\n",
      "You see me, Lord Bassanio, where I stand,\n",
      "Such as I am: though for myself alone\n",
      "I would not be ambitious in my wish,\n",
      "To wish myself much better; yet, for you\n",
      "I would be trebled twenty times myself;\n",
      "A thousand times more fair, ten thousand times more rich;\n",
      "That only to stand high in your account,\n",
      "I might in virtue, beauties, livings, friends,\n",
      "Exceed account; but the full sum of me\n",
      "Is sum of something, which, to term in gross,\n",
      "Is an unlesson'd girl, unschool'd, unpractised;\n",
      "Happy in this, she is not yet so old\n",
      "But she may learn; happier than this,\n",
      "She is not bred so dull but she can learn;\n",
      "Happiest of all is that her gentle spirit\n",
      "Commits itself to yours to be directed,\n",
      "As from her lord, her governor, her king.\n",
      "Myself and what is mine to you and yours\n",
      "Is now converted: but now I was the lord\n",
      "Of this fair mansion, master of my servants,\n",
      "Queen o'er myself: and even now, but now,\n",
      "This house, these servants and this same myself\n",
      "Are yours, my lord: I give them with this ring;\n",
      "Which when you part from, lose, or give away,\n",
      "Let it presage the ruin of your love\n",
      "And be my vantage to exclaim on you.\n",
      "**** 216\n",
      "Is this true, Nerissa?\n",
      "**** 4\n",
      "So do I, my lord:\n",
      "They are entirely welcome.\n",
      "**** 9\n",
      "There are some shrewd contents in yon same paper,\n",
      "That steals the colour from Bassanio's cheek:\n",
      "Some dear friend dead; else nothing in the world\n",
      "Could turn so much the constitution\n",
      "Of any constant man. What, worse and worse!\n",
      "With leave, Bassanio: I am half yourself,\n",
      "And I must freely have the half of anything\n",
      "That this same paper brings you.\n",
      "**** 62\n",
      "Is it your dear friend that is thus in trouble?\n",
      "**** 10\n",
      "What sum owes he the Jew?\n",
      "**** 6\n",
      "What, no more?\n",
      "Pay him six thousand, and deface the bond;\n",
      "Double six thousand, and then treble that,\n",
      "Before a friend of this description\n",
      "Shall lose a hair through Bassanio's fault.\n",
      "First go with me to church and call me wife,\n",
      "And then away to Venice to your friend;\n",
      "For never shall you lie by Portia's side\n",
      "With an unquiet soul. You shall have gold\n",
      "To pay the petty debt twenty times over:\n",
      "When it is paid, bring your true friend along.\n",
      "My maid Nerissa and myself meantime\n",
      "Will live as maids and widows. Come, away!\n",
      "For you shall hence upon your wedding-day:\n",
      "Bid your friends welcome, show a merry cheer:\n",
      "Since you are dear bought, I will love you dear.\n",
      "But let me hear the letter of your friend.\n",
      "**** 133\n",
      "O love, dispatch all business, and be gone!\n",
      "**** 8\n",
      "I never did repent for doing good,\n",
      "Nor shall not now: for in companions\n",
      "That do converse and waste the time together,\n",
      "Whose souls do bear an equal yoke Of love,\n",
      "There must be needs a like proportion\n",
      "Of lineaments, of manners and of spirit;\n",
      "Which makes me think that this Antonio,\n",
      "Being the bosom lover of my lord,\n",
      "Must needs be like my lord. If it be so,\n",
      "How little is the cost I have bestow'd\n",
      "In purchasing the semblance of my soul\n",
      "From out the state of hellish misery!\n",
      "This comes too near the praising of myself;\n",
      "Therefore no more of it: hear other things.\n",
      "Lorenzo, I commit into your hands\n",
      "The husbandry and manage of my house\n",
      "Until my lord's return: for mine own part,\n",
      "I have toward heaven breathed a secret vow\n",
      "To live in prayer and contemplation,\n",
      "Only attended by Nerissa here,\n",
      "Until her husband and my lord's return:\n",
      "There is a monastery two miles off;\n",
      "And there will we abide. I do desire you\n",
      "Not to deny this imposition;\n",
      "The which my love and some necessity\n",
      "Now lays upon you.\n",
      "**** 189\n",
      "My people do already know my mind,\n",
      "And will acknowledge you and Jessica\n",
      "In place of Lord Bassanio and myself.\n",
      "And so farewell, till we shall meet again.\n",
      "**** 28\n",
      "I thank you for your wish, and am well pleased\n",
      "To wish it back on you: fare you well Jessica.\n",
      "Now, Balthasar,\n",
      "As I have ever found thee honest-true,\n",
      "So let me find thee still. Take this same letter,\n",
      "And use thou all the endeavour of a man\n",
      "In speed to Padua: see thou render this\n",
      "Into my cousin's hand, Doctor Bellario;\n",
      "And, look, what notes and garments he doth give thee,\n",
      "Bring them, I pray thee, with imagined speed\n",
      "Unto the tranect, to the common ferry\n",
      "Which trades to Venice. Waste no time in words,\n",
      "But get thee gone: I shall be there before thee.\n",
      "**** 108\n",
      "Come on, Nerissa; I have work in hand\n",
      "That you yet know not of: we'll see our husbands\n",
      "Before they think of us.\n",
      "**** 24\n",
      "They shall, Nerissa; but in such a habit,\n",
      "That they shall think we are accomplished\n",
      "With that we lack. I'll hold thee any wager,\n",
      "When we are both accoutred like young men,\n",
      "I'll prove the prettier fellow of the two,\n",
      "And wear my dagger with the braver grace,\n",
      "And speak between the change of man and boy\n",
      "With a reed voice, and turn two mincing steps\n",
      "Into a manly stride, and speak of frays\n",
      "Like a fine bragging youth, and tell quaint lies,\n",
      "How honourable ladies sought my love,\n",
      "Which I denying, they fell sick and died;\n",
      "I could not do withal; then I'll repent,\n",
      "And wish for all that, that I had not killed them;\n",
      "And twenty of these puny lies I'll tell,\n",
      "That men shall swear I have discontinued school\n",
      "Above a twelvemonth. I have within my mind\n",
      "A thousand raw tricks of these bragging Jacks,\n",
      "Which I will practise.\n",
      "**** 156\n",
      "Fie, what a question's that,\n",
      "If thou wert near a lewd interpreter!\n",
      "But come, I'll tell thee all my whole device\n",
      "When I am in my coach, which stays for us\n",
      "At the park gate; and therefore haste away,\n",
      "For we must measure twenty miles to-day.\n",
      "**** 49\n",
      "I did, my lord.\n",
      "**** 4\n",
      "I am informed thoroughly of the cause.\n",
      "Which is the merchant here, and which the Jew?\n",
      "**** 16\n",
      "Is your name Shylock?\n",
      "**** 4\n",
      "Of a strange nature is the suit you follow;\n",
      "Yet in such rule that the Venetian law\n",
      "Cannot impugn you as you do proceed.\n",
      "You stand within his danger, do you not?\n",
      "**** 32\n",
      "Do you confess the bond?\n",
      "**** 5\n",
      "Then must the Jew be merciful.\n",
      "**** 6\n",
      "The quality of mercy is not strain'd,\n",
      "It droppeth as the gentle rain from heaven\n",
      "Upon the place beneath: it is twice blest;\n",
      "It blesseth him that gives and him that takes:\n",
      "'Tis mightiest in the mightiest: it becomes\n",
      "The throned monarch better than his crown;\n",
      "His sceptre shows the force of temporal power,\n",
      "The attribute to awe and majesty,\n",
      "Wherein doth sit the dread and fear of kings;\n",
      "But mercy is above this sceptred sway;\n",
      "It is enthroned in the hearts of kings,\n",
      "It is an attribute to God himself;\n",
      "And earthly power doth then show likest God's\n",
      "When mercy seasons justice. Therefore, Jew,\n",
      "Though justice be thy plea, consider this,\n",
      "That, in the course of justice, none of us\n",
      "Should see salvation: we do pray for mercy;\n",
      "And that same prayer doth teach us all to render\n",
      "The deeds of mercy. I have spoke thus much\n",
      "To mitigate the justice of thy plea;\n",
      "Which if thou follow, this strict court of Venice\n",
      "Must needs give sentence 'gainst the merchant there.\n",
      "**** 174\n",
      "Is he not able to discharge the money?\n",
      "**** 8\n",
      "It must not be; there is no power in Venice\n",
      "Can alter a decree established:\n",
      "'Twill be recorded for a precedent,\n",
      "And many an error by the same example\n",
      "Will rush into the state: it cannot be.\n",
      "**** 37\n",
      "I pray you, let me look upon the bond.\n",
      "**** 9\n",
      "Shylock, there's thrice thy money offer'd thee.\n",
      "**** 9\n",
      "Why, this bond is forfeit;\n",
      "And lawfully by this the Jew may claim\n",
      "A pound of flesh, to be by him cut off\n",
      "Nearest the merchant's heart. Be merciful:\n",
      "Take thrice thy money; bid me tear the bond.\n",
      "**** 39\n",
      "Why then, thus it is:\n",
      "You must prepare your bosom for his knife.\n",
      "**** 13\n",
      "For the intent and purpose of the law\n",
      "Hath full relation to the penalty,\n",
      "Which here appeareth due upon the bond.\n",
      "**** 21\n",
      "Therefore lay bare your bosom.\n",
      "**** 5\n",
      "It is so. Are there balance here to weigh\n",
      "The flesh?\n",
      "**** 11\n",
      "Have by some surgeon, Shylock, on your charge,\n",
      "To stop his wounds, lest he do bleed to death.\n",
      "**** 18\n",
      "It is not so express'd: but what of that?\n",
      "'Twere good you do so much for charity.\n",
      "**** 18\n",
      "You, merchant, have you any thing to say?\n",
      "**** 8\n",
      "Your wife would give you little thanks for that,\n",
      "If she were by, to hear you make the offer.\n",
      "**** 19\n",
      "A pound of that same merchant's flesh is thine:\n",
      "The court awards it, and the law doth give it.\n",
      "**** 20\n",
      "And you must cut this flesh from off his breast:\n",
      "The law allows it, and the court awards it.\n",
      "**** 19\n",
      "Tarry a little; there is something else.\n",
      "This bond doth give thee here no jot of blood;\n",
      "The words expressly are 'a pound of flesh:'\n",
      "Take then thy bond, take thou thy pound of flesh;\n",
      "But, in the cutting it, if thou dost shed\n",
      "One drop of Christian blood, thy lands and goods\n",
      "Are, by the laws of Venice, confiscate\n",
      "Unto the state of Venice.\n",
      "**** 65\n",
      "Thyself shalt see the act:\n",
      "For, as thou urgest justice, be assured\n",
      "Thou shalt have justice, more than thou desirest.\n",
      "**** 20\n",
      "Soft!\n",
      "The Jew shall have all justice; soft! no haste:\n",
      "He shall have nothing but the penalty.\n",
      "**** 17\n",
      "Therefore prepare thee to cut off the flesh.\n",
      "Shed thou no blood, nor cut thou less nor more\n",
      "But just a pound of flesh: if thou cut'st more\n",
      "Or less than a just pound, be it but so much\n",
      "As makes it light or heavy in the substance,\n",
      "Or the division of the twentieth part\n",
      "Of one poor scruple, nay, if the scale do turn\n",
      "But in the estimation of a hair,\n",
      "Thou diest and all thy goods are confiscate.\n",
      "**** 81\n",
      "Why doth the Jew pause? take thy forfeiture.\n",
      "**** 8\n",
      "He hath refused it in the open court:\n",
      "He shall have merely justice and his bond.\n",
      "**** 16\n",
      "Thou shalt have nothing but the forfeiture,\n",
      "To be so taken at thy peril, Jew.\n",
      "**** 15\n",
      "Tarry, Jew:\n",
      "The law hath yet another hold on you.\n",
      "It is enacted in the laws of Venice,\n",
      "If it be proved against an alien\n",
      "That by direct or indirect attempts\n",
      "He seek the life of any citizen,\n",
      "The party 'gainst the which he doth contrive\n",
      "Shall seize one half his goods; the other half\n",
      "Comes to the privy coffer of the state;\n",
      "And the offender's life lies in the mercy\n",
      "Of the duke only, 'gainst all other voice.\n",
      "In which predicament, I say, thou stand'st;\n",
      "For it appears, by manifest proceeding,\n",
      "That indirectly and directly too\n",
      "Thou hast contrived against the very life\n",
      "Of the defendant; and thou hast incurr'd\n",
      "The danger formerly by me rehearsed.\n",
      "Down therefore and beg mercy of the duke.\n",
      "**** 128\n",
      "Ay, for the state, not for Antonio.\n",
      "**** 7\n",
      "What mercy can you render him, Antonio?\n",
      "**** 7\n",
      "Art thou contented, Jew? what dost thou say?\n",
      "**** 8\n",
      "Clerk, draw a deed of gift.\n",
      "**** 6\n",
      "I humbly do desire your grace of pardon:\n",
      "I must away this night toward Padua,\n",
      "And it is meet I presently set forth.\n",
      "**** 23\n",
      "He is well paid that is well satisfied;\n",
      "And I, delivering you, am satisfied\n",
      "And therein do account myself well paid:\n",
      "My mind was never yet more mercenary.\n",
      "I pray you, know me when we meet again:\n",
      "I wish you well, and so I take my leave.\n",
      "**** 47\n",
      "You press me far, and therefore I will yield.\n",
      "Give me your gloves, I'll wear them for your sake;\n",
      "And, for your love, I'll take this ring from you:\n",
      "Do not draw back your hand; I'll take no more;\n",
      "And you in love shall not deny me this.\n",
      "**** 51\n",
      "I will have nothing else but only this;\n",
      "And now methinks I have a mind to it.\n",
      "**** 17\n",
      "I see, sir, you are liberal in offers\n",
      "You taught me first to beg; and now methinks\n",
      "You teach me how a beggar should be answer'd.\n",
      "**** 27\n",
      "That 'scuse serves many men to save their gifts.\n",
      "An if your wife be not a mad-woman,\n",
      "And know how well I have deserved the ring,\n",
      "She would not hold out enemy for ever,\n",
      "For giving it to me. Well, peace be with you!\n",
      "**** 45\n",
      "Inquire the Jew's house out, give him this deed\n",
      "And let him sign it: we'll away to-night\n",
      "And be a day before our husbands home:\n",
      "This deed will be well welcome to Lorenzo.\n",
      "**** 36\n",
      "That cannot be:\n",
      "His ring I do accept most thankfully:\n",
      "And so, I pray you, tell him: furthermore,\n",
      "I pray you, show my youth old Shylock's house.\n",
      "**** 28\n",
      "We shall have old swearing\n",
      "That they did give the rings away to men;\n",
      "But we'll outface them, and outswear them too.\n",
      "Away! make haste: thou knowist where I will tarry.\n",
      "**** 32\n",
      "That light we see is burning in my hall.\n",
      "How far that little candle throws his beams!\n",
      "So shines a good deed in a naughty world.\n",
      "**** 26\n",
      "So doth the greater glory dim the less:\n",
      "A substitute shines brightly as a king\n",
      "Unto the king be by, and then his state\n",
      "Empties itself, as doth an inland brook\n",
      "Into the main of waters. Music! hark!\n",
      "**** 38\n",
      "Nothing is good, I see, without respect:\n",
      "Methinks it sounds much sweeter than by day.\n",
      "**** 15\n",
      "The crow doth sing as sweetly as the lark,\n",
      "When neither is attended, and I think\n",
      "The nightingale, if she should sing by day,\n",
      "When every goose is cackling, would be thought\n",
      "No better a musician than the wren.\n",
      "How many things by season season'd are\n",
      "To their right praise and true perfection!\n",
      "Peace, ho! the moon sleeps with Endymion\n",
      "And would not be awaked.\n",
      "**** 66\n",
      "He knows me as the blind man knows the cuckoo,\n",
      "By the bad voice.\n",
      "**** 14\n",
      "We have been praying for our husbands' healths,\n",
      "Which speed, we hope, the better for our words.\n",
      "Are they return'd?\n",
      "**** 21\n",
      "Go in, Nerissa;\n",
      "Give order to my servants that they take\n",
      "No note at all of our being absent hence;\n",
      "Nor you, Lorenzo; Jessica, nor you.\n",
      "**** 26\n",
      "This night methinks is but the daylight sick;\n",
      "It looks a little paler: 'tis a day,\n",
      "Such as the day is when the sun is hid.\n",
      "**** 26\n",
      "Let me give light, but let me not be light;\n",
      "For a light wife doth make a heavy husband,\n",
      "And never be Bassanio so for me:\n",
      "But God sort all! You are welcome home, my lord.\n",
      "**** 36\n",
      "You should in all sense be much bound to him.\n",
      "For, as I hear, he was much bound for you.\n",
      "**** 20\n",
      "Sir, you are very welcome to our house:\n",
      "It must appear in other ways than words,\n",
      "Therefore I scant this breathing courtesy.\n",
      "**** 22\n",
      "A quarrel, ho, already! what's the matter?\n",
      "**** 8\n",
      "You were to blame, I must be plain with you,\n",
      "To part so slightly with your wife's first gift:\n",
      "A thing stuck on with oaths upon your finger\n",
      "And so riveted with faith unto your flesh.\n",
      "I gave my love a ring and made him swear\n",
      "Never to part with it; and here he stands;\n",
      "I dare be sworn for him he would not leave it\n",
      "Nor pluck it from his finger, for the wealth\n",
      "That the world masters. Now, in faith, Gratiano,\n",
      "You give your wife too unkind a cause of grief:\n",
      "An 'twere to me, I should be mad at it.\n",
      "**** 104\n",
      "What ring gave you my lord?\n",
      "Not that, I hope, which you received of me.\n",
      "**** 15\n",
      "Even so void is your false heart of truth.\n",
      "By heaven, I will ne'er come in your bed\n",
      "Until I see the ring.\n",
      "**** 24\n",
      "If you had known the virtue of the ring,\n",
      "Or half her worthiness that gave the ring,\n",
      "Or your own honour to contain the ring,\n",
      "You would not then have parted with the ring.\n",
      "What man is there so much unreasonable,\n",
      "If you had pleased to have defended it\n",
      "With any terms of zeal, wanted the modesty\n",
      "To urge the thing held as a ceremony?\n",
      "Nerissa teaches me what to believe:\n",
      "I'll die for't but some woman had the ring.\n",
      "**** 82\n",
      "Let not that doctor e'er come near my house:\n",
      "Since he hath got the jewel that I loved,\n",
      "And that which you did swear to keep for me,\n",
      "I will become as liberal as you;\n",
      "I'll not deny him any thing I have,\n",
      "No, not my body nor my husband's bed:\n",
      "Know him I shall, I am well sure of it:\n",
      "Lie not a night from home; watch me like Argus:\n",
      "If you do not, if I be left alone,\n",
      "Now, by mine honour, which is yet mine own,\n",
      "I'll have that doctor for my bedfellow.\n",
      "**** 100\n",
      "Sir, grieve not you; you are welcome notwithstanding.\n",
      "**** 8\n",
      "Mark you but that!\n",
      "In both my eyes he doubly sees himself;\n",
      "In each eye, one: swear by your double self,\n",
      "And there's an oath of credit.\n",
      "**** 28\n",
      "Then you shall be his surety. Give him this\n",
      "And bid him keep it better than the other.\n",
      "**** 18\n",
      "I had it of him: pardon me, Bassanio;\n",
      "For, by this ring, the doctor lay with me.\n",
      "**** 17\n",
      "Speak not so grossly. You are all amazed:\n",
      "Here is a letter; read it at your leisure;\n",
      "It comes from Padua, from Bellario:\n",
      "There you shall find that Portia was the doctor,\n",
      "Nerissa there her clerk: Lorenzo here\n",
      "Shall witness I set forth as soon as you\n",
      "And even but now return'd; I have not yet\n",
      "Enter'd my house. Antonio, you are welcome;\n",
      "And I have better news in store for you\n",
      "Than you expect: unseal this letter soon;\n",
      "There you shall find three of your argosies\n",
      "Are richly come to harbour suddenly:\n",
      "You shall not know by what strange accident\n",
      "I chanced on this letter.\n",
      "**** 108\n",
      "How now, Lorenzo!\n",
      "My clerk hath some good comforts too for you.\n",
      "**** 12\n",
      "It is almost morning,\n",
      "And yet I am sure you are not satisfied\n",
      "Of these events at full. Let us go in;\n",
      "And charge us there upon inter'gatories,\n",
      "And we will answer all things faithfully.\n",
      "**** 36\n"
     ]
    }
   ],
   "source": [
    "for act in merchant.findall('ACT'):\n",
    "    for scene in act.findall('SCENE'):\n",
    "        for speech in scene.findall('SPEECH'):\n",
    "            for speaker in speech.findall('SPEAKER'):\n",
    "                if speaker.text == 'PORTIA':\n",
    "                    tally = 0\n",
    "                    for line in speech.findall('LINE'):\n",
    "                        if line.text:\n",
    "                            print(line.text)\n",
    "                            tally += len([w for w in tokenizer.tokenize(line.text)])\n",
    "                    print('****', str(tally))"
   ],
   "metadata": {
    "collapsed": false,
    "pycharm": {
     "name": "#%%\n"
    }
   }
  },
  {
   "cell_type": "code",
   "execution_count": 41,
   "outputs": [],
   "source": [
    "# Exercise: 11-12\n",
    "# Write a recursive function to produce an XML representation for a tree, with non-terminals represented as XML\n",
    "# elements, and leaves represented as text content, e.g.:\n",
    "\n",
    "import re\n",
    "\n",
    "def parse_to_xml(tree, indent = \"  \"):\n",
    "    \"\"\"\n",
    "    Converts parsed sentence to xml string.\n",
    "    \"\"\"\n",
    "    # terminals\n",
    "    if tree.height() == 2:\n",
    "        print(\"{}<{}>{}</{}>\".format(indent, tree.label(),\n",
    "                                      tree.leaves()[0], tree.label()))\n",
    "    # non-terminals\n",
    "    else:\n",
    "        # if label has hyphens, they are to be replaced as 'type ='\n",
    "        if '-' in tree.label():\n",
    "            pattern = re.compile(r\"(\\w+)-(\\w+)\")\n",
    "            tag = re.findall(pattern, tree.label())[0]\n",
    "            full_tag = '{} type=\"{}\"'.format(tag[0], tag[1])\n",
    "        else:\n",
    "            full_tag = tree.label()\n",
    "\n",
    "        print(\"{}<{}>\".format(indent, full_tag))\n",
    "        for child in tree:\n",
    "            parse_to_xml(child, indent = indent + \"  \")\n",
    "        print('{}</{}>'.format(indent, full_tag))"
   ],
   "metadata": {
    "collapsed": false,
    "pycharm": {
     "name": "#%%\n"
    }
   }
  },
  {
   "cell_type": "code",
   "execution_count": 42,
   "outputs": [
    {
     "name": "stdout",
     "output_type": "stream",
     "text": [
      "  <S>\n",
      "    <NP type=\"SBJ\">\n",
      "      <NP>\n",
      "        <NNP>Pierre</NNP>\n",
      "        <NNP>Vinken</NNP>\n",
      "      </NP>\n",
      "      <,>,</,>\n",
      "      <ADJP>\n",
      "        <NP>\n",
      "          <CD>61</CD>\n",
      "          <NNS>years</NNS>\n",
      "        </NP>\n",
      "        <JJ>old</JJ>\n",
      "      </ADJP>\n",
      "      <,>,</,>\n",
      "    </NP type=\"SBJ\">\n",
      "    <VP>\n",
      "      <MD>will</MD>\n",
      "      <VP>\n",
      "        <VB>join</VB>\n",
      "        <NP>\n",
      "          <DT>the</DT>\n",
      "          <NN>board</NN>\n",
      "        </NP>\n",
      "        <PP type=\"CLR\">\n",
      "          <IN>as</IN>\n",
      "          <NP>\n",
      "            <DT>a</DT>\n",
      "            <JJ>nonexecutive</JJ>\n",
      "            <NN>director</NN>\n",
      "          </NP>\n",
      "        </PP type=\"CLR\">\n",
      "        <NP type=\"TMP\">\n",
      "          <NNP>Nov.</NNP>\n",
      "          <CD>29</CD>\n",
      "        </NP type=\"TMP\">\n",
      "      </VP>\n",
      "    </VP>\n",
      "    <.>.</.>\n",
      "  </S>\n",
      "  <S>\n",
      "    <NP type=\"SBJ\">\n",
      "      <NNP>Mr.</NNP>\n",
      "      <NNP>Vinken</NNP>\n",
      "    </NP type=\"SBJ\">\n",
      "    <VP>\n",
      "      <VBZ>is</VBZ>\n",
      "      <NP type=\"PRD\">\n",
      "        <NP>\n",
      "          <NN>chairman</NN>\n",
      "        </NP>\n",
      "        <PP>\n",
      "          <IN>of</IN>\n",
      "          <NP>\n",
      "            <NP>\n",
      "              <NNP>Elsevier</NNP>\n",
      "              <NNP>N.V.</NNP>\n",
      "            </NP>\n",
      "            <,>,</,>\n",
      "            <NP>\n",
      "              <DT>the</DT>\n",
      "              <NNP>Dutch</NNP>\n",
      "              <VBG>publishing</VBG>\n",
      "              <NN>group</NN>\n",
      "            </NP>\n",
      "          </NP>\n",
      "        </PP>\n",
      "      </NP type=\"PRD\">\n",
      "    </VP>\n",
      "    <.>.</.>\n",
      "  </S>\n",
      "  <S>\n",
      "    <NP type=\"SBJ\">\n",
      "      <NP>\n",
      "        <NNP>Rudolph</NNP>\n",
      "        <NNP>Agnew</NNP>\n",
      "      </NP>\n",
      "      <,>,</,>\n",
      "      <UCP>\n",
      "        <ADJP>\n",
      "          <NP>\n",
      "            <CD>55</CD>\n",
      "            <NNS>years</NNS>\n",
      "          </NP>\n",
      "          <JJ>old</JJ>\n",
      "        </ADJP>\n",
      "        <CC>and</CC>\n",
      "        <NP>\n",
      "          <NP>\n",
      "            <JJ>former</JJ>\n",
      "            <NN>chairman</NN>\n",
      "          </NP>\n",
      "          <PP>\n",
      "            <IN>of</IN>\n",
      "            <NP>\n",
      "              <NNP>Consolidated</NNP>\n",
      "              <NNP>Gold</NNP>\n",
      "              <NNP>Fields</NNP>\n",
      "              <NNP>PLC</NNP>\n",
      "            </NP>\n",
      "          </PP>\n",
      "        </NP>\n",
      "      </UCP>\n",
      "      <,>,</,>\n",
      "    </NP type=\"SBJ\">\n",
      "    <VP>\n",
      "      <VBD>was</VBD>\n",
      "      <VP>\n",
      "        <VBN>named</VBN>\n",
      "        <S>\n",
      "          <NP type=\"SBJ\">\n",
      "            <-NONE->*-1</-NONE->\n",
      "          </NP type=\"SBJ\">\n",
      "          <NP type=\"PRD\">\n",
      "            <NP>\n",
      "              <DT>a</DT>\n",
      "              <JJ>nonexecutive</JJ>\n",
      "              <NN>director</NN>\n",
      "            </NP>\n",
      "            <PP>\n",
      "              <IN>of</IN>\n",
      "              <NP>\n",
      "                <DT>this</DT>\n",
      "                <JJ>British</JJ>\n",
      "                <JJ>industrial</JJ>\n",
      "                <NN>conglomerate</NN>\n",
      "              </NP>\n",
      "            </PP>\n",
      "          </NP type=\"PRD\">\n",
      "        </S>\n",
      "      </VP>\n",
      "    </VP>\n",
      "    <.>.</.>\n",
      "  </S>\n",
      "  <S>\n",
      "    <S type=\"TPC\">\n",
      "      <NP type=\"SBJ\">\n",
      "        <NP>\n",
      "          <NP>\n",
      "            <DT>A</DT>\n",
      "            <NN>form</NN>\n",
      "          </NP>\n",
      "          <PP>\n",
      "            <IN>of</IN>\n",
      "            <NP>\n",
      "              <NN>asbestos</NN>\n",
      "            </NP>\n",
      "          </PP>\n",
      "        </NP>\n",
      "        <RRC>\n",
      "          <ADVP type=\"TMP\">\n",
      "            <RB>once</RB>\n",
      "          </ADVP type=\"TMP\">\n",
      "          <VP>\n",
      "            <VBN>used</VBN>\n",
      "            <NP>\n",
      "              <-NONE->*</-NONE->\n",
      "            </NP>\n",
      "            <S type=\"CLR\">\n",
      "              <NP type=\"SBJ\">\n",
      "                <-NONE->*</-NONE->\n",
      "              </NP type=\"SBJ\">\n",
      "              <VP>\n",
      "                <TO>to</TO>\n",
      "                <VP>\n",
      "                  <VB>make</VB>\n",
      "                  <NP>\n",
      "                    <NNP>Kent</NNP>\n",
      "                    <NN>cigarette</NN>\n",
      "                    <NNS>filters</NNS>\n",
      "                  </NP>\n",
      "                </VP>\n",
      "              </VP>\n",
      "            </S type=\"CLR\">\n",
      "          </VP>\n",
      "        </RRC>\n",
      "      </NP type=\"SBJ\">\n",
      "      <VP>\n",
      "        <VBZ>has</VBZ>\n",
      "        <VP>\n",
      "          <VBN>caused</VBN>\n",
      "          <NP>\n",
      "            <NP>\n",
      "              <DT>a</DT>\n",
      "              <JJ>high</JJ>\n",
      "              <NN>percentage</NN>\n",
      "            </NP>\n",
      "            <PP>\n",
      "              <IN>of</IN>\n",
      "              <NP>\n",
      "                <NN>cancer</NN>\n",
      "                <NNS>deaths</NNS>\n",
      "              </NP>\n",
      "            </PP>\n",
      "            <PP type=\"LOC\">\n",
      "              <IN>among</IN>\n",
      "              <NP>\n",
      "                <NP>\n",
      "                  <DT>a</DT>\n",
      "                  <NN>group</NN>\n",
      "                </NP>\n",
      "                <PP>\n",
      "                  <IN>of</IN>\n",
      "                  <NP>\n",
      "                    <NP>\n",
      "                      <NNS>workers</NNS>\n",
      "                    </NP>\n",
      "                    <RRC>\n",
      "                      <VP>\n",
      "                        <VBN>exposed</VBN>\n",
      "                        <NP>\n",
      "                          <-NONE->*</-NONE->\n",
      "                        </NP>\n",
      "                        <PP type=\"CLR\">\n",
      "                          <TO>to</TO>\n",
      "                          <NP>\n",
      "                            <PRP>it</PRP>\n",
      "                          </NP>\n",
      "                        </PP type=\"CLR\">\n",
      "                        <ADVP type=\"TMP\">\n",
      "                          <NP>\n",
      "                            <QP>\n",
      "                              <RBR>more</RBR>\n",
      "                              <IN>than</IN>\n",
      "                              <CD>30</CD>\n",
      "                            </QP>\n",
      "                            <NNS>years</NNS>\n",
      "                          </NP>\n",
      "                          <IN>ago</IN>\n",
      "                        </ADVP type=\"TMP\">\n",
      "                      </VP>\n",
      "                    </RRC>\n",
      "                  </NP>\n",
      "                </PP>\n",
      "              </NP>\n",
      "            </PP type=\"LOC\">\n",
      "          </NP>\n",
      "        </VP>\n",
      "      </VP>\n",
      "    </S type=\"TPC\">\n",
      "    <,>,</,>\n",
      "    <NP type=\"SBJ\">\n",
      "      <NNS>researchers</NNS>\n",
      "    </NP type=\"SBJ\">\n",
      "    <VP>\n",
      "      <VBD>reported</VBD>\n",
      "      <SBAR>\n",
      "        <-NONE->0</-NONE->\n",
      "        <S>\n",
      "          <-NONE->*T*-1</-NONE->\n",
      "        </S>\n",
      "      </SBAR>\n",
      "    </VP>\n",
      "    <.>.</.>\n",
      "  </S>\n",
      "  <S>\n",
      "    <S type=\"TPC\">\n",
      "      <NP type=\"SBJ\">\n",
      "        <NP>\n",
      "          <DT>The</DT>\n",
      "          <NN>asbestos</NN>\n",
      "          <NN>fiber</NN>\n",
      "        </NP>\n",
      "        <,>,</,>\n",
      "        <NP>\n",
      "          <NN>crocidolite</NN>\n",
      "        </NP>\n",
      "        <,>,</,>\n",
      "      </NP type=\"SBJ\">\n",
      "      <VP>\n",
      "        <VBZ>is</VBZ>\n",
      "        <ADJP type=\"PRD\">\n",
      "          <RB>unusually</RB>\n",
      "          <JJ>resilient</JJ>\n",
      "        </ADJP type=\"PRD\">\n",
      "        <SBAR type=\"TMP\">\n",
      "          <IN>once</IN>\n",
      "          <S>\n",
      "            <NP type=\"SBJ\">\n",
      "              <PRP>it</PRP>\n",
      "            </NP type=\"SBJ\">\n",
      "            <VP>\n",
      "              <VBZ>enters</VBZ>\n",
      "              <NP>\n",
      "                <DT>the</DT>\n",
      "                <NNS>lungs</NNS>\n",
      "              </NP>\n",
      "            </VP>\n",
      "          </S>\n",
      "        </SBAR type=\"TMP\">\n",
      "        <,>,</,>\n",
      "        <PP>\n",
      "          <IN>with</IN>\n",
      "          <S type=\"NOM\">\n",
      "            <NP type=\"SBJ\">\n",
      "              <NP>\n",
      "                <RB>even</RB>\n",
      "                <JJ>brief</JJ>\n",
      "                <NNS>exposures</NNS>\n",
      "              </NP>\n",
      "              <PP>\n",
      "                <TO>to</TO>\n",
      "                <NP>\n",
      "                  <PRP>it</PRP>\n",
      "                </NP>\n",
      "              </PP>\n",
      "            </NP type=\"SBJ\">\n",
      "            <VP>\n",
      "              <VBG>causing</VBG>\n",
      "              <NP>\n",
      "                <NP>\n",
      "                  <NNS>symptoms</NNS>\n",
      "                </NP>\n",
      "                <SBAR>\n",
      "                  <WHNP type=\"1\">\n",
      "                    <WDT>that</WDT>\n",
      "                  </WHNP type=\"1\">\n",
      "                  <S>\n",
      "                    <NP type=\"SBJ\">\n",
      "                      <-NONE->*T*-1</-NONE->\n",
      "                    </NP type=\"SBJ\">\n",
      "                    <VP>\n",
      "                      <VBP>show</VBP>\n",
      "                      <PRT>\n",
      "                        <RP>up</RP>\n",
      "                      </PRT>\n",
      "                      <ADVP type=\"TMP\">\n",
      "                        <NP>\n",
      "                          <NNS>decades</NNS>\n",
      "                        </NP>\n",
      "                        <JJ>later</JJ>\n",
      "                      </ADVP type=\"TMP\">\n",
      "                    </VP>\n",
      "                  </S>\n",
      "                </SBAR>\n",
      "              </NP>\n",
      "            </VP>\n",
      "          </S type=\"NOM\">\n",
      "        </PP>\n",
      "      </VP>\n",
      "    </S type=\"TPC\">\n",
      "    <,>,</,>\n",
      "    <NP type=\"SBJ\">\n",
      "      <NNS>researchers</NNS>\n",
      "    </NP type=\"SBJ\">\n",
      "    <VP>\n",
      "      <VBD>said</VBD>\n",
      "      <SBAR>\n",
      "        <-NONE->0</-NONE->\n",
      "        <S>\n",
      "          <-NONE->*T*-2</-NONE->\n",
      "        </S>\n",
      "      </SBAR>\n",
      "    </VP>\n",
      "    <.>.</.>\n",
      "  </S>\n"
     ]
    }
   ],
   "source": [
    "from nltk.corpus import treebank\n",
    "\n",
    "for t in treebank.parsed_sents()[:5]:\n",
    "    parse_to_xml(t)"
   ],
   "metadata": {
    "collapsed": false,
    "pycharm": {
     "name": "#%%\n"
    }
   }
  },
  {
   "cell_type": "code",
   "execution_count": 43,
   "outputs": [],
   "source": [
    "# Exercise: 11-13\n",
    "# Obtain a comparative wordlist in CSV format, and write a program that prints those cognates having an\n",
    "# edit-distance of at least three from each other.\n",
    "\n",
    "import csv\n",
    "\n",
    "swadesh = []\n",
    "\n",
    "with open('Swadesh Lists.csv', 'r', encoding = 'utf-8-sig') as f:\n",
    "    reader = csv.reader(f, delimiter = \",\")\n",
    "    for row in reader:\n",
    "        swadesh.append(row)"
   ],
   "metadata": {
    "collapsed": false,
    "pycharm": {
     "name": "#%%\n"
    }
   }
  },
  {
   "cell_type": "code",
   "execution_count": 44,
   "outputs": [],
   "source": [
    "def find_swadesh_cognates(word):\n",
    "    \"\"\"\n",
    "    Uses Swadesh wordlists to find pairs of words with small edit\n",
    "    distances.\n",
    "    \"\"\"\n",
    "    flag = True\n",
    "    for row in swadesh:\n",
    "        for i in range(2, len(row)):\n",
    "            if i % 2 == 0:\n",
    "                if nltk.edit_distance(word, row[i]) < 3:\n",
    "                    if flag:\n",
    "                        print(\"Near matches for '{}' are:\\n\".format(word))\n",
    "                    print(\"{:4}{:9} {:12} English: {}\".format(\"\",\n",
    "                                                  row[i + 1] + \":\",\n",
    "                                                  row[i], row[0]))\n",
    "                    flag = False\n",
    "\n",
    "    if flag:\n",
    "        print(\"No matches were found.\")"
   ],
   "metadata": {
    "collapsed": false,
    "pycharm": {
     "name": "#%%\n"
    }
   }
  },
  {
   "cell_type": "code",
   "execution_count": 45,
   "outputs": [
    {
     "name": "stdout",
     "output_type": "stream",
     "text": [
      "Near matches for 'animal' are:\n",
      "\n",
      "    French:   animal       English: animal\n",
      "    Italian:  animale      English: animal\n",
      "    Latin:    animalis     English: animal\n",
      "    Spanish:  animal       English: animal\n"
     ]
    }
   ],
   "source": [
    "find_swadesh_cognates('animal')"
   ],
   "metadata": {
    "collapsed": false,
    "pycharm": {
     "name": "#%%\n"
    }
   }
  },
  {
   "cell_type": "code",
   "execution_count": 46,
   "outputs": [
    {
     "name": "stdout",
     "output_type": "stream",
     "text": [
      "No matches were found.\n"
     ]
    }
   ],
   "source": [
    "find_swadesh_cognates('feather')"
   ],
   "metadata": {
    "collapsed": false,
    "pycharm": {
     "name": "#%%\n"
    }
   }
  },
  {
   "cell_type": "code",
   "execution_count": 47,
   "outputs": [
    {
     "name": "stdout",
     "output_type": "stream",
     "text": [
      "Near matches for 'stand' are:\n",
      "\n",
      "    French:   quand        English: when\n",
      "    French:   grand        English: big\n",
      "    Sanskrit: tanú         English: thin\n",
      "    Dutch:    slang        English: snake\n",
      "    French:   sang         English: blood\n",
      "    Swedish:  svans        English: tail\n",
      "    Dutch:    tand         English: tooth\n",
      "    Swedish:  tand         English: tooth\n",
      "    German:   hand         English: hand\n",
      "    Dutch:    hand         English: hand\n",
      "    Swedish:  hand         English: hand\n",
      "    Sanskrit: stána        English: breast\n",
      "    Latin:    stare        English: stand\n",
      "    Dutch:    staan        English: stand\n",
      "    Swedish:  sten         English: stone\n",
      "    German:   sand         English: sand\n",
      "    Dutch:    zand         English: sand\n",
      "    Swedish:  sand         English: sand\n",
      "    German:   staub        English: dust\n"
     ]
    }
   ],
   "source": [
    "find_swadesh_cognates('stand')"
   ],
   "metadata": {
    "collapsed": false,
    "pycharm": {
     "name": "#%%\n"
    }
   }
  },
  {
   "cell_type": "code",
   "execution_count": 48,
   "outputs": [
    {
     "name": "stdout",
     "output_type": "stream",
     "text": [
      "Near matches for 'name' are:\n",
      "\n",
      "    Russian:  tam          English: there\n",
      "    Italian:  come         English: how\n",
      "    Russian:  ne           English: not\n",
      "    Italian:  cane         English: dog\n",
      "    German:   samen        English: seed\n",
      "    Italian:  seme         English: seed\n",
      "    German:   nase         English: nose\n",
      "    Italian:  naso         English: nose\n",
      "    Swedish:  nagel        English: fingernail\n",
      "    French:   jambe        English: leg\n",
      "    Swedish:  mage         English: belly\n",
      "    French:   nager        English: swim\n",
      "    Italian:  dare         English: give\n",
      "    Latin:    dare         English: give\n",
      "    Italian:  mare         English: sea\n",
      "    Latin:    mare         English: sea\n",
      "    Italian:  sale         English: salt\n",
      "    Swedish:  damm         English: dust\n",
      "    French:   nuage        English: cloud\n",
      "    Spanish:  nube         English: cloud\n",
      "    Italian:  neve         English: snow\n",
      "    Swedish:  natt         English: night\n",
      "    Italian:  male         English: bad\n",
      "    French:   sale         English: dirty\n",
      "    German:   nass         English: wet\n",
      "    Dutch:    nat          English: wet\n",
      "    German:   nah          English: near\n",
      "    French:   nom          English: name\n",
      "    German:   name         English: name\n",
      "    Italian:  nome         English: name\n",
      "    Latin:    nomen        English: name\n",
      "    Dutch:    naam         English: name\n",
      "    Swedish:  namn         English: name\n"
     ]
    }
   ],
   "source": [
    "find_swadesh_cognates('name')"
   ],
   "metadata": {
    "collapsed": false,
    "pycharm": {
     "name": "#%%\n"
    }
   }
  },
  {
   "cell_type": "code",
   "execution_count": 49,
   "outputs": [],
   "source": [
    "# Exercise: 11-14\n",
    "# Build an index of those lexemes which appear in example sentences. Suppose the lexeme for a given entry is w.\n",
    "# Then, add a single cross-reference field xrf to this entry, referencing the headwords of other entries having\n",
    "# example sentences containing w. Do this for all entries and save the result as a Toolbox-format file.\n",
    "\n",
    "from nltk.corpus import toolbox\n",
    "lexicon = toolbox.xml('rotokas.dic')"
   ],
   "metadata": {
    "collapsed": false,
    "pycharm": {
     "name": "#%%\n"
    }
   }
  },
  {
   "cell_type": "code",
   "execution_count": 50,
   "outputs": [],
   "source": [
    "lexemes = [lexeme.text.lower() for lexeme in lexicon.findall('record/lx')]"
   ],
   "metadata": {
    "collapsed": false,
    "pycharm": {
     "name": "#%%\n"
    }
   }
  },
  {
   "cell_type": "code",
   "execution_count": 51,
   "outputs": [
    {
     "ename": "NameError",
     "evalue": "name 'lex' is not defined",
     "output_type": "error",
     "traceback": [
      "\u001B[0;31m---------------------------------------------------------------------------\u001B[0m",
      "\u001B[0;31mNameError\u001B[0m                                 Traceback (most recent call last)",
      "\u001B[0;32m<ipython-input-51-06afc5f53441>\u001B[0m in \u001B[0;36m<module>\u001B[0;34m\u001B[0m\n\u001B[1;32m     15\u001B[0m         \u001B[0;32mif\u001B[0m \u001B[0mlex\u001B[0m \u001B[0;32min\u001B[0m \u001B[0mex\u001B[0m\u001B[0;34m:\u001B[0m\u001B[0;34m\u001B[0m\u001B[0;34m\u001B[0m\u001B[0m\n\u001B[1;32m     16\u001B[0m             \u001B[0mex\u001B[0m\u001B[0;34m.\u001B[0m\u001B[0mremove\u001B[0m\u001B[0;34m(\u001B[0m\u001B[0mlex\u001B[0m\u001B[0;34m)\u001B[0m\u001B[0;34m\u001B[0m\u001B[0;34m\u001B[0m\u001B[0m\n\u001B[0;32m---> 17\u001B[0;31m     \u001B[0mexample_words\u001B[0m\u001B[0;34m.\u001B[0m\u001B[0mappend\u001B[0m\u001B[0;34m(\u001B[0m\u001B[0;34m(\u001B[0m\u001B[0mlex\u001B[0m\u001B[0;34m,\u001B[0m \u001B[0mex\u001B[0m\u001B[0;34m)\u001B[0m\u001B[0;34m)\u001B[0m\u001B[0;34m\u001B[0m\u001B[0;34m\u001B[0m\u001B[0m\n\u001B[0m\u001B[1;32m     18\u001B[0m \u001B[0;34m\u001B[0m\u001B[0m\n",
      "\u001B[0;31mNameError\u001B[0m: name 'lex' is not defined"
     ]
    }
   ],
   "source": [
    "tokenizer = nltk.tokenize.RegexpTokenizer(r'\\w+')\n",
    "\n",
    "example_words = []\n",
    "\n",
    "for entry in lexicon:\n",
    "    # re-initialize for each word, so that words without examples\n",
    "    # don't inherit the last word's examples\n",
    "    ex = \"\"\n",
    "    for lexeme in entry.findall('lx'):\n",
    "        lex = lexeme.text.lower()\n",
    "    for example in entry.findall('ex'):\n",
    "        ex = set([w.lower() for w in tokenizer.tokenize(example.text)])\n",
    "        # remove entry word from example, so the entry words don't\n",
    "        # add references to themselves later\n",
    "        if lex in ex:\n",
    "            ex.remove(lex)\n",
    "    example_words.append((lex, ex))"
   ],
   "metadata": {
    "collapsed": false,
    "pycharm": {
     "name": "#%%\n"
    }
   }
  },
  {
   "cell_type": "code",
   "execution_count": 52,
   "outputs": [
    {
     "data": {
      "text/plain": "[]"
     },
     "execution_count": 52,
     "metadata": {},
     "output_type": "execute_result"
    }
   ],
   "source": [
    "example_words[-5:]"
   ],
   "metadata": {
    "collapsed": false,
    "pycharm": {
     "name": "#%%\n"
    }
   }
  },
  {
   "cell_type": "code",
   "execution_count": 53,
   "outputs": [],
   "source": [
    "from xml.etree.ElementTree import SubElement\n",
    "\n",
    "\n",
    "def add_xrf_field(lexicon, lookup, headword):\n",
    "    for entry in lexicon:\n",
    "        for field in entry:\n",
    "            if field.tag == 'lx':\n",
    "                if field.text == lookup:\n",
    "                    xrf_field = SubElement(entry, 'xrf')\n",
    "                    xrf_field.text = headword"
   ],
   "metadata": {
    "collapsed": false,
    "pycharm": {
     "name": "#%%\n"
    }
   }
  },
  {
   "cell_type": "code",
   "execution_count": 54,
   "outputs": [
    {
     "name": "stdout",
     "output_type": "stream",
     "text": [
      "\\lx kare\n",
      "\\ps FFP\n",
      "\\ge animals\n",
      "\\tkp plenti\n",
      "\\dt 17/Oct/2005\n",
      "\\ex O karevu koie kare kouevo ita akova.\n",
      "\\xp Pik mama i karim ol narapela pik.\n",
      "\\xe The mother carried the other pigs.\n",
      "\n"
     ]
    }
   ],
   "source": [
    "display_complete_entry(lexicon, 'kare')"
   ],
   "metadata": {
    "collapsed": false,
    "pycharm": {
     "name": "#%%\n"
    }
   }
  },
  {
   "cell_type": "code",
   "execution_count": 55,
   "outputs": [],
   "source": [
    "for row in example_words:\n",
    "    for w in row[1]:\n",
    "        if w in lexemes:\n",
    "            add_xrf_field(lexicon, w, row[0])"
   ],
   "metadata": {
    "collapsed": false,
    "pycharm": {
     "name": "#%%\n"
    }
   }
  },
  {
   "cell_type": "code",
   "execution_count": 56,
   "outputs": [
    {
     "name": "stdout",
     "output_type": "stream",
     "text": [
      "\\lx kare\n",
      "\\ps FFP\n",
      "\\ge animals\n",
      "\\tkp plenti\n",
      "\\dt 17/Oct/2005\n",
      "\\ex O karevu koie kare kouevo ita akova.\n",
      "\\xp Pik mama i karim ol narapela pik.\n",
      "\\xe The mother carried the other pigs.\n",
      "\n"
     ]
    }
   ],
   "source": [
    "display_complete_entry(lexicon, 'kare')"
   ],
   "metadata": {
    "collapsed": false,
    "pycharm": {
     "name": "#%%\n"
    }
   }
  },
  {
   "cell_type": "code",
   "execution_count": 57,
   "outputs": [
    {
     "name": "stdout",
     "output_type": "stream",
     "text": [
      "\\lx kovovo\n",
      "\\rt kovo\n",
      "\\ps V\n",
      "\\pt B\n",
      "\\ge fence\n",
      "\\ge protect\n",
      "\\tkp banisim\n",
      "\\arg O\n",
      "\\vx 2\n",
      "\\dt 08/Jun/2005\n",
      "\\ex Kepa kovovo va utoro.\n",
      "\\xp Yo banisim house bikol?? Em kolor tumas.\n",
      "\\xe ???\n",
      "\\ex Koue karen kovovo sapi kovoa aioive.\n",
      "\\xp You mekim fence long gut of ikaikaim garden.\n",
      "\\xe ???\n",
      "\\ex Koue kare kovovori ikauvira teapi kosiaviro kovoara aiosia.\n",
      "\\xp Yu banisim kwik ol pik, nogut ol i kam arasait na kaikaim ol gaden.\n",
      "\\xe Fence the pigs quickly lest they escape and eat the gardens.\n",
      "\n"
     ]
    }
   ],
   "source": [
    "display_complete_entry(lexicon, 'kovovo')"
   ],
   "metadata": {
    "collapsed": false,
    "pycharm": {
     "name": "#%%\n"
    }
   }
  },
  {
   "cell_type": "code",
   "execution_count": null,
   "outputs": [],
   "source": [],
   "metadata": {
    "collapsed": false,
    "pycharm": {
     "name": "#%%\n"
    }
   }
  }
 ],
 "metadata": {
  "kernelspec": {
   "display_name": "Python 3",
   "language": "python",
   "name": "python3"
  },
  "language_info": {
   "codemirror_mode": {
    "name": "ipython",
    "version": 2
   },
   "file_extension": ".py",
   "mimetype": "text/x-python",
   "name": "python",
   "nbconvert_exporter": "python",
   "pygments_lexer": "ipython2",
   "version": "2.7.6"
  }
 },
 "nbformat": 4,
 "nbformat_minor": 0
}