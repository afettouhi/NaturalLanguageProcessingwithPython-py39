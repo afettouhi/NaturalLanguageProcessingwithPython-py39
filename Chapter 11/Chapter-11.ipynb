{
 "cells": [
  {
   "cell_type": "code",
   "execution_count": 1,
   "metadata": {
    "collapsed": true
   },
   "outputs": [
    {
     "data": {
      "text/plain": "['h#',\n 'sh',\n 'iy',\n 'hv',\n 'ae',\n 'dcl',\n 'y',\n 'ix',\n 'dcl',\n 'd',\n 'aa',\n 'kcl',\n 's',\n 'ux',\n 'tcl',\n 'en',\n 'gcl',\n 'g',\n 'r',\n 'iy',\n 's',\n 'iy',\n 'w',\n 'aa',\n 'sh',\n 'epi',\n 'w',\n 'aa',\n 'dx',\n 'ax',\n 'q',\n 'ao',\n 'l',\n 'y',\n 'ih',\n 'ax',\n 'h#']"
     },
     "execution_count": 1,
     "metadata": {},
     "output_type": "execute_result"
    }
   ],
   "source": [
    "import nltk\n",
    "\n",
    "phonetic = nltk.corpus.timit.phones('dr1-fvmh0/sa1')\n",
    "phonetic"
   ]
  },
  {
   "cell_type": "code",
   "execution_count": 2,
   "outputs": [
    {
     "data": {
      "text/plain": "[('she', 7812, 10610),\n ('had', 10610, 14496),\n ('your', 14496, 15791),\n ('dark', 15791, 20720),\n ('suit', 20720, 25647),\n ('in', 25647, 26906),\n ('greasy', 26906, 32668),\n ('wash', 32668, 37890),\n ('water', 38531, 42417),\n ('all', 43091, 46052),\n ('year', 46052, 50522)]"
     },
     "execution_count": 2,
     "metadata": {},
     "output_type": "execute_result"
    }
   ],
   "source": [
    "nltk.corpus.timit.word_times('dr1-fvmh0/sa1')"
   ],
   "metadata": {
    "collapsed": false,
    "pycharm": {
     "name": "#%%\n"
    }
   }
  },
  {
   "cell_type": "code",
   "execution_count": 3,
   "outputs": [
    {
     "data": {
      "text/plain": "['g', 'r', 'iy1', 's', 'iy', 'w', 'ao1', 'sh', 'w', 'ao1', 't', 'axr']"
     },
     "execution_count": 3,
     "metadata": {},
     "output_type": "execute_result"
    }
   ],
   "source": [
    "timitdict = nltk.corpus.timit.transcription_dict()\n",
    "timitdict['greasy'] + timitdict['wash'] + timitdict['water']"
   ],
   "metadata": {
    "collapsed": false,
    "pycharm": {
     "name": "#%%\n"
    }
   }
  },
  {
   "cell_type": "code",
   "execution_count": 4,
   "outputs": [
    {
     "data": {
      "text/plain": "['g', 'r', 'iy', 's', 'iy', 'w', 'aa', 'sh', 'epi', 'w', 'aa', 'dx', 'ax']"
     },
     "execution_count": 4,
     "metadata": {},
     "output_type": "execute_result"
    }
   ],
   "source": [
    "phonetic[17:30]"
   ],
   "metadata": {
    "collapsed": false,
    "pycharm": {
     "name": "#%%\n"
    }
   }
  },
  {
   "cell_type": "code",
   "execution_count": 5,
   "outputs": [
    {
     "data": {
      "text/plain": "SpeakerInfo(id='VMH0', sex='F', dr='1', use='TRN', recdate='03/11/86', birthdate='01/08/60', ht='5\\'05\"', race='WHT', edu='BS', comments='BEST NEW ENGLAND ACCENT SO FAR')"
     },
     "execution_count": 5,
     "metadata": {},
     "output_type": "execute_result"
    }
   ],
   "source": [
    "nltk.corpus.timit.spkrinfo('dr1-fvmh0')"
   ],
   "metadata": {
    "collapsed": false,
    "pycharm": {
     "name": "#%%\n"
    }
   }
  },
  {
   "cell_type": "code",
   "execution_count": 6,
   "outputs": [
    {
     "data": {
      "text/plain": "0.0"
     },
     "execution_count": 6,
     "metadata": {},
     "output_type": "execute_result"
    }
   ],
   "source": [
    "s1 = \"00000010000000001000000\"\n",
    "s2 = \"00000001000000010000000\"\n",
    "s3 = \"00010000000000000001000\"\n",
    "nltk.windowdiff(s1, s1, 3)"
   ],
   "metadata": {
    "collapsed": false,
    "pycharm": {
     "name": "#%%\n"
    }
   }
  },
  {
   "cell_type": "code",
   "execution_count": 7,
   "outputs": [
    {
     "data": {
      "text/plain": "0.19047619047619047"
     },
     "execution_count": 7,
     "metadata": {},
     "output_type": "execute_result"
    }
   ],
   "source": [
    "nltk.windowdiff(s1, s2, 3)"
   ],
   "metadata": {
    "collapsed": false,
    "pycharm": {
     "name": "#%%\n"
    }
   }
  },
  {
   "cell_type": "code",
   "execution_count": 8,
   "outputs": [
    {
     "data": {
      "text/plain": "0.5714285714285714"
     },
     "execution_count": 8,
     "metadata": {},
     "output_type": "execute_result"
    }
   ],
   "source": [
    "nltk.windowdiff(s2, s3, 3)"
   ],
   "metadata": {
    "collapsed": false,
    "pycharm": {
     "name": "#%%\n"
    }
   }
  },
  {
   "cell_type": "code",
   "execution_count": 9,
   "outputs": [
    {
     "name": "stdout",
     "output_type": "stream",
     "text": [
      "[]\n"
     ]
    }
   ],
   "source": [
    "import re\n",
    "\n",
    "legal_pos = {'n', 'v.t.', 'v.i.', 'adj', 'det'}\n",
    "pattern = re.compile(r\"'font-size:11.0pt'>([a-z.]+)<\")\n",
    "document = open(\"dict.htm\", encoding=\"windows-1252\").read()\n",
    "used_pos = set(re.findall(pattern, document))\n",
    "illegal_pos = used_pos.difference(legal_pos)\n",
    "print(list(illegal_pos))"
   ],
   "metadata": {
    "collapsed": false,
    "pycharm": {
     "name": "#%%\n"
    }
   }
  },
  {
   "cell_type": "code",
   "execution_count": 10,
   "outputs": [],
   "source": [
    "from bs4 import BeautifulSoup\n",
    "\n",
    "def lexical_data(html_file, encoding=\"utf-8\"):\n",
    "    SEP = '_ENTRY'\n",
    "    html = open(html_file, encoding=encoding).read()\n",
    "    html = re.sub(r'<p', SEP + '<p', html)\n",
    "    text = BeautifulSoup(html, 'html.parser').get_text()\n",
    "    text = ' '.join(text.split())\n",
    "    for entry in text.split(SEP):\n",
    "        if entry.count(' ') > 2:\n",
    "            yield entry.split(' ', 3)"
   ],
   "metadata": {
    "collapsed": false,
    "pycharm": {
     "name": "#%%\n"
    }
   }
  },
  {
   "cell_type": "code",
   "execution_count": 11,
   "outputs": [],
   "source": [
    "import csv\n",
    "writer = csv.writer(open(\"dict1.csv\", \"w\", encoding=\"utf-8\"))\n",
    "writer.writerows(lexical_data(\"dict.htm\", encoding=\"windows-1252\"))"
   ],
   "metadata": {
    "collapsed": false,
    "pycharm": {
     "name": "#%%\n"
    }
   }
  },
  {
   "cell_type": "code",
   "execution_count": 12,
   "outputs": [
    {
     "data": {
      "text/plain": "['...',\n 'a',\n 'and',\n 'body',\n 'by',\n 'cease',\n 'condition',\n 'down',\n 'each',\n 'foot',\n 'lifting',\n 'mind',\n 'of',\n 'progress',\n 'setting',\n 'to']"
     },
     "execution_count": 12,
     "metadata": {},
     "output_type": "execute_result"
    }
   ],
   "source": [
    "import csv\n",
    "lexicon = csv.reader(open('dict.csv'))\n",
    "pairs = [(lexeme, defn) for (lexeme, _, _, defn) in lexicon]\n",
    "lexemes, defns = zip(*pairs)\n",
    "defn_words = set(w for defn in defns for w in defn.split())\n",
    "sorted(defn_words.difference(lexemes))"
   ],
   "metadata": {
    "collapsed": false,
    "pycharm": {
     "name": "#%%\n"
    }
   }
  },
  {
   "cell_type": "code",
   "execution_count": 13,
   "outputs": [],
   "source": [
    "idx = nltk.Index((defn_word, lexeme)\n",
    "                 for (lexeme, defn) in pairs\n",
    "                 for defn_word in nltk.word_tokenize(defn)\n",
    "                 if len(defn_word) > 3)\n",
    "with open(\"dict.idx\", \"w\") as idx_file:\n",
    "    for word in sorted(idx):\n",
    "        idx_words = ', '.join(idx[word])\n",
    "        idx_line = \"{}: {}\".format(word, idx_words)\n",
    "        print(idx_line, file=idx_file)"
   ],
   "metadata": {
    "collapsed": false,
    "pycharm": {
     "name": "#%%\n"
    }
   }
  },
  {
   "cell_type": "code",
   "execution_count": 14,
   "outputs": [
    {
     "data": {
      "text/plain": "'lfnt'"
     },
     "execution_count": 14,
     "metadata": {},
     "output_type": "execute_result"
    }
   ],
   "source": [
    "mappings = [('ph', 'f'), ('ght', 't'), ('^kn', 'n'), ('qu', 'kw'),\n",
    "            ('[aeiou]+', 'a'), (r'(.)\\1', r'\\1')]\n",
    "def signature(word):\n",
    "    for patt, repl in mappings:\n",
    "        word = re.sub(patt, repl, word)\n",
    "    pieces = re.findall('[^aeiou]+', word)\n",
    "    return ''.join(char for piece in pieces for char in sorted(piece))[:8]\n",
    "signature('illefent')"
   ],
   "metadata": {
    "collapsed": false,
    "pycharm": {
     "name": "#%%\n"
    }
   }
  },
  {
   "cell_type": "code",
   "execution_count": 15,
   "outputs": [
    {
     "data": {
      "text/plain": "'bskws'"
     },
     "execution_count": 15,
     "metadata": {},
     "output_type": "execute_result"
    }
   ],
   "source": [
    "signature('ebsekwieous')"
   ],
   "metadata": {
    "collapsed": false,
    "pycharm": {
     "name": "#%%\n"
    }
   }
  },
  {
   "cell_type": "code",
   "execution_count": 16,
   "outputs": [
    {
     "data": {
      "text/plain": "'nclr'"
     },
     "execution_count": 16,
     "metadata": {},
     "output_type": "execute_result"
    }
   ],
   "source": [
    "signature('nuculerr')"
   ],
   "metadata": {
    "collapsed": false,
    "pycharm": {
     "name": "#%%\n"
    }
   }
  },
  {
   "cell_type": "code",
   "execution_count": 17,
   "outputs": [
    {
     "data": {
      "text/plain": "['anicular',\n 'inocular',\n 'nucellar',\n 'nuclear',\n 'unicolor',\n 'uniocular',\n 'unocular']"
     },
     "execution_count": 17,
     "metadata": {},
     "output_type": "execute_result"
    }
   ],
   "source": [
    "signatures = nltk.Index((signature(w), w) for w in nltk.corpus.words.words())\n",
    "signatures[signature('nuculerr')]"
   ],
   "metadata": {
    "collapsed": false,
    "pycharm": {
     "name": "#%%\n"
    }
   }
  },
  {
   "cell_type": "code",
   "execution_count": 18,
   "outputs": [
    {
     "data": {
      "text/plain": "['olefiant', 'elephant', 'oliphant', 'elephanta']"
     },
     "execution_count": 18,
     "metadata": {},
     "output_type": "execute_result"
    }
   ],
   "source": [
    "def rank(word, wordlist):\n",
    "    ranked = sorted((nltk.edit_distance(word, w), w) for w in wordlist)\n",
    "    return [word for (_, word) in ranked]\n",
    "def fuzzy_spell(word):\n",
    "    sig = signature(word)\n",
    "    if sig in signatures:\n",
    "        return rank(word, signatures[sig])\n",
    "    else:\n",
    "        return []\n",
    "fuzzy_spell('illefent')"
   ],
   "metadata": {
    "collapsed": false,
    "pycharm": {
     "name": "#%%\n"
    }
   }
  },
  {
   "cell_type": "code",
   "execution_count": 19,
   "outputs": [
    {
     "data": {
      "text/plain": "['obsequious']"
     },
     "execution_count": 19,
     "metadata": {},
     "output_type": "execute_result"
    }
   ],
   "source": [
    "fuzzy_spell('ebsekwieous')"
   ],
   "metadata": {
    "collapsed": false,
    "pycharm": {
     "name": "#%%\n"
    }
   }
  },
  {
   "cell_type": "code",
   "execution_count": 20,
   "outputs": [
    {
     "data": {
      "text/plain": "['anicular',\n 'inocular',\n 'nucellar',\n 'nuclear',\n 'unocular',\n 'uniocular',\n 'unicolor']"
     },
     "execution_count": 20,
     "metadata": {},
     "output_type": "execute_result"
    }
   ],
   "source": [
    "fuzzy_spell('nucular')"
   ],
   "metadata": {
    "collapsed": false,
    "pycharm": {
     "name": "#%%\n"
    }
   }
  },
  {
   "cell_type": "code",
   "execution_count": 21,
   "outputs": [
    {
     "name": "stdout",
     "output_type": "stream",
     "text": [
      "<?xml version=\"1.0\"?>\n",
      "<?xml-stylesheet type=\"text/css\" href=\"shakes.css\"?>\n",
      "<!-- <!DOCTYPE PLAY SYSTEM \"play.dtd\"> -->\n",
      "\n",
      "<PLAY>\n",
      "<TITLE>The Merchant of Venice</TITLE>\n"
     ]
    }
   ],
   "source": [
    "merchant_file = nltk.data.find('corpora/shakespeare/merchant.xml')\n",
    "raw = open(merchant_file).read()\n",
    "print(raw[:163])"
   ],
   "metadata": {
    "collapsed": false,
    "pycharm": {
     "name": "#%%\n"
    }
   }
  },
  {
   "cell_type": "code",
   "execution_count": 22,
   "outputs": [
    {
     "name": "stdout",
     "output_type": "stream",
     "text": [
      "<TITLE>ACT I</TITLE>\n",
      "\n",
      "<SCENE><TITLE>SCENE I.  Venice. A street.</TITLE>\n",
      "<STAGEDIR>Enter ANTONIO, SALARINO, and SALANIO</STAGEDIR>\n",
      "\n",
      "<SPEECH>\n",
      "<SPEAKER>ANTONIO</SPEAKER>\n",
      "<LINE>In sooth, I know not why I am so sad:</LINE>\n"
     ]
    }
   ],
   "source": [
    "print(raw[1789:2006])"
   ],
   "metadata": {
    "collapsed": false,
    "pycharm": {
     "name": "#%%\n"
    }
   }
  },
  {
   "cell_type": "code",
   "execution_count": 23,
   "outputs": [
    {
     "data": {
      "text/plain": "<Element 'PLAY' at 0x7f882967cdb0>"
     },
     "execution_count": 23,
     "metadata": {},
     "output_type": "execute_result"
    }
   ],
   "source": [
    "from xml.etree.ElementTree import ElementTree\n",
    "merchant = ElementTree().parse(merchant_file)\n",
    "merchant"
   ],
   "metadata": {
    "collapsed": false,
    "pycharm": {
     "name": "#%%\n"
    }
   }
  },
  {
   "cell_type": "code",
   "execution_count": 24,
   "outputs": [
    {
     "data": {
      "text/plain": "<Element 'TITLE' at 0x7f882967c950>"
     },
     "execution_count": 24,
     "metadata": {},
     "output_type": "execute_result"
    }
   ],
   "source": [
    "merchant[0]"
   ],
   "metadata": {
    "collapsed": false,
    "pycharm": {
     "name": "#%%\n"
    }
   }
  },
  {
   "cell_type": "code",
   "execution_count": 25,
   "outputs": [
    {
     "data": {
      "text/plain": "'The Merchant of Venice'"
     },
     "execution_count": 25,
     "metadata": {},
     "output_type": "execute_result"
    }
   ],
   "source": [
    "merchant[0].text"
   ],
   "metadata": {
    "collapsed": false,
    "pycharm": {
     "name": "#%%\n"
    }
   }
  },
  {
   "cell_type": "code",
   "execution_count": 27,
   "outputs": [
    {
     "data": {
      "text/plain": "[<Element 'TITLE' at 0x7f882967c950>,\n <Element 'PERSONAE' at 0x7f882967cd60>,\n <Element 'SCNDESCR' at 0x7f882967ebd0>,\n <Element 'PLAYSUBT' at 0x7f882967ec20>,\n <Element 'ACT' at 0x7f882967ecc0>,\n <Element 'ACT' at 0x7f882966a270>,\n <Element 'ACT' at 0x7f8829639860>,\n <Element 'ACT' at 0x7f88295e7ae0>,\n <Element 'ACT' at 0x7f882958ca90>]"
     },
     "execution_count": 27,
     "metadata": {},
     "output_type": "execute_result"
    }
   ],
   "source": [
    "list(merchant)"
   ],
   "metadata": {
    "collapsed": false,
    "pycharm": {
     "name": "#%%\n"
    }
   }
  },
  {
   "cell_type": "code",
   "execution_count": 29,
   "outputs": [
    {
     "data": {
      "text/plain": "'ACT IV'"
     },
     "execution_count": 29,
     "metadata": {},
     "output_type": "execute_result"
    }
   ],
   "source": [
    "merchant[-2][0].text"
   ],
   "metadata": {
    "collapsed": false,
    "pycharm": {
     "name": "#%%\n"
    }
   }
  },
  {
   "cell_type": "code",
   "execution_count": 30,
   "outputs": [
    {
     "data": {
      "text/plain": "<Element 'SCENE' at 0x7f88295e7b80>"
     },
     "execution_count": 30,
     "metadata": {},
     "output_type": "execute_result"
    }
   ],
   "source": [
    "merchant[-2][1]"
   ],
   "metadata": {
    "collapsed": false,
    "pycharm": {
     "name": "#%%\n"
    }
   }
  },
  {
   "cell_type": "code",
   "execution_count": 31,
   "outputs": [
    {
     "data": {
      "text/plain": "'SCENE I.  Venice. A court of justice.'"
     },
     "execution_count": 31,
     "metadata": {},
     "output_type": "execute_result"
    }
   ],
   "source": [
    "merchant[-2][1][0].text"
   ],
   "metadata": {
    "collapsed": false,
    "pycharm": {
     "name": "#%%\n"
    }
   }
  },
  {
   "cell_type": "code",
   "execution_count": 32,
   "outputs": [
    {
     "data": {
      "text/plain": "<Element 'SPEECH' at 0x7f88295f5ea0>"
     },
     "execution_count": 32,
     "metadata": {},
     "output_type": "execute_result"
    }
   ],
   "source": [
    "merchant[-2][1][54]"
   ],
   "metadata": {
    "collapsed": false,
    "pycharm": {
     "name": "#%%\n"
    }
   }
  },
  {
   "cell_type": "code",
   "execution_count": 33,
   "outputs": [
    {
     "data": {
      "text/plain": "<Element 'SPEAKER' at 0x7f88295f5ef0>"
     },
     "execution_count": 33,
     "metadata": {},
     "output_type": "execute_result"
    }
   ],
   "source": [
    "merchant[-2][1][54][0]"
   ],
   "metadata": {
    "collapsed": false,
    "pycharm": {
     "name": "#%%\n"
    }
   }
  },
  {
   "cell_type": "code",
   "execution_count": 34,
   "outputs": [
    {
     "data": {
      "text/plain": "'PORTIA'"
     },
     "execution_count": 34,
     "metadata": {},
     "output_type": "execute_result"
    }
   ],
   "source": [
    "merchant[-2][1][54][0].text"
   ],
   "metadata": {
    "collapsed": false,
    "pycharm": {
     "name": "#%%\n"
    }
   }
  },
  {
   "cell_type": "code",
   "execution_count": 35,
   "outputs": [
    {
     "data": {
      "text/plain": "<Element 'LINE' at 0x7f88295f5f40>"
     },
     "execution_count": 35,
     "metadata": {},
     "output_type": "execute_result"
    }
   ],
   "source": [
    "merchant[-2][1][54][1]"
   ],
   "metadata": {
    "collapsed": false,
    "pycharm": {
     "name": "#%%\n"
    }
   }
  },
  {
   "cell_type": "code",
   "execution_count": 36,
   "outputs": [
    {
     "data": {
      "text/plain": "\"The quality of mercy is not strain'd,\""
     },
     "execution_count": 36,
     "metadata": {},
     "output_type": "execute_result"
    }
   ],
   "source": [
    "merchant[-2][1][54][1].text"
   ],
   "metadata": {
    "collapsed": false,
    "pycharm": {
     "name": "#%%\n"
    }
   }
  },
  {
   "cell_type": "code",
   "execution_count": 37,
   "outputs": [
    {
     "name": "stdout",
     "output_type": "stream",
     "text": [
      "Act 3 Scene 2 Speech 9: Let music sound while he doth make his choice;\n",
      "Act 3 Scene 2 Speech 9: Fading in music: that the comparison\n",
      "Act 3 Scene 2 Speech 9: And what is music then? Then music is\n",
      "Act 5 Scene 1 Speech 23: And bring your music forth into the air.\n",
      "Act 5 Scene 1 Speech 23: Here will we sit and let the sounds of music\n",
      "Act 5 Scene 1 Speech 23: And draw her home with music.\n",
      "Act 5 Scene 1 Speech 24: I am never merry when I hear sweet music.\n",
      "Act 5 Scene 1 Speech 25: Or any air of music touch their ears,\n",
      "Act 5 Scene 1 Speech 25: By the sweet power of music: therefore the poet\n",
      "Act 5 Scene 1 Speech 25: But music for the time doth change his nature.\n",
      "Act 5 Scene 1 Speech 25: The man that hath no music in himself,\n",
      "Act 5 Scene 1 Speech 25: Let no such man be trusted. Mark the music.\n",
      "Act 5 Scene 1 Speech 29: It is your music, madam, of the house.\n",
      "Act 5 Scene 1 Speech 32: No better a musician than the wren.\n"
     ]
    }
   ],
   "source": [
    "for i, act in enumerate(merchant.findall('ACT')):\n",
    "    for j, scene in enumerate(act.findall('SCENE')):\n",
    "        for k, speech in enumerate(scene.findall('SPEECH')):\n",
    "            for line in speech.findall('LINE'):\n",
    "                if 'music' in str(line.text):\n",
    "                    print(\"Act %d Scene %d Speech %d: %s\" % (i+1, j+1, k+1, line.text))"
   ],
   "metadata": {
    "collapsed": false,
    "pycharm": {
     "name": "#%%\n"
    }
   }
  },
  {
   "cell_type": "code",
   "execution_count": 38,
   "outputs": [
    {
     "data": {
      "text/plain": "[('PORTIA', 117),\n ('SHYLOCK', 79),\n ('BASSANIO', 73),\n ('GRATIANO', 48),\n ('ANTONIO', 47)]"
     },
     "execution_count": 38,
     "metadata": {},
     "output_type": "execute_result"
    }
   ],
   "source": [
    "from collections import Counter\n",
    "speaker_seq = [s.text for s in merchant.findall('ACT/SCENE/SPEECH/SPEAKER')]\n",
    "speaker_freq = Counter(speaker_seq)\n",
    "top5 = speaker_freq.most_common(5)\n",
    "top5"
   ],
   "metadata": {
    "collapsed": false,
    "pycharm": {
     "name": "#%%\n"
    }
   }
  },
  {
   "cell_type": "code",
   "execution_count": 39,
   "outputs": [
    {
     "name": "stdout",
     "output_type": "stream",
     "text": [
      "     ANTO BASS GRAT  OTH PORT SHYL \n",
      "ANTO    0   11    4   11    9   12 \n",
      "BASS   10    0   11   10   26   16 \n",
      "GRAT    6    8    0   19    9    5 \n",
      " OTH    8   16   18  153   52   25 \n",
      "PORT    7   23   13   53    0   21 \n",
      "SHYL   15   15    2   26   21    0 \n"
     ]
    }
   ],
   "source": [
    "from collections import defaultdict\n",
    "abbreviate = defaultdict(lambda: 'OTH')\n",
    "for speaker, _ in top5:\n",
    "    abbreviate[speaker] = speaker[:4]\n",
    "\n",
    "speaker_seq2 = [abbreviate[speaker] for speaker in speaker_seq]\n",
    "cfd = nltk.ConditionalFreqDist(nltk.bigrams(speaker_seq2))\n",
    "cfd.tabulate()"
   ],
   "metadata": {
    "collapsed": false,
    "pycharm": {
     "name": "#%%\n"
    }
   }
  },
  {
   "cell_type": "code",
   "execution_count": 40,
   "outputs": [],
   "source": [
    "from nltk.corpus import toolbox\n",
    "lexicon = toolbox.xml('rotokas.dic')"
   ],
   "metadata": {
    "collapsed": false,
    "pycharm": {
     "name": "#%%\n"
    }
   }
  },
  {
   "cell_type": "code",
   "execution_count": 41,
   "outputs": [
    {
     "data": {
      "text/plain": "<Element 'lx' at 0x7f88289d8e00>"
     },
     "execution_count": 41,
     "metadata": {},
     "output_type": "execute_result"
    }
   ],
   "source": [
    "lexicon[3][0]"
   ],
   "metadata": {
    "collapsed": false,
    "pycharm": {
     "name": "#%%\n"
    }
   }
  },
  {
   "cell_type": "code",
   "execution_count": 42,
   "outputs": [
    {
     "data": {
      "text/plain": "'lx'"
     },
     "execution_count": 42,
     "metadata": {},
     "output_type": "execute_result"
    }
   ],
   "source": [
    "lexicon[3][0].tag"
   ],
   "metadata": {
    "collapsed": false,
    "pycharm": {
     "name": "#%%\n"
    }
   }
  },
  {
   "cell_type": "code",
   "execution_count": 43,
   "outputs": [
    {
     "data": {
      "text/plain": "'kaa'"
     },
     "execution_count": 43,
     "metadata": {},
     "output_type": "execute_result"
    }
   ],
   "source": [
    "lexicon[3][0].text"
   ],
   "metadata": {
    "collapsed": false,
    "pycharm": {
     "name": "#%%\n"
    }
   }
  },
  {
   "cell_type": "code",
   "execution_count": 44,
   "outputs": [
    {
     "data": {
      "text/plain": "['kaa',\n 'kaa',\n 'kaa',\n 'kaakaaro',\n 'kaakaaviko',\n 'kaakaavo',\n 'kaakaoko',\n 'kaakasi',\n 'kaakau',\n 'kaakauko',\n 'kaakito',\n 'kaakuupato',\n 'kaaova',\n 'kaapa',\n 'kaapea',\n 'kaapie',\n 'kaapie',\n 'kaapiepato',\n 'kaapisi',\n 'kaapisivira',\n 'kaapo',\n 'kaapopato',\n 'kaara',\n 'kaare',\n 'kaareko',\n 'kaarekopie',\n 'kaareto',\n 'kaareva',\n 'kaava',\n 'kaavaaua',\n 'kaaveaka',\n 'kaaveakapie',\n 'kaaveakapievira',\n 'kaaveakavira',\n 'kae',\n 'kae',\n 'kaekae',\n 'kaekae',\n 'kaekaearo',\n 'kaekaeo',\n 'kaekaesoto',\n 'kaekaevira',\n 'kaekeru',\n 'kaepaa',\n 'kaepie',\n 'kaepie',\n 'kaepievira',\n 'kaereasi',\n 'kaereasivira',\n 'kaetu',\n 'kaetupie',\n 'kaetuvira',\n 'kaeviro',\n 'kagave',\n 'kaie',\n 'kaiea',\n 'kaikaio',\n 'kaio',\n 'kaipori',\n 'kaiporipie',\n 'kaiporivira',\n 'kairi',\n 'kairiro',\n 'kairo',\n 'kaita',\n 'kaitutu',\n 'kaitutupie',\n 'kaitutuvira',\n 'kakae',\n 'kakae',\n 'kakae',\n 'kakaevira',\n 'kakapikoa',\n 'kakapikoto',\n 'kakapu',\n 'kakapua',\n 'kakara',\n 'kakarapaia',\n 'kakarau',\n 'kakarera',\n 'kakata',\n 'kakate',\n 'kakatuara',\n 'kakau',\n 'kakauoa',\n 'kakavea',\n 'kakavoro',\n 'kakavu',\n 'kakeoto',\n 'kaki',\n 'kaki',\n 'kakiaki',\n 'kakiri',\n 'kakiua',\n 'kaku',\n 'kakua',\n 'kakuaku',\n 'kakupaa',\n 'kakuparei',\n 'kakupato',\n 'kakupie',\n 'kakupute',\n 'kakutauo',\n 'kakuto',\n 'kakutuiato',\n 'kakuva',\n 'kakuvira',\n 'kameoro',\n 'kandora',\n 'kaokao',\n 'kaokaoara',\n 'kaokaoto',\n 'kapa',\n 'kapa',\n 'kapaava',\n 'kapai',\n 'kapara',\n 'kaparu',\n 'kaparuvira',\n 'kapatau',\n 'kapatoro',\n 'kapatoroto',\n 'kape',\n 'kapeaa',\n 'kapeaa',\n 'kapeaavira',\n 'kapekape',\n 'kapekapevira',\n 'kapere',\n 'kaperepie',\n 'kapi',\n 'kapiaa',\n 'kapiaavira',\n 'kapikapi',\n 'kapiro',\n 'kapiroa',\n 'kapiroko',\n 'kapisi',\n 'kapisito',\n 'kapiu',\n 'kapiua',\n 'kapo',\n 'kapoa',\n 'kapokao',\n 'kapokapo',\n 'kapokapoa',\n 'kapokapora',\n 'kapokaporo',\n 'kapokari',\n 'kapokarito',\n 'kapokoa',\n 'kapoo',\n 'kapooto',\n 'kapoovira',\n 'kapopaa',\n 'kaporo',\n 'kaporo',\n 'kaporopa',\n 'kaporoto',\n 'kapoto',\n 'kapu',\n 'kapua',\n 'kapua',\n 'kapuapato',\n 'kapuapie',\n 'kapuasisi',\n 'kapupie',\n 'kapupiea',\n 'kapupiepaa',\n 'kapuu',\n 'kapuupie',\n 'kapuupiepa',\n 'kara',\n 'kara',\n 'karaava',\n 'karakarao',\n 'karakaraoa',\n 'karakaraoto',\n 'karakaraovira',\n 'karakaroto',\n 'karakuku',\n 'karaova',\n 'karapi',\n 'karapivira',\n 'karara',\n 'karata',\n 'karato',\n 'karavau',\n 'karavisi',\n 'karavisito',\n 'karavuru',\n 'kare',\n 'kare',\n 'karekare',\n 'karekare',\n 'karekarererava',\n 'karekareto',\n 'kareke',\n 'karekepie',\n 'karekova',\n 'kareo',\n 'kareovira',\n 'karepie',\n 'karepieto',\n 'karepirie',\n 'kari',\n 'karia',\n 'kariava',\n 'karikari',\n 'karirapa',\n 'karisito',\n 'karivai',\n 'karivaito',\n 'karivara',\n 'karo',\n 'karokaropo',\n 'karopato',\n 'karopo',\n 'karot',\n 'karoto',\n 'karova',\n 'karu',\n 'karuka',\n 'karukaru',\n 'karukava',\n 'karuru',\n 'karutu',\n 'karuvira',\n 'kasi',\n 'kasi',\n 'kasi',\n 'kasiarao',\n 'kasiava',\n 'kasikasi',\n 'kasikasiua',\n 'kasipie',\n 'kasipu',\n 'kasipupie',\n 'kasipuvira',\n 'kasirao',\n 'kasiraopie',\n 'kasiraovira',\n 'kasiu',\n 'kasiura',\n 'kasivari',\n 'kasuari',\n 'kata',\n 'katai',\n 'kataitoarei',\n 'katakatai',\n 'katakataivira',\n 'kataraua',\n 'katarauto',\n 'katavira',\n 'katokato',\n 'katokatoto',\n 'katokatovira',\n 'katokoi',\n 'katopato',\n 'katoto',\n 'katuara',\n 'katuarato',\n 'katukatu',\n 'katuta',\n 'kau',\n 'kaukau',\n 'kaukaupie',\n 'kaukauvira',\n 'kaukovo',\n 'kauo',\n 'kauokauo',\n 'kaureo',\n 'kaureoto',\n 'kausiopa',\n 'kausiovira',\n 'kava',\n 'kavakavau',\n 'kavatao',\n 'kavatara',\n 'kavau',\n 'kavau',\n 'kavau asiava',\n 'kave',\n 'kavee',\n 'kaveepaa',\n 'kaverui',\n 'kaveruko',\n 'kavesi',\n 'kavikavi',\n 'kavikaviru',\n 'kavikaviru',\n 'kaviko',\n 'kavikoa',\n 'kaviru',\n 'kaviru',\n 'kaviruto',\n 'kaviruvira',\n 'kavo',\n 'kavokavo',\n 'kavokavoa',\n 'kavokavoto',\n 'kavora',\n 'kavorato',\n 'kavori',\n 'kavori',\n 'kavorou',\n 'kavovoa',\n 'kavovovira',\n 'kavu',\n 'kavu',\n 'kavuava',\n 'kavupie',\n 'kavura',\n 'kavurao',\n 'kavusi',\n 'kavuvo',\n 'kea',\n 'keakea',\n 'keakeato',\n 'keari',\n 'kearito',\n 'keavira',\n 'kee',\n 'keekee',\n 'keekeepa',\n 'keekeeri',\n 'keekeerito',\n 'keera',\n 'keeriva',\n 'keesi',\n 'keetaa',\n 'keevuru',\n 'keevuruvira',\n 'kegi',\n 'kei',\n 'keke',\n 'keke',\n 'kekepie',\n 'kekeputu',\n 'kekeputuvira',\n 'kekeraokovira',\n 'kekesopa',\n 'kekevoto',\n 'kekevotovira',\n 'kekira',\n 'keo',\n 'keoka',\n 'keopa',\n 'keovira',\n 'kepa',\n 'kepa toupato',\n 'kepetai',\n 'kepi',\n 'kepia',\n 'kepikepi',\n 'kepiko',\n 'kepiriko',\n 'kepiro',\n 'kepisi',\n 'kepisiva',\n 'kepita',\n 'kepitai',\n 'kepito',\n 'kepo',\n 'kepoi',\n 'keposi',\n 'kepoto',\n 'kera',\n 'kerakera',\n 'kerari',\n 'keraria',\n 'kerau',\n 'kerauto',\n 'keravisi',\n 'keravisia',\n 'keravo',\n 'kereaka',\n 'kerekoi',\n 'kerere',\n 'kerereua',\n 'kerete',\n 'kerete',\n 'kerevaru',\n 'keri',\n 'keriaka',\n 'kerikerisi',\n 'kerio',\n 'kerioua',\n 'keripaara',\n 'keripato',\n 'kerisi',\n 'kerisito',\n 'kerisivira',\n 'keritara',\n 'keriva',\n 'keroroi',\n 'kerosiri',\n 'keru',\n 'keru',\n 'kerui',\n 'keruiato',\n 'keruito',\n 'kerupiua',\n 'keruria',\n 'keruriato',\n 'keruriavira',\n 'kesi',\n 'kesie',\n 'kesievira',\n 'kesikea vaaguru',\n 'kesio',\n 'kesioto',\n 'kesivira',\n 'keta',\n 'ketaka',\n 'ketakaa',\n 'ketato',\n 'ketoo',\n 'ketoo',\n 'ketoopie',\n 'ketoopieara',\n 'ketoroa',\n 'ketu',\n 'kevaita',\n 'kevaita',\n 'kevaitato',\n 'kevira',\n 'kevisi',\n 'kevoisi',\n 'kevoisivira',\n 'kie',\n 'kii',\n 'kiikariko',\n 'kiipie',\n 'kiire',\n 'kiire',\n 'kiiru',\n 'kiiuto',\n 'kiki',\n 'kiki',\n 'kikipi',\n 'kikipisi',\n 'kikira',\n 'kikiraeko',\n 'kikisi',\n 'kikisikae',\n 'kikisiova',\n 'kikitausi',\n 'kikoo',\n 'kilia',\n 'kio',\n 'kipa',\n 'kipapie',\n 'kipe',\n 'kipekipe',\n 'kipekipea',\n 'kipeto',\n 'kipu',\n 'kipukipu',\n 'kipupaa',\n 'kipupato',\n 'kipuvira',\n 'kira',\n 'kirava',\n 'kire',\n 'kiri',\n 'kirikaokao',\n 'kirioto',\n 'kiro',\n 'kirokiro',\n 'kirokiro',\n 'kirokiropato',\n 'kiroko',\n 'kiru',\n 'kirukiru',\n 'kirukirua',\n 'kirupato',\n 'kitoiva',\n 'kitu',\n 'kitukitu',\n 'kiu',\n 'kiupie',\n 'kiuto',\n 'kiuve',\n 'kiuvu',\n 'koa',\n 'koai',\n 'koakoa',\n 'koakoa',\n 'koara',\n 'koarao',\n 'koaraua',\n 'koarava',\n 'koasio',\n 'koata',\n 'koatapie',\n 'koauve',\n 'koavaato',\n 'koe',\n 'koea',\n 'koekoe',\n 'koekoeto',\n 'koepato',\n 'koeta',\n 'koetaova',\n 'koetapie',\n 'koetava',\n 'koetavira',\n 'koeto',\n 'kogo',\n 'kogova',\n 'koi',\n 'koie',\n 'koie',\n 'koike',\n 'koiketo',\n 'koikevira',\n 'koikoi',\n 'koikoipato',\n 'koikoipie',\n 'koikoito',\n 'koisi',\n 'koisiva',\n 'koivira',\n 'koka',\n 'kokai',\n 'kokara',\n 'kokaraa',\n 'kokarapato',\n 'koke',\n 'kokee',\n 'kokepato',\n 'kokepato',\n 'kokepie',\n 'kokerao',\n 'kokeriva',\n 'kokeu',\n 'kokeva',\n 'koki',\n 'kokio',\n 'kokipaia',\n 'kokito',\n 'kokivira',\n 'koko',\n 'koko',\n 'kokoi',\n 'kokoisi',\n 'kokokoru',\n 'kokoo',\n 'kokooko',\n 'kokookoa',\n 'kokoote',\n 'kokootu',\n 'kokopa',\n 'kokopakou',\n 'kokopeko',\n 'kokopekovira',\n 'kokopeoto',\n 'kokopuoto',\n 'kokopuovira',\n 'kokopuru',\n 'kokopuvira',\n 'kokora',\n 'kokorai',\n 'kokorato',\n 'kokori',\n 'kokorivira',\n 'kokoro',\n 'kokoroki',\n 'kokoroku',\n 'kokorokupie',\n 'kokoropato',\n 'kokorosi',\n 'kokorovira',\n 'kokoru',\n 'kokoruu',\n 'kokoruu',\n 'kokosi',\n 'kokosi',\n 'kokosiria',\n 'kokosito',\n 'kokosiva',\n 'kokotagoe',\n 'kokote',\n 'kokoto',\n 'kokotu',\n 'kokotua',\n 'kokotuo',\n 'kokovae',\n 'kokovaeva',\n 'kokovara',\n 'kokovara',\n 'kokovaravira',\n 'kokovu',\n 'kokovua',\n 'kokovua',\n 'kokovua',\n 'kokovupaparie',\n 'kokovurito',\n 'koku',\n 'kokuoku',\n 'kokureko',\n 'kokuuto',\n 'kooe',\n 'kookaa',\n 'kookai',\n 'kookoo',\n 'kookooia',\n 'kookoopeko',\n 'kookoopi',\n 'kooku',\n 'kookuto',\n 'kookuvira',\n 'koopi',\n 'koopipi',\n 'koora',\n 'kooroo',\n 'koorooto',\n 'koorooto',\n 'kooroovira',\n 'kooru',\n 'koota',\n 'kootopa',\n 'kootutu',\n 'koou',\n 'kooupato',\n 'koova',\n 'koova',\n 'koovoto',\n 'koovotova',\n 'kopa',\n 'kopakai',\n 'kopakava',\n 'kopakopa',\n 'kopakovira',\n 'kopato',\n 'kopii',\n 'kopiia',\n 'kopiipato',\n 'kopiipie',\n 'kopiito',\n 'kopikao',\n 'kopikopi',\n 'kopikopiara',\n 'kopipi',\n 'kopirovu',\n 'kopu',\n 'kopua',\n 'kopuasi',\n 'kopuasipie',\n 'kopuasito',\n 'kopuasitovira',\n 'kopuasivira',\n 'kopuisi',\n 'kopukopu',\n 'kopukopua',\n 'kopupa',\n 'kopupira',\n 'kopuro',\n 'kopuru',\n 'kopuvioro',\n 'kopuvira',\n 'kora',\n 'korapato',\n 'korara',\n 'koraraoko',\n 'korau',\n 'koraua',\n 'korauru',\n 'korauvira',\n 'korea',\n 'korekare',\n 'korere',\n 'korereto',\n 'kori',\n 'koria',\n 'koribori',\n 'korikori',\n 'korikoripava',\n 'korita',\n 'korita',\n 'koriteira',\n 'koro',\n 'kororo',\n 'kororo',\n 'kororoisivira',\n 'kororovi',\n 'kororovivira',\n 'kororu',\n 'kororupie',\n 'koroto',\n 'koroviri',\n 'korovo',\n 'koru',\n 'koruko',\n 'korukoru',\n 'korukorupato',\n 'koruo',\n 'koruoto',\n 'koruou',\n 'koruoua',\n 'koruovira',\n 'korupie',\n 'korupievira',\n 'kosi',\n 'kosikosi',\n 'kosikosi',\n 'kosipa',\n 'kosipato',\n 'kosipie',\n 'kosivago',\n 'kosiviro',\n 'koto',\n 'kotokoto',\n 'kotokotoara',\n 'kotopa',\n 'kotopa',\n 'kotovira',\n 'kotu',\n 'kotukotu',\n 'kotupiua',\n 'koturu',\n 'kou',\n 'kou',\n 'koue',\n 'koue',\n 'koui',\n 'koukou',\n 'koukouo',\n 'koukouo',\n 'kova',\n 'kovaaro',\n 'kovaeto',\n 'kovaii',\n 'kovakovara',\n 'kovapato',\n 'kovarato',\n 'kovarua',\n 'kovasi',\n 'kovata',\n 'kovatavira',\n 'kovato',\n 'kovauke',\n 'kovava',\n 'kove',\n 'kove',\n 'kovea',\n 'kovekove',\n 'koveoapa',\n 'koveva',\n 'kovia',\n 'kovikoro',\n 'kovire',\n 'kovirea',\n 'kovo',\n 'kovo',\n 'kovo',\n 'kovoa',\n 'kovokovo',\n 'kovokovo',\n 'kovokovo',\n 'kovokovoa',\n 'kovopaa',\n 'kovopato',\n 'kovopie',\n 'kovoruko',\n 'kovoto',\n 'kovovo',\n 'kovuaka',\n 'kovuaro',\n 'kovukovu',\n 'kovukovuto',\n 'kovukovuvira',\n 'kovuru',\n 'kovurui',\n 'kovuruko',\n 'kovurukovira',\n 'kovuruvira',\n 'kovuto',\n 'kuara',\n 'kue',\n 'kuea',\n 'kuga',\n 'kui',\n 'kuio',\n 'kuioi',\n 'kuiopesi',\n 'kuiopetu',\n 'kuito',\n 'kuka',\n 'kukara',\n 'kukauviro',\n 'kukiuki',\n 'kukiukia',\n 'kuku',\n 'kukua',\n 'kukuaua',\n 'kukue',\n 'kukue pute',\n 'kukuepaa',\n 'kukuku',\n 'kukupira',\n 'kukuriko',\n 'kukurikoto',\n 'kukusiri',\n 'kukutauvu',\n 'kukutu',\n 'kukuuku',\n 'kukuukua',\n 'kukuukupie',\n 'kukuuvua',\n 'kukuvai',\n 'kukuvaipaa',\n 'kukuvita',\n 'kukuvua',\n 'kuokuo',\n 'kupare',\n 'kupareto',\n 'kupekupe',\n 'kupekupepa',\n 'kupero',\n 'kuperoo',\n 'kuperovira',\n 'kupii',\n 'kupukupu',\n 'kurae',\n 'kurasia',\n 'kurasia',\n 'kurei',\n 'kuri',\n 'kuriato',\n 'kurikaakaakuto',\n 'kurikasi',\n 'kurikasivira',\n 'kurikoko',\n 'kurikuri',\n 'kuripaa',\n 'kuritava',\n 'kuroa',\n 'kuroea',\n 'kurokuro',\n 'kurokuroto',\n 'kuroo',\n 'kurooro',\n 'kurovira',\n 'kuru',\n 'kurue',\n 'kurupi',\n 'kururai',\n 'kururu',\n 'kurutu',\n 'kusi',\n 'kusii',\n 'kusike',\n 'kusito',\n 'kuu',\n 'kuu',\n 'kuukuuvu',\n 'kuukuuvuto',\n 'kuuoa',\n 'kuupie',\n 'kuurea',\n 'kuuri',\n 'kuuva',\n 'kuuvaki',\n 'kuuvakito',\n 'kuuvato',\n 'kuuvavira',\n 'kuuvu',\n 'kuuvuvira',\n 'kuva',\n 'kuvaku',\n 'kuvato',\n 'kuvau',\n 'kuvaupie',\n 'kuvauvira',\n 'kuvera',\n 'kuverava',\n 'kuvere',\n 'kuverea',\n 'kuvereto',\n 'kuverevira',\n 'kuvoro',\n 'kuvu',\n 'kuvuara',\n 'kuvukuvu',\n 'kuvukuvua',\n 'kuvupato',\n 'kuvuto']"
     },
     "execution_count": 44,
     "metadata": {},
     "output_type": "execute_result"
    }
   ],
   "source": [
    "[lexeme.text.lower() for lexeme in lexicon.findall('record/lx')]"
   ],
   "metadata": {
    "collapsed": false,
    "pycharm": {
     "name": "#%%\n"
    }
   }
  },
  {
   "cell_type": "code",
   "execution_count": 45,
   "outputs": [
    {
     "name": "stdout",
     "output_type": "stream",
     "text": [
      "<record>\n",
      "    <lx>kaa</lx>\n",
      "    <ps>N</ps>\n",
      "    <pt>MASC</pt>\n",
      "    <cl>isi</cl>\n",
      "    <ge>cooking banana</ge>\n",
      "    <tkp>banana bilong kukim</tkp>\n",
      "    <pt>itoo</pt>\n",
      "    <sf>FLORA</sf>\n",
      "    <dt>12/Aug/2005</dt>\n",
      "    <ex>Taeavi iria kaa isi kovopaueva kaparapasia.</ex>\n",
      "    <xp>Taeavi i bin planim gaden banana bilong kukim tasol long paia.</xp>\n",
      "    <xe>Taeavi planted banana in order to cook it.</xe>\n",
      "  </record>"
     ]
    }
   ],
   "source": [
    "import sys\n",
    "from nltk.util import elementtree_indent\n",
    "from xml.etree.ElementTree import ElementTree\n",
    "elementtree_indent(lexicon)\n",
    "tree = ElementTree(lexicon[3])\n",
    "tree.write(sys.stdout, encoding='unicode')"
   ],
   "metadata": {
    "collapsed": false,
    "pycharm": {
     "name": "#%%\n"
    }
   }
  },
  {
   "cell_type": "code",
   "execution_count": 46,
   "outputs": [
    {
     "name": "stdout",
     "output_type": "stream",
     "text": [
      "<table>\n",
      "  <tr><td>kakae</td><td>???</td><td>small</td></tr>\n",
      "  <tr><td>kakae</td><td>CLASS</td><td>child</td></tr>\n",
      "  <tr><td>kakaevira</td><td>ADV</td><td>small-like</td></tr>\n",
      "  <tr><td>kakapikoa</td><td>???</td><td>small</td></tr>\n",
      "  <tr><td>kakapikoto</td><td>N</td><td>newborn baby</td></tr>\n",
      "  <tr><td>kakapu</td><td>V</td><td>place in sling for purpose of carrying</td></tr>\n",
      "  <tr><td>kakapua</td><td>N</td><td>sling for lifting</td></tr>\n",
      "  <tr><td>kakara</td><td>N</td><td>arm band</td></tr>\n",
      "  <tr><td>Kakarapaia</td><td>N</td><td>village name</td></tr>\n",
      "  <tr><td>kakarau</td><td>N</td><td>frog</td></tr>\n",
      "</table>\n"
     ]
    }
   ],
   "source": [
    "html = \"<table>\\n\"\n",
    "for entry in lexicon[70:80]:\n",
    "    lx = entry.findtext('lx')\n",
    "    ps = entry.findtext('ps')\n",
    "    ge = entry.findtext('ge')\n",
    "    html += \"  <tr><td>%s</td><td>%s</td><td>%s</td></tr>\\n\" % (lx, ps, ge)\n",
    "html += \"</table>\"\n",
    "print(html)"
   ],
   "metadata": {
    "collapsed": false,
    "pycharm": {
     "name": "#%%\n"
    }
   }
  },
  {
   "cell_type": "code",
   "execution_count": 47,
   "outputs": [
    {
     "data": {
      "text/plain": "13.635955056179775"
     },
     "execution_count": 47,
     "metadata": {},
     "output_type": "execute_result"
    }
   ],
   "source": [
    "from nltk.corpus import toolbox\n",
    "lexicon = toolbox.xml('rotokas.dic')\n",
    "sum(len(entry) for entry in lexicon) / len(lexicon)"
   ],
   "metadata": {
    "collapsed": false,
    "pycharm": {
     "name": "#%%\n"
    }
   }
  },
  {
   "cell_type": "code",
   "execution_count": 48,
   "outputs": [],
   "source": [
    "from xml.etree.ElementTree import SubElement\n",
    "\n",
    "def cv(s):\n",
    "    s = s.lower()\n",
    "    s = re.sub(r'[^a-z]',     r'_', s)\n",
    "    s = re.sub(r'[aeiou]',    r'V', s)\n",
    "    s = re.sub(r'[^V_]',      r'C', s)\n",
    "    return (s)\n",
    "\n",
    "def add_cv_field(entry):\n",
    "    for field in entry:\n",
    "        if field.tag == 'lx':\n",
    "            cv_field = SubElement(entry, 'cv')\n",
    "            cv_field.text = cv(field.text)"
   ],
   "metadata": {
    "collapsed": false,
    "pycharm": {
     "name": "#%%\n"
    }
   }
  },
  {
   "cell_type": "code",
   "execution_count": 49,
   "outputs": [
    {
     "name": "stdout",
     "output_type": "stream",
     "text": [
      "\\lx kaeviro\n",
      "\\ps V\n",
      "\\pt A\n",
      "\\ge lift off\n",
      "\\ge take off\n",
      "\\tkp go antap\n",
      "\\sc MOTION\n",
      "\\vx 1\n",
      "\\nt used to describe action of plane\n",
      "\\dt 03/Jun/2005\n",
      "\\ex Pita kaeviroroe kepa kekesia oa vuripierevo kiuvu.\n",
      "\\xp Pita i go antap na lukim haus win i bagarapim.\n",
      "\\xe Peter went to look at the house that the wind destroyed.\n",
      "\\cv CVVCVCV\n",
      "\n"
     ]
    }
   ],
   "source": [
    "lexicon = toolbox.xml('rotokas.dic')\n",
    "add_cv_field(lexicon[53])\n",
    "print(nltk.toolbox.to_sfm_string(lexicon[53]))"
   ],
   "metadata": {
    "collapsed": false,
    "pycharm": {
     "name": "#%%\n"
    }
   }
  },
  {
   "cell_type": "code",
   "execution_count": 50,
   "outputs": [
    {
     "data": {
      "text/plain": "[('lx:ps:pt:ge:tkp:dt:ex:xp:xe', 41),\n ('lx:rt:ps:pt:ge:tkp:dt:ex:xp:xe', 37),\n ('lx:rt:ps:pt:ge:tkp:dt:ex:xp:xe:ex:xp:xe', 27),\n ('lx:ps:pt:ge:tkp:nt:dt:ex:xp:xe', 20),\n ('lx:ps:pt:ge:tkp:nt:dt:ex:xp:xe:ex:xp:xe', 17),\n ('lx:ps:pt:ge:tkp:dt:ex:xp:xe:ex:xp:xe', 16),\n ('lx:rt:ps:pt:ge:ge:tkp:dt:ex:xp:xe:ex:xp:xe', 12),\n ('lx:ps:pt:ge:tkp:nt:sf:dt:ex:xp:xe', 9),\n ('lx:ps:pt:ge:ge:tkp:dt:ex:xp:xe', 9),\n ('lx:rt:ps:pt:ge:tkp:dt:ex:xp:xe:ex:xp:xe:ex:xp:xe', 9),\n ('lx:ps:ge:tkp:dt:ex:xp:xe', 8),\n ('lx:ps:pt:ge:ge:tkp:dt:ex:xp:xe:ex:xp:xe', 8),\n ('lx:rt:ps:pt:ge:ge:tkp:dt:ex:xp:xe', 8),\n ('lx:alt:rt:ps:pt:ge:tkp:dt:ex:xp:xe:ex:xp:xe', 7),\n ('lx:alt:rt:ps:pt:ge:tkp:dt:ex:xp:xe', 7),\n ('lx:ps:pt:ge:ge:tkp:arg:vx:dt:ex:xp:xe:ex:xp:xe', 6),\n ('lx:ps:pt:ge:tkp:cmt:dt:ex:xp:xe', 5),\n ('lx:ps:pt:ge:tkp:nt:sf:dt:ex:xp:xe:ex:xp:xe', 5),\n ('lx:rt:ps:pt:ge:tkp:cmt:dt:ex:xp:xe', 5),\n ('lx:rt:ps:pt:ge:tkp:nt:dt:ex:xp:xe:ex:xp:xe', 4),\n ('lx:ps:pt:ge:tkp:dt:cmt:ex:xp:xe:ex:xp:xe', 4),\n ('lx:rt:ps:pt:ge:tkp:cmt:dt:ex:xp:xe:ex:xp:xe', 4),\n ('lx:ps:pt:ge:ge:tkp:cmt:dt:ex:xp:xe:ex:xp:xe', 4),\n ('lx:ps:pt:ge:tkp:nt:cmt:dt:ex:xp:xe', 4),\n ('lx:rt:ps:pt:ge:tkp:dt', 4),\n ('lx:alt:rt:ps:pt:ge:ge:tkp:dt:ex:xp:xe:ex:xp:xe:ex:xp:xe', 4),\n ('lx:ps:pt:ge:tkp:eng:dt', 4),\n ('lx:ps:pt:ge:tkp:vx:cmt:dt:ex:xp:xe', 4),\n ('lx:ps:pt:ge:tkp:arg:vx:dt:ex:xp:xe:ex:xp:xe:ex:xp:xe', 3),\n ('lx:ps:pt:ge:tkp:sf:nt:dt:ex:xp:xe:ex:xp:xe:ex:xp:xe', 3),\n ('lx:rt:ps:pt:ge:ge:tkp:nt:dt:ex:xp:xe', 3),\n ('lx:rt:ps:pt:ge:ge:ge:tkp:dt:ex:xp:xe', 3),\n ('lx:ps:pt:ge:tkp:nt:cmt:dt:ex:xp:xe:ex:xp:xe', 3),\n ('lx:ps:pt:ge:tkp:eng:dt:ex:xp:xe:ex:xp:xe', 3),\n ('lx:ps:pt:ge:tkp:arg:vx:dt:ex:xp:xe:ex:xp:xe', 3),\n ('lx:rt:ps:pt:ge:tkp:arg:vx:dt:ex:xp:xe:ex:xp:xe:ex:xp:xe', 3),\n ('lx:rt:ps:pt:ge:tkp:cmt:dt:ex:xp:xe:ex:xp:xe:ex:xp:xe', 3),\n ('lx:ps:pt:ge:tkp:nt:dt:ex:xp:xe:ex:xp:xe:ex:xp:xe', 3),\n ('lx:ps:pt:ge:tkp:vx:dt:ex:xp:xe:ex:xp:xe', 3),\n ('lx:rt:ps:pt:dx:ge:tkp:dt:ex:xp:xe', 3),\n ('lx:alt:rt:ps:pt:ge:ge:tkp:dt:ex:xp:xe:ex:xp:xe', 3),\n ('lx:ps:pt:ge:tkp:eng:eng:arg:vx:dt:ex:xp:xe:ex:xp:xe', 3),\n ('lx:ps:pt:ge:tkp:cmt:vx:dt:ex:xp:xe', 3),\n ('lx:ps:pt:ge:ge:ge:tkp:vx:dt:ex:xp:xe:ex:xp:xe', 3),\n ('lx:rt:ps:pt:ge:ge:tkp:cmt:dt:ex:xp:xe:ex:xp:xe', 3),\n ('lx:ps:pt:ge:tkp:dt:cmt:ex:xp:xe', 3),\n ('lx:ps:pt:ge:tkp:nt:sf:dt:ex:xp:xe:ex:xp:xe:ex:xp:xe', 3),\n ('lx:ps:pt:ge:ge:tkp:vx:sc:dt:ex:xp:xe:ex:xp:xe', 3),\n ('lx:ps:pt:ge:tkp:nt:dt:sf:ex:xp:xe:ex:xp:xe', 2),\n ('lx:ps:pt:ge:tkp:dt:ex:xp:xe:ex:xp:xe:ex:xp:xe', 2),\n ('lx:ps:pt:ge:tkp:nt:sf:dt', 2),\n ('lx:ps:ge:ge:ge:tkp:cmt:dt:ex:xp:xe', 2),\n ('lx:ps:ge:tkp:cmt:dt:ex:xp:xe:ex:xp:xe', 2),\n ('lx:ps:ge:tkp:dt:ex:xp:xe:ex:xp:xe', 2),\n ('lx:rt:ps:pt:ge:tkp:arg:vx:dt:ex:xp:xe', 2),\n ('lx:rt:ps:pt:rdp:ge:tkp:arg:vx:dt:ex:xp:xe', 2),\n ('lx:rt:ps:pt:ge:tkp:dt:ex:xp:xe:ex:xp:xe:ex:xp:xe:ex:xp:xe', 2),\n ('lx:rt:ps:pt:ge:ge:tkp:dt:cmt:ex:xp:xe:ex:xp:xe', 2),\n ('lx:ps:pt:ge:eng:ig:dt', 2),\n ('lx:ps:pt:ge:tkp:tkp:arg:vx:dt:ex:xp:xe:ex:xp:xe', 2),\n ('lx:ps:pt:ge:ge:tkp:arg:vx:dt:ex:xp:xe:ex:xp:xe:ex:xp:xe', 2),\n ('lx:rt:ps:pt:ge:ge:tkp:dt:ex:xp:xe:ex:xp:xe:ex:xp:xe:ex:xp:xe', 2),\n ('lx:ps:pt:ge:tkp:sf:dt:ex:xp:xe', 2),\n ('lx:rt:ps:pt:ge:tkp:avm:dt:ex:xp:xe:ex:xp:xe', 2),\n ('lx:ps:pt:ge:eng:tkp:nt:dt:ex:xp:xe:ex:xp:xe', 2),\n ('lx:ps:pt:ge:tkp:eng:eng:eng:eng:arg:vx:dt:ex:xp:xe:ex:xp:xe', 2),\n ('lx:ps:pt:ge:tkp:arg:vx:cmt:dt:ex:xp:xe:ex:xp:xe:ex:xp:xe:ex:xp:xe', 2),\n ('lx:ps:dx:ge:tkp:eng:dt:ex:xp:xe', 2),\n ('lx:rt:ps:pt:ge:ge:tkp:cmt:dt:ex:xp:xe', 2),\n ('lx:ps:pt:ge:tkp:dt', 2),\n ('lx:ps:pt:ge:tkp:eng:eng:eng:dt:ex:xp:xe', 2),\n ('lx:rt:ps:ge:tkp:dt:ex:xp:xe:ex:xp:xe', 2),\n ('lx:ps:pt:ge:tkp:eng:eng:eng:dt:ex:xp:xe:ex:xp:xe', 2),\n ('lx:rt:ps:pt:ge:tkp:avm:dt:ex:xp:xe', 2),\n ('lx:ps:pt:ge:tkp:eng:dt:ex:xp:xe', 2),\n ('lx:alt:rt:ps:pt:ge:tkp:dt:ex:xp:xe:ex:xp:xe:ex:xp:xe', 2),\n ('lx:rt:ps:pt:rdp:ge:ge:tkp:vx:arg:dt:ex:xp:xe:ex:xp:xe', 2),\n ('lx:ps:pt:ge:tkp:vx:arg:dt:ex:xp:xe:ex:xp:xe', 2),\n ('lx:ps:pt:ge:tkp:nt:ig:dt', 2),\n ('lx:ps:pt:ge:tkp:cmt:dt:ex:xp:xe:ex:xp:xe', 2),\n ('lx:ps:ge:tkp:tkp:dt:ex:xp:xe', 2),\n ('lx:rt:ps:pt:ge:ge:ge:tkp:dt:ex:xp:xe:ex:xp:xe', 2),\n ('lx:rt:ps:pt:ge:ge:tkp:dt:ex:xp:xe:ex:xp:xe:ex:xp:xe', 2),\n ('lx:ps:pt:ge:tkp:cmt:vx:dt', 2),\n ('lx:rt:ps:ge:tkp:dt:ex:xp:xe:ex:xp:xe:ex:xp:xe', 2),\n ('lx:ps:pt:ge:ge:tkp:vx:arg:dt:ex:xp:xe:ex:xp:xe', 2),\n ('lx:alt:rt:ps:pt:ge:ge:tkp:dt:ex:xp:xe', 2),\n ('lx:ps:pt:ge:ge:tkp:dt', 2),\n ('lx:ps:pt:ge:ge:tkp:vx:cmt:dt:ex:xp:xe:ex:xp:xe', 2),\n ('lx:ps:pt:dx:ge:tkp:vx:dt:ex:xp:xe', 2),\n ('lx:ps:pt:ge:tkp:cmt:dt', 2),\n ('lx:ps:pt:ge:tkp:vx:cmt:dt:ex:xp:xe:ex:xp:xe', 2),\n ('lx:rt:ps:ge:tkp:dt', 2),\n ('lx:ps:pt:ge:ge:tkp:arg:vx:nt:dt:ex:xp:xe:ex:xp:xe', 2),\n ('lx:rt:ps:pt:ge:tkp:arg:vx:dt:ex:xp:xe:ex:xp:xe', 2),\n ('lx:ps:pt:dx:ge:tkp:eng:nt:dt', 2),\n ('lx:ps:pt:ge:tkp:arg:vx:dt:ex:xp:xe', 2),\n ('lx:ps:pt:ge:tkp:eng:cmt:dt:ex:xp:xe', 2),\n ('lx:ps:pt:ge:eng:eng:eng:tkp:arg:vx:dt:ex:xp:xe:ex:xp:xe', 2),\n ('lx:ps:pt:ge:tkp:tkp:nt:dt:ex:xp:xe:ex:xp:xe', 2),\n ('lx:ps:pt:ge:tkp:dcsv:vx:sc:dt:ex:xp:xe:ex:xp:xe', 2),\n ('lx:rt:ps:pt:ge:ge:tkp:arg:vx:dt:ex:xp:xe:ex:xp:xe:ex:xp:xe', 2),\n ('lx:rt:ps:pt:dx:ge:ge:tkp:avm:dt', 2),\n ('lx:ps:pt:ge:tkp:cm:arg:vx:dt:ex:xp:xe:ex:xp:xe', 2),\n ('lx:rt:ps:pt:ge:tkp:sf:nt:dt:ex:xp:xe:ex:xp:xe', 2),\n ('lx:rt:ps:ge:tkp:dt:ex:xp:xe', 2),\n ('lx:ps:pt:ge:tkp:sc:vx:dt:ex:xp:xe:ex:xp:xe', 2),\n ('lx:ps:ge:tkp:eng:dt:ex:xp:xe:ex:xp:xe', 2),\n ('lx:ps:pt:ge:tkp:sf:nt:dt:ex:xp:xe', 2),\n ('lx:ps:pt:ge:tkp:eng:sa:sf:dt:ex:xp:xe:ex:xp:xe', 2),\n ('lx:ps:pt:ge:tkp:dx:dt:ex:xp:xe', 2),\n ('lx:ps:pt:ge:tkp:vx:arg:cmt:dt', 2),\n ('lx:ps:pt:ge:tkp:nt:pt:dt:ex:xp:xe', 2),\n ('lx:rt:ps:pt:ge:ge:tkp:avm:dt:ex:xp:xe:ex:xp:xe', 2),\n ('lx:rt:ps:pt:ge:ge:ge:tkp:dt:ex:xp:xe:ex:xp:xe:ex:xp:xe', 2),\n ('lx:ps:pt:ge:ge:tkp:nt:dt:ex:xp:xe', 2),\n ('_sh:_DateStampHasFourDigitYear', 1),\n ('lx:ps:pt:ge:tkp:dcsv:vx:sc:dt:ex:xp:xe', 1),\n ('lx:ps:pt:cl:ge:tkp:pt:sf:dt:ex:xp:xe', 1),\n ('lx:ps:pt:ge:tkp:eng:eng:cmt:dt:ex:xp:xe', 1),\n ('lx:rt:ps:rdp:ge:tkp:sc:cmt:dt:ex:xp:xe:ex:xp:xe:ex:xp:xe:ex:xp:xe', 1),\n ('lx:ps:pt:ge:tkp:sf:cmt:dt:ex:xp:xe', 1),\n ('lx:rt:ps:pt:ge:tkp:vx:sc:cmt:dt:ex:xp:xe:ex:xp:xe', 1),\n ('lx:rt:ps:pt:ge:ge:tkp:dt', 1),\n ('lx:rt:ps:pt:ge:eng:eng:eng:ge:tkp:tkp:arg:vx:dt:cmt:ex:xp:xe:ex:xp:xe:ex:xp:xe:ex:xp:xe:ex:xp:xe',\n  1),\n ('lx:ps:pt:ge:tkp:eng:eng:arg:vx:dcsv:dt:ex:xp:xe', 1),\n ('lx:rt:ps:pt:ge:eng:eng:eng:eng:tkp:arg:vx:dt:ex:xp:xe:ex:xp:xe:ex:xp:xe',\n  1),\n ('lx:rt:ps:pt:ge:tkp:cmt:nt:dt:ex:xp:xe:ex:xp:xe', 1),\n ('lx:ps:pt:ge:tkp:vx:dt:cmt:ex:xp:xe:ex:xp:xe', 1),\n ('lx:ps:pt:ge:tkp:sf:nt:cmt:dt:ex:xp:xe:ex:xp:xe', 1),\n ('lx:ps:pt:ge:ge:tkp:arg:vx:dcsv:dt:cmt:ex:xp:xe', 1),\n ('lx:rt:ps:pt:ge:tkp:eng:eng:eng:eng:eng:eng:dt:ex:xp:xe:ex:xp:xe', 1),\n ('lx:ps:pt:ge:tkp:arg:vx:dcsv:dt:ex:xp:xe:ex:xp:xe', 1),\n ('lx:ps:pt:ge:tkp:vx:cmt:dt', 1),\n ('lx:rt:ps:ge:tkp:am:dcsv:dt:ex:xp:xe:ex:xp:xe', 1),\n ('lx:alt:rt:ps:pt:ge:eng:eng:tkp:dt:ex:xp:xe', 1),\n ('lx:rt:ps:pt:sn:ge:ge:ge:tkp:tkp:tkp:arg:vx:dt:ex:xp:xe:ex:xp:xe', 1),\n ('lx:rt:ps:pt:sn:ge:tkp:arg:vx:dt:ex:xp:xe:ex:xp:xe', 1),\n ('lx:ps:ge:ge:ge:tkp:dcsv:am:cmt:dt:ex:xp:xe', 1),\n ('lx:rt:ps:pt:ge:tkp:arg:vx:cmt:dt:ex:xp:xe:ex:xp:xe:ex:xp:xe', 1),\n ('lx:ps:pt:ge:ge:ge:tkp:cmt:dt:ex:xp:xe', 1),\n ('lx:ps:pt:ge:ge:tkp:sc:vx:nt:dt:ex:xp:xe:cv', 1),\n ('lx:ps:pt:ge:tkp:sf:dt:ex:xp:xe:ex:xp:xe', 1),\n ('lx:ps:pt:ge:ge:tkp:vx:cmt:sc:dt:ex:xp:xe:ex:xp:xe', 1),\n ('lx:rt:ps:pt:ge:ge:ge:tkp:dt:cmt:ex:xp:xe:ex:xp:xe', 1),\n ('lx:ps:pt:ge:tkp:eng:eng:vx:sc:dt:ex:xp:xe:ex:xp:xe', 1),\n ('lx:rt:ps:pt:dx:ge:eng:eng:tkp:tkp:vx:arg:dt:ex:xp:xe', 1),\n ('lx:ps:pt:ge:ge:tkp:nt:cmt:dt:ex:xp:xe', 1),\n ('lx:ps:pt:ge:tkp:sf:cmt:dt:ex:xp:xe:ex:xp:xe', 1),\n ('lx:alt:ps:pt:ge:ge:ge:tkp:cmt:dcsv:vx:sc:dt:ex:xp:xe:ex:xp:xe', 1),\n ('lx:alt:rt:ps:pt:ge:ge:tkp:cmt:arg:vx:cmt:nt:dt:ex:xp:xe:ex:xp:xe', 1),\n ('lx:ps:ge:ge:tkp:cmt:dt:ex:xp:xe', 1),\n ('lx:rt:ps:ge:ge:tkp:dt:ex:xp:xe', 1),\n ('lx:rt:ps:pt:ge:tkp:dt:cmt:ex:xp:xe:ex:xp:xe:ex:xp:xe', 1),\n ('lx:ps:pt:ge:tkp:dx:dt:ex:xp:xe:ex:xp:xe', 1),\n ('lx:ps:pt:ge:ge:tkp:tkp:tkp:sf:nt:dt:ex:xp:xe:ex:xp:xe', 1),\n ('lx:ps:pt:ge:eng:eng:eng:tkp:cmt:dt:ex:xp:xe:ex:xp:xe', 1),\n ('lx:ps:pt:cl:ge:tkp:nt:sf:dt:ex:xp:xe:ex:xp:xe:ex:xp:xe:ex:xp:xe', 1),\n ('lx:ps:pt:ge:tkp:arg:vx:dt:ex:xp:xe:ex:xp:xe:ex:xp:xe:ex:xp:xe', 1),\n ('lx:ps:pt:ge:eng:eng:eng:eng:tkp:dt:ex:xp:xe', 1),\n ('lx:ps:pt:ge:eng:eng:tkp:cmt:vx:dt:ex:xp:xe:ex:xp:xe:ex:xp:xe', 1),\n ('lx:ps:pt:ge:eng:eng:tkp:vx:arg:dt:ex:xp:xe:ex:xp:xe:ex:xp:xe', 1),\n ('lx:rt:ps:pt:ge:ge:tkp:dt:cmt:ex:xp:xe:ex:xp:xe:ex:xp:xe', 1),\n ('lx:ps:pt:ge:tkp:arg:vx:nt:dcsv:dt:ex:xp:xe:ex:xp:xe', 1),\n ('lx:rt:ps:pt:ge:ge:dt:ex:xp:xe:ex:xp:xe', 1),\n ('lx:ps:pt:ge:tkp:eng:arg:vx:nt:dt:ex:xp:xe:ex:xp:xe', 1),\n ('lx:rt:ps:pt:dx:ge:tkp:avm:dt', 1),\n ('lx:rt:ps:pt:ge:ge:tkp:tkp:vx:nt:dt:ex:xp:xe:ex:xp:xe:ex:xp:xe:ex:xp:xe:ex:xp:xe',\n  1),\n ('lx:ps:pt:ge:tkp:nt:sa:sf:dt:ex:xp:xe', 1),\n ('lx:ps:pt:ge:tkp:ig:nt:dt:cmt:ex:xp:xe:ex:xp:xe:ex:xp:xe', 1),\n ('lx:alt:ps:pt:ge:tkp:ig:nt:dt', 1),\n ('lx:ps:pt:ge:tkp:eng:vx:arg:cmt:dt:ex:xp:xe', 1),\n ('lx:ps:pt:ge:ge:tkp:dt:arg:vx:cmt:ex:xp:xe:ex:xp:xe:ex:xp:xe', 1),\n ('lx:ps:pt:ge:eng:eng:eng:tkp:tkp:vx:sc:dt:ex:xp:xe:ex:xp:xe', 1),\n ('lx:alt:rt:ps:pt:ge:ge:tkp:tkp:cmt:dt:ex:xp:xe:ex:xp:xe:ex:xp:xe:ex:xp:xe',\n  1),\n ('lx:rt:ps:pt:rdp:ge:ge:tkp:cm:arg:vx:cmt:dt:ex:xp:xe:ex:xp:xe', 1),\n ('lx:ps:pt:ge:tkp:eng:vx:cmt:dt:ex:xp:xe:ex:xp:xe:ex:xp:xe', 1),\n ('lx:rt:ps:pt:dx:ge:tkp:eng:vx:arg:dt:ex:xp:xe', 1),\n ('lx:rt:ps:pt:ge:ge:ge:tkp:cmt:dt:ex:xp:xe:ex:xp:xe:ex:xp:xe', 1),\n ('lx:rt:ps:pt:ge:ge:tkp:tkp:dt:ex:xp:xe', 1),\n ('lx:ps:pt:ge:ge:tkp:arg:vx:cmt:dt:ex:xp:xe', 1),\n ('lx:rt:ps:pt:ge:eng:eng:tkp:dt:ex:xp:xe', 1),\n ('lx:ps:pt:ge:tkp:tkp:dt:ex:xp:xe:ex:xp:xe:ex:xp:xe:ex:xp', 1),\n ('lx:rt:ps:pt:ge:ge:tkp:sf:nt:dt:ex:xp:xe', 1),\n ('lx:ps:pt:ge:tkp:tkp:eng:eng:eng:eng:arg:vx:dt:ex:xp:xe:ex:xp:xe:ex:xp:xe:ex:xp:xe',\n  1),\n ('lx:rt:ps:pt:ge:tkp:eng:cmt:dt:ex:xp:xe:ex:xp:xe', 1),\n ('lx:rt:ps:pt:rdp:ge:tkp:vx:arg:dt:ex:xp:xe:ex:xp:xe:ex:xp:xe', 1),\n ('lx:rt:ps:pt:ge:tkp:eng:dt', 1),\n ('lx:rt:ps:pt:ge:tkp:vx:arg:dt:ex:xp:xe:ex:xp:xe:ex:xp:xe:ex:xp:xe:ex:xp:xe:ex:xp:xe',\n  1),\n ('lx:rt:ps:pt:dx:ge:eng:eng:tkp:dt', 1),\n ('lx:ps:pt:ge:tkp:dt:ex:xp:xe:ex:xp:xe:ex:xp:xe:ex:xp:xe', 1),\n ('lx:ps:pt:ge:ge:tkp:sa:vx:sc:dt:ex:xp:xe:ex:xp:xe', 1),\n ('lx:alt:rt:ps:pt:ge:ge:tkp:dt:ex:xp:xe:ex:xp:xe:ex:xp:xe:ex:xp:xe', 1),\n ('lx:ps:pt:dx:ge:eng:eng:tkp:dt', 1),\n ('lx:ps:pt:ge:eng:nt:dt:ex:xp:xe', 1),\n ('lx:ps:pt:ge:tkp:dcsv:vx:dt:ex:xp:xe:ex:xp:xe', 1),\n ('lx:rt:ps:pt:ge:tkp:vx:arg:dt:cmt:ex:xp:xe:ex:xp:xe', 1),\n ('lx:rt:ps:ge:tkp:cmt:dt:ex:xp:xe:ex:xp:xe', 1),\n ('lx:ps:pt:ge:ge:tkp:dcsv:vx:dt:ex:xp:xe:ex:xp:xe:ex:xp:xe', 1),\n ('lx:rt:ps:pt:ge:tkp:eng:vx:arg:dt:ex:xp:xe:ex:xp:xe:ex:xp:xe', 1),\n ('lx:rt:ps:pt:ge:tkp:nt:cmt:dt:ex:xp:xe:ex:xp:xe', 1),\n ('lx:alt:rt:ps:pt:rdp:ge:tkp:cmt:arg:vx:dt:ex:xp:xe:ex:xp:xe:ex:xp:xe', 1),\n ('lx:ps:pt:ge:tkp:tkp:eng:cmt:dt:ex:xp:xe:ex:xp:xe', 1),\n ('lx:ps:pt:ge:tkp:sc:vx:cmt:dt:ex:xp:xe:ex:xp:xe', 1),\n ('lx:alt:rt:ps:pt:ge:eng:eng:tkp:dt:ex:xp:xe:ex:xp:xe:ex:xp:xe', 1),\n ('lx:ps:pt:ge:ge:ge:tkp:arg:vx:nt:dt:ex:xp:xe:ex:xp:xe', 1),\n ('lx:ps:pt:ge:ge:tkp:vx:sc:dt:cmt:ex:xp:xe:ex:xp:xe:ex:xp:xe', 1),\n ('lx:ps:pt:ge:tkp:tkp:dcsv:vx:sc:dt:ex:xp:xe:ex:xp:xe:ex:xp:xe:ex:xp:xe', 1),\n ('lx:rt:ps:pt:sn:rdp:ge:tkp:vx:sc:cmt:dt:ex:xp:xe:ex:xp:xe', 1),\n ('lx:rt:ps:pt:sn:rdp:ge:tkp:vx:sc:dt:ex:xp:xe:ex:xp:xe', 1),\n ('lx:rt:ps:pt:ge:tkp:dx:dt:ex:xp:xe:ex:xp:xe', 1),\n ('lx:ps:pt:ge:tkp:eng:eng:eng:dcsv:vx:sc:dt:ex:xp:xe:ex:xp:xe', 1),\n ('lx:rt:ps:pt:ge:tkp:vx:arg:dt:ex:xp:xe:ex:xp:xe:ex:xp:xe:ex:xp:xe', 1),\n ('lx:ps:pt:ge:ge:tkp:vx:arg:dt:ex:xp:xe:ex:xp:xe:ex:xp:xe', 1),\n ('lx:rt:ps:pt:ge:tkp:eng:eng:eng:arg:vx:dt:ex:xp:xe:ex:xp:xe', 1),\n ('lx:rt:ps:pt:ge:ge:tkp:dx:dx:dt:ex:xp:xe:ex:xp:xe', 1),\n ('lx:ps:pt:ig:ge:tkp:dt', 1),\n ('lx:ps:pt:ge:ge:tkp:arg:vx:dcpv:dt:ex:xp:xe:ex:xp:xe', 1),\n ('lx:rt:ps:pt:ge:ge:ge:tkp:tkp:dt:ex:xp:xe:ex:xp:xe', 1),\n ('lx:ps:pt:ge:tkp:ig:dt:ex:xp:xe', 1),\n ('lx:ps:pt:ge:tkp:eng:nt:vx:sc:dt:ex:xp:xe:ex:xp:xe:ex:xp:xe:ex:xp:xe', 1),\n ('lx:ps:pt:ge:tkp:dt:arg:vx:ex:xp:xe:ex:xp:xe:ex:xp:xe', 1),\n ('lx:rt:ps:pt:ge:eng:eng:eng:tkp:ge:vx:arg:dt:rdp:ex:xp:xe:ex:xp:xe', 1),\n ('lx:rt:ps:pt:ge:tkp:avm:sc:dt:ex:xp:xe', 1),\n ('lx:ps:pt:ge:ge:tkp:nt:arg:vx:dt:ex:xp:xe:ex:xp:xe:ex:xp:xe', 1),\n ('lx:ps:pt:dx:ge:tkp:nt:dt:ex:xp:xe', 1),\n ('lx:ps:pt:ge:ge:ge:ge:tkp:arg:vx:cm:cmt:dt:ex:xp:xe:ex:xp:xe', 1),\n ('lx:rt:ps:pt:rdp:ge:tkp:nt:arg:vx:dt:ex:xp:xe:ex:xp:xe', 1),\n ('lx:rt:ps:pt:ge:tkp:eng:dt:ex:xp:xe', 1),\n ('lx:ps:pt:dx:ge:tkp:eng:ig:dt', 1),\n ('lx:ps:pt:ge:eng:eng:tkp:vx:sc:dcpv:cmt:dt:ex:xp:xe:ex:xp:xe', 1),\n ('lx:ps:pt:ge:tkp:nt:cmt:dt:alt:ex:xp:xe:ex:xp:xe:ex:xp:xe', 1),\n ('lx:ps:pt:ge:tkp:eng:nt:dt:ex:xp:xe:ex:xp:xe', 1),\n ('lx:rt:ps:pt:rdp:ge:tkp:tkp:eng:eng:eng:eng:vx:sc:cmt:dt:ex:xp:xe:ex:xp:xe:ex:xp:xe:ex:xp:xe',\n  1),\n ('lx:rt:ps:pt:ge:tkp:vx:arg:cmt:dt:ex:xp:xe:ex:xp:xe:ex:xp:xe:ex:xp:xe:ex:xp:xe',\n  1),\n ('lx:ps:pt:ge:eng:eng:eng:tkp:tkp:dcsv:cm:vx:arg:sc:cmt:dt:ex:xp:xe:ex:xp:xe:ex:xp:xe:ex:xp:xe',\n  1),\n ('lx:rt:ps:pt:ge:eng:eng:tkp:vx:arg:dt:ex:xp:xe:ex:xp:xe:ex:xp:xe', 1),\n ('lx:rt:ps:pt:ge:eng:tkp:vx:sc:cmt:dt:ex:xp:xe', 1),\n ('lx:rt:ps:pt:ge:ge:tkp:vx:arg:cmt:dt:ex:xp:xe:ex:xp:xe:ex:xp:xe', 1),\n ('lx:alt:rt:ps:pt:ge:ge:ge:tkp:dt:ex:xp:xe:ex:xp:xe:ex:xp:xe:ex:xp:xe:ex:xp:xe',\n  1),\n ('lx:ps:pt:ge:ge:tkp:tkp:tkp:vx:cmt:dt:ex:xp:xe', 1),\n ('lx:ps:pt:ge:tkp:nt:ig:dt:ex:xp:xe:ex:xp:xe', 1),\n ('lx:ps:pt:ge:tkp:dcpv:vx:arg:dt:cmt:ex:xp:xe:ex:xp:xe', 1),\n ('lx:ps:dx:ge:tkp:eng:eng:dt:ex:xp:xe', 1),\n ('lx:rt:ps:pt:ge:eng:eng:eng:tkp:dt:ex:xp:xe:ex:xp:xe:ex:xp:xe:ex:xp:xe:ex:xp:xe',\n  1),\n ('lx:rt:ps:ge:ge:ge:tkp:tkp:dt:ex:xp:xe', 1),\n ('lx:alt:rt:ps:pt:ge:tkp:tkp:cmt:dt:ex:xp:xe:ex:xp:xe:ex:xp:xe', 1),\n ('lx:rt:ps:pt:rdp:ge:ge:tkp:tkp:dt:ex:xp:xe:ex:xp:xe', 1),\n ('lx:rt:ps:pt:ge:tkp:eng:eng:eng:nt:dt:ex:xp:xe:ex:xp:xe', 1),\n ('lx:alt:rt:ps:pt:ge:tkp:sc:dt:ex:xp:xe', 1),\n ('lx:rt:ps:pt:rdp:ge:ge:ge:tkp:tkp:nt:vx:sc:dt:ex:xp:xe:ex:xp:xe:ex:xp:xe',\n  1),\n ('lx:ps:ge:ge:tkp:cmt:dt:ex:xp:xe:ex:xp:xe', 1),\n ('lx:rt:ps:pt:ge:tkp:nt:dt:ex:xp:xe', 1),\n ('lx:rt:ps:pt:ge:ge:tkp:vx:arg:dt:ex:xp:xe:ex:xp:xe:ex:xp:xe', 1),\n ('lx:alt:rt:ps:pt:ge:tkp:nt:sa:dt:ex:xp:xe:ex:xp:xe:ex:xp:xe', 1),\n ('lx:ps:pt:ge:tkp:cmt:dt:alt:ex:xp:xe', 1),\n ('lx:ps:pt:ge:tkp:tkp:sc:vx:dt:ex:xp:xe:ex:xp:xe', 1),\n ('lx:rt:ps:pt:rdp:ge:tkp:vx:sc:dt:ex:xp:xe:ex:xp:xe:ex:xp:xe', 1),\n ('lx:ps:pt:ge:tkp:tkp:eng:eng:eng:eng:cm:am:dcsv:arg:vx:cmt:dt:ex:xp:xe:ex:xp:xe',\n  1),\n ('lx:alt:ps:pt:ge:ge:ge:ge:tkp:cmt:cm:arg:vx:nt:dt:ex:xp:xe:ex:xp:xe:ex:xp:xe',\n  1),\n ('lx:alt:rt:ps:pt:ge:tkp:nt:cmt:dt:ex:xp:xe:ex:xp:xe:ex:xp:xe:ex:xp:xe', 1),\n ('lx:rt:ps:pt:rdp:ge:tkp:eng:eng:vx:arg:dt:ex:xp:xe:ex:xp:xe:ex:xp:xe', 1),\n ('lx:ps:pt:ge:eng:tkp:dt:ex:xp:xe:ex:xp:xe:ex:xp', 1),\n ('lx:ps:pt:ge:tkp:tkp:arg:vx:dt:ex:xp:xe:ex:xp:xe:ex:xp:xe:ex:xp:xe', 1),\n ('lx:ps:pt:ge:ge:tkp:vx:arg:dt:cmt:ex:xp:xe:ex:xp:xe:ex:xp:xe', 1),\n ('lx:ps:pt:ge:tkp:vx:sc:cmt:dt:ex:xp:xe:ex:xp:xe:ex:xp', 1),\n ('lx:rt:ps:pt:rdp:ge:ge:tkp:cm:vx:arg:dt:ex:xp:xe:ex:xp:xe', 1),\n ('lx:rt:ps:pt:rdp:ge:tkp:vx:arg:dt:ex:xp:xe:ex:xp:xe', 1),\n ('lx:ps:pt:ge:tkp:cm:vx:arg:dt:cmt:ex:xp:xe:ex:xp:xe:ex:xp:xe', 1),\n ('lx:ps:pt:ge:ge:tkp:vx:sc:cmt:dt:ex:xp:xe', 1),\n ('lx:ps:pt:ge:eng:eng:eng:tkp:tkp:arg:vx:dt:ex:xp:xe:ex:xp:xe', 1),\n ('lx:ps:pt:ge:ge:ge:ge:tkp:dt:ex:xp:xe:ex:xp:xe', 1),\n ('lx:ps:pt:ge:ge:tkp:dt:cmt:ex:xp:xe:ex:xp:xe:ex:xp:xe', 1),\n ('lx:ps:pt:ge:ge:ge:tkp:cmt:arg:vx:cm:sa:dt:ex:xp:xe:ex:xp:xe', 1),\n ('lx:rt:ps:pt:ge:ge:tkp:tkp:dt:ex:xp:xe:ex:xp:xe:ex:xp:xe:ex:xp:xe', 1),\n ('lx:ps:pt:ge:eng:eng:tkp:tkp:vx:sc:dcpv:dt:cmt:ex:xp:xe:ex:xp:xp', 1),\n ('lx:ps:pt:ge:eng:tkp:tkp:vx:arg:sc:dt:ex:xp:xe', 1),\n ('lx:rt:ps:pt:ge:tkp:eng:vx:arg:nt:dt:ex:xp:xe:ex:xp:xe:ex:xp:xe', 1),\n ('lx:ps:pt:ge:eng:eng:eng:tkp:cm:arg:cmt:vx:dt:ex:xp:xe:ex:xp:xe', 1),\n ('lx:rt:ps:pt:rdp:ge:tkp:eng:arg:vx:cmt:dt:ex:xp:xe:ex:xp:xe', 1),\n ('lx:rt:ps:pt:ge:tkp:dt:ex:xp:xe:xp:xe', 1),\n ('lx:alt:rt:ps:pt:ge:ge:tkp:dt:cmt:ex:xp:xe:ex:xp:xe:ex:xp:xe', 1),\n ('lx:ps:pt:ge:ge:ge:tkp:nt:arg:vx:dt:ex:xp:xe:ex:xp:xe', 1),\n ('lx:rt:ps:pt:rdp:ge:ge:tkp:vx:cmt:dt:ex:xp:xe:ex:xp:xe', 1),\n ('lx:ps:pt:ge:eng:eng:eng:tkp:tkp:cm:vx:arg:sc:cmt:dt:ex:xp:xe:ex:xp:xe:ex:xp:xe:ex:xp:xe:ex:xp:xe',\n  1),\n ('lx:ps:ge:tkp:cmt:dt:ex:xp:xe', 1),\n ('lx:ps:pt:ge:eng:eng:tkp:nt:dt', 1),\n ('lx:rt:ge:tkp:dt:ex:xp:xe', 1),\n ('lx:ps:pt:ge:tkp:tkp:vx:arg:dt:ex:xp:xe:ex:xp:xe', 1),\n ('lx:ps:pt:ge:eng:tkp:vx:arg:cmt:sc:dcpv:dt:ex:xp:xe:ex:xp:xe:ex:xp:xe', 1),\n ('lx:ps:pt:ge:tkp:dcsv:vx:dcpv:dadv:dt:ex:xp:xe:ex:xp:xe', 1),\n ('lx:rt:ps:pt:ge:tkp:tkp:arg:vx:dt:ex:xp:xe:ex:xp:xe', 1),\n ('lx:alt:rt:ps:pt:ge:ge:tkp:nt:dt:ex:xp:xe:ex:xp:xe', 1),\n ('lx:ps:dx:ge:tkp:dt:nt:cmt', 1),\n ('lx:alt:rt:ps:pt:ge:ge:tkp:tkp:dt:ex:xp:xe:ex:xp:xe', 1),\n ('lx:ps:pt:ge:ge:tkp:vx:arg:cmt:dt:ex:xp:xe:ex:xp:xe:ex:xp:xe', 1),\n ('lx:ps:pt:ge:ge:tkp:vx:dt:cmt:ex:xp:xe:ex:xp:xe', 1),\n ('lx:ps:pt:ge:tkp:am:vx:dt:ex:xp:xe:ex:xp:xe:ex:xp:xe', 1),\n ('lx:ps:pt:ge:tkp:eng:eng:dt:ex:xp:xe:ex:xp:xe', 1),\n ('lx:rt:rt:ps:pt:dx:ge:tkp:dt', 1),\n ('lx:rt:ps:pt:cl:ge:tkp:sf:nt:dt:ex:xp:xe', 1),\n ('lx:alt:rt:ps:pt:ge:tkp:nt:dt:ex:xp:xe:ex:xp', 1),\n ('lx:ps:pt:ge:ge:tkp:arg:vx:dt:ex:xp:xe', 1),\n ('lx:ps:pt:ge:tkp:eng:sa:dt:ex:xp:xe:ex:xp:xe', 1),\n ('lx:ps:pt:ge:tkp:sf:nt:dt:ex:xp:xe:ex:xp:xe', 1),\n ('lx:ps:ge:ge:tkp:dt:cmt', 1),\n ('lx:ps:pt:ge:tkp:cmt:arg:vx:dt:ex:xp:xe:ex:xp:xe:ex:xp:xe:ex:xp:xe', 1),\n ('lx:ps:pt:ge:ge:tkp:cm:vx:arg:dt:ex:xp:xe:ex:xp:xe', 1),\n ('lx:rt:ps:pt:rdp:ge:ge:tkp:tkp:vx:arg:dt:ex:xp:xe:ex:xp:xe', 1),\n ('lx:ps:pt:ge:tkp:eng:eng:eng:arg:vx:dt:ex:xp:xe:ex:xp:xe', 1),\n ('lx:rt:ps:pt:ge:tkp:eng:eng:eng:dt:ex:xp:xe', 1),\n ('lx:ps:pt:ge:tkp:nt:sa:dt:ex:xp:xe', 1),\n ('lx:alt:ps:pt:ge:tkp:nt:dt:ex:xp:xe', 1),\n ('lx:rt:wf:wf:ps:pt:ge:tkp:dt:ex:xp:xe:ex:xp:xe:ex:xp:xe', 1),\n ('lx:rt:ps:pt:ge:tkp:cmt:nt:dt', 1),\n ('lx:ps:pt:ge:ge:ge:tkp:vx:nt:cmt:dt:ex:xp:xe', 1),\n ('lx:alt:rt:ps:pt:ge:ge:tkp:dt', 1),\n ('lx:alt:rt:ps:pt:ge:tkp:dt:ex:xp:xe:ex:xp:xe:ex:xp:xe:ex:xp:xe', 1),\n ('lx:ps:pt:ge:tkp:dx:vx:arg:dt:ex:xp:xe', 1),\n ('lx:rt:ps:pt:ge:ge:tkp:cmt:dt', 1),\n ('lx:ps:pt:ge:tkp:dcsv:vx:arg:cmt:dt:ex:xp:xe:ex:xp:xe', 1),\n ('lx:ps:pt:dx:ge:ge:tkp:vx:arg:dt:ex:xp:xe', 1),\n ('lx:ps:pt:ge:ge:ge:tkp:cmt:vx:arg:dt:ex:xp:xe', 1),\n ('lx:rt:ps:pt:ge:ge:tkp:nt:dt:ex:xp:xe:ex:xp:xe', 1),\n ('lx:ps:pt:ge:ge:tkp:dt:vx:cmt:ex:xp:xe:ex:xp:xe', 1),\n ('lx:ps:ge:ge:tkp:dt:ex:xp:xe:ex:xp:xe', 1),\n ('lx:ps:pt:ge:ge:tkp:cmt:dcsv:vx:dt:cmt:ex:xp:xe:ex:xp:xe', 1),\n ('lx:rt:ps:pt:ge:ge:tkp:vx:arg:dt:ex:xp:xe', 1),\n ('lx:ps:pt:ge:tkp:vx:ex:xp:xe:dt', 1),\n ('lx:ps:pt:dx:ge:tkp:nt:vx:arg:dt:ex:xp:xe', 1),\n ('lx:cl:ps:pt:ge:tkp:dt', 1),\n ('lx:ps:pt:dx:ge:eng:eng:tkp:tkp:cmt:dt:ex:xp:xe', 1),\n ('lx:ps:pt:ge:tkp:nt:arg:vx:dt:ex:xp:xe:ex:xp:xe', 1),\n ('lx:ps:pt:ge:tkp:nt:arg:vx:cmt:dt', 1),\n ('lx:ps:pt:ge:tkp:eng:arg:vx:dt:ex:xp:xe:ex:xp:xe', 1),\n ('lx:rt:ps:pt:dx:ge:tkp:vx:dt:ex:xp:xe', 1),\n ('lx:ps:pt:ge:tkp:vx:arg:dt:cmt:ex:xp:xe:ex:xp:xe', 1),\n ('lx:rt:ps:pt:ge:tkp:dt:cmt:ex:xp:xe:ex:xp:xe', 1),\n ('lx:rt:ps:pt:ge:ge:ge:tkp:dt', 1),\n ('lx:rt:ps:pt:ge:tkp:eng:eng:eng:vx:arg:dt:ex:xp:xe:ex:xp:xe', 1),\n ('lx:ps:pt:ge:tkp:vx:dt:ex:xp:xe:ex:xp:xe:ex:xp:xe', 1),\n ('lx:ps:pt:ge:tkp:eng:sf:dt:ex:xp:xe', 1),\n ('lx:ps:pt:ge:tkp:nt:cmt:dt', 1),\n ('lx:rt:ps:pt:ge:ge:ge:tkp:avm:sc:dt:ex:xp:xe', 1),\n ('lx:rt:ps:pt:ge:tkp:vx:dt:cmt:ex:xp:xe:ex:xp:xe', 1),\n ('lx:ps:pt:ge:ge:tkp:nt:dt:ex:xp:xe:ex:xp:xe', 1),\n ('lx:ps:pt:ge:ge:tkp:tkp:vx:arg:cmt:cmt:dt:ex:xp:xe', 1),\n ('lx:rt:ps:pt:ge:tkp:arg:vx:cmt:dt:ex:xp:xe:ex:xp:xe', 1),\n ('lx:ps:pt:ge:eng:eng:tkp:tkp:dcsv:arg:vx:dt:ex:xp:xe:ex:xp:xe:ex:xp:xe', 1),\n ('lx:rt:ps:pt:ge:eng:eng:tkp:arg:vx:dt:ex:xp:xe:ex:xp:xe:ex:xp:xe', 1),\n ('lx:rt:ps:pt:rdp:ge:ge:tkp:arg:vx:dt:ex:xp:xe', 1),\n ('lx:ps:pt:ge:tkp:vx:arg:nt:dt:ex:xp:xe:ex:xp:xe', 1),\n ('lx:ps:pt:ge:tkp:eng:sa:dt:ex:xp:xe', 1),\n ('lx:rt:ps:pt:ge:tkp:eng:eng:eng:dt:ex:xp:xe:ex:xp:xe', 1),\n ('lx:ps:pt:ge:tkp:nt:dt:sa:cmt:ex:xp:xe', 1),\n ('lx:rt:ps:pt:ge:ge:tkp:arg:vx:dt:ex:xp:xe:ex:xp:xe', 1),\n ('lx:rt:ps:pt:ge:tkp:rdp:arg:vx:dt:cmt:ex:xp:xe:ex:xp:xe:ex:xp:xe', 1),\n ('lx:rt:ps:pt:ge:tkp:avm:sc:dt:ex:xp:xe:ex:xp:xe', 1),\n ('lx:ps:pt:ge:ge:ge:tkp:dcsv:vx:nt:dt:ex:xp:xe:ex:xp:xe', 1),\n ('lx:ps:pt:dx:ge:eng:tkp:vx:dt:ex:xp:xe', 1),\n ('lx:alt:ps:pt:ge:tkp:dt:ex:xp:xe:ex:xp:xe', 1),\n ('lx:ps:pt:ge:tkp:sc:vx:nt:dt:ex:xp:xe', 1),\n ('lx:ps:ge:tkp:tkp:dt:cmt:ex:xp:xe:ex:xp:xe:ex:xp:xe:ex:xp:xe', 1),\n ('lx:alt:rt:ps:pt:ge:eng:eng:eng:tkp:tkp:dt:ex:xp:xe:ex:xp:xe:ex:xp:xe', 1),\n ('lx:rt:ps:pt:ge:tkp:vx:dcsv:dt:ex:xp:xe:ex:xp:xe:ex:xp:xe', 1),\n ('lx:rt:ps:pt:ge:tkp:vx:dt:ex:xp:xe:ex:xp:xe', 1),\n ('lx:ps:pt:eng:ge:tkp:arg:vx:dt:ex:xp:xe', 1),\n ('lx:ps:pt:ge:ge:ge:tkp:cm:arg:vx:cmt:dt:ex:xp:xe:ex:xp:xe', 1),\n ('lx:rt:ps:pt:ge:tkp:ex:xp:xe:dt', 1),\n ('lx:rt:ps:pt:dx:ge:tkp:eng:vx:cmt:dt:ex:xp:xe', 1),\n ('lx:ps:pt:ge:ge:ge:tkp:dt:ex:xp:xe:ex:xp:xe', 1),\n ('lx:ps:pt:ge:tkp:tkp:dt:ex:xp:xe', 1),\n ('lx:ps:pt:ge:eng:eng:eng:eng:tkp:arg:vx:dt:ex:xp:xe:ex:xp:xe', 1),\n ('lx:ps:pt:ge:tkp:nt:pt:dt:ex:xp:xe:ex:xp:xe', 1),\n ('lx:ps:ge:tkp:eng:dt:ex:xp:xe:ex:xp:xe:ex:xp:xe', 1),\n ('lx:ps:pt:ge:tkp:eng:nt:sa:sf:dt:ex:xp:xe:ex:xp:xe', 1),\n ('lx:ps:pt:ge:eng:eng:tkp:dt:ex:xp:xe:ex:xp:xe', 1),\n ('lx:ps:pt:ge:ge:tkp:vx:dt:sc:ex:xp:xe:ex:xp:xe', 1),\n ('lx:rt:ps:pt:ge:ge:tkp:nt:dt:ex:xp:xe:ex:xp:xe:ex:xp:xe', 1),\n ('lx:alt:rt:ps:pt:ge:tkp:cmt:dt:ex:xp:xe:ex:xp:xe:ex:xp:xe', 1),\n ('lx:ps:pt:dx:ge:tkp:ig:dt', 1),\n ('lx:rt:ps:pt:ge:tkp:cmt:sf:dt:ex:xp:xe:ex:xp:xe', 1),\n ('lx:ps:pt:ge:tkp:eng:eng:eng:eng:am:vx:dt:ex:xp:xe:ex:xp:xe', 1),\n ('lx:ps:pt:ge:tkp:dt:cmt:vx:dcsv:ex:xp:xe:ex:xp:xe:ex:xp:xe:ex:xp', 1),\n ('lx:rt:ps:pt:ge:tkp:eng:vx:arg:dt:ex:xp:xe', 1),\n ('lx:rt:ps:pt:ge:tkp:eng:eng:eng:eng:eng:avm:dt:ex:xp:xe', 1),\n ('lx:ps:pt:ge:tkp:cmt:dt:ex:xp:xe:ex:xp:xe:ex:xp:xe', 1),\n ('lx:ps:pt:ge:tkp:cmt:vx:dt:ex:xp', 1),\n ('lx:ps:pt:ge:tkp:dt:ex', 1),\n ('lx:ps:pt:ge:eng:eng:tkp:vx:cmt:dt:ex:xp:xe', 1),\n ('lx:rt:ps:pt:ge:eng:tkp:dt:cmt:ex:xp:xe:ex:xp:xe:ex:xp:xe', 1),\n ('lx:ps:pt:ge:tkp:nt:pt:sa:sa:dt:ex:xp:xe:ex:xp:xe', 1),\n ('lx:ps:pt:ge:tkp:dt:cmt', 1),\n ('lx:ps:pt:ge:tkp:sc:vx:dt:ex:xp:xe:ex:xp:xe:ex:xp:xe', 1),\n ('lx:ps:pt:ge:eng:eng:tkp:tkp:sc:cmt:vx:dt:ex:xp:xe', 1),\n ('lx:ps:pt:cl:ge:tkp:dt:ex:xp:xe:ex:xp:xe', 1),\n ('lx:ps:pt:dx:ge:tkp:vx:arg:dt:ex:xp:xe', 1),\n ('lx:ps:pt:sn:ge:tkp:dt:ex:xp:xe:ex:xp:xe:ex:xp:xe', 1),\n ('lx:rt:ps:pt:sn:ge:tkp:arg:vx:cmt:dt:ex:xp:xe:ex:xp:xe', 1),\n ('lx:ps:pt:ge:ge:tkp:tkp:sf:dt:ex:xp:xe:ex:xp:xe', 1),\n ('lx:ps:pt:ge:eng:tkp:vx:dt:ex:xp:xe:ex:xp:xe', 1),\n ('lx:ps:pt:ge:ge:ge:tkp:nt:dt:ex:xp:xe:ex:xp:xe', 1),\n ('lx:ps:pt:ge:tkp:vx:arg:cmt:cm:dt:ex:xp:xe:ex:xp:xe', 1),\n ('lx:ps:pt:sn:ge:tkp:nt:sf:dt:ex:xp:xe', 1),\n ('lx:rt:ps:pt:sn:ge:tkp:cmt:dt:ex:xp:xe:ex:xp:xe', 1),\n ('lx:ps:pt:ge:eng:tkp:nt:dt:ex:xp:xe', 1),\n ('lx:ps:pt:ge:tkp:sc:nt:vx:dt:ex:xp:xe:ex:xp:xe', 1),\n ('lx:rt:ps:pt:ge:ge:tkp:tkp:dt:ex:xp:xe:ex:xp:xe', 1),\n ('lx:rt:ps:pt:rdp:ge:tkp:eng:eng:am:arg:vx:dt:ex:xp:xe:ex:xp:xe', 1),\n ('lx:ps:pt:ge:eng:eng:tkp:vx:cmt:dcsv:dt:ex:xp:xe:ex:xp:xe', 1),\n ('lx:rt:ps:pt:ge:eng:eng:tkp:arg:vx:cmt:dt:ex:xp:xe:ex:xp:xe:ex:xp:xe', 1),\n ('lx:rt:ps:pt:ge:ge:ge:ge:tkp:dt:ex:xp:xe:ex:xp:xe', 1),\n ('lx:rt:ps:pt:rdp:ge:ge:tkp:nt:arg:vx:dt:ex:xp:xe:ex:xp:xe', 1),\n ('lx:rt:ps:pt:rdp:ge:ge:ge:tkp:dt:ex:xp:xe', 1),\n ('lx:ps:pt:vx:dx:ge:eng:eng:tkp:dt:ex:xp:xe', 1),\n ('lx:rt:ps:pt:ge:ge:tkp:vx:arg:dt:ex:xp:xe:ex:xp:xe', 1),\n ('lx:ps:pt:ge:eng:nt:dt', 1),\n ('lx:rt:ps:pt:rdp:ge:tkp:nt:dt:cmt:ex:xp:xe', 1),\n ('lx:ps:pt:ge:ge:tkp:dt:am:ex:xp:xe:ex:xp:xe', 1),\n ('lx:rt:ps:pt:cl:ge:tkp:pt:dt:ex:xp:xe', 1),\n ('lx:ps:pt:ge:eng:tkp:vx:cmt:dt:ex:xp:xe:ex:xp:xe', 1),\n ('lx:rt:ps:pt:ge:tkp:nt:sa:dt:ex:xp:xe', 1),\n ('lx:ps:pt:ge:ge:eng:tkp:vx:cmt:dt', 1),\n ('lx:rt:ps:pt:ge:tkp:dt:cmt:ex:xp:xe:ex:xp:xe:ex:xp:xe:ex:xp:xe', 1),\n ('lx:ps:pt:ge:eng:eng:eng:tkp:arg:vx:cmt:dt:ex:xp:xe:ex:xp:xe:ex:xp:xe', 1),\n ('lx:rt:ps:ge:tkp:eng:eng:eng:dt', 1),\n ('lx:rt:ps:pt:ge:ge:tkp:tkp:cmt:dt:ex:xp:xe', 1),\n ('lx:ps:pt:ge:tkp:ge:ge:ge:nt:arg:vx:dt:ex:xp:xe', 1),\n ('lx:ps:pt:ge:tkp:nt:dt', 1),\n ('lx:ps:pt:ge:ge:tkp:cmt:dt:vx:cmt:ex:xp:xe:ex:xp:xe', 1),\n ('lx:ps:pt:cl:ge:ge:ge:tkp:tkp:dt:ex:xp:xe', 1),\n ('lx:rt:ps:pt:ge:ge:ge:tkp:tkp:dt:ex:xp:xe', 1),\n ('lx:ps:pt:ge:ge:tkp:dcsv:vx:cmt:dt:ex:xp:xe:ex:xp:xe:ex:xp:xe', 1),\n ('lx:ps:pt:ge:tkp:cm:arg:vx:dt:ex:xp:xe:ex:xp:xe:ex:xp:xe', 1),\n ('lx:ps:pt:ge:ge:ge:tkp:arg:vx:dt:cmt:ex:xp:xe:ex:xp:xe', 1),\n ('lx:ps:pt:ge:tkp:dcsv:cmt:dt:ex:xp:xe:ex:xp:xe:ex:xp:xe:ex:xp:xe', 1),\n ('lx:ps:pt:ge:tkp:sa:dx:dt:ex:xp:xe', 1),\n ('lx:rt:rdp:ps:pt:ge:ge:eng:eng:eng:eng:tkp:vx:arg:cm:dt:ex:xp:xe:ex:xp:xe',\n  1),\n ('lx:rt:ps:pt:ge:eng:eng:tkp:avm:dt', 1),\n ('lx:ps:ge:tkp:cmt:dt', 1),\n ('lx:ps:pt:ge:tkp:cm:vx:arg:cmt:dt:ex:xp:xe:ex:xp:xe', 1),\n ('lx:ps:pt:ge:eng:eng:eng:tkp:tkp:dcsv:sc:vx:cmt:dt:ex:xp:xe', 1),\n ('lx:rt:rdp:ps:pt:ge:tkp:tkp:eng:eng:ge:tkp:dcpv:vx:sc:cmt:dt:ex:xp:xe:ex:xp:xe:ex:xp:xe:ex:xp:xe',\n  1),\n ('lx:ps:pt:ge:tkp:vx:arg:cmt:dt:ex:xp:xe:ex:xp:xe', 1),\n ('lx:ps:pt:ge:ge:tkp:vx:sc:cmt:dt:ex:xp:xe:ex:xp:xe', 1),\n ('lx:rt:ps:pt:ge:ge:ge:tkp:cmt:dt:ex:xp:xe', 1),\n ('lx:rt:ps:pt:ge:ge:tkp:arg:vx:dt:rdp:ex:xp:xe:ex:xp:xe', 1),\n ('lx:wf:rt:ps:pt:ge:tkp:eng:dt:ex:xp:xe:ex:xp:xe', 1),\n ('lx:ps:pt:ge:ge:tkp:dcsv:am:arg:sc:vx:nt:dt:ex:xp:xe:ex:xp:xe', 1),\n ('lx:ps:pt:ge:tkp:nt:cmt:sa:sc:vx:arg:dt:ex:xp:xe', 1),\n ('lx:ps:pt:ge:tkp:nt:cmt:sa:sc:vx:dt:ex:xp:xe', 1),\n ('lx:ps:pt:ge:eng:eng:tkp:vx:sc:dt:ex:xp:xe:ex:xp:xe:ex:xp:xe', 1),\n ('lx:ps:pt:ge:tkp:pt:cmt:dt:ex:xp:xe', 1),\n ('lx:ps:pt:ge:tkp:nt:sc:vx:dt:ex:xp:xe:ex:xp:xe', 1),\n ('lx:ps:pt:ge:ge:tkp:dt:cmt:sc:vx:ex:xp:xe:ex:xp:xe:ex:xp:xe', 1),\n ('lx:ps:pt:ge:ge:tkp:vx:sc:nt:dt:ex:xp:xe:ex:xp:xe:ex:xp:xe:ex:xp:xe', 1),\n ('lx:rt:ps:pt:ge:tkp:vx:sc:dt:rdp:ex:xp:xe', 1),\n ('lx:rt:ps:ge:tkp:cmt:dt:ex:xp:xe', 1),\n ('lx:rt:ps:pt:ge:ge:tkp:tkp:dt', 1),\n ('lx:rt:ps:pt:ge:ge:tkp:nt:dt', 1),\n ('lx:ps:pt:ge:ge:tkp:tkp:eng:eng:dt:ex:xp:xe', 1),\n ('lx:ps:pt:ge:tkp:dcsv:vx:cmt:dt:ex:xp:xe', 1),\n ('lx:rt:ps:pt:ge:ge:ge:ge:tkp:tkp:tkp:tkp:dt:ex:xp:xe', 1),\n ('lx:rt:ps:pt:ge:ge:tkp:tkp:arg:vx:dt:ex:xp:xe:ex:xp:xe:ex:xp:xe:ex:xp:xe',\n  1),\n ('lx:rt:ps:pt:ge:eng:tkp:vx:dt:ex:xp:xe', 1),\n ('lx:rt:ps:pt:ge:eng:tkp:dt:ex:xp:xe', 1),\n ('lx:rt:ps:pt:ge:eng:eng:tkp:arg:vx:dt:cmt:ex:xp:xe:ex:xp:xe:ex:xp:xe', 1),\n ('lx:alt:ps:pt:ge:tkp:dt:ex:xp:xe', 1),\n ('lx:rt:ps:pt:eng:eng:ge:tkp:dt:ex:xp:xe', 1),\n ('lx:rt:ps:ge:ge:ge:tkp:dt:ex:xp:xe', 1),\n ('lx:ps:ge:eng:tkp:dt:ex:xp:xe', 1),\n ('lx:alt:alt:ps:pt:ge:eng:eng:tkp:dt:ex:xp:xe:ex:xp:xe', 1),\n ('lx:alt:ps:pt:ge:ge:tkp:am:dt:cmt:ex:xp:xe:ex:xp:xe:ex:xp:xe:ex:xp:xe:ex:xp:xe',\n  1),\n ('lx:alt:rt:ps:pt:ge:tkp:nt:dt:ex:xp:xe', 1),\n ('lx:ps:pt:ge:ge:ge:tkp:tkp:dt:ex:xp:xe:ex:xp:xe:ex:xp:xe:ex:xp:xe', 1),\n ('lx:ps:pt:ge:tkp:eng:eng:cmt:vx:dt:ex:xp:xe:ex:xp:xe', 1),\n ('lx:ps:pt:ge:ge:tkp:cm:arg:vx:dt:ex:xp:xe:ex:xp:xe', 1),\n ('lx:ps:pt:ge:tkp:pt:dt:ex:xp:xe:ex:xp:xe', 1),\n ('lx:rt:ps:pt:ge:tkp:tkp:vx:cmt:dt:ex:xp:xe:ex:xp:xe:ex:xp:xe:ex:xp:xe', 1),\n ('lx:ps:pt:ge:tkp:arg:vx:nt:dt:ex:xp:xe', 1),\n ('lx:ps:pt:ge:tkp:tkp:eng:eng:eng:dt:ex:xp:xe', 1),\n ('lx:ps:pt:ge:eng:eng:tkp:dt:ex:xp:xe', 1),\n ('lx:rt:ps:pt:ge:tkp:nt:sa:dt', 1),\n ('lx:ps:ge:ge:tkp:vx:dt:ex:xp:xe:ex:xp:xe', 1),\n ('lx:ps:pt:ge:tkp:eng:eng:nt:cmt:sa:sf:dt:ex:xp:xe', 1),\n ('lx:ps:pt:ge:tkp:cmt:dt:vx:ex:xp:xe:ex:xp:xe:ex:xp:xe:ex:xp:xe', 1),\n ('lx:rt:ps:pt:ge:tkp:vx:cmt:dt:ex:xp:xe', 1),\n ('lx:ps:pt:ge:ge:tkp:cmt:vx:arg:dt:ex:xp:xe:ex:xp:xe', 1),\n ('lx:ps:pt:cl:ge:tkp:nt:sa:sf:dt:cmt:ex:xp:xe', 1),\n ('lx:ps:pt:ge:eng:eng:tkp:vx:sc:dt:ex:xp:xe:ex:xp:xe', 1),\n ('lx:rt:ps:pt:rdp:ge:ge:tkp:vx:sc:dt:rdp:ex:xp:xe', 1),\n ('lx:ps:ge:tkp:dt', 1),\n ('lx:rt:ps:pt:ge:tkp:arg:vx:dt:rdp:ex:xp:xe:ex:xp:xe', 1),\n ('lx:ps:pt:ge:ge:tkp:tkp:dt:ex:xp:xe', 1),\n ('lx:rt:ps:pt:ge:ge:tkp:vx:sc:dt:rdp:ex:xp:xe:ex:xp:xe', 1),\n ('lx:ps:pt:ge:tkp:dt:arg:vx:ex:xp:xe:ex:xp:xe', 1),\n ('lx:ps:pt:ge:tkp:eng:eng:dt:ex:xp:xe', 1),\n ('lx:ps:pt:ge:tkp:eng:nt:sa:sf:dt', 1),\n ('lx:ps:pt:ge:tkp:dt:vx:sc:ex:xp:xe:ex:xp:xe', 1),\n ('lx:ps:pt:ge:tkp:nt:sa:dt:ex:xp:xe:ex:xp:xe', 1),\n ('lx:ps:ge:eng:eng:tkp:dcsv:vx:cmt:dt', 1),\n ('lx:ps:pt:ge:ge:tkp:tkp:cmt:vx:arg:dt:ex:xp:xe:ex:xp:xe:ex:xp:xe', 1),\n ('lx:rt:ps:pt:ge:ge:tkp:vx:sc:dt:cmt:rdp:ex:xp:xe:ex:xp:xe', 1),\n ('lx:ps:pt:ge:tkp:nt:cmt:sf:dt:ex:xp:xe:ex:xp:xe', 1),\n ('lx:rt:ps:pt:ge:tkp:eng:eng:arg:vx:cmt:dt:ex:xp:xe:ex:xp:xe:ex:xp:xe:ex:xp:xe:ex:xp:xe',\n  1),\n ('lx:ps:pt:ge:ge:tkp:vx:sc:cmt:dt:cmt:ex:xp:xe', 1),\n ('lx:ps:ge:ge:tkp:tkp:dt:ex:xp:xe', 1),\n ('lx:ps:pt:ge:tkp:vx:sc:dt:ex:xp:xe:ex:xp:xe', 1),\n ('lx:rt:ps:pt:ge:tkp:cmt:dt:cmt:ex:xp:xe:ex:xp:xe:ex:xp:xe:ex:xp:xe', 1),\n ('lx:rt:ps:pt:ge:ge:tkp:cm:arg:vx:dt:ex:xp:xe:ex:xp:xe:ex:xp:xe:ex:xp:xe', 1),\n ('lx:ps:pt:ge:tkp:cmt:vx:dt:ex:xp:xe:ex:xp:xe', 1),\n ('lx:ps:pt:ge:ge:ge:tkp:dt:ex:xp:xe:ex:xp:xe:ex:xp:xe', 1),\n ('lx:ps:pt:ge:tkp:cmt:arg:vx:dt:ex:xp:xe:ex:xp:xe', 1),\n ('lx:rt:ps:ge:ge:ge:tkp:dt:ex:xp:xe:ex:xp:xe', 1),\n ('lx:ps:pt:ge:ge:tkp:eng:eng:cmt:dt:vx:sc:ex:xp:xe:ex:xp:xe', 1),\n ('lx:ps:pt:ge:tkp:tkp:eng:eng:eng:arg:vx:dt:cmt:ex:xp:xe:ex:xp:xe', 1),\n ('lx:rt:ps:pt:rdp:ge:ge:tkp:vx:arg:cmt:dt:ex:xp:xe', 1),\n ('lx:alt:rt:ps:pt:ge:eng:eng:eng:tkp:tkp:sc:dt:ex:xp:xe', 1)]"
     },
     "execution_count": 50,
     "metadata": {},
     "output_type": "execute_result"
    }
   ],
   "source": [
    "from collections import Counter\n",
    "field_sequences = Counter(':'.join(field.tag for field in entry) for entry in lexicon)\n",
    "field_sequences.most_common()"
   ],
   "metadata": {
    "collapsed": false,
    "pycharm": {
     "name": "#%%\n"
    }
   }
  },
  {
   "cell_type": "code",
   "execution_count": 51,
   "outputs": [],
   "source": [
    "grammar = nltk.CFG.fromstring('''\n",
    "  S -> Head PS Glosses Comment Date Sem_Field Examples\n",
    "  Head -> Lexeme Root\n",
    "  Lexeme -> \"lx\"\n",
    "  Root -> \"rt\" |\n",
    "  PS -> \"ps\"\n",
    "  Glosses -> Gloss Glosses |\n",
    "  Gloss -> \"ge\" | \"tkp\" | \"eng\"\n",
    "  Date -> \"dt\"\n",
    "  Sem_Field -> \"sf\"\n",
    "  Examples -> Example Ex_Pidgin Ex_English Examples |\n",
    "  Example -> \"ex\"\n",
    "  Ex_Pidgin -> \"xp\"\n",
    "  Ex_English -> \"xe\"\n",
    "  Comment -> \"cmt\" | \"nt\" |\n",
    "  ''')\n",
    "\n",
    "def validate_lexicon(grammar, lexicon, ignored_tags):\n",
    "    rd_parser = nltk.RecursiveDescentParser(grammar)\n",
    "    for entry in lexicon:\n",
    "        marker_list = [field.tag for field in entry if field.tag not in ignored_tags]\n",
    "        if list(rd_parser.parse(marker_list)):\n",
    "            print(\"+\", ':'.join(marker_list))\n",
    "        else:\n",
    "            print(\"-\", ':'.join(marker_list))"
   ],
   "metadata": {
    "collapsed": false,
    "pycharm": {
     "name": "#%%\n"
    }
   }
  },
  {
   "cell_type": "code",
   "execution_count": 52,
   "outputs": [
    {
     "name": "stdout",
     "output_type": "stream",
     "text": [
      "- lx:ps:ge:tkp:sf:nt:dt:ex:xp:xe:ex:xp:xe:ex:xp:xe\n",
      "- lx:rt:ps:ge:tkp:nt:dt:ex:xp:xe:ex:xp:xe\n",
      "- lx:ps:ge:tkp:nt:dt:ex:xp:xe:ex:xp:xe\n",
      "- lx:ps:ge:tkp:nt:sf:dt\n",
      "- lx:ps:ge:tkp:dt:cmt:ex:xp:xe:ex:xp:xe\n",
      "- lx:ps:ge:ge:ge:tkp:cmt:dt:ex:xp:xe\n",
      "- lx:rt:ps:ge:ge:tkp:dt\n",
      "- lx:rt:ps:ge:eng:eng:eng:ge:tkp:tkp:dt:cmt:ex:xp:xe:ex:xp:xe:ex:xp:xe:ex:xp:xe:ex:xp:xe\n",
      "- lx:rt:ps:ge:tkp:dt:ex:xp:xe\n",
      "- lx:ps:ge:ge:tkp:dt:ex:xp:xe:ex:xp:xe\n"
     ]
    }
   ],
   "source": [
    "lexicon = toolbox.xml('rotokas.dic')[10:20]\n",
    "ignored_tags = ['arg', 'dcsv', 'pt', 'vx']\n",
    "validate_lexicon(grammar, lexicon, ignored_tags)"
   ],
   "metadata": {
    "collapsed": false,
    "pycharm": {
     "name": "#%%\n"
    }
   }
  },
  {
   "cell_type": "code",
   "execution_count": 53,
   "outputs": [],
   "source": [
    "grammar = r\"\"\"\n",
    "      lexfunc: {<lf>(<lv><ln|le>*)*}\n",
    "      example: {<rf|xv><xn|xe>*}\n",
    "      sense:   {<sn><ps><pn|gv|dv|gn|gp|dn|rn|ge|de|re>*<example>*<lexfunc>*}\n",
    "      record:   {<lx><hm><sense>+<dt>}\n",
    "    \"\"\""
   ],
   "metadata": {
    "collapsed": false,
    "pycharm": {
     "name": "#%%\n"
    }
   }
  },
  {
   "cell_type": "code",
   "execution_count": 54,
   "outputs": [
    {
     "ename": "TypeError",
     "evalue": "cannot use a string pattern on a bytes-like object",
     "output_type": "error",
     "traceback": [
      "\u001B[0;31m---------------------------------------------------------------------------\u001B[0m",
      "\u001B[0;31mTypeError\u001B[0m                                 Traceback (most recent call last)",
      "\u001B[0;32m<ipython-input-54-491b806ea797>\u001B[0m in \u001B[0;36m<module>\u001B[0;34m\u001B[0m\n\u001B[1;32m      3\u001B[0m \u001B[0mdb\u001B[0m \u001B[0;34m=\u001B[0m \u001B[0mToolboxData\u001B[0m\u001B[0;34m(\u001B[0m\u001B[0;34m)\u001B[0m\u001B[0;34m\u001B[0m\u001B[0;34m\u001B[0m\u001B[0m\n\u001B[1;32m      4\u001B[0m \u001B[0mdb\u001B[0m\u001B[0;34m.\u001B[0m\u001B[0mopen\u001B[0m\u001B[0;34m(\u001B[0m\u001B[0mnltk\u001B[0m\u001B[0;34m.\u001B[0m\u001B[0mdata\u001B[0m\u001B[0;34m.\u001B[0m\u001B[0mfind\u001B[0m\u001B[0;34m(\u001B[0m\u001B[0;34m'corpora/toolbox/iu_mien_samp.db'\u001B[0m\u001B[0;34m)\u001B[0m\u001B[0;34m)\u001B[0m\u001B[0;34m\u001B[0m\u001B[0;34m\u001B[0m\u001B[0m\n\u001B[0;32m----> 5\u001B[0;31m \u001B[0mlexicon\u001B[0m \u001B[0;34m=\u001B[0m \u001B[0mdb\u001B[0m\u001B[0;34m.\u001B[0m\u001B[0mparse\u001B[0m\u001B[0;34m(\u001B[0m\u001B[0mgrammar\u001B[0m\u001B[0;34m,\u001B[0m \u001B[0mencoding\u001B[0m\u001B[0;34m=\u001B[0m\u001B[0;34m'utf8'\u001B[0m\u001B[0;34m)\u001B[0m\u001B[0;34m\u001B[0m\u001B[0;34m\u001B[0m\u001B[0m\n\u001B[0m\u001B[1;32m      6\u001B[0m \u001B[0mtree\u001B[0m \u001B[0;34m=\u001B[0m \u001B[0mElementTree\u001B[0m\u001B[0;34m(\u001B[0m\u001B[0mlexicon\u001B[0m\u001B[0;34m)\u001B[0m\u001B[0;34m\u001B[0m\u001B[0;34m\u001B[0m\u001B[0m\n\u001B[1;32m      7\u001B[0m \u001B[0;32mwith\u001B[0m \u001B[0mopen\u001B[0m\u001B[0;34m(\u001B[0m\u001B[0;34m\"iu_mien_samp.xml\"\u001B[0m\u001B[0;34m,\u001B[0m \u001B[0;34m\"wb\"\u001B[0m\u001B[0;34m)\u001B[0m \u001B[0;32mas\u001B[0m \u001B[0moutput\u001B[0m\u001B[0;34m:\u001B[0m\u001B[0;34m\u001B[0m\u001B[0;34m\u001B[0m\u001B[0m\n",
      "\u001B[0;32m~/Dokumenter/Programs/miniconda3/envs/NaturalLanguageProcessingwithPython-py39/lib/python3.9/site-packages/nltk/toolbox.py\u001B[0m in \u001B[0;36mparse\u001B[0;34m(self, grammar, **kwargs)\u001B[0m\n\u001B[1;32m    142\u001B[0m     \u001B[0;32mdef\u001B[0m \u001B[0mparse\u001B[0m\u001B[0;34m(\u001B[0m\u001B[0mself\u001B[0m\u001B[0;34m,\u001B[0m \u001B[0mgrammar\u001B[0m\u001B[0;34m=\u001B[0m\u001B[0;32mNone\u001B[0m\u001B[0;34m,\u001B[0m \u001B[0;34m**\u001B[0m\u001B[0mkwargs\u001B[0m\u001B[0;34m)\u001B[0m\u001B[0;34m:\u001B[0m\u001B[0;34m\u001B[0m\u001B[0;34m\u001B[0m\u001B[0m\n\u001B[1;32m    143\u001B[0m         \u001B[0;32mif\u001B[0m \u001B[0mgrammar\u001B[0m\u001B[0;34m:\u001B[0m\u001B[0;34m\u001B[0m\u001B[0;34m\u001B[0m\u001B[0m\n\u001B[0;32m--> 144\u001B[0;31m             \u001B[0;32mreturn\u001B[0m \u001B[0mself\u001B[0m\u001B[0;34m.\u001B[0m\u001B[0m_chunk_parse\u001B[0m\u001B[0;34m(\u001B[0m\u001B[0mgrammar\u001B[0m\u001B[0;34m=\u001B[0m\u001B[0mgrammar\u001B[0m\u001B[0;34m,\u001B[0m \u001B[0;34m**\u001B[0m\u001B[0mkwargs\u001B[0m\u001B[0;34m)\u001B[0m\u001B[0;34m\u001B[0m\u001B[0;34m\u001B[0m\u001B[0m\n\u001B[0m\u001B[1;32m    145\u001B[0m         \u001B[0;32melse\u001B[0m\u001B[0;34m:\u001B[0m\u001B[0;34m\u001B[0m\u001B[0;34m\u001B[0m\u001B[0m\n\u001B[1;32m    146\u001B[0m             \u001B[0;32mreturn\u001B[0m \u001B[0mself\u001B[0m\u001B[0;34m.\u001B[0m\u001B[0m_record_parse\u001B[0m\u001B[0;34m(\u001B[0m\u001B[0;34m**\u001B[0m\u001B[0mkwargs\u001B[0m\u001B[0;34m)\u001B[0m\u001B[0;34m\u001B[0m\u001B[0;34m\u001B[0m\u001B[0m\n",
      "\u001B[0;32m~/Dokumenter/Programs/miniconda3/envs/NaturalLanguageProcessingwithPython-py39/lib/python3.9/site-packages/nltk/toolbox.py\u001B[0m in \u001B[0;36m_chunk_parse\u001B[0;34m(self, grammar, root_label, trace, **kwargs)\u001B[0m\n\u001B[1;32m    259\u001B[0m \u001B[0;34m\u001B[0m\u001B[0m\n\u001B[1;32m    260\u001B[0m         \u001B[0mcp\u001B[0m \u001B[0;34m=\u001B[0m \u001B[0mchunk\u001B[0m\u001B[0;34m.\u001B[0m\u001B[0mRegexpParser\u001B[0m\u001B[0;34m(\u001B[0m\u001B[0mgrammar\u001B[0m\u001B[0;34m,\u001B[0m \u001B[0mroot_label\u001B[0m\u001B[0;34m=\u001B[0m\u001B[0mroot_label\u001B[0m\u001B[0;34m,\u001B[0m \u001B[0mtrace\u001B[0m\u001B[0;34m=\u001B[0m\u001B[0mtrace\u001B[0m\u001B[0;34m)\u001B[0m\u001B[0;34m\u001B[0m\u001B[0;34m\u001B[0m\u001B[0m\n\u001B[0;32m--> 261\u001B[0;31m         \u001B[0mdb\u001B[0m \u001B[0;34m=\u001B[0m \u001B[0mself\u001B[0m\u001B[0;34m.\u001B[0m\u001B[0mparse\u001B[0m\u001B[0;34m(\u001B[0m\u001B[0;34m**\u001B[0m\u001B[0mkwargs\u001B[0m\u001B[0;34m)\u001B[0m\u001B[0;34m\u001B[0m\u001B[0;34m\u001B[0m\u001B[0m\n\u001B[0m\u001B[1;32m    262\u001B[0m         \u001B[0mtb_etree\u001B[0m \u001B[0;34m=\u001B[0m \u001B[0mElement\u001B[0m\u001B[0;34m(\u001B[0m\u001B[0;34m\"toolbox_data\"\u001B[0m\u001B[0;34m)\u001B[0m\u001B[0;34m\u001B[0m\u001B[0;34m\u001B[0m\u001B[0m\n\u001B[1;32m    263\u001B[0m         \u001B[0mheader\u001B[0m \u001B[0;34m=\u001B[0m \u001B[0mdb\u001B[0m\u001B[0;34m.\u001B[0m\u001B[0mfind\u001B[0m\u001B[0;34m(\u001B[0m\u001B[0;34m\"header\"\u001B[0m\u001B[0;34m)\u001B[0m\u001B[0;34m\u001B[0m\u001B[0;34m\u001B[0m\u001B[0m\n",
      "\u001B[0;32m~/Dokumenter/Programs/miniconda3/envs/NaturalLanguageProcessingwithPython-py39/lib/python3.9/site-packages/nltk/toolbox.py\u001B[0m in \u001B[0;36mparse\u001B[0;34m(self, grammar, **kwargs)\u001B[0m\n\u001B[1;32m    144\u001B[0m             \u001B[0;32mreturn\u001B[0m \u001B[0mself\u001B[0m\u001B[0;34m.\u001B[0m\u001B[0m_chunk_parse\u001B[0m\u001B[0;34m(\u001B[0m\u001B[0mgrammar\u001B[0m\u001B[0;34m=\u001B[0m\u001B[0mgrammar\u001B[0m\u001B[0;34m,\u001B[0m \u001B[0;34m**\u001B[0m\u001B[0mkwargs\u001B[0m\u001B[0;34m)\u001B[0m\u001B[0;34m\u001B[0m\u001B[0;34m\u001B[0m\u001B[0m\n\u001B[1;32m    145\u001B[0m         \u001B[0;32melse\u001B[0m\u001B[0;34m:\u001B[0m\u001B[0;34m\u001B[0m\u001B[0;34m\u001B[0m\u001B[0m\n\u001B[0;32m--> 146\u001B[0;31m             \u001B[0;32mreturn\u001B[0m \u001B[0mself\u001B[0m\u001B[0;34m.\u001B[0m\u001B[0m_record_parse\u001B[0m\u001B[0;34m(\u001B[0m\u001B[0;34m**\u001B[0m\u001B[0mkwargs\u001B[0m\u001B[0;34m)\u001B[0m\u001B[0;34m\u001B[0m\u001B[0;34m\u001B[0m\u001B[0m\n\u001B[0m\u001B[1;32m    147\u001B[0m \u001B[0;34m\u001B[0m\u001B[0m\n\u001B[1;32m    148\u001B[0m     \u001B[0;32mdef\u001B[0m \u001B[0m_record_parse\u001B[0m\u001B[0;34m(\u001B[0m\u001B[0mself\u001B[0m\u001B[0;34m,\u001B[0m \u001B[0mkey\u001B[0m\u001B[0;34m=\u001B[0m\u001B[0;32mNone\u001B[0m\u001B[0;34m,\u001B[0m \u001B[0;34m**\u001B[0m\u001B[0mkwargs\u001B[0m\u001B[0;34m)\u001B[0m\u001B[0;34m:\u001B[0m\u001B[0;34m\u001B[0m\u001B[0;34m\u001B[0m\u001B[0m\n",
      "\u001B[0;32m~/Dokumenter/Programs/miniconda3/envs/NaturalLanguageProcessingwithPython-py39/lib/python3.9/site-packages/nltk/toolbox.py\u001B[0m in \u001B[0;36m_record_parse\u001B[0;34m(self, key, **kwargs)\u001B[0m\n\u001B[1;32m    202\u001B[0m         \u001B[0mbuilder\u001B[0m\u001B[0;34m.\u001B[0m\u001B[0mstart\u001B[0m\u001B[0;34m(\u001B[0m\u001B[0;34m\"header\"\u001B[0m\u001B[0;34m,\u001B[0m \u001B[0;34m{\u001B[0m\u001B[0;34m}\u001B[0m\u001B[0;34m)\u001B[0m\u001B[0;34m\u001B[0m\u001B[0;34m\u001B[0m\u001B[0m\n\u001B[1;32m    203\u001B[0m         \u001B[0min_records\u001B[0m \u001B[0;34m=\u001B[0m \u001B[0;32mFalse\u001B[0m\u001B[0;34m\u001B[0m\u001B[0;34m\u001B[0m\u001B[0m\n\u001B[0;32m--> 204\u001B[0;31m         \u001B[0;32mfor\u001B[0m \u001B[0mmkr\u001B[0m\u001B[0;34m,\u001B[0m \u001B[0mvalue\u001B[0m \u001B[0;32min\u001B[0m \u001B[0mself\u001B[0m\u001B[0;34m.\u001B[0m\u001B[0mfields\u001B[0m\u001B[0;34m(\u001B[0m\u001B[0;34m**\u001B[0m\u001B[0mkwargs\u001B[0m\u001B[0;34m)\u001B[0m\u001B[0;34m:\u001B[0m\u001B[0;34m\u001B[0m\u001B[0;34m\u001B[0m\u001B[0m\n\u001B[0m\u001B[1;32m    205\u001B[0m             \u001B[0;32mif\u001B[0m \u001B[0mkey\u001B[0m \u001B[0;32mis\u001B[0m \u001B[0;32mNone\u001B[0m \u001B[0;32mand\u001B[0m \u001B[0;32mnot\u001B[0m \u001B[0min_records\u001B[0m \u001B[0;32mand\u001B[0m \u001B[0mmkr\u001B[0m\u001B[0;34m[\u001B[0m\u001B[0;36m0\u001B[0m\u001B[0;34m]\u001B[0m \u001B[0;34m!=\u001B[0m \u001B[0;34m\"_\"\u001B[0m\u001B[0;34m:\u001B[0m\u001B[0;34m\u001B[0m\u001B[0;34m\u001B[0m\u001B[0m\n\u001B[1;32m    206\u001B[0m                 \u001B[0mkey\u001B[0m \u001B[0;34m=\u001B[0m \u001B[0mmkr\u001B[0m\u001B[0;34m\u001B[0m\u001B[0;34m\u001B[0m\u001B[0m\n",
      "\u001B[0;32m~/Dokumenter/Programs/miniconda3/envs/NaturalLanguageProcessingwithPython-py39/lib/python3.9/site-packages/nltk/toolbox.py\u001B[0m in \u001B[0;36mfields\u001B[0;34m(self, strip, unwrap, encoding, errors, unicode_fields)\u001B[0m\n\u001B[1;32m    123\u001B[0m             \u001B[0;32mraise\u001B[0m \u001B[0mValueError\u001B[0m\u001B[0;34m(\u001B[0m\u001B[0;34m\"unicode_fields is set but not encoding.\"\u001B[0m\u001B[0;34m)\u001B[0m\u001B[0;34m\u001B[0m\u001B[0;34m\u001B[0m\u001B[0m\n\u001B[1;32m    124\u001B[0m         \u001B[0munwrap_pat\u001B[0m \u001B[0;34m=\u001B[0m \u001B[0mre\u001B[0m\u001B[0;34m.\u001B[0m\u001B[0mcompile\u001B[0m\u001B[0;34m(\u001B[0m\u001B[0;34mr\"\\n+\"\u001B[0m\u001B[0;34m)\u001B[0m\u001B[0;34m\u001B[0m\u001B[0;34m\u001B[0m\u001B[0m\n\u001B[0;32m--> 125\u001B[0;31m         \u001B[0;32mfor\u001B[0m \u001B[0mmkr\u001B[0m\u001B[0;34m,\u001B[0m \u001B[0mval\u001B[0m \u001B[0;32min\u001B[0m \u001B[0mself\u001B[0m\u001B[0;34m.\u001B[0m\u001B[0mraw_fields\u001B[0m\u001B[0;34m(\u001B[0m\u001B[0;34m)\u001B[0m\u001B[0;34m:\u001B[0m\u001B[0;34m\u001B[0m\u001B[0;34m\u001B[0m\u001B[0m\n\u001B[0m\u001B[1;32m    126\u001B[0m             \u001B[0;32mif\u001B[0m \u001B[0munwrap\u001B[0m\u001B[0;34m:\u001B[0m\u001B[0;34m\u001B[0m\u001B[0;34m\u001B[0m\u001B[0m\n\u001B[1;32m    127\u001B[0m                 \u001B[0mval\u001B[0m \u001B[0;34m=\u001B[0m \u001B[0munwrap_pat\u001B[0m\u001B[0;34m.\u001B[0m\u001B[0msub\u001B[0m\u001B[0;34m(\u001B[0m\u001B[0;34m\" \"\u001B[0m\u001B[0;34m,\u001B[0m \u001B[0mval\u001B[0m\u001B[0;34m)\u001B[0m\u001B[0;34m\u001B[0m\u001B[0;34m\u001B[0m\u001B[0m\n",
      "\u001B[0;32m~/Dokumenter/Programs/miniconda3/envs/NaturalLanguageProcessingwithPython-py39/lib/python3.9/site-packages/nltk/toolbox.py\u001B[0m in \u001B[0;36mraw_fields\u001B[0;34m(self)\u001B[0m\n\u001B[1;32m     72\u001B[0m             \u001B[0;31m# no more data is available, terminate the generator\u001B[0m\u001B[0;34m\u001B[0m\u001B[0;34m\u001B[0m\u001B[0;34m\u001B[0m\u001B[0m\n\u001B[1;32m     73\u001B[0m             \u001B[0;32mreturn\u001B[0m\u001B[0;34m\u001B[0m\u001B[0;34m\u001B[0m\u001B[0m\n\u001B[0;32m---> 74\u001B[0;31m         \u001B[0mmobj\u001B[0m \u001B[0;34m=\u001B[0m \u001B[0mre\u001B[0m\u001B[0;34m.\u001B[0m\u001B[0mmatch\u001B[0m\u001B[0;34m(\u001B[0m\u001B[0mfirst_line_pat\u001B[0m\u001B[0;34m,\u001B[0m \u001B[0mline\u001B[0m\u001B[0;34m)\u001B[0m\u001B[0;34m\u001B[0m\u001B[0;34m\u001B[0m\u001B[0m\n\u001B[0m\u001B[1;32m     75\u001B[0m         \u001B[0mmkr\u001B[0m\u001B[0;34m,\u001B[0m \u001B[0mline_value\u001B[0m \u001B[0;34m=\u001B[0m \u001B[0mmobj\u001B[0m\u001B[0;34m.\u001B[0m\u001B[0mgroups\u001B[0m\u001B[0;34m(\u001B[0m\u001B[0;34m)\u001B[0m\u001B[0;34m\u001B[0m\u001B[0;34m\u001B[0m\u001B[0m\n\u001B[1;32m     76\u001B[0m         \u001B[0mvalue_lines\u001B[0m \u001B[0;34m=\u001B[0m \u001B[0;34m[\u001B[0m\u001B[0mline_value\u001B[0m\u001B[0;34m]\u001B[0m\u001B[0;34m\u001B[0m\u001B[0;34m\u001B[0m\u001B[0m\n",
      "\u001B[0;32m~/Dokumenter/Programs/miniconda3/envs/NaturalLanguageProcessingwithPython-py39/lib/python3.9/re.py\u001B[0m in \u001B[0;36mmatch\u001B[0;34m(pattern, string, flags)\u001B[0m\n\u001B[1;32m    189\u001B[0m     \"\"\"Try to apply the pattern at the start of the string, returning\n\u001B[1;32m    190\u001B[0m     a Match object, or None if no match was found.\"\"\"\n\u001B[0;32m--> 191\u001B[0;31m     \u001B[0;32mreturn\u001B[0m \u001B[0m_compile\u001B[0m\u001B[0;34m(\u001B[0m\u001B[0mpattern\u001B[0m\u001B[0;34m,\u001B[0m \u001B[0mflags\u001B[0m\u001B[0;34m)\u001B[0m\u001B[0;34m.\u001B[0m\u001B[0mmatch\u001B[0m\u001B[0;34m(\u001B[0m\u001B[0mstring\u001B[0m\u001B[0;34m)\u001B[0m\u001B[0;34m\u001B[0m\u001B[0;34m\u001B[0m\u001B[0m\n\u001B[0m\u001B[1;32m    192\u001B[0m \u001B[0;34m\u001B[0m\u001B[0m\n\u001B[1;32m    193\u001B[0m \u001B[0;32mdef\u001B[0m \u001B[0mfullmatch\u001B[0m\u001B[0;34m(\u001B[0m\u001B[0mpattern\u001B[0m\u001B[0;34m,\u001B[0m \u001B[0mstring\u001B[0m\u001B[0;34m,\u001B[0m \u001B[0mflags\u001B[0m\u001B[0;34m=\u001B[0m\u001B[0;36m0\u001B[0m\u001B[0;34m)\u001B[0m\u001B[0;34m:\u001B[0m\u001B[0;34m\u001B[0m\u001B[0;34m\u001B[0m\u001B[0m\n",
      "\u001B[0;31mTypeError\u001B[0m: cannot use a string pattern on a bytes-like object"
     ]
    }
   ],
   "source": [
    "from xml.etree.ElementTree import ElementTree\n",
    "from nltk.toolbox import ToolboxData\n",
    "db = ToolboxData()\n",
    "db.open(nltk.data.find('corpora/toolbox/iu_mien_samp.db'))\n",
    "lexicon = db.parse(grammar, encoding='utf8')\n",
    "tree = ElementTree(lexicon)\n",
    "with open(\"iu_mien_samp.xml\", \"wb\") as output:\n",
    "    tree.write(output)"
   ],
   "metadata": {
    "collapsed": false,
    "pycharm": {
     "name": "#%%\n"
    }
   }
  },
  {
   "cell_type": "code",
   "execution_count": null,
   "outputs": [],
   "source": [],
   "metadata": {
    "collapsed": false,
    "pycharm": {
     "name": "#%%\n"
    }
   }
  }
 ],
 "metadata": {
  "kernelspec": {
   "display_name": "Python 3",
   "language": "python",
   "name": "python3"
  },
  "language_info": {
   "codemirror_mode": {
    "name": "ipython",
    "version": 2
   },
   "file_extension": ".py",
   "mimetype": "text/x-python",
   "name": "python",
   "nbconvert_exporter": "python",
   "pygments_lexer": "ipython2",
   "version": "2.7.6"
  }
 },
 "nbformat": 4,
 "nbformat_minor": 0
}