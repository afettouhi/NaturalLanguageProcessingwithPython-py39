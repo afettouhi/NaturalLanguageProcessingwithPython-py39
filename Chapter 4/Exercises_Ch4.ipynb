{
 "cells": [
  {
   "cell_type": "code",
   "execution_count": 1,
   "metadata": {
    "collapsed": true
   },
   "outputs": [
    {
     "name": "stdout",
     "output_type": "stream",
     "text": [
      "Help on class str in module builtins:\n",
      "\n",
      "class str(object)\n",
      " |  str(object='') -> str\n",
      " |  str(bytes_or_buffer[, encoding[, errors]]) -> str\n",
      " |  \n",
      " |  Create a new string object from the given object. If encoding or\n",
      " |  errors is specified, then the object must expose a data buffer\n",
      " |  that will be decoded using the given encoding and error handler.\n",
      " |  Otherwise, returns the result of object.__str__() (if defined)\n",
      " |  or repr(object).\n",
      " |  encoding defaults to sys.getdefaultencoding().\n",
      " |  errors defaults to 'strict'.\n",
      " |  \n",
      " |  Methods defined here:\n",
      " |  \n",
      " |  __add__(self, value, /)\n",
      " |      Return self+value.\n",
      " |  \n",
      " |  __contains__(self, key, /)\n",
      " |      Return key in self.\n",
      " |  \n",
      " |  __eq__(self, value, /)\n",
      " |      Return self==value.\n",
      " |  \n",
      " |  __format__(self, format_spec, /)\n",
      " |      Return a formatted version of the string as described by format_spec.\n",
      " |  \n",
      " |  __ge__(self, value, /)\n",
      " |      Return self>=value.\n",
      " |  \n",
      " |  __getattribute__(self, name, /)\n",
      " |      Return getattr(self, name).\n",
      " |  \n",
      " |  __getitem__(self, key, /)\n",
      " |      Return self[key].\n",
      " |  \n",
      " |  __getnewargs__(...)\n",
      " |  \n",
      " |  __gt__(self, value, /)\n",
      " |      Return self>value.\n",
      " |  \n",
      " |  __hash__(self, /)\n",
      " |      Return hash(self).\n",
      " |  \n",
      " |  __iter__(self, /)\n",
      " |      Implement iter(self).\n",
      " |  \n",
      " |  __le__(self, value, /)\n",
      " |      Return self<=value.\n",
      " |  \n",
      " |  __len__(self, /)\n",
      " |      Return len(self).\n",
      " |  \n",
      " |  __lt__(self, value, /)\n",
      " |      Return self<value.\n",
      " |  \n",
      " |  __mod__(self, value, /)\n",
      " |      Return self%value.\n",
      " |  \n",
      " |  __mul__(self, value, /)\n",
      " |      Return self*value.\n",
      " |  \n",
      " |  __ne__(self, value, /)\n",
      " |      Return self!=value.\n",
      " |  \n",
      " |  __repr__(self, /)\n",
      " |      Return repr(self).\n",
      " |  \n",
      " |  __rmod__(self, value, /)\n",
      " |      Return value%self.\n",
      " |  \n",
      " |  __rmul__(self, value, /)\n",
      " |      Return value*self.\n",
      " |  \n",
      " |  __sizeof__(self, /)\n",
      " |      Return the size of the string in memory, in bytes.\n",
      " |  \n",
      " |  __str__(self, /)\n",
      " |      Return str(self).\n",
      " |  \n",
      " |  capitalize(self, /)\n",
      " |      Return a capitalized version of the string.\n",
      " |      \n",
      " |      More specifically, make the first character have upper case and the rest lower\n",
      " |      case.\n",
      " |  \n",
      " |  casefold(self, /)\n",
      " |      Return a version of the string suitable for caseless comparisons.\n",
      " |  \n",
      " |  center(self, width, fillchar=' ', /)\n",
      " |      Return a centered string of length width.\n",
      " |      \n",
      " |      Padding is done using the specified fill character (default is a space).\n",
      " |  \n",
      " |  count(...)\n",
      " |      S.count(sub[, start[, end]]) -> int\n",
      " |      \n",
      " |      Return the number of non-overlapping occurrences of substring sub in\n",
      " |      string S[start:end].  Optional arguments start and end are\n",
      " |      interpreted as in slice notation.\n",
      " |  \n",
      " |  encode(self, /, encoding='utf-8', errors='strict')\n",
      " |      Encode the string using the codec registered for encoding.\n",
      " |      \n",
      " |      encoding\n",
      " |        The encoding in which to encode the string.\n",
      " |      errors\n",
      " |        The error handling scheme to use for encoding errors.\n",
      " |        The default is 'strict' meaning that encoding errors raise a\n",
      " |        UnicodeEncodeError.  Other possible values are 'ignore', 'replace' and\n",
      " |        'xmlcharrefreplace' as well as any other name registered with\n",
      " |        codecs.register_error that can handle UnicodeEncodeErrors.\n",
      " |  \n",
      " |  endswith(...)\n",
      " |      S.endswith(suffix[, start[, end]]) -> bool\n",
      " |      \n",
      " |      Return True if S ends with the specified suffix, False otherwise.\n",
      " |      With optional start, test S beginning at that position.\n",
      " |      With optional end, stop comparing S at that position.\n",
      " |      suffix can also be a tuple of strings to try.\n",
      " |  \n",
      " |  expandtabs(self, /, tabsize=8)\n",
      " |      Return a copy where all tab characters are expanded using spaces.\n",
      " |      \n",
      " |      If tabsize is not given, a tab size of 8 characters is assumed.\n",
      " |  \n",
      " |  find(...)\n",
      " |      S.find(sub[, start[, end]]) -> int\n",
      " |      \n",
      " |      Return the lowest index in S where substring sub is found,\n",
      " |      such that sub is contained within S[start:end].  Optional\n",
      " |      arguments start and end are interpreted as in slice notation.\n",
      " |      \n",
      " |      Return -1 on failure.\n",
      " |  \n",
      " |  format(...)\n",
      " |      S.format(*args, **kwargs) -> str\n",
      " |      \n",
      " |      Return a formatted version of S, using substitutions from args and kwargs.\n",
      " |      The substitutions are identified by braces ('{' and '}').\n",
      " |  \n",
      " |  format_map(...)\n",
      " |      S.format_map(mapping) -> str\n",
      " |      \n",
      " |      Return a formatted version of S, using substitutions from mapping.\n",
      " |      The substitutions are identified by braces ('{' and '}').\n",
      " |  \n",
      " |  index(...)\n",
      " |      S.index(sub[, start[, end]]) -> int\n",
      " |      \n",
      " |      Return the lowest index in S where substring sub is found,\n",
      " |      such that sub is contained within S[start:end].  Optional\n",
      " |      arguments start and end are interpreted as in slice notation.\n",
      " |      \n",
      " |      Raises ValueError when the substring is not found.\n",
      " |  \n",
      " |  isalnum(self, /)\n",
      " |      Return True if the string is an alpha-numeric string, False otherwise.\n",
      " |      \n",
      " |      A string is alpha-numeric if all characters in the string are alpha-numeric and\n",
      " |      there is at least one character in the string.\n",
      " |  \n",
      " |  isalpha(self, /)\n",
      " |      Return True if the string is an alphabetic string, False otherwise.\n",
      " |      \n",
      " |      A string is alphabetic if all characters in the string are alphabetic and there\n",
      " |      is at least one character in the string.\n",
      " |  \n",
      " |  isascii(self, /)\n",
      " |      Return True if all characters in the string are ASCII, False otherwise.\n",
      " |      \n",
      " |      ASCII characters have code points in the range U+0000-U+007F.\n",
      " |      Empty string is ASCII too.\n",
      " |  \n",
      " |  isdecimal(self, /)\n",
      " |      Return True if the string is a decimal string, False otherwise.\n",
      " |      \n",
      " |      A string is a decimal string if all characters in the string are decimal and\n",
      " |      there is at least one character in the string.\n",
      " |  \n",
      " |  isdigit(self, /)\n",
      " |      Return True if the string is a digit string, False otherwise.\n",
      " |      \n",
      " |      A string is a digit string if all characters in the string are digits and there\n",
      " |      is at least one character in the string.\n",
      " |  \n",
      " |  isidentifier(self, /)\n",
      " |      Return True if the string is a valid Python identifier, False otherwise.\n",
      " |      \n",
      " |      Call keyword.iskeyword(s) to test whether string s is a reserved identifier,\n",
      " |      such as \"def\" or \"class\".\n",
      " |  \n",
      " |  islower(self, /)\n",
      " |      Return True if the string is a lowercase string, False otherwise.\n",
      " |      \n",
      " |      A string is lowercase if all cased characters in the string are lowercase and\n",
      " |      there is at least one cased character in the string.\n",
      " |  \n",
      " |  isnumeric(self, /)\n",
      " |      Return True if the string is a numeric string, False otherwise.\n",
      " |      \n",
      " |      A string is numeric if all characters in the string are numeric and there is at\n",
      " |      least one character in the string.\n",
      " |  \n",
      " |  isprintable(self, /)\n",
      " |      Return True if the string is printable, False otherwise.\n",
      " |      \n",
      " |      A string is printable if all of its characters are considered printable in\n",
      " |      repr() or if it is empty.\n",
      " |  \n",
      " |  isspace(self, /)\n",
      " |      Return True if the string is a whitespace string, False otherwise.\n",
      " |      \n",
      " |      A string is whitespace if all characters in the string are whitespace and there\n",
      " |      is at least one character in the string.\n",
      " |  \n",
      " |  istitle(self, /)\n",
      " |      Return True if the string is a title-cased string, False otherwise.\n",
      " |      \n",
      " |      In a title-cased string, upper- and title-case characters may only\n",
      " |      follow uncased characters and lowercase characters only cased ones.\n",
      " |  \n",
      " |  isupper(self, /)\n",
      " |      Return True if the string is an uppercase string, False otherwise.\n",
      " |      \n",
      " |      A string is uppercase if all cased characters in the string are uppercase and\n",
      " |      there is at least one cased character in the string.\n",
      " |  \n",
      " |  join(self, iterable, /)\n",
      " |      Concatenate any number of strings.\n",
      " |      \n",
      " |      The string whose method is called is inserted in between each given string.\n",
      " |      The result is returned as a new string.\n",
      " |      \n",
      " |      Example: '.'.join(['ab', 'pq', 'rs']) -> 'ab.pq.rs'\n",
      " |  \n",
      " |  ljust(self, width, fillchar=' ', /)\n",
      " |      Return a left-justified string of length width.\n",
      " |      \n",
      " |      Padding is done using the specified fill character (default is a space).\n",
      " |  \n",
      " |  lower(self, /)\n",
      " |      Return a copy of the string converted to lowercase.\n",
      " |  \n",
      " |  lstrip(self, chars=None, /)\n",
      " |      Return a copy of the string with leading whitespace removed.\n",
      " |      \n",
      " |      If chars is given and not None, remove characters in chars instead.\n",
      " |  \n",
      " |  partition(self, sep, /)\n",
      " |      Partition the string into three parts using the given separator.\n",
      " |      \n",
      " |      This will search for the separator in the string.  If the separator is found,\n",
      " |      returns a 3-tuple containing the part before the separator, the separator\n",
      " |      itself, and the part after it.\n",
      " |      \n",
      " |      If the separator is not found, returns a 3-tuple containing the original string\n",
      " |      and two empty strings.\n",
      " |  \n",
      " |  removeprefix(self, prefix, /)\n",
      " |      Return a str with the given prefix string removed if present.\n",
      " |      \n",
      " |      If the string starts with the prefix string, return string[len(prefix):].\n",
      " |      Otherwise, return a copy of the original string.\n",
      " |  \n",
      " |  removesuffix(self, suffix, /)\n",
      " |      Return a str with the given suffix string removed if present.\n",
      " |      \n",
      " |      If the string ends with the suffix string and that suffix is not empty,\n",
      " |      return string[:-len(suffix)]. Otherwise, return a copy of the original\n",
      " |      string.\n",
      " |  \n",
      " |  replace(self, old, new, count=-1, /)\n",
      " |      Return a copy with all occurrences of substring old replaced by new.\n",
      " |      \n",
      " |        count\n",
      " |          Maximum number of occurrences to replace.\n",
      " |          -1 (the default value) means replace all occurrences.\n",
      " |      \n",
      " |      If the optional argument count is given, only the first count occurrences are\n",
      " |      replaced.\n",
      " |  \n",
      " |  rfind(...)\n",
      " |      S.rfind(sub[, start[, end]]) -> int\n",
      " |      \n",
      " |      Return the highest index in S where substring sub is found,\n",
      " |      such that sub is contained within S[start:end].  Optional\n",
      " |      arguments start and end are interpreted as in slice notation.\n",
      " |      \n",
      " |      Return -1 on failure.\n",
      " |  \n",
      " |  rindex(...)\n",
      " |      S.rindex(sub[, start[, end]]) -> int\n",
      " |      \n",
      " |      Return the highest index in S where substring sub is found,\n",
      " |      such that sub is contained within S[start:end].  Optional\n",
      " |      arguments start and end are interpreted as in slice notation.\n",
      " |      \n",
      " |      Raises ValueError when the substring is not found.\n",
      " |  \n",
      " |  rjust(self, width, fillchar=' ', /)\n",
      " |      Return a right-justified string of length width.\n",
      " |      \n",
      " |      Padding is done using the specified fill character (default is a space).\n",
      " |  \n",
      " |  rpartition(self, sep, /)\n",
      " |      Partition the string into three parts using the given separator.\n",
      " |      \n",
      " |      This will search for the separator in the string, starting at the end. If\n",
      " |      the separator is found, returns a 3-tuple containing the part before the\n",
      " |      separator, the separator itself, and the part after it.\n",
      " |      \n",
      " |      If the separator is not found, returns a 3-tuple containing two empty strings\n",
      " |      and the original string.\n",
      " |  \n",
      " |  rsplit(self, /, sep=None, maxsplit=-1)\n",
      " |      Return a list of the words in the string, using sep as the delimiter string.\n",
      " |      \n",
      " |        sep\n",
      " |          The delimiter according which to split the string.\n",
      " |          None (the default value) means split according to any whitespace,\n",
      " |          and discard empty strings from the result.\n",
      " |        maxsplit\n",
      " |          Maximum number of splits to do.\n",
      " |          -1 (the default value) means no limit.\n",
      " |      \n",
      " |      Splits are done starting at the end of the string and working to the front.\n",
      " |  \n",
      " |  rstrip(self, chars=None, /)\n",
      " |      Return a copy of the string with trailing whitespace removed.\n",
      " |      \n",
      " |      If chars is given and not None, remove characters in chars instead.\n",
      " |  \n",
      " |  split(self, /, sep=None, maxsplit=-1)\n",
      " |      Return a list of the words in the string, using sep as the delimiter string.\n",
      " |      \n",
      " |      sep\n",
      " |        The delimiter according which to split the string.\n",
      " |        None (the default value) means split according to any whitespace,\n",
      " |        and discard empty strings from the result.\n",
      " |      maxsplit\n",
      " |        Maximum number of splits to do.\n",
      " |        -1 (the default value) means no limit.\n",
      " |  \n",
      " |  splitlines(self, /, keepends=False)\n",
      " |      Return a list of the lines in the string, breaking at line boundaries.\n",
      " |      \n",
      " |      Line breaks are not included in the resulting list unless keepends is given and\n",
      " |      true.\n",
      " |  \n",
      " |  startswith(...)\n",
      " |      S.startswith(prefix[, start[, end]]) -> bool\n",
      " |      \n",
      " |      Return True if S starts with the specified prefix, False otherwise.\n",
      " |      With optional start, test S beginning at that position.\n",
      " |      With optional end, stop comparing S at that position.\n",
      " |      prefix can also be a tuple of strings to try.\n",
      " |  \n",
      " |  strip(self, chars=None, /)\n",
      " |      Return a copy of the string with leading and trailing whitespace removed.\n",
      " |      \n",
      " |      If chars is given and not None, remove characters in chars instead.\n",
      " |  \n",
      " |  swapcase(self, /)\n",
      " |      Convert uppercase characters to lowercase and lowercase characters to uppercase.\n",
      " |  \n",
      " |  title(self, /)\n",
      " |      Return a version of the string where each word is titlecased.\n",
      " |      \n",
      " |      More specifically, words start with uppercased characters and all remaining\n",
      " |      cased characters have lower case.\n",
      " |  \n",
      " |  translate(self, table, /)\n",
      " |      Replace each character in the string using the given translation table.\n",
      " |      \n",
      " |        table\n",
      " |          Translation table, which must be a mapping of Unicode ordinals to\n",
      " |          Unicode ordinals, strings, or None.\n",
      " |      \n",
      " |      The table must implement lookup/indexing via __getitem__, for instance a\n",
      " |      dictionary or list.  If this operation raises LookupError, the character is\n",
      " |      left untouched.  Characters mapped to None are deleted.\n",
      " |  \n",
      " |  upper(self, /)\n",
      " |      Return a copy of the string converted to uppercase.\n",
      " |  \n",
      " |  zfill(self, width, /)\n",
      " |      Pad a numeric string with zeros on the left, to fill a field of the given width.\n",
      " |      \n",
      " |      The string is never truncated.\n",
      " |  \n",
      " |  ----------------------------------------------------------------------\n",
      " |  Static methods defined here:\n",
      " |  \n",
      " |  __new__(*args, **kwargs) from builtins.type\n",
      " |      Create and return a new object.  See help(type) for accurate signature.\n",
      " |  \n",
      " |  maketrans(...)\n",
      " |      Return a translation table usable for str.translate().\n",
      " |      \n",
      " |      If there is only one argument, it must be a dictionary mapping Unicode\n",
      " |      ordinals (integers) or characters to Unicode ordinals, strings or None.\n",
      " |      Character keys will be then converted to ordinals.\n",
      " |      If there are two arguments, they must be strings of equal length, and\n",
      " |      in the resulting dictionary, each character in x will be mapped to the\n",
      " |      character at the same position in y. If there is a third argument, it\n",
      " |      must be a string, whose characters will be mapped to None in the result.\n",
      "\n"
     ]
    }
   ],
   "source": [
    "# Exercise: 4-1\n",
    "# Find out more about sequence objects using Python’s help facility. In the interpreter, type help(str), help(list),\n",
    "# and help(tuple). This will give you a full list of the functions supported by each type. Some functions have special\n",
    "# names flanked with underscores; as the help documentation shows, each such function corresponds to something more\n",
    "# familiar. For example x.__getitem__(y) is just a long-winded way of saying x[y].\n",
    "\n",
    "help(str)"
   ]
  },
  {
   "cell_type": "code",
   "execution_count": 2,
   "outputs": [
    {
     "name": "stdout",
     "output_type": "stream",
     "text": [
      "Help on class list in module builtins:\n",
      "\n",
      "class list(object)\n",
      " |  list(iterable=(), /)\n",
      " |  \n",
      " |  Built-in mutable sequence.\n",
      " |  \n",
      " |  If no argument is given, the constructor creates a new empty list.\n",
      " |  The argument must be an iterable if specified.\n",
      " |  \n",
      " |  Methods defined here:\n",
      " |  \n",
      " |  __add__(self, value, /)\n",
      " |      Return self+value.\n",
      " |  \n",
      " |  __contains__(self, key, /)\n",
      " |      Return key in self.\n",
      " |  \n",
      " |  __delitem__(self, key, /)\n",
      " |      Delete self[key].\n",
      " |  \n",
      " |  __eq__(self, value, /)\n",
      " |      Return self==value.\n",
      " |  \n",
      " |  __ge__(self, value, /)\n",
      " |      Return self>=value.\n",
      " |  \n",
      " |  __getattribute__(self, name, /)\n",
      " |      Return getattr(self, name).\n",
      " |  \n",
      " |  __getitem__(...)\n",
      " |      x.__getitem__(y) <==> x[y]\n",
      " |  \n",
      " |  __gt__(self, value, /)\n",
      " |      Return self>value.\n",
      " |  \n",
      " |  __iadd__(self, value, /)\n",
      " |      Implement self+=value.\n",
      " |  \n",
      " |  __imul__(self, value, /)\n",
      " |      Implement self*=value.\n",
      " |  \n",
      " |  __init__(self, /, *args, **kwargs)\n",
      " |      Initialize self.  See help(type(self)) for accurate signature.\n",
      " |  \n",
      " |  __iter__(self, /)\n",
      " |      Implement iter(self).\n",
      " |  \n",
      " |  __le__(self, value, /)\n",
      " |      Return self<=value.\n",
      " |  \n",
      " |  __len__(self, /)\n",
      " |      Return len(self).\n",
      " |  \n",
      " |  __lt__(self, value, /)\n",
      " |      Return self<value.\n",
      " |  \n",
      " |  __mul__(self, value, /)\n",
      " |      Return self*value.\n",
      " |  \n",
      " |  __ne__(self, value, /)\n",
      " |      Return self!=value.\n",
      " |  \n",
      " |  __repr__(self, /)\n",
      " |      Return repr(self).\n",
      " |  \n",
      " |  __reversed__(self, /)\n",
      " |      Return a reverse iterator over the list.\n",
      " |  \n",
      " |  __rmul__(self, value, /)\n",
      " |      Return value*self.\n",
      " |  \n",
      " |  __setitem__(self, key, value, /)\n",
      " |      Set self[key] to value.\n",
      " |  \n",
      " |  __sizeof__(self, /)\n",
      " |      Return the size of the list in memory, in bytes.\n",
      " |  \n",
      " |  append(self, object, /)\n",
      " |      Append object to the end of the list.\n",
      " |  \n",
      " |  clear(self, /)\n",
      " |      Remove all items from list.\n",
      " |  \n",
      " |  copy(self, /)\n",
      " |      Return a shallow copy of the list.\n",
      " |  \n",
      " |  count(self, value, /)\n",
      " |      Return number of occurrences of value.\n",
      " |  \n",
      " |  extend(self, iterable, /)\n",
      " |      Extend list by appending elements from the iterable.\n",
      " |  \n",
      " |  index(self, value, start=0, stop=9223372036854775807, /)\n",
      " |      Return first index of value.\n",
      " |      \n",
      " |      Raises ValueError if the value is not present.\n",
      " |  \n",
      " |  insert(self, index, object, /)\n",
      " |      Insert object before index.\n",
      " |  \n",
      " |  pop(self, index=-1, /)\n",
      " |      Remove and return item at index (default last).\n",
      " |      \n",
      " |      Raises IndexError if list is empty or index is out of range.\n",
      " |  \n",
      " |  remove(self, value, /)\n",
      " |      Remove first occurrence of value.\n",
      " |      \n",
      " |      Raises ValueError if the value is not present.\n",
      " |  \n",
      " |  reverse(self, /)\n",
      " |      Reverse *IN PLACE*.\n",
      " |  \n",
      " |  sort(self, /, *, key=None, reverse=False)\n",
      " |      Sort the list in ascending order and return None.\n",
      " |      \n",
      " |      The sort is in-place (i.e. the list itself is modified) and stable (i.e. the\n",
      " |      order of two equal elements is maintained).\n",
      " |      \n",
      " |      If a key function is given, apply it once to each list item and sort them,\n",
      " |      ascending or descending, according to their function values.\n",
      " |      \n",
      " |      The reverse flag can be set to sort in descending order.\n",
      " |  \n",
      " |  ----------------------------------------------------------------------\n",
      " |  Class methods defined here:\n",
      " |  \n",
      " |  __class_getitem__(...) from builtins.type\n",
      " |      See PEP 585\n",
      " |  \n",
      " |  ----------------------------------------------------------------------\n",
      " |  Static methods defined here:\n",
      " |  \n",
      " |  __new__(*args, **kwargs) from builtins.type\n",
      " |      Create and return a new object.  See help(type) for accurate signature.\n",
      " |  \n",
      " |  ----------------------------------------------------------------------\n",
      " |  Data and other attributes defined here:\n",
      " |  \n",
      " |  __hash__ = None\n",
      "\n"
     ]
    }
   ],
   "source": [
    "help(list)"
   ],
   "metadata": {
    "collapsed": false,
    "pycharm": {
     "name": "#%%\n"
    }
   }
  },
  {
   "cell_type": "code",
   "execution_count": 3,
   "outputs": [
    {
     "name": "stdout",
     "output_type": "stream",
     "text": [
      "Help on class tuple in module builtins:\n",
      "\n",
      "class tuple(object)\n",
      " |  tuple(iterable=(), /)\n",
      " |  \n",
      " |  Built-in immutable sequence.\n",
      " |  \n",
      " |  If no argument is given, the constructor returns an empty tuple.\n",
      " |  If iterable is specified the tuple is initialized from iterable's items.\n",
      " |  \n",
      " |  If the argument is a tuple, the return value is the same object.\n",
      " |  \n",
      " |  Built-in subclasses:\n",
      " |      asyncgen_hooks\n",
      " |      UnraisableHookArgs\n",
      " |  \n",
      " |  Methods defined here:\n",
      " |  \n",
      " |  __add__(self, value, /)\n",
      " |      Return self+value.\n",
      " |  \n",
      " |  __contains__(self, key, /)\n",
      " |      Return key in self.\n",
      " |  \n",
      " |  __eq__(self, value, /)\n",
      " |      Return self==value.\n",
      " |  \n",
      " |  __ge__(self, value, /)\n",
      " |      Return self>=value.\n",
      " |  \n",
      " |  __getattribute__(self, name, /)\n",
      " |      Return getattr(self, name).\n",
      " |  \n",
      " |  __getitem__(self, key, /)\n",
      " |      Return self[key].\n",
      " |  \n",
      " |  __getnewargs__(self, /)\n",
      " |  \n",
      " |  __gt__(self, value, /)\n",
      " |      Return self>value.\n",
      " |  \n",
      " |  __hash__(self, /)\n",
      " |      Return hash(self).\n",
      " |  \n",
      " |  __iter__(self, /)\n",
      " |      Implement iter(self).\n",
      " |  \n",
      " |  __le__(self, value, /)\n",
      " |      Return self<=value.\n",
      " |  \n",
      " |  __len__(self, /)\n",
      " |      Return len(self).\n",
      " |  \n",
      " |  __lt__(self, value, /)\n",
      " |      Return self<value.\n",
      " |  \n",
      " |  __mul__(self, value, /)\n",
      " |      Return self*value.\n",
      " |  \n",
      " |  __ne__(self, value, /)\n",
      " |      Return self!=value.\n",
      " |  \n",
      " |  __repr__(self, /)\n",
      " |      Return repr(self).\n",
      " |  \n",
      " |  __rmul__(self, value, /)\n",
      " |      Return value*self.\n",
      " |  \n",
      " |  count(self, value, /)\n",
      " |      Return number of occurrences of value.\n",
      " |  \n",
      " |  index(self, value, start=0, stop=9223372036854775807, /)\n",
      " |      Return first index of value.\n",
      " |      \n",
      " |      Raises ValueError if the value is not present.\n",
      " |  \n",
      " |  ----------------------------------------------------------------------\n",
      " |  Class methods defined here:\n",
      " |  \n",
      " |  __class_getitem__(...) from builtins.type\n",
      " |      See PEP 585\n",
      " |  \n",
      " |  ----------------------------------------------------------------------\n",
      " |  Static methods defined here:\n",
      " |  \n",
      " |  __new__(*args, **kwargs) from builtins.type\n",
      " |      Create and return a new object.  See help(type) for accurate signature.\n",
      "\n"
     ]
    }
   ],
   "source": [
    "help(tuple)"
   ],
   "metadata": {
    "collapsed": false,
    "pycharm": {
     "name": "#%%\n"
    }
   }
  },
  {
   "cell_type": "code",
   "execution_count": 4,
   "outputs": [
    {
     "name": "stdout",
     "output_type": "stream",
     "text": [
      "['__add__', '__class__', '__class_getitem__', '__contains__', '__delattr__', '__dir__', '__doc__', '__eq__', '__format__', '__ge__', '__getattribute__', '__getitem__', '__gt__', '__hash__', '__init__', '__init_subclass__', '__iter__', '__le__', '__len__', '__lt__', '__mul__', '__ne__', '__new__', '__reduce__', '__reduce_ex__', '__repr__', '__rmul__', '__setattr__', '__sizeof__', '__str__', '__subclasshook__', 'count', 'index']"
     ]
    }
   ],
   "source": [
    "# Exercise: 4-2\n",
    "# Identify three operations that can be performed on both tuples and lists. Identify three list operations that\n",
    "# cannot be performed on tuples. Name a context where using a list instead of a tuple generates a Python error.\n",
    "\n",
    "print([x for x in dir(list) if x in dir(tuple)], end = '')"
   ],
   "metadata": {
    "collapsed": false,
    "pycharm": {
     "name": "#%%\n"
    }
   }
  },
  {
   "cell_type": "code",
   "execution_count": 5,
   "outputs": [
    {
     "name": "stdout",
     "output_type": "stream",
     "text": [
      "['__delitem__', '__iadd__', '__imul__', '__reversed__', '__setitem__', 'append', 'clear', 'copy', 'extend', 'insert', 'pop', 'remove', 'reverse', 'sort']"
     ]
    }
   ],
   "source": [
    "print([x for x in dir(list) if x not in dir(tuple)], end = '')"
   ],
   "metadata": {
    "collapsed": false,
    "pycharm": {
     "name": "#%%\n"
    }
   }
  },
  {
   "cell_type": "code",
   "execution_count": 6,
   "outputs": [
    {
     "data": {
      "text/plain": "tuple"
     },
     "execution_count": 6,
     "metadata": {},
     "output_type": "execute_result"
    }
   ],
   "source": [
    "# Exercise: 4-3\n",
    "# Find out how to create a tuple consisting of a single item. There are at least two ways to do this.\n",
    "\n",
    "x = 1,\n",
    "\n",
    "type(x)"
   ],
   "metadata": {
    "collapsed": false,
    "pycharm": {
     "name": "#%%\n"
    }
   }
  },
  {
   "cell_type": "code",
   "execution_count": 7,
   "outputs": [
    {
     "data": {
      "text/plain": "tuple"
     },
     "execution_count": 7,
     "metadata": {},
     "output_type": "execute_result"
    }
   ],
   "source": [
    "x = tuple([1])\n",
    "type(x)"
   ],
   "metadata": {
    "collapsed": false,
    "pycharm": {
     "name": "#%%\n"
    }
   }
  },
  {
   "cell_type": "code",
   "execution_count": 8,
   "outputs": [
    {
     "data": {
      "text/plain": "['NLP', 'is', 'fun', '!']"
     },
     "execution_count": 8,
     "metadata": {},
     "output_type": "execute_result"
    }
   ],
   "source": [
    "# Exercise: 4-4\n",
    "# Create a list words = ['is', 'NLP', 'fun', '?']. Use a series of assignment statements (e.g., words[1] = words[2])\n",
    "# and a temporary variable tmp to transform this list into the list ['NLP', 'is', 'fun', '!']. Now do the same\n",
    "# transformation using tuple assignment.\n",
    "\n",
    "words = ['is', 'NLP', 'fun', '?']\n",
    "tmp = words[0]\n",
    "words[0] = words[1]\n",
    "words[1] = tmp\n",
    "words[3] = '!'\n",
    "words"
   ],
   "metadata": {
    "collapsed": false,
    "pycharm": {
     "name": "#%%\n"
    }
   }
  },
  {
   "cell_type": "code",
   "execution_count": 9,
   "outputs": [
    {
     "data": {
      "text/plain": "['NLP', 'is', 'fun', '!']"
     },
     "execution_count": 9,
     "metadata": {},
     "output_type": "execute_result"
    }
   ],
   "source": [
    "words = ['is', 'NLP', 'fun', '?']\n",
    "words[1], words[0], words[3] = words[0], words[1], \"!\"\n",
    "words"
   ],
   "metadata": {
    "collapsed": false,
    "pycharm": {
     "name": "#%%\n"
    }
   }
  },
  {
   "cell_type": "code",
   "execution_count": 10,
   "outputs": [
    {
     "data": {
      "text/plain": "[['The'], ['dog'], ['gave'], ['John'], ['the'], ['newspaper']]"
     },
     "execution_count": 10,
     "metadata": {},
     "output_type": "execute_result"
    }
   ],
   "source": [
    "# Exercise: 4-6\n",
    "# Does the method for creating a sliding window of n-grams behave correctly for the two limiting cases: n = 1\n",
    "# and n = len(sent)?\n",
    "\n",
    "sent = ['The', 'dog', 'gave', 'John', 'the', 'newspaper']\n",
    "n = 1\n",
    "[sent[i:i+n] for i in range(len(sent)-n+1)]"
   ],
   "metadata": {
    "collapsed": false,
    "pycharm": {
     "name": "#%%\n"
    }
   }
  },
  {
   "cell_type": "code",
   "execution_count": 11,
   "outputs": [
    {
     "data": {
      "text/plain": "[['The', 'dog', 'gave', 'John', 'the', 'newspaper']]"
     },
     "execution_count": 11,
     "metadata": {},
     "output_type": "execute_result"
    }
   ],
   "source": [
    "sent = ['The', 'dog', 'gave', 'John', 'the', 'newspaper']\n",
    "n = len(sent)\n",
    "[sent[i:i+n] for i in range(len(sent)-n+1)]"
   ],
   "metadata": {
    "collapsed": false,
    "pycharm": {
     "name": "#%%\n"
    }
   }
  },
  {
   "cell_type": "code",
   "execution_count": 12,
   "outputs": [
    {
     "name": "stdout",
     "output_type": "stream",
     "text": [
      "0 evaluates as False\n",
      "1 evaluates as True\n",
      "-1 evaluates as True\n",
      "inf evaluates as True\n",
      "-inf evaluates as True\n",
      "nan evaluates as True\n",
      "0 evaluates as True\n",
      "1 evaluates as True\n",
      " evaluates as False\n",
      "[] evaluates as False\n",
      "Fahrvergnügen evaluates as True\n",
      "3.1415 evaluates as True\n",
      "None evaluates as False\n",
      "[None] evaluates as True\n",
      "() evaluates as False\n",
      "(None,) evaluates as True\n"
     ]
    }
   ],
   "source": [
    "# Exercise: 4-7\n",
    "# We pointed out that when empty strings and empty lists occur in the condition part of an if clause, they evaluate\n",
    "# to False. In this case, they are said to be occurring in a Boolean context. Experiment with different kinds of\n",
    "# non-Boolean expressions in Boolean contexts, and see whether they evaluate as True or False.\n",
    "\n",
    "cands = [0, 1, -1, float('Inf'), -float('Inf'), float('NaN'), \"0\", \"1\", \"\", [],\n",
    "         \"Fahrvergnügen\", 3.1415, None, [None], tuple([]), tuple([None])]\n",
    "\n",
    "for c in cands:\n",
    "    if c:\n",
    "        print(\"{} evaluates as True\".format(c))\n",
    "    else:\n",
    "        print(\"{} evaluates as False\".format(c))"
   ],
   "metadata": {
    "collapsed": false,
    "pycharm": {
     "name": "#%%\n"
    }
   }
  },
  {
   "cell_type": "code",
   "execution_count": 13,
   "outputs": [
    {
     "data": {
      "text/plain": "True"
     },
     "execution_count": 13,
     "metadata": {},
     "output_type": "execute_result"
    }
   ],
   "source": [
    "# Exercise: 4-8\n",
    "# Use the inequality operators to compare strings, e.g., 'Monty' < 'Python'. What happens when you do 'Z' < 'a'?\n",
    "# Try pairs of strings that have a common prefix, e.g., 'Monty' < 'Montague'. Read up on “lexicographical sort”\n",
    "# in order to understand what is going on here. Try comparing structured objects, e.g., ('Monty', 1) < ('Monty', 2).\n",
    "# Does this behave as expected?\n",
    "\n",
    "'Monty' < 'Python'"
   ],
   "metadata": {
    "collapsed": false,
    "pycharm": {
     "name": "#%%\n"
    }
   }
  },
  {
   "cell_type": "code",
   "execution_count": 14,
   "outputs": [
    {
     "data": {
      "text/plain": "True"
     },
     "execution_count": 14,
     "metadata": {},
     "output_type": "execute_result"
    }
   ],
   "source": [
    "'M' < 'Python'"
   ],
   "metadata": {
    "collapsed": false,
    "pycharm": {
     "name": "#%%\n"
    }
   }
  },
  {
   "cell_type": "code",
   "execution_count": 15,
   "outputs": [
    {
     "data": {
      "text/plain": "True"
     },
     "execution_count": 15,
     "metadata": {},
     "output_type": "execute_result"
    }
   ],
   "source": [
    "'Monty' < 'P'"
   ],
   "metadata": {
    "collapsed": false,
    "pycharm": {
     "name": "#%%\n"
    }
   }
  },
  {
   "cell_type": "code",
   "execution_count": 16,
   "outputs": [
    {
     "data": {
      "text/plain": "True"
     },
     "execution_count": 16,
     "metadata": {},
     "output_type": "execute_result"
    }
   ],
   "source": [
    "'Z' < 'a'"
   ],
   "metadata": {
    "collapsed": false,
    "pycharm": {
     "name": "#%%\n"
    }
   }
  },
  {
   "cell_type": "code",
   "execution_count": 17,
   "outputs": [
    {
     "data": {
      "text/plain": "False"
     },
     "execution_count": 17,
     "metadata": {},
     "output_type": "execute_result"
    }
   ],
   "source": [
    "'Monty' < 'Montague'"
   ],
   "metadata": {
    "collapsed": false,
    "pycharm": {
     "name": "#%%\n"
    }
   }
  },
  {
   "cell_type": "code",
   "execution_count": 18,
   "outputs": [
    {
     "data": {
      "text/plain": "True"
     },
     "execution_count": 18,
     "metadata": {},
     "output_type": "execute_result"
    }
   ],
   "source": [
    "('Monty', 1) < ('Monty', 2)"
   ],
   "metadata": {
    "collapsed": false,
    "pycharm": {
     "name": "#%%\n"
    }
   }
  },
  {
   "cell_type": "code",
   "execution_count": 19,
   "outputs": [
    {
     "data": {
      "text/plain": "False"
     },
     "execution_count": 19,
     "metadata": {},
     "output_type": "execute_result"
    }
   ],
   "source": [
    "('Monty', 1, 1, 1, 5) < ('Monty', 1, 1, 1, 4)"
   ],
   "metadata": {
    "collapsed": false,
    "pycharm": {
     "name": "#%%\n"
    }
   }
  },
  {
   "cell_type": "code",
   "execution_count": 20,
   "outputs": [
    {
     "data": {
      "text/plain": "'this is a really inconsistent use of whitespace.'"
     },
     "execution_count": 20,
     "metadata": {},
     "output_type": "execute_result"
    }
   ],
   "source": [
    "# Exercise: 4-9\n",
    "# Write code that removes whitespace at the beginning and end of a string, and normalizes whitespace between\n",
    "# words to be a single-space character.\n",
    "# a: Do this task using split() and join().\n",
    "\n",
    "sent = \"    this    is   a really inconsistent          use  of     whitespace.      \"\n",
    "sent = sent.split()\n",
    "' '.join(sent)"
   ],
   "metadata": {
    "collapsed": false,
    "pycharm": {
     "name": "#%%\n"
    }
   }
  },
  {
   "cell_type": "code",
   "execution_count": 21,
   "outputs": [
    {
     "data": {
      "text/plain": "'this is a really inconsistent use of whitespace.'"
     },
     "execution_count": 21,
     "metadata": {},
     "output_type": "execute_result"
    }
   ],
   "source": [
    "# b: Do this task using regular expression substitutions.\n",
    "\n",
    "import re\n",
    "sent = \"    this    is   a really inconsistent          use  of     whitespace.      \"\n",
    "sent = re.sub(r'^\\s*|\\s*$', '', sent)\n",
    "sent = re.sub(r'\\s+', ' ', sent)\n",
    "sent"
   ],
   "metadata": {
    "collapsed": false,
    "pycharm": {
     "name": "#%%\n"
    }
   }
  },
  {
   "cell_type": "code",
   "execution_count": 22,
   "outputs": [],
   "source": [
    "# Exercise: 4-10\n",
    "# Write a program to sort words by length. Define a helper function cmp_len which uses the cmp comparison function\n",
    "# on word lengths.\n",
    "\n",
    "def sort_words_by_length(text):\n",
    "    \"\"\"\n",
    "    Returns a list, sorted from shortest to longest,\n",
    "    of words in text.\n",
    "    \"\"\"\n",
    "\n",
    "    return [w for _, w in sorted([(len(w), w) for w in text.split()])]"
   ],
   "metadata": {
    "collapsed": false,
    "pycharm": {
     "name": "#%%\n"
    }
   }
  },
  {
   "cell_type": "code",
   "execution_count": 23,
   "outputs": [
    {
     "name": "stdout",
     "output_type": "stream",
     "text": [
      "['in', 'of', 'are', 'the', 'this', 'words', 'mostly', 'unique', 'lengths', 'sentence', 'character']"
     ]
    }
   ],
   "source": [
    "sent = 'the words in this sentence are mostly of unique character lengths'\n",
    "\n",
    "print(sort_words_by_length(sent), end = '')"
   ],
   "metadata": {
    "collapsed": false,
    "pycharm": {
     "name": "#%%\n"
    }
   }
  },
  {
   "cell_type": "code",
   "execution_count": 24,
   "outputs": [
    {
     "name": "stdout",
     "output_type": "stream",
     "text": [
      "['Mares', 'doats', 'and', 'dozy', 'doats', 'and', 'liddle', 'lamzy', 'divey', 'A', 'kiddley', 'divey', 'too,', \"wouldn't\", 'you?']"
     ]
    }
   ],
   "source": [
    "# Exercise: 4-11\n",
    "# Create a list of words and store it in a variable sent1. Now assign sent2 = sent1. Modify one of the items in sent1\n",
    "# and verify that sent2 has changed.\n",
    "# a: Now try the same exercise, but instead assign sent2 = sent1[:]. Modify sent1 again and see what happens to\n",
    "# sent2. Explain.\n",
    "\n",
    "sent = \"Mairzy doats and dozy doats and liddle lamzy divey \" \\\n",
    "        \"A kiddley divey too, wouldn't you?\"\n",
    "sent1 = sent.split()\n",
    "sent2 = sent1\n",
    "sent1[0] = \"Mares\"\n",
    "print(sent2, end = '')"
   ],
   "metadata": {
    "collapsed": false,
    "pycharm": {
     "name": "#%%\n"
    }
   }
  },
  {
   "cell_type": "code",
   "execution_count": 25,
   "outputs": [
    {
     "name": "stdout",
     "output_type": "stream",
     "text": [
      "['Mairzy', 'doats', 'and', 'dozy', 'doats', 'and', 'liddle', 'lamzy', 'divey', 'A', 'kiddley', 'divey', 'too,', \"wouldn't\", 'you?']"
     ]
    }
   ],
   "source": [
    "sent = \"Mairzy doats and dozy doats and liddle lamzy divey \" \\\n",
    "        \"A kiddley divey too, wouldn't you?\"\n",
    "sent1 = sent.split()\n",
    "sent2 = sent1[:]\n",
    "sent1[0] = \"Mares\"\n",
    "print(sent2, end = '')"
   ],
   "metadata": {
    "collapsed": false,
    "pycharm": {
     "name": "#%%\n"
    }
   }
  },
  {
   "cell_type": "code",
   "execution_count": 26,
   "outputs": [
    {
     "name": "stdout",
     "output_type": "stream",
     "text": [
      "[['Mairzy', 'doats', 'and', 'dozy', 'doats', 'and', 'liddle', 'lamzy', 'divey'], ['A', 'Monty', 'divey', 'too,', \"wouldn't\", 'you?']]"
     ]
    }
   ],
   "source": [
    "# b: Now define text1 to be a list of lists of strings (e.g., to represent a text consisting of multiple sentences).\n",
    "# Now assign text2 = text1[:], assign a new value to one of the words, e.g., text1[1][1] = 'Monty'. Check what this\n",
    "# did to text2. Explain.\n",
    "\n",
    "sentA = \"Mairzy doats and dozy doats and liddle lamzy divey\"\n",
    "sentB = \"A kiddley divey too, wouldn't you?\"\n",
    "\n",
    "text1 = [sentA.split(), sentB.split()]\n",
    "text2 = text1[:]\n",
    "\n",
    "text1[1][1] = 'Monty'\n",
    "\n",
    "print(text2, end = '')"
   ],
   "metadata": {
    "collapsed": false,
    "pycharm": {
     "name": "#%%\n"
    }
   }
  },
  {
   "cell_type": "code",
   "execution_count": 27,
   "outputs": [
    {
     "name": "stdout",
     "output_type": "stream",
     "text": [
      "[['Mairzy', 'doats', 'and', 'dozy', 'doats', 'and', 'liddle', 'lamzy', 'divey'], ['A', 'kiddley', 'divey', 'too,', \"wouldn't\", 'you?']]"
     ]
    }
   ],
   "source": [
    "sentA = \"Mairzy doats and dozy doats and liddle lamzy divey\"\n",
    "sentB = \"A kiddley divey too, wouldn't you?\"\n",
    "\n",
    "text1 = [sentA.split(), sentB.split()]\n",
    "text2 = [text1[0][:], text1[1][:]]\n",
    "\n",
    "text1[1][1] = 'Monty'\n",
    "\n",
    "print(text2, end = '')"
   ],
   "metadata": {
    "collapsed": false,
    "pycharm": {
     "name": "#%%\n"
    }
   }
  },
  {
   "cell_type": "code",
   "execution_count": 28,
   "outputs": [
    {
     "name": "stdout",
     "output_type": "stream",
     "text": [
      "['Mairzy', 'doats', 'and', 'dozy', 'doats', 'and', 'liddle', 'lamzy', 'divey', 'A', 'kiddley', 'divey', 'too,', \"wouldn't\", 'you?']"
     ]
    }
   ],
   "source": [
    "# c: Load Python’s deepcopy() function (i.e., from copy import deepcopy), consult its documentation, and test that\n",
    "# it makes a fresh copy of any object.\n",
    "\n",
    "from copy import deepcopy\n",
    "\n",
    "sent = \"Mairzy doats and dozy doats and liddle lamzy divey \" \\\n",
    "        \"A kiddley divey too, wouldn't you?\"\n",
    "sent1 = sent.split()\n",
    "sent2 = deepcopy(sent1)\n",
    "sent1[0] = \"Mares\"\n",
    "print(sent2, end = '')"
   ],
   "metadata": {
    "collapsed": false,
    "pycharm": {
     "name": "#%%\n"
    }
   }
  },
  {
   "cell_type": "code",
   "execution_count": 29,
   "outputs": [
    {
     "name": "stdout",
     "output_type": "stream",
     "text": [
      "[['', '', '', '', '', '', ''],\n",
      " ['', '', '', '', '', '', ''],\n",
      " ['', '', '', '', '', '', ''],\n",
      " ['', '', '', '', '', '', ''],\n",
      " ['', '', '', '', '', '', ''],\n",
      " ['', '', '', '', '', '', '']]\n"
     ]
    }
   ],
   "source": [
    "# Exercise: 4-12\n",
    "# Initialize an n-by-m list of lists of empty strings using list multiplication, e.g., word_table = [[''] * n] * m.\n",
    "# What happens when you set one of its values, e.g., word_table[1][2] = \"hello\"? Explain why this happens. Now\n",
    "# write an expression using range() to construct a list of lists, and show that it does not have this problem.\n",
    "import pprint\n",
    "m, n = 6, 7\n",
    "\n",
    "word_table = [[''] * n] * m\n",
    "pprint.pprint(word_table)"
   ],
   "metadata": {
    "collapsed": false,
    "pycharm": {
     "name": "#%%\n"
    }
   }
  },
  {
   "cell_type": "code",
   "execution_count": 30,
   "outputs": [
    {
     "name": "stdout",
     "output_type": "stream",
     "text": [
      "[['', '', 'hello', '', '', '', ''],\n",
      " ['', '', 'hello', '', '', '', ''],\n",
      " ['', '', 'hello', '', '', '', ''],\n",
      " ['', '', 'hello', '', '', '', ''],\n",
      " ['', '', 'hello', '', '', '', ''],\n",
      " ['', '', 'hello', '', '', '', '']]\n"
     ]
    }
   ],
   "source": [
    "word_table[1][2] = (\"hello\")\n",
    "pprint.pprint(word_table)"
   ],
   "metadata": {
    "collapsed": false,
    "pycharm": {
     "name": "#%%\n"
    }
   }
  },
  {
   "cell_type": "code",
   "execution_count": 31,
   "outputs": [
    {
     "name": "stdout",
     "output_type": "stream",
     "text": [
      "[['', '', '', '', '', '', ''],\n",
      " ['', '', '', '', '', '', ''],\n",
      " ['', '', '', '', '', '', ''],\n",
      " ['', '', '', '', '', '', ''],\n",
      " ['', '', '', '', '', '', ''],\n",
      " ['', '', '', '', '', '', '']]\n"
     ]
    }
   ],
   "source": [
    "word_table = [['' for i in range(n)] for j in range(m)]\n",
    "pprint.pprint(word_table)"
   ],
   "metadata": {
    "collapsed": false,
    "pycharm": {
     "name": "#%%\n"
    }
   }
  },
  {
   "cell_type": "code",
   "execution_count": 32,
   "outputs": [
    {
     "name": "stdout",
     "output_type": "stream",
     "text": [
      "[['', '', '', '', '', '', ''],\n",
      " ['', '', 'hello', '', '', '', ''],\n",
      " ['', '', '', '', '', '', ''],\n",
      " ['', '', '', '', '', '', ''],\n",
      " ['', '', '', '', '', '', ''],\n",
      " ['', '', '', '', '', '', '']]\n"
     ]
    }
   ],
   "source": [
    "word_table[1][2] = (\"hello\")\n",
    "pprint.pprint(word_table)"
   ],
   "metadata": {
    "collapsed": false,
    "pycharm": {
     "name": "#%%\n"
    }
   }
  },
  {
   "cell_type": "code",
   "execution_count": 33,
   "outputs": [],
   "source": [
    "# Exercise: 4-13\n",
    "# Write code to initialize a two-dimensional array of sets called word_vowels and process a list of words,\n",
    "# adding each word to word_vowels[l][v] where l is the length of the word and v is the number of vowels it contains.\n",
    "\n",
    "def find_length_word_number_vowels(text):\n",
    "    \"\"\"\n",
    "    Returns an array of two sets.  The first set comprises\n",
    "    the lengths of the words.  The second the number of vowels.\n",
    "    For the sake of simplicity, 'y' is not counted as a vowel.\n",
    "    Results are ordered from smallest to greatest.\n",
    "    \"\"\"\n",
    "\n",
    "    word_vowels = [set(), set()]\n",
    "\n",
    "    for t in text:\n",
    "        word_vowels[0].add(len(t))\n",
    "        word_vowels[1].add(sum([1 for i in t if i.lower() in 'aeiou']))\n",
    "\n",
    "    return word_vowels"
   ],
   "metadata": {
    "collapsed": false,
    "pycharm": {
     "name": "#%%\n"
    }
   }
  },
  {
   "cell_type": "code",
   "execution_count": 34,
   "outputs": [
    {
     "data": {
      "text/plain": "[{3, 5, 7, 34}, {1, 2, 4, 16}]"
     },
     "execution_count": 34,
     "metadata": {},
     "output_type": "execute_result"
    }
   ],
   "source": [
    "test = [\"supercalifragilisticexpialidocious\", \"eye\", \"Hawai'i\", \"draft\"]\n",
    "find_length_word_number_vowels(test)"
   ],
   "metadata": {
    "collapsed": false,
    "pycharm": {
     "name": "#%%\n"
    }
   }
  },
  {
   "cell_type": "code",
   "execution_count": 35,
   "outputs": [],
   "source": [
    "def find_length_word_number_vowels_by_order_of_appearance(text):\n",
    "    \"\"\"\n",
    "    Returns an array of two lists.  The first set comprises\n",
    "    the lengths of the words.  The second the number of vowels.\n",
    "    For the sake of simplicity, 'y' is not counted as a vowel.\n",
    "    Results are ordered by order of appearance of the original\n",
    "    word.\n",
    "    \"\"\"\n",
    "\n",
    "    word_vowels = [[], []]\n",
    "\n",
    "    for t in text:\n",
    "        word_vowels[0].append(len(t))\n",
    "\n",
    "        # taking advantage of the fact that `True` evaluates to 1\n",
    "        word_vowels[1].append(sum([1 for i in t if i.lower() in 'aeiou']))\n",
    "\n",
    "    return word_vowels"
   ],
   "metadata": {
    "collapsed": false,
    "pycharm": {
     "name": "#%%\n"
    }
   }
  },
  {
   "cell_type": "code",
   "execution_count": 36,
   "outputs": [
    {
     "data": {
      "text/plain": "[[34, 3, 7, 5], [16, 2, 4, 1]]"
     },
     "execution_count": 36,
     "metadata": {},
     "output_type": "execute_result"
    }
   ],
   "source": [
    "find_length_word_number_vowels_by_order_of_appearance(test)"
   ],
   "metadata": {
    "collapsed": false,
    "pycharm": {
     "name": "#%%\n"
    }
   }
  },
  {
   "cell_type": "code",
   "execution_count": 37,
   "outputs": [],
   "source": [
    "# Exercise: 4-14\n",
    "# Write a function novel10(text) that prints any word that appeared in the last 10% of a text that had not been\n",
    "# encountered earlier.\n",
    "\n",
    "def novel10(text):\n",
    "    \"\"\"\n",
    "    Returns a set of words that appear for the first time\n",
    "    in the last 10% of a text.\n",
    "    \"\"\"\n",
    "\n",
    "    split = int(len(text) * .9)\n",
    "    first90, last10 = text[:split], text[split:]\n",
    "    novel90 = set(first90)\n",
    "\n",
    "    return set([i for i in last10 if i not in novel90])"
   ],
   "metadata": {
    "collapsed": false,
    "pycharm": {
     "name": "#%%\n"
    }
   }
  },
  {
   "cell_type": "code",
   "execution_count": 38,
   "outputs": [],
   "source": [
    "from urllib import request\n",
    "from nltk import word_tokenize\n",
    "\n",
    "# Mary Shelley's Frankenstein\n",
    "url = 'http://www.gutenberg.org/cache/epub/42324/pg42324.txt'\n",
    "\n",
    "frank = request.urlopen(url).read().decode('utf8')"
   ],
   "metadata": {
    "collapsed": false,
    "pycharm": {
     "name": "#%%\n"
    }
   }
  },
  {
   "cell_type": "code",
   "execution_count": 39,
   "outputs": [],
   "source": [
    "frank = word_tokenize(frank)\n",
    "\n",
    "# used trial and error (and `index`) to find and remove\n",
    "# header and footer\n",
    "frank = frank[115:90732]"
   ],
   "metadata": {
    "collapsed": false,
    "pycharm": {
     "name": "#%%\n"
    }
   }
  },
  {
   "cell_type": "code",
   "execution_count": 40,
   "outputs": [
    {
     "name": "stdout",
     "output_type": "stream",
     "text": [
      "['triumphantly', 'ice-mountain', 'excitements', 'wert', 'composing', 'astounded', 'strenuously', 'impassive', 'Line', 'mechanical', 'hadst', 'eradicated', 'fashioned', 'invoked', 'regards', 'warbling', 'Guided', 'crushed', 'assigned', 'rarely']"
     ]
    }
   ],
   "source": [
    "print(list(novel10(frank))[:20], end = '')"
   ],
   "metadata": {
    "collapsed": false,
    "pycharm": {
     "name": "#%%\n"
    }
   }
  },
  {
   "cell_type": "code",
   "execution_count": 41,
   "outputs": [
    {
     "name": "stdout",
     "output_type": "stream",
     "text": [
      "a:          2\n",
      "chuck:      2\n",
      "could:      1\n",
      "how:        1\n",
      "if:         1\n",
      "much:       1\n",
      "wood:       2\n",
      "woodchuck:  2\n",
      "would:      1\n"
     ]
    }
   ],
   "source": [
    "# Exercise: 4-15\n",
    "# Write a program that takes a sentence expressed as a single string, splits it, and counts up the words.\n",
    "# Get it to print out each word and the word’s frequency, one per line, in alphabetical order.\n",
    "\n",
    "import nltk\n",
    "from nltk import word_tokenize\n",
    "\n",
    "def print_words_and_frequency(text):\n",
    "    \"\"\"\n",
    "    Counts the words in a text and prints out the\n",
    "    resulting table in alphabetical order.\n",
    "    \"\"\"\n",
    "\n",
    "    # tokenizer separates words from punctuation\n",
    "    tokens = word_tokenize(text)\n",
    "\n",
    "    # remove punctuation\n",
    "    words = [t.lower() for t in tokens if t.isalpha()]\n",
    "\n",
    "    # get word counts from FreqDist\n",
    "    ordered = sorted(set([(w, v) for w, v in nltk.FreqDist(words).items()]))\n",
    "\n",
    "    # get widths for pretty printing\n",
    "    # width of longest word\n",
    "    width = max([len(w) for w, _ in ordered]) + 2\n",
    "    # width of longest number\n",
    "    width_counts = max([len(str(v)) for _, v in ordered])\n",
    "\n",
    "    # print everything\n",
    "    for w, v in ordered:\n",
    "        print(\"{}:{}{:>{}}\".format(w, ' ' * (width - len(w)),\n",
    "                                     v, width_counts))\n",
    "\n",
    "test = \"How much wood would a woodchuck chuck if a woodchuck could chuck wood?\"\n",
    "print_words_and_frequency(test)"
   ],
   "metadata": {
    "collapsed": false,
    "pycharm": {
     "name": "#%%\n"
    }
   }
  },
  {
   "cell_type": "code",
   "execution_count": 42,
   "outputs": [],
   "source": [
    "# Exercise: 4-16\n",
    "# Read up on Gematria, a method for assigning numbers to words, and for mapping between words having the same number\n",
    "# to discover the hidden meaning of texts (http://en.wikipedia.org/wiki/Gematria, http://essenes.net/\n",
    "# a: Write a function gematria() that sums the numerical values of the letters of a word, according to the letter\n",
    "# values in letter_vals:\n",
    "#\n",
    "# >>> letter_vals = {'a':1, 'b':2, 'c':3, 'd':4, 'e':5, 'f':80, 'g':3, 'h':8,\n",
    "# ... 'i':10, 'j':10, 'k':20, 'l':30, 'm':40, 'n':50, 'o':70, 'p':80, 'q':100,\n",
    "# ... 'r':200, 's':300, 't':400, 'u':6, 'v':6, 'w':800, 'x':60, 'y':10, 'z':7}\n",
    "\n",
    "letter_vals = {'a':1, 'b':2, 'c':3, 'd':4, 'e':5, 'f':80, 'g':3, 'h':8,\n",
    "       'i':10, 'j':10, 'k':20, 'l':30, 'm':40, 'n':50, 'o':70, 'p':80, 'q':100,\n",
    "       'r':200, 's':300, 't':400, 'u':6, 'v':6, 'w':800, 'x':60, 'y':10, 'z':7}\n",
    "\n",
    "def gematria(word, vals = letter_vals):\n",
    "    \"\"\"\n",
    "    Returns Gematria value of a word.\n",
    "\n",
    "    Arguments:\n",
    "\n",
    "    word: Word to be converted.\n",
    "    vals: Dictionary of values for each letter.\n",
    "          Default is `letter_vals`.\n",
    "    \"\"\"\n",
    "\n",
    "    return sum(vals[w.lower()] for w in word if w in vals)"
   ],
   "metadata": {
    "collapsed": false,
    "pycharm": {
     "name": "#%%\n"
    }
   }
  },
  {
   "cell_type": "code",
   "execution_count": 43,
   "outputs": [],
   "source": [
    "# b: Process a corpus (e.g., nltk.corpus.state_union) and for each document, count how many of its\n",
    "# words have the number 666.\n",
    "\n",
    "su = nltk.corpus.state_union\n",
    "\n",
    "# for pretty printing later\n",
    "width = max([len(u[5:-4]) for u in su.fileids()])\n",
    "\n",
    "devil_words = [sum([1 for w in su.words(u) if gematria(w) == 666]) for u in su.fileids()]"
   ],
   "metadata": {
    "collapsed": false,
    "pycharm": {
     "name": "#%%\n"
    }
   }
  },
  {
   "cell_type": "code",
   "execution_count": 44,
   "outputs": [
    {
     "name": "stdout",
     "output_type": "stream",
     "text": [
      "1945 Truman:      2\n",
      "1946 Truman:     20\n",
      "1947 Truman:      1\n",
      "1948 Truman:      3\n",
      "1949 Truman:      2\n",
      "1950 Truman:      1\n",
      "1951 Truman:      0\n",
      "1953 Eisenhower:  1\n",
      "1954 Eisenhower:  6\n",
      "1955 Eisenhower:  5\n",
      "1956 Eisenhower:  1\n",
      "1957 Eisenhower:  2\n",
      "1958 Eisenhower:  5\n",
      "1959 Eisenhower:  1\n",
      "1960 Eisenhower:  5\n",
      "1961 Kennedy:     0\n",
      "1962 Kennedy:     4\n",
      "1963 Johnson:     0\n",
      "1963 Kennedy:     3\n",
      "1964 Johnson:     1\n",
      "1965 Johnson-1:   0\n",
      "1965 Johnson-2:   0\n",
      "1966 Johnson:     0\n",
      "1967 Johnson:     2\n",
      "1968 Johnson:     3\n",
      "1969 Johnson:     0\n",
      "1970 Nixon:       0\n",
      "1971 Nixon:       1\n",
      "1972 Nixon:       0\n",
      "1973 Nixon:       1\n",
      "1974 Nixon:       0\n",
      "1975 Ford:        0\n",
      "1976 Ford:        3\n",
      "1977 Ford:        0\n",
      "1978 Carter:      1\n",
      "1979 Carter:      2\n",
      "1980 Carter:      0\n",
      "1981 Reagan:      4\n",
      "1982 Reagan:      0\n",
      "1983 Reagan:      2\n",
      "1984 Reagan:      1\n",
      "1985 Reagan:      1\n",
      "1986 Reagan:      1\n",
      "1987 Reagan:      1\n",
      "1988 Reagan:      2\n",
      "1989 Bush:        2\n",
      "1990 Bush:        2\n",
      "1991 Bush-1:      0\n",
      "1991 Bush-2:      0\n",
      "1992 Bush:        3\n",
      "1993 Clinton:     1\n",
      "1994 Clinton:     2\n",
      "1995 Clinton:     1\n",
      "1996 Clinton:     1\n",
      "1997 Clinton:     1\n",
      "1998 Clinton:     4\n",
      "1999 Clinton:     1\n",
      "2000 Clinton:     3\n",
      "2001 GWBush-1:    1\n",
      "2001 GWBush-2:    0\n",
      "2002 GWBush:      0\n",
      "2003 GWBush:      3\n",
      "2004 GWBush:      2\n",
      "2005 GWBush:      2\n",
      "2006 GWBush:      0\n"
     ]
    }
   ],
   "source": [
    "for u, w in zip(su.fileids(), devil_words):\n",
    "    print(u[:4], u[5:-4] + \":\" +\n",
    "          \" \" * (width - len(u[5:-4])),  \"{:>2}\".format(w))"
   ],
   "metadata": {
    "collapsed": false,
    "pycharm": {
     "name": "#%%\n"
    }
   }
  },
  {
   "cell_type": "code",
   "execution_count": 45,
   "outputs": [],
   "source": [
    "# c: Write a function decode() to process a text, randomly replacing words with their Gematria equivalents, in\n",
    "# order to discover the “hidden meaning” of the text.\n",
    "\n",
    "import random, nltk\n",
    "from nltk import word_tokenize\n",
    "\n",
    "def join_punctuation(text, characters = [\"'\", '’', ')', ',', '.', ':', ';', '?', '!', ']', \"''\"]):\n",
    "    \"\"\"\n",
    "    Takes a list of strings and attaches punctuation to\n",
    "    the preceding string in the list.\n",
    "    \"\"\"\n",
    "\n",
    "    text = iter(text)\n",
    "    current = next(text)\n",
    "\n",
    "    for nxt in text:\n",
    "        if nxt in characters:\n",
    "            current += nxt\n",
    "        else:\n",
    "            yield current\n",
    "            current = nxt\n",
    "\n",
    "\n",
    "    yield current\n",
    "\n",
    "def decode(text, n = 10):\n",
    "    \"\"\"\n",
    "    Returns a copy of the original text with n percent\n",
    "    of the words converted into its gematria form.\n",
    "\n",
    "    Arguments:\n",
    "\n",
    "    text: Text can be any form. Will be converted into a list.\n",
    "    n:    Percentage of the words to be converted.  Should be\n",
    "          an integer between 0 and 100.\n",
    "    \"\"\"\n",
    "\n",
    "\n",
    "    # convert a cp of text into a list\n",
    "    if type(text) == str:\n",
    "        # use tokenize to separate punctuation from words\n",
    "        cp = word_tokenize(text)\n",
    "    elif type(text) == list:\n",
    "        cp = text[:]\n",
    "    else:\n",
    "        cp = list(text[:])\n",
    "\n",
    "\n",
    "    # go through the words in the list,\n",
    "    # and return a random number;\n",
    "    # if the random number is less than the percentage\n",
    "    # replace the word with its gematria value\n",
    "    for i in range(len(cp)):\n",
    "        if random.random() <= n/100:\n",
    "            cp[i] = str(gematria(cp[i]))\n",
    "\n",
    "\n",
    "    # using join punctuation to rejoin punctuation separated during\n",
    "    # tokenizing\n",
    "    return ' '.join(join_punctuation(cp))"
   ],
   "metadata": {
    "collapsed": false,
    "pycharm": {
     "name": "#%%\n"
    }
   }
  },
  {
   "cell_type": "code",
   "execution_count": 46,
   "outputs": [
    {
     "data": {
      "text/plain": "'This is just a test to see if my code will work'"
     },
     "execution_count": 46,
     "metadata": {},
     "output_type": "execute_result"
    }
   ],
   "source": [
    "decode(\"This is just a test to see if my code will work\", 25)"
   ],
   "metadata": {
    "collapsed": false,
    "pycharm": {
     "name": "#%%\n"
    }
   }
  },
  {
   "cell_type": "code",
   "execution_count": 47,
   "outputs": [
    {
     "data": {
      "text/plain": "'[ Emma by Jane Austen 1816] VOLUME 0 0 0 Emma Woodhouse 0 handsome 0 clever 0 55 rich 0 with a comfortable home and 179 disposition, 359 to unite 415 of 413 707 blessings 150 existence 0 55 13 55 nearly 1665 0 one years in the world with very little 470 distress or 71 213. She 1101 the youngest 150 the 1270 daughters of a most affectionate, indulgent father; and had 0 60 consequence 150 213 sister 0 s 460, 62 mistress of 318 389 from a very 246 period. Her mother 13 died too 153 ago for her 470 have 315 than 51 indistinct remembrance of her caresses; and her place had been supplied by an 588 woman 301 governess, who had fallen little 978 of a mother 60 affection. Sixteen years 13 Miss Taylor been in 200. 533 0 s 171, less as a governess than a friend, very fond of both daughters, but 971 of 81. 1265 _them_ it was 315 413 intimacy of 1515 0 Even 362 Miss Taylor had 318 to hold the nominal office of governess 0 the 739 150 her temper had hardly allowed her to impose 61 1566; and 413 1183'"
     },
     "execution_count": 47,
     "metadata": {},
     "output_type": "execute_result"
    }
   ],
   "source": [
    "decode(nltk.corpus.gutenberg.words('austen-emma.txt'), 30)[:1000]"
   ],
   "metadata": {
    "collapsed": false,
    "pycharm": {
     "name": "#%%\n"
    }
   }
  },
  {
   "cell_type": "code",
   "execution_count": 48,
   "outputs": [],
   "source": [
    "# Exercise: 4-17\n",
    "# Write a function shorten(text, n) to process a text, omitting the n most frequently occurring words of the text.\n",
    "# How readable is it?\n",
    "\n",
    "import nltk, re\n",
    "\n",
    "def join_punctuation(text, characters = [\"'\", '’', ')', ',', '.', ':', ';', '?', '!', ']', \"''\"]):\n",
    "    \"\"\"\n",
    "    Takes a list of strings and attaches punctuation to\n",
    "    the preceding string in the list.\n",
    "    \"\"\"\n",
    "\n",
    "    text = iter(text)\n",
    "    current = next(text)\n",
    "\n",
    "    for nxt in text:\n",
    "        if nxt in characters:\n",
    "            current += nxt\n",
    "        else:\n",
    "            yield current\n",
    "            current = nxt\n",
    "\n",
    "\n",
    "    yield current\n",
    "\n",
    "\n",
    "def shorten(text, n):\n",
    "\n",
    "    # convert a cp of text into a list\n",
    "    if type(text) == str:\n",
    "        # use tokenize to separate punctuation from words\n",
    "        cp = word_tokenize(text)\n",
    "    elif type(text) == list:\n",
    "        cp = text[:]\n",
    "    else:\n",
    "        cp = list(text[:])\n",
    "\n",
    "    # get a list of most common words, and strip away the counts\n",
    "    most_common = [w for w, _ in nltk.FreqDist(w for w in cp if w.isalpha()).most_common(n)]\n",
    "\n",
    "    # replace most common words\n",
    "    for i in range(len(cp)):\n",
    "        if cp[i] in most_common:\n",
    "            cp[i] = ''\n",
    "\n",
    "    # join list and normalize whitespace -\n",
    "    # otherwise there'll be gaps for the missing words\n",
    "    # also use join_punctuation to reattach punctuation\n",
    "    # separate during tokenizing\n",
    "    return re.sub(r'\\s+', ' ', ' '.join(join_punctuation(cp)))"
   ],
   "metadata": {
    "collapsed": false,
    "pycharm": {
     "name": "#%%\n"
    }
   }
  },
  {
   "cell_type": "code",
   "execution_count": 49,
   "outputs": [
    {
     "data": {
      "text/plain": "'This a test which a rather short one'"
     },
     "execution_count": 49,
     "metadata": {},
     "output_type": "execute_result"
    }
   ],
   "source": [
    "shorten(\"This is a test which is a rather short one\", 1)"
   ],
   "metadata": {
    "collapsed": false,
    "pycharm": {
     "name": "#%%\n"
    }
   }
  },
  {
   "cell_type": "code",
   "execution_count": 50,
   "outputs": [
    {
     "data": {
      "text/plain": "\"[ Jane Austen 1816] VOLUME CHAPTER Woodhouse, handsome, clever, rich, comfortable home happy disposition, seemed unite some best blessings existence; lived nearly twenty - one years world little distress or vex . youngest two daughters most affectionate, indulgent father; , consequence sister' marriage, mistress house early period. Her mother died too long ago more than an indistinct remembrance caresses; place supplied an excellent woman governess, who fallen little short mother affection. Sixteen years Taylor . Woodhouse' family, less governess than friend, fond both daughters, particularly . Between _them_ more intimacy sisters. Even before Taylor ceased hold nominal office governess, mildness temper hardly allowed impose restraint; shadow authority being now long passed away, they living together friend friend mutually attached, doing just what liked; highly esteeming Taylor' judgment, directed chiefly own. The real evils, indeed, ' situation power having rather too much own way, d\""
     },
     "execution_count": 50,
     "metadata": {},
     "output_type": "execute_result"
    }
   ],
   "source": [
    "shorten(nltk.corpus.gutenberg.words('austen-emma.txt'), 50)[:1000]"
   ],
   "metadata": {
    "collapsed": false,
    "pycharm": {
     "name": "#%%\n"
    }
   }
  },
  {
   "cell_type": "code",
   "execution_count": 51,
   "outputs": [],
   "source": [
    "# Exercise: 4-18\n",
    "# Write code to print out an index for a lexicon, allowing someone to look up words according to their\n",
    "# meanings (or their pronunciations; whatever properties are contained in the lexical entries).\n",
    "\n",
    "entries = nltk.corpus.cmudict.entries()"
   ],
   "metadata": {
    "collapsed": false,
    "pycharm": {
     "name": "#%%\n"
    }
   }
  },
  {
   "cell_type": "code",
   "execution_count": 52,
   "outputs": [
    {
     "data": {
      "text/plain": "133737"
     },
     "execution_count": 52,
     "metadata": {},
     "output_type": "execute_result"
    }
   ],
   "source": [
    "len(entries)"
   ],
   "metadata": {
    "collapsed": false,
    "pycharm": {
     "name": "#%%\n"
    }
   }
  },
  {
   "cell_type": "code",
   "execution_count": 53,
   "outputs": [],
   "source": [
    "d = {}\n",
    "\n",
    "for word, pronunciation in entries:\n",
    "        for phoneme in pronunciation:\n",
    "            # create item if it doesn't exist\n",
    "            # if it does exist, add current word\n",
    "            d.setdefault(phoneme, []).append(word)"
   ],
   "metadata": {
    "collapsed": false,
    "pycharm": {
     "name": "#%%\n"
    }
   }
  },
  {
   "cell_type": "code",
   "execution_count": 54,
   "outputs": [
    {
     "data": {
      "text/plain": "70"
     },
     "execution_count": 54,
     "metadata": {},
     "output_type": "execute_result"
    }
   ],
   "source": [
    "sum([1 for x in d.items()])"
   ],
   "metadata": {
    "collapsed": false,
    "pycharm": {
     "name": "#%%\n"
    }
   }
  },
  {
   "cell_type": "code",
   "execution_count": 55,
   "outputs": [],
   "source": [
    "def find_all_entries(d, arg1, *args):\n",
    "        \"\"\"\n",
    "        Returns a set of words using the phonemes\n",
    "        in arg1 and args.\n",
    "\n",
    "        Arguments:\n",
    "\n",
    "        d:    A dictionary of items.\n",
    "        arg1: The first index to be match.\n",
    "        args: Optional 2nd - nth indices to be matched.\n",
    "        \"\"\"\n",
    "\n",
    "        rest = set(d[arg1])\n",
    "        for a in args:\n",
    "            rest = rest.intersection(set(d[a]))\n",
    "\n",
    "        return rest"
   ],
   "metadata": {
    "collapsed": false,
    "pycharm": {
     "name": "#%%\n"
    }
   }
  },
  {
   "cell_type": "code",
   "execution_count": 56,
   "outputs": [
    {
     "data": {
      "text/plain": "{'abdication',\n 'abstracted',\n 'ambidextrous',\n 'backhanded',\n 'bradycardia',\n 'broadcasting',\n \"broadcasting's\",\n 'bundesbank',\n \"bundesbank's\",\n 'creditbank',\n 'middenstandsbank'}"
     },
     "execution_count": 56,
     "metadata": {},
     "output_type": "execute_result"
    }
   ],
   "source": [
    "find_all_entries(d, 'AE2', 'B', 'D', 'IH0', 'K')"
   ],
   "metadata": {
    "collapsed": false,
    "pycharm": {
     "name": "#%%\n"
    }
   }
  },
  {
   "cell_type": "code",
   "execution_count": 57,
   "outputs": [],
   "source": [
    "def get_pronuncation(corpus, target):\n",
    "        \"\"\"\n",
    "        Return pronunciation for target in corpus.\n",
    "        \"\"\"\n",
    "\n",
    "        return [pronunciation for word, pronunciation in corpus if word == target]"
   ],
   "metadata": {
    "collapsed": false,
    "pycharm": {
     "name": "#%%\n"
    }
   }
  },
  {
   "cell_type": "code",
   "execution_count": 58,
   "outputs": [
    {
     "data": {
      "text/plain": "[['AE1', 'B', 'S', 'T', 'R', 'AE2', 'K', 'T', 'IH0', 'D']]"
     },
     "execution_count": 58,
     "metadata": {},
     "output_type": "execute_result"
    }
   ],
   "source": [
    "get_pronuncation(entries, 'abstracted')"
   ],
   "metadata": {
    "collapsed": false,
    "pycharm": {
     "name": "#%%\n"
    }
   }
  },
  {
   "cell_type": "code",
   "execution_count": 59,
   "outputs": [],
   "source": [
    "from nltk.corpus import wordnet as wn\n",
    "\n",
    "d2 = {}\n",
    "\n",
    "for ss in wn.all_synsets():\n",
    "    for word in ss.definition().split():\n",
    "        word = re.sub(r\"[`'();,]\", \"\", word)\n",
    "        d2.setdefault(word, []).append(ss.name())"
   ],
   "metadata": {
    "collapsed": false,
    "pycharm": {
     "name": "#%%\n"
    }
   }
  },
  {
   "cell_type": "code",
   "execution_count": 60,
   "outputs": [
    {
     "data": {
      "text/plain": "{'jack_of_all_trades.n.01', 'writer.n.02'}"
     },
     "execution_count": 60,
     "metadata": {},
     "output_type": "execute_result"
    }
   ],
   "source": [
    "find_all_entries(d2, \"able\", \"person\")"
   ],
   "metadata": {
    "collapsed": false,
    "pycharm": {
     "name": "#%%\n"
    }
   }
  },
  {
   "cell_type": "code",
   "execution_count": 61,
   "outputs": [
    {
     "name": "stdout",
     "output_type": "stream",
     "text": [
      "* a person able to do a variety of different jobs acceptably well\n",
      "* a person who is able to write and has written something\n"
     ]
    }
   ],
   "source": [
    "for x in sorted(find_all_entries(d2, \"able\", \"person\")):\n",
    "    print(\"* \" + wn.synset(x).definition())"
   ],
   "metadata": {
    "collapsed": false,
    "pycharm": {
     "name": "#%%\n"
    }
   }
  },
  {
   "cell_type": "code",
   "execution_count": 62,
   "outputs": [],
   "source": [
    "# Exercise: 4-19\n",
    "# Write a list comprehension that sorts a list of WordNet synsets for proximity to a given synset. For example,\n",
    "# given the synsets minke_whale.n.01, orca.n.01, novel.n.01, and tortoise.n.01, sort them according to their\n",
    "# path_distance() from right_whale.n.01.\n",
    "\n",
    "right = wn.synset('right_whale.n.01')\n",
    "orca = wn.synset('orca.n.01')\n",
    "minke = wn.synset('minke_whale.n.01')\n",
    "tortoise = wn.synset('tortoise.n.01')\n",
    "novel = wn.synset('novel.n.01')\n",
    "\n",
    "whales = [orca, minke, tortoise, novel]"
   ],
   "metadata": {
    "collapsed": false,
    "pycharm": {
     "name": "#%%\n"
    }
   }
  },
  {
   "cell_type": "code",
   "execution_count": 63,
   "outputs": [
    {
     "data": {
      "text/plain": "[(0.25, Synset('lesser_rorqual.n.01')),\n (0.16666666666666666, Synset('killer_whale.n.01')),\n (0.07692307692307693, Synset('tortoise.n.01')),\n (0.043478260869565216, Synset('novel.n.01'))]"
     },
     "execution_count": 63,
     "metadata": {},
     "output_type": "execute_result"
    }
   ],
   "source": [
    "sorted(set([(right.path_similarity(w), w) for w in whales]), reverse = True)"
   ],
   "metadata": {
    "collapsed": false,
    "pycharm": {
     "name": "#%%\n"
    }
   }
  },
  {
   "cell_type": "code",
   "execution_count": 64,
   "outputs": [
    {
     "name": "stdout",
     "output_type": "stream",
     "text": [
      "Synset('lesser_rorqual.n.01')\n",
      "Synset('killer_whale.n.01')\n"
     ]
    }
   ],
   "source": [
    "print(minke, orca, sep = '\\n')"
   ],
   "metadata": {
    "collapsed": false,
    "pycharm": {
     "name": "#%%\n"
    }
   }
  },
  {
   "cell_type": "code",
   "execution_count": 65,
   "outputs": [],
   "source": [
    "# Exercise: 4-20\n",
    "# Write a function that takes a list of words (containing duplicates) and returns a list of words\n",
    "# (with no duplicates) sorted by decreasing frequency. E.g., if the input list contained 10 instances of the word\n",
    "# table and 9 instances of the word chair, then table would appear before chair in the output list.\n",
    "\n",
    "def sort_list_by_frequency(t):\n",
    "    return sorted(set([(w) for w, _ in nltk.FreqDist(t).items()]),\n",
    "                  reverse = True)"
   ],
   "metadata": {
    "collapsed": false,
    "pycharm": {
     "name": "#%%\n"
    }
   }
  },
  {
   "cell_type": "code",
   "execution_count": 66,
   "outputs": [
    {
     "name": "stdout",
     "output_type": "stream",
     "text": [
      "['chair', 'chair', 'chair', 'chair', 'chair', 'chair', 'chair', 'chair', 'chair', 'table', 'table', 'table', 'table', 'table', 'table', 'table', 'table', 'table', 'table'] "
     ]
    }
   ],
   "source": [
    "test = []\n",
    "for i in range(9):\n",
    "    test.append(\"chair\")\n",
    "for i in range(10):\n",
    "    test.append(\"table\")\n",
    "\n",
    "print(test, end = \" \")"
   ],
   "metadata": {
    "collapsed": false,
    "pycharm": {
     "name": "#%%\n"
    }
   }
  },
  {
   "cell_type": "code",
   "execution_count": 67,
   "outputs": [
    {
     "data": {
      "text/plain": "['table', 'chair']"
     },
     "execution_count": 67,
     "metadata": {},
     "output_type": "execute_result"
    }
   ],
   "source": [
    "sort_list_by_frequency(test)"
   ],
   "metadata": {
    "collapsed": false,
    "pycharm": {
     "name": "#%%\n"
    }
   }
  },
  {
   "cell_type": "code",
   "execution_count": 68,
   "outputs": [],
   "source": [
    "# Exercise: 4-21\n",
    "# Write a function that takes a text and a vocabulary as its arguments and returns the set of words that appear in\n",
    "# the text but not in the vocabulary. Both arguments can be represented as lists of strings. Can you do this in a\n",
    "# single line, using set.difference()?\n",
    "\n",
    "def return_vocab_not_in_text(text, vocab):\n",
    "    \"\"\"\n",
    "    Returns strings in text but not in vocab.\n",
    "\n",
    "    Arguments:\n",
    "\n",
    "    text:  A list of strings.\n",
    "    vocab: A list of strings.\n",
    "    \"\"\"\n",
    "    return set(text).difference(set(vocab))"
   ],
   "metadata": {
    "collapsed": false,
    "pycharm": {
     "name": "#%%\n"
    }
   }
  },
  {
   "cell_type": "code",
   "execution_count": 69,
   "outputs": [],
   "source": [
    "from nltk import word_tokenize\n",
    "\n",
    "def return_vocab_not_in_text(text, vocab):\n",
    "    \"\"\"\n",
    "    Returns strings in text but not in vocab.\n",
    "\n",
    "    Arguments:\n",
    "\n",
    "    text:  A list of strings, a set of strings, or a string.\n",
    "    vocab: A list of strings, a set of strings, or a string.\n",
    "    \"\"\"\n",
    "\n",
    "    # if text and vocab are some combination of set and list\n",
    "    if isinstance(text, set) and isinstance(vocab, set):\n",
    "        return text.difference(vocab)\n",
    "    elif isinstance(text, list) and isinstance(vocab, set):\n",
    "        return set(text).difference(vocab)\n",
    "    elif isinstance(text, set) and isinstance(vocab, list):\n",
    "        return text.difference(set(vocab))\n",
    "\n",
    "    # if text is a str\n",
    "    if type(text) == str:\n",
    "        text = word_tokenize(text)\n",
    "    else:\n",
    "        assert isinstance(text,\n",
    "                          list), \"Argument `text` must be a list or a string\"\n",
    "\n",
    "    # if vocab is a str\n",
    "    if type(vocab) == str:\n",
    "        vocab = word_tokenize(vocab)\n",
    "    else:\n",
    "        assert isinstance(vocab,\n",
    "                          list), \"Argument `vocab` must be a list or a string\"\n",
    "\n",
    "    return set(text).difference(set(vocab))"
   ],
   "metadata": {
    "collapsed": false,
    "pycharm": {
     "name": "#%%\n"
    }
   }
  },
  {
   "cell_type": "code",
   "execution_count": 70,
   "outputs": [],
   "source": [
    "deep_thought = (\"When I was a kid my favorite relative was Uncle Caveman. \"\n",
    "                \"After school we'd all go play in his cave, \"\n",
    "                \"and every once in a while he would eat one of us. \"\n",
    "                \"It wasn't until later that I found out that Uncle Caveman \"\n",
    "                \"was a bear.\")\n",
    "\n",
    "# convert deep_thought to a list\n",
    "\n",
    "dt_words = word_tokenize(deep_thought)"
   ],
   "metadata": {
    "collapsed": false,
    "pycharm": {
     "name": "#%%\n"
    }
   }
  },
  {
   "cell_type": "code",
   "execution_count": 71,
   "outputs": [],
   "source": [
    "vocab =  [\"'d\", 'was', '.', 'play', 'school', 'favorite', 'found',\n",
    "          'kid', 'all', 'once', 'Caveman', 'Uncle', 'cave',\n",
    "          'while', 'relative', \"n't\", 'until', 'out', 'we', 'a', 'my',\n",
    "          'After', 'that', 'every', 'later', 'and', 'go', 'in', 'of',\n",
    "          'one', 'bear', 'When', 'would', 'eat']"
   ],
   "metadata": {
    "collapsed": false,
    "pycharm": {
     "name": "#%%\n"
    }
   }
  },
  {
   "cell_type": "code",
   "execution_count": 72,
   "outputs": [
    {
     "data": {
      "text/plain": "{',', 'I', 'It', 'he', 'his', 'us'}"
     },
     "execution_count": 72,
     "metadata": {},
     "output_type": "execute_result"
    }
   ],
   "source": [
    "return_vocab_not_in_text(dt_words, vocab)"
   ],
   "metadata": {
    "collapsed": false,
    "pycharm": {
     "name": "#%%\n"
    }
   }
  },
  {
   "cell_type": "code",
   "execution_count": 73,
   "outputs": [
    {
     "data": {
      "text/plain": "{',', 'I', 'It', 'he', 'his', 'us'}"
     },
     "execution_count": 73,
     "metadata": {},
     "output_type": "execute_result"
    }
   ],
   "source": [
    "return_vocab_not_in_text(deep_thought, vocab)"
   ],
   "metadata": {
    "collapsed": false,
    "pycharm": {
     "name": "#%%\n"
    }
   }
  },
  {
   "cell_type": "code",
   "execution_count": 74,
   "outputs": [
    {
     "data": {
      "text/plain": "{',', 'I', 'It', 'he', 'his', 'us'}"
     },
     "execution_count": 74,
     "metadata": {},
     "output_type": "execute_result"
    }
   ],
   "source": [
    "return_vocab_not_in_text(set(dt_words), vocab)"
   ],
   "metadata": {
    "collapsed": false,
    "pycharm": {
     "name": "#%%\n"
    }
   }
  },
  {
   "cell_type": "code",
   "execution_count": 75,
   "outputs": [],
   "source": [
    "# Exercise: 4-22\n",
    "# Import the itemgetter() function from the operator module in Python’s standard library (i.e., from operator\n",
    "# import itemgetter). Create a list words containing several words. Now try calling: sorted(words, key=itemgetter(1)),\n",
    "# and sorted(words, key=itemgetter(-1)). Explain what itemgetter() is doing.\n",
    "\n",
    "from operator import itemgetter\n",
    "\n",
    "words = ['my', 'list', 'of', 'several', 'words']"
   ],
   "metadata": {
    "collapsed": false,
    "pycharm": {
     "name": "#%%\n"
    }
   }
  },
  {
   "cell_type": "code",
   "execution_count": 76,
   "outputs": [
    {
     "data": {
      "text/plain": "['several', 'of', 'list', 'words', 'my']"
     },
     "execution_count": 76,
     "metadata": {},
     "output_type": "execute_result"
    }
   ],
   "source": [
    "sorted(words, key = itemgetter(1))"
   ],
   "metadata": {
    "collapsed": false,
    "pycharm": {
     "name": "#%%\n"
    }
   }
  },
  {
   "cell_type": "code",
   "execution_count": 77,
   "outputs": [
    {
     "data": {
      "text/plain": "['of', 'several', 'words', 'list', 'my']"
     },
     "execution_count": 77,
     "metadata": {},
     "output_type": "execute_result"
    }
   ],
   "source": [
    "sorted(words, key = itemgetter(-1))"
   ],
   "metadata": {
    "collapsed": false,
    "pycharm": {
     "name": "#%%\n"
    }
   }
  },
  {
   "cell_type": "code",
   "execution_count": 78,
   "outputs": [
    {
     "data": {
      "text/plain": "False"
     },
     "execution_count": 78,
     "metadata": {},
     "output_type": "execute_result"
    }
   ],
   "source": [
    "# Exercise: 4-23\n",
    "# Write a recursive function lookup(trie, key) that looks up a key in a trie, and returns the value it finds.\n",
    "# Extend the function to return a word when it is uniquely determined by its prefix (e.g., vanguard is the only word\n",
    "# that starts with vang-, so lookup(trie, 'vang') should return the same thing as lookup(trie, 'vanguard')).\n",
    "\n",
    "def get_final_value(trie, word):\n",
    "    \"\"\"\n",
    "    Retrieves the final value of word\n",
    "    in a trie.\n",
    "    \"\"\"\n",
    "    if len(word) == 1:\n",
    "        keys = list(trie[word].keys())\n",
    "\n",
    "        if keys[0] == 'value':\n",
    "            return trie[word].values()\n",
    "        else:\n",
    "            for k in keys:\n",
    "                return lookup(trie[word], k)\n",
    "    return results\n",
    "\n",
    "def lookup(trie, word):\n",
    "    \"\"\"\n",
    "    Looks up the value of a word in a trie.\n",
    "    Word can be a complete word of just a prefix, i.e.,\n",
    "    beginning of the string.  Function will return all\n",
    "    possible matches for non-unique prefixes.\n",
    "    \"\"\"\n",
    "\n",
    "    if len(word) == 1:\n",
    "        keys = list(trie[word].keys())\n",
    "        if len(keys) > 1:\n",
    "            results = []\n",
    "            for k in keys:\n",
    "                results.append(get_final_value(trie[word], k))\n",
    "            return results\n",
    "\n",
    "        if keys[0] == 'value':\n",
    "            return trie[word].values()\n",
    "        else:\n",
    "            for k in keys:\n",
    "                return lookup(trie[word], k)\n",
    "\n",
    "\n",
    "    if len(word) > 1:\n",
    "\n",
    "        first, rest = word[0], word[1:]\n",
    "        if first not in trie:\n",
    "            return False\n",
    "        return lookup(trie[first], rest)\n",
    "\n",
    "trie = {}\n",
    "lookup(trie, 'vang')"
   ],
   "metadata": {
    "collapsed": false,
    "pycharm": {
     "name": "#%%\n"
    }
   }
  },
  {
   "cell_type": "code",
   "execution_count": 79,
   "outputs": [
    {
     "data": {
      "text/plain": "['a_and_c.xml',\n 'dream.xml',\n 'hamlet.xml',\n 'j_caesar.xml',\n 'macbeth.xml',\n 'merchant.xml',\n 'othello.xml',\n 'r_and_j.xml']"
     },
     "execution_count": 79,
     "metadata": {},
     "output_type": "execute_result"
    }
   ],
   "source": [
    "# Exercise: 4-24\n",
    "# Read up on “keyword linkage” (Chapter 5 of (Scott & Tribble, 2006)). Extract keywords from NLTK’s Shakespeare\n",
    "# Corpus and using the NetworkX package, plot keyword linkage networks.\n",
    "\n",
    "from nltk.corpus import shakespeare\n",
    "from xml.etree import ElementTree\n",
    "shakespeare.fileids()"
   ],
   "metadata": {
    "collapsed": false,
    "pycharm": {
     "name": "#%%\n"
    }
   }
  },
  {
   "cell_type": "code",
   "execution_count": 80,
   "outputs": [
    {
     "name": "stdout",
     "output_type": "stream",
     "text": [
      "['ESCALUS, prince of Verona. ', 'PARIS, a young nobleman, kinsman to the prince.', 'An old man, cousin to Capulet. ', 'ROMEO, son to Montague.', 'MERCUTIO, kinsman to the prince, and friend to Romeo.', 'BENVOLIO, nephew to Montague, and friend to Romeo.', 'TYBALT, nephew to Lady Capulet.', 'BALTHASAR, servant to Romeo.', \"PETER, servant to Juliet's nurse.\", 'ABRAHAM, servant to Montague.', 'An Apothecary. ', 'Three Musicians.', 'Page to Paris; another Page; an officer.', 'LADY MONTAGUE, wife to Montague.', 'LADY CAPULET, wife to Capulet.', 'JULIET, daughter to Capulet.', 'Nurse to Juliet. ', 'Citizens of Verona; several Men and Women, relations to both houses; Maskers, Guards, Watchmen, and Attendants.', 'Chorus.']\n"
     ]
    }
   ],
   "source": [
    "play = shakespeare.xml('r_and_j.xml')\n",
    "\n",
    "personae = [persona.text for persona in\n",
    "             play.findall('PERSONAE/PERSONA')]\n",
    "print(personae) # doctest: +ELLIPSIS"
   ],
   "metadata": {
    "collapsed": false,
    "pycharm": {
     "name": "#%%\n"
    }
   }
  },
  {
   "cell_type": "code",
   "execution_count": 81,
   "outputs": [
    {
     "name": "stdout",
     "output_type": "stream",
     "text": [
      "{'PARIS', 'Second Musician', 'Second Capulet', 'First Watchman', 'Third Musician', 'GREGORY', 'TYBALT', 'ROMEO', 'PETER', 'SAMPSON', 'LADY CAPULET', 'BENVOLIO', 'FRIAR LAURENCE', 'First Citizen', 'PRINCE', 'MERCUTIO', 'Second Watchman', 'PAGE', 'FRIAR JOHN', 'Nurse', 'Second Servant', 'First Musician', 'Musician', 'ABRAHAM', 'CAPULET', None, 'MONTAGUE', 'Chorus', 'LADY MONTAGUE', 'Third Watchman', 'First Servant', 'Servant', 'LADY  CAPULET', 'JULIET', 'BALTHASAR', 'Apothecary', 'NURSE'}"
     ]
    }
   ],
   "source": [
    "speakers = set(speaker.text for speaker in\n",
    "                play.findall('*/*/*/SPEAKER'))\n",
    "\n",
    "print(speakers, end = '')"
   ],
   "metadata": {
    "collapsed": false,
    "pycharm": {
     "name": "#%%\n"
    }
   }
  },
  {
   "cell_type": "code",
   "execution_count": 82,
   "outputs": [
    {
     "name": "stdout",
     "output_type": "stream",
     "text": [
      "O, where is Romeo? saw you him to-day?\n",
      "It was. What sadness lengthens Romeo's hours?\n",
      "This is not Romeo, he's some other where.\n",
      "Why, Romeo, art thou mad?\n",
      "Nay, gentle Romeo, we must have you dance.\n",
      "Young Romeo is it?\n",
      "'Tis he, that villain Romeo.\n",
      "His name is Romeo, and a Montague;\n",
      "Romeo! my cousin Romeo!\n",
      "Romeo! humours! madman! passion! lover!\n",
      "Romeo, that she were, O, that she were\n",
      "Romeo, good night: I'll to my truckle-bed;\n",
      "O Romeo, Romeo! wherefore art thou Romeo?\n",
      "So Romeo would, were he not Romeo call'd,\n",
      "Without that title. Romeo, doff thy name,\n",
      "Henceforth I never will be Romeo.\n",
      "Art thou not Romeo and a Montague?\n",
      "Then say, Jove laughs. O gentle Romeo,\n",
      "Three words, dear Romeo, and good night indeed.\n",
      "Hist! Romeo, hist! O, for a falconer's voice,\n",
      "With repetition of my Romeo's name.\n",
      "Romeo!\n",
      "Our Romeo hath not been in bed to-night.\n",
      "Where the devil should this Romeo be?\n",
      "Romeo will answer it.\n",
      "Alas poor Romeo! he is already dead; stabbed with a\n",
      "Here comes Romeo, here comes Romeo.\n",
      "Romeo, bon jour! there's a French salutation\n",
      "now art thou sociable, now art thou Romeo; now art\n",
      "may find the young Romeo?\n",
      "I can tell you; but young Romeo will be older when\n",
      "Romeo, will you come to your father's? we'll\n",
      "rosemary and Romeo begin both with a letter?\n",
      "how to choose a man: Romeo! no, not he; though his\n",
      "Here's such a coil! come, what says Romeo?\n",
      "Romeo shall thank thee, daughter, for us both.\n",
      "Mercutio, thou consort'st with Romeo,--\n",
      "Romeo, the hate I bear thee can afford\n",
      "O Romeo, Romeo, brave Mercutio's dead!\n",
      "Romeo, away, be gone!\n",
      "There lies the man, slain by young Romeo,\n",
      "Tybalt, here slain, whom Romeo's hand did slay;\n",
      "Romeo that spoke him fair, bade him bethink\n",
      "Retorts it: Romeo he cries aloud,\n",
      "But by and by comes back to Romeo,\n",
      "And, as he fell, did Romeo turn and fly.\n",
      "Romeo slew Tybalt, Romeo must not live.\n",
      "Romeo slew him, he slew Mercutio;\n",
      "Not Romeo, prince, he was Mercutio's friend;\n",
      "Therefore use none: let Romeo hence in haste,\n",
      "That runaway's eyes may wink and Romeo\n",
      "Come, night; come, Romeo; come, thou day in night;\n",
      "Give me my Romeo; and, when he shall die,\n",
      "But Romeo's name speaks heavenly eloquence.\n",
      "That Romeo bid thee fetch?\n",
      "Romeo can,\n",
      "Though heaven cannot: O Romeo, Romeo!\n",
      "Who ever would have thought it? Romeo!\n",
      "Hath Romeo slain himself? say thou but 'I,'\n",
      "And thou and Romeo press one heavy bier!\n",
      "Is Romeo slaughter'd, and is Tybalt dead?\n",
      "Tybalt is gone, and Romeo banished;\n",
      "Romeo that kill'd him, he is banished.\n",
      "O God! did Romeo's hand shed Tybalt's blood?\n",
      "Shame come to Romeo!\n",
      "'Tybalt is dead, and Romeo--banished;'\n",
      "'Romeo is banished,' to speak that word,\n",
      "Is father, mother, Tybalt, Romeo, Juliet,\n",
      "All slain, all dead. 'Romeo is banished!'\n",
      "When theirs are dry, for Romeo's banishment.\n",
      "Both you and I; for Romeo is exiled:\n",
      "And death, not Romeo, take my maidenhead!\n",
      "Hie to your chamber: I'll find Romeo\n",
      "Hark ye, your Romeo will be here at night:\n",
      "Romeo, come forth; come forth, thou fearful man:\n",
      "But Romeo may not: more validity,\n",
      "In carrion-flies than Romeo: they my seize\n",
      "But Romeo may not; he is banished:\n",
      "Arise; one knocks; good Romeo, hide thyself.\n",
      "Hark, how they knock! Who's there? Romeo, arise;\n",
      "Where is my lady's lord, where's Romeo?\n",
      "And Tybalt calls; and then on Romeo cries,\n",
      "Romeo is coming.\n",
      "Ere I again behold my Romeo!\n",
      "That same villain, Romeo.\n",
      "With Romeo, till I behold him--dead--\n",
      "That Romeo should, upon receipt thereof,\n",
      "It shall be Romeo, whom you know I hate,\n",
      "Romeo is banish'd; and all the world to nothing,\n",
      "Romeo's a dishclout to him: an eagle, madam,\n",
      "God join'd my heart and Romeo's, thou our hands;\n",
      "And ere this hand, by thee to Romeo seal'd,\n",
      "Shall Romeo by my letters know our drift,\n",
      "Shall Romeo bear thee hence to Mantua.\n",
      "Because he married me before to Romeo?\n",
      "I wake before the time that Romeo\n",
      "And there die strangled ere my Romeo comes?\n",
      "Seeking out Romeo, that did spit his body\n",
      "Romeo, I come! this do I drink to thee.\n",
      "Welcome from Mantua: what says Romeo?\n",
      "Who bare my letter, then, to Romeo?\n",
      "She will beshrew me much that Romeo\n",
      "And keep her at my cell till Romeo come;\n",
      "Romeo.\n",
      "Romeo!\n",
      "Romeo! O, pale! Who else? what, Paris too?\n",
      "And there I am. Where is my Romeo?\n",
      "Here's Romeo's man; we found him in the churchyard.\n",
      "The people in the street cry Romeo,\n",
      "And Romeo dead; and Juliet, dead before,\n",
      "Here is a friar, and slaughter'd Romeo's man;\n",
      "Romeo, there dead, was husband to that Juliet;\n",
      "And she, there dead, that Romeo's faithful wife:\n",
      "The form of death: meantime I writ to Romeo,\n",
      "Till I conveniently could send to Romeo:\n",
      "The noble Paris and true Romeo dead.\n",
      "Where's Romeo's man? what can he say in this?\n",
      "As rich shall Romeo's by his lady's lie;\n",
      "Than this of Juliet and her Romeo.\n"
     ]
    }
   ],
   "source": [
    "Romeo = {}\n",
    "\n",
    "play = shakespeare.xml('r_and_j.xml')\n",
    "\n",
    "from nltk import word_tokenize\n",
    "\n",
    "for act in play.findall('ACT'):\n",
    "    for scene in act.findall('SCENE'):\n",
    "        for speech in scene.findall('SPEECH'):\n",
    "            for line in speech.findall('LINE'):\n",
    "                if 'Romeo' in str(line.text):\n",
    "                    print(line.text)\n",
    "                    for word in word_tokenize(line.text):\n",
    "                        Romeo[word] = 1 + Romeo.get(word, 0)"
   ],
   "metadata": {
    "collapsed": false,
    "pycharm": {
     "name": "#%%\n"
    }
   }
  },
  {
   "cell_type": "code",
   "execution_count": 83,
   "outputs": [
    {
     "name": "stdout",
     "output_type": "stream",
     "text": [
      "{'O': 9, ',': 113, 'where': 3, 'is': 19, 'Romeo': 125, '?': 28, 'saw': 1, 'you': 6, 'him': 8, 'to-day': 1, 'It': 2, 'was': 3, '.': 29, 'What': 1, 'sadness': 1, 'lengthens': 1, \"'s\": 28, 'hours': 1, 'This': 1, 'not': 10, 'he': 14, 'some': 1, 'other': 1, 'Why': 1, 'art': 5, 'thou': 11, 'mad': 1, 'Nay': 1, 'gentle': 2, 'we': 3, 'must': 2, 'have': 2, 'dance': 1, 'Young': 1, 'it': 4, \"'T\": 1, 'that': 12, 'villain': 2, 'His': 1, 'name': 4, 'and': 20, 'a': 10, 'Montague': 2, ';': 30, '!': 30, 'my': 14, 'cousin': 1, 'humours': 1, 'madman': 1, 'passion': 1, 'lover': 1, 'she': 3, 'were': 3, 'good': 3, 'night': 5, ':': 17, 'I': 16, \"'ll\": 3, 'to': 17, 'truckle-bed': 1, 'wherefore': 1, 'So': 1, 'would': 2, 'call': 1, \"'d\": 7, 'Without': 1, 'title': 1, 'doff': 1, 'thy': 1, 'Henceforth': 1, 'never': 1, 'will': 6, 'be': 6, 'Art': 1, 'Then': 1, 'say': 3, 'Jove': 1, 'laughs': 1, 'Three': 1, 'words': 1, 'dear': 1, 'indeed': 1, 'Hist': 1, 'hist': 1, 'for': 4, 'falconer': 1, 'voice': 1, 'With': 2, 'repetition': 1, 'of': 3, 'Our': 1, 'hath': 1, 'been': 1, 'in': 6, 'bed': 1, 'to-night': 1, 'Where': 4, 'the': 8, 'devil': 1, 'should': 2, 'this': 5, 'answer': 1, 'Alas': 1, 'poor': 1, 'already': 1, 'dead': 11, 'stabbed': 1, 'with': 3, 'Here': 4, 'comes': 4, 'here': 3, 'bon': 1, 'jour': 1, 'there': 6, 'French': 1, 'salutation': 1, 'now': 3, 'sociable': 1, 'may': 4, 'find': 2, 'young': 3, 'can': 5, 'tell': 1, 'but': 2, 'older': 1, 'when': 2, 'come': 9, 'your': 3, 'father': 2, 'rosemary': 1, 'begin': 1, 'both': 2, 'letter': 2, 'how': 2, 'choose': 1, 'man': 6, 'no': 1, 'though': 1, 'his': 3, 'such': 1, 'coil': 1, 'what': 4, 'says': 2, 'shall': 4, 'thank': 1, 'thee': 6, 'daughter': 1, 'us': 1, 'Mercutio': 4, \"consort'st\": 1, '--': 4, 'hate': 2, 'bear': 2, 'afford': 1, 'brave': 1, 'away': 1, 'gone': 2, 'There': 1, 'lies': 1, 'slain': 4, 'by': 6, 'Tybalt': 7, 'whom': 2, 'hand': 3, 'did': 4, 'slay': 1, 'spoke': 1, 'fair': 1, 'bade': 1, 'bethink': 1, 'Retorts': 1, 'cries': 2, 'aloud': 1, 'But': 4, 'back': 1, 'And': 10, 'as': 1, 'fell': 1, 'turn': 1, 'fly': 1, 'slew': 3, 'live': 1, 'Not': 1, 'prince': 1, 'friend': 1, 'Therefore': 1, 'use': 1, 'none': 1, 'let': 1, 'hence': 2, 'haste': 1, 'That': 4, 'runaway': 1, 'eyes': 1, 'wink': 1, 'Come': 1, 'day': 1, 'Give': 1, 'me': 3, 'die': 2, 'speaks': 1, 'heavenly': 1, 'eloquence': 1, 'bid': 1, 'fetch': 1, 'Though': 1, 'heaven': 1, 'Who': 4, 'ever': 1, 'thought': 1, 'Hath': 1, 'himself': 1, \"'\": 5, 'press': 1, 'one': 2, 'heavy': 1, 'bier': 1, 'Is': 2, 'slaughter': 2, 'banished': 6, 'kill': 1, 'God': 2, 'shed': 1, 'blood': 1, 'Shame': 1, \"'Tybalt\": 1, \"'Romeo\": 2, 'speak': 1, 'word': 1, 'mother': 1, 'Juliet': 4, 'All': 1, 'all': 2, 'When': 1, 'theirs': 1, 'are': 1, 'dry': 1, 'banishment': 1, 'Both': 1, 'exiled': 1, 'death': 2, 'take': 1, 'maidenhead': 1, 'Hie': 1, 'chamber': 1, 'Hark': 2, 'ye': 1, 'at': 2, 'forth': 2, 'fearful': 1, 'more': 1, 'validity': 1, 'In': 1, 'carrion-flies': 1, 'than': 1, 'they': 2, 'seize': 1, 'Arise': 1, 'knocks': 1, 'hide': 1, 'thyself': 1, 'knock': 1, 'arise': 1, 'lady': 2, 'lord': 1, 'calls': 1, 'then': 2, 'on': 1, 'coming': 1, 'Ere': 1, 'again': 1, 'behold': 2, 'same': 1, 'till': 2, 'upon': 1, 'receipt': 1, 'thereof': 1, 'know': 2, 'banish': 1, 'world': 1, 'nothing': 1, 'dishclout': 1, 'an': 1, 'eagle': 1, 'madam': 1, 'join': 1, 'heart': 1, 'our': 2, 'hands': 1, 'ere': 2, 'seal': 1, 'Shall': 2, 'letters': 1, 'drift': 1, 'Mantua': 2, 'Because': 1, 'married': 1, 'before': 3, 'wake': 1, 'time': 1, 'strangled': 1, 'Seeking': 1, 'out': 1, 'spit': 1, 'body': 1, 'do': 1, 'drink': 1, 'Welcome': 1, 'from': 1, 'bare': 1, 'She': 1, 'beshrew': 1, 'much': 1, 'keep': 1, 'her': 2, 'cell': 1, 'pale': 1, 'else': 1, 'Paris': 2, 'too': 1, 'am': 1, 'found': 1, 'churchyard': 1, 'The': 3, 'people': 1, 'street': 1, 'cry': 1, 'friar': 1, 'husband': 1, 'faithful': 1, 'wife': 1, 'form': 1, 'meantime': 1, 'writ': 1, 'Till': 1, 'conveniently': 1, 'could': 1, 'send': 1, 'noble': 1, 'true': 1, 'As': 1, 'rich': 1, 'lie': 1, 'Than': 1}"
     ]
    }
   ],
   "source": [
    "print(Romeo, end = '')"
   ],
   "metadata": {
    "collapsed": false,
    "pycharm": {
     "name": "#%%\n"
    }
   }
  },
  {
   "cell_type": "code",
   "execution_count": 84,
   "outputs": [],
   "source": [
    "from collections import defaultdict\n",
    "\n",
    "tokenizer = nltk.tokenize.RegexpTokenizer(r'\\w+')\n",
    "stopwords = set(nltk.corpus.stopwords.words('english'))\n",
    "\n",
    "lines = defaultdict(list)\n",
    "linecounts = defaultdict(int)\n",
    "\n",
    "play = shakespeare.xml('r_and_j.xml')\n",
    "\n",
    "for child in play.findall('ACT/SCENE/SPEECH'):\n",
    "    speaker = child.find('SPEAKER').text\n",
    "    for line in child.findall('LINE'):\n",
    "        if line.text is not None:\n",
    "            for word in tokenizer.tokenize(line.text):\n",
    "                if word not in stopwords and len(word) > 2:\n",
    "                    lines[speaker].append(word)\n",
    "                    linecounts[speaker] += 1"
   ],
   "metadata": {
    "collapsed": false,
    "pycharm": {
     "name": "#%%\n"
    }
   }
  },
  {
   "cell_type": "code",
   "execution_count": 85,
   "outputs": [
    {
     "name": "stdout",
     "output_type": "stream",
     "text": [
      "[('thou', 55), ('love', 50), ('And', 43), ('thy', 39), ('thee', 37), ('death', 20), ('What', 16), ('Juliet', 16), ('man', 15), ('fair', 15), ('That', 15), ('mine', 14), ('night', 14), ('The', 13), ('may', 13), ('But', 13), ('upon', 13), ('dear', 13), ('eyes', 12), ('shall', 12)]"
     ]
    }
   ],
   "source": [
    "romeo = {}\n",
    "\n",
    "for w in lines[\"ROMEO\"]:\n",
    "    romeo[w] = 1 + romeo.get(w, 0)\n",
    "\n",
    "from operator import itemgetter\n",
    "\n",
    "print(sorted(romeo.items(), key = itemgetter(1), reverse = True)[:20], end = '')"
   ],
   "metadata": {
    "collapsed": false,
    "pycharm": {
     "name": "#%%\n"
    }
   }
  },
  {
   "cell_type": "code",
   "execution_count": 86,
   "outputs": [],
   "source": [
    "tokenizer = nltk.tokenize.RegexpTokenizer(r\"\\w+'*\\w+\")\n",
    "\n",
    "raw_rj = []\n",
    "\n",
    "play = shakespeare.xml('r_and_j.xml')\n",
    "\n",
    "for line in play.findall('ACT/SCENE/SPEECH/LINE'):\n",
    "    if line.text is not None:\n",
    "        for word in tokenizer.tokenize(line.text):\n",
    "            if word not in stopwords and len(word) > 2:\n",
    "                raw_rj.append(word)"
   ],
   "metadata": {
    "collapsed": false,
    "pycharm": {
     "name": "#%%\n"
    }
   }
  },
  {
   "cell_type": "code",
   "execution_count": 87,
   "outputs": [
    {
     "name": "stdout",
     "output_type": "stream",
     "text": [
      "['Gregory', 'word', \"we'll\", 'carry', 'coals', 'colliers', 'mean', 'choler', \"we'll\", 'draw', 'live', 'draw', 'neck', 'collar', 'strike', 'quickly', 'moved', 'But', 'thou', 'art']"
     ]
    }
   ],
   "source": [
    "print(raw_rj[:20], end = '')"
   ],
   "metadata": {
    "collapsed": false,
    "pycharm": {
     "name": "#%%\n"
    }
   }
  },
  {
   "cell_type": "code",
   "execution_count": 88,
   "outputs": [],
   "source": [
    "raw_others = []\n",
    "tokenizer = nltk.tokenize.RegexpTokenizer(r\"\\w+'*\\w+\")\n",
    "\n",
    "for p in shakespeare.fileids():\n",
    "    # tokenize all plays EXCEPT R & J\n",
    "    if p != 'r_and_j.xml':\n",
    "        play = shakespeare.xml(p)\n",
    "\n",
    "\n",
    "    for line in play.findall('ACT/SCENE/SPEECH/LINE'):\n",
    "        if line.text is not None:\n",
    "            for word in tokenizer.tokenize(line.text):\n",
    "                if word not in stopwords and len(word) > 2:\n",
    "                    raw_others.append(word)"
   ],
   "metadata": {
    "collapsed": false,
    "pycharm": {
     "name": "#%%\n"
    }
   }
  },
  {
   "cell_type": "code",
   "execution_count": 89,
   "outputs": [],
   "source": [
    "rj_kw = set(raw_rj) - set(raw_others)"
   ],
   "metadata": {
    "collapsed": false,
    "pycharm": {
     "name": "#%%\n"
    }
   }
  },
  {
   "cell_type": "code",
   "execution_count": 90,
   "outputs": [
    {
     "data": {
      "text/plain": "True"
     },
     "execution_count": 90,
     "metadata": {},
     "output_type": "execute_result"
    }
   ],
   "source": [
    "\"Romeo\" in rj_kw"
   ],
   "metadata": {
    "collapsed": false,
    "pycharm": {
     "name": "#%%\n"
    }
   }
  },
  {
   "cell_type": "code",
   "execution_count": 91,
   "outputs": [],
   "source": [
    "# get counts in raw R&J text\n",
    "\n",
    "raw_rj_dict = {}\n",
    "\n",
    "for w in raw_rj:\n",
    "    raw_rj_dict[w] = 1 + raw_rj_dict.get(w, 0)"
   ],
   "metadata": {
    "collapsed": false,
    "pycharm": {
     "name": "#%%\n"
    }
   }
  },
  {
   "cell_type": "code",
   "execution_count": 92,
   "outputs": [],
   "source": [
    "# sort the dictionary\n",
    "\n",
    "potential_rj_keywords = sorted(raw_rj_dict.items(), key = itemgetter(1), reverse = True)"
   ],
   "metadata": {
    "collapsed": false,
    "pycharm": {
     "name": "#%%\n"
    }
   }
  },
  {
   "cell_type": "code",
   "execution_count": 93,
   "outputs": [],
   "source": [
    "# keep only the words that appear more than twice\n",
    "\n",
    "rj_keywords = [w for w, v in potential_rj_keywords if v > 2]"
   ],
   "metadata": {
    "collapsed": false,
    "pycharm": {
     "name": "#%%\n"
    }
   }
  },
  {
   "cell_type": "code",
   "execution_count": 94,
   "outputs": [
    {
     "name": "stdout",
     "output_type": "stream",
     "text": [
      "['thou', 'And', 'thy', 'thee', 'love', 'Romeo', 'shall', 'night', 'What', 'But']\n"
     ]
    }
   ],
   "source": [
    "print(rj_keywords[:10])"
   ],
   "metadata": {
    "collapsed": false,
    "pycharm": {
     "name": "#%%\n"
    }
   }
  },
  {
   "cell_type": "code",
   "execution_count": 95,
   "outputs": [],
   "source": [
    "from operator import itemgetter\n",
    "\n",
    "tokenizer = nltk.tokenize.RegexpTokenizer(r\"\\w+'*\\w+\")\n",
    "\n",
    "# master list of keywords in all plays\n",
    "raw_others_keywords = []\n",
    "\n",
    "for p in shakespeare.fileids():\n",
    "    # tokenize all plays EXCEPT R & J\n",
    "    if p != 'r_and_j.xml':\n",
    "        play = shakespeare.xml(p)\n",
    "\n",
    "    # temporary file for all words in current play\n",
    "    temp_raw = []\n",
    "\n",
    "    # append all words to temp file\n",
    "    for line in play.findall('ACT/SCENE/SPEECH/LINE'):\n",
    "        if line.text is not None:\n",
    "            for word in tokenizer.tokenize(line.text):\n",
    "                if word not in stopwords and len(word) > 2:\n",
    "                    temp_raw.append(word)\n",
    "\n",
    "    # make temporary dictionary and tally words in current play\n",
    "    temp_d = {}\n",
    "    for w in temp_raw:\n",
    "        temp_d[w] = 1 + temp_d.get(w, 0)\n",
    "\n",
    "    # if word occurs more than twice, add to master list\n",
    "    for w, v in temp_d.items():\n",
    "        if v > 2:\n",
    "            raw_others_keywords.append(w)\n",
    "\n",
    "# get rid of duplicates\n",
    "raw_others_keywords = set(raw_others_keywords)"
   ],
   "metadata": {
    "collapsed": false,
    "pycharm": {
     "name": "#%%\n"
    }
   }
  },
  {
   "cell_type": "code",
   "execution_count": 96,
   "outputs": [],
   "source": [
    "rj_only_kw = set(rj_keywords) - raw_others_keywords"
   ],
   "metadata": {
    "collapsed": false,
    "pycharm": {
     "name": "#%%\n"
    }
   }
  },
  {
   "cell_type": "code",
   "execution_count": 97,
   "outputs": [],
   "source": [
    "potential_rj_keywords = sorted(raw_rj_dict.items(), key = itemgetter(1), reverse = True)"
   ],
   "metadata": {
    "collapsed": false,
    "pycharm": {
     "name": "#%%\n"
    }
   }
  },
  {
   "cell_type": "code",
   "execution_count": 98,
   "outputs": [],
   "source": [
    "rj_kw = sorted(set(w for w,v in potential_rj_keywords if w in rj_only_kw and v >= 3))"
   ],
   "metadata": {
    "collapsed": false,
    "pycharm": {
     "name": "#%%\n"
    }
   }
  },
  {
   "cell_type": "code",
   "execution_count": 99,
   "outputs": [
    {
     "name": "stdout",
     "output_type": "stream",
     "text": [
      "['Anon', 'Benvolio', 'Came', 'Capulet', 'Capulets', 'Church', 'County', 'Death', 'Else', 'Find', 'Friar', 'Gentlemen', \"Heart's\", 'Hie', 'Jesu', 'John', 'Jule', 'Juliet', \"Juliet's\", 'Lady', 'Lammas', 'Laurence', 'Mab', 'Mantua', 'Mercutio', \"Mercutio's\", 'Montague', 'Montagues', 'Nurse', \"O'er\", 'Paris', \"Peter's\", 'Romeo', \"Romeo's\", 'Rosaline', 'Susan', 'Thursday', 'Tut', 'Tybalt', \"Tybalt's\", 'Verona', 'Wednesday', 'Wife', 'Young', 'advanced', 'afford', 'afternoon', 'airy', 'aloof', 'anger', \"another's\", 'apothecary', 'apprehend', 'aside', 'backward', \"banish'd\", 'banished', 'banishment', 'bark', 'bawd', 'beats', 'beauties', 'beseeming', 'bite', 'blush', 'bridal', 'bride', 'bridegroom', 'brows', 'burden', 'calm', 'cease', 'cell', 'church', 'churchyard', 'closed', 'conjure', 'contrary', 'cords', 'county', \"cousin's\", 'coz', 'craves', 'crow', 'date', \"daughter's\", 'daylight', 'deadly', 'den', 'discords', 'doom', 'dug', 'early', 'empty', 'envious', 'exchange', 'exile', 'fickle', 'five', 'foe', 'food', 'forsworn', 'fourteen', 'friar', 'gallant', 'gaze', 'gentlewoman', 'ghostly', 'grey', 'guests', 'hare', \"hear'st\", \"heart's\", 'heir', 'hie', 'hire', 'hoar', 'hollow', 'houses', 'inconstant', 'iron', 'joint', 'joints', 'joyful', 'kinsman', 'kinsmen', 'knees', \"know'st\", \"lady's\", 'lain', 'lamb', 'lamentable', 'lent', 'lick', 'lightning', 'likeness', 'loathsome', 'maids', 'mask', 'meat', \"morning's\", 'mouse', 'musicians', 'names', 'needy', 'nightingale', 'nurse', 'open', 'oppression', 'philosophy', 'powder', \"prince's\", 'quoth', 'remove', 'rhyme', 'rosemary', 'sadness', 'saint', 'save', 'scratch', 'sell', 'shrift', 'shroud', 'sighs', \"slaughter'd\", 'slay', 'sought', 'sour', 'spent', \"stay'd\", 'strew', 'sweetest', 'thrust', 'thumb', 'toad', 'torch', 'torture', 'tree', \"unaccustom'd\", 'untimely', 'urged', 'vain', 'vault', 'veins', 'visor', 'warm', \"wash'd\", 'wast', 'wedding', 'weeping', 'weeps', 'wench', \"where's\", 'window', 'woes', 'woful', 'womb', 'worn', 'yond', 'youthful']"
     ]
    }
   ],
   "source": [
    "print(rj_kw, end = '')"
   ],
   "metadata": {
    "collapsed": false,
    "pycharm": {
     "name": "#%%\n"
    }
   }
  },
  {
   "cell_type": "code",
   "execution_count": 100,
   "outputs": [],
   "source": [
    "romeo = {}\n",
    "\n",
    "for w in lines[\"ROMEO\"]:\n",
    "    if w in rj_kw:\n",
    "        romeo[w] = 1 + romeo.get(w, 0)"
   ],
   "metadata": {
    "collapsed": false,
    "pycharm": {
     "name": "#%%\n"
    }
   }
  },
  {
   "cell_type": "code",
   "execution_count": 101,
   "outputs": [
    {
     "data": {
      "text/plain": "[('Juliet', 16),\n ('Mercutio', 9),\n ('Tybalt', 9),\n ('banished', 9),\n ('Romeo', 6),\n ('nurse', 5),\n ('saint', 4),\n ('Capulet', 4),\n ('banishment', 4),\n ('friar', 4)]"
     },
     "execution_count": 101,
     "metadata": {},
     "output_type": "execute_result"
    }
   ],
   "source": [
    "from operator import itemgetter\n",
    "\n",
    "sorted(romeo.items(), key = itemgetter(1), reverse = True)[:10]"
   ],
   "metadata": {
    "collapsed": false,
    "pycharm": {
     "name": "#%%\n"
    }
   }
  },
  {
   "cell_type": "code",
   "execution_count": 102,
   "outputs": [
    {
     "data": {
      "text/plain": "{'Benvolio': 1,\n 'Montagues': 1,\n 'Montague': 2,\n 'foe': 1,\n 'Romeo': 3,\n 'Gentlemen': 1,\n 'den': 1,\n 'Mercutio': 1,\n 'afford': 1}"
     },
     "execution_count": 102,
     "metadata": {},
     "output_type": "execute_result"
    }
   ],
   "source": [
    "tybalt = {}\n",
    "\n",
    "for w in lines[\"TYBALT\"]:\n",
    "    if w in rj_kw:\n",
    "        tybalt[w] = 1 + tybalt.get(w, 0)\n",
    "\n",
    "tybalt"
   ],
   "metadata": {
    "collapsed": false,
    "pycharm": {
     "name": "#%%\n"
    }
   }
  },
  {
   "cell_type": "code",
   "execution_count": 103,
   "outputs": [],
   "source": [
    "juliet = {}\n",
    "\n",
    "for w in lines[\"JULIET\"]:\n",
    "    if w in rj_kw:\n",
    "        juliet[w] = 1 + juliet.get(w, 0)"
   ],
   "metadata": {
    "collapsed": false,
    "pycharm": {
     "name": "#%%\n"
    }
   }
  },
  {
   "cell_type": "code",
   "execution_count": 104,
   "outputs": [
    {
     "data": {
      "text/plain": "[('Romeo', 41),\n ('nurse', 17),\n ('Tybalt', 14),\n ('Montague', 5),\n ('banished', 5),\n ('friar', 4),\n ('early', 3),\n ('cords', 3),\n ('Nurse', 3),\n ('fickle', 3)]"
     },
     "execution_count": 104,
     "metadata": {},
     "output_type": "execute_result"
    }
   ],
   "source": [
    "from operator import itemgetter\n",
    "\n",
    "sorted(juliet.items(), key = itemgetter(1), reverse = True)[:10]"
   ],
   "metadata": {
    "collapsed": false,
    "pycharm": {
     "name": "#%%\n"
    }
   }
  },
  {
   "cell_type": "code",
   "execution_count": 105,
   "outputs": [
    {
     "data": {
      "text/plain": "{'sweetest': 1, 'Paris': 2, 'toad': 2, 'anger': 1, 'rosemary': 1, 'Romeo': 1}"
     },
     "execution_count": 105,
     "metadata": {},
     "output_type": "execute_result"
    }
   ],
   "source": [
    "nurse = {}\n",
    "\n",
    "for w in lines[\"NURSE\"]:\n",
    "    if w in rj_kw:\n",
    "        nurse[w] = 1 + nurse.get(w, 0)\n",
    "\n",
    "nurse"
   ],
   "metadata": {
    "collapsed": false,
    "pycharm": {
     "name": "#%%\n"
    }
   }
  },
  {
   "cell_type": "code",
   "execution_count": 106,
   "outputs": [],
   "source": [
    "mercutio = {}\n",
    "\n",
    "for w in lines[\"MERCUTIO\"]:\n",
    "    if w in rj_kw:\n",
    "        mercutio[w] = 1 + mercutio.get(w, 0)"
   ],
   "metadata": {
    "collapsed": false,
    "pycharm": {
     "name": "#%%\n"
    }
   }
  },
  {
   "cell_type": "code",
   "execution_count": 107,
   "outputs": [
    {
     "data": {
      "text/plain": "[('Romeo', 9),\n ('hare', 5),\n ('conjure', 4),\n ('hoar', 4),\n ('houses', 4),\n ('five', 3),\n ('Mab', 3),\n ('anger', 3),\n ('wench', 3),\n ('bawd', 3)]"
     },
     "execution_count": 107,
     "metadata": {},
     "output_type": "execute_result"
    }
   ],
   "source": [
    "sorted(mercutio.items(), key = itemgetter(1), reverse = True)[:10]"
   ],
   "metadata": {
    "collapsed": false,
    "pycharm": {
     "name": "#%%\n"
    }
   }
  },
  {
   "cell_type": "code",
   "execution_count": 108,
   "outputs": [
    {
     "data": {
      "text/plain": "{'afford': 1,\n 'Thursday': 3,\n 'Capulet': 1,\n 'weeps': 1,\n 'Tybalt': 1,\n 'Juliet': 2,\n 'early': 1,\n 'torch': 2,\n 'aloof': 1,\n 'yond': 1,\n 'hollow': 1,\n 'churchyard': 1,\n 'bridal': 1,\n 'strew': 2,\n 'Montague': 2,\n 'apprehend': 3}"
     },
     "execution_count": 108,
     "metadata": {},
     "output_type": "execute_result"
    }
   ],
   "source": [
    "paris = {}\n",
    "\n",
    "for w in lines[\"PARIS\"]:\n",
    "    if w in rj_kw:\n",
    "        paris[w] = 1 + paris.get(w, 0)\n",
    "\n",
    "paris"
   ],
   "metadata": {
    "collapsed": false,
    "pycharm": {
     "name": "#%%\n"
    }
   }
  },
  {
   "cell_type": "code",
   "execution_count": 109,
   "outputs": [],
   "source": [
    "rom = [w for w, _ in sorted(romeo.items(), key = itemgetter(1), reverse = True)[:10]]\n",
    "jul = [w for w, _ in sorted(juliet.items(), key = itemgetter(1), reverse = True)[:10]]\n",
    "tyb = [w for w, _ in sorted(tybalt.items(), key = itemgetter(1), reverse = True)[:10]]\n",
    "mer = [w for w, _ in sorted(mercutio.items(), key = itemgetter(1), reverse = True)[:10]]\n",
    "par = [w for w, _ in sorted(paris.items(), key = itemgetter(1), reverse = True)[:10]]"
   ],
   "metadata": {
    "collapsed": false,
    "pycharm": {
     "name": "#%%\n"
    }
   }
  },
  {
   "cell_type": "code",
   "execution_count": 110,
   "outputs": [],
   "source": [
    "d = {'Romeo': rom, 'Juliet': jul, 'Tybalt': tyb, 'Mercutio': mer, 'Paris': par}"
   ],
   "metadata": {
    "collapsed": false,
    "pycharm": {
     "name": "#%%\n"
    }
   }
  },
  {
   "cell_type": "code",
   "execution_count": 111,
   "outputs": [
    {
     "data": {
      "text/plain": "<Figure size 432x288 with 1 Axes>",
      "image/png": "[encoded data removed]"
     },
     "metadata": {},
     "output_type": "display_data"
    }
   ],
   "source": [
    "%matplotlib inline\n",
    "import networkx as  nx\n",
    "import matplotlib.pyplot as plt\n",
    "\n",
    "g = nx.DiGraph(d)\n",
    "\n",
    "g.add_nodes_from(d.keys())\n",
    "\n",
    "nx.draw(g, with_labels=True, node_size = 100,font_size=12)\n",
    "\n",
    "plt.show();"
   ],
   "metadata": {
    "collapsed": false,
    "pycharm": {
     "name": "#%%\n"
    }
   }
  },
  {
   "cell_type": "code",
   "execution_count": 112,
   "outputs": [
    {
     "data": {
      "text/plain": "<Figure size 432x288 with 1 Axes>",
      "image/png": "[encoded data removed]"
     },
     "metadata": {},
     "output_type": "display_data"
    }
   ],
   "source": [
    "# Spring layout\n",
    "g = nx.DiGraph(d)\n",
    "\n",
    "g.add_nodes_from(d.keys())\n",
    "\n",
    "pos = nx.spring_layout(g)\n",
    "\n",
    "nx.draw_networkx(g, pos, node_size = 100, edge_color='y', alpha=.8, linewidths=0, font_size = 12)\n",
    "plt.show();"
   ],
   "metadata": {
    "collapsed": false,
    "pycharm": {
     "name": "#%%\n"
    }
   }
  },
  {
   "cell_type": "code",
   "execution_count": 113,
   "outputs": [],
   "source": [
    "ROMEO = [\"Benvolio\", \"Juliet\", \"banished\", \"night\", \"Tybalt\", \"art\", \"dead\",\n",
    "         \"O\", \"thou\", \"is\"]\n",
    "TYBALT = [\"Capulet\", \"dead\", \"kinsman\", \"art\", \"O\", \"Mercutio\", \"slain\", \"is\",\n",
    "          \"thou\", \"Romeo\"]\n",
    "JULIET =  [\"she\", \"O\", \"lady\", \"thou\", \"thee\", \"thy\", \"dead\", \"Romeo\", \"Nurse\"]\n",
    "CAPULET = [\"thee\", \"Friar\", \"Tybalt\", \"Juliet\", \"Montague\", \"is\", \"Paris\",\n",
    "           \"Capulet’s\", \"nurse\", \"Lady\"]\n",
    "NURSE = [\"thy\", \"she\", \"Peter\", \"thee\", \"is\", \"Juliet\", \"Capulet\", \"thou\",\n",
    "         \"Lady\", \"O\"]\n",
    "NIGHT = [\"light\", \"torch\", \"O\", \"she\", \"thy\", \"thee\", \"love\", \"Romeo\", \"thou\", \"is\"]\n",
    "MERCUTIO = [\"she\", \"O\", \"kinsman\", \"is\", \"thy\", \"thou\", \"lady\", \"Romeo\",\n",
    "            \"Tybalt\", \"Benvolio\"]\n",
    "PARIS = [\"Thursday\", \"married\", \"Lawrence\", \"Friar\", \"love\", \"is\", \"Romeo\",\n",
    "         \"dead\", \"Capulet\", \"County\"]\n",
    "LOVE = [\"Paris\", \"Lady\", \"death\", \"night\", \"she\", \"thee\", \"thou\", \"is\", \"O\",\n",
    "        \"thy\"]\n",
    "MONTAGUE = [\"thee\", \"Benvolio\", \"O\", \"thy\", \"art\", \"Lady\", \"Romeo\", \"thou\",\n",
    "            \"Capulet\", \"is\"]\n",
    "THOU = [\"death\", \"night\", \"O\", \"love\", \"is\", \"Romeo\", \"thee\", \"wilt\", \"thy\",\n",
    "        \"art\"]\n",
    "FRIAR = [\"Romeo\", \"Nurse\", \"Capulet\", \"Lady\", \"Mantua\", \"Paris\", \"O\", \"is\",\n",
    "         \"cell\", \"Lawrence\"]\n",
    "ROMEOS = [\"she\", \"dead\", \"banished\", \"Romeo\", \"thou\", \"Friar\", \"Tybalt’s\",\n",
    "          \"watch\", \"O\", \"is\"]\n",
    "O = [\"Juliet\", \"Friar\", \"she\", \"Nurse\", \"thee\", \"thy\", \"Romeo\", \"thou\", \"love\",\n",
    "     \"is\"]"
   ],
   "metadata": {
    "collapsed": false,
    "pycharm": {
     "name": "#%%\n"
    }
   }
  },
  {
   "cell_type": "code",
   "execution_count": 114,
   "outputs": [],
   "source": [
    "d2 = {'Romeo': ROMEO, 'Tybalt': TYBALT, 'Juliet': JULIET, 'Capulet': CAPULET, 'n': NURSE, 'ni': NIGHT,\n",
    "      'm': MERCUTIO, 'p': PARIS, 'l': LOVE, 'mo': MONTAGUE, 'th': THOU, 'f': FRIAR, 'rs': ROMEOS, 'o': O}"
   ],
   "metadata": {
    "collapsed": false,
    "pycharm": {
     "name": "#%%\n"
    }
   }
  },
  {
   "cell_type": "code",
   "execution_count": 115,
   "outputs": [
    {
     "data": {
      "text/plain": "<Figure size 432x288 with 1 Axes>",
      "image/png": "[encoded data removed]"
     },
     "metadata": {},
     "output_type": "display_data"
    }
   ],
   "source": [
    "g2 = nx.DiGraph(d2)\n",
    "\n",
    "g2.add_nodes_from(d2.keys())\n",
    "\n",
    "\n",
    "for k, v in d2.items():\n",
    "    g2.add_edges_from(([(k, t) for t in v]))\n",
    "\n",
    "nx.draw(g2, with_labels=True, node_size = 100,font_size=12)\n",
    "\n",
    "plt.show();"
   ],
   "metadata": {
    "collapsed": false,
    "pycharm": {
     "name": "#%%\n"
    }
   }
  },
  {
   "cell_type": "code",
   "execution_count": 116,
   "outputs": [
    {
     "data": {
      "text/plain": "<Figure size 432x288 with 1 Axes>",
      "image/png": "[encoded data removed]"
     },
     "metadata": {},
     "output_type": "display_data"
    }
   ],
   "source": [
    "g2 = nx.DiGraph(d2)\n",
    "\n",
    "g2.add_nodes_from(d2.keys())\n",
    "\n",
    "\n",
    "for k, v in d2.items():\n",
    "    g2.add_edges_from(([(k, t) for t in v]))\n",
    "\n",
    "nx.draw(g2, with_labels=True)\n",
    "\n",
    "plt.show();"
   ],
   "metadata": {
    "collapsed": false,
    "pycharm": {
     "name": "#%%\n"
    }
   }
  },
  {
   "cell_type": "code",
   "execution_count": 117,
   "outputs": [],
   "source": [
    "d3 = {'Romeo': ROMEO,  'Juliet': JULIET,  'Mercutio': MERCUTIO,  'Montague': MONTAGUE}"
   ],
   "metadata": {
    "collapsed": false,
    "pycharm": {
     "name": "#%%\n"
    }
   }
  },
  {
   "cell_type": "code",
   "execution_count": 118,
   "outputs": [
    {
     "data": {
      "text/plain": "<Figure size 432x288 with 1 Axes>",
      "image/png": "[encoded data removed]"
     },
     "metadata": {},
     "output_type": "display_data"
    }
   ],
   "source": [
    "g3 = nx.DiGraph(d3)\n",
    "\n",
    "g3.add_nodes_from(d3.keys())\n",
    "\n",
    "\n",
    "for k, v in d3.items():\n",
    "    g3.add_edges_from(([(k, t) for t in v]))\n",
    "\n",
    "nx.draw(g3, with_labels=True, node_size = 10,font_size=12)\n",
    "\n",
    "plt.show();"
   ],
   "metadata": {
    "collapsed": false,
    "pycharm": {
     "name": "#%%\n"
    }
   }
  },
  {
   "cell_type": "code",
   "execution_count": 119,
   "outputs": [],
   "source": [
    "d4 = {'Romeo': ROMEO,  'Juliet': JULIET,  'Capulet': CAPULET, 'Nurse': NURSE, 'Paris': PARIS,}"
   ],
   "metadata": {
    "collapsed": false,
    "pycharm": {
     "name": "#%%\n"
    }
   }
  },
  {
   "cell_type": "code",
   "execution_count": 120,
   "outputs": [
    {
     "data": {
      "text/plain": "<Figure size 432x288 with 1 Axes>",
      "image/png": "[encoded data removed]"
     },
     "metadata": {},
     "output_type": "display_data"
    }
   ],
   "source": [
    "g4 = nx.DiGraph(d4)\n",
    "\n",
    "g4.add_nodes_from(d4.keys())\n",
    "\n",
    "\n",
    "for k, v in d4.items():\n",
    "    g4.add_edges_from(([(k, t) for t in v]))\n",
    "\n",
    "nx.draw(g4, with_labels=True, node_size = 10,font_size=12)\n",
    "\n",
    "plt.show();"
   ],
   "metadata": {
    "collapsed": false,
    "pycharm": {
     "name": "#%%\n"
    }
   }
  },
  {
   "cell_type": "code",
   "execution_count": 121,
   "outputs": [],
   "source": [
    "tokenizer = nltk.tokenize.RegexpTokenizer(r\"\\w+'?\\w+\")\n",
    "\n",
    "play = shakespeare.xml('r_and_j.xml')\n",
    "\n",
    "raw = []\n",
    "\n",
    "for child in play.findall('ACT/SCENE/SPEECH'):\n",
    "    speaker = child.find('SPEAKER').text\n",
    "    for i in range(5):\n",
    "        raw.append(\"\")\n",
    "    for line in child.findall('LINE'):\n",
    "        if line.text is not None:\n",
    "            for word in tokenizer.tokenize(line.text):\n",
    "                raw.append(word)"
   ],
   "metadata": {
    "collapsed": false,
    "pycharm": {
     "name": "#%%\n"
    }
   }
  },
  {
   "cell_type": "code",
   "execution_count": 122,
   "outputs": [
    {
     "name": "stdout",
     "output_type": "stream",
     "text": [
      "['', '', '', '', '', 'Gregory', 'my', 'word', \"we'll\", 'not', 'carry', 'coals', '', '', '', '', '', 'No', 'for', 'then', 'we', 'should', 'be', 'colliers', '', '', '', '', '', 'mean', 'an', 'we', 'be', 'in', 'choler', \"we'll\", 'draw', '', '', '', '', '', 'Ay', 'while', 'you', 'live', 'draw', 'your', 'neck', 'out', 'the', 'collar', '', '', '', '', '', 'strike', 'quickly', 'being', 'moved', '', '', '', '', '', 'But', 'thou', 'art', 'not', 'quickly', 'moved', 'to', 'strike', '', '', '', '', '', 'dog', 'of', 'the', 'house', 'of', 'Montague', 'moves', 'me', '', '', '', '', '', 'To', 'move', 'is', 'to', 'stir', 'and', 'to', 'be', 'valiant', 'is', 'to', 'stand', 'therefore', 'if', 'thou', 'art', 'moved', 'thou', \"runn'st\", 'away', '', '', '', '', '', 'dog', 'of', 'that', 'house', 'shall', 'move', 'me', 'to', 'stand', 'will', 'take', 'the', 'wall', 'of', 'any', 'man', 'or', 'maid', 'of', \"Montague's\", '', '', '', '', '', 'That', 'shows', 'thee', 'weak', 'slave', 'for', 'the', 'weakest']"
     ]
    }
   ],
   "source": [
    "print(raw[:150], end = '')"
   ],
   "metadata": {
    "collapsed": false,
    "pycharm": {
     "name": "#%%\n"
    }
   }
  },
  {
   "cell_type": "code",
   "execution_count": 123,
   "outputs": [
    {
     "name": "stdout",
     "output_type": "stream",
     "text": [
      "['Romeo', 'Tybalt', 'banished', 'Juliet', 'Paris', \"Mercutio's\", 'Montague', 'Mercutio', 'Mantua', 'Young', 'conjure', 'Came', 'spent', 'rosemary', 'gallant', 'kinsman', \"Romeo's\", 'slay', 'Else', 'cords', 'contrary', \"slaughter'd\", \"Tybalt's\", 'wedding', \"lady's\", \"where's\", \"banish'd\", \"cousin's\", 'cell', 'closed', 'County']"
     ]
    }
   ],
   "source": [
    "# words from collocation windows with 'Romeo'\n",
    "romeo_ky = [raw[i - 5 :i] + raw[i + 1 : i + 6] for i in range(len(raw)) if raw[i] == \"Romeo\"]\n",
    "\n",
    "# only keep those words in R&J keywords\n",
    "romeo_ky = [w for sl in romeo_ky for w in sl if w in rj_kw]\n",
    "\n",
    "# get counts\n",
    "romeo_kyd = {}\n",
    "for w in romeo_ky:\n",
    "    romeo_kyd[w] = 1 + romeo_kyd.get(w, 0)\n",
    "\n",
    "# sort by count\n",
    "from operator import itemgetter\n",
    "\n",
    "romeo_ky = [w for w, _ in sorted(romeo_kyd.items(),\n",
    "                                 key = itemgetter(1), reverse = True)]\n",
    "print(romeo_ky, end = '')"
   ],
   "metadata": {
    "collapsed": false,
    "pycharm": {
     "name": "#%%\n"
    }
   }
  },
  {
   "cell_type": "code",
   "execution_count": 124,
   "outputs": [
    {
     "name": "stdout",
     "output_type": "stream",
     "text": [
      "Help on function edit_distance in module nltk.metrics.distance:\n",
      "\n",
      "edit_distance(s1, s2, substitution_cost=1, transpositions=False)\n",
      "    Calculate the Levenshtein edit-distance between two strings.\n",
      "    The edit distance is the number of characters that need to be\n",
      "    substituted, inserted, or deleted, to transform s1 into s2.  For\n",
      "    example, transforming \"rain\" to \"shine\" requires three steps,\n",
      "    consisting of two substitutions and one insertion:\n",
      "    \"rain\" -> \"sain\" -> \"shin\" -> \"shine\".  These operations could have\n",
      "    been done in other orders, but at least three steps are needed.\n",
      "    \n",
      "    Allows specifying the cost of substitution edits (e.g., \"a\" -> \"b\"),\n",
      "    because sometimes it makes sense to assign greater penalties to\n",
      "    substitutions.\n",
      "    \n",
      "    This also optionally allows transposition edits (e.g., \"ab\" -> \"ba\"),\n",
      "    though this is disabled by default.\n",
      "    \n",
      "    :param s1, s2: The strings to be analysed\n",
      "    :param transpositions: Whether to allow transposition edits\n",
      "    :type s1: str\n",
      "    :type s2: str\n",
      "    :type substitution_cost: int\n",
      "    :type transpositions: bool\n",
      "    :rtype int\n",
      "\n"
     ]
    }
   ],
   "source": [
    "# Exercise: 4-25\n",
    "# Read about string edit distance and the Levenshtein Algorithm. Try the implementation provided in nltk.edit_dist().\n",
    "# In what way is this using dynamic programming? Does it use the bottom-up or top-down approach? (See\n",
    "# also http://norvig.com/spell-correct.html.)\n",
    "\n",
    "help(nltk.edit_distance)"
   ],
   "metadata": {
    "collapsed": false,
    "pycharm": {
     "name": "#%%\n"
    }
   }
  },
  {
   "cell_type": "code",
   "execution_count": 125,
   "outputs": [
    {
     "data": {
      "text/plain": "3"
     },
     "execution_count": 125,
     "metadata": {},
     "output_type": "execute_result"
    }
   ],
   "source": [
    "nltk.edit_distance('water', 'wine')"
   ],
   "metadata": {
    "collapsed": false,
    "pycharm": {
     "name": "#%%\n"
    }
   }
  },
  {
   "cell_type": "code",
   "execution_count": 126,
   "outputs": [
    {
     "data": {
      "text/plain": "58786"
     },
     "execution_count": 126,
     "metadata": {},
     "output_type": "execute_result"
    }
   ],
   "source": [
    "# Exercise: 4-26\n",
    "# The Catalan numbers arise in many applications of combinatorial mathematics, including the counting of parse trees\n",
    "# (Grammar Development). The series can be defined as follows: C0 = 1, and Cn+1 = Σ0..n (CiCn-i).\n",
    "# a: Write a recursive function to compute nth Catalan number Cn.\n",
    "\n",
    "def Catalan(n):\n",
    "    if n < 1:\n",
    "        return 1\n",
    "    else:\n",
    "        return sum([(Catalan(i) * Catalan(n - 1 - i)) for i in range(n)])\n",
    "\n",
    "Catalan(11)"
   ],
   "metadata": {
    "collapsed": false,
    "pycharm": {
     "name": "#%%\n"
    }
   }
  },
  {
   "cell_type": "code",
   "execution_count": 127,
   "outputs": [
    {
     "data": {
      "text/plain": "58786"
     },
     "execution_count": 127,
     "metadata": {},
     "output_type": "execute_result"
    }
   ],
   "source": [
    "# b: Now write another function that does this computation using dynamic programming.\n",
    "\n",
    "def Catalan_memo(n, lookup = {0: 1}):\n",
    "    if n not in lookup:\n",
    "        result = sum([(Catalan(i) * Catalan(n - 1 - i)) for i in range(n)])\n",
    "        lookup[n] = result\n",
    "    return lookup[n]\n",
    "\n",
    "Catalan_memo(11)"
   ],
   "metadata": {
    "collapsed": false,
    "pycharm": {
     "name": "#%%\n"
    }
   }
  },
  {
   "cell_type": "code",
   "execution_count": 130,
   "outputs": [
    {
     "name": "stderr",
     "output_type": "stream",
     "text": [
      "UsageError: Line magic function `%%time` not found.\n"
     ]
    }
   ],
   "source": [
    "# c: Use the timeit module to compare the performance of these functions as n increases.\n",
    "\n",
    "%%time\n",
    "print([Catalan(i) for i in range(15)])"
   ],
   "metadata": {
    "collapsed": false,
    "pycharm": {
     "name": "#%%\n"
    }
   }
  },
  {
   "cell_type": "code",
   "execution_count": 129,
   "outputs": [
    {
     "name": "stdout",
     "output_type": "stream",
     "text": [
      "[1, 1, 2, 5, 14, 42, 132, 429, 1430, 4862, 16796, 58786, 208012, 742900, 2674440]\n",
      "CPU times: user 1.53 s, sys: 3.19 ms, total: 1.54 s\n",
      "Wall time: 1.54 s\n"
     ]
    }
   ],
   "source": [
    "%%time\n",
    "print([Catalan_memo(i) for i in range(15)])"
   ],
   "metadata": {
    "collapsed": false,
    "pycharm": {
     "name": "#%%\n"
    }
   }
  },
  {
   "cell_type": "code",
   "execution_count": 132,
   "outputs": [
    {
     "data": {
      "text/plain": "{'c': {'h': {'a': {'t': {'value': 'cat'}, 'i': {'r': {'value': 'flesh'}}},\n   'i': {'e': {'n': {'value': 'dog'}}, 'c': {'value': 'stylish'}}}}}"
     },
     "execution_count": 132,
     "metadata": {},
     "output_type": "execute_result"
    }
   ],
   "source": [
    "# Exercise: 4-29\n",
    "# Write a recursive function that pretty prints a trie in alphabetically sorted order, for example:\n",
    "\n",
    "def insert(trie, key, value):\n",
    "    if key:\n",
    "        first, rest = key[0], key[1:]\n",
    "        if first not in trie:\n",
    "            trie[first] = {}\n",
    "        insert(trie[first], rest, value)\n",
    "    else:\n",
    "        trie['value'] = value\n",
    "\n",
    "trie = {}\n",
    "insert(trie, 'chat', 'cat')\n",
    "insert(trie, 'chien', 'dog')\n",
    "insert(trie, 'chair', 'flesh')\n",
    "insert(trie, 'chic', 'stylish')\n",
    "trie"
   ],
   "metadata": {
    "collapsed": false,
    "pycharm": {
     "name": "#%%\n"
    }
   }
  },
  {
   "cell_type": "code",
   "execution_count": 133,
   "outputs": [],
   "source": [
    "# Exercise: 4-30\n",
    "# With the help of the trie data structure, write a recursive function that processes text, locating the\n",
    "# uniqueness point in each word, and discarding the remainder of each word. How much compression does this\n",
    "# give? How readable is the resulting text?\n",
    "\n",
    "def make_trie_dict(trie, string = \"\", d = {}):\n",
    "\n",
    "    \"\"\"\n",
    "    Uses a trie to create a dictionary of redacted values\n",
    "    \"\"\"\n",
    "    flag = True\n",
    "    for key, value in sorted(trie.items(), key = lambda x: x[0]):\n",
    "\n",
    "        # dictionary sorted based upon the keys\n",
    "        if isinstance(value, dict):\n",
    "            if flag:\n",
    "                prefix = string + key\n",
    "                flag = False\n",
    "            else:\n",
    "                prefix = '-' * len(string) + key\n",
    "            make_trie_dict(value, prefix, d)\n",
    "\n",
    "        else:\n",
    "            d[value] = string\n",
    "\n",
    "    return d\n",
    "\n",
    "def convert_text_to_trie(text):\n",
    "    # Normalize and tokenize text\n",
    "    text = re.sub(r'\\n', ' ', text)\n",
    "    text = re.sub(r' +', ' ', text)\n",
    "    text = re.sub(r'’', \"'\", text)\n",
    "    word_tokenizer = nltk.tokenize.RegexpTokenizer(r\"\\w+['-]?\\w*\")\n",
    "\n",
    "    # get a set of words and make a trie from it\n",
    "    text_list = list(set([w.lower() for w in word_tokenizer.tokenize(text)]))\n",
    "\n",
    "    trie = {}\n",
    "    for t in text_list:\n",
    "        insert(trie, t, t)\n",
    "\n",
    "    return trie\n",
    "\n",
    "def compress_text(text, trie = {}):\n",
    "    \"\"\"\n",
    "    Converts a text into a version where the common elements\n",
    "    of the beginnings of words have been replaced with dashes.\n",
    "    \"\"\"\n",
    "\n",
    "    trie = convert_text_to_trie(text)\n",
    "    word_tokenizer = nltk.tokenize.RegexpTokenizer(r\"\\w+['-]?\\w*|[,.:;?!()\\'\\\"\\[\\]&]\")\n",
    "\n",
    "    # make a dictionary of the compressed values\n",
    "    comp_d = make_trie_dict(trie)\n",
    "\n",
    "    # return a new version with the compressed words\n",
    "\n",
    "    new_text = []\n",
    "    for w in word_tokenizer.tokenize(text):\n",
    "        # look up lower-case variations of words\n",
    "        if w.lower() in comp_d:\n",
    "            # if original is in uppercase and first character is a letter\n",
    "            # the replacement word should also be uppercased in the new text\n",
    "            if w.isupper() and comp_d[w.lower()][0].isalpha():\n",
    "                new_text.append(comp_d[w.lower()].upper())\n",
    "            else:\n",
    "                new_text.append(comp_d[w.lower()])\n",
    "        # for strings not in the trie dictionary\n",
    "        else:\n",
    "            new_text.append(w)\n",
    "\n",
    "    # join text and join punctuation to preceding words\n",
    "    return ' '.join(join_punctuation(new_text))"
   ],
   "metadata": {
    "collapsed": false,
    "pycharm": {
     "name": "#%%\n"
    }
   }
  },
  {
   "cell_type": "code",
   "execution_count": 134,
   "outputs": [],
   "source": [
    "text = \"\"\" A trie is a tree-like data structure whose nodes store the letters of an\n",
    "alphabet. By structuring the nodes in a particular way, words and strings can\n",
    "be retrieved from the structure by traversing down a branch path of the tree.\n",
    "Tries in the context of computer science are a relatively new thing. The first\n",
    "time that they were considered in computing was back in 1959, when a Frenchman\n",
    "named René de la Briandais suggested using them. According to Donald Knuth’s\n",
    "research in The Art of Computer Programming:\n",
    "Trie memory for computer searching was first recommended by René de la\n",
    "Briandais. He pointed out that we can save memory space at the expense of\n",
    "running time if we use a linked list for each node vector, since most of the\n",
    "entries in the vectors tend to be empty.\n",
    "The original idea behind using tries as a computing structure was that they\n",
    "could be a nice compromise between running time and memory. But we’ll come\n",
    "back to that in a bit. First, let’s take a step back and try and understand\n",
    "what exactly this structure looks like to start.\n",
    "\n",
    "The size of a trie correlates to the size of the alphabet it represents.\n",
    "We know that tries are often used to represent words in an alphabet. In the\n",
    "illustration shown here, we can start to get a sense of how exactly that\n",
    "representation works.\n",
    "Each trie has an empty root node, with links or references to other nodes —\n",
    "one for each possible alphabetic value.\n",
    "The shape and the structure of a trie is always a set of linked nodes,\n",
    "connecting back to an empty root node. An important thing to note is that\n",
    "the number of child nodes in a trie depends completely upon the total number\n",
    "of values possible. For example, if we are representing the English alphabet,\n",
    "then the total number of child nodes is directly connected to the total number\n",
    "of letters possible. In the English alphabet, there are 26 letters, so the\n",
    "total number of child nodes will be 26.\n",
    "\"\"\""
   ],
   "metadata": {
    "collapsed": false,
    "pycharm": {
     "name": "#%%\n"
    }
   }
  },
  {
   "cell_type": "code",
   "execution_count": 135,
   "outputs": [
    {
     "data": {
      "text/plain": "'A --ie -s a --ee-like data ---ucture --ose -odes --ore --e ---ters of -n -lphabet. -y --------ing --e -odes -n a particular --y, -ords -nd --rings can -e --trieved --om --e ---ucture -y -raversing --wn a -ranch --th of --e --ee. --ies -n --e ---text of ----uter -cience -re a --latively -ew --ing. --e first -ime -hat ---y --re ---sidered -n ------ing was back -n 1959, --en a -renchman named --né -e la --iandais -uggested --ing --em. according -o -onald Knuth s --search -n --e --t of ----uter -rogramming: --ie memory -or ----uter -earching was first recommended -y --né -e la --iandais. -e -ointed -ut -hat -e can save memory -pace -t --e --pense of -unning -ime -f -e -se a --nked --st -or each -ode -ector, -ince -ost of --e --tries -n --e -ectors -end -o -e -mpty. --e -riginal idea -ehind --ing --ies -s a ------ing ---ucture was -hat ---y --uld -e a -ice ----romise --tween -unning -ime -nd memory. -ut -e ll -ome back -o -hat -n a -it. first, let s take a --ep back -nd --y -nd understand -hat -xactly ---s ---ucture -ooks -ike -o -tart. --e --ze of a --ie --rrelates -o --e --ze of --e -lphabet -t ---------s. -e know -hat --ies -re often -sed -o --present -ords -n -n -lphabet. -n --e -llustration --own -ere, -e can -tart -o get a --nse of -ow -xactly -hat --presentation ---ks. each --ie has -n -mpty -oot -ode, --th ----s -r --ferences -o -ther -odes -ne -or each --ssible -lphabetic value. --e -hape -nd --e ---ucture of a --ie -s --ways a --t of --nked -odes, -------ing back -o -n -mpty -oot -ode. -n -mportant --ing -o --te -s -hat --e -umber of -hild -odes -n a --ie -epends ---pletely -pon --e -otal -umber of values --ssible. -or ---mple, -f -e -re ---------ing --e -nglish -lphabet, ---n --e -otal -umber of -hild -odes -s -irectly --nnected -o --e -otal -umber of ---ters --ssible. -n --e -nglish -lphabet, ---re -re 26 ---ters, -o --e -otal -umber of -hild -odes -ill -e 26.'"
     },
     "execution_count": 135,
     "metadata": {},
     "output_type": "execute_result"
    }
   ],
   "source": [
    "compress_text(text)"
   ],
   "metadata": {
    "collapsed": false,
    "pycharm": {
     "name": "#%%\n"
    }
   }
  },
  {
   "cell_type": "code",
   "execution_count": 136,
   "outputs": [
    {
     "data": {
      "text/plain": "\" A trie is a tree-like data structure whose nodes store the letters of an alphabet. By structuring the nodes in a particular way, words and strings can be retrieved from the structure by traversing down a branch path of the tree. Tries in the context of computer science are a relatively new thing. The first time that they were considered in computing was back in 1959, when a Frenchman named René de la Briandais suggested using them. According to Donald Knuth's research in The Art of Computer Programming: Trie memory for computer searching was first recommended by René de la Briandais. He pointed out that we can save memory space at the expense of running time if we use a linked list for each node vector, since most of the entries in the vectors tend to be empty. The original idea behind using tries as a computing structure was that they could be a nice compromise between running time and memory. But we'll come back to that in a bit. First, let's take a step back and try and understand what exactly this structure looks like to start. The size of a trie correlates to the size of the alphabet it represents. We know that tries are often used to represent words in an alphabet. In the illustration shown here, we can start to get a sense of how exactly that representation works. Each trie has an empty root node, with links or references to other nodes — one for each possible alphabetic value. The shape and the structure of a trie is always a set of linked nodes, connecting back to an empty root node. An important thing to note is that the number of child nodes in a trie depends completely upon the total number of values possible. For example, if we are representing the English alphabet, then the total number of child nodes is directly connected to the total number of letters possible. In the English alphabet, there are 26 letters, so the total number of child nodes will be 26. \""
     },
     "execution_count": 136,
     "metadata": {},
     "output_type": "execute_result"
    }
   ],
   "source": [
    "# Exercise: 4-31\n",
    "# Obtain some raw text, in the form of a single, long string. Use Python’s textwrap module to break it up into\n",
    "# multiple lines. Now write code to add extra spaces between words, in order to justify the output. Each line must\n",
    "# have the same width, and spaces must be approximately evenly distributed across each line. No line can begin\n",
    "# or end with a space.\n",
    "\n",
    "text = re.sub(r'\\n', ' ', text)\n",
    "text = re.sub(r' +', ' ', text)\n",
    "text = re.sub(r'’', \"'\", text)\n",
    "text"
   ],
   "metadata": {
    "collapsed": false,
    "pycharm": {
     "name": "#%%\n"
    }
   }
  },
  {
   "cell_type": "code",
   "execution_count": 137,
   "outputs": [],
   "source": [
    "import re, textwrap, random\n",
    "\n",
    "def get_length(items):\n",
    "    \"\"\"\n",
    "    Find total length of strings inside a list,\n",
    "    including spaces\n",
    "    \"\"\"\n",
    "\n",
    "    return sum([len(i) for i in items])\n",
    "\n",
    "\n",
    "def distribute_paragraph(text, width):\n",
    "    \"\"\"\n",
    "    Add spaces to words in text so that\n",
    "    each line is printed with a uniform width\n",
    "    \"\"\"\n",
    "    splitted = textwrap.wrap(' '.join([text]), width)\n",
    "\n",
    "    for line in splitted:\n",
    "\n",
    "        items = line.split()\n",
    "\n",
    "        # evenly add spaces to each item (except the last item)\n",
    "        # until the difference between the new length of the line\n",
    "        # and the width is zero, or less than the number of items\n",
    "        for j in range((width - get_length(items)) // len(items)):\n",
    "            for i in range(len(items) - 1):\n",
    "                items[i] += ' '\n",
    "\n",
    "        # add spaces to random items until width is reached\n",
    "        for si in random.sample(range(0, len(items) - 1),\n",
    "                                width - get_length(items)):\n",
    "            items[si] = items[si] + ' '\n",
    "\n",
    "        print(''.join(items))"
   ],
   "metadata": {
    "collapsed": false,
    "pycharm": {
     "name": "#%%\n"
    }
   }
  },
  {
   "cell_type": "code",
   "execution_count": 138,
   "outputs": [
    {
     "name": "stdout",
     "output_type": "stream",
     "text": [
      "A trie is a tree-like data structure  whose nodes store  the\n",
      "letters  of an alphabet.  By  structuring  the  nodes  in  a\n",
      "particular way, words and strings can be retrieved from  the\n",
      "structure  by  traversing  down  a branch path  of the tree.\n",
      "Tries in  the context of  computer science are  a relatively\n",
      "new thing.  The  first  time that they  were  considered  in\n",
      "computing was back  in 1959, when  a Frenchman named René de\n",
      "la  Briandais  suggested  using  them.  According to  Donald\n",
      "Knuth's research in The Art  of Computer  Programming:  Trie\n",
      "memory for computer searching was first recommended by  René\n",
      "de  la Briandais. He pointed out  that  we can  save  memory\n",
      "space at the expense of running time if we use a linked list\n",
      "for  each  node vector,  since  most of  the entries  in the\n",
      "vectors  tend  to  be  empty. The original idea behind using\n",
      "tries as a computing structure was that they could be a nice\n",
      "compromise between running time and memory.  But  we'll come\n",
      "back to that in a bit. First, let's take a step back and try\n",
      "and understand  what exactly  this structure  looks like  to\n",
      "start.  The size of a trie  correlates  to the size  of  the\n",
      "alphabet it represents. We know that tries are often used to\n",
      "represent  words in an alphabet.  In  the illustration shown\n",
      "here,  we  can  start to  get a sense  of  how  exactly that\n",
      "representation works. Each trie has an empty root node, with\n",
      "links  or references  to other nodes — one for each possible\n",
      "alphabetic value. The shape and  the  structure of a trie is\n",
      "always a  set  of linked nodes, connecting back to  an empty\n",
      "root  node. An important thing to note is that the number of\n",
      "child nodes  in  a  trie depends completely  upon  the total\n",
      "number   of   values  possible.   For  example,  if  we  are\n",
      "representing  the English alphabet, then the total number of\n",
      "child nodes  is directly connected  to the  total  number of\n",
      "letters  possible.  In the  English alphabet, there  are  26\n",
      "letters, so  the total number  of  child  nodes will be  26.\n"
     ]
    }
   ],
   "source": [
    "distribute_paragraph(text, width = 60)"
   ],
   "metadata": {
    "collapsed": false,
    "pycharm": {
     "name": "#%%\n"
    }
   }
  },
  {
   "cell_type": "code",
   "execution_count": 139,
   "outputs": [],
   "source": [
    "# Exercise: 4-32\n",
    "# Develop a simple extractive summarization tool, that prints the sentences of a document which contain the\n",
    "# highest total word frequency. Use FreqDist() to count word frequencies, and use sum to sum the frequencies of\n",
    "# the words in each sentence. Rank the sentences according to their score. Finally, print the n highest-scoring\n",
    "# sentences in document order. Carefully review the design of your program, especially your approach to this\n",
    "# double sorting. Make sure the program is written as clearly as possible.\n",
    "\n",
    "tokenizer = nltk.tokenize.RegexpTokenizer(r'\\w+')\n",
    "sentence_tokenizer = nltk.data.load('tokenizers/punkt/english.pickle')\n",
    "\n",
    "def extract_summaries(text, n):\n",
    "    \"\"\"\n",
    "    Tokenize sentences in a text and rank these sentences based\n",
    "    on the sum of the frequency scores of their constituent\n",
    "    words.  Return the top n sentences and their scores.\n",
    "    \"\"\"\n",
    "\n",
    "    sents = sentence_tokenizer.tokenize(text)\n",
    "\n",
    "    # frequencies of tokenized words\n",
    "    fd = nltk.FreqDist(tokenizer.tokenize(text))\n",
    "\n",
    "    # create scores and sort a list based on these scores\n",
    "    top_n = list(sorted(set([(sum([fd[w.lower()] for w in s]), s) for s in sents]), reverse = True))\n",
    "\n",
    "    # return top n scores\n",
    "    return [(top_n[i][1], \"Score: {}\".format(top_n[i][0])) for i in range(n)]"
   ],
   "metadata": {
    "collapsed": false,
    "pycharm": {
     "name": "#%%\n"
    }
   }
  },
  {
   "cell_type": "code",
   "execution_count": 140,
   "outputs": [
    {
     "data": {
      "text/plain": "[('By structuring the nodes in a particular way, words and strings can be retrieved from the structure by traversing down a branch path of the tree.',\n  'Score: 164'),\n (\"According to Donald Knuth's research in The Art of Computer Programming: Trie memory for computer searching was first recommended by René de la Briandais.\",\n  'Score: 162'),\n (\"First, let's take a step back and try and understand what exactly this structure looks like to start.\",\n  'Score: 151'),\n ('The first time that they were considered in computing was back in 1959, when a Frenchman named René de la Briandais suggested using them.',\n  'Score: 149'),\n ('The shape and the structure of a trie is always a set of linked nodes, connecting back to an empty root node.',\n  'Score: 132')]"
     },
     "execution_count": 140,
     "metadata": {},
     "output_type": "execute_result"
    }
   ],
   "source": [
    "extract_summaries(text, 5)"
   ],
   "metadata": {
    "collapsed": false,
    "pycharm": {
     "name": "#%%\n"
    }
   }
  },
  {
   "cell_type": "code",
   "execution_count": 141,
   "outputs": [
    {
     "name": "stdout",
     "output_type": "stream",
     "text": [
      "<breakdown.n.03: PosScore=0.0 NegScore=0.25>\n"
     ]
    }
   ],
   "source": [
    "# Exercise: 4-33\n",
    "# Read the following article on semantic orientation of adjectives. Use the NetworkX package to visualize a network\n",
    "# of adjectives with edges to indicate same versus different semantic orientation\n",
    "# (see http://www.aclweb.org/anthology/P97-1023).\n",
    "\n",
    "from nltk.corpus import sentiwordnet as swn\n",
    "\n",
    "breakdown = swn.senti_synset('breakdown.n.03')\n",
    "print(breakdown)"
   ],
   "metadata": {
    "collapsed": false,
    "pycharm": {
     "name": "#%%\n"
    }
   }
  },
  {
   "cell_type": "code",
   "execution_count": 142,
   "outputs": [],
   "source": [
    "# Exercise: 4-34\n",
    "# Design an algorithm to find the “statistically improbable phrases” of a document collection\n",
    "# (see http://www.amazon.com/gp/search-inside/sipshelp.html).\n",
    "\n",
    "from nltk.corpus import brown\n",
    "import math\n",
    "\n",
    "# make a list of all the bigrams in the corpus\n",
    "brown_bigrams = [i for f in brown.fileids() for s in brown.sents(f) for i in list(nltk.bigrams([w.lower() for w in s]))]\n",
    "\n",
    "# create a FreqDist of bigram counts in the corpus\n",
    "bbfd = nltk.FreqDist(brown_bigrams)\n",
    "\n",
    "def find_brown_sip(doc, n):\n",
    "\n",
    "    # a list of all the bigrams in the test document\n",
    "    bigram_x = [i for s in brown.sents(doc) for i in list(nltk.bigrams([w.lower() for w in s]))]\n",
    "\n",
    "    # FreqDist of bigrams in the test document\n",
    "    fd = nltk.FreqDist(bigram_x)\n",
    "\n",
    "    # make a list of TF/IDF scores for each bigram in the test document\n",
    "    tfidf_scores = []\n",
    "\n",
    "    for bx in bigram_x:\n",
    "        tf =  fd[bx] / len(bigram_x)\n",
    "        idf = math.log(len(brown.fileids())/bbfd[bx])\n",
    "        tfidf_scores.append(((tf * idf), bx))\n",
    "\n",
    "    # print the ten highest scoring bigrams\n",
    "    return sorted(set(tfidf_scores), reverse = True)[:n]"
   ],
   "metadata": {
    "collapsed": false,
    "pycharm": {
     "name": "#%%\n"
    }
   }
  },
  {
   "cell_type": "code",
   "execution_count": 143,
   "outputs": [
    {
     "name": "stdout",
     "output_type": "stream",
     "text": [
      "cg69\n"
     ]
    },
    {
     "data": {
      "text/plain": "[(0.015864319220051857, ('science', 'fiction')),\n (0.015379179791481817, ('space', 'merchants')),\n (0.010899961895330268, ('the', 'space')),\n (0.009794066750293687, (\"childhood's\", 'end')),\n (0.009794066750293687, ('(', '1954')),\n (0.00879448438269323, ('1954', ')')),\n (0.008319912814606862, ('and', 'technology')),\n (0.008214910654704043, ('science-fiction', 'writers')),\n (0.007525050836570203, ('1953', ')')),\n (0.007525050836570203, ('(', '1953'))]"
     },
     "execution_count": 143,
     "metadata": {},
     "output_type": "execute_result"
    }
   ],
   "source": [
    "import random\n",
    "\n",
    "x = brown.fileids()[random.randint(0, 500)]\n",
    "print(x)\n",
    "find_brown_sip(x, 10)"
   ],
   "metadata": {
    "collapsed": false,
    "pycharm": {
     "name": "#%%\n"
    }
   }
  },
  {
   "cell_type": "code",
   "execution_count": 145,
   "outputs": [],
   "source": [
    "# Exercise: 4-35\n",
    "# Write a program to implement a brute-force algorithm for discovering word squares, a kind of n × n: crossword in\n",
    "# which the entry in the nth row is the same as the entry in the nth column. For discussion,\n",
    "# see http://itre.cis.upenn.edu/~myl/languagelog/archives/002679.html.\n",
    "\n",
    "import time\n",
    "\n",
    "start = time.time()\n",
    "\n",
    "\n",
    "def make_fourletter_wordlist():\n",
    "    \"\"\"\n",
    "    Reads lines from word.txt and\n",
    "    makes a list using append.\n",
    "    \"\"\"\n",
    "    fin = open('words.txt')\n",
    "    t = []\n",
    "\n",
    "    for line in fin:\n",
    "        word = line.strip()\n",
    "        if len(word) == 4:\n",
    "            t.append(word)\n",
    "    return t\n",
    "\n",
    "fw = make_fourletter_wordlist()\n",
    "\n",
    "# making dictionaries of first, first-second, and first-third letters\n",
    "\n",
    "d = {}\n",
    "\n",
    "for word in fw:\n",
    "    for i in range(4):\n",
    "        d.setdefault(word[0:i], []).append(word)\n",
    "\n",
    "word_squares = []\n",
    "\n",
    "for w in fw:\n",
    "    test = w\n",
    "    check1 = test[1]\n",
    "    if check1 in d:\n",
    "        for cand1 in d[check1]:\n",
    "            check2 = test[2] + cand1[2]\n",
    "            if check2 in d:\n",
    "                for cand2 in d[check2]:\n",
    "                    check3 = test[3] + cand1[3] + cand2[3]\n",
    "                    if check3 in d:\n",
    "                        for cand3 in d[check3]:\n",
    "                            word_squares.append([test, cand1, cand2, cand3])\n",
    "\n",
    "end = time.time()"
   ],
   "metadata": {
    "collapsed": false,
    "pycharm": {
     "name": "#%%\n"
    }
   }
  },
  {
   "cell_type": "code",
   "execution_count": 146,
   "outputs": [
    {
     "name": "stdout",
     "output_type": "stream",
     "text": [
      "2126574\n",
      "Total elapsed time for the non-recursive version of the 4x4 puzzle: 2.8563 seconds\n"
     ]
    }
   ],
   "source": [
    "print(len(word_squares))\n",
    "print(\"Total elapsed time for the non-recursive version of the 4x4 puzzle: {:.4f} seconds\".format(end - start))"
   ],
   "metadata": {
    "collapsed": false,
    "pycharm": {
     "name": "#%%\n"
    }
   }
  },
  {
   "cell_type": "code",
   "execution_count": null,
   "outputs": [],
   "source": [],
   "metadata": {
    "collapsed": false,
    "pycharm": {
     "name": "#%%\n"
    }
   }
  }
 ],
 "metadata": {
  "kernelspec": {
   "display_name": "Python 3",
   "language": "python",
   "name": "python3"
  },
  "language_info": {
   "codemirror_mode": {
    "name": "ipython",
    "version": 2
   },
   "file_extension": ".py",
   "mimetype": "text/x-python",
   "name": "python",
   "nbconvert_exporter": "python",
   "pygments_lexer": "ipython2",
   "version": "2.7.6"
  }
 },
 "nbformat": 4,
 "nbformat_minor": 0
}