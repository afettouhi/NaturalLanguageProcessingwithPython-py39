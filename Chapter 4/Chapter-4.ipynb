{
 "cells": [
  {
   "cell_type": "code",
   "execution_count": 1,
   "metadata": {
    "collapsed": true
   },
   "outputs": [
    {
     "data": {
      "text/plain": "'Monty'"
     },
     "execution_count": 1,
     "metadata": {},
     "output_type": "execute_result"
    }
   ],
   "source": [
    "foo = 'Monty'\n",
    "bar = foo\n",
    "foo = 'Python'\n",
    "bar"
   ]
  },
  {
   "cell_type": "code",
   "execution_count": 2,
   "outputs": [
    {
     "data": {
      "text/plain": "['Monty', 'Bodkin']"
     },
     "execution_count": 2,
     "metadata": {},
     "output_type": "execute_result"
    }
   ],
   "source": [
    "foo = ['Monty', 'Python']\n",
    "bar = foo\n",
    "foo[1] = 'Bodkin'\n",
    "bar"
   ],
   "metadata": {
    "collapsed": false,
    "pycharm": {
     "name": "#%%\n"
    }
   }
  },
  {
   "cell_type": "code",
   "execution_count": 3,
   "outputs": [
    {
     "data": {
      "text/plain": "[[], [], []]"
     },
     "execution_count": 3,
     "metadata": {},
     "output_type": "execute_result"
    }
   ],
   "source": [
    "empty = []\n",
    "nested = [empty, empty, empty]\n",
    "nested"
   ],
   "metadata": {
    "collapsed": false,
    "pycharm": {
     "name": "#%%\n"
    }
   }
  },
  {
   "cell_type": "code",
   "execution_count": 4,
   "outputs": [
    {
     "data": {
      "text/plain": "[['Python'], ['Python'], ['Python']]"
     },
     "execution_count": 4,
     "metadata": {},
     "output_type": "execute_result"
    }
   ],
   "source": [
    "nested[1].append('Python')\n",
    "nested"
   ],
   "metadata": {
    "collapsed": false,
    "pycharm": {
     "name": "#%%\n"
    }
   }
  },
  {
   "cell_type": "code",
   "execution_count": 5,
   "outputs": [
    {
     "data": {
      "text/plain": "[['Python'], ['Monty'], ['Python']]"
     },
     "execution_count": 5,
     "metadata": {},
     "output_type": "execute_result"
    }
   ],
   "source": [
    "nested = [[]] * 3\n",
    "nested[1].append('Python')\n",
    "nested[1] = ['Monty']\n",
    "nested"
   ],
   "metadata": {
    "collapsed": false,
    "pycharm": {
     "name": "#%%\n"
    }
   }
  },
  {
   "cell_type": "code",
   "execution_count": 6,
   "outputs": [
    {
     "data": {
      "text/plain": "True"
     },
     "execution_count": 6,
     "metadata": {},
     "output_type": "execute_result"
    }
   ],
   "source": [
    "size = 5\n",
    "python = ['Python']\n",
    "snake_nest = [python] * size\n",
    "snake_nest[0] == snake_nest[1] == snake_nest[2] == snake_nest[3] == snake_nest[4]"
   ],
   "metadata": {
    "collapsed": false,
    "pycharm": {
     "name": "#%%\n"
    }
   }
  },
  {
   "cell_type": "code",
   "execution_count": 7,
   "outputs": [
    {
     "data": {
      "text/plain": "True"
     },
     "execution_count": 7,
     "metadata": {},
     "output_type": "execute_result"
    }
   ],
   "source": [
    "snake_nest[0] is snake_nest[1] is snake_nest[2] is snake_nest[3] is snake_nest[4]"
   ],
   "metadata": {
    "collapsed": false,
    "pycharm": {
     "name": "#%%\n"
    }
   }
  },
  {
   "cell_type": "code",
   "execution_count": 8,
   "outputs": [
    {
     "data": {
      "text/plain": "[['Python'], ['Python'], ['Python'], ['Python'], ['Python']]"
     },
     "execution_count": 8,
     "metadata": {},
     "output_type": "execute_result"
    }
   ],
   "source": [
    "import random\n",
    "position = random.choice(range(size))\n",
    "snake_nest[position] = ['Python']\n",
    "snake_nest"
   ],
   "metadata": {
    "collapsed": false,
    "pycharm": {
     "name": "#%%\n"
    }
   }
  },
  {
   "cell_type": "code",
   "execution_count": 9,
   "outputs": [
    {
     "data": {
      "text/plain": "True"
     },
     "execution_count": 9,
     "metadata": {},
     "output_type": "execute_result"
    }
   ],
   "source": [
    "snake_nest[0] == snake_nest[1] == snake_nest[2] == snake_nest[3] == snake_nest[4]"
   ],
   "metadata": {
    "collapsed": false,
    "pycharm": {
     "name": "#%%\n"
    }
   }
  },
  {
   "cell_type": "code",
   "execution_count": 10,
   "outputs": [
    {
     "data": {
      "text/plain": "False"
     },
     "execution_count": 10,
     "metadata": {},
     "output_type": "execute_result"
    }
   ],
   "source": [
    "snake_nest[0] is snake_nest[1] is snake_nest[2] is snake_nest[3] is snake_nest[4]"
   ],
   "metadata": {
    "collapsed": false,
    "pycharm": {
     "name": "#%%\n"
    }
   }
  },
  {
   "cell_type": "code",
   "execution_count": 11,
   "outputs": [
    {
     "data": {
      "text/plain": "[140526032008320,\n 140526031917824,\n 140526032008320,\n 140526032008320,\n 140526032008320]"
     },
     "execution_count": 11,
     "metadata": {},
     "output_type": "execute_result"
    }
   ],
   "source": [
    "[id(snake) for snake in snake_nest]"
   ],
   "metadata": {
    "collapsed": false,
    "pycharm": {
     "name": "#%%\n"
    }
   }
  },
  {
   "cell_type": "code",
   "execution_count": 12,
   "outputs": [
    {
     "name": "stdout",
     "output_type": "stream",
     "text": [
      "cat\n",
      "['dog']\n"
     ]
    }
   ],
   "source": [
    "mixed = ['cat', '', ['dog'], []]\n",
    "for element in mixed:\n",
    "    if element:\n",
    "        print(element)"
   ],
   "metadata": {
    "collapsed": false,
    "pycharm": {
     "name": "#%%\n"
    }
   }
  },
  {
   "cell_type": "code",
   "execution_count": 13,
   "outputs": [
    {
     "name": "stdout",
     "output_type": "stream",
     "text": [
      "1\n"
     ]
    }
   ],
   "source": [
    "animals = ['cat', 'dog']\n",
    "if 'cat' in animals:\n",
    "    print(1)\n",
    "elif 'dog' in animals:\n",
    "    print(2)"
   ],
   "metadata": {
    "collapsed": false,
    "pycharm": {
     "name": "#%%\n"
    }
   }
  },
  {
   "cell_type": "code",
   "execution_count": 14,
   "outputs": [
    {
     "data": {
      "text/plain": "False"
     },
     "execution_count": 14,
     "metadata": {},
     "output_type": "execute_result"
    }
   ],
   "source": [
    "sent = ['No', 'good', 'fish', 'goes', 'anywhere', 'without', 'a', 'porpoise', '.']\n",
    "all(len(w) > 4 for w in sent)"
   ],
   "metadata": {
    "collapsed": false,
    "pycharm": {
     "name": "#%%\n"
    }
   }
  },
  {
   "cell_type": "code",
   "execution_count": 15,
   "outputs": [
    {
     "data": {
      "text/plain": "True"
     },
     "execution_count": 15,
     "metadata": {},
     "output_type": "execute_result"
    }
   ],
   "source": [
    "any(len(w) > 4 for w in sent)"
   ],
   "metadata": {
    "collapsed": false,
    "pycharm": {
     "name": "#%%\n"
    }
   }
  },
  {
   "cell_type": "code",
   "execution_count": 16,
   "outputs": [
    {
     "data": {
      "text/plain": "('walk', 'fem', 3)"
     },
     "execution_count": 16,
     "metadata": {},
     "output_type": "execute_result"
    }
   ],
   "source": [
    "t = 'walk', 'fem', 3\n",
    "t"
   ],
   "metadata": {
    "collapsed": false,
    "pycharm": {
     "name": "#%%\n"
    }
   }
  },
  {
   "cell_type": "code",
   "execution_count": 17,
   "outputs": [
    {
     "data": {
      "text/plain": "'walk'"
     },
     "execution_count": 17,
     "metadata": {},
     "output_type": "execute_result"
    }
   ],
   "source": [
    "t[0]"
   ],
   "metadata": {
    "collapsed": false,
    "pycharm": {
     "name": "#%%\n"
    }
   }
  },
  {
   "cell_type": "code",
   "execution_count": 18,
   "outputs": [
    {
     "data": {
      "text/plain": "('fem', 3)"
     },
     "execution_count": 18,
     "metadata": {},
     "output_type": "execute_result"
    }
   ],
   "source": [
    "t[1:]"
   ],
   "metadata": {
    "collapsed": false,
    "pycharm": {
     "name": "#%%\n"
    }
   }
  },
  {
   "cell_type": "code",
   "execution_count": 19,
   "outputs": [
    {
     "data": {
      "text/plain": "3"
     },
     "execution_count": 19,
     "metadata": {},
     "output_type": "execute_result"
    }
   ],
   "source": [
    "len(t)"
   ],
   "metadata": {
    "collapsed": false,
    "pycharm": {
     "name": "#%%\n"
    }
   }
  },
  {
   "cell_type": "code",
   "execution_count": 20,
   "outputs": [
    {
     "data": {
      "text/plain": "('t', 'the', 'turned')"
     },
     "execution_count": 20,
     "metadata": {},
     "output_type": "execute_result"
    }
   ],
   "source": [
    "raw = 'I turned off the spectroroute'\n",
    "text = ['I', 'turned', 'off', 'the', 'spectroroute']\n",
    "pair = (6, 'turned')\n",
    "raw[2], text[3], pair[1]"
   ],
   "metadata": {
    "collapsed": false,
    "pycharm": {
     "name": "#%%\n"
    }
   }
  },
  {
   "cell_type": "code",
   "execution_count": 21,
   "outputs": [
    {
     "data": {
      "text/plain": "('ute', ['off', 'the', 'spectroroute'], (6, 'turned'))"
     },
     "execution_count": 21,
     "metadata": {},
     "output_type": "execute_result"
    }
   ],
   "source": [
    "raw[-3:], text[-3:], pair[-3:]"
   ],
   "metadata": {
    "collapsed": false,
    "pycharm": {
     "name": "#%%\n"
    }
   }
  },
  {
   "cell_type": "code",
   "execution_count": 22,
   "outputs": [
    {
     "data": {
      "text/plain": "(29, 5, 2)"
     },
     "execution_count": 22,
     "metadata": {},
     "output_type": "execute_result"
    }
   ],
   "source": [
    "len(raw), len(text), len(pair)"
   ],
   "metadata": {
    "collapsed": false,
    "pycharm": {
     "name": "#%%\n"
    }
   }
  },
  {
   "cell_type": "code",
   "execution_count": 23,
   "outputs": [],
   "source": [
    "text = ['I', 'turned', 'off', 'the', 'spectroroute']\n",
    "stext = set(text)"
   ],
   "metadata": {
    "collapsed": false,
    "pycharm": {
     "name": "#%%\n"
    }
   }
  },
  {
   "cell_type": "code",
   "execution_count": 24,
   "outputs": [
    {
     "data": {
      "text/plain": "{'I', 'off', 'spectroroute', 'the', 'turned'}"
     },
     "execution_count": 24,
     "metadata": {},
     "output_type": "execute_result"
    }
   ],
   "source": [
    "stext"
   ],
   "metadata": {
    "collapsed": false,
    "pycharm": {
     "name": "#%%\n"
    }
   }
  },
  {
   "cell_type": "code",
   "execution_count": 25,
   "outputs": [
    {
     "name": "stdout",
     "output_type": "stream",
     "text": [
      "off\n",
      "I\n",
      "spectroroute\n",
      "turned\n",
      "the\n"
     ]
    }
   ],
   "source": [
    "for st in stext:\n",
    "    print(st)"
   ],
   "metadata": {
    "collapsed": false,
    "pycharm": {
     "name": "#%%\n"
    }
   }
  },
  {
   "cell_type": "code",
   "execution_count": 26,
   "outputs": [
    {
     "data": {
      "text/plain": "['lorry', ',', 'yellow', 'Red', 'red', '.']"
     },
     "execution_count": 26,
     "metadata": {},
     "output_type": "execute_result"
    }
   ],
   "source": [
    "import nltk\n",
    "raw = 'Red lorry, yellow lorry, red lorry, yellow lorry.'\n",
    "text = nltk.word_tokenize(raw)\n",
    "fdist = nltk.FreqDist(text)\n",
    "list(fdist)"
   ],
   "metadata": {
    "collapsed": false,
    "pycharm": {
     "name": "#%%\n"
    }
   }
  },
  {
   "cell_type": "code",
   "execution_count": 27,
   "outputs": [
    {
     "name": "stdout",
     "output_type": "stream",
     "text": [
      "4\n",
      "3\n",
      "2\n",
      "1\n",
      "1\n",
      "1\n"
     ]
    }
   ],
   "source": [
    "for key in fdist:\n",
    "    print(fdist[key],)"
   ],
   "metadata": {
    "collapsed": false,
    "pycharm": {
     "name": "#%%\n"
    }
   }
  },
  {
   "cell_type": "code",
   "execution_count": 28,
   "outputs": [
    {
     "data": {
      "text/plain": "['I', 'turned', 'the', 'spectroroute', 'off']"
     },
     "execution_count": 28,
     "metadata": {},
     "output_type": "execute_result"
    }
   ],
   "source": [
    "words = ['I', 'turned', 'off', 'the', 'spectroroute']\n",
    "words[2], words[3], words[4] = words[3], words[4], words[2]\n",
    "words"
   ],
   "metadata": {
    "collapsed": false,
    "pycharm": {
     "name": "#%%\n"
    }
   }
  },
  {
   "cell_type": "code",
   "execution_count": 29,
   "outputs": [],
   "source": [
    "tmp = words[2]\n",
    "words[2] = words[3]\n",
    "words[3] = words[4]\n",
    "words[4] = tmp"
   ],
   "metadata": {
    "collapsed": false,
    "pycharm": {
     "name": "#%%\n"
    }
   }
  },
  {
   "cell_type": "code",
   "execution_count": 30,
   "outputs": [
    {
     "data": {
      "text/plain": "<zip at 0x7fce760cc900>"
     },
     "execution_count": 30,
     "metadata": {},
     "output_type": "execute_result"
    }
   ],
   "source": [
    "words = ['I', 'turned', 'off', 'the', 'spectroroute']\n",
    "tags = ['noun', 'verb', 'prep', 'det', 'noun']\n",
    "zip(words, tags)"
   ],
   "metadata": {
    "collapsed": false,
    "pycharm": {
     "name": "#%%\n"
    }
   }
  },
  {
   "cell_type": "code",
   "execution_count": 31,
   "outputs": [
    {
     "data": {
      "text/plain": "[(0, 'I'), (1, 'turned'), (2, 'off'), (3, 'the'), (4, 'spectroroute')]"
     },
     "execution_count": 31,
     "metadata": {},
     "output_type": "execute_result"
    }
   ],
   "source": [
    "list(enumerate(words))"
   ],
   "metadata": {
    "collapsed": false,
    "pycharm": {
     "name": "#%%\n"
    }
   }
  },
  {
   "cell_type": "code",
   "execution_count": 32,
   "outputs": [
    {
     "data": {
      "text/plain": "True"
     },
     "execution_count": 32,
     "metadata": {},
     "output_type": "execute_result"
    }
   ],
   "source": [
    "text = nltk.corpus.nps_chat.words()\n",
    "cut = int(0.9 * len(text))\n",
    "training_data, test_data = text[:cut], text[cut:]\n",
    "text == training_data + test_data"
   ],
   "metadata": {
    "collapsed": false,
    "pycharm": {
     "name": "#%%\n"
    }
   }
  },
  {
   "cell_type": "code",
   "execution_count": 33,
   "outputs": [
    {
     "data": {
      "text/plain": "9.0"
     },
     "execution_count": 33,
     "metadata": {},
     "output_type": "execute_result"
    }
   ],
   "source": [
    "len(training_data) / len(test_data)"
   ],
   "metadata": {
    "collapsed": false,
    "pycharm": {
     "name": "#%%\n"
    }
   }
  },
  {
   "cell_type": "code",
   "execution_count": 34,
   "outputs": [
    {
     "data": {
      "text/plain": "'I off the turned spectroroute'"
     },
     "execution_count": 34,
     "metadata": {},
     "output_type": "execute_result"
    }
   ],
   "source": [
    "words = 'I turned off the spectroroute'.split()\n",
    "wordlens = [(len(word), word) for word in words]\n",
    "wordlens.sort()\n",
    "' '.join(w for (_, w) in wordlens)"
   ],
   "metadata": {
    "collapsed": false,
    "pycharm": {
     "name": "#%%\n"
    }
   }
  },
  {
   "cell_type": "code",
   "execution_count": 35,
   "outputs": [],
   "source": [
    "lexicon = [\n",
    "    ('the', 'det', ['Di:', 'D@']),\n",
    "    ('off', 'prep', ['Qf', 'O:f'])\n",
    "]"
   ],
   "metadata": {
    "collapsed": false,
    "pycharm": {
     "name": "#%%\n"
    }
   }
  },
  {
   "cell_type": "code",
   "execution_count": 36,
   "outputs": [],
   "source": [
    "lexicon.sort()\n",
    "lexicon[1] = ('turned', 'VBD', ['t3:nd', 't3`nd'])\n",
    "del lexicon[0]"
   ],
   "metadata": {
    "collapsed": false,
    "pycharm": {
     "name": "#%%\n"
    }
   }
  },
  {
   "cell_type": "code",
   "execution_count": 37,
   "outputs": [],
   "source": [
    "lexicon = [\n",
    "    ('the', 'det', ['Di:', 'D@']),\n",
    "    ('off', 'prep', ['Qf', 'O:f'])\n",
    "]\n",
    "lexicon = tuple(lexicon)"
   ],
   "metadata": {
    "collapsed": false,
    "pycharm": {
     "name": "#%%\n"
    }
   }
  },
  {
   "cell_type": "code",
   "execution_count": 38,
   "outputs": [
    {
     "ename": "AttributeError",
     "evalue": "'tuple' object has no attribute 'sort'",
     "output_type": "error",
     "traceback": [
      "\u001B[0;31m---------------------------------------------------------------------------\u001B[0m",
      "\u001B[0;31mAttributeError\u001B[0m                            Traceback (most recent call last)",
      "\u001B[0;32m<ipython-input-38-eeaeb57cdfb7>\u001B[0m in \u001B[0;36m<module>\u001B[0;34m\u001B[0m\n\u001B[0;32m----> 1\u001B[0;31m \u001B[0mlexicon\u001B[0m\u001B[0;34m.\u001B[0m\u001B[0msort\u001B[0m\u001B[0;34m(\u001B[0m\u001B[0;34m)\u001B[0m\u001B[0;34m\u001B[0m\u001B[0;34m\u001B[0m\u001B[0m\n\u001B[0m\u001B[1;32m      2\u001B[0m \u001B[0;34m\u001B[0m\u001B[0m\n",
      "\u001B[0;31mAttributeError\u001B[0m: 'tuple' object has no attribute 'sort'"
     ]
    }
   ],
   "source": [
    "lexicon.sort()"
   ],
   "metadata": {
    "collapsed": false,
    "pycharm": {
     "name": "#%%\n"
    }
   }
  },
  {
   "cell_type": "code",
   "execution_count": 39,
   "outputs": [
    {
     "data": {
      "text/plain": "('off', 'prep', ['Qf', 'O:f'])"
     },
     "execution_count": 39,
     "metadata": {},
     "output_type": "execute_result"
    }
   ],
   "source": [
    "lexicon[1]"
   ],
   "metadata": {
    "collapsed": false,
    "pycharm": {
     "name": "#%%\n"
    }
   }
  },
  {
   "cell_type": "code",
   "execution_count": 40,
   "outputs": [
    {
     "ename": "TypeError",
     "evalue": "'tuple' object doesn't support item deletion",
     "output_type": "error",
     "traceback": [
      "\u001B[0;31m---------------------------------------------------------------------------\u001B[0m",
      "\u001B[0;31mTypeError\u001B[0m                                 Traceback (most recent call last)",
      "\u001B[0;32m<ipython-input-40-af613da3b605>\u001B[0m in \u001B[0;36m<module>\u001B[0;34m\u001B[0m\n\u001B[0;32m----> 1\u001B[0;31m \u001B[0;32mdel\u001B[0m \u001B[0mlexicon\u001B[0m\u001B[0;34m[\u001B[0m\u001B[0;36m0\u001B[0m\u001B[0;34m]\u001B[0m\u001B[0;34m\u001B[0m\u001B[0;34m\u001B[0m\u001B[0m\n\u001B[0m\u001B[1;32m      2\u001B[0m \u001B[0;34m\u001B[0m\u001B[0m\n",
      "\u001B[0;31mTypeError\u001B[0m: 'tuple' object doesn't support item deletion"
     ]
    }
   ],
   "source": [
    "del lexicon[0]"
   ],
   "metadata": {
    "collapsed": false,
    "pycharm": {
     "name": "#%%\n"
    }
   }
  },
  {
   "cell_type": "code",
   "execution_count": 41,
   "outputs": [],
   "source": [
    "text = '''\"When I use a word,\" Humpty Dumpty said in rather a scornful tone,\n",
    "\"it means just what I choose it to mean - neither more nor less.\"'''"
   ],
   "metadata": {
    "collapsed": false,
    "pycharm": {
     "name": "#%%\n"
    }
   }
  },
  {
   "cell_type": "code",
   "execution_count": 42,
   "outputs": [
    {
     "data": {
      "text/plain": "['``',\n 'when',\n 'i',\n 'use',\n 'a',\n 'word',\n ',',\n \"''\",\n 'humpty',\n 'dumpty',\n 'said',\n 'in',\n 'rather',\n 'a',\n 'scornful',\n 'tone',\n ',',\n \"''\",\n 'it',\n 'means',\n 'just',\n 'what',\n 'i',\n 'choose',\n 'it',\n 'to',\n 'mean',\n '-',\n 'neither',\n 'more',\n 'nor',\n 'less',\n '.',\n \"''\"]"
     },
     "execution_count": 42,
     "metadata": {},
     "output_type": "execute_result"
    }
   ],
   "source": [
    "[w.lower() for w in nltk.word_tokenize(text)]"
   ],
   "metadata": {
    "collapsed": false,
    "pycharm": {
     "name": "#%%\n"
    }
   }
  },
  {
   "cell_type": "code",
   "execution_count": 43,
   "outputs": [
    {
     "data": {
      "text/plain": "'word'"
     },
     "execution_count": 43,
     "metadata": {},
     "output_type": "execute_result"
    }
   ],
   "source": [
    "max([w.lower() for w in nltk.word_tokenize(text)])"
   ],
   "metadata": {
    "collapsed": false,
    "pycharm": {
     "name": "#%%\n"
    }
   }
  },
  {
   "cell_type": "code",
   "execution_count": 44,
   "outputs": [
    {
     "data": {
      "text/plain": "'word'"
     },
     "execution_count": 44,
     "metadata": {},
     "output_type": "execute_result"
    }
   ],
   "source": [
    "max(w.lower() for w in nltk.word_tokenize(text))"
   ],
   "metadata": {
    "collapsed": false,
    "pycharm": {
     "name": "#%%\n"
    }
   }
  },
  {
   "cell_type": "code",
   "execution_count": 45,
   "outputs": [],
   "source": [
    "import re\n",
    "rotokas_words = nltk.corpus.toolbox.words('rotokas.dic')\n",
    "cv_word_pairs = [(cv, w) for w in rotokas_words\n",
    "                         for cv in re.findall('[ptksvr][aeiou]', w)]"
   ],
   "metadata": {
    "collapsed": false,
    "pycharm": {
     "name": "#%%\n"
    }
   }
  },
  {
   "cell_type": "code",
   "execution_count": 46,
   "outputs": [],
   "source": [
    "from nltk.corpus import brown\n",
    "cfd = nltk.ConditionalFreqDist(\n",
    "          (genre, word)\n",
    "          for genre in brown.categories()\n",
    "          for word in brown.words(categories=genre))"
   ],
   "metadata": {
    "collapsed": false,
    "pycharm": {
     "name": "#%%\n"
    }
   }
  },
  {
   "cell_type": "code",
   "execution_count": 47,
   "outputs": [],
   "source": [
    "ha_words = ['aaahhhh', 'ah', 'ahah', 'ahahah', 'ahh', 'ahhahahaha',\n",
    "            'ahhh', 'ahhhh', 'ahhhhhh', 'ahhhhhhhhhhhhhh', 'ha',\n",
    "            'haaa', 'hah', 'haha', 'hahaaa', 'hahah', 'hahaha']"
   ],
   "metadata": {
    "collapsed": false,
    "pycharm": {
     "name": "#%%\n"
    }
   }
  },
  {
   "cell_type": "code",
   "execution_count": 48,
   "outputs": [],
   "source": [
    "syllables = ['N', 'IH0', 'K', 'S']\n",
    "if (len(syllables) > 4 and len(syllables[2]) == 3 and\n",
    "   syllables[2][2] in [aeiou] and syllables[2][3] == syllables[1][3]):\n",
    "    process(syllables)"
   ],
   "metadata": {
    "collapsed": false,
    "pycharm": {
     "name": "#%%\n"
    }
   }
  },
  {
   "cell_type": "code",
   "execution_count": 49,
   "outputs": [],
   "source": [
    "if len(syllables) > 4 and len(syllables[2]) == 3 and \\\n",
    "   syllables[2][2] in [aeiou] and syllables[2][3] == syllables[1][3]:\n",
    "    process(syllables)"
   ],
   "metadata": {
    "collapsed": false,
    "pycharm": {
     "name": "#%%\n"
    }
   }
  },
  {
   "cell_type": "code",
   "execution_count": 50,
   "outputs": [],
   "source": [
    "tokens = nltk.corpus.brown.words(categories='news')\n",
    "count = 0\n",
    "total = 0\n",
    "for token in tokens:\n",
    "    count += 1\n",
    "    total += len(token)"
   ],
   "metadata": {
    "collapsed": false,
    "pycharm": {
     "name": "#%%\n"
    }
   }
  },
  {
   "cell_type": "code",
   "execution_count": 51,
   "outputs": [
    {
     "name": "stdout",
     "output_type": "stream",
     "text": [
      "4.401545438271973\n"
     ]
    }
   ],
   "source": [
    "print(total / count)"
   ],
   "metadata": {
    "collapsed": false,
    "pycharm": {
     "name": "#%%\n"
    }
   }
  },
  {
   "cell_type": "code",
   "execution_count": 52,
   "outputs": [
    {
     "name": "stdout",
     "output_type": "stream",
     "text": [
      "4.401545438271973\n"
     ]
    }
   ],
   "source": [
    "total = sum(len(t) for t in tokens)\n",
    "print(total / len(tokens))"
   ],
   "metadata": {
    "collapsed": false,
    "pycharm": {
     "name": "#%%\n"
    }
   }
  },
  {
   "cell_type": "code",
   "execution_count": 53,
   "outputs": [
    {
     "ename": "IndexError",
     "evalue": "list index out of range",
     "output_type": "error",
     "traceback": [
      "\u001B[0;31m---------------------------------------------------------------------------\u001B[0m",
      "\u001B[0;31mIndexError\u001B[0m                                Traceback (most recent call last)",
      "\u001B[0;32m<ipython-input-53-79fe28878a62>\u001B[0m in \u001B[0;36m<module>\u001B[0;34m\u001B[0m\n\u001B[1;32m      6\u001B[0m     \u001B[0;32mwhile\u001B[0m \u001B[0mj\u001B[0m \u001B[0;34m<\u001B[0m \u001B[0mlen_word_list\u001B[0m \u001B[0;32mand\u001B[0m \u001B[0mword_list\u001B[0m\u001B[0;34m[\u001B[0m\u001B[0mj\u001B[0m\u001B[0;34m]\u001B[0m \u001B[0;34m<\u001B[0m \u001B[0mtokens\u001B[0m\u001B[0;34m[\u001B[0m\u001B[0mi\u001B[0m\u001B[0;34m]\u001B[0m\u001B[0;34m:\u001B[0m\u001B[0;34m\u001B[0m\u001B[0;34m\u001B[0m\u001B[0m\n\u001B[1;32m      7\u001B[0m         \u001B[0mj\u001B[0m \u001B[0;34m+=\u001B[0m \u001B[0;36m1\u001B[0m\u001B[0;34m\u001B[0m\u001B[0;34m\u001B[0m\u001B[0m\n\u001B[0;32m----> 8\u001B[0;31m     \u001B[0;32mif\u001B[0m \u001B[0mj\u001B[0m \u001B[0;34m==\u001B[0m \u001B[0;36m0\u001B[0m \u001B[0;32mor\u001B[0m \u001B[0mtokens\u001B[0m\u001B[0;34m[\u001B[0m\u001B[0mi\u001B[0m\u001B[0;34m]\u001B[0m \u001B[0;34m!=\u001B[0m \u001B[0mword_list\u001B[0m\u001B[0;34m[\u001B[0m\u001B[0mj\u001B[0m\u001B[0;34m]\u001B[0m\u001B[0;34m:\u001B[0m\u001B[0;34m\u001B[0m\u001B[0;34m\u001B[0m\u001B[0m\n\u001B[0m\u001B[1;32m      9\u001B[0m         \u001B[0mword_list\u001B[0m\u001B[0;34m.\u001B[0m\u001B[0minsert\u001B[0m\u001B[0;34m(\u001B[0m\u001B[0mj\u001B[0m\u001B[0;34m,\u001B[0m \u001B[0mtokens\u001B[0m\u001B[0;34m[\u001B[0m\u001B[0mi\u001B[0m\u001B[0;34m]\u001B[0m\u001B[0;34m)\u001B[0m\u001B[0;34m\u001B[0m\u001B[0;34m\u001B[0m\u001B[0m\n\u001B[1;32m     10\u001B[0m         \u001B[0mlen_word_list\u001B[0m \u001B[0;34m+=\u001B[0m \u001B[0;36m1\u001B[0m\u001B[0;34m\u001B[0m\u001B[0;34m\u001B[0m\u001B[0m\n",
      "\u001B[0;31mIndexError\u001B[0m: list index out of range"
     ]
    }
   ],
   "source": [
    "word_list = []\n",
    "len_word_list = len(word_list)\n",
    "i = 0\n",
    "while i < len(tokens):\n",
    "    j = 0\n",
    "    while j < len_word_list and word_list[j] < tokens[i]:\n",
    "        j += 1\n",
    "    if j == 0 or tokens[i] != word_list[j]:\n",
    "        word_list.insert(j, tokens[i])\n",
    "        len_word_list += 1\n",
    "    i += 1"
   ],
   "metadata": {
    "collapsed": false,
    "pycharm": {
     "name": "#%%\n"
    }
   }
  },
  {
   "cell_type": "code",
   "execution_count": 54,
   "outputs": [],
   "source": [
    "word_list = sorted(set(tokens))"
   ],
   "metadata": {
    "collapsed": false,
    "pycharm": {
     "name": "#%%\n"
    }
   }
  },
  {
   "cell_type": "code",
   "execution_count": 55,
   "outputs": [
    {
     "name": "stdout",
     "output_type": "stream",
     "text": [
      "  1   5.40% the\n",
      "  2  10.42% ,\n",
      "  3  14.67% .\n",
      "  4  17.78% of\n",
      "  5  20.19% and\n",
      "  6  22.40% to\n",
      "  7  24.29% a\n",
      "  8  25.97% in\n"
     ]
    }
   ],
   "source": [
    "fd = nltk.FreqDist(nltk.corpus.brown.words())\n",
    "cumulative = 0.0\n",
    "for rank, word in enumerate(fd):\n",
    "    cumulative += fd[word] * 100 / fd.N()\n",
    "    print(\"%3d %6.2f%% %s\" % (rank+1, cumulative, word))\n",
    "    if cumulative > 25:\n",
    "        break"
   ],
   "metadata": {
    "collapsed": false,
    "pycharm": {
     "name": "#%%\n"
    }
   }
  },
  {
   "cell_type": "code",
   "execution_count": 56,
   "outputs": [
    {
     "data": {
      "text/plain": "'unextinguishable'"
     },
     "execution_count": 56,
     "metadata": {},
     "output_type": "execute_result"
    }
   ],
   "source": [
    "text = nltk.corpus.gutenberg.words('milton-paradise.txt')\n",
    "longest = ''\n",
    "for word in text:\n",
    "    if len(word) > len(longest):\n",
    "        longest = word\n",
    "longest"
   ],
   "metadata": {
    "collapsed": false,
    "pycharm": {
     "name": "#%%\n"
    }
   }
  },
  {
   "cell_type": "code",
   "execution_count": 57,
   "outputs": [
    {
     "data": {
      "text/plain": "['unextinguishable',\n 'transubstantiate',\n 'inextinguishable',\n 'incomprehensible']"
     },
     "execution_count": 57,
     "metadata": {},
     "output_type": "execute_result"
    }
   ],
   "source": [
    "maxlen = max(len(word) for word in text)\n",
    "[word for word in text if len(word) == maxlen]"
   ],
   "metadata": {
    "collapsed": false,
    "pycharm": {
     "name": "#%%\n"
    }
   }
  },
  {
   "cell_type": "code",
   "execution_count": 58,
   "outputs": [
    {
     "data": {
      "text/plain": "[['The', 'dog', 'gave'],\n ['dog', 'gave', 'John'],\n ['gave', 'John', 'the'],\n ['John', 'the', 'newspaper']]"
     },
     "execution_count": 58,
     "metadata": {},
     "output_type": "execute_result"
    }
   ],
   "source": [
    "sent = ['The', 'dog', 'gave', 'John', 'the', 'newspaper']\n",
    "n = 3\n",
    "[sent[i:i+n] for i in range(len(sent)-n+1)]"
   ],
   "metadata": {
    "collapsed": false,
    "pycharm": {
     "name": "#%%\n"
    }
   }
  },
  {
   "cell_type": "code",
   "execution_count": 59,
   "outputs": [
    {
     "name": "stdout",
     "output_type": "stream",
     "text": [
      "[[set(), set(), set(), set(), set(), set(), set()],\n",
      " [set(), set(), set(), set(), set(), set(), set()],\n",
      " [set(), set(), set(), set(), set(), {'Alice'}, set()]]\n"
     ]
    }
   ],
   "source": [
    "import pprint\n",
    "m, n = 3, 7\n",
    "array = [[set() for i in range(n)] for j in range(m)]\n",
    "array[2][5].add('Alice')\n",
    "pprint.pprint(array)"
   ],
   "metadata": {
    "collapsed": false,
    "pycharm": {
     "name": "#%%\n"
    }
   }
  },
  {
   "cell_type": "code",
   "execution_count": 60,
   "outputs": [
    {
     "name": "stdout",
     "output_type": "stream",
     "text": [
      "[[{7}, {7}, {7}, {7}, {7}, {7}, {7}],\n",
      " [{7}, {7}, {7}, {7}, {7}, {7}, {7}],\n",
      " [{7}, {7}, {7}, {7}, {7}, {7}, {7}]]\n"
     ]
    }
   ],
   "source": [
    "array = [[set()] * n] * m\n",
    "array[2][5].add(7)\n",
    "pprint.pprint(array)"
   ],
   "metadata": {
    "collapsed": false,
    "pycharm": {
     "name": "#%%\n"
    }
   }
  },
  {
   "cell_type": "code",
   "execution_count": 61,
   "outputs": [],
   "source": [
    "import re\n",
    "def get_text(file):\n",
    "    \"\"\"Read text from a file, normalizing whitespace and stripping HTML markup.\"\"\"\n",
    "    text = open(file).read()\n",
    "    text = re.sub('\\s+', ' ', text)\n",
    "    text = re.sub(r'<.*?>', ' ', text)\n",
    "    return text"
   ],
   "metadata": {
    "collapsed": false,
    "pycharm": {
     "name": "#%%\n"
    }
   }
  },
  {
   "cell_type": "code",
   "execution_count": 62,
   "outputs": [
    {
     "name": "stdout",
     "output_type": "stream",
     "text": [
      "Help on function get_text in module __main__:\n",
      "\n",
      "get_text(file)\n",
      "    Read text from a file, normalizing whitespace and stripping HTML markup.\n",
      "\n"
     ]
    }
   ],
   "source": [
    "help(get_text)"
   ],
   "metadata": {
    "collapsed": false,
    "pycharm": {
     "name": "#%%\n"
    }
   }
  },
  {
   "cell_type": "code",
   "execution_count": 63,
   "outputs": [
    {
     "data": {
      "text/plain": "'Monty Python Monty Python Monty Python'"
     },
     "execution_count": 63,
     "metadata": {},
     "output_type": "execute_result"
    }
   ],
   "source": [
    "def repeat(msg, num):\n",
    "    return ' '.join([msg] * num)\n",
    "monty = 'Monty Python'\n",
    "repeat(monty, 3)"
   ],
   "metadata": {
    "collapsed": false,
    "pycharm": {
     "name": "#%%\n"
    }
   }
  },
  {
   "cell_type": "code",
   "execution_count": 64,
   "outputs": [
    {
     "data": {
      "text/plain": "'Monty Python'"
     },
     "execution_count": 64,
     "metadata": {},
     "output_type": "execute_result"
    }
   ],
   "source": [
    "def monty():\n",
    "    return \"Monty Python\"\n",
    "monty()"
   ],
   "metadata": {
    "collapsed": false,
    "pycharm": {
     "name": "#%%\n"
    }
   }
  },
  {
   "cell_type": "code",
   "execution_count": 65,
   "outputs": [
    {
     "data": {
      "text/plain": "'Monty Python Monty Python Monty Python'"
     },
     "execution_count": 65,
     "metadata": {},
     "output_type": "execute_result"
    }
   ],
   "source": [
    "repeat(monty(), 3)"
   ],
   "metadata": {
    "collapsed": false,
    "pycharm": {
     "name": "#%%\n"
    }
   }
  },
  {
   "cell_type": "code",
   "execution_count": 66,
   "outputs": [
    {
     "data": {
      "text/plain": "'Monty Python Monty Python Monty Python'"
     },
     "execution_count": 66,
     "metadata": {},
     "output_type": "execute_result"
    }
   ],
   "source": [
    "repeat('Monty Python', 3)"
   ],
   "metadata": {
    "collapsed": false,
    "pycharm": {
     "name": "#%%\n"
    }
   }
  },
  {
   "cell_type": "code",
   "execution_count": 67,
   "outputs": [],
   "source": [
    "def my_sort1(mylist):      # good: modifies its argument, no return value\n",
    "    mylist.sort()"
   ],
   "metadata": {
    "collapsed": false,
    "pycharm": {
     "name": "#%%\n"
    }
   }
  },
  {
   "cell_type": "code",
   "execution_count": 68,
   "outputs": [],
   "source": [
    "def my_sort2(mylist):      # good: doesn't touch its argument, returns value\n",
    "    return sorted(mylist)"
   ],
   "metadata": {
    "collapsed": false,
    "pycharm": {
     "name": "#%%\n"
    }
   }
  },
  {
   "cell_type": "code",
   "execution_count": 69,
   "outputs": [],
   "source": [
    "def my_sort3(mylist):      # bad: modifies its argument and also returns it\n",
    "    mylist.sort()\n",
    "    return mylist"
   ],
   "metadata": {
    "collapsed": false,
    "pycharm": {
     "name": "#%%\n"
    }
   }
  },
  {
   "cell_type": "code",
   "execution_count": 70,
   "outputs": [],
   "source": [
    "def set_up(word, properties):\n",
    "    word = 'lolcat'\n",
    "    properties.append('noun')\n",
    "    properties = 5"
   ],
   "metadata": {
    "collapsed": false,
    "pycharm": {
     "name": "#%%\n"
    }
   }
  },
  {
   "cell_type": "code",
   "execution_count": 71,
   "outputs": [
    {
     "data": {
      "text/plain": "''"
     },
     "execution_count": 71,
     "metadata": {},
     "output_type": "execute_result"
    }
   ],
   "source": [
    "w = ''\n",
    "p = []\n",
    "set_up(w, p)\n",
    "w"
   ],
   "metadata": {
    "collapsed": false,
    "pycharm": {
     "name": "#%%\n"
    }
   }
  },
  {
   "cell_type": "code",
   "execution_count": 72,
   "outputs": [
    {
     "data": {
      "text/plain": "['noun']"
     },
     "execution_count": 72,
     "metadata": {},
     "output_type": "execute_result"
    }
   ],
   "source": [
    "p"
   ],
   "metadata": {
    "collapsed": false,
    "pycharm": {
     "name": "#%%\n"
    }
   }
  },
  {
   "cell_type": "code",
   "execution_count": 73,
   "outputs": [
    {
     "data": {
      "text/plain": "''"
     },
     "execution_count": 73,
     "metadata": {},
     "output_type": "execute_result"
    }
   ],
   "source": [
    "w = ''\n",
    "word = w\n",
    "word = 'lolcat'\n",
    "w"
   ],
   "metadata": {
    "collapsed": false,
    "pycharm": {
     "name": "#%%\n"
    }
   }
  },
  {
   "cell_type": "code",
   "execution_count": 74,
   "outputs": [
    {
     "ename": "TypeError",
     "evalue": "'builtin_function_or_method' object is not subscriptable",
     "output_type": "error",
     "traceback": [
      "\u001B[0;31m---------------------------------------------------------------------------\u001B[0m",
      "\u001B[0;31mTypeError\u001B[0m                                 Traceback (most recent call last)",
      "\u001B[0;32m<ipython-input-74-f9d9ece14afc>\u001B[0m in \u001B[0;36m<module>\u001B[0;34m\u001B[0m\n\u001B[1;32m      1\u001B[0m \u001B[0mp\u001B[0m \u001B[0;34m=\u001B[0m \u001B[0;34m[\u001B[0m\u001B[0;34m]\u001B[0m\u001B[0;34m\u001B[0m\u001B[0;34m\u001B[0m\u001B[0m\n\u001B[1;32m      2\u001B[0m \u001B[0mproperties\u001B[0m \u001B[0;34m=\u001B[0m \u001B[0mp\u001B[0m\u001B[0;34m\u001B[0m\u001B[0;34m\u001B[0m\u001B[0m\n\u001B[0;32m----> 3\u001B[0;31m \u001B[0mproperties\u001B[0m\u001B[0;34m.\u001B[0m\u001B[0mappend\u001B[0m\u001B[0;34m[\u001B[0m\u001B[0;34m'noun'\u001B[0m\u001B[0;34m]\u001B[0m\u001B[0;34m\u001B[0m\u001B[0;34m\u001B[0m\u001B[0m\n\u001B[0m\u001B[1;32m      4\u001B[0m \u001B[0mproperties\u001B[0m \u001B[0;34m=\u001B[0m \u001B[0;36m5\u001B[0m\u001B[0;34m\u001B[0m\u001B[0;34m\u001B[0m\u001B[0m\n\u001B[1;32m      5\u001B[0m \u001B[0mp\u001B[0m\u001B[0;34m\u001B[0m\u001B[0;34m\u001B[0m\u001B[0m\n",
      "\u001B[0;31mTypeError\u001B[0m: 'builtin_function_or_method' object is not subscriptable"
     ]
    }
   ],
   "source": [
    "p = []\n",
    "properties = p\n",
    "properties.append['noun']\n",
    "properties = 5\n",
    "p"
   ],
   "metadata": {
    "collapsed": false,
    "pycharm": {
     "name": "#%%\n"
    }
   }
  },
  {
   "cell_type": "code",
   "execution_count": 75,
   "outputs": [],
   "source": [
    "def tag(word):\n",
    "    if word in ['a', 'the', 'all']:\n",
    "        return 'det'\n",
    "    else:\n",
    "        return 'noun'"
   ],
   "metadata": {
    "collapsed": false,
    "pycharm": {
     "name": "#%%\n"
    }
   }
  },
  {
   "cell_type": "code",
   "execution_count": 76,
   "outputs": [
    {
     "data": {
      "text/plain": "'det'"
     },
     "execution_count": 76,
     "metadata": {},
     "output_type": "execute_result"
    }
   ],
   "source": [
    "tag('the')"
   ],
   "metadata": {
    "collapsed": false,
    "pycharm": {
     "name": "#%%\n"
    }
   }
  },
  {
   "cell_type": "code",
   "execution_count": 77,
   "outputs": [
    {
     "data": {
      "text/plain": "'noun'"
     },
     "execution_count": 77,
     "metadata": {},
     "output_type": "execute_result"
    }
   ],
   "source": [
    "tag('knight')"
   ],
   "metadata": {
    "collapsed": false,
    "pycharm": {
     "name": "#%%\n"
    }
   }
  },
  {
   "cell_type": "code",
   "execution_count": 78,
   "outputs": [
    {
     "data": {
      "text/plain": "'noun'"
     },
     "execution_count": 78,
     "metadata": {},
     "output_type": "execute_result"
    }
   ],
   "source": [
    "tag([\"'Tis\", 'but', 'a', 'scratch'])"
   ],
   "metadata": {
    "collapsed": false,
    "pycharm": {
     "name": "#%%\n"
    }
   }
  },
  {
   "cell_type": "code",
   "execution_count": 79,
   "outputs": [],
   "source": [
    "def tag(word):\n",
    "    assert isinstance(word, basestring), \"argument to tag() must be a string\"\n",
    "    if word in ['a', 'the', 'all']:\n",
    "        return 'det'\n",
    "    else:\n",
    "        return 'noun'"
   ],
   "metadata": {
    "collapsed": false,
    "pycharm": {
     "name": "#%%\n"
    }
   }
  },
  {
   "cell_type": "code",
   "execution_count": 80,
   "outputs": [
    {
     "ename": "NameError",
     "evalue": "name 'load_corpus' is not defined",
     "output_type": "error",
     "traceback": [
      "\u001B[0;31m---------------------------------------------------------------------------\u001B[0m",
      "\u001B[0;31mNameError\u001B[0m                                 Traceback (most recent call last)",
      "\u001B[0;32m<ipython-input-80-cca61419399e>\u001B[0m in \u001B[0;36m<module>\u001B[0;34m\u001B[0m\n\u001B[0;32m----> 1\u001B[0;31m \u001B[0mdata\u001B[0m \u001B[0;34m=\u001B[0m \u001B[0mload_corpus\u001B[0m\u001B[0;34m(\u001B[0m\u001B[0;34m)\u001B[0m\u001B[0;34m\u001B[0m\u001B[0;34m\u001B[0m\u001B[0m\n\u001B[0m\u001B[1;32m      2\u001B[0m \u001B[0mresults\u001B[0m \u001B[0;34m=\u001B[0m \u001B[0manalyze\u001B[0m\u001B[0;34m(\u001B[0m\u001B[0mdata\u001B[0m\u001B[0;34m)\u001B[0m\u001B[0;34m\u001B[0m\u001B[0;34m\u001B[0m\u001B[0m\n\u001B[1;32m      3\u001B[0m \u001B[0mpresent\u001B[0m\u001B[0;34m(\u001B[0m\u001B[0mresults\u001B[0m\u001B[0;34m)\u001B[0m\u001B[0;34m\u001B[0m\u001B[0;34m\u001B[0m\u001B[0m\n\u001B[1;32m      4\u001B[0m \u001B[0;34m\u001B[0m\u001B[0m\n",
      "\u001B[0;31mNameError\u001B[0m: name 'load_corpus' is not defined"
     ]
    }
   ],
   "source": [
    "data = load_corpus()\n",
    "results = analyze(data)\n",
    "present(results)"
   ],
   "metadata": {
    "collapsed": false,
    "pycharm": {
     "name": "#%%\n"
    }
   }
  },
  {
   "cell_type": "code",
   "execution_count": 81,
   "outputs": [],
   "source": [
    "def freq_words(url, freqdist, n):\n",
    "    text = nltk.clean_url(url)\n",
    "    for word in nltk.word_tokenize(text):\n",
    "        freqdist.inc(word.lower())\n",
    "    print(freqdist.keys()[:n])"
   ],
   "metadata": {
    "collapsed": false,
    "pycharm": {
     "name": "#%%\n"
    }
   }
  },
  {
   "cell_type": "code",
   "execution_count": 82,
   "outputs": [],
   "source": [
    "constitution = \"http://www.archives.gov/national-archives-experience\" \\\n",
    "               \"/charters/constitution_transcript.html\""
   ],
   "metadata": {
    "collapsed": false,
    "pycharm": {
     "name": "#%%\n"
    }
   }
  },
  {
   "cell_type": "code",
   "execution_count": 83,
   "outputs": [
    {
     "ename": "NotImplementedError",
     "evalue": "To remove HTML markup, use BeautifulSoup's get_text() function",
     "output_type": "error",
     "traceback": [
      "\u001B[0;31m---------------------------------------------------------------------------\u001B[0m",
      "\u001B[0;31mNotImplementedError\u001B[0m                       Traceback (most recent call last)",
      "\u001B[0;32m<ipython-input-83-ac22397bbd76>\u001B[0m in \u001B[0;36m<module>\u001B[0;34m\u001B[0m\n\u001B[1;32m      1\u001B[0m \u001B[0mfd\u001B[0m \u001B[0;34m=\u001B[0m \u001B[0mnltk\u001B[0m\u001B[0;34m.\u001B[0m\u001B[0mFreqDist\u001B[0m\u001B[0;34m(\u001B[0m\u001B[0;34m)\u001B[0m\u001B[0;34m\u001B[0m\u001B[0;34m\u001B[0m\u001B[0m\n\u001B[0;32m----> 2\u001B[0;31m \u001B[0mfreq_words\u001B[0m\u001B[0;34m(\u001B[0m\u001B[0mconstitution\u001B[0m\u001B[0;34m,\u001B[0m \u001B[0mfd\u001B[0m\u001B[0;34m,\u001B[0m \u001B[0;36m20\u001B[0m\u001B[0;34m)\u001B[0m\u001B[0;34m\u001B[0m\u001B[0;34m\u001B[0m\u001B[0m\n\u001B[0m\u001B[1;32m      3\u001B[0m \u001B[0;34m\u001B[0m\u001B[0m\n",
      "\u001B[0;32m<ipython-input-81-c09c49f22f04>\u001B[0m in \u001B[0;36mfreq_words\u001B[0;34m(url, freqdist, n)\u001B[0m\n\u001B[1;32m      1\u001B[0m \u001B[0;32mdef\u001B[0m \u001B[0mfreq_words\u001B[0m\u001B[0;34m(\u001B[0m\u001B[0murl\u001B[0m\u001B[0;34m,\u001B[0m \u001B[0mfreqdist\u001B[0m\u001B[0;34m,\u001B[0m \u001B[0mn\u001B[0m\u001B[0;34m)\u001B[0m\u001B[0;34m:\u001B[0m\u001B[0;34m\u001B[0m\u001B[0;34m\u001B[0m\u001B[0m\n\u001B[0;32m----> 2\u001B[0;31m     \u001B[0mtext\u001B[0m \u001B[0;34m=\u001B[0m \u001B[0mnltk\u001B[0m\u001B[0;34m.\u001B[0m\u001B[0mclean_url\u001B[0m\u001B[0;34m(\u001B[0m\u001B[0murl\u001B[0m\u001B[0;34m)\u001B[0m\u001B[0;34m\u001B[0m\u001B[0;34m\u001B[0m\u001B[0m\n\u001B[0m\u001B[1;32m      3\u001B[0m     \u001B[0;32mfor\u001B[0m \u001B[0mword\u001B[0m \u001B[0;32min\u001B[0m \u001B[0mnltk\u001B[0m\u001B[0;34m.\u001B[0m\u001B[0mword_tokenize\u001B[0m\u001B[0;34m(\u001B[0m\u001B[0mtext\u001B[0m\u001B[0;34m)\u001B[0m\u001B[0;34m:\u001B[0m\u001B[0;34m\u001B[0m\u001B[0;34m\u001B[0m\u001B[0m\n\u001B[1;32m      4\u001B[0m         \u001B[0mfreqdist\u001B[0m\u001B[0;34m.\u001B[0m\u001B[0minc\u001B[0m\u001B[0;34m(\u001B[0m\u001B[0mword\u001B[0m\u001B[0;34m.\u001B[0m\u001B[0mlower\u001B[0m\u001B[0;34m(\u001B[0m\u001B[0;34m)\u001B[0m\u001B[0;34m)\u001B[0m\u001B[0;34m\u001B[0m\u001B[0;34m\u001B[0m\u001B[0m\n\u001B[1;32m      5\u001B[0m     \u001B[0mprint\u001B[0m\u001B[0;34m(\u001B[0m\u001B[0mfreqdist\u001B[0m\u001B[0;34m.\u001B[0m\u001B[0mkeys\u001B[0m\u001B[0;34m(\u001B[0m\u001B[0;34m)\u001B[0m\u001B[0;34m[\u001B[0m\u001B[0;34m:\u001B[0m\u001B[0mn\u001B[0m\u001B[0;34m]\u001B[0m\u001B[0;34m)\u001B[0m\u001B[0;34m\u001B[0m\u001B[0;34m\u001B[0m\u001B[0m\n",
      "\u001B[0;32m~/Dokumenter/Programs/miniconda3/envs/NaturalLanguageProcessingwithPython-py39/lib/python3.9/site-packages/nltk/util.py\u001B[0m in \u001B[0;36mclean_url\u001B[0;34m(url)\u001B[0m\n\u001B[1;32m    390\u001B[0m \u001B[0;34m\u001B[0m\u001B[0m\n\u001B[1;32m    391\u001B[0m \u001B[0;32mdef\u001B[0m \u001B[0mclean_url\u001B[0m\u001B[0;34m(\u001B[0m\u001B[0murl\u001B[0m\u001B[0;34m)\u001B[0m\u001B[0;34m:\u001B[0m\u001B[0;34m\u001B[0m\u001B[0;34m\u001B[0m\u001B[0m\n\u001B[0;32m--> 392\u001B[0;31m     raise NotImplementedError(\n\u001B[0m\u001B[1;32m    393\u001B[0m         \u001B[0;34m\"To remove HTML markup, use BeautifulSoup's get_text() function\"\u001B[0m\u001B[0;34m\u001B[0m\u001B[0;34m\u001B[0m\u001B[0m\n\u001B[1;32m    394\u001B[0m     )\n",
      "\u001B[0;31mNotImplementedError\u001B[0m: To remove HTML markup, use BeautifulSoup's get_text() function"
     ]
    }
   ],
   "source": [
    "fd = nltk.FreqDist()\n",
    "freq_words(constitution, fd, 20)"
   ],
   "metadata": {
    "collapsed": false,
    "pycharm": {
     "name": "#%%\n"
    }
   }
  },
  {
   "cell_type": "code",
   "execution_count": 84,
   "outputs": [],
   "source": [
    "def freq_words(url):\n",
    "    freqdist = nltk.FreqDist()\n",
    "    text = nltk.clean_url(url)\n",
    "    for word in nltk.word_tokenize(text):\n",
    "        freqdist.inc(word.lower())\n",
    "    return freqdist"
   ],
   "metadata": {
    "collapsed": false,
    "pycharm": {
     "name": "#%%\n"
    }
   }
  },
  {
   "cell_type": "code",
   "execution_count": 85,
   "outputs": [
    {
     "ename": "NotImplementedError",
     "evalue": "To remove HTML markup, use BeautifulSoup's get_text() function",
     "output_type": "error",
     "traceback": [
      "\u001B[0;31m---------------------------------------------------------------------------\u001B[0m",
      "\u001B[0;31mNotImplementedError\u001B[0m                       Traceback (most recent call last)",
      "\u001B[0;32m<ipython-input-85-3b5efaff4ff6>\u001B[0m in \u001B[0;36m<module>\u001B[0;34m\u001B[0m\n\u001B[0;32m----> 1\u001B[0;31m \u001B[0mfd\u001B[0m \u001B[0;34m=\u001B[0m \u001B[0mfreq_words\u001B[0m\u001B[0;34m(\u001B[0m\u001B[0mconstitution\u001B[0m\u001B[0;34m)\u001B[0m\u001B[0;34m\u001B[0m\u001B[0;34m\u001B[0m\u001B[0m\n\u001B[0m\u001B[1;32m      2\u001B[0m \u001B[0mprint\u001B[0m\u001B[0;34m(\u001B[0m\u001B[0mfd\u001B[0m\u001B[0;34m.\u001B[0m\u001B[0mkeys\u001B[0m\u001B[0;34m(\u001B[0m\u001B[0;34m)\u001B[0m\u001B[0;34m[\u001B[0m\u001B[0;34m:\u001B[0m\u001B[0;36m20\u001B[0m\u001B[0;34m]\u001B[0m\u001B[0;34m)\u001B[0m\u001B[0;34m\u001B[0m\u001B[0;34m\u001B[0m\u001B[0m\n\u001B[1;32m      3\u001B[0m \u001B[0;34m\u001B[0m\u001B[0m\n",
      "\u001B[0;32m<ipython-input-84-4f686798a193>\u001B[0m in \u001B[0;36mfreq_words\u001B[0;34m(url)\u001B[0m\n\u001B[1;32m      1\u001B[0m \u001B[0;32mdef\u001B[0m \u001B[0mfreq_words\u001B[0m\u001B[0;34m(\u001B[0m\u001B[0murl\u001B[0m\u001B[0;34m)\u001B[0m\u001B[0;34m:\u001B[0m\u001B[0;34m\u001B[0m\u001B[0;34m\u001B[0m\u001B[0m\n\u001B[1;32m      2\u001B[0m     \u001B[0mfreqdist\u001B[0m \u001B[0;34m=\u001B[0m \u001B[0mnltk\u001B[0m\u001B[0;34m.\u001B[0m\u001B[0mFreqDist\u001B[0m\u001B[0;34m(\u001B[0m\u001B[0;34m)\u001B[0m\u001B[0;34m\u001B[0m\u001B[0;34m\u001B[0m\u001B[0m\n\u001B[0;32m----> 3\u001B[0;31m     \u001B[0mtext\u001B[0m \u001B[0;34m=\u001B[0m \u001B[0mnltk\u001B[0m\u001B[0;34m.\u001B[0m\u001B[0mclean_url\u001B[0m\u001B[0;34m(\u001B[0m\u001B[0murl\u001B[0m\u001B[0;34m)\u001B[0m\u001B[0;34m\u001B[0m\u001B[0;34m\u001B[0m\u001B[0m\n\u001B[0m\u001B[1;32m      4\u001B[0m     \u001B[0;32mfor\u001B[0m \u001B[0mword\u001B[0m \u001B[0;32min\u001B[0m \u001B[0mnltk\u001B[0m\u001B[0;34m.\u001B[0m\u001B[0mword_tokenize\u001B[0m\u001B[0;34m(\u001B[0m\u001B[0mtext\u001B[0m\u001B[0;34m)\u001B[0m\u001B[0;34m:\u001B[0m\u001B[0;34m\u001B[0m\u001B[0;34m\u001B[0m\u001B[0m\n\u001B[1;32m      5\u001B[0m         \u001B[0mfreqdist\u001B[0m\u001B[0;34m.\u001B[0m\u001B[0minc\u001B[0m\u001B[0;34m(\u001B[0m\u001B[0mword\u001B[0m\u001B[0;34m.\u001B[0m\u001B[0mlower\u001B[0m\u001B[0;34m(\u001B[0m\u001B[0;34m)\u001B[0m\u001B[0;34m)\u001B[0m\u001B[0;34m\u001B[0m\u001B[0;34m\u001B[0m\u001B[0m\n",
      "\u001B[0;32m~/Dokumenter/Programs/miniconda3/envs/NaturalLanguageProcessingwithPython-py39/lib/python3.9/site-packages/nltk/util.py\u001B[0m in \u001B[0;36mclean_url\u001B[0;34m(url)\u001B[0m\n\u001B[1;32m    390\u001B[0m \u001B[0;34m\u001B[0m\u001B[0m\n\u001B[1;32m    391\u001B[0m \u001B[0;32mdef\u001B[0m \u001B[0mclean_url\u001B[0m\u001B[0;34m(\u001B[0m\u001B[0murl\u001B[0m\u001B[0;34m)\u001B[0m\u001B[0;34m:\u001B[0m\u001B[0;34m\u001B[0m\u001B[0;34m\u001B[0m\u001B[0m\n\u001B[0;32m--> 392\u001B[0;31m     raise NotImplementedError(\n\u001B[0m\u001B[1;32m    393\u001B[0m         \u001B[0;34m\"To remove HTML markup, use BeautifulSoup's get_text() function\"\u001B[0m\u001B[0;34m\u001B[0m\u001B[0;34m\u001B[0m\u001B[0m\n\u001B[1;32m    394\u001B[0m     )\n",
      "\u001B[0;31mNotImplementedError\u001B[0m: To remove HTML markup, use BeautifulSoup's get_text() function"
     ]
    }
   ],
   "source": [
    "fd = freq_words(constitution)\n",
    "print(fd.keys()[:20])"
   ],
   "metadata": {
    "collapsed": false,
    "pycharm": {
     "name": "#%%\n"
    }
   }
  },
  {
   "cell_type": "code",
   "execution_count": 86,
   "outputs": [
    {
     "ename": "NotImplementedError",
     "evalue": "To remove HTML markup, use BeautifulSoup's get_text() function",
     "output_type": "error",
     "traceback": [
      "\u001B[0;31m---------------------------------------------------------------------------\u001B[0m",
      "\u001B[0;31mNotImplementedError\u001B[0m                       Traceback (most recent call last)",
      "\u001B[0;32m<ipython-input-86-07a215678a38>\u001B[0m in \u001B[0;36m<module>\u001B[0;34m\u001B[0m\n\u001B[0;32m----> 1\u001B[0;31m \u001B[0mwords\u001B[0m \u001B[0;34m=\u001B[0m \u001B[0mnltk\u001B[0m\u001B[0;34m.\u001B[0m\u001B[0mword_tokenize\u001B[0m\u001B[0;34m(\u001B[0m\u001B[0mnltk\u001B[0m\u001B[0;34m.\u001B[0m\u001B[0mclean_url\u001B[0m\u001B[0;34m(\u001B[0m\u001B[0mconstitution\u001B[0m\u001B[0;34m)\u001B[0m\u001B[0;34m)\u001B[0m\u001B[0;34m\u001B[0m\u001B[0;34m\u001B[0m\u001B[0m\n\u001B[0m\u001B[1;32m      2\u001B[0m \u001B[0mfd\u001B[0m \u001B[0;34m=\u001B[0m \u001B[0mnltk\u001B[0m\u001B[0;34m.\u001B[0m\u001B[0mFreqDist\u001B[0m\u001B[0;34m(\u001B[0m\u001B[0mword\u001B[0m\u001B[0;34m.\u001B[0m\u001B[0mlower\u001B[0m\u001B[0;34m(\u001B[0m\u001B[0;34m)\u001B[0m \u001B[0;32mfor\u001B[0m \u001B[0mword\u001B[0m \u001B[0;32min\u001B[0m \u001B[0mwords\u001B[0m\u001B[0;34m)\u001B[0m\u001B[0;34m\u001B[0m\u001B[0;34m\u001B[0m\u001B[0m\n\u001B[1;32m      3\u001B[0m \u001B[0mfd\u001B[0m\u001B[0;34m.\u001B[0m\u001B[0mkeys\u001B[0m\u001B[0;34m(\u001B[0m\u001B[0;34m)\u001B[0m\u001B[0;34m[\u001B[0m\u001B[0;34m:\u001B[0m\u001B[0;36m20\u001B[0m\u001B[0;34m]\u001B[0m\u001B[0;34m\u001B[0m\u001B[0;34m\u001B[0m\u001B[0m\n\u001B[1;32m      4\u001B[0m \u001B[0;34m\u001B[0m\u001B[0m\n",
      "\u001B[0;32m~/Dokumenter/Programs/miniconda3/envs/NaturalLanguageProcessingwithPython-py39/lib/python3.9/site-packages/nltk/util.py\u001B[0m in \u001B[0;36mclean_url\u001B[0;34m(url)\u001B[0m\n\u001B[1;32m    390\u001B[0m \u001B[0;34m\u001B[0m\u001B[0m\n\u001B[1;32m    391\u001B[0m \u001B[0;32mdef\u001B[0m \u001B[0mclean_url\u001B[0m\u001B[0;34m(\u001B[0m\u001B[0murl\u001B[0m\u001B[0;34m)\u001B[0m\u001B[0;34m:\u001B[0m\u001B[0;34m\u001B[0m\u001B[0;34m\u001B[0m\u001B[0m\n\u001B[0;32m--> 392\u001B[0;31m     raise NotImplementedError(\n\u001B[0m\u001B[1;32m    393\u001B[0m         \u001B[0;34m\"To remove HTML markup, use BeautifulSoup's get_text() function\"\u001B[0m\u001B[0;34m\u001B[0m\u001B[0;34m\u001B[0m\u001B[0m\n\u001B[1;32m    394\u001B[0m     )\n",
      "\u001B[0;31mNotImplementedError\u001B[0m: To remove HTML markup, use BeautifulSoup's get_text() function"
     ]
    }
   ],
   "source": [
    "words = nltk.word_tokenize(nltk.clean_url(constitution))\n",
    "fd = nltk.FreqDist(word.lower() for word in words)\n",
    "fd.keys()[:20]"
   ],
   "metadata": {
    "collapsed": false,
    "pycharm": {
     "name": "#%%\n"
    }
   }
  },
  {
   "cell_type": "code",
   "execution_count": 87,
   "outputs": [
    {
     "ename": "NameError",
     "evalue": "name 'reference' is not defined",
     "output_type": "error",
     "traceback": [
      "\u001B[0;31m---------------------------------------------------------------------------\u001B[0m",
      "\u001B[0;31mNameError\u001B[0m                                 Traceback (most recent call last)",
      "\u001B[0;32m<ipython-input-87-47c29f66939c>\u001B[0m in \u001B[0;36m<module>\u001B[0;34m\u001B[0m\n\u001B[1;32m     20\u001B[0m \"\"\"\n\u001B[1;32m     21\u001B[0m \u001B[0;34m\u001B[0m\u001B[0m\n\u001B[0;32m---> 22\u001B[0;31m \u001B[0;32mif\u001B[0m \u001B[0mlen\u001B[0m\u001B[0;34m(\u001B[0m\u001B[0mreference\u001B[0m\u001B[0;34m)\u001B[0m \u001B[0;34m!=\u001B[0m \u001B[0mlen\u001B[0m\u001B[0;34m(\u001B[0m\u001B[0mtest\u001B[0m\u001B[0;34m)\u001B[0m\u001B[0;34m:\u001B[0m\u001B[0;34m\u001B[0m\u001B[0;34m\u001B[0m\u001B[0m\n\u001B[0m\u001B[1;32m     23\u001B[0m     \u001B[0;32mraise\u001B[0m \u001B[0mValueError\u001B[0m\u001B[0;34m(\u001B[0m\u001B[0;34m\"Lists must have the same length.\"\u001B[0m\u001B[0;34m)\u001B[0m\u001B[0;34m\u001B[0m\u001B[0;34m\u001B[0m\u001B[0m\n\u001B[1;32m     24\u001B[0m \u001B[0mnum_correct\u001B[0m \u001B[0;34m=\u001B[0m \u001B[0;36m0\u001B[0m\u001B[0;34m\u001B[0m\u001B[0;34m\u001B[0m\u001B[0m\n",
      "\u001B[0;31mNameError\u001B[0m: name 'reference' is not defined"
     ]
    }
   ],
   "source": [
    "def accuracy(reference, test):\n",
    "    \"\"\"\n",
    "    Calculate the fraction of test items that equal the corresponding reference items.\n",
    "\n",
    "    Given a list of reference values and a corresponding list of test values,\n",
    "    return the fraction of corresponding values that are equal.\n",
    "    In particular, return the fraction of indexes\n",
    "    {0<i<=len(test)} such that C{test[i] == reference[i]}.\n",
    "    >>> accuracy(['ADJ', 'N', 'V', 'N'], ['N', 'N', 'V', 'ADJ'])\n",
    "    0.5\n",
    "\n",
    "@param reference: An ordered list of reference values.\n",
    "@type reference: C{list}\n",
    "@param test: A list of values to compare against the corresponding\n",
    "    reference values.\n",
    "@type test: C{list}\n",
    "@rtype: C{float}\n",
    "@raise ValueError: If C{reference} and C{length} do not have the\n",
    "    same length.\n",
    "\"\"\"\n",
    "\n",
    "if len(reference) != len(test):\n",
    "    raise ValueError(\"Lists must have the same length.\")\n",
    "num_correct = 0\n",
    "for x, y in izip(reference, test):\n",
    "    if x == y:\n",
    "        num_correct += 1\n",
    "return float(num_correct) / len(reference)"
   ],
   "metadata": {
    "collapsed": false,
    "pycharm": {
     "name": "#%%\n"
    }
   }
  },
  {
   "cell_type": "code",
   "execution_count": 88,
   "outputs": [],
   "source": [
    "sent = ['Take', 'care', 'of', 'the', 'sense', ',', 'and', 'the',\n",
    "        'sounds', 'will', 'take', 'care', 'of', 'themselves', '.']"
   ],
   "metadata": {
    "collapsed": false,
    "pycharm": {
     "name": "#%%\n"
    }
   }
  },
  {
   "cell_type": "code",
   "execution_count": 89,
   "outputs": [
    {
     "data": {
      "text/plain": "[4, 4, 2, 3, 5, 1, 3, 3, 6, 4, 4, 4, 2, 10, 1]"
     },
     "execution_count": 89,
     "metadata": {},
     "output_type": "execute_result"
    }
   ],
   "source": [
    "def extract_property(prop):\n",
    "    return [prop(word) for word in sent]\n",
    "extract_property(len)"
   ],
   "metadata": {
    "collapsed": false,
    "pycharm": {
     "name": "#%%\n"
    }
   }
  },
  {
   "cell_type": "code",
   "execution_count": 90,
   "outputs": [
    {
     "data": {
      "text/plain": "['e', 'e', 'f', 'e', 'e', ',', 'd', 'e', 's', 'l', 'e', 'e', 'f', 's', '.']"
     },
     "execution_count": 90,
     "metadata": {},
     "output_type": "execute_result"
    }
   ],
   "source": [
    "def last_letter(word):\n",
    "    return word[-1]\n",
    "extract_property(last_letter)"
   ],
   "metadata": {
    "collapsed": false,
    "pycharm": {
     "name": "#%%\n"
    }
   }
  },
  {
   "cell_type": "code",
   "execution_count": 91,
   "outputs": [
    {
     "data": {
      "text/plain": "['e', 'e', 'f', 'e', 'e', ',', 'd', 'e', 's', 'l', 'e', 'e', 'f', 's', '.']"
     },
     "execution_count": 91,
     "metadata": {},
     "output_type": "execute_result"
    }
   ],
   "source": [
    "extract_property(lambda w: w[-1])"
   ],
   "metadata": {
    "collapsed": false,
    "pycharm": {
     "name": "#%%\n"
    }
   }
  },
  {
   "cell_type": "code",
   "execution_count": 92,
   "outputs": [
    {
     "data": {
      "text/plain": "[',',\n '.',\n 'Take',\n 'and',\n 'care',\n 'care',\n 'of',\n 'of',\n 'sense',\n 'sounds',\n 'take',\n 'the',\n 'the',\n 'themselves',\n 'will']"
     },
     "execution_count": 92,
     "metadata": {},
     "output_type": "execute_result"
    }
   ],
   "source": [
    "sorted(sent)"
   ],
   "metadata": {
    "collapsed": false,
    "pycharm": {
     "name": "#%%\n"
    }
   }
  },
  {
   "cell_type": "code",
   "execution_count": 93,
   "outputs": [
    {
     "ename": "NameError",
     "evalue": "name 'cmp' is not defined",
     "output_type": "error",
     "traceback": [
      "\u001B[0;31m---------------------------------------------------------------------------\u001B[0m",
      "\u001B[0;31mNameError\u001B[0m                                 Traceback (most recent call last)",
      "\u001B[0;32m<ipython-input-93-a1518630cec3>\u001B[0m in \u001B[0;36m<module>\u001B[0;34m\u001B[0m\n\u001B[0;32m----> 1\u001B[0;31m \u001B[0msorted\u001B[0m\u001B[0;34m(\u001B[0m\u001B[0msent\u001B[0m\u001B[0;34m,\u001B[0m \u001B[0mcmp\u001B[0m\u001B[0;34m)\u001B[0m\u001B[0;34m\u001B[0m\u001B[0;34m\u001B[0m\u001B[0m\n\u001B[0m\u001B[1;32m      2\u001B[0m \u001B[0;34m\u001B[0m\u001B[0m\n",
      "\u001B[0;31mNameError\u001B[0m: name 'cmp' is not defined"
     ]
    }
   ],
   "source": [
    "sorted(sent, cmp)"
   ],
   "metadata": {
    "collapsed": false,
    "pycharm": {
     "name": "#%%\n"
    }
   }
  },
  {
   "cell_type": "code",
   "execution_count": 94,
   "outputs": [
    {
     "ename": "TypeError",
     "evalue": "sorted expected 1 argument, got 2",
     "output_type": "error",
     "traceback": [
      "\u001B[0;31m---------------------------------------------------------------------------\u001B[0m",
      "\u001B[0;31mTypeError\u001B[0m                                 Traceback (most recent call last)",
      "\u001B[0;32m<ipython-input-94-5bb6ef0c4143>\u001B[0m in \u001B[0;36m<module>\u001B[0;34m\u001B[0m\n\u001B[0;32m----> 1\u001B[0;31m \u001B[0msorted\u001B[0m\u001B[0;34m(\u001B[0m\u001B[0msent\u001B[0m\u001B[0;34m,\u001B[0m \u001B[0;32mlambda\u001B[0m \u001B[0mx\u001B[0m\u001B[0;34m,\u001B[0m \u001B[0my\u001B[0m\u001B[0;34m:\u001B[0m \u001B[0mcmp\u001B[0m\u001B[0;34m(\u001B[0m\u001B[0mlen\u001B[0m\u001B[0;34m(\u001B[0m\u001B[0my\u001B[0m\u001B[0;34m)\u001B[0m\u001B[0;34m,\u001B[0m \u001B[0mlen\u001B[0m\u001B[0;34m(\u001B[0m\u001B[0mx\u001B[0m\u001B[0;34m)\u001B[0m\u001B[0;34m)\u001B[0m\u001B[0;34m)\u001B[0m\u001B[0;34m\u001B[0m\u001B[0;34m\u001B[0m\u001B[0m\n\u001B[0m\u001B[1;32m      2\u001B[0m \u001B[0;34m\u001B[0m\u001B[0m\n",
      "\u001B[0;31mTypeError\u001B[0m: sorted expected 1 argument, got 2"
     ]
    }
   ],
   "source": [
    "sorted(sent, lambda x, y: cmp(len(y), len(x)))"
   ],
   "metadata": {
    "collapsed": false,
    "pycharm": {
     "name": "#%%\n"
    }
   }
  },
  {
   "cell_type": "code",
   "execution_count": 95,
   "outputs": [
    {
     "ename": "NameError",
     "evalue": "name 'reference' is not defined",
     "output_type": "error",
     "traceback": [
      "\u001B[0;31m---------------------------------------------------------------------------\u001B[0m",
      "\u001B[0;31mNameError\u001B[0m                                 Traceback (most recent call last)",
      "\u001B[0;32m<ipython-input-95-47c29f66939c>\u001B[0m in \u001B[0;36m<module>\u001B[0;34m\u001B[0m\n\u001B[1;32m     20\u001B[0m \"\"\"\n\u001B[1;32m     21\u001B[0m \u001B[0;34m\u001B[0m\u001B[0m\n\u001B[0;32m---> 22\u001B[0;31m \u001B[0;32mif\u001B[0m \u001B[0mlen\u001B[0m\u001B[0;34m(\u001B[0m\u001B[0mreference\u001B[0m\u001B[0;34m)\u001B[0m \u001B[0;34m!=\u001B[0m \u001B[0mlen\u001B[0m\u001B[0;34m(\u001B[0m\u001B[0mtest\u001B[0m\u001B[0;34m)\u001B[0m\u001B[0;34m:\u001B[0m\u001B[0;34m\u001B[0m\u001B[0;34m\u001B[0m\u001B[0m\n\u001B[0m\u001B[1;32m     23\u001B[0m     \u001B[0;32mraise\u001B[0m \u001B[0mValueError\u001B[0m\u001B[0;34m(\u001B[0m\u001B[0;34m\"Lists must have the same length.\"\u001B[0m\u001B[0;34m)\u001B[0m\u001B[0;34m\u001B[0m\u001B[0;34m\u001B[0m\u001B[0m\n\u001B[1;32m     24\u001B[0m \u001B[0mnum_correct\u001B[0m \u001B[0;34m=\u001B[0m \u001B[0;36m0\u001B[0m\u001B[0;34m\u001B[0m\u001B[0;34m\u001B[0m\u001B[0m\n",
      "\u001B[0;31mNameError\u001B[0m: name 'reference' is not defined"
     ]
    }
   ],
   "source": [
    "def accuracy(reference, test):\n",
    "    \"\"\"\n",
    "    Calculate the fraction of test items that equal the corresponding reference items.\n",
    "\n",
    "    Given a list of reference values and a corresponding list of test values,\n",
    "    return the fraction of corresponding values that are equal.\n",
    "    In particular, return the fraction of indexes\n",
    "    {0<i<=len(test)} such that C{test[i] == reference[i]}.\n",
    "    >>> accuracy(['ADJ', 'N', 'V', 'N'], ['N', 'N', 'V', 'ADJ'])\n",
    "    0.5\n",
    "\n",
    "@param reference: An ordered list of reference values.\n",
    "@type reference: C{list}\n",
    "@param test: A list of values to compare against the corresponding\n",
    "    reference values.\n",
    "@type test: C{list}\n",
    "@rtype: C{float}\n",
    "@raise ValueError: If C{reference} and C{length} do not have the\n",
    "    same length.\n",
    "\"\"\"\n",
    "\n",
    "if len(reference) != len(test):\n",
    "    raise ValueError(\"Lists must have the same length.\")\n",
    "num_correct = 0\n",
    "for x, y in izip(reference, test):\n",
    "    if x == y:\n",
    "        num_correct += 1\n",
    "return float(num_correct) / len(reference)"
   ],
   "metadata": {
    "collapsed": false,
    "pycharm": {
     "name": "#%%\n"
    }
   }
  },
  {
   "cell_type": "code",
   "execution_count": 96,
   "outputs": [],
   "source": [
    "sent = ['Take', 'care', 'of', 'the', 'sense', ',', 'and', 'the',\n",
    "        'sounds', 'will', 'take', 'care', 'of', 'themselves', '.']"
   ],
   "metadata": {
    "collapsed": false,
    "pycharm": {
     "name": "#%%\n"
    }
   }
  },
  {
   "cell_type": "code",
   "execution_count": 97,
   "outputs": [
    {
     "data": {
      "text/plain": "[4, 4, 2, 3, 5, 1, 3, 3, 6, 4, 4, 4, 2, 10, 1]"
     },
     "execution_count": 97,
     "metadata": {},
     "output_type": "execute_result"
    }
   ],
   "source": [
    "def extract_property(prop):\n",
    "    return [prop(word) for word in sent]\n",
    "extract_property(len)"
   ],
   "metadata": {
    "collapsed": false,
    "pycharm": {
     "name": "#%%\n"
    }
   }
  },
  {
   "cell_type": "code",
   "execution_count": 98,
   "outputs": [
    {
     "data": {
      "text/plain": "['e', 'e', 'f', 'e', 'e', ',', 'd', 'e', 's', 'l', 'e', 'e', 'f', 's', '.']"
     },
     "execution_count": 98,
     "metadata": {},
     "output_type": "execute_result"
    }
   ],
   "source": [
    "def last_letter(word):\n",
    "    return word[-1]\n",
    "extract_property(last_letter)"
   ],
   "metadata": {
    "collapsed": false,
    "pycharm": {
     "name": "#%%\n"
    }
   }
  },
  {
   "cell_type": "code",
   "execution_count": 99,
   "outputs": [
    {
     "data": {
      "text/plain": "['e', 'e', 'f', 'e', 'e', ',', 'd', 'e', 's', 'l', 'e', 'e', 'f', 's', '.']"
     },
     "execution_count": 99,
     "metadata": {},
     "output_type": "execute_result"
    }
   ],
   "source": [
    "extract_property(lambda w: w[-1])"
   ],
   "metadata": {
    "collapsed": false,
    "pycharm": {
     "name": "#%%\n"
    }
   }
  },
  {
   "cell_type": "code",
   "execution_count": 100,
   "outputs": [
    {
     "data": {
      "text/plain": "[',',\n '.',\n 'Take',\n 'and',\n 'care',\n 'care',\n 'of',\n 'of',\n 'sense',\n 'sounds',\n 'take',\n 'the',\n 'the',\n 'themselves',\n 'will']"
     },
     "execution_count": 100,
     "metadata": {},
     "output_type": "execute_result"
    }
   ],
   "source": [
    "sorted(sent)"
   ],
   "metadata": {
    "collapsed": false,
    "pycharm": {
     "name": "#%%\n"
    }
   }
  },
  {
   "cell_type": "code",
   "execution_count": 101,
   "outputs": [
    {
     "ename": "NameError",
     "evalue": "name 'cmp' is not defined",
     "output_type": "error",
     "traceback": [
      "\u001B[0;31m---------------------------------------------------------------------------\u001B[0m",
      "\u001B[0;31mNameError\u001B[0m                                 Traceback (most recent call last)",
      "\u001B[0;32m<ipython-input-101-a1518630cec3>\u001B[0m in \u001B[0;36m<module>\u001B[0;34m\u001B[0m\n\u001B[0;32m----> 1\u001B[0;31m \u001B[0msorted\u001B[0m\u001B[0;34m(\u001B[0m\u001B[0msent\u001B[0m\u001B[0;34m,\u001B[0m \u001B[0mcmp\u001B[0m\u001B[0;34m)\u001B[0m\u001B[0;34m\u001B[0m\u001B[0;34m\u001B[0m\u001B[0m\n\u001B[0m\u001B[1;32m      2\u001B[0m \u001B[0;34m\u001B[0m\u001B[0m\n",
      "\u001B[0;31mNameError\u001B[0m: name 'cmp' is not defined"
     ]
    }
   ],
   "source": [
    "sorted(sent, cmp)"
   ],
   "metadata": {
    "collapsed": false,
    "pycharm": {
     "name": "#%%\n"
    }
   }
  },
  {
   "cell_type": "code",
   "execution_count": 102,
   "outputs": [
    {
     "ename": "TypeError",
     "evalue": "sorted expected 1 argument, got 2",
     "output_type": "error",
     "traceback": [
      "\u001B[0;31m---------------------------------------------------------------------------\u001B[0m",
      "\u001B[0;31mTypeError\u001B[0m                                 Traceback (most recent call last)",
      "\u001B[0;32m<ipython-input-102-5bb6ef0c4143>\u001B[0m in \u001B[0;36m<module>\u001B[0;34m\u001B[0m\n\u001B[0;32m----> 1\u001B[0;31m \u001B[0msorted\u001B[0m\u001B[0;34m(\u001B[0m\u001B[0msent\u001B[0m\u001B[0;34m,\u001B[0m \u001B[0;32mlambda\u001B[0m \u001B[0mx\u001B[0m\u001B[0;34m,\u001B[0m \u001B[0my\u001B[0m\u001B[0;34m:\u001B[0m \u001B[0mcmp\u001B[0m\u001B[0;34m(\u001B[0m\u001B[0mlen\u001B[0m\u001B[0;34m(\u001B[0m\u001B[0my\u001B[0m\u001B[0;34m)\u001B[0m\u001B[0;34m,\u001B[0m \u001B[0mlen\u001B[0m\u001B[0;34m(\u001B[0m\u001B[0mx\u001B[0m\u001B[0;34m)\u001B[0m\u001B[0;34m)\u001B[0m\u001B[0;34m)\u001B[0m\u001B[0;34m\u001B[0m\u001B[0;34m\u001B[0m\u001B[0m\n\u001B[0m\u001B[1;32m      2\u001B[0m \u001B[0;34m\u001B[0m\u001B[0m\n",
      "\u001B[0;31mTypeError\u001B[0m: sorted expected 1 argument, got 2"
     ]
    }
   ],
   "source": [
    "sorted(sent, lambda x, y: cmp(len(y), len(x)))"
   ],
   "metadata": {
    "collapsed": false,
    "pycharm": {
     "name": "#%%\n"
    }
   }
  },
  {
   "cell_type": "code",
   "execution_count": 103,
   "outputs": [
    {
     "name": "stdout",
     "output_type": "stream",
     "text": [
      "search1:\n",
      "Grizzlies'\n",
      "fizzled\n",
      "Rizzuto\n",
      "huzzahs\n",
      "dazzler\n",
      "jazz\n",
      "Pezza\n",
      "Pezza\n",
      "Pezza\n",
      "embezzling\n",
      "embezzlement\n",
      "pizza\n",
      "jazz\n",
      "Ozzie\n",
      "nozzle\n",
      "drizzly\n",
      "puzzle\n",
      "puzzle\n",
      "dazzling\n",
      "Sizzling\n",
      "guzzle\n",
      "puzzles\n",
      "dazzling\n",
      "jazz\n",
      "jazz\n",
      "Jazz\n",
      "jazz\n",
      "Jazz\n",
      "jazz\n",
      "jazz\n",
      "Jazz\n",
      "jazz\n",
      "jazz\n",
      "jazz\n",
      "Jazz\n",
      "jazz\n",
      "dizzy\n",
      "jazz\n",
      "Jazz\n",
      "puzzler\n",
      "jazz\n",
      "jazzmen\n",
      "jazz\n",
      "jazz\n",
      "Jazz\n",
      "Jazz\n",
      "Jazz\n",
      "jazz\n",
      "Jazz\n",
      "jazz\n",
      "jazz\n",
      "jazz\n",
      "Jazz\n",
      "jazz\n",
      "jazz\n",
      "jazz\n",
      "jazz\n",
      "jazz\n",
      "jazz\n",
      "jazz\n",
      "jazz\n",
      "jazz\n",
      "Jazz\n",
      "Jazz\n",
      "jazz\n",
      "jazz\n",
      "nozzles\n",
      "nozzle\n",
      "puzzle\n",
      "buzz\n",
      "puzzle\n",
      "blizzard\n",
      "blizzard\n",
      "sizzling\n",
      "puzzled\n",
      "puzzle\n",
      "puzzle\n",
      "muzzle\n",
      "muzzle\n",
      "muezzin\n",
      "blizzard\n",
      "Neo-Jazz\n",
      "jazz\n",
      "muzzle\n",
      "piazzas\n",
      "puzzles\n",
      "puzzles\n",
      "embezzle\n",
      "buzzed\n",
      "snazzy\n",
      "buzzes\n",
      "puzzled\n",
      "puzzled\n",
      "muzzle\n",
      "whizzing\n",
      "jazz\n",
      "Belshazzar\n",
      "Lizzie\n",
      "Lizzie\n",
      "Lizzie\n",
      "Lizzie\n",
      "Lizzie\n",
      "Lizzie\n",
      "Lizzie\n",
      "Lizzie\n",
      "Lizzie's\n",
      "Lizzie\n",
      "Lizzie\n",
      "Lizzie\n",
      "Lizzie\n",
      "Lizzie\n",
      "Lizzie\n",
      "Lizzie\n",
      "Lizzie\n",
      "Lizzie\n",
      "blizzard\n",
      "blizzards\n",
      "blizzard\n",
      "blizzard\n",
      "fuzzy\n",
      "Lazzeri\n",
      "Piazza\n",
      "piazza\n",
      "palazzi\n",
      "Piazza\n",
      "Piazza\n",
      "Palazzo\n",
      "Palazzo\n",
      "Palazzo\n",
      "Piazza\n",
      "Piazza\n",
      "Palazzo\n",
      "palazzo\n",
      "palazzo\n",
      "Palazzo\n",
      "Palazzo\n",
      "Piazza\n",
      "piazza\n",
      "piazza\n",
      "piazza\n",
      "Piazza\n",
      "Piazza\n",
      "Palazzo\n",
      "palazzo\n",
      "Piazza\n",
      "piazza\n",
      "pizza\n",
      "Piazza\n",
      "Palazzo\n",
      "palazzo\n",
      "dazzling\n",
      "puzzling\n",
      "Wozzek\n",
      "dazzling\n",
      "dazzling\n",
      "buzzing\n",
      "Jazz\n",
      "jazz\n",
      "Jazz\n",
      "Jazz\n",
      "jazz\n",
      "jazz\n",
      "jazz\n",
      "jazz\n",
      "Jazz\n",
      "jazz\n",
      "jazz\n",
      "jazz\n",
      "Fuzzy\n",
      "Lizzy\n",
      "Lizzy\n",
      "jazz\n",
      "fuzzy\n",
      "puzzles\n",
      "puzzling\n",
      "puzzling\n",
      "dazzle\n",
      "puzzle\n",
      "dazzling\n",
      "puzzled\n",
      "jazz\n",
      "jazz\n",
      "jazz\n",
      "jazzy\n",
      "whizzed\n",
      "frazzled\n",
      "quizzical\n",
      "puzzling\n",
      "poetry-and-jazz\n",
      "poetry-and-jazz\n",
      "jazz\n",
      "jazz\n",
      "jazz\n",
      "jazz\n",
      "jazz\n",
      "jazz\n",
      "jazz\n",
      "Jazz\n",
      "jazz\n",
      "jazz\n",
      "jazz\n",
      "poetry-and-jazz\n",
      "jazz\n",
      "jazz\n",
      "jazz\n",
      "Dizzy\n",
      "jazz\n",
      "jazz\n",
      "jazz\n",
      "jazz\n",
      "jazz\n",
      "poetry-and-jazz\n",
      "jazz\n",
      "jazz\n",
      "jazz\n",
      "jazz\n",
      "jazz\n",
      "jazz\n",
      "jazz\n",
      "jazz\n",
      "jazz\n",
      "jazz\n",
      "jazz\n",
      "jazz\n",
      "dazzled\n",
      "bedazzlement\n",
      "bedazzled\n",
      "Piazzo\n",
      "nozzles\n",
      "nozzles\n",
      "buzzing\n",
      "dazzles\n",
      "dizzy\n",
      "puzzling\n",
      "puzzling\n",
      "puzzling\n",
      "puzzle\n",
      "muzzle\n",
      "puzzled\n",
      "nozzle\n",
      "Pozzatti\n",
      "Pozzatti\n",
      "Pozzatti\n",
      "puzzled\n",
      "Pozzatti\n",
      "Pozzatti\n",
      "dazzling\n",
      "pizzicato\n",
      "Jazz\n",
      "jazz\n",
      "jazz\n",
      "jazz\n",
      "jazz\n",
      "nozzle\n",
      "grizzled\n",
      "fuzzy\n",
      "muzzle\n",
      "puzzled\n",
      "puzzle\n",
      "muzzle\n",
      "blizzard\n",
      "buzz\n",
      "dizzily\n",
      "drizzle\n",
      "drizzle\n",
      "drizzle\n",
      "sizzled\n",
      "puzzled\n",
      "puzzled\n",
      "puzzled\n",
      "fuzzed\n",
      "buzz\n",
      "buzz\n",
      "buzz\n",
      "buzz-buzz-buzz\n",
      "buzzes\n",
      "fuzzy\n",
      "frizzled\n",
      "drizzle\n",
      "drizzle\n",
      "drizzling\n",
      "drizzling\n",
      "fuzz\n",
      "jazz\n",
      "jazz\n",
      "fuzz\n",
      "puzzle\n",
      "puzzling\n",
      "Nozze\n",
      "mezzo\n",
      "puzzled\n",
      "puzzled\n",
      "dazzling\n",
      "muzzle\n",
      "muzzle\n",
      "muzzle\n",
      "buzzed\n",
      "whizzed\n",
      "sizzled\n",
      "palazzos\n",
      "puzzlement\n",
      "frizzling\n",
      "puzzled\n",
      "puzzled\n",
      "puzzled\n",
      "dazzling\n",
      "muzzles\n",
      "fuzzy\n",
      "jazz\n",
      "ex-jazz\n",
      "sizzle\n",
      "grizzly\n",
      "guzzled\n",
      "buzzing\n",
      "fuzz\n",
      "nuzzled\n",
      "Kizzie\n",
      "Kizzie\n",
      "Kizzie\n",
      "Kezziah\n",
      "Kizzie\n",
      "Kizzie\n",
      "Buzz's\n",
      "Buzz\n",
      "Buzz\n",
      "Buzz\n",
      "Buzz\n",
      "Buzz\n",
      "Buzz\n",
      "Buzz\n",
      "Buzz\n",
      "dizzy\n",
      "piazza\n",
      "buzzing\n",
      "Puzzled\n",
      "dizziness\n",
      "dazzled\n",
      "Piazza\n",
      "Carrozza\n",
      "fuzzy\n",
      "dizzy\n",
      "buzzing\n",
      "buzzing\n",
      "puzzled\n",
      "puzzling\n",
      "puzzled\n",
      "puzzled\n",
      "Quizzical\n",
      "pizza\n",
      "search2:\n",
      "Grizzlies'\n",
      "fizzled\n",
      "Rizzuto\n",
      "huzzahs\n",
      "dazzler\n",
      "jazz\n",
      "Pezza\n",
      "Pezza\n",
      "Pezza\n",
      "embezzling\n",
      "embezzlement\n",
      "pizza\n",
      "jazz\n",
      "Ozzie\n",
      "nozzle\n",
      "drizzly\n",
      "puzzle\n",
      "puzzle\n",
      "dazzling\n",
      "Sizzling\n",
      "guzzle\n",
      "puzzles\n",
      "dazzling\n",
      "jazz\n",
      "jazz\n",
      "Jazz\n",
      "jazz\n",
      "Jazz\n",
      "jazz\n",
      "jazz\n",
      "Jazz\n",
      "jazz\n",
      "jazz\n",
      "jazz\n",
      "Jazz\n",
      "jazz\n",
      "dizzy\n",
      "jazz\n",
      "Jazz\n",
      "puzzler\n",
      "jazz\n",
      "jazzmen\n",
      "jazz\n",
      "jazz\n",
      "Jazz\n",
      "Jazz\n",
      "Jazz\n",
      "jazz\n",
      "Jazz\n",
      "jazz\n",
      "jazz\n",
      "jazz\n",
      "Jazz\n",
      "jazz\n",
      "jazz\n",
      "jazz\n",
      "jazz\n",
      "jazz\n",
      "jazz\n",
      "jazz\n",
      "jazz\n",
      "jazz\n",
      "Jazz\n",
      "Jazz\n",
      "jazz\n",
      "jazz\n",
      "nozzles\n",
      "nozzle\n",
      "puzzle\n",
      "buzz\n",
      "puzzle\n",
      "blizzard\n",
      "blizzard\n",
      "sizzling\n",
      "puzzled\n",
      "puzzle\n",
      "puzzle\n",
      "muzzle\n",
      "muzzle\n",
      "muezzin\n",
      "blizzard\n",
      "Neo-Jazz\n",
      "jazz\n",
      "muzzle\n",
      "piazzas\n",
      "puzzles\n",
      "puzzles\n",
      "embezzle\n",
      "buzzed\n",
      "snazzy\n",
      "buzzes\n",
      "puzzled\n",
      "puzzled\n",
      "muzzle\n",
      "whizzing\n",
      "jazz\n",
      "Belshazzar\n",
      "Lizzie\n",
      "Lizzie\n",
      "Lizzie\n",
      "Lizzie\n",
      "Lizzie\n",
      "Lizzie\n",
      "Lizzie\n",
      "Lizzie\n",
      "Lizzie's\n",
      "Lizzie\n",
      "Lizzie\n",
      "Lizzie\n",
      "Lizzie\n",
      "Lizzie\n",
      "Lizzie\n",
      "Lizzie\n",
      "Lizzie\n",
      "Lizzie\n",
      "blizzard\n",
      "blizzards\n",
      "blizzard\n",
      "blizzard\n",
      "fuzzy\n",
      "Lazzeri\n",
      "Piazza\n",
      "piazza\n",
      "palazzi\n",
      "Piazza\n",
      "Piazza\n",
      "Palazzo\n",
      "Palazzo\n",
      "Palazzo\n",
      "Piazza\n",
      "Piazza\n",
      "Palazzo\n",
      "palazzo\n",
      "palazzo\n",
      "Palazzo\n",
      "Palazzo\n",
      "Piazza\n",
      "piazza\n",
      "piazza\n",
      "piazza\n",
      "Piazza\n",
      "Piazza\n",
      "Palazzo\n",
      "palazzo\n",
      "Piazza\n",
      "piazza\n",
      "pizza\n",
      "Piazza\n",
      "Palazzo\n",
      "palazzo\n",
      "dazzling\n",
      "puzzling\n",
      "Wozzek\n",
      "dazzling\n",
      "dazzling\n",
      "buzzing\n",
      "Jazz\n",
      "jazz\n",
      "Jazz\n",
      "Jazz\n",
      "jazz\n",
      "jazz\n",
      "jazz\n",
      "jazz\n",
      "Jazz\n",
      "jazz\n",
      "jazz\n",
      "jazz\n",
      "Fuzzy\n",
      "Lizzy\n",
      "Lizzy\n",
      "jazz\n",
      "fuzzy\n",
      "puzzles\n",
      "puzzling\n",
      "puzzling\n",
      "dazzle\n",
      "puzzle\n",
      "dazzling\n",
      "puzzled\n",
      "jazz\n",
      "jazz\n",
      "jazz\n",
      "jazzy\n",
      "whizzed\n",
      "frazzled\n",
      "quizzical\n",
      "puzzling\n",
      "poetry-and-jazz\n",
      "poetry-and-jazz\n",
      "jazz\n",
      "jazz\n",
      "jazz\n",
      "jazz\n",
      "jazz\n",
      "jazz\n",
      "jazz\n",
      "Jazz\n",
      "jazz\n",
      "jazz\n",
      "jazz\n",
      "poetry-and-jazz\n",
      "jazz\n",
      "jazz\n",
      "jazz\n",
      "Dizzy\n",
      "jazz\n",
      "jazz\n",
      "jazz\n",
      "jazz\n",
      "jazz\n",
      "poetry-and-jazz\n",
      "jazz\n",
      "jazz\n",
      "jazz\n",
      "jazz\n",
      "jazz\n",
      "jazz\n",
      "jazz\n",
      "jazz\n",
      "jazz\n",
      "jazz\n",
      "jazz\n",
      "jazz\n",
      "dazzled\n",
      "bedazzlement\n",
      "bedazzled\n",
      "Piazzo\n",
      "nozzles\n",
      "nozzles\n",
      "buzzing\n",
      "dazzles\n",
      "dizzy\n",
      "puzzling\n",
      "puzzling\n",
      "puzzling\n",
      "puzzle\n",
      "muzzle\n",
      "puzzled\n",
      "nozzle\n",
      "Pozzatti\n",
      "Pozzatti\n",
      "Pozzatti\n",
      "puzzled\n",
      "Pozzatti\n",
      "Pozzatti\n",
      "dazzling\n",
      "pizzicato\n",
      "Jazz\n",
      "jazz\n",
      "jazz\n",
      "jazz\n",
      "jazz\n",
      "nozzle\n",
      "grizzled\n",
      "fuzzy\n",
      "muzzle\n",
      "puzzled\n",
      "puzzle\n",
      "muzzle\n",
      "blizzard\n",
      "buzz\n",
      "dizzily\n",
      "drizzle\n",
      "drizzle\n",
      "drizzle\n",
      "sizzled\n",
      "puzzled\n",
      "puzzled\n",
      "puzzled\n",
      "fuzzed\n",
      "buzz\n",
      "buzz\n",
      "buzz\n",
      "buzz-buzz-buzz\n",
      "buzzes\n",
      "fuzzy\n",
      "frizzled\n",
      "drizzle\n",
      "drizzle\n",
      "drizzling\n",
      "drizzling\n",
      "fuzz\n",
      "jazz\n",
      "jazz\n",
      "fuzz\n",
      "puzzle\n",
      "puzzling\n",
      "Nozze\n",
      "mezzo\n",
      "puzzled\n",
      "puzzled\n",
      "dazzling\n",
      "muzzle\n",
      "muzzle\n",
      "muzzle\n",
      "buzzed\n",
      "whizzed\n",
      "sizzled\n",
      "palazzos\n",
      "puzzlement\n",
      "frizzling\n",
      "puzzled\n",
      "puzzled\n",
      "puzzled\n",
      "dazzling\n",
      "muzzles\n",
      "fuzzy\n",
      "jazz\n",
      "ex-jazz\n",
      "sizzle\n",
      "grizzly\n",
      "guzzled\n",
      "buzzing\n",
      "fuzz\n",
      "nuzzled\n",
      "Kizzie\n",
      "Kizzie\n",
      "Kizzie\n",
      "Kezziah\n",
      "Kizzie\n",
      "Kizzie\n",
      "Buzz's\n",
      "Buzz\n",
      "Buzz\n",
      "Buzz\n",
      "Buzz\n",
      "Buzz\n",
      "Buzz\n",
      "Buzz\n",
      "Buzz\n",
      "dizzy\n",
      "piazza\n",
      "buzzing\n",
      "Puzzled\n",
      "dizziness\n",
      "dazzled\n",
      "Piazza\n",
      "Carrozza\n",
      "fuzzy\n",
      "dizzy\n",
      "buzzing\n",
      "buzzing\n",
      "puzzled\n",
      "puzzling\n",
      "puzzled\n",
      "puzzled\n",
      "Quizzical\n",
      "pizza\n"
     ]
    }
   ],
   "source": [
    "def search1(substring, words):\n",
    "    result = []\n",
    "    for word in words:\n",
    "        if substring in word:\n",
    "            result.append(word)\n",
    "    return result\n",
    "\n",
    "def search2(substring, words):\n",
    "    for word in words:\n",
    "        if substring in word:\n",
    "            yield word\n",
    "\n",
    "print(\"search1:\")\n",
    "for item in search1('zz', nltk.corpus.brown.words()):\n",
    "    print(item)\n",
    "print(\"search2:\")\n",
    "for item in search2('zz', nltk.corpus.brown.words()):\n",
    "    print(item)"
   ],
   "metadata": {
    "collapsed": false,
    "pycharm": {
     "name": "#%%\n"
    }
   }
  },
  {
   "cell_type": "code",
   "execution_count": 104,
   "outputs": [
    {
     "data": {
      "text/plain": "[['police', 'fish', 'buffalo'],\n ['fish', 'police', 'buffalo'],\n ['fish', 'buffalo', 'police'],\n ['police', 'buffalo', 'fish'],\n ['buffalo', 'police', 'fish'],\n ['buffalo', 'fish', 'police']]"
     },
     "execution_count": 104,
     "metadata": {},
     "output_type": "execute_result"
    }
   ],
   "source": [
    "def permutations(seq):\n",
    "    if len(seq) <= 1:\n",
    "        yield seq\n",
    "    else:\n",
    "        for perm in permutations(seq[1:]):\n",
    "            for i in range(len(perm)+1):\n",
    "                yield perm[:i] + seq[0:1] + perm[i:]\n",
    "list(permutations(['police', 'fish', 'buffalo']))"
   ],
   "metadata": {
    "collapsed": false,
    "pycharm": {
     "name": "#%%\n"
    }
   }
  },
  {
   "cell_type": "code",
   "execution_count": 105,
   "outputs": [
    {
     "data": {
      "text/plain": "<filter at 0x7fce75323d30>"
     },
     "execution_count": 105,
     "metadata": {},
     "output_type": "execute_result"
    }
   ],
   "source": [
    "def is_content_word(word):\n",
    "    return word.lower() not in ['a', 'of', 'the', 'and', 'will', ',', '.']\n",
    "sent = ['Take', 'care', 'of', 'the', 'sense', ',', 'and', 'the',\n",
    "        'sounds', 'will', 'take', 'care', 'of', 'themselves', '.']\n",
    "filter(is_content_word, sent)"
   ],
   "metadata": {
    "collapsed": false,
    "pycharm": {
     "name": "#%%\n"
    }
   }
  },
  {
   "cell_type": "code",
   "execution_count": 106,
   "outputs": [
    {
     "data": {
      "text/plain": "['Take', 'care', 'sense', 'sounds', 'take', 'care', 'themselves']"
     },
     "execution_count": 106,
     "metadata": {},
     "output_type": "execute_result"
    }
   ],
   "source": [
    "[w for w in sent if is_content_word(w)]"
   ],
   "metadata": {
    "collapsed": false,
    "pycharm": {
     "name": "#%%\n"
    }
   }
  },
  {
   "cell_type": "code",
   "execution_count": 107,
   "outputs": [
    {
     "ename": "TypeError",
     "evalue": "object of type 'map' has no len()",
     "output_type": "error",
     "traceback": [
      "\u001B[0;31m---------------------------------------------------------------------------\u001B[0m",
      "\u001B[0;31mTypeError\u001B[0m                                 Traceback (most recent call last)",
      "\u001B[0;32m<ipython-input-107-5ecd18543057>\u001B[0m in \u001B[0;36m<module>\u001B[0;34m\u001B[0m\n\u001B[1;32m      1\u001B[0m \u001B[0mlengths\u001B[0m \u001B[0;34m=\u001B[0m \u001B[0mmap\u001B[0m\u001B[0;34m(\u001B[0m\u001B[0mlen\u001B[0m\u001B[0;34m,\u001B[0m \u001B[0mnltk\u001B[0m\u001B[0;34m.\u001B[0m\u001B[0mcorpus\u001B[0m\u001B[0;34m.\u001B[0m\u001B[0mbrown\u001B[0m\u001B[0;34m.\u001B[0m\u001B[0msents\u001B[0m\u001B[0;34m(\u001B[0m\u001B[0mcategories\u001B[0m\u001B[0;34m=\u001B[0m\u001B[0;34m'news'\u001B[0m\u001B[0;34m)\u001B[0m\u001B[0;34m)\u001B[0m\u001B[0;34m\u001B[0m\u001B[0;34m\u001B[0m\u001B[0m\n\u001B[0;32m----> 2\u001B[0;31m \u001B[0msum\u001B[0m\u001B[0;34m(\u001B[0m\u001B[0mlengths\u001B[0m\u001B[0;34m)\u001B[0m \u001B[0;34m/\u001B[0m \u001B[0mlen\u001B[0m\u001B[0;34m(\u001B[0m\u001B[0mlengths\u001B[0m\u001B[0;34m)\u001B[0m\u001B[0;34m\u001B[0m\u001B[0;34m\u001B[0m\u001B[0m\n\u001B[0m\u001B[1;32m      3\u001B[0m \u001B[0;34m\u001B[0m\u001B[0m\n",
      "\u001B[0;31mTypeError\u001B[0m: object of type 'map' has no len()"
     ]
    }
   ],
   "source": [
    "lengths = map(len, nltk.corpus.brown.sents(categories='news'))\n",
    "sum(lengths) / len(lengths)"
   ],
   "metadata": {
    "collapsed": false,
    "pycharm": {
     "name": "#%%\n"
    }
   }
  },
  {
   "cell_type": "code",
   "execution_count": null,
   "outputs": [],
   "source": [
    "lengths = [len(w) for w in nltk.corpus.brown.sents(categories='news')]\n",
    "sum(lengths) / len(lengths)"
   ],
   "metadata": {
    "collapsed": false,
    "pycharm": {
     "name": "#%%\n"
    }
   }
  },
  {
   "cell_type": "code",
   "execution_count": 108,
   "outputs": [
    {
     "data": {
      "text/plain": "<map at 0x7fce753236d0>"
     },
     "execution_count": 108,
     "metadata": {},
     "output_type": "execute_result"
    }
   ],
   "source": [
    "map(lambda w: len(filter(lambda c: c.lower() in \"aeiou\", w)), sent)"
   ],
   "metadata": {
    "collapsed": false,
    "pycharm": {
     "name": "#%%\n"
    }
   }
  },
  {
   "cell_type": "code",
   "execution_count": 109,
   "outputs": [
    {
     "data": {
      "text/plain": "[2, 2, 1, 1, 2, 0, 1, 1, 2, 1, 2, 2, 1, 3, 0]"
     },
     "execution_count": 109,
     "metadata": {},
     "output_type": "execute_result"
    }
   ],
   "source": [
    "[len([c for c in w if c.lower() in \"aeiou\"]) for w in sent]"
   ],
   "metadata": {
    "collapsed": false,
    "pycharm": {
     "name": "#%%\n"
    }
   }
  },
  {
   "cell_type": "code",
   "execution_count": 110,
   "outputs": [
    {
     "data": {
      "text/plain": "'<empty><empty><empty>'"
     },
     "execution_count": 110,
     "metadata": {},
     "output_type": "execute_result"
    }
   ],
   "source": [
    "def repeat(msg='<empty>', num=1):\n",
    "    return msg * num\n",
    "repeat(num=3)"
   ],
   "metadata": {
    "collapsed": false,
    "pycharm": {
     "name": "#%%\n"
    }
   }
  },
  {
   "cell_type": "code",
   "execution_count": 111,
   "outputs": [
    {
     "data": {
      "text/plain": "'Alice'"
     },
     "execution_count": 111,
     "metadata": {},
     "output_type": "execute_result"
    }
   ],
   "source": [
    "repeat(msg='Alice')"
   ],
   "metadata": {
    "collapsed": false,
    "pycharm": {
     "name": "#%%\n"
    }
   }
  },
  {
   "cell_type": "code",
   "execution_count": 112,
   "outputs": [
    {
     "data": {
      "text/plain": "'AliceAliceAliceAliceAlice'"
     },
     "execution_count": 112,
     "metadata": {},
     "output_type": "execute_result"
    }
   ],
   "source": [
    "repeat(num=5, msg='Alice')"
   ],
   "metadata": {
    "collapsed": false,
    "pycharm": {
     "name": "#%%\n"
    }
   }
  },
  {
   "cell_type": "code",
   "execution_count": 113,
   "outputs": [
    {
     "name": "stdout",
     "output_type": "stream",
     "text": [
      "(1, 'African swallow')\n",
      "{'monty': 'python'}\n"
     ]
    }
   ],
   "source": [
    "def generic(*args, **kwargs):\n",
    "    print(args)\n",
    "    print(kwargs)\n",
    "\n",
    "generic(1, \"African swallow\", monty=\"python\")"
   ],
   "metadata": {
    "collapsed": false,
    "pycharm": {
     "name": "#%%\n"
    }
   }
  },
  {
   "cell_type": "code",
   "execution_count": 114,
   "outputs": [
    {
     "data": {
      "text/plain": "<zip at 0x7fce752b1dc0>"
     },
     "execution_count": 114,
     "metadata": {},
     "output_type": "execute_result"
    }
   ],
   "source": [
    "song = [['four', 'calling', 'birds'],\n",
    "        ['three', 'French', 'hens'],\n",
    "        ['two', 'turtle', 'doves']]\n",
    "zip(song[0], song[1], song[2])"
   ],
   "metadata": {
    "collapsed": false,
    "pycharm": {
     "name": "#%%\n"
    }
   }
  },
  {
   "cell_type": "code",
   "execution_count": 115,
   "outputs": [
    {
     "data": {
      "text/plain": "<zip at 0x7fce752a7140>"
     },
     "execution_count": 115,
     "metadata": {},
     "output_type": "execute_result"
    }
   ],
   "source": [
    "zip(*song)"
   ],
   "metadata": {
    "collapsed": false,
    "pycharm": {
     "name": "#%%\n"
    }
   }
  },
  {
   "cell_type": "code",
   "execution_count": 116,
   "outputs": [
    {
     "ename": "FileNotFoundError",
     "evalue": "[Errno 2] No such file or directory: 'ch01.rst'",
     "output_type": "error",
     "traceback": [
      "\u001B[0;31m---------------------------------------------------------------------------\u001B[0m",
      "\u001B[0;31mFileNotFoundError\u001B[0m                         Traceback (most recent call last)",
      "\u001B[0;32m<ipython-input-116-a6203b9710a0>\u001B[0m in \u001B[0;36m<module>\u001B[0;34m\u001B[0m\n\u001B[1;32m      4\u001B[0m     \u001B[0mfreqdist\u001B[0m \u001B[0;34m=\u001B[0m \u001B[0mnltk\u001B[0m\u001B[0;34m.\u001B[0m\u001B[0mFreqDist\u001B[0m\u001B[0;34m(\u001B[0m\u001B[0mt\u001B[0m \u001B[0;32mfor\u001B[0m \u001B[0mt\u001B[0m \u001B[0;32min\u001B[0m \u001B[0mtokens\u001B[0m \u001B[0;32mif\u001B[0m \u001B[0mlen\u001B[0m\u001B[0;34m(\u001B[0m\u001B[0mt\u001B[0m\u001B[0;34m)\u001B[0m \u001B[0;34m>=\u001B[0m \u001B[0mmin\u001B[0m\u001B[0;34m)\u001B[0m\u001B[0;34m\u001B[0m\u001B[0;34m\u001B[0m\u001B[0m\n\u001B[1;32m      5\u001B[0m     \u001B[0;32mreturn\u001B[0m \u001B[0mfreqdist\u001B[0m\u001B[0;34m.\u001B[0m\u001B[0mkeys\u001B[0m\u001B[0;34m(\u001B[0m\u001B[0;34m)\u001B[0m\u001B[0;34m[\u001B[0m\u001B[0;34m:\u001B[0m\u001B[0mnum\u001B[0m\u001B[0;34m]\u001B[0m\u001B[0;34m\u001B[0m\u001B[0;34m\u001B[0m\u001B[0m\n\u001B[0;32m----> 6\u001B[0;31m \u001B[0mfw\u001B[0m \u001B[0;34m=\u001B[0m \u001B[0mfreq_words\u001B[0m\u001B[0;34m(\u001B[0m\u001B[0;34m'ch01.rst'\u001B[0m\u001B[0;34m,\u001B[0m \u001B[0;36m4\u001B[0m\u001B[0;34m,\u001B[0m \u001B[0;36m10\u001B[0m\u001B[0;34m)\u001B[0m\u001B[0;34m\u001B[0m\u001B[0;34m\u001B[0m\u001B[0m\n\u001B[0m\u001B[1;32m      7\u001B[0m \u001B[0mfw\u001B[0m \u001B[0;34m=\u001B[0m \u001B[0mfreq_words\u001B[0m\u001B[0;34m(\u001B[0m\u001B[0;34m'ch01.rst'\u001B[0m\u001B[0;34m,\u001B[0m \u001B[0mmin\u001B[0m\u001B[0;34m=\u001B[0m\u001B[0;36m4\u001B[0m\u001B[0;34m,\u001B[0m \u001B[0mnum\u001B[0m\u001B[0;34m=\u001B[0m\u001B[0;36m10\u001B[0m\u001B[0;34m)\u001B[0m\u001B[0;34m\u001B[0m\u001B[0;34m\u001B[0m\u001B[0m\n\u001B[1;32m      8\u001B[0m \u001B[0mfw\u001B[0m \u001B[0;34m=\u001B[0m \u001B[0mfreq_words\u001B[0m\u001B[0;34m(\u001B[0m\u001B[0;34m'ch01.rst'\u001B[0m\u001B[0;34m,\u001B[0m \u001B[0mnum\u001B[0m\u001B[0;34m=\u001B[0m\u001B[0;36m10\u001B[0m\u001B[0;34m,\u001B[0m \u001B[0mmin\u001B[0m\u001B[0;34m=\u001B[0m\u001B[0;36m4\u001B[0m\u001B[0;34m)\u001B[0m\u001B[0;34m\u001B[0m\u001B[0;34m\u001B[0m\u001B[0m\n",
      "\u001B[0;32m<ipython-input-116-a6203b9710a0>\u001B[0m in \u001B[0;36mfreq_words\u001B[0;34m(file, min, num)\u001B[0m\n\u001B[1;32m      1\u001B[0m \u001B[0;32mdef\u001B[0m \u001B[0mfreq_words\u001B[0m\u001B[0;34m(\u001B[0m\u001B[0mfile\u001B[0m\u001B[0;34m,\u001B[0m \u001B[0mmin\u001B[0m\u001B[0;34m=\u001B[0m\u001B[0;36m1\u001B[0m\u001B[0;34m,\u001B[0m \u001B[0mnum\u001B[0m\u001B[0;34m=\u001B[0m\u001B[0;36m10\u001B[0m\u001B[0;34m)\u001B[0m\u001B[0;34m:\u001B[0m\u001B[0;34m\u001B[0m\u001B[0;34m\u001B[0m\u001B[0m\n\u001B[0;32m----> 2\u001B[0;31m     \u001B[0mtext\u001B[0m \u001B[0;34m=\u001B[0m \u001B[0mopen\u001B[0m\u001B[0;34m(\u001B[0m\u001B[0mfile\u001B[0m\u001B[0;34m)\u001B[0m\u001B[0;34m.\u001B[0m\u001B[0mread\u001B[0m\u001B[0;34m(\u001B[0m\u001B[0;34m)\u001B[0m\u001B[0;34m\u001B[0m\u001B[0;34m\u001B[0m\u001B[0m\n\u001B[0m\u001B[1;32m      3\u001B[0m     \u001B[0mtokens\u001B[0m \u001B[0;34m=\u001B[0m \u001B[0mnltk\u001B[0m\u001B[0;34m.\u001B[0m\u001B[0mword_tokenize\u001B[0m\u001B[0;34m(\u001B[0m\u001B[0mtext\u001B[0m\u001B[0;34m)\u001B[0m\u001B[0;34m\u001B[0m\u001B[0;34m\u001B[0m\u001B[0m\n\u001B[1;32m      4\u001B[0m     \u001B[0mfreqdist\u001B[0m \u001B[0;34m=\u001B[0m \u001B[0mnltk\u001B[0m\u001B[0;34m.\u001B[0m\u001B[0mFreqDist\u001B[0m\u001B[0;34m(\u001B[0m\u001B[0mt\u001B[0m \u001B[0;32mfor\u001B[0m \u001B[0mt\u001B[0m \u001B[0;32min\u001B[0m \u001B[0mtokens\u001B[0m \u001B[0;32mif\u001B[0m \u001B[0mlen\u001B[0m\u001B[0;34m(\u001B[0m\u001B[0mt\u001B[0m\u001B[0;34m)\u001B[0m \u001B[0;34m>=\u001B[0m \u001B[0mmin\u001B[0m\u001B[0;34m)\u001B[0m\u001B[0;34m\u001B[0m\u001B[0;34m\u001B[0m\u001B[0m\n\u001B[1;32m      5\u001B[0m     \u001B[0;32mreturn\u001B[0m \u001B[0mfreqdist\u001B[0m\u001B[0;34m.\u001B[0m\u001B[0mkeys\u001B[0m\u001B[0;34m(\u001B[0m\u001B[0;34m)\u001B[0m\u001B[0;34m[\u001B[0m\u001B[0;34m:\u001B[0m\u001B[0mnum\u001B[0m\u001B[0;34m]\u001B[0m\u001B[0;34m\u001B[0m\u001B[0;34m\u001B[0m\u001B[0m\n",
      "\u001B[0;31mFileNotFoundError\u001B[0m: [Errno 2] No such file or directory: 'ch01.rst'"
     ]
    }
   ],
   "source": [
    "def freq_words(file, min=1, num=10):\n",
    "    text = open(file).read()\n",
    "    tokens = nltk.word_tokenize(text)\n",
    "    freqdist = nltk.FreqDist(t for t in tokens if len(t) >= min)\n",
    "    return freqdist.keys()[:num]\n",
    "fw = freq_words('ch01.rst', 4, 10)\n",
    "fw = freq_words('ch01.rst', min=4, num=10)\n",
    "fw = freq_words('ch01.rst', num=10, min=4)"
   ],
   "metadata": {
    "collapsed": false,
    "pycharm": {
     "name": "#%%\n"
    }
   }
  },
  {
   "cell_type": "code",
   "execution_count": 117,
   "outputs": [],
   "source": [
    "from nltk.probability import FreqDist\n",
    "def freq_words(file, min=1, num=10, verbose=False):\n",
    "    freqdist = FreqDist()\n",
    "    if verbose: print(\"Opening\", file)\n",
    "    text = open(file).read()\n",
    "    if verbose: print(\"Read in %d characters\" % len(file))\n",
    "    for word in nltk.word_tokenize(text):\n",
    "        if len(word) >= min:\n",
    "            freqdist.inc(word)\n",
    "            if verbose and freqdist.N() % 100 == 0: print(\".\")\n",
    "    if verbose: print()\n",
    "    return freqdist.keys()[:num]"
   ],
   "metadata": {
    "collapsed": false,
    "pycharm": {
     "name": "#%%\n"
    }
   }
  },
  {
   "cell_type": "code",
   "execution_count": 118,
   "outputs": [
    {
     "ename": "AttributeError",
     "evalue": "module 'nltk.translate.metrics' has no attribute 'distance'",
     "output_type": "error",
     "traceback": [
      "\u001B[0;31m---------------------------------------------------------------------------\u001B[0m",
      "\u001B[0;31mAttributeError\u001B[0m                            Traceback (most recent call last)",
      "\u001B[0;32m<ipython-input-118-c1487014d336>\u001B[0m in \u001B[0;36m<module>\u001B[0;34m\u001B[0m\n\u001B[0;32m----> 1\u001B[0;31m \u001B[0mnltk\u001B[0m\u001B[0;34m.\u001B[0m\u001B[0mmetrics\u001B[0m\u001B[0;34m.\u001B[0m\u001B[0mdistance\u001B[0m\u001B[0;34m.\u001B[0m\u001B[0m__file__\u001B[0m\u001B[0;34m\u001B[0m\u001B[0;34m\u001B[0m\u001B[0m\n\u001B[0m\u001B[1;32m      2\u001B[0m \u001B[0;34m\u001B[0m\u001B[0m\n",
      "\u001B[0;31mAttributeError\u001B[0m: module 'nltk.translate.metrics' has no attribute 'distance'"
     ]
    }
   ],
   "source": [
    "nltk.metrics.distance.__file__"
   ],
   "metadata": {
    "collapsed": false,
    "pycharm": {
     "name": "#%%\n"
    }
   }
  },
  {
   "cell_type": "code",
   "execution_count": 119,
   "outputs": [
    {
     "ename": "AttributeError",
     "evalue": "module 'nltk.translate.metrics' has no attribute 'distance'",
     "output_type": "error",
     "traceback": [
      "\u001B[0;31m---------------------------------------------------------------------------\u001B[0m",
      "\u001B[0;31mAttributeError\u001B[0m                            Traceback (most recent call last)",
      "\u001B[0;32m<ipython-input-119-ee0840482439>\u001B[0m in \u001B[0;36m<module>\u001B[0;34m\u001B[0m\n\u001B[0;32m----> 1\u001B[0;31m \u001B[0mhelp\u001B[0m\u001B[0;34m(\u001B[0m\u001B[0mnltk\u001B[0m\u001B[0;34m.\u001B[0m\u001B[0mmetrics\u001B[0m\u001B[0;34m.\u001B[0m\u001B[0mdistance\u001B[0m\u001B[0;34m)\u001B[0m\u001B[0;34m\u001B[0m\u001B[0;34m\u001B[0m\u001B[0m\n\u001B[0m\u001B[1;32m      2\u001B[0m \u001B[0;34m\u001B[0m\u001B[0m\n",
      "\u001B[0;31mAttributeError\u001B[0m: module 'nltk.translate.metrics' has no attribute 'distance'"
     ]
    }
   ],
   "source": [
    "help(nltk.metrics.distance)"
   ],
   "metadata": {
    "collapsed": false,
    "pycharm": {
     "name": "#%%\n"
    }
   }
  },
  {
   "cell_type": "code",
   "execution_count": 120,
   "outputs": [
    {
     "data": {
      "text/plain": "['omg', 'teh', 'teh', 'mat']"
     },
     "execution_count": 120,
     "metadata": {},
     "output_type": "execute_result"
    }
   ],
   "source": [
    "def find_words(text, wordlength, result=[]):\n",
    "    for word in text:\n",
    "        if len(word) == wordlength:\n",
    "            result.append(word)\n",
    "    return result\n",
    "find_words(['omg', 'teh', 'lolcat', 'sitted', 'on', 'teh', 'mat'], 3)"
   ],
   "metadata": {
    "collapsed": false,
    "pycharm": {
     "name": "#%%\n"
    }
   }
  },
  {
   "cell_type": "code",
   "execution_count": 121,
   "outputs": [
    {
     "data": {
      "text/plain": "['ur', 'on']"
     },
     "execution_count": 121,
     "metadata": {},
     "output_type": "execute_result"
    }
   ],
   "source": [
    "find_words(['omg', 'teh', 'lolcat', 'sitted', 'on', 'teh', 'mat'], 2, ['ur'])"
   ],
   "metadata": {
    "collapsed": false,
    "pycharm": {
     "name": "#%%\n"
    }
   }
  },
  {
   "cell_type": "code",
   "execution_count": 122,
   "outputs": [
    {
     "data": {
      "text/plain": "['omg', 'teh', 'teh', 'mat', 'omg', 'teh', 'teh', 'mat']"
     },
     "execution_count": 122,
     "metadata": {},
     "output_type": "execute_result"
    }
   ],
   "source": [
    "find_words(['omg', 'teh', 'lolcat', 'sitted', 'on', 'teh', 'mat'], 3)"
   ],
   "metadata": {
    "collapsed": false,
    "pycharm": {
     "name": "#%%\n"
    }
   }
  },
  {
   "cell_type": "code",
   "execution_count": 123,
   "outputs": [
    {
     "ename": "ModuleNotFoundError",
     "evalue": "No module named 'mymodule'",
     "output_type": "error",
     "traceback": [
      "\u001B[0;31m---------------------------------------------------------------------------\u001B[0m",
      "\u001B[0;31mModuleNotFoundError\u001B[0m                       Traceback (most recent call last)",
      "\u001B[0;32m<ipython-input-123-d48d015156df>\u001B[0m in \u001B[0;36m<module>\u001B[0;34m\u001B[0m\n\u001B[1;32m      1\u001B[0m \u001B[0;32mimport\u001B[0m \u001B[0mpdb\u001B[0m\u001B[0;34m\u001B[0m\u001B[0;34m\u001B[0m\u001B[0m\n\u001B[0;32m----> 2\u001B[0;31m \u001B[0;32mimport\u001B[0m \u001B[0mmymodule\u001B[0m\u001B[0;34m\u001B[0m\u001B[0;34m\u001B[0m\u001B[0m\n\u001B[0m\u001B[1;32m      3\u001B[0m \u001B[0mpdb\u001B[0m\u001B[0;34m.\u001B[0m\u001B[0mrun\u001B[0m\u001B[0;34m(\u001B[0m\u001B[0;34m'mymodule.myfunction()'\u001B[0m\u001B[0;34m)\u001B[0m\u001B[0;34m\u001B[0m\u001B[0;34m\u001B[0m\u001B[0m\n\u001B[1;32m      4\u001B[0m \u001B[0;34m\u001B[0m\u001B[0m\n",
      "\u001B[0;31mModuleNotFoundError\u001B[0m: No module named 'mymodule'"
     ]
    }
   ],
   "source": [
    "import pdb\n",
    "import mymodule\n",
    "pdb.run('mymodule.myfunction()')"
   ],
   "metadata": {
    "collapsed": false,
    "pycharm": {
     "name": "#%%\n"
    }
   }
  },
  {
   "cell_type": "code",
   "execution_count": 124,
   "outputs": [
    {
     "data": {
      "text/plain": "['omg', 'teh', 'teh', 'mat', 'omg', 'teh', 'teh', 'mat', 'cat']"
     },
     "execution_count": 124,
     "metadata": {},
     "output_type": "execute_result"
    }
   ],
   "source": [
    "import pdb\n",
    "find_words(['cat'], 3)"
   ],
   "metadata": {
    "collapsed": false,
    "pycharm": {
     "name": "#%%\n"
    }
   }
  },
  {
   "cell_type": "code",
   "execution_count": 125,
   "outputs": [
    {
     "name": "stdout",
     "output_type": "stream",
     "text": [
      "> \u001B[0;32m<string>\u001B[0m(1)\u001B[0;36m<module>\u001B[0;34m()\u001B[0m\n",
      "\n",
      "--Call--\n",
      "> \u001B[0;32m<ipython-input-120-29ecbef8cd62>\u001B[0m(1)\u001B[0;36mfind_words\u001B[0;34m()\u001B[0m\n",
      "\u001B[0;32m----> 1 \u001B[0;31m\u001B[0;32mdef\u001B[0m \u001B[0mfind_words\u001B[0m\u001B[0;34m(\u001B[0m\u001B[0mtext\u001B[0m\u001B[0;34m,\u001B[0m \u001B[0mwordlength\u001B[0m\u001B[0;34m,\u001B[0m \u001B[0mresult\u001B[0m\u001B[0;34m=\u001B[0m\u001B[0;34m[\u001B[0m\u001B[0;34m]\u001B[0m\u001B[0;34m)\u001B[0m\u001B[0;34m:\u001B[0m\u001B[0;34m\u001B[0m\u001B[0;34m\u001B[0m\u001B[0m\n",
      "\u001B[0m\u001B[0;32m      2 \u001B[0;31m    \u001B[0;32mfor\u001B[0m \u001B[0mword\u001B[0m \u001B[0;32min\u001B[0m \u001B[0mtext\u001B[0m\u001B[0;34m:\u001B[0m\u001B[0;34m\u001B[0m\u001B[0;34m\u001B[0m\u001B[0m\n",
      "\u001B[0m\u001B[0;32m      3 \u001B[0;31m        \u001B[0;32mif\u001B[0m \u001B[0mlen\u001B[0m\u001B[0;34m(\u001B[0m\u001B[0mword\u001B[0m\u001B[0;34m)\u001B[0m \u001B[0;34m==\u001B[0m \u001B[0mwordlength\u001B[0m\u001B[0;34m:\u001B[0m\u001B[0;34m\u001B[0m\u001B[0;34m\u001B[0m\u001B[0m\n",
      "\u001B[0m\u001B[0;32m      4 \u001B[0;31m            \u001B[0mresult\u001B[0m\u001B[0;34m.\u001B[0m\u001B[0mappend\u001B[0m\u001B[0;34m(\u001B[0m\u001B[0mword\u001B[0m\u001B[0;34m)\u001B[0m\u001B[0;34m\u001B[0m\u001B[0;34m\u001B[0m\u001B[0m\n",
      "\u001B[0m\u001B[0;32m      5 \u001B[0;31m    \u001B[0;32mreturn\u001B[0m \u001B[0mresult\u001B[0m\u001B[0;34m\u001B[0m\u001B[0;34m\u001B[0m\u001B[0m\n",
      "\u001B[0m\n",
      "*** TypeError: find_words() missing 2 required positional arguments: 'text' and 'wordlength'\n",
      "text = ['dog']\n",
      "wordlength = 3\n",
      "result = ['omg', 'teh', 'teh', 'mat', 'omg', 'teh', 'teh', 'mat', 'cat']\n",
      "text = ['dog']\n",
      "wordlength = 3\n",
      "result = ['omg', 'teh', 'teh', 'mat', 'omg', 'teh', 'teh', 'mat', 'cat']\n",
      "text = ['dog']\n",
      "wordlength = 3\n",
      "result = ['omg', 'teh', 'teh', 'mat', 'omg', 'teh', 'teh', 'mat', 'cat']\n"
     ]
    }
   ],
   "source": [
    "pdb.run(\"find_words(['dog'], 3)\")"
   ],
   "metadata": {
    "collapsed": false,
    "pycharm": {
     "name": "#%%\n"
    }
   }
  },
  {
   "cell_type": "code",
   "execution_count": 126,
   "outputs": [],
   "source": [
    "def factorial1(n):\n",
    "    result = 1\n",
    "    for i in range(n):\n",
    "        result *= (i+1)\n",
    "    return result"
   ],
   "metadata": {
    "collapsed": false,
    "pycharm": {
     "name": "#%%\n"
    }
   }
  },
  {
   "cell_type": "code",
   "execution_count": 127,
   "outputs": [],
   "source": [
    "def factorial2(n):\n",
    "    if n == 1:\n",
    "        return 1\n",
    "    else:\n",
    "        return n * factorial2(n-1)"
   ],
   "metadata": {
    "collapsed": false,
    "pycharm": {
     "name": "#%%\n"
    }
   }
  },
  {
   "cell_type": "code",
   "execution_count": 128,
   "outputs": [],
   "source": [
    "def size1(s):\n",
    "    return 1 + sum(size1(child) for child in s.hyponyms())"
   ],
   "metadata": {
    "collapsed": false,
    "pycharm": {
     "name": "#%%\n"
    }
   }
  },
  {
   "cell_type": "code",
   "execution_count": 129,
   "outputs": [],
   "source": [
    "def size2(s):\n",
    "    layer = [s]\n",
    "    total = 0\n",
    "    while layer:\n",
    "        total += len(layer)\n",
    "        layer = [h for c in layer for h in c.hyponyms()]\n",
    "    return total"
   ],
   "metadata": {
    "collapsed": false,
    "pycharm": {
     "name": "#%%\n"
    }
   }
  },
  {
   "cell_type": "code",
   "execution_count": 130,
   "outputs": [
    {
     "data": {
      "text/plain": "190"
     },
     "execution_count": 130,
     "metadata": {},
     "output_type": "execute_result"
    }
   ],
   "source": [
    "from nltk.corpus import wordnet as wn\n",
    "dog = wn.synset('dog.n.01')\n",
    "size1(dog)"
   ],
   "metadata": {
    "collapsed": false,
    "pycharm": {
     "name": "#%%\n"
    }
   }
  },
  {
   "cell_type": "code",
   "execution_count": 131,
   "outputs": [
    {
     "data": {
      "text/plain": "190"
     },
     "execution_count": 131,
     "metadata": {},
     "output_type": "execute_result"
    }
   ],
   "source": [
    "size2(dog)"
   ],
   "metadata": {
    "collapsed": false,
    "pycharm": {
     "name": "#%%\n"
    }
   }
  },
  {
   "cell_type": "code",
   "execution_count": 132,
   "outputs": [],
   "source": [
    "def insert(trie, key, value):\n",
    "    if key:\n",
    "        first, rest = key[0], key[1:]\n",
    "        if first not in trie:\n",
    "            trie[first] = {}\n",
    "        insert(trie[first], rest, value)\n",
    "    else:\n",
    "        trie['value'] = value"
   ],
   "metadata": {
    "collapsed": false,
    "pycharm": {
     "name": "#%%\n"
    }
   }
  },
  {
   "cell_type": "code",
   "execution_count": 133,
   "outputs": [
    {
     "data": {
      "text/plain": "'cat'"
     },
     "execution_count": 133,
     "metadata": {},
     "output_type": "execute_result"
    }
   ],
   "source": [
    "trie = nltk.defaultdict(dict)\n",
    "insert(trie, 'chat', 'cat')\n",
    "insert(trie, 'chien', 'dog')\n",
    "insert(trie, 'chair', 'flesh')\n",
    "insert(trie, 'chic', 'stylish')\n",
    "trie = dict(trie)               # for nicer printing\n",
    "trie['c']['h']['a']['t']['value']"
   ],
   "metadata": {
    "collapsed": false,
    "pycharm": {
     "name": "#%%\n"
    }
   }
  },
  {
   "cell_type": "code",
   "execution_count": 134,
   "outputs": [
    {
     "name": "stdout",
     "output_type": "stream",
     "text": [
      "{'c': {'h': {'a': {'i': {'r': {'value': 'flesh'}}, 't': {'value': 'cat'}},\n",
      "             'i': {'c': {'value': 'stylish'}, 'e': {'n': {'value': 'dog'}}}}}}\n"
     ]
    }
   ],
   "source": [
    "pprint.pprint(trie)"
   ],
   "metadata": {
    "collapsed": false,
    "pycharm": {
     "name": "#%%\n"
    }
   }
  },
  {
   "cell_type": "code",
   "execution_count": 136,
   "outputs": [
    {
     "name": "stdout",
     "output_type": "stream",
     "text": [
      "Building Index...\n",
      "fell into some weird liquid ( hello ? joker ? ) and now has \n",
      "                              hello kids . today the movie s\n",
      "t walk towards them yelling \" hello \" . once you yell \" hell\n",
      "t walk towards them yelling \" hello \" . once you yell \" hell\n",
      "classmate he can't remember . hello mrs . robinson ! though \n",
      "nds with stupid lines ( \" say hello to king tut , asswhole !\n",
      " no going down on someone . \" hello ? i was in the office an\n",
      "fell into some weird liquid ( hello ? joker ? ) and now has \n",
      "                              hello kids . today the movie s\n",
      "t walk towards them yelling \" hello \" . once you yell \" hell\n",
      "t walk towards them yelling \" hello \" . once you yell \" hell\n",
      "classmate he can't remember . hello mrs . robinson ! though \n",
      "nds with stupid lines ( \" say hello to king tut , asswhole !\n",
      " no going down on someone . \" hello ? i was in the office an\n",
      "                       plot : two teen couples go to a churc\n",
      "                       plot : two teen couples go to a churc\n",
      "ne that's missing a finger or two ) . the number of times th\n",
      "telligence . stalked receives two stars because , even thoug\n",
      "ee ? probably not . the first two-thirds of \" 8mm \" unwind a\n",
      "t's difficult to spend nearly two hours of screen time in hi\n",
      "would be packed with cool stuntwork as promoted in its trail\n",
      ", but they actually only have two or three scenes together .\n",
      "t * is * necessary to provide two viewpoints : that of a mov\n",
      "t * is * necessary to provide two viewpoints : that of a mov\n",
      "course you won't care . these two lives , with parillaud loo\n",
      "on earth's closest neighbor . two things keep \" john carpent\n",
      "ng friday night looking after two kids whose parents are out\n",
      "mantic movies states that the two leads must end up together\n",
      "mantic movies states that the two leads must end up together\n",
      "mantic movies states that the two leads must end up together\n",
      " unfortunately , the film has two major deux ex machinas : o\n",
      "oes not go unnoticed and when two girls fail to wake the fol\n",
      "stupid one-liner . included : two ( 2 ) scenes of two ( 2 ) \n",
      "stupid one-liner . included : two ( 2 ) scenes of two ( 2 ) \n",
      "rmance . in addition , we had two amiable leads in the form \n",
      "l , but the side story of the two guys and a girl travelling\n",
      "l , but the side story of the two guys and a girl travelling\n",
      "l , but the side story of the two guys and a girl travelling\n",
      "l , but the side story of the two guys and a girl travelling\n",
      "l , but the side story of the two guys and a girl travelling\n",
      "l , but the side story of the two guys and a girl travelling\n",
      "l , but the side story of the two guys and a girl travelling\n",
      "l , but the side story of the two guys and a girl travelling\n",
      "is odd similarity between the two movies may best be explain\n",
      "is odd similarity between the two movies may best be explain\n",
      "ixed results . now we can add two other hong kong filmmakers\n",
      "who was behind the camera for two of the best films of '80s \n",
      " you're into watching near on two hours of bored , foul-mout\n",
      " and fishburne bump heads for two hours is amusing enough , \n",
      "lms on his resume ( including two installments of \" friday t\n",
      "n of moreau's creations . the two very important characters \n",
      "        lengthy and lousy are two words to describe the bori\n",
      "the traditional act one - act two - act three storyline , bu\n",
      "iver nice performances in the two leading roles , not that l\n",
      "iver nice performances in the two leading roles , not that l\n",
      "my school and from the one or two people who had seen it , t\n",
      "my school and from the one or two people who had seen it , t\n",
      " fortunately , there are only two elements left .           \n",
      "ony hopkins ) disappeared for two years whilst doing researc\n",
      "ng subplots ( scene involving two italian gangsters was almo\n",
      "                  my giant is two movies for the price of on\n",
      "ure is like a double header , two sets of clich ? s for the \n",
      "           has it really been two decades since walter matth\n",
      "           has it really been two decades since walter matth\n",
      " his boss is a jerk , and now two man-eating lions are stalk\n",
      " wanted to create between the two stories failed miserably .\n",
      "ul , professional woman wants two things she can't have : a \n",
      "e remembered along with those two . \" trumpet of the swan \" \n",
      "eading cross the desert minus two fingers when his mustang r\n",
      "eading cross the desert minus two fingers when his mustang r\n",
      "                    there are two things the american film i\n",
      "                    there are two things the american film i\n",
      "( uh-huh ) . the plot follows two married , mega-movie stars\n",
      "ood person and they take over two hours to explain that the \n",
      "ood person and they take over two hours to explain that the \n",
      " in the plot . there are only two scenes of him cooking . fo\n",
      "er durden ( brad pitt ) . the two men develop a bond , and g\n",
      "er durden ( brad pitt ) . the two men develop a bond , and g\n",
      "er durden ( brad pitt ) . the two men develop a bond , and g\n",
      " by sadistic torture from his two stepsons - these flyboys s\n",
      "he towering flood of the last two years worth of disaster mo\n",
      "he towering flood of the last two years worth of disaster mo\n",
      "he towering flood of the last two years worth of disaster mo\n",
      "he towering flood of the last two years worth of disaster mo\n",
      "he towering flood of the last two years worth of disaster mo\n",
      "n who was her lover . already two classic examples of hollyw\n",
      "ays comprised of multiples of two ? okay , maybe the last on\n",
      " back , and like his previous two , it is a working-class re\n",
      "ved , the characters flat and two dimensional . certainly no\n",
      "l island . accompanying these two girls are karla's overbear\n",
      " thin and boring story into a two hour epic . the trade conf\n",
      " thin and boring story into a two hour epic . the trade conf\n",
      " ( r . a . m . r . # 1521 ) . two of the actresses from soro\n",
      " ( r . a . m . r . # 1521 ) . two of the actresses from soro\n",
      " ( r . a . m . r . # 1521 ) . two of the actresses from soro\n",
      " ( r . a . m . r . # 1521 ) . two of the actresses from soro\n",
      " ( r . a . m . r . # 1521 ) . two of the actresses from soro\n",
      "ard comparisons on this dvd . two scenes are storyboarded . \n",
      "t the differences between the two languages ( although the f\n",
      " film ( aliens ) , ripley and two survivors were on their wa\n",
      "s among the most embarrassing two hours i have ever spent in\n",
      "s among the most embarrassing two hours i have ever spent in\n",
      "e grows for private use . the two soon see this as a possibl\n",
      "t's deja vu all over again as two disaster films go head to \n",
      "t's deja vu all over again as two disaster films go head to \n",
      "t's deja vu all over again as two disaster films go head to \n",
      "ered girl's face . our show's two heroes , the crew's chief \n",
      "ered girl's face . our show's two heroes , the crew's chief \n",
      "s : will smith has starred in two of the ten all-time top gr\n",
      "s : will smith has starred in two of the ten all-time top gr\n",
      " downhill for the rest of its two hour plus running time . a\n",
      " downhill for the rest of its two hour plus running time . a\n",
      " downhill for the rest of its two hour plus running time . a\n",
      " downhill for the rest of its two hour plus running time . a\n",
      " downhill for the rest of its two hour plus running time . a\n",
      " as sally and gillian owens , two sisters whose family comes\n",
      " as sally and gillian owens , two sisters whose family comes\n",
      " as sally and gillian owens , two sisters whose family comes\n",
      " as sally and gillian owens , two sisters whose family comes\n",
      " as sally and gillian owens , two sisters whose family comes\n",
      " ichabod carries which blends two pictures to create an opti\n",
      "us turns to her -- \" if these two were to mate , the resulti\n",
      ") who the police think killed two fbi agents , but of course\n",
      "ome sort when he comes across two network execs ( jeff goldb\n",
      "ailing all of their classes , two roommates try to find a th\n",
      "quentin tarantino . his first two films were classic films ,\n",
      "quentin tarantino . his first two films were classic films ,\n",
      "quentin tarantino . his first two films were classic films ,\n",
      "quentin tarantino . his first two films were classic films ,\n",
      "t's more interesting than the two leads thrown together , bu\n",
      "t one bit funny or romantic ( two ideal ingredients in a \" r\n",
      "on mars films , if you recall two other duds : \" mission to \n",
      "is movie follows the lives of two groups of people before th\n",
      "n , he's out working with the two untrusting agents , and tr\n",
      "n , he's out working with the two untrusting agents , and tr\n",
      " natasha henstridge , and the two of them set out to discove\n",
      " have premiered on cinemax at two in the morning starring an\n",
      "y mimi leder the first of the two asteroid movies coming out\n",
      " definitely used a rewrite or two . the film still manages t\n",
      "st time , we had the brawn of two face as played by tommy le\n",
      "st time , we had the brawn of two face as played by tommy le\n",
      "st time , we had the brawn of two face as played by tommy le\n",
      "st time , we had the brawn of two face as played by tommy le\n",
      "st time , we had the brawn of two face as played by tommy le\n",
      "f universal studios for about two years , waiting until it c\n",
      "at dead-bang does have one or two amusing moments . the funn\n",
      "at dead-bang does have one or two amusing moments . the funn\n",
      " story with not one rocky but two . rocky no . 1 is vince bo\n",
      " story with not one rocky but two . rocky no . 1 is vince bo\n",
      " story with not one rocky but two . rocky no . 1 is vince bo\n",
      " story with not one rocky but two . rocky no . 1 is vince bo\n",
      " frivolous plot details : the two team up for various jobs ,\n",
      " started popping up a week or two ago , i thought it looked \n",
      "movie's running time is under two hours , but it seems like \n",
      "pt to convince audiences that two guys who run around in rub\n",
      "nd cartoony we are constantly two steps ahead of the story .\n",
      "nnesaw ( michael rooker ) are two cops investigating the bru\n",
      " unfortunately , includes the two lead actors ) . the film d\n",
      " unfortunately , includes the two lead actors ) . the film d\n",
      "ted passage tunnel connecting two sections of the hospital .\n",
      "ter all , i measure my age in two digits .                  \n",
      " be more of this in a year or two . the attempt to be family\n",
      "ver the border , take up with two women on the run from thei\n",
      "ver the border , take up with two women on the run from thei\n",
      "es ( melissa george ) . these two threads are joined by a th\n",
      " , how can jackie shroff grow two feet of hair in just three\n",
      "rk on a journey to a location two thirds of the way across t\n",
      "rk on a journey to a location two thirds of the way across t\n",
      "taro in shogun . they are the two best things in the movie ;\n",
      "taro in shogun . they are the two best things in the movie ;\n",
      "and barry and julie and ray - two couples and dear friends t\n",
      "n a red wig prior to stalking two of the film's duplicitous \n",
      "ts : sex and football . those two items , wrapped in a guilt\n",
      "ts : sex and football . those two items , wrapped in a guilt\n",
      "ts : sex and football . those two items , wrapped in a guilt\n",
      " going to have us sit through two hours in a theater with th\n",
      "eep ( christopher lloyd ) are two of the cold-hearted execut\n",
      "ith alone . . . this is after two hours of throwing people o\n",
      "st of the rest of the cast is two-dimensional . for a film t\n",
      "ng in the foot steps of mtv's two other live action films , \n",
      "t's engaging or interesting . two , the script has no sense \n",
      " teens ( who also bring along two aging hippie potheads for \n",
      "tes and drinks hard liquor -- two sure signs that the devil \n",
      "g if wood had originally made two or three separate movies a\n",
      "g if wood had originally made two or three separate movies a\n",
      "gs happen . writing this only two days after seeing the film\n",
      "s customary one part satire , two parts ultra-violence formu\n",
      "s customary one part satire , two parts ultra-violence formu\n",
      "up a store , are mistaken for two other robbers ( just like \n",
      "up a store , are mistaken for two other robbers ( just like \n",
      "s new secretary . just as the two are about to get overtly p\n",
      "s new secretary . just as the two are about to get overtly p\n",
      "se and drags ( it runs nearly two hours ) . the screenwriter\n",
      "te hunt to find the remaining two spirits before their time \n",
      "itting there , watching these two \" lovers \" go through the \n",
      "itting there , watching these two \" lovers \" go through the \n",
      "at happens when you put these two people in the same room an\n",
      " well-meaning dea agent , and two gangsters who rough him up\n",
      "r . on the basis of his first two cds ( \" they're all gonna \n",
      "eff towards the end , and the two do great ) . as i said , t\n",
      "der what will happen to those two cookie-cutter \" evil \" guy\n",
      "those rare occasions when the two aren't forced to play it d\n",
      "inating in an absurd climax . two scenes were played with su\n",
      "inating in an absurd climax . two scenes were played with su\n",
      "nt owns the apartment and the two women meet . the brunette \n",
      "nt owns the apartment and the two women meet . the brunette \n",
      "uld be . there is a moment or two of genuine horror , but un\n",
      "rd has been kidnapped and the two friends , realizing they c\n",
      "e world \" would envoke one of two reactions in people . if y\n",
      "e world \" would envoke one of two reactions in people . if y\n",
      "ticle and the film script are two very different media . the\n",
      "ticle and the film script are two very different media . the\n",
      "eople . the movie offers only two explanations , neither of \n",
      "eople . the movie offers only two explanations , neither of \n",
      "g kong director john woo made two of the best action films o\n",
      "g slapstick guy humor and the two are more than equal to the\n",
      "g slapstick guy humor and the two are more than equal to the\n",
      "ilm . one wouldn't think that two genuine movie stars , anto\n",
      "ilm . one wouldn't think that two genuine movie stars , anto\n",
      "e tonight . the plot concerns two losers named gordie boggs \n",
      "to pull angry faces for about two hours or so ! what's that \n",
      "to pull angry faces for about two hours or so ! what's that \n",
      "r \" i still know what you did two summers ago \" or the appro\n",
      " \" out to sea . \" still , the two veteran actors are fun to \n",
      " \" out to sea . \" still , the two veteran actors are fun to \n",
      "ets him into her apartment at two o'clock in the morning whe\n",
      "rs when the next film is made two or three years later . alt\n",
      "he tables on poor al . as the two are investigating their la\n",
      "he tables on poor al . as the two are investigating their la\n",
      "e expecting a hearty laugh or two will find it difficult eve\n",
      "trait of studio 54 out there--two of them , in fact--but _54\n",
      " scenario . in \" wisdom \" the two lead characters are killed\n",
      " of \" great \" sight gags like two people trying to go in a d\n",
      "een absorbed in searching for two suitcases filled with meme\n",
      "ily's mississippi manse . the two childhood friends end up i\n",
      "ily's mississippi manse . the two childhood friends end up i\n",
      "nse exercises in chills . the two films came out within two \n",
      "nse exercises in chills . the two films came out within two \n",
      "nse exercises in chills . the two films came out within two \n",
      "nse exercises in chills . the two films came out within two \n",
      "er . ( i'd put my pants on in two seconds after that ! ) now\n",
      "er . ( i'd put my pants on in two seconds after that ! ) now\n",
      "of a dmv clerk . claire takes two women , claire and noel , \n",
      "of a dmv clerk . claire takes two women , claire and noel , \n",
      "m makers , gore is one of the two weapons they have at their\n",
      "ld attempt getting thru these two hours . for those people ,\n",
      "ld attempt getting thru these two hours . for those people ,\n",
      "aughed once during the entire two hours ) , unoriginal and u\n",
      "ery tuesday night on the wb network , here plays a down-on-h\n",
      "they've stacked the deck with two big stars ( val kilmer , m\n",
      "            movies can do the two big es very well : educate\n",
      "            movies can do the two big es very well : educate\n",
      "e , in case some of you ( all two of you ) didn't figure it \n",
      "e , in case some of you ( all two of you ) didn't figure it \n",
      "every man wants . since these two rich kids are so bored , t\n",
      "peed . but the only thing the two movies have in common is s\n",
      "peed . but the only thing the two movies have in common is s\n",
      "abbed . . . aw . . . and just two days before his release , \n",
      "abbed . . . aw . . . and just two days before his release , \n",
      "abbed . . . aw . . . and just two days before his release , \n",
      "abbed . . . aw . . . and just two days before his release , \n",
      "to manufacture 1000 bidets in two months and charles coote (\n",
      "to manufacture 1000 bidets in two months and charles coote (\n",
      "and probably-never-will-bes ( two exceptions : wes studi , b\n",
      "t to invisibility . the first two faces are completed . now \n",
      "sible . despite being a solid two hours long , \" return to m\n",
      "ission . jay and silent bob , two new jersey stoners who han\n",
      "ission . jay and silent bob , two new jersey stoners who han\n",
      "ission . jay and silent bob , two new jersey stoners who han\n",
      "nting a ludicrous scene where two teenage girls beat up seve\n",
      "uddenly fall into place : the two companies have been leakin\n",
      "uddenly fall into place : the two companies have been leakin\n",
      "ter development . it receives two stars for its technically \n",
      " , and that he can't make his two halves into a whole . feel\n",
      "mary frann , are a joke . the two look as though they're a c\n",
      "( as an audience ) , that the two are interrelated somehow .\n",
      "he high-flying robin from the two latest `batman' films , bu\n",
      "he high-flying robin from the two latest `batman' films , bu\n",
      "luck with the ladies and only two friends , both of whom can\n",
      "nd zellweger . apparently the two young stars were none too \n",
      "nd zellweger . apparently the two young stars were none too \n",
      " . the movie tries to give us two separate and distinct acts\n",
      " . the movie tries to give us two separate and distinct acts\n",
      " . the movie tries to give us two separate and distinct acts\n",
      " . the movie tries to give us two separate and distinct acts\n",
      "haunting , it's the better of two evils , you could say . th\n",
      "haunting , it's the better of two evils , you could say . th\n",
      "e more star vehicle in eraser two years after that . so then\n",
      "as a crazy delivery man . the two twins who play julian are \n",
      "f holes . there are basically two memorable sequences : one \n",
      "y finish sitting through this two hour long attempted thrill\n",
      "the warrior and the lover are two personality aspects that f\n",
      "the warrior and the lover are two personality aspects that f\n",
      " to anybody . that is , until two loser university students \n",
      " to anybody . that is , until two loser university students \n",
      " one gets the feeling that no two scenes here were actually \n",
      " , a redundant and repetitive two hour and twenty minute fil\n",
      "diary of a mad housewife ) by two hit men ( morgan freeman a\n",
      "diary of a mad housewife ) by two hit men ( morgan freeman a\n",
      "diary of a mad housewife ) by two hit men ( morgan freeman a\n",
      "diary of a mad housewife ) by two hit men ( morgan freeman a\n",
      "corner . the ad campaign uses two things to sell this movie \n",
      " respect him more . there are two main types of villains in \n",
      "en you rent a film ) . strike two came while the previews pl\n",
      "en you rent a film ) . strike two came while the previews pl\n",
      "me , i alternated between the two . there is only one good t\n",
      "ilms , this weighs in at over two very long hours . the weak\n",
      "lee jones and will smith play two \" government \" agents who \n",
      "iter-director john herzfeld's two days in the valley falls i\n",
      "iter-director john herzfeld's two days in the valley falls i\n",
      " and not into his character . two years back al pacino gave \n",
      "ouza actually wrote the first two \" die hard \" movies ! \" tu\n",
      "iamson , who penned the first two , or maybe it's that the h\n",
      "llows . apparently there were two islands with dinosaurs on \n",
      "llows . apparently there were two islands with dinosaurs on \n",
      "llows . apparently there were two islands with dinosaurs on \n",
      "1993 ) plot wise , the latter two are far superior character\n",
      " ? quinn looks up yaz and the two travel to rome so they can\n",
      "n ? ok ! yeah , it's a decent two minutes of film erotica , \n",
      "n ? ok ! yeah , it's a decent two minutes of film erotica , \n",
      "n ? ok ! yeah , it's a decent two minutes of film erotica , \n",
      "verybody else but is actually two steps behind . it is with \n",
      "ill be all over the cinemax network in a year . it's got all\n",
      "ill be all over the cinemax network in a year . it's got all\n",
      "his fortune . . . instead the two are careless hawaiian surf\n",
      "his fortune . . . instead the two are careless hawaiian surf\n",
      "his fortune . . . instead the two are careless hawaiian surf\n",
      "the love interest ) , and the two young boys , but the film \n",
      " very bad men are out to find two halves of an object that ,\n",
      "n perfekt \" . this was almost two years ago . i waited patie\n",
      " die ? the film introduces us two three different characters\n",
      " die ? the film introduces us two three different characters\n",
      "ries . i liked that scene for two reasons . first , the cake\n",
      "ries . i liked that scene for two reasons . first , the cake\n",
      "s never able to reconcile the two . the script seems to have\n",
      "to be more in the vicinity of two hours , as the bleak , slo\n",
      " to garbage like this ! ) are two losers from wyoming with n\n",
      " to garbage like this ! ) are two losers from wyoming with n\n",
      " to garbage like this ! ) are two losers from wyoming with n\n",
      "rom sweden tells the story of two close friends with romanti\n",
      "rom sweden tells the story of two close friends with romanti\n",
      "rom sweden tells the story of two close friends with romanti\n",
      "ead \" was pure gold for its network ) . but unfailingly , ju\n",
      "dreyfuss ) has spent the past two years \" getting over \" the\n",
      "dreyfuss ) has spent the past two years \" getting over \" the\n",
      "nt that somewhere between the two films , the once-linked la\n",
      "ten minutes in , and only has two purproses : ( 1 ) to get h\n",
      "issed childhood , is simple . two dalmatians , pongo and per\n",
      "o gus , who is now faced with two daunting tasks : turn the \n",
      "o gus , who is now faced with two daunting tasks : turn the \n",
      "alone , one on television and two in the theaters , with dan\n",
      "alone , one on television and two in the theaters , with dan\n",
      "alone , one on television and two in the theaters , with dan\n",
      "alone , one on television and two in the theaters , with dan\n",
      "nal logic : by not having the two white thugs arraigned firs\n",
      "nal logic : by not having the two white thugs arraigned firs\n",
      "itionally been seen as one of two things : either a much-nee\n",
      "itionally been seen as one of two things : either a much-nee\n",
      "itionally been seen as one of two things : either a much-nee\n",
      " it is . it is spoken between two of the protagonists somewh\n",
      " it is . it is spoken between two of the protagonists somewh\n",
      " it is . it is spoken between two of the protagonists somewh\n",
      " it is . it is spoken between two of the protagonists somewh\n",
      "for , well , anything . these two form an ill-timed relation\n",
      "mptly marries her . they have two great kids , who sadly die\n",
      "egretfully accompany fred and two others to the red planet ,\n",
      " the relationship between the two complete strangers . alma \n",
      " the relationship between the two complete strangers . alma \n",
      "i'm sure the first weekend or two will be huge , but once wo\n",
      "r , this is not one of them . two points in the movie's favo\n",
      "r , this is not one of them . two points in the movie's favo\n",
      "d appear before you , and you two would live in happy bliss \n",
      "make a long story short , the two couples pair off and spend\n",
      "make a long story short , the two couples pair off and spend\n",
      "make a long story short , the two couples pair off and spend\n",
      " lot of sense . instead , the two hours are basically spent \n",
      "a body getting quickly cut in two , and the rest of the insi\n",
      "amy heckerling's \" clueless \" two summers ago , alicia silve\n",
      "amy heckerling's \" clueless \" two summers ago , alicia silve\n",
      "amy heckerling's \" clueless \" two summers ago , alicia silve\n",
      " harrison ford ) are the only two major characters alive ; r\n",
      " harrison ford ) are the only two major characters alive ; r\n",
      " harrison ford ) are the only two major characters alive ; r\n",
      "at the average viewer will be two or three steps ahead of th\n",
      "at the average viewer will be two or three steps ahead of th\n",
      "attractive to theresa and the two begin their awkward courts\n",
      "attractive to theresa and the two begin their awkward courts\n",
      "attractive to theresa and the two begin their awkward courts\n",
      "le-marketer pestering you for two hours , while you don't ha\n",
      "le-marketer pestering you for two hours , while you don't ha\n",
      "shot partner , and though the two are fine young actors - re\n",
      "tion of the ocean here-- just two hours of shaky handheld ca\n",
      "tion of the ocean here-- just two hours of shaky handheld ca\n",
      "for what its worth , concerns two brothers ( nathan lane and\n",
      "for what its worth , concerns two brothers ( nathan lane and\n",
      "lection aside , parts one and two stand out in a crowd that \n",
      "leck brothers ben and casey , two of the best things about \"\n",
      "leck brothers ben and casey , two of the best things about \"\n",
      "leck brothers ben and casey , two of the best things about \"\n",
      " next death . the scene where two of the characters break in\n",
      "in fincher , who ? s previous two films , se7en and the game\n",
      "efer to think that these last two batman films are all like \n",
      "t care about , a character or two . finally , and most impor\n",
      " great benicio del torro play two moronic ( and not even rem\n",
      " great benicio del torro play two moronic ( and not even rem\n",
      "teacher . never mind that the two couldn't be more dissimila\n",
      "teacher . never mind that the two couldn't be more dissimila\n",
      "teacher . never mind that the two couldn't be more dissimila\n",
      "impossible to bear . the only two actors who seem to have es\n",
      "he duked it out with clint eastwood in enjoyably profane ver\n",
      "his even fails since the only two celebs truly introduced ar\n",
      "his even fails since the only two celebs truly introduced ar\n",
      "rillas in africa for the past two years . powell has been ch\n",
      "rillas in africa for the past two years . powell has been ch\n",
      "rillas in africa for the past two years . powell has been ch\n",
      "rillas in africa for the past two years . powell has been ch\n",
      "ho put a price on his head of two thousand pounds . when ned\n",
      "its credit , dark city boasts two impressive bits of casting\n",
      "its credit , dark city boasts two impressive bits of casting\n",
      "it the difference and give it two stars ) . as summarized br\n",
      "it the difference and give it two stars ) . as summarized br\n",
      "it the difference and give it two stars ) . as summarized br\n",
      " is five guys spending nearly two hours drooling over variou\n",
      " is five guys spending nearly two hours drooling over variou\n",
      "nda in this movie is at least two feet wide . if this isn't \n",
      "e plot thickens ( lol ) : the two wish to rescue the king , \n",
      " mishaps the family endured . two years later , we watched a\n",
      " mishaps the family endured . two years later , we watched a\n",
      " mishaps the family endured . two years later , we watched a\n",
      " mishaps the family endured . two years later , we watched a\n",
      " mishaps the family endured . two years later , we watched a\n",
      " mishaps the family endured . two years later , we watched a\n",
      "ollows the rowdy hold ups the two stage , along with romanti\n",
      "ollows the rowdy hold ups the two stage , along with romanti\n",
      "ening sequence has melvin and two of his partners going in t\n",
      "kit . wayne and garth , these two are not . rather , we meet\n",
      "kit . wayne and garth , these two are not . rather , we meet\n",
      "kit . wayne and garth , these two are not . rather , we meet\n",
      "kit . wayne and garth , these two are not . rather , we meet\n",
      "kit . wayne and garth , these two are not . rather , we meet\n",
      "kit . wayne and garth , these two are not . rather , we meet\n",
      "kit . wayne and garth , these two are not . rather , we meet\n",
      "as it's tendency to put these two snipers in as * many * inc\n",
      "lance ( alex boling ) and the two of them , along with april\n",
      "dr . tatopoulos's help , have two tons of fresh fish dumped \n",
      "dr . tatopoulos's help , have two tons of fresh fish dumped \n",
      "dr . tatopoulos's help , have two tons of fresh fish dumped \n",
      "dr . tatopoulos's help , have two tons of fresh fish dumped \n",
      " allen ) has in his life only two drives . he wants to have \n",
      "iendship develops between the two men , but it occurs too la\n",
      "at deal of magic and wonder , two things of which , \" the ru\n",
      "lee miller , respectively ) , two happy-go-lucky brits with \n",
      "lee miller , respectively ) , two happy-go-lucky brits with \n",
      "lee miller , respectively ) , two happy-go-lucky brits with \n",
      "at paul's to recuperate ; the two bond over emergency kitten\n",
      "you are a choir boy ! \" those two lines marked the high poin\n",
      "you are a choir boy ! \" those two lines marked the high poin\n",
      "le is the historic meeting of two enterprise captains . i do\n",
      "eed of an 18-wheeler carrying two tons of concrete up a stee\n",
      "ball . rather , these are the two opposing forces that will \n",
      "say jerry lewis is a notch or two up on the comedic ladder b\n",
      "             this movie about two dysfunctional families nev\n",
      "             this movie about two dysfunctional families nev\n",
      "             this movie about two dysfunctional families nev\n",
      "ilm follows the antics of the two men as they try to get awa\n",
      "ilm follows the antics of the two men as they try to get awa\n",
      "it's a trend he continues for two hours , taking the story's\n",
      "it's a trend he continues for two hours , taking the story's\n",
      "it's a trend he continues for two hours , taking the story's\n",
      "e . this covers about half to two thirds of the movie and as\n",
      "e . this covers about half to two thirds of the movie and as\n",
      " the strangers are the movies two lead stars , then that wou\n",
      " is no difference between the two . \" somehow , i don't see \n",
      " is no difference between the two . \" somehow , i don't see \n",
      "rom her body and separate the two ; yet ripley is now not co\n",
      "rom her body and separate the two ; yet ripley is now not co\n",
      "e war . if only the remaining two hours had been crafted wit\n",
      "d to like at the outset : the two main characters had been i\n",
      "d to like at the outset : the two main characters had been i\n",
      "martian will end up where the two lead characters do near th\n",
      "eas . deep rising meets these two requirements part way , bu\n",
      "e size difference between the two , and at times you would a\n",
      "e size difference between the two , and at times you would a\n",
      " a direct ref to the clint eastwood spaghetti western ) and \n",
      " a direct ref to the clint eastwood spaghetti western ) and \n",
      "rest . not only has the first two films' unsettling insight \n",
      "rest . not only has the first two films' unsettling insight \n",
      "d were being replayed another two-and-a-half times . the fil\n",
      "d were being replayed another two-and-a-half times . the fil\n",
      "d were being replayed another two-and-a-half times . the fil\n",
      "ughout the adult lifetimes of two marine colonels , hays hod\n",
      "the other . the plot involves two psychopath brothers , the \n",
      "hedwig ) . once married , the two move to the states , but q\n",
      "s , and genuine thrills . its two successors have been pale \n",
      "inary comparisons between the two movies were unavoidable , \n",
      "inary comparisons between the two movies were unavoidable , \n",
      "                         take two old and dying men , a life\n",
      "much better than these latest two excursions . \" a bug's lif\n",
      "much better than these latest two excursions . \" a bug's lif\n",
      "much better than these latest two excursions . \" a bug's lif\n",
      "hack peter hyams ( whose last two pictures were dreadful jea\n",
      "  susan granger's review of \" two can play that game \" ( scr\n",
      "  susan granger's review of \" two can play that game \" ( scr\n",
      "  susan granger's review of \" two can play that game \" ( scr\n",
      "hters : one devoted saint and two selfish bitches ) , but th\n",
      "n freeze's lair ( with all of two lines ) , and pat hingle a\n",
      "oo and george of the jungle ( two previous disney adaptation\n",
      " , and produced by one of its two stars , stanley tucci , wh\n",
      " , and produced by one of its two stars , stanley tucci , wh\n",
      "n emergency message urges the two men to attempt a second mi\n",
      " to run long enough to engulf two titanics . writer/director\n",
      " to run long enough to engulf two titanics . writer/director\n",
      " to run long enough to engulf two titanics . writer/director\n",
      " to run long enough to engulf two titanics . writer/director\n",
      "ned in four days , will cause two warring african tribes to \n",
      " resemblance to a souped up , two-hour long episode of magyu\n",
      " resemblance to a souped up , two-hour long episode of magyu\n",
      "lf . the plot revolves around two rival chicago reporters - \n",
      "lf . the plot revolves around two rival chicago reporters - \n",
      "lf . the plot revolves around two rival chicago reporters - \n",
      "lf . the plot revolves around two rival chicago reporters - \n",
      "                     the only two really good things that i \n",
      "                     the only two really good things that i \n",
      "was an excellent way to spend two hours . pm is one long hea\n",
      "n technology , so why mix the two together ? it doesn't make\n",
      "e eraserhead and begotten are two of the worst examples of t\n",
      "e eraserhead and begotten are two of the worst examples of t\n",
      "e eraserhead and begotten are two of the worst examples of t\n",
      "e eraserhead and begotten are two of the worst examples of t\n",
      "e eraserhead and begotten are two of the worst examples of t\n",
      "his opponent a `pump-bitch' . two men messily eat fast food \n",
      "his opponent a `pump-bitch' . two men messily eat fast food \n",
      "ant to make a pretty penny or two in hollywood nowadays simp\n",
      "actress marcia gay harden ) , two times before he forgets it\n",
      "estigation , we also meet the two men who come to be our pri\n",
      "estigation , we also meet the two men who come to be our pri\n",
      "estigation , we also meet the two men who come to be our pri\n",
      "estigation , we also meet the two men who come to be our pri\n",
      " scene to save his life . his two \" best \" set-pieces-- some\n",
      "serves as a vehicle for these two young actresses . nothing \n",
      "serves as a vehicle for these two young actresses . nothing \n",
      "would be going back to see it two , three , even six times .\n",
      "would be going back to see it two , three , even six times .\n",
      "atching him at least . number two , and this one is really s\n",
      "ts to keep the gloves and the two of them go out for ice cre\n",
      "ts to keep the gloves and the two of them go out for ice cre\n",
      " . connor is then attacked by two assassins sent by katana f\n",
      " . connor is then attacked by two assassins sent by katana f\n",
      " . connor is then attacked by two assassins sent by katana f\n",
      "n , played by paul rudd . the two are in a relationship that\n",
      "n , played by paul rudd . the two are in a relationship that\n",
      "n , played by paul rudd . the two are in a relationship that\n",
      "n , played by paul rudd . the two are in a relationship that\n",
      "n your hands-why else line up two armies on horesback , all \n",
      "n your hands-why else line up two armies on horesback , all \n",
      "ach drawing fish ( one of his two favorite subjects ) . duri\n",
      "ach drawing fish ( one of his two favorite subjects ) . duri\n",
      "ach drawing fish ( one of his two favorite subjects ) . duri\n",
      "ach drawing fish ( one of his two favorite subjects ) . duri\n",
      "h his gift of speech , making two primate scientists ( roddy\n",
      "h his gift of speech , making two primate scientists ( roddy\n",
      "y reason this movie is almost two hours long . for a pg-13 t\n",
      "y reason this movie is almost two hours long . for a pg-13 t\n",
      "                       plot : two sister witches have to liv\n",
      "eliminate all subtleties . at two hours and forty-five minut\n",
      "eliminate all subtleties . at two hours and forty-five minut\n",
      "e \" i still know what you did two summers ago \" ? if anyone \n",
      "e \" i still know what you did two summers ago \" ? if anyone \n",
      "e \" i still know what you did two summers ago \" ? if anyone \n",
      "he story shifts back to these two . which is unfortunately ,\n",
      "he story shifts back to these two . which is unfortunately ,\n",
      "he story shifts back to these two . which is unfortunately ,\n",
      " . considering it runs almost two hours , much too long for \n",
      "reak for excitement . at over two hours , this film could ha\n",
      "reak for excitement . at over two hours , this film could ha\n",
      "reak for excitement . at over two hours , this film could ha\n",
      " ) , or a strong character or two , anything would have help\n",
      "never any tension between the two star-crossed lovers , beca\n",
      "ures meg ryan screaming every two seconds and a big dog roll\n",
      "er that eats up the friends , two wives and several innocent\n",
      "iter silvio horta is clear in two key areas . first , the op\n",
      "ther marketing coup . the one-two punch was started in the s\n",
      " apart , it could mean one of two things : that the recently\n",
      "l and basic . there are these two guys , gordy ( david arque\n",
      "l and basic . there are these two guys , gordy ( david arque\n",
      "l and basic . there are these two guys , gordy ( david arque\n",
      "h , the script was written by two men ? \" \" no kidding ! \" t\n",
      "o be aiming for a drama about two brothers who can't communi\n",
      "o be aiming for a drama about two brothers who can't communi\n",
      "ntment , i pretty much wasted two hours of my life on this t\n",
      "ook my friend and i less than two minutes to figure out the \n",
      "ook my friend and i less than two minutes to figure out the \n",
      "ook my friend and i less than two minutes to figure out the \n",
      "ook my friend and i less than two minutes to figure out the \n",
      "ef \" ads \" from the federal network , which present the pict\n",
      "seems determined to reach the two hour mark . there was , ho\n",
      "seems determined to reach the two hour mark . there was , ho\n",
      "ilms is known for this film . two notes to forest whittaker \n",
      "istinction of have starred in two of 1998's worst thrillers \n",
      " i thought : it's about these two cops . and they're buddies\n",
      " i thought : it's about these two cops . and they're buddies\n",
      " kersey kill major players in two rival drug dealing organis\n",
      " kersey kill major players in two rival drug dealing organis\n",
      "r . and you have to factor in two more things from the subse\n",
      "r . and you have to factor in two more things from the subse\n",
      "r . and you have to factor in two more things from the subse\n",
      "r . and you have to factor in two more things from the subse\n",
      "n in the movie when she takes two showers in a period of twe\n",
      "n in the movie when she takes two showers in a period of twe\n",
      "n in the movie when she takes two showers in a period of twe\n",
      "ce . tom hanks and meg ryan , two of hollywood's most likeab\n",
      "ce . tom hanks and meg ryan , two of hollywood's most likeab\n",
      "haracter is not likable . the two who come closest to being \n",
      "al people . for example , the two gym teachers , mrs . balbr\n",
      "al people . for example , the two gym teachers , mrs . balbr\n",
      "e actors' names and a joke or two that made me chuckle , i g\n",
      ". every forty minutes of this two-hour film begins with a ne\n",
      "els uneven , regardless : act two is underdeveloped , while \n",
      " since then he has offered us two so-so adaptations of john \n",
      " since then he has offered us two so-so adaptations of john \n",
      " film will deliver a shock or two . the old formulas are aro\n",
      "veral times and reverse steps two and one . congratulations \n",
      "veral times and reverse steps two and one . congratulations \n",
      "veral times and reverse steps two and one . congratulations \n",
      "veral times and reverse steps two and one . congratulations \n",
      "illiams and whoopi goldberg ( two other paragons of self-ind\n",
      "illiams and whoopi goldberg ( two other paragons of self-ind\n",
      "he city . and there are about two or three amusing punch lin\n",
      "bles a mechanical tarantula . two men are asked to stop this\n",
      "                   synopsis : two con artists find the perfe\n",
      "                   synopsis : two con artists find the perfe\n",
      "chwarzenegger and devito play two scientists ( doctors hesse\n",
      "chwarzenegger and devito play two scientists ( doctors hesse\n",
      " king kong lives , \" which is two weeks overdue . this mess \n",
      ", three naked gun films , and two hot shots ! movies has fin\n",
      "k you beyond recognition that two of \" toy story \" 's writer\n",
      "k you beyond recognition that two of \" toy story \" 's writer\n",
      "or something . although these two women are supposed to be i\n",
      "me ( the film almost went for two hours--or did it just feel\n",
      "alls and bowling balls assail two would be thugs . although \n",
      "alls and bowling balls assail two would be thugs . although \n",
      " and the television series is two fbi agents who investigate\n",
      " and the television series is two fbi agents who investigate\n",
      " josiane balasko ) , and they two kinda hit it off . so she \n",
      " josiane balasko ) , and they two kinda hit it off . so she \n",
      " stars zahn and black . these two are so comically talented \n",
      "nded a screening in which the two women who made it were pre\n",
      "most heroes tells the tale of two explorers , the effeminate\n",
      " production company would put two and two together , come wi\n",
      " production company would put two and two together , come wi\n",
      " production company would put two and two together , come wi\n",
      "ife of a model is worthy of a two hour film . despite this ,\n",
      "ss guaranteed a sequel , so , two years later , we were subj\n",
      "ss guaranteed a sequel , so , two years later , we were subj\n",
      "s the interaction between the two leads . witty banter and a\n",
      " following review encompasses two versions of dune : dune : \n",
      " following review encompasses two versions of dune : dune : \n",
      " following review encompasses two versions of dune : dune : \n",
      " following review encompasses two versions of dune : dune : \n",
      " following review encompasses two versions of dune : dune : \n",
      " following review encompasses two versions of dune : dune : \n",
      "haphazardly glued together by two characters who are neither\n",
      "haphazardly glued together by two characters who are neither\n",
      "o save the big game , clad in two pairs of sneakers and even\n",
      "unrealistic . when looking at two ships flying side by side \n",
      "pletely gone and doesn't give two shits about it . and after\n",
      "de , mercury . however , when two of his underlings ( robert\n",
      "s and we immediately find out two pieces of key information \n",
      "s and we immediately find out two pieces of key information \n",
      "arisma . it only took another two years for mega-producer jo\n",
      "be fine for teenagers . ( the two families behind us shockin\n",
      " \" 's julliana margiulles has two scenes . \" out for justice\n",
      "story looks just as well with two partner cops looking for a\n",
      "zed . i can think of at least two other superior films where\n",
      "zed . i can think of at least two other superior films where\n",
      "    if you're going to make a two-hour hollywood in-joke , w\n",
      "a complete waste of more than two hours . half of the film w\n",
      "vances begin to intrude , the two remain a randy dandy scree\n",
      "ing over each others bodies . two particularly bad scenes hi\n",
      "makers knew they'd be getting two thumbs down from the criti\n",
      "hat tension-filled , original two hours of cinema , is in it\n",
      "hat tension-filled , original two hours of cinema , is in it\n",
      "hat tension-filled , original two hours of cinema , is in it\n",
      "heen are welcome additions in two tiny supporting roles . de\n",
      "s and three piece suits . the two detectives reluctantly bec\n",
      "s and three piece suits . the two detectives reluctantly bec\n",
      "s and three piece suits . the two detectives reluctantly bec\n",
      "re in film school just made a two minute-long film for one o\n",
      "re in film school just made a two minute-long film for one o\n",
      ". the film tells the story of two drifters with no ambition \n",
      ". the film tells the story of two drifters with no ambition \n",
      ". the film tells the story of two drifters with no ambition \n",
      ". the film tells the story of two drifters with no ambition \n",
      "o much so ( was not one , but two separate instances of sodo\n",
      " stages an inventive scene or two , but not even visual flai\n",
      "ie fails to explain how these two hooked up . be grateful . \n",
      "ie fails to explain how these two hooked up . be grateful . \n",
      "american painting . the first two words should have said eno\n",
      "american painting . the first two words should have said eno\n",
      "d company . chance brings the two together , and love , such\n",
      "m queen \" in the early '80s . two of them were halloween mov\n",
      "m queen \" in the early '80s . two of them were halloween mov\n",
      "m queen \" in the early '80s . two of them were halloween mov\n",
      "stead of norman bates we have two brothers - one of them tra\n",
      "y set of binoculars , but the two young men first formally m\n",
      "y set of binoculars , but the two young men first formally m\n",
      "y set of binoculars , but the two young men first formally m\n",
      "y set of binoculars , but the two young men first formally m\n",
      "tally remastered and includes two options for audio : a mono\n",
      "tally remastered and includes two options for audio : a mono\n",
      "wing in his footsteps are his two sons , joey ( billy burke \n",
      "wing in his footsteps are his two sons , joey ( billy burke \n",
      " whose entire premise is that two parents can't find a rare \n",
      "but the chemistry between the two is minimal , and seagal's \n",
      "players . garry shandling has two television classics under \n",
      "ure is really about breasts : two of them . julie , like a g\n",
      "them stage a daring rescue of two young fans who fall into t\n",
      " creek' crowd , and fuses the two together , ensuring that t\n",
      "elivered mostly by the film's two stars , jake gyllenhall as\n",
      ", for example , a scene where two people are in a bat cave .\n",
      "ke \" and \" dr . gonzo \" , the two men careen into vegas on a\n",
      "ke \" and \" dr . gonzo \" , the two men careen into vegas on a\n",
      "ie's stretching for an almost two hour long film with only 3\n",
      "lm i had just invested nearly two hours of my life in . when\n",
      " chain link fence between the two most sensitive characters \n",
      " chain link fence between the two most sensitive characters \n",
      " chain link fence between the two most sensitive characters \n",
      "sister meg ryan and gives her two co-stars , lisa kudrow and\n",
      "sister meg ryan and gives her two co-stars , lisa kudrow and\n",
      "he homosexual relationship of two famous 19th century french\n",
      "he homosexual relationship of two famous 19th century french\n",
      "he homosexual relationship of two famous 19th century french\n",
      "he homosexual relationship of two famous 19th century french\n",
      "he homosexual relationship of two famous 19th century french\n",
      "he homosexual relationship of two famous 19th century french\n",
      "ring a silent war between the two major mafia families in th\n",
      "ring a silent war between the two major mafia families in th\n",
      "ring a silent war between the two major mafia families in th\n",
      "kills anton's parents and his two best friends . the friends\n",
      "atthew modine ) , a father of two , is an inveterate womaniz\n",
      "y fight in the car park ? why two of these ? why does that g\n",
      " it's blade squad , the fox network's wednesday night movie \n",
      " a contrast ! in the space of two days , i saw shakespeare i\n",
      " a contrast ! in the space of two days , i saw shakespeare i\n",
      " a contrast ! in the space of two days , i saw shakespeare i\n",
      "re . kevin smith has now made two satisfying films , clerks \n",
      "re . kevin smith has now made two satisfying films , clerks \n",
      " vulnerable to crime when the two venture out of their usual\n",
      " vulnerable to crime when the two venture out of their usual\n",
      " vulnerable to crime when the two venture out of their usual\n",
      " vulnerable to crime when the two venture out of their usual\n",
      "y movie events in hollywood - two movies dealing with the sa\n",
      "hrough the making of his last two films ( though they've sin\n",
      "weird looking clown , and the two make some music together ,\n",
      "weird looking clown , and the two make some music together ,\n",
      "weird looking clown , and the two make some music together ,\n",
      " thrillers that we must spend two hours watching will smith \n",
      " thrillers that we must spend two hours watching will smith \n",
      "the other three films , their two children , rusty and audre\n",
      "the other three films , their two children , rusty and audre\n",
      "ell-designed title sequence . two gay lovers get involved in\n",
      "ell-designed title sequence . two gay lovers get involved in\n",
      "h for the other four . plus , two of them get wiped out in t\n",
      " courage under fire . \" those two films weren't bad , just n\n",
      "explosions and a kiss between two people . yea . also melodr\n",
      "er of her young brother . the two become closer , which make\n",
      "er of her young brother . the two become closer , which make\n",
      " he killed annie one or annie two , or anyone at all . the b\n",
      "pression that we are watching two films badly edited into on\n",
      "apon series , this film pairs two l . a . policemen - jack c\n",
      "apon series , this film pairs two l . a . policemen - jack c\n",
      "on his plans and somehow gets two of his co-workers to lie f\n",
      "olan and yoram globus . those two men probably thought that \n",
      "obably would have if they guy two rows behind me didn't seem\n",
      "il treasure hunters a time or two , but whenever a snake com\n",
      "g the inept robert a thing or two about kidnapping . . . and\n",
      "g the inept robert a thing or two about kidnapping . . . and\n",
      "g the inept robert a thing or two about kidnapping . . . and\n",
      "d should know when a scene or two isn't working . . . and ha\n",
      "scary , and it has to do with two actors being locked in a r\n",
      "e movie's start . between the two leads , less than a full t\n",
      "e movie's start . between the two leads , less than a full t\n",
      " an aptly titled comedy about two plastic couples housed in \n",
      " an aptly titled comedy about two plastic couples housed in \n",
      " heaven's prisoners runs only two hours plus change , but it\n",
      "klein and leelee sobieski are two of my current favorite you\n",
      "klein and leelee sobieski are two of my current favorite you\n",
      "ale investigation even though two juries have convicted him \n",
      "ale investigation even though two juries have convicted him \n",
      "egory ( c ) than in the other two combined , much as the rec\n",
      "egory ( c ) than in the other two combined , much as the rec\n",
      "egory ( c ) than in the other two combined , much as the rec\n",
      " funny sometimes to see these two trying so hard to make the\n",
      " highlight is a brawl between two women . even if they are b\n",
      "h ( eddie griffin ) . but the two of them have to deal with \n",
      "h ( eddie griffin ) . but the two of them have to deal with \n",
      "that they garner a chuckle or two from the audience . most h\n",
      "that they garner a chuckle or two from the audience . most h\n",
      ". in these one we are given a two for one package in the for\n",
      ". in these one we are given a two for one package in the for\n",
      "rphy and martin lawrence play two young men wrongfully convi\n",
      " reporter , the love story of two teenagers ( one of whom di\n",
      " reporter , the love story of two teenagers ( one of whom di\n",
      " reporter , the love story of two teenagers ( one of whom di\n",
      "three guesses , and the first two don't count . ) there are \n",
      "three guesses , and the first two don't count . ) there are \n",
      "three guesses , and the first two don't count . ) there are \n",
      " it's not that the speechless twosome are speech writers , n\n",
      "gus ( john c . reilly ) . the two of them are both stricken \n",
      "gus ( john c . reilly ) . the two of them are both stricken \n",
      "gus ( john c . reilly ) . the two of them are both stricken \n",
      "gus ( john c . reilly ) . the two of them are both stricken \n",
      "the script feeds her a one or two dimensional character , sh\n",
      "give a good performance . the two cameos by brooke shields a\n",
      "give a good performance . the two cameos by brooke shields a\n",
      "give a good performance . the two cameos by brooke shields a\n",
      "g one of their drills . after two privates hatch a scheme to\n",
      "ematic achievement . in about two hours , we get a glancing \n",
      "es with all the enthusiasm of two actors painfully aware tha\n",
      "es with all the enthusiasm of two actors painfully aware tha\n",
      "in a car crash and killing of two black youths . keital dose\n",
      "y clause in his contract , so two stunt-butts were employed \n",
      " look elsewhere . since these two men are the focus of the p\n",
      " look elsewhere . since these two men are the focus of the p\n",
      " the good buy home shopping network , he's going to be fired\n",
      "ng-fu kicks , slo-mo shots of two guns blazing , and of fire\n",
      "ng-fu kicks , slo-mo shots of two guns blazing , and of fire\n",
      "ilm in the series , following two straight-to-video duds tha\n",
      " would get if you mixed those two elements toghether . scroo\n",
      "wever , he can't take out the two cops who are after him , d\n",
      "wever , he can't take out the two cops who are after him , d\n",
      "han a sophomoric comedy about two best friends who grow up o\n",
      "han a sophomoric comedy about two best friends who grow up o\n",
      "han a sophomoric comedy about two best friends who grow up o\n",
      "han a sophomoric comedy about two best friends who grow up o\n",
      "han a sophomoric comedy about two best friends who grow up o\n",
      "ordon ( kline again ) and the two track the missing scientis\n",
      "ordon ( kline again ) and the two track the missing scientis\n",
      "ordon ( kline again ) and the two track the missing scientis\n",
      "ccabe `accidentally' released two experimental test subjects\n",
      "'t ask ) with kenny where the two characters let down their \n",
      "'t ask ) with kenny where the two characters let down their \n",
      "'t ask ) with kenny where the two characters let down their \n",
      " , he is forced to observe as two teenagers are shot to deat\n",
      " chan movie ( sans jackie ) , two teaspoons of gun- and swor\n",
      "lmmaking , dick suggests that two not-too-bright teenage gir\n",
      "lmmaking , dick suggests that two not-too-bright teenage gir\n",
      "lmmaking , dick suggests that two not-too-bright teenage gir\n",
      "lmmaking , dick suggests that two not-too-bright teenage gir\n",
      "uced and directed by clint eastwood , attempts to be a thril\n",
      "uced and directed by clint eastwood , attempts to be a thril\n",
      "uced and directed by clint eastwood , attempts to be a thril\n",
      "uced and directed by clint eastwood , attempts to be a thril\n",
      "orced to choose the lesser of two whocares . in hollywood th\n",
      " a lot of bottoms because the two beautiful women in the cre\n",
      " a lot of bottoms because the two beautiful women in the cre\n",
      " slightly one-sided . they're two conscientious kids who lov\n",
      " slightly one-sided . they're two conscientious kids who lov\n",
      " yellowstone to transform the two laid-back beach bums into \n",
      " yellowstone to transform the two laid-back beach bums into \n",
      "gle and michael gough . these two seasoned veterans carry th\n",
      "ing the audience ill . taking two great comedic screenwriter\n",
      "it's alive \" ( 1974 ) and its two sequels , \" q \" ( 1981 ) ,\n",
      " ) was the best roomm , about two rambunctous kids that tras\n",
      "nt contact came out more than two years ago and it isn't the\n",
      "nt contact came out more than two years ago and it isn't the\n",
      "nwood ) who needed to collect two million dollars in life in\n",
      "looming ( cooper ) , what are two good-hearted slackers to d\n",
      "looming ( cooper ) , what are two good-hearted slackers to d\n",
      "ith a careless mixture of the two , guarantees something is \n",
      "ssion of the exorcist ( worth two points out of my three on \n",
      " emotion- you hear the saying two negatives don't make a pos\n",
      "sage into the audience with a two-by-four . a blond , gorgeo\n",
      "oman in front of me ask for \" two tickets to that new harris\n",
      "mes a double-exposure shot of two patricia arquettes collaps\n",
      "'s career can be explained by two things : he had no money a\n",
      "'s career can be explained by two things : he had no money a\n",
      "                              two party guys bob their heads\n",
      "                              two party guys bob their heads\n",
      "are of each other , made from two different studios , from a\n",
      ", all they had to do was cast two extremely popular and attr\n",
      ", all they had to do was cast two extremely popular and attr\n",
      ", all they had to do was cast two extremely popular and attr\n",
      " of neo-nazi sympathizers and two stereotypical arabs ( one \n",
      " of neo-nazi sympathizers and two stereotypical arabs ( one \n",
      " formerly the belgian congo . two months later , he was oust\n",
      " formerly the belgian congo . two months later , he was oust\n",
      " formerly the belgian congo . two months later , he was oust\n",
      "believe that it has only been two years since norton's fanta\n",
      "believe that it has only been two years since norton's fanta\n",
      "believe that it has only been two years since norton's fanta\n",
      "r and ostentatious . when the two families meet and mingle ,\n",
      "r and ostentatious . when the two families meet and mingle ,\n",
      " beverly ( kathy najimy ) and two kids a fun-filled vacation\n",
      "e in courage under fire . the two aren't very comparable to \n",
      "e in courage under fire . the two aren't very comparable to \n",
      " served with the premise that two equally deft negotiators a\n",
      " served with the premise that two equally deft negotiators a\n",
      "he similarities between these two are countless . \" the unto\n",
      " alexander \" stretch \" rome , two detroit buddies who share \n",
      " alexander \" stretch \" rome , two detroit buddies who share \n",
      "ronicles a day in the life of two convenience store slackers\n",
      "ronicles a day in the life of two convenience store slackers\n",
      "unny . after being exposed to two and half hours of the film\n",
      "unny . after being exposed to two and half hours of the film\n",
      "stant and similar between the two films is the solid acting \n",
      "of the killer for some time . two other important characters\n",
      "eeds her help : she must stop two fallen angels from enterin\n",
      "eeds her help : she must stop two fallen angels from enterin\n",
      "s distracted by the fact that two of the main evil character\n",
      "s distracted by the fact that two of the main evil character\n",
      "son . he managed to be in the two best movies of 1967 , \" in\n",
      "ine zeta jones . seeing those two together looks a lot like \n",
      "s . people have waited twenty-two years for the prequel to s\n",
      "lot , i don't care what fox network says ) revival of the cu\n",
      "considering it was written by two actors : damon and co-star\n",
      "uire and reese witherspoon as two nineties teenagers who , t\n",
      "uire and reese witherspoon as two nineties teenagers who , t\n",
      "that you could squeeze into a two-hour thrill ride . if you \n",
      "hey fly first class . they're two-thirds of the way across t\n",
      " forgotten that it was nearly two generations ago where peop\n",
      " young face , as evidenced in two radically different projec\n",
      "all circle of male admirers . two of the men are suitors : h\n",
      "all circle of male admirers . two of the men are suitors : h\n",
      "d a wise-cracking sidekick or two , pep up the soundtrack wi\n",
      "is well known . for years the two companies have tried to sa\n",
      "is well known . for years the two companies have tried to sa\n",
      "g time , which is just shy of two hours . the story unfurls \n",
      "ave on the friendship between two boys ( schoolboy chums in \n",
      "een the main characters . the two actors , however , carry t\n",
      "een the main characters . the two actors , however , carry t\n",
      "agrinned to discover that the two women are his cousin and a\n",
      "ning just how synchronous the two realities -- 1969 and 1999\n",
      "ning just how synchronous the two realities -- 1969 and 1999\n",
      ". trouble seems to follow the two veteran detectives where e\n",
      ". trouble seems to follow the two veteran detectives where e\n",
      ". trouble seems to follow the two veteran detectives where e\n",
      "same thing i did . \" drafting two of his best friends and th\n",
      "ed feel ? the charisma of the two leads ? even now i can't s\n",
      "ed feel ? the charisma of the two leads ? even now i can't s\n",
      "view * * * * * * the previous two \" alien \" films have each \n",
      "view * * * * * * the previous two \" alien \" films have each \n",
      "leary-sandra bullock disaster two if by sea . woody harrelso\n",
      "as the movie progresses , the two characters become more and\n",
      "as the movie progresses , the two characters become more and\n",
      "as the movie progresses , the two characters become more and\n",
      "hip that blossoms between the two are the fine components th\n",
      "hip that blossoms between the two are the fine components th\n",
      " together is worth a cramp or two .                         \n",
      "which must choose between the two . it is the gifted pupil w\n",
      "which must choose between the two . it is the gifted pupil w\n",
      "rgeoning relationship between two teens . every morning and \n",
      "at the movie house is showing two films : the forster adapta\n",
      "s . the chemistry between the two of them is non-existent wh\n",
      "ick . sadly , however , these two are the only ones who exce\n",
      "ick . sadly , however , these two are the only ones who exce\n",
      "orld that it's worth spending two hours in . afterglow intro\n",
      "orld that it's worth spending two hours in . afterglow intro\n",
      "orld that it's worth spending two hours in . afterglow intro\n",
      "es here , so it is stuart and twohy's script and davis's out\n",
      "e here . it may take at least two or three viewings to appre\n",
      "e here . it may take at least two or three viewings to appre\n",
      " it's rather strange too have two computer animated talking \n",
      "nd very few rules , the first two of which are \" don't talk \n",
      "d russell make it happen , as two shite-kickin' elvis lovers\n",
      " who is up for re-election in two weeks , sexually harassed \n",
      "ne it is . it could be one of two that i hadn't seen before \n",
      "ne it is . it could be one of two that i hadn't seen before \n",
      " a close shave . \" the latter two were the second and third \n",
      " a close shave . \" the latter two were the second and third \n",
      " a close shave . \" the latter two were the second and third \n",
      "t punchy action sequel to the two dinosaur films made by ste\n",
      "t punchy action sequel to the two dinosaur films made by ste\n",
      "t punchy action sequel to the two dinosaur films made by ste\n",
      "t punchy action sequel to the two dinosaur films made by ste\n",
      "               just look back two years ago at the coen brot\n",
      "da hamilton ) . naturally the two will become infatuated wit\n",
      "aracter depth as moping . the two performances -- part of a \n",
      " the actual film was released two years after the cuban miss\n",
      "ike that of princess di ( the two do share a bit in common ,\n",
      "ike that of princess di ( the two do share a bit in common ,\n",
      "lirtatious banter between the two , but that is dispensed wi\n",
      "r performances by the movie's two leads ( jared leto and \" c\n",
      "er to marry him instead ; the two have a child named joshua \n",
      "that anderson auditioned some two thousand other prospective\n",
      " they go to , carrying around two children everywhere , and \n",
      " they go to , carrying around two children everywhere , and \n",
      " they go to , carrying around two children everywhere , and \n",
      "ly amusing battle between the two which results in a standof\n",
      " actors ( and they are , with two exceptions , men ) were lu\n",
      " actors ( and they are , with two exceptions , men ) were lu\n",
      "other at first , but once the two play together they instant\n",
      "e bronx's daring leap between two buildings ; nor is anythin\n",
      "ighbor as thyself \" or even \" two plus two makes four \" , bu\n",
      "ighbor as thyself \" or even \" two plus two makes four \" , bu\n",
      "ighbor as thyself \" or even \" two plus two makes four \" , bu\n",
      "ighbor as thyself \" or even \" two plus two makes four \" , bu\n",
      "lot of fun . it is comedic on two levels , as a romantic com\n",
      "e comical moments between the two families . fred ramsden ( \n",
      "e comical moments between the two families . fred ramsden ( \n",
      " robert puts it : \" there are two options : go to the police\n",
      "lies directly with the film's two charismatic stars , richar\n",
      "lies directly with the film's two charismatic stars , richar\n",
      "lies directly with the film's two charismatic stars , richar\n",
      "lies directly with the film's two charismatic stars , richar\n",
      " movie where you believe that two characters truly and since\n",
      "quickly . we're introduced to two jedi , the master qui-gon \n",
      "quickly . we're introduced to two jedi , the master qui-gon \n",
      "quickly . we're introduced to two jedi , the master qui-gon \n",
      "quickly . we're introduced to two jedi , the master qui-gon \n",
      " year films . well , 1999 has two of them , the other being \n",
      " year films . well , 1999 has two of them , the other being \n",
      " year films . well , 1999 has two of them , the other being \n",
      " year films . well , 1999 has two of them , the other being \n",
      "tch's zest for humanity . the two instantly become the best \n",
      "tch's zest for humanity . the two instantly become the best \n",
      "rtee is exchanged between the two from their first meeting .\n",
      "rtee is exchanged between the two from their first meeting .\n",
      "rtee is exchanged between the two from their first meeting .\n",
      "ducts have failed . the other two contenders , warner brothe\n",
      "ducts have failed . the other two contenders , warner brothe\n",
      "ets to like the dog , and the two develop an attachment whic\n",
      "steven will survive is if the two friends play against each \n",
      "steven will survive is if the two friends play against each \n",
      "vie was carried mostly by the two rather `unknowns' , pearce\n",
      "is , wright involves him with two very different characters \n",
      "is , wright involves him with two very different characters \n",
      "                with his last two films - shine and snow fal\n",
      "                with his last two films - shine and snow fal\n",
      "film , \" hero \" is notable on two fronts . first this is the\n",
      "film , \" hero \" is notable on two fronts . first this is the\n",
      "film , \" hero \" is notable on two fronts . first this is the\n",
      "e . the encounter between the two families allows the audien\n",
      "e . the encounter between the two families allows the audien\n",
      " worth , and his rendering of two of the little mermaid's bi\n",
      "on , though in my opinion his two previous films , hard eigh\n",
      ". it's a * highly * enjoyable two and a half hours . despite\n",
      ". this story is about a 4th network , wbn , taking to americ\n",
      "he contractions . between the two childbearings , coincidenc\n",
      "nded . sweetback , hassled by two white cops who are apparen\n",
      "hurricane . in this storm are two sane individuals . the fia\n",
      "hurricane . in this storm are two sane individuals . the fia\n",
      "entertainment . but merge the two and you've got the truman \n",
      "a tasteful manner . there are two characters who are father \n",
      "a tasteful manner . there are two characters who are father \n",
      "arily about the friendship of two twelve year old boys , sim\n",
      "the energy formula . when the two meet , and end up having a\n",
      "tely off . the only thing the two films have in common is th\n",
      "tely off . the only thing the two films have in common is th\n",
      "ry of serendipity is simple . two people , john trager ( joh\n",
      "ry of serendipity is simple . two people , john trager ( joh\n",
      "ters continue that turn : our two leads are simon birch ( ia\n",
      "ters continue that turn : our two leads are simon birch ( ia\n",
      "ters continue that turn : our two leads are simon birch ( ia\n",
      "ters continue that turn : our two leads are simon birch ( ia\n",
      "ters continue that turn : our two leads are simon birch ( ia\n",
      "ters continue that turn : our two leads are simon birch ( ia\n",
      "ters continue that turn : our two leads are simon birch ( ia\n",
      "ould have predicted that , in two years , quentin tarantino \n",
      "ould have predicted that , in two years , quentin tarantino \n",
      "way from mission : impossible two years ago . a certain numb\n",
      "evin smith's swan song to his two most famous characters , i\n",
      "tanic , in a poker game . the two meet under interesting cir\n",
      "cene , it is obvious that the two of them was sort of kindre\n",
      "ated features these days have two components : theme and plo\n",
      "ated features these days have two components : theme and plo\n",
      "s cameron , who had only made two films previous to this one\n",
      "legal profession in general . two factors combine to make th\n",
      "e of the better ways to spend two hours .                   \n",
      "son . he has to deal with his two granddaughters' needs and \n",
      "son . he has to deal with his two granddaughters' needs and \n",
      "son . he has to deal with his two granddaughters' needs and \n",
      "son . he has to deal with his two granddaughters' needs and \n",
      "son . he has to deal with his two granddaughters' needs and \n",
      "son . he has to deal with his two granddaughters' needs and \n",
      "m dekay ) , now divorced with two young sons , the fact of h\n",
      "blit's third film ( the other two being primal fear and fall\n",
      " vitti's private shrink , the two very different stars strik\n",
      "eet . baby's day out has only two emotions--awww and ouch--a\n",
      "ssip . we see in a shot where two bar patrons are arguing th\n",
      "the chicago reader and i were two of the only critics in ame\n",
      "eate a new jedi . first , the two must find princess leia an\n",
      "eate a new jedi . first , the two must find princess leia an\n",
      "n getting there . i only have two minor complaints about the\n",
      "d by his chance meetings with two very special women . his u\n",
      "ier and robert forster as the two leads , and although the c\n",
      "r rosie ( bonnie hunt ) , and two fleas , tuck and roll ( mi\n",
      "re tawdry themes in less than two hours than springer's noto\n",
      "re tawdry themes in less than two hours than springer's noto\n",
      "e's 29 ) matters not -- these two click in a charged way tha\n",
      "e's 29 ) matters not -- these two click in a charged way tha\n",
      "llage childhood home . as the two clash horns , the story be\n",
      "llage childhood home . as the two clash horns , the story be\n",
      "llage childhood home . as the two clash horns , the story be\n",
      "ushers who are only a year or two older than themselves . no\n",
      "ushers who are only a year or two older than themselves . no\n",
      "ushers who are only a year or two older than themselves . no\n",
      "ushers who are only a year or two older than themselves . no\n",
      "gleeson , both outstanding as two wounded activists . their \n",
      "gleeson , both outstanding as two wounded activists . their \n",
      " the loathsome u-turn ) . the two actors have arresting chem\n",
      " he winds up being pursued by two different groups which wan\n",
      "t their godless enemies . the two sisters are close and lang\n",
      "ther character by at the most two degrees . for example , co\n",
      "ctrify you till the end . the two main characters are also t\n",
      "     \" good will hunting \" is two movies in one : an indepen\n",
      "         most people fit into two different categories : you\n",
      "         most people fit into two different categories : you\n",
      "         most people fit into two different categories : you\n",
      "         most people fit into two different categories : you\n",
      "         most people fit into two different categories : you\n",
      " the woman caught between the two men . \" a breed apart \" is\n",
      " the woman caught between the two men . \" a breed apart \" is\n",
      " the woman caught between the two men . \" a breed apart \" is\n",
      " the woman caught between the two men . \" a breed apart \" is\n",
      "r winning a poker game , wins two tickets to board the grand\n",
      " say , just one of the guys . two more standouts : klein and\n",
      "o take the mobster's case for two reasons . first , of cours\n",
      "ether with lillian , as these two seem to share the same vie\n",
      "o a confrontation between the two characters . but maggie is\n",
      " a close shave . \" the latter two were the second and third \n",
      " a close shave . \" the latter two were the second and third \n",
      " a close shave . \" the latter two were the second and third \n",
      "d sincere . as we watch these two people talk , and get to k\n",
      "ng that resembles bananas and two balls of icecream . the nu\n",
      "in , playing seth's dad . the two have perfect chemistry as \n",
      "al , computer-driven decade . two people who've never met co\n",
      "al , computer-driven decade . two people who've never met co\n",
      "al , computer-driven decade . two people who've never met co\n",
      "al , computer-driven decade . two people who've never met co\n",
      "al , computer-driven decade . two people who've never met co\n",
      "tuation is not enough to fuel two hours' worth of entertainm\n",
      ", owned by james coburn . the two decide to team-up and cont\n",
      "an hour . designed in 1997 by two college roommates -- josep\n",
      " of his time bowling with his two buddies , a slightly psych\n",
      " who rallied around the first two installments , 1979's alie\n",
      " who rallied around the first two installments , 1979's alie\n",
      "nd the film was edited to the two hour mark , it would have \n",
      " totally without conscience . two parts that make up a whole\n",
      " totally without conscience . two parts that make up a whole\n",
      "olph kret's script , based on two real life incidents that a\n",
      "t off the other one , because two metal replacement balls wo\n",
      "ung man . the formula for the two films is similar -- both o\n",
      "ung man . the formula for the two films is similar -- both o\n",
      "ung man . the formula for the two films is similar -- both o\n",
      "d on one tape . . . the first two endings being \" what if ? \n",
      "d on one tape . . . the first two endings being \" what if ? \n",
      " and high school comedy . the two terms have been practicall\n",
      " and high school comedy . the two terms have been practicall\n",
      " and high school comedy . the two terms have been practicall\n",
      " and high school comedy . the two terms have been practicall\n",
      " and high school comedy . the two terms have been practicall\n",
      " and high school comedy . the two terms have been practicall\n",
      " new special edition contains two original movie trailers of\n",
      " new special edition contains two original movie trailers of\n",
      "t home the nights it was on network tv , and it was too far \n",
      " \" scream , \" is released and two audience members are kille\n",
      "ve seen in a long time . only two other intelligent science \n",
      "ve seen in a long time . only two other intelligent science \n",
      " only dream to achieve in his two under siege films . deep b\n",
      "o wasn't the real thing . the two of them , as characters cr\n",
      "he would hate the idea of the two kids marrying . ) but then\n",
      "he would hate the idea of the two kids marrying . ) but then\n",
      "he would hate the idea of the two kids marrying . ) but then\n",
      "e tremendous dynamics between two characters . everything el\n",
      " lot of chemistry between the two . these joyous moments ear\n",
      "malloy play chad and howard , two corporate drones who are d\n",
      "malloy play chad and howard , two corporate drones who are d\n",
      "s over red mountains . we see two figures looking over a bar\n",
      "s over red mountains . we see two figures looking over a bar\n",
      "nown some of these people for two movies -- it's almost impo\n",
      "nown some of these people for two movies -- it's almost impo\n",
      "nown some of these people for two movies -- it's almost impo\n",
      "nown some of these people for two movies -- it's almost impo\n",
      "r later split lip . while the two can never be completely ho\n",
      "romeda strain starts out with two soldiers in a high-tech ( \n",
      "romeda strain starts out with two soldiers in a high-tech ( \n",
      "romeda strain starts out with two soldiers in a high-tech ( \n",
      "ad already given him anyway . two mysterious and exceedingly\n",
      "f the movie . there were only two characters i liked , and o\n",
      "f the movie . there were only two characters i liked , and o\n",
      "f the movie . there were only two characters i liked , and o\n",
      "f the movie . there were only two characters i liked , and o\n",
      "f the movie . there were only two characters i liked , and o\n",
      "hedule that was sporadic over two years . followed by two se\n",
      "hedule that was sporadic over two years . followed by two se\n",
      "hedule that was sporadic over two years . followed by two se\n",
      "hedule that was sporadic over two years . followed by two se\n",
      "hedule that was sporadic over two years . followed by two se\n",
      " the similarities between the two films .                   \n",
      " implant ( fake memory ) of a two week vacation on mars . wh\n",
      "n an old gym which allows the two opposing religios sects , \n",
      "n an old gym which allows the two opposing religios sects , \n",
      "n an old gym which allows the two opposing religios sects , \n",
      "s never to appear desperate , two days being \" industry stan\n",
      "ne is totally engrossed . the two actors do what they do bes\n",
      "nce vaughn , for this tale of two mugs on a career trajector\n",
      "nce vaughn , for this tale of two mugs on a career trajector\n",
      "nce vaughn , for this tale of two mugs on a career trajector\n",
      "nce vaughn , for this tale of two mugs on a career trajector\n",
      "uch the chemistry between the two as it is each one's own ro\n",
      "uch the chemistry between the two as it is each one's own ro\n",
      "uch the chemistry between the two as it is each one's own ro\n",
      "other either . we sadly watch two families go about their li\n",
      "g for her . unfortunately the two break up . this is all wit\n",
      "g for her . unfortunately the two break up . this is all wit\n",
      "an friend ( danny nucci ) win two 3rd class tickets aboard t\n",
      " tv ) . except for a scene of two fully clothed men kissing \n",
      "raphic novels ( \" manga \" ) , two different runs of made-for\n",
      "raphic novels ( \" manga \" ) , two different runs of made-for\n",
      "raphic novels ( \" manga \" ) , two different runs of made-for\n",
      "hankfully , they never become two dimensional characters who\n",
      "nseen horseback rider . after two more murders haunt the res\n",
      "table . just think about it : two single parents , with thei\n",
      "e actor . to begin with , the two hit men : vincent vega ( j\n",
      "e actor . to begin with , the two hit men : vincent vega ( j\n",
      "e actor . to begin with , the two hit men : vincent vega ( j\n",
      "e actor . to begin with , the two hit men : vincent vega ( j\n",
      "e actor . to begin with , the two hit men : vincent vega ( j\n",
      "e actor . to begin with , the two hit men : vincent vega ( j\n",
      "e actor . to begin with , the two hit men : vincent vega ( j\n",
      "e actor . to begin with , the two hit men : vincent vega ( j\n",
      "e actor . to begin with , the two hit men : vincent vega ( j\n",
      " he can't stand in the way of two people in love . the acade\n",
      "ission director is murdered . two ardent detectives ( alan a\n",
      "h agape , while the bodies of two sexy , writhing women enti\n",
      "ter ( who for some reason has two names but otherwise is pre\n",
      "ter ( who for some reason has two names but otherwise is pre\n",
      "ovie . the next scene has the two coming together , revealin\n",
      "ovie . the next scene has the two coming together , revealin\n",
      "ovie . the next scene has the two coming together , revealin\n",
      "ovie . the next scene has the two coming together , revealin\n",
      "oks has five days to convince two judges that he's worthy of\n",
      "mbassy in hong kong , killing two american translators , and\n",
      "mbassy in hong kong , killing two american translators , and\n",
      "all and reece dinsdale as the two-timing rosencrantz and gui\n",
      "all and reece dinsdale as the two-timing rosencrantz and gui\n",
      "he puts her husband and their two daughters is considerable \n",
      "he puts her husband and their two daughters is considerable \n",
      "he puts her husband and their two daughters is considerable \n",
      "he puts her husband and their two daughters is considerable \n",
      " all seen a million times ) , two lifetime rivals thrown tog\n",
      " all seen a million times ) , two lifetime rivals thrown tog\n",
      "rranges a meeting between the two and suggests that steven b\n",
      " , 1978 laurie strode and her two friends are going to have \n",
      "ial scenes - which consist of two soldiers' experiencing a n\n",
      "ial scenes - which consist of two soldiers' experiencing a n\n",
      "ial scenes - which consist of two soldiers' experiencing a n\n",
      "ial scenes - which consist of two soldiers' experiencing a n\n",
      "ial scenes - which consist of two soldiers' experiencing a n\n",
      "ial scenes - which consist of two soldiers' experiencing a n\n",
      "secracks with the help of his two robot companions , tom ser\n",
      "secracks with the help of his two robot companions , tom ser\n",
      " desperate lovemaking between two strangers in london . ever\n",
      " desperate lovemaking between two strangers in london . ever\n",
      "ristar home video . there are two different dvds on sale : o\n",
      "desert planet of tatooine via two humanoid robots - c3po ( a\n",
      "desert planet of tatooine via two humanoid robots - c3po ( a\n",
      "desert planet of tatooine via two humanoid robots - c3po ( a\n",
      "desert planet of tatooine via two humanoid robots - c3po ( a\n",
      "desert planet of tatooine via two humanoid robots - c3po ( a\n",
      "t he wasn't supposed to , the two eventually realize that by\n",
      "ent . fantasia was a blend of two art forms : classical musi\n",
      "ent . fantasia was a blend of two art forms : classical musi\n",
      " special effects , cost about two million dollars . - the pe\n",
      "ranslated to english , except two americans wrote the screen\n",
      "is film gives us a sitting of two hours that is satisfying i\n",
      "tice makes perfect . his last two movies were almost like pr\n",
      " their mark on the film world two years ago at sundance with\n",
      " their mark on the film world two years ago at sundance with\n",
      " their mark on the film world two years ago at sundance with\n",
      " things start to fall apart . two of the members of the band\n",
      "ed it . drawn by the clever artwork on the video box , i ren\n",
      "mbles the one time that these two entities fit hand-in-hand \n",
      "characters have smartmouths , two foul , and some great one-\n",
      " to wipe out mankind if these two don't ( or can't ) stop it\n",
      "ew silly moments ( and one or two really stupid ones ) , the\n",
      "ars , without trace , leaving two searches for it fruitless \n",
      " . titanic tells its story in two time periods . it starts o\n",
      " . titanic tells its story in two time periods . it starts o\n",
      "ipt , by jeb stuart and david twohy . in a genre where one i\n",
      "ipt , by jeb stuart and david twohy . in a genre where one i\n",
      "atter here is also a notch or two above animation average . \n",
      "e federation , and it's up to two jedi knights ( qui-gon ji \n",
      "ng by the other in turn , the two leads highlight the questi\n",
      "e's not any scene between the two that would suggest that th\n",
      "e's not any scene between the two that would suggest that th\n",
      "e's not any scene between the two that would suggest that th\n",
      "a marvellous chemistry as the two zorro's , playing each oth\n",
      "out it , i remembered how the two fed off of eachother . i t\n",
      " book characters based on the two jersey slackers . jay's co\n",
      " book characters based on the two jersey slackers . jay's co\n",
      " tells her that she must stop two fallen angels ( matt damon\n",
      " tells her that she must stop two fallen angels ( matt damon\n",
      " tells her that she must stop two fallen angels ( matt damon\n",
      " tells her that she must stop two fallen angels ( matt damon\n",
      " love . \" fanny , given those two terrible examples , and fa\n",
      " love . \" fanny , given those two terrible examples , and fa\n",
      " love . \" fanny , given those two terrible examples , and fa\n",
      "ate leaves venice so that the two m's can be alone together \n",
      "ate leaves venice so that the two m's can be alone together \n",
      "antial difference between the two other than a more refined \n",
      "antial difference between the two other than a more refined \n",
      "antial difference between the two other than a more refined \n",
      "antial difference between the two other than a more refined \n",
      "antial difference between the two other than a more refined \n",
      "man and a sentient computer network , a sham world , the abi\n",
      "man and a sentient computer network , a sham world , the abi\n",
      "l film . . . have a blast ! ! two scenes to watch for are bo\n",
      "l film . . . have a blast ! ! two scenes to watch for are bo\n",
      "( literally ) marcellus . the two winde up prisoner to two h\n",
      "( literally ) marcellus . the two winde up prisoner to two h\n",
      "( literally ) marcellus . the two winde up prisoner to two h\n",
      "( literally ) marcellus . the two winde up prisoner to two h\n",
      "the way a subplot involving a two-bit thug named , accuratel\n",
      "nefits , etc . , his wife and two children won't be provided\n",
      "nefits , etc . , his wife and two children won't be provided\n",
      "ing the class , however , are two policemen : ray duquette (\n",
      "ing the class , however , are two policemen : ray duquette (\n",
      "ok he and his colleagues over two years to prove . and , duh\n",
      "ok he and his colleagues over two years to prove . and , duh\n",
      "ok he and his colleagues over two years to prove . and , duh\n",
      "ok he and his colleagues over two years to prove . and , duh\n",
      "ok he and his colleagues over two years to prove . and , duh\n",
      "ok he and his colleagues over two years to prove . and , duh\n",
      "here it's carter who gets the two of them into trouble and l\n",
      "o-pics often fall into one of two categories : overblown her\n",
      "o-pics often fall into one of two categories : overblown her\n",
      "o-pics often fall into one of two categories : overblown her\n",
      "o-pics often fall into one of two categories : overblown her\n",
      "o-pics often fall into one of two categories : overblown her\n",
      "ep through . looking at these two versions , especially afte\n",
      "ep through . looking at these two versions , especially afte\n",
      "ep through . looking at these two versions , especially afte\n",
      "ep through . looking at these two versions , especially afte\n",
      "prematurely into the story of two sisters , both musicians ,\n",
      "prematurely into the story of two sisters , both musicians ,\n",
      "prematurely into the story of two sisters , both musicians ,\n",
      "prematurely into the story of two sisters , both musicians ,\n",
      "prematurely into the story of two sisters , both musicians ,\n",
      "prematurely into the story of two sisters , both musicians ,\n",
      "kelly . every morning , these two email each other silly , a\n",
      "kelly . every morning , these two email each other silly , a\n",
      "kelly . every morning , these two email each other silly , a\n",
      " next stop wonderland \" . the two main characters , alan and\n",
      " next stop wonderland \" . the two main characters , alan and\n",
      " next stop wonderland \" . the two main characters , alan and\n",
      "ng film , much like the first two were . however , it's a ve\n",
      "ng film , much like the first two were . however , it's a ve\n",
      "ng film , much like the first two were . however , it's a ve\n",
      "ng film , much like the first two were . however , it's a ve\n",
      "and the confirmation that the two rock stars may have very w\n",
      "film . it revolves around the two rival families , who in th\n",
      "film . it revolves around the two rival families , who in th\n",
      "as skilled on the cello . the two comepete for and win many \n",
      "as skilled on the cello . the two comepete for and win many \n",
      "rth texas in 35 , 000 b . c . two proto-humans enter the cav\n",
      "rth texas in 35 , 000 b . c . two proto-humans enter the cav\n",
      "t dreams may come begins with two boats colliding on a lake \n",
      "t dreams may come begins with two boats colliding on a lake \n",
      "t dreams may come begins with two boats colliding on a lake \n",
      "my school used to divide into two groups , based on their ac\n",
      "my school used to divide into two groups , based on their ac\n",
      "my school used to divide into two groups , based on their ac\n",
      "my school used to divide into two groups , based on their ac\n",
      "my school used to divide into two groups , based on their ac\n",
      "rip , put through a detour or two and finds itself freewheel\n",
      "reativity and originality are two adjectives lacking in most\n",
      "personal : the movie is about two people and what happens to\n",
      "e gimmick is that it's really two stories : the film follows\n",
      "e gimmick is that it's really two stories : the film follows\n",
      "e gimmick is that it's really two stories : the film follows\n",
      "e gimmick is that it's really two stories : the film follows\n",
      "e gimmick is that it's really two stories : the film follows\n",
      "e gimmick is that it's really two stories : the film follows\n",
      "e gimmick is that it's really two stories : the film follows\n",
      "ted fountain kiss between the two leads with a luscious , er\n",
      "and finds himself in a jam or two along the way . the story \n",
      "and finds himself in a jam or two along the way . the story \n",
      " is high throughout the first two hours , the climax comes f\n",
      " natalie portman ( the latter two also show up in woody alle\n",
      "aster film , and the first of two \" the sky is falling \" fli\n",
      "snatch . \" \" lock , stock and two smoking barrels \" intro'd \n",
      "snatch . \" \" lock , stock and two smoking barrels \" intro'd \n",
      "snatch . \" \" lock , stock and two smoking barrels \" intro'd \n",
      "er life seems limited to just two activities : treating gavi\n",
      "er life seems limited to just two activities : treating gavi\n",
      "speople who beneath their trustworthy layer , conduct an amo\n",
      "n . before directing the last two batman duds , however , sc\n",
      "as to include at least one or two difficult people who want \n",
      "of the adult film industry of two decades ago , it's hardly \n",
      "med like we were watching the two talk from between the trai\n",
      "med like we were watching the two talk from between the trai\n",
      "e problems could be solved in two minutes with a peppy monta\n",
      "e to come up with in the last two years . although one does \n",
      " shared the similar visions . two of them must break through\n",
      " shared the similar visions . two of them must break through\n",
      " joel and ethan coen fit into two broad categories : quirky \n",
      " joel and ethan coen fit into two broad categories : quirky \n",
      " joel and ethan coen fit into two broad categories : quirky \n",
      "e heard from again for nearly two years . director george bu\n",
      "st of their success ) . point two , it has been through seve\n",
      "st of their success ) . point two , it has been through seve\n",
      "st of their success ) . point two , it has been through seve\n",
      "eemed to be written for these two actors . the story also go\n",
      "d `faggot stuff . ' there are two predominant images of new \n",
      "d `faggot stuff . ' there are two predominant images of new \n",
      "main character . an enjoyable two hours , metro is enjoyable\n",
      "lia fong sing lee ) and their two teen sons ( toby wong , to\n",
      "lia fong sing lee ) and their two teen sons ( toby wong , to\n",
      "too long ( it's a little over two hours but it felt even lon\n",
      "wall splits his hometown into two parts . mother describes l\n",
      " is the submerged humanity of two key players as \" the deep \n",
      " is the submerged humanity of two key players as \" the deep \n",
      " is the submerged humanity of two key players as \" the deep \n",
      " his life insurance was worth two-million dollars and they s\n",
      "eloped and well played by the two women . although the part \n",
      "ge demonstrates itself within two major storylines : along t\n",
      "ass with the mantra , \" one , two , three , attitude ! \" she\n",
      "istic maneuver , kubrick cast two big-name stars in the lead\n",
      "istic maneuver , kubrick cast two big-name stars in the lead\n",
      "o forward in time , where the two flynt brothers , now young\n",
      "o forward in time , where the two flynt brothers , now young\n",
      "o forward in time , where the two flynt brothers , now young\n",
      "o forward in time , where the two flynt brothers , now young\n",
      "and he rarely gets to see his two children , jeff ( jesse ja\n",
      ", and james wong , the latter two being writers for the t . \n",
      ", and james wong , the latter two being writers for the t . \n",
      "g side him , and although the two more likely represent gen-\n",
      "g side him , and although the two more likely represent gen-\n",
      " just attended the wedding of two of their friends and decid\n",
      " just attended the wedding of two of their friends and decid\n",
      " just attended the wedding of two of their friends and decid\n",
      " just attended the wedding of two of their friends and decid\n",
      " just attended the wedding of two of their friends and decid\n",
      " just attended the wedding of two of their friends and decid\n",
      " just attended the wedding of two of their friends and decid\n",
      "estruction of the universe by two fallen angels , bartleby (\n",
      "th many acerbic asides as the two come factions come into co\n",
      "th many acerbic asides as the two come factions come into co\n",
      "th many acerbic asides as the two come factions come into co\n",
      "th many acerbic asides as the two come factions come into co\n",
      "ne seems more than familiar : two american teenage girls on \n",
      " to be going fine , until the two canoes split up , leaving \n",
      " to be going fine , until the two canoes split up , leaving \n",
      " ground which has yielded his two greatest box office succes\n",
      " ground which has yielded his two greatest box office succes\n",
      " ground which has yielded his two greatest box office succes\n",
      "eisurely soak in the tub when two thugs break into his apart\n",
      "eisurely soak in the tub when two thugs break into his apart\n",
      " pull off . still , throw the two rodents in a boxing arena \n",
      " pull off . still , throw the two rodents in a boxing arena \n",
      " pull off . still , throw the two rodents in a boxing arena \n",
      "mmon ) and joe ( curtis ) are two stage musicians who go fro\n",
      "mmon ) and joe ( curtis ) are two stage musicians who go fro\n",
      "he knows her man suspects the two of cheating behind his bac\n",
      " scene comprising bateman and two women , and initial report\n",
      " scene comprising bateman and two women , and initial report\n",
      "r one brief instance when the two players visit atlantic cit\n",
      "u sustain laughter for nearly two hours ? somehow , the farr\n",
      "him to have to leave town and two beloved kids forever . the\n",
      "hem was better than the other two . it's impossible . kim ba\n",
      "rom films like 2010 : odyssey two , alien and close encounte\n",
      "rom films like 2010 : odyssey two , alien and close encounte\n",
      "her who is accused of rape by two of his students , kelly va\n",
      "ways been told that there are two things in life that are un\n",
      "ways been told that there are two things in life that are un\n",
      " anyway , hee hee ) , and the two begin a kind of relationsh\n",
      " not great , but it does have two things that many horror fi\n",
      "jor player for as long or the two are frequently indistingui\n",
      "jor player for as long or the two are frequently indistingui\n",
      "jor player for as long or the two are frequently indistingui\n",
      " change , most notably in the two dalton films ) . but even \n",
      " change , most notably in the two dalton films ) . but even \n",
      " change , most notably in the two dalton films ) . but even \n",
      "'t spoken since she was raped two years earlier , her innoce\n",
      "'t spoken since she was raped two years earlier , her innoce\n",
      "'t spoken since she was raped two years earlier , her innoce\n",
      "'s equally talented , and the two men play a cat and mouse g\n",
      "ic heights . there's at least two grand shootouts , and at l\n",
      "ky ( season hubley ) . almost two decades after its release \n",
      "ky ( season hubley ) . almost two decades after its release \n",
      "ky ( season hubley ) . almost two decades after its release \n",
      "ky ( season hubley ) . almost two decades after its release \n",
      "de , released in august . the two films take noticeably diff\n",
      "de , released in august . the two films take noticeably diff\n",
      "eir \" piece of the action \" , two heroes on the side of law \n",
      "a lighter movie than the last two star trek films . the film\n",
      "o ( benito del toro ) . these two spend most of the film in \n",
      "ecomes a love story involving two people whose past choices \n",
      "ecomes a love story involving two people whose past choices \n",
      ", it breaks in half , but the two halves flip up against eac\n",
      ", it breaks in half , but the two halves flip up against eac\n",
      "           the 1990s produced two brilliant science fiction \n",
      "           the 1990s produced two brilliant science fiction \n",
      "           the 1990s produced two brilliant science fiction \n",
      "           the 1990s produced two brilliant science fiction \n",
      "           the 1990s produced two brilliant science fiction \n",
      " cementing their positions as two of my favorites . here's h\n",
      "eone should film the story of two college roommates whose re\n",
      " of some important software . two co-workers go to his apart\n",
      "s wondering , how would these two make this disney flick spi\n",
      "s wondering , how would these two make this disney flick spi\n",
      "o the work which ilm produced two decades ago and still hold\n",
      "o the work which ilm produced two decades ago and still hold\n",
      " squad . \" coming april 9 are two more of this type : \" neve\n",
      "h great performances from its two stars . martin , who also \n",
      "h great performances from its two stars . martin , who also \n",
      "ine the successful formula of two blockbuster films , the en\n",
      "ething more interesting . the two make an oddly likeable cou\n",
      "hen re-converge , she becomes two completely different indiv\n",
      "hen re-converge , she becomes two completely different indiv\n",
      "hen re-converge , she becomes two completely different indiv\n",
      " once passionate lovers , the two are now little more than c\n",
      " once passionate lovers , the two are now little more than c\n",
      "g feeling and tenderness . at two hours and ten minutes , am\n",
      "g feeling and tenderness . at two hours and ten minutes , am\n",
      "such . david and jennifer are two very 90's high school twin\n",
      "such . david and jennifer are two very 90's high school twin\n",
      "such . david and jennifer are two very 90's high school twin\n",
      "graphy throughout , and the artwork reveal hints of japanese\n",
      "t : there's a scene where the two go to buy a new tv . the p\n",
      "ning . any sequence where the two men sit at the table toget\n",
      "as so controversial that only two theaters in the entire uni\n",
      "             there seem to be two reactions to dark city . y\n",
      "             there seem to be two reactions to dark city . y\n",
      "nimals , we are introduced to two new human characters as we\n",
      " 1997 ) play mike and trent , two everyday 20somethings on t\n",
      "rs his territory , but as the two form a tentative professio\n",
      "y mike judge ) . they are the two animated mtv characters wh\n",
      "y mike judge ) . they are the two animated mtv characters wh\n",
      "y mike judge ) . they are the two animated mtv characters wh\n",
      "y mike judge ) . they are the two animated mtv characters wh\n",
      "y mike judge ) . they are the two animated mtv characters wh\n",
      "role in this film than in her two previous appearances in th\n",
      "ters , ( a few have a line or two ) , mostly extras . everyt\n",
      "ters , ( a few have a line or two ) , mostly extras . everyt\n",
      "ters , ( a few have a line or two ) , mostly extras . everyt\n",
      "ters , ( a few have a line or two ) , mostly extras . everyt\n",
      "ters , ( a few have a line or two ) , mostly extras . everyt\n",
      "ars tom hanks and meg ryan as two somewhat unhappy new yorke\n",
      "crimson tide , \" he's created two successfully chilly films \n",
      "crimson tide , \" he's created two successfully chilly films \n",
      "ves . but not before sticking two chopsticks into roy's mout\n",
      " having a new boyfriend as of two weeks named brian ( tony s\n",
      "holism as it is a story about two people who except each oth\n",
      "holism as it is a story about two people who except each oth\n",
      "holism as it is a story about two people who except each oth\n",
      "holism as it is a story about two people who except each oth\n",
      " rohde ) , but aside from the two leads , no one has more th\n",
      "he accident happened and lost two children , wants nothing t\n",
      "ogy will present for the next two installments , episode's i\n",
      "ay ; then we see the story of two gay movie actors ( played \n",
      "s underworld connections , as two goons search for the money\n",
      "le , \" but judging from these two films , i'll bet she's one\n",
      " ) owes money all over town . two goons , out to collect on \n",
      "ding onto a job for more than two weeks . but george finally\n",
      "dener , join the family . the two that speak seem agreeable \n",
      "f their different motives the two team up and fall for each \n",
      "f their different motives the two team up and fall for each \n",
      "ther the attachment is to the two main characters or to thei\n",
      "rmance i've seen her in . the two performers work perfectly \n",
      "seeing it through the eyes of two young lovers . in either c\n",
      "seeing it through the eyes of two young lovers . in either c\n",
      "seeing it through the eyes of two young lovers . in either c\n",
      "seeing it through the eyes of two young lovers . in either c\n",
      "seeing it through the eyes of two young lovers . in either c\n",
      "old , illustrated book to her two charges . periodically thr\n",
      " to bringing him to justice . two women also get caught up i\n",
      " to bringing him to justice . two women also get caught up i\n",
      "ments between roberta and her two sons , who must cope when \n",
      " romantic liaison between the two in an underground bedroom \n",
      " romantic liaison between the two in an underground bedroom \n",
      " romantic liaison between the two in an underground bedroom \n",
      "a clockwork orange . at about two hours and 30 minutes , the\n",
      "a clockwork orange . at about two hours and 30 minutes , the\n",
      " to africa , they rely on the two surviving spaniards to nav\n",
      " to africa , they rely on the two surviving spaniards to nav\n",
      " to africa , they rely on the two surviving spaniards to nav\n",
      "well steal the movie with his two scenes as a colorful bowle\n",
      "for it's own good . after the two combatants begin duelling \n",
      "n -- what were the chances of two studios both deciding to b\n",
      "ck constantly and , over that two week period , i heard ever\n",
      "iginal with pride . it's been two years since a pair of over\n",
      "iginal with pride . it's been two years since a pair of over\n",
      "ption , life is beautiful has two very different tones , but\n",
      "ce and good cheer , regarding two moral topics -- love and r\n",
      "ce and good cheer , regarding two moral topics -- love and r\n",
      " the original scream , is now two years older and off to col\n",
      " the original scream , is now two years older and off to col\n",
      " the original scream , is now two years older and off to col\n",
      " the original scream , is now two years older and off to col\n",
      " the original scream , is now two years older and off to col\n",
      " the original scream , is now two years older and off to col\n",
      " donald pleasance ) leads the two of them to team up and sol\n",
      "they systematically consume \" two bags of grass , seventy-fi\n",
      "they systematically consume \" two bags of grass , seventy-fi\n",
      "they systematically consume \" two bags of grass , seventy-fi\n",
      "they systematically consume \" two bags of grass , seventy-fi\n",
      "aquin ) wants them back . the two spaniards who own \" la ami\n",
      "aquin ) wants them back . the two spaniards who own \" la ami\n",
      "this one . the story involves two couples ( ben stiller & ca\n",
      "find the cauldron ) , and the two escape through the deep ca\n",
      "find the cauldron ) , and the two escape through the deep ca\n",
      "lustrates the true stories of two particular contestants , h\n",
      "lustrates the true stories of two particular contestants , h\n",
      "t man , though , he runs into two men who agree to help him \n",
      "t man , though , he runs into two men who agree to help him \n",
      "t man , though , he runs into two men who agree to help him \n",
      "williams and skarsg ? rd , as two old college pals who ? ve \n",
      "williams and skarsg ? rd , as two old college pals who ? ve \n",
      "e to earth to attempt to kill two ambassadors . and it up to\n",
      "e characteristic unites these two diverse individuals -- the\n",
      "e characteristic unites these two diverse individuals -- the\n",
      "e characteristic unites these two diverse individuals -- the\n",
      "nger the world faced in those two weeks in 1962 . now , a qu\n",
      "nger the world faced in those two weeks in 1962 . now , a qu\n",
      "nger the world faced in those two weeks in 1962 . now , a qu\n",
      "in the congregation , but the two of them have secretly plot\n",
      "in the congregation , but the two of them have secretly plot\n",
      "ubitably hilarious \" just the two of us \" rendition by dr . \n",
      " are great , particularly the two leads . there is one twist\n",
      "s it moves beyond film into artwork . it is the story of ? s\n",
      "raction between the different twosomes , the winter guest's \n",
      "raction between the different twosomes , the winter guest's \n",
      "raction between the different twosomes , the winter guest's \n",
      " , one from a newsgroup , and two from different online reso\n",
      " , one from a newsgroup , and two from different online reso\n",
      " , one from a newsgroup , and two from different online reso\n",
      " , one from a newsgroup , and two from different online reso\n",
      "f the movie , while the first two hours are just beautiful s\n",
      "f the movie , while the first two hours are just beautiful s\n",
      " up in the explosions to give two seconds' thought to what a\n",
      " up in the explosions to give two seconds' thought to what a\n",
      " in crowds of all types . the two lead names share equal scr\n",
      " in crowds of all types . the two lead names share equal scr\n",
      "ect , a hilarious short about two desklamps and a rubber bal\n",
      "e/compulsive neat freak . the two men , despite their friend\n",
      "e/compulsive neat freak . the two men , despite their friend\n",
      "ve been receiving answers for two years . ( note that , in t\n",
      "ve been receiving answers for two years . ( note that , in t\n",
      "ve been receiving answers for two years . ( note that , in t\n",
      "if you want to jump cut every two seconds , do it the way sp\n",
      " \" schindler's list \" ) . the two leads , stephen dillane as\n",
      " pfeiffer . ) rameses and his two wizard friends ( voiced by\n",
      " guy , who is living with his two brothers , tom ( walcott )\n",
      "three white christian males , two of them , larry ( spacey )\n",
      "three white christian males , two of them , larry ( spacey )\n",
      "g \" ; and , even a mix of the two with frances mcdormand in \n",
      "n slightly so--there are just two very viable points of view\n",
      "ilms usually fall into one of two categories : 1 ) long-term\n",
      "nd more tragic than the first two . the only regret is the u\n",
      "nd more tragic than the first two . the only regret is the u\n",
      "nd more tragic than the first two . the only regret is the u\n",
      "nd more tragic than the first two . the only regret is the u\n",
      "ther , julia ( winslet ) , of two sweet young girls , the 6-\n",
      "ther , julia ( winslet ) , of two sweet young girls , the 6-\n",
      "o him . we follow him through two very different cases ; the\n",
      "o him . we follow him through two very different cases ; the\n",
      "rgia , and it revolves around two people in their twilight y\n",
      "rgia , and it revolves around two people in their twilight y\n",
      "n the movie . now , more than two decades later , when some \n",
      " hall ? practice . \" it takes two hours for music of the hea\n",
      " hall ? practice . \" it takes two hours for music of the hea\n",
      " hall ? practice . \" it takes two hours for music of the hea\n",
      " and present , and every time two or more interact , they be\n",
      " and present , and every time two or more interact , they be\n",
      " and present , and every time two or more interact , they be\n",
      " and present , and every time two or more interact , they be\n",
      "are similar , they really are two distinctly different films\n",
      "ys to get it all on-screen in two , by leading his audience \n",
      "ys to get it all on-screen in two , by leading his audience \n",
      "ys to get it all on-screen in two , by leading his audience \n",
      "re . however , while in those two movies ( and others ) , th\n",
      "re . however , while in those two movies ( and others ) , th\n",
      " the relationship between the two , and as a result , we can\n",
      " the relationship between the two , and as a result , we can\n",
      " the relationship between the two , and as a result , we can\n",
      " the relationship between the two , and as a result , we can\n",
      " the relationship between the two , and as a result , we can\n",
      " the relationship between the two , and as a result , we can\n",
      " to give the spanish prisoner two and half stars . from my f\n",
      "as four major shootings , and two of those take place mostly\n",
      "e and kanoby then , joined by two inter-galactic renegades ,\n",
      "e and kanoby then , joined by two inter-galactic renegades ,\n",
      "nge days' chronicles the last two days of 1999 in los angele\n",
      "ived situations ( to distract two female guards , lilith tos\n",
      "e and are forced to live in networks of catacombs under the \n",
      "ted of the rape and murder of two young girls . immediately \n",
      "ted of the rape and murder of two young girls . immediately \n",
      "dynamic achieved in the first two-thirds , and ultimately ju\n",
      "ke hallstrom's 1999 winner of two academy awards , the cider\n",
      " , and sparks fly between the two from the get go . oscar fe\n",
      " , and sparks fly between the two from the get go . oscar fe\n",
      " movie musicals on one hand . two reasons have contributed t\n",
      "ood fortune is the mission of two longtime friends jackie ( \n",
      "was quite a fine way to spend two hours . the film opens up \n",
      "was quite a fine way to spend two hours . the film opens up \n",
      "s stuff and develops at least two particular scenes which ar\n",
      "s stuff and develops at least two particular scenes which ar\n",
      "s stuff and develops at least two particular scenes which ar\n",
      "uge media empire , and raised two beautiful daughters , alli\n",
      " huston and ben gazarra , are two very strange individuals .\n",
      "ost in his house . the review two low-key summer horror film\n",
      "ost in his house . the review two low-key summer horror film\n",
      " summer was recently saved by two very different movies . on\n",
      " summer was recently saved by two very different movies . on\n",
      "d tim ( matthew lillard ) are two guys who really want the 4\n",
      "d tim ( matthew lillard ) are two guys who really want the 4\n",
      "d tim ( matthew lillard ) are two guys who really want the 4\n",
      "h . the focus of the story is two brothers . david morse is \n",
      "h . the focus of the story is two brothers . david morse is \n",
      "nd the perception of love are two completely separate things\n",
      "e way a year in advance , but two weeks ago i had never hear\n",
      "e to make a comparison of the two . i have heard , however ,\n",
      "e to make a comparison of the two . i have heard , however ,\n",
      "rest of their classmates . as two investigators interrogate \n",
      " enamored of each other , the two embark upon an on-again , \n",
      " enamored of each other , the two embark upon an on-again , \n",
      "n with her cranky husband and two cynical teenagers , rosalb\n",
      " runs 88 minutes and can feel two hours long . aside from th\n",
      "ed by the police , taking the two victims with them and in t\n",
      "hat i did like the farrellys' two previous films more than t\n",
      "financially , but as the last two muppet films ( or that sil\n",
      "financially , but as the last two muppet films ( or that sil\n",
      "nd a great script . since the two aforementioned films came \n",
      "er nature . in fact , had the two movies been made in hong k\n",
      "he better picture between the two depends on the viewer , bu\n",
      " . since i was hatched a mere two years prior to the release\n",
      " we know early on where these two characters are headed , an\n",
      " we know early on where these two characters are headed , an\n",
      " closet genius when he solves two extraordinarily difficult \n",
      "ve had a teenage daughter and two young sons ; here he is a \n",
      "ve had a teenage daughter and two young sons ; here he is a \n",
      "g after a eight-year layoff , two girls and a guy , is a fil\n",
      "g after a eight-year layoff , two girls and a guy , is a fil\n",
      "g after a eight-year layoff , two girls and a guy , is a fil\n",
      "g after a eight-year layoff , two girls and a guy , is a fil\n",
      "g after a eight-year layoff , two girls and a guy , is a fil\n",
      "g after a eight-year layoff , two girls and a guy , is a fil\n",
      "g after a eight-year layoff , two girls and a guy , is a fil\n",
      "g after a eight-year layoff , two girls and a guy , is a fil\n",
      "g after a eight-year layoff , two girls and a guy , is a fil\n",
      "about one quarter through the two hour picture , and robert \n",
      " couple of scenes later , the two embark on a journey to tor\n",
      "n this likable period ) . the two make a winning couple , ma\n",
      "n this likable period ) . the two make a winning couple , ma\n",
      "n this likable period ) . the two make a winning couple , ma\n",
      "hree met . ) the film follows two parallel tracks as the jac\n",
      "hree met . ) the film follows two parallel tracks as the jac\n",
      "hree met . ) the film follows two parallel tracks as the jac\n",
      "ong at the box office . these two films are undoubtedly goin\n",
      "ong at the box office . these two films are undoubtedly goin\n",
      "ar what i'm saying . the only two films of his that i really\n",
      "ar what i'm saying . the only two films of his that i really\n",
      " only a side show . this is a two person film with the other\n",
      " only a side show . this is a two person film with the other\n",
      "riage is one which will unite two very prestigious families \n",
      "r is fine-- just ask clint eastwood-- but this film that boa\n",
      "in jane who hasn't had sex in two years . she leaves me pini\n",
      "ed by rank film productions . two english fops , the 'powder\n",
      "ed by rank film productions . two english fops , the 'powder\n",
      "eless , the film does provide two and a half hours of pure e\n",
      "eless , the film does provide two and a half hours of pure e\n",
      "eless , the film does provide two and a half hours of pure e\n",
      "d estranged from his wife and two kids . to atone for his si\n",
      "eeds wonderfully at its first two goals . the portrayal of t\n",
      "eeds wonderfully at its first two goals . the portrayal of t\n",
      "eeds wonderfully at its first two goals . the portrayal of t\n",
      "eeds wonderfully at its first two goals . the portrayal of t\n",
      "and artists and now there are two big budget films within as\n",
      "and artists and now there are two big budget films within as\n",
      "to catch the bad guys . these two fine actors give the film \n",
      "to catch the bad guys . these two fine actors give the film \n",
      "to catch the bad guys . these two fine actors give the film \n",
      "to catch the bad guys . these two fine actors give the film \n",
      "when he gets in possession of two precious extra visas . thi\n",
      "when he gets in possession of two precious extra visas . thi\n",
      ": at one point in the movie , two children are playing with \n",
      "f grain . there were at least two occasions where images wer\n",
      "ted in prison after murdering two black men in a fit of rage\n",
      "ted in prison after murdering two black men in a fit of rage\n",
      "ted in prison after murdering two black men in a fit of rage\n",
      ") . at the premiere of stab , two students from sidney's col\n",
      " drives her to take up one or two causes . in love life , th\n",
      "mal showing of their previous two releases ; mousehunt and =\n",
      "mal showing of their previous two releases ; mousehunt and =\n",
      "mal showing of their previous two releases ; mousehunt and =\n",
      "inal blockbuster film and its two sequels not only evoked wo\n",
      "inal blockbuster film and its two sequels not only evoked wo\n",
      "s island earth is the tale of two scientists , a man and a w\n",
      "s island earth is the tale of two scientists , a man and a w\n",
      " is confident . however , the two females leads tend to prom\n",
      "lomper ( steve huison ) , and two additional fellows who gai\n",
      "al edition , and to the other two films of the trilogy which\n",
      "rt enough to realize that the two comedians can generate eno\n",
      "rt enough to realize that the two comedians can generate eno\n",
      "rt enough to realize that the two comedians can generate eno\n",
      "e original film and its first two sequels ( 1972's _shaft's_\n",
      "s a fun chemistry between the two of them , especially in an\n",
      "s a fun chemistry between the two of them , especially in an\n",
      "nds through his dealings with two women , the hard-luck fact\n",
      "eady . what on earth do these two movies have in common ? to\n",
      "eady . what on earth do these two movies have in common ? to\n",
      " space pumping bullets out of two pistols and chewing on a t\n",
      "             in many ways , \" twotg \" does for tough-guy mov\n",
      "             in many ways , \" twotg \" does for tough-guy mov\n",
      "             in many ways , \" twotg \" does for tough-guy mov\n",
      "             in many ways , \" twotg \" does for tough-guy mov\n",
      "             in many ways , \" twotg \" does for tough-guy mov\n",
      "             in many ways , \" twotg \" does for tough-guy mov\n",
      "             in many ways , \" twotg \" does for tough-guy mov\n",
      "             in many ways , \" twotg \" does for tough-guy mov\n",
      "ou ? ' he asks . the mood the two create is incredibly intim\n",
      "ou ? ' he asks . the mood the two create is incredibly intim\n",
      " be found a vintage model t . two old ladies have a relation\n",
      "a definite highlight , as are two rousing musical numbers ab\n",
      "hancellor . within the senate two camps are at odds : a bick\n",
      "hancellor . within the senate two camps are at odds : a bick\n",
      " if that upsets you . at over two and a half hours in length\n",
      "a and defending your life are two of my favorite comedies . \n",
      "pse the dalai lama when he is two years old . his curiosity \n",
      "here is chemistry between the two leads , thankfully , other\n",
      ". this is all strung out over two hours , which was way too \n",
      ". this is all strung out over two hours , which was way too \n",
      "eland just so it can have the two-and-a-half hour running ti\n",
      " kindergarten teacher . \" the two friends often doll themsel\n",
      " kindergarten teacher . \" the two friends often doll themsel\n",
      " kindergarten teacher . \" the two friends often doll themsel\n",
      "around trade disputes between two planets . qui-gon ( liam n\n",
      "seen movies that have gone on two hours with characters i co\n",
      "seen movies that have gone on two hours with characters i co\n",
      "ad so far , anyway--yep , all two reviews ) , and it makes m\n",
      "his movie because it followed two extreme characters and put\n",
      "his movie because it followed two extreme characters and put\n",
      "his movie because it followed two extreme characters and put\n",
      "of an elevator , into place . two security guards grab him a\n",
      "of an elevator , into place . two security guards grab him a\n",
      "Not found\n",
      "Not found\n",
      "Not found\n",
      "Not found\n",
      "Not found\n",
      "Not found\n",
      "Not found\n",
      "Not found\n",
      "Not found\n",
      "Not found\n",
      "Not found\n",
      "Not found\n",
      "s funded by her mother . lucy quit working professionally 10\n",
      "erick . i disliked that movie quite a bit , but since \" prac\n",
      "t disaster . babe ruth didn't quit baseball after one season\n",
      "o-be fiance . i think she can quit that job and get a more r\n",
      " and rose mcgowan should just quit acting . she has no chari\n",
      "and get a day job . and don't quit it .                     \n",
      " kubrick , alas , should have quit while he was ahead . this\n",
      "everyone involved should have quit while they were still ahe\n",
      "l die . so what does joe do ? quit his job , of course ! ! w\n",
      "red \" implant . he's ready to quit the biz and get a portion\n",
      "hat he always recorded , they quit and become disillusioned \n",
      " admit that i ? ? ? ve become quite the \" scream \" fan . no \n",
      " again , the fact that he has quit his job to feel what it's\n",
      "school reunion . he has since quit his job as a travel journ\n",
      "ells one of his friends , \" i quit school because i didn't l\n",
      "ms , cursing off the boss and quitting his job ( \" today i q\n",
      "e , the arrival of the now ubiquitous videocassette . burt r\n",
      "in capitol city , that he has quit his job and hopes to open\n",
      "before his death at age 67 to quit filmmaking once a homosex\n",
      " - joss's explanation that he quit the priesthood because of\n",
      " is a former prosecutor , and quit because of tensions betwe\n"
     ]
    }
   ],
   "source": [
    "def raw(file):\n",
    "    contents = open(file).read()\n",
    "    contents = re.sub(r'<.*?>', ' ', contents)\n",
    "    contents = re.sub('\\s+', ' ', contents)\n",
    "    return contents\n",
    "\n",
    "def snippet(doc, term): # buggy\n",
    "    text = ' '*30 + raw(doc) + ' '*30\n",
    "    pos = text.index(term)\n",
    "    return text[pos-30:pos+30]\n",
    "\n",
    "print(\"Building Index...\")\n",
    "files = nltk.corpus.movie_reviews.abspaths()\n",
    "idx = nltk.Index((w, f) for f in files for w in raw(f).split())\n",
    "\n",
    "query = ''\n",
    "while query != \"quit\":\n",
    "    query = input(\"query> \")\n",
    "    if query in idx:\n",
    "        for doc in idx[query]:\n",
    "            print(snippet(doc, query))\n",
    "    else:\n",
    "        print(\"Not found\")"
   ],
   "metadata": {
    "collapsed": false,
    "pycharm": {
     "name": "#%%\n"
    }
   }
  },
  {
   "cell_type": "code",
   "execution_count": 137,
   "outputs": [],
   "source": [
    "def preprocess(tagged_corpus):\n",
    "    words = set()\n",
    "    tags = set()\n",
    "    for sent in tagged_corpus:\n",
    "        for word, tag in sent:\n",
    "            words.add(word)\n",
    "            tags.add(tag)\n",
    "    wm = dict((w,i) for (i,w) in enumerate(words))\n",
    "    tm = dict((t,i) for (i,t) in enumerate(tags))\n",
    "    return [[(wm[w], tm[t]) for (w,t) in sent] for sent in tagged_corpus]"
   ],
   "metadata": {
    "collapsed": false,
    "pycharm": {
     "name": "#%%\n"
    }
   }
  },
  {
   "cell_type": "code",
   "execution_count": 138,
   "outputs": [
    {
     "ename": "NameError",
     "evalue": "name 'vocabrandom' is not defined",
     "output_type": "error",
     "traceback": [
      "\u001B[0;31m---------------------------------------------------------------------------\u001B[0m",
      "\u001B[0;31mNameError\u001B[0m                                 Traceback (most recent call last)",
      "\u001B[0;32m<ipython-input-138-88a9898a10b9>\u001B[0m in \u001B[0;36m<module>\u001B[0;34m\u001B[0m\n\u001B[1;32m      4\u001B[0m \u001B[0msetup_set\u001B[0m \u001B[0;34m=\u001B[0m \u001B[0;34m\"import random; vocab = set(range(%d))\"\u001B[0m \u001B[0;34m%\u001B[0m \u001B[0mvocab_size\u001B[0m\u001B[0;34m\u001B[0m\u001B[0;34m\u001B[0m\u001B[0m\n\u001B[1;32m      5\u001B[0m \u001B[0mstatement\u001B[0m \u001B[0;34m=\u001B[0m \u001B[0;34m\"random.randint(0, %d) in vocab\"\u001B[0m \u001B[0;34m%\u001B[0m \u001B[0mvocab_size\u001B[0m \u001B[0;34m*\u001B[0m \u001B[0;36m2\u001B[0m\u001B[0;34m\u001B[0m\u001B[0;34m\u001B[0m\u001B[0m\n\u001B[0;32m----> 6\u001B[0;31m \u001B[0mprint\u001B[0m\u001B[0;34m(\u001B[0m\u001B[0mTimer\u001B[0m\u001B[0;34m(\u001B[0m\u001B[0mstatement\u001B[0m\u001B[0;34m,\u001B[0m \u001B[0msetup_list\u001B[0m\u001B[0;34m)\u001B[0m\u001B[0;34m.\u001B[0m\u001B[0mtimeit\u001B[0m\u001B[0;34m(\u001B[0m\u001B[0;36m1000\u001B[0m\u001B[0;34m)\u001B[0m\u001B[0;34m)\u001B[0m\u001B[0;34m\u001B[0m\u001B[0;34m\u001B[0m\u001B[0m\n\u001B[0m",
      "\u001B[0;32m~/Dokumenter/Programs/miniconda3/envs/NaturalLanguageProcessingwithPython-py39/lib/python3.9/timeit.py\u001B[0m in \u001B[0;36mtimeit\u001B[0;34m(self, number)\u001B[0m\n\u001B[1;32m    175\u001B[0m         \u001B[0mgc\u001B[0m\u001B[0;34m.\u001B[0m\u001B[0mdisable\u001B[0m\u001B[0;34m(\u001B[0m\u001B[0;34m)\u001B[0m\u001B[0;34m\u001B[0m\u001B[0;34m\u001B[0m\u001B[0m\n\u001B[1;32m    176\u001B[0m         \u001B[0;32mtry\u001B[0m\u001B[0;34m:\u001B[0m\u001B[0;34m\u001B[0m\u001B[0;34m\u001B[0m\u001B[0m\n\u001B[0;32m--> 177\u001B[0;31m             \u001B[0mtiming\u001B[0m \u001B[0;34m=\u001B[0m \u001B[0mself\u001B[0m\u001B[0;34m.\u001B[0m\u001B[0minner\u001B[0m\u001B[0;34m(\u001B[0m\u001B[0mit\u001B[0m\u001B[0;34m,\u001B[0m \u001B[0mself\u001B[0m\u001B[0;34m.\u001B[0m\u001B[0mtimer\u001B[0m\u001B[0;34m)\u001B[0m\u001B[0;34m\u001B[0m\u001B[0;34m\u001B[0m\u001B[0m\n\u001B[0m\u001B[1;32m    178\u001B[0m         \u001B[0;32mfinally\u001B[0m\u001B[0;34m:\u001B[0m\u001B[0;34m\u001B[0m\u001B[0;34m\u001B[0m\u001B[0m\n\u001B[1;32m    179\u001B[0m             \u001B[0;32mif\u001B[0m \u001B[0mgcold\u001B[0m\u001B[0;34m:\u001B[0m\u001B[0;34m\u001B[0m\u001B[0;34m\u001B[0m\u001B[0m\n",
      "\u001B[0;32m~/Dokumenter/Programs/miniconda3/envs/NaturalLanguageProcessingwithPython-py39/lib/python3.9/timeit.py\u001B[0m in \u001B[0;36minner\u001B[0;34m(_it, _timer)\u001B[0m\n",
      "\u001B[0;31mNameError\u001B[0m: name 'vocabrandom' is not defined"
     ]
    }
   ],
   "source": [
    "from timeit import Timer\n",
    "vocab_size = 100000\n",
    "setup_list = \"import random; vocab = range(%d)\" % vocab_size\n",
    "setup_set = \"import random; vocab = set(range(%d))\" % vocab_size\n",
    "statement = \"random.randint(0, %d) in vocab\" % vocab_size * 2\n",
    "print(Timer(statement, setup_list).timeit(1000))"
   ],
   "metadata": {
    "collapsed": false,
    "pycharm": {
     "name": "#%%\n"
    }
   }
  },
  {
   "cell_type": "code",
   "execution_count": 139,
   "outputs": [
    {
     "ename": "NameError",
     "evalue": "name 'vocabrandom' is not defined",
     "output_type": "error",
     "traceback": [
      "\u001B[0;31m---------------------------------------------------------------------------\u001B[0m",
      "\u001B[0;31mNameError\u001B[0m                                 Traceback (most recent call last)",
      "\u001B[0;32m<ipython-input-139-5fc80980aa71>\u001B[0m in \u001B[0;36m<module>\u001B[0;34m\u001B[0m\n\u001B[0;32m----> 1\u001B[0;31m \u001B[0mprint\u001B[0m\u001B[0;34m(\u001B[0m\u001B[0mTimer\u001B[0m\u001B[0;34m(\u001B[0m\u001B[0mstatement\u001B[0m\u001B[0;34m,\u001B[0m \u001B[0msetup_set\u001B[0m\u001B[0;34m)\u001B[0m\u001B[0;34m.\u001B[0m\u001B[0mtimeit\u001B[0m\u001B[0;34m(\u001B[0m\u001B[0;36m1000\u001B[0m\u001B[0;34m)\u001B[0m\u001B[0;34m)\u001B[0m\u001B[0;34m\u001B[0m\u001B[0;34m\u001B[0m\u001B[0m\n\u001B[0m",
      "\u001B[0;32m~/Dokumenter/Programs/miniconda3/envs/NaturalLanguageProcessingwithPython-py39/lib/python3.9/timeit.py\u001B[0m in \u001B[0;36mtimeit\u001B[0;34m(self, number)\u001B[0m\n\u001B[1;32m    175\u001B[0m         \u001B[0mgc\u001B[0m\u001B[0;34m.\u001B[0m\u001B[0mdisable\u001B[0m\u001B[0;34m(\u001B[0m\u001B[0;34m)\u001B[0m\u001B[0;34m\u001B[0m\u001B[0;34m\u001B[0m\u001B[0m\n\u001B[1;32m    176\u001B[0m         \u001B[0;32mtry\u001B[0m\u001B[0;34m:\u001B[0m\u001B[0;34m\u001B[0m\u001B[0;34m\u001B[0m\u001B[0m\n\u001B[0;32m--> 177\u001B[0;31m             \u001B[0mtiming\u001B[0m \u001B[0;34m=\u001B[0m \u001B[0mself\u001B[0m\u001B[0;34m.\u001B[0m\u001B[0minner\u001B[0m\u001B[0;34m(\u001B[0m\u001B[0mit\u001B[0m\u001B[0;34m,\u001B[0m \u001B[0mself\u001B[0m\u001B[0;34m.\u001B[0m\u001B[0mtimer\u001B[0m\u001B[0;34m)\u001B[0m\u001B[0;34m\u001B[0m\u001B[0;34m\u001B[0m\u001B[0m\n\u001B[0m\u001B[1;32m    178\u001B[0m         \u001B[0;32mfinally\u001B[0m\u001B[0;34m:\u001B[0m\u001B[0;34m\u001B[0m\u001B[0;34m\u001B[0m\u001B[0m\n\u001B[1;32m    179\u001B[0m             \u001B[0;32mif\u001B[0m \u001B[0mgcold\u001B[0m\u001B[0;34m:\u001B[0m\u001B[0;34m\u001B[0m\u001B[0;34m\u001B[0m\u001B[0m\n",
      "\u001B[0;32m~/Dokumenter/Programs/miniconda3/envs/NaturalLanguageProcessingwithPython-py39/lib/python3.9/timeit.py\u001B[0m in \u001B[0;36minner\u001B[0;34m(_it, _timer)\u001B[0m\n",
      "\u001B[0;31mNameError\u001B[0m: name 'vocabrandom' is not defined"
     ]
    }
   ],
   "source": [
    "print(Timer(statement, setup_set).timeit(1000))"
   ],
   "metadata": {
    "collapsed": false,
    "pycharm": {
     "name": "#%%\n"
    }
   }
  },
  {
   "cell_type": "code",
   "execution_count": 140,
   "outputs": [
    {
     "data": {
      "text/plain": "['SSSS', 'SSL', 'SLS', 'LSS', 'LL']"
     },
     "execution_count": 140,
     "metadata": {},
     "output_type": "execute_result"
    }
   ],
   "source": [
    "def virahanka1(n):\n",
    "    if n == 0:\n",
    "        return [\"\"]\n",
    "    elif n == 1:\n",
    "        return [\"S\"]\n",
    "    else:\n",
    "        s = [\"S\" + prosody for prosody in virahanka1(n-1)]\n",
    "        l = [\"L\" + prosody for prosody in virahanka1(n-2)]\n",
    "        return s + l\n",
    "\n",
    "def virahanka2(n):\n",
    "    lookup = [[\"\"], [\"S\"]]\n",
    "    for i in range(n-1):\n",
    "        s = [\"S\" + prosody for prosody in lookup[i+1]]\n",
    "        l = [\"L\" + prosody for prosody in lookup[i]]\n",
    "        lookup.append(s + l)\n",
    "    return lookup[n]\n",
    "\n",
    "def virahanka3(n, lookup={0:[\"\"], 1:[\"S\"]}):\n",
    "    if n not in lookup:\n",
    "        s = [\"S\" + prosody for prosody in virahanka3(n-1)]\n",
    "        l = [\"L\" + prosody for prosody in virahanka3(n-2)]\n",
    "        lookup[n] = s + l\n",
    "    return lookup[n]\n",
    "\n",
    "from nltk import memoize\n",
    "@memoize\n",
    "def virahanka4(n):\n",
    "    if n == 0:\n",
    "        return [\"\"]\n",
    "    elif n == 1:\n",
    "        return [\"S\"]\n",
    "    else:\n",
    "        s = [\"S\" + prosody for prosody in virahanka4(n-1)]\n",
    "        l = [\"L\" + prosody for prosody in virahanka4(n-2)]\n",
    "        return s + l\n",
    "\n",
    "virahanka1(4)"
   ],
   "metadata": {
    "collapsed": false,
    "pycharm": {
     "name": "#%%\n"
    }
   }
  },
  {
   "cell_type": "code",
   "execution_count": 141,
   "outputs": [
    {
     "data": {
      "text/plain": "['SSSS', 'SSL', 'SLS', 'LSS', 'LL']"
     },
     "execution_count": 141,
     "metadata": {},
     "output_type": "execute_result"
    }
   ],
   "source": [
    "virahanka2(4)"
   ],
   "metadata": {
    "collapsed": false,
    "pycharm": {
     "name": "#%%\n"
    }
   }
  },
  {
   "cell_type": "code",
   "execution_count": 142,
   "outputs": [
    {
     "data": {
      "text/plain": "['SSSS', 'SSL', 'SLS', 'LSS', 'LL']"
     },
     "execution_count": 142,
     "metadata": {},
     "output_type": "execute_result"
    }
   ],
   "source": [
    "virahanka3(4)"
   ],
   "metadata": {
    "collapsed": false,
    "pycharm": {
     "name": "#%%\n"
    }
   }
  },
  {
   "cell_type": "code",
   "execution_count": 143,
   "outputs": [
    {
     "data": {
      "text/plain": "['SSSS', 'SSL', 'SLS', 'LSS', 'LL']"
     },
     "execution_count": 143,
     "metadata": {},
     "output_type": "execute_result"
    }
   ],
   "source": [
    "virahanka4(4)"
   ],
   "metadata": {
    "collapsed": false,
    "pycharm": {
     "name": "#%%\n"
    }
   }
  },
  {
   "cell_type": "code",
   "execution_count": 144,
   "outputs": [],
   "source": [
    "colors = 'rgbcmyk' # red, green, blue, cyan, magenta, yellow, black\n",
    "def bar_chart(categories, words, counts):\n",
    "    \"Plot a bar chart showing counts for each word by category\"\n",
    "    import pylab\n",
    "    ind = pylab.arange(len(words))\n",
    "    width = 1 / (len(categories) + 1)\n",
    "    bar_groups = []\n",
    "    for c in range(len(categories)):\n",
    "        bars = pylab.bar(ind+c*width, counts[categories[c]], width,\n",
    "                         color=colors[c % len(colors)])\n",
    "        bar_groups.append(bars)\n",
    "    pylab.xticks(ind+width, words)\n",
    "    pylab.legend([b[0] for b in bar_groups], categories, loc='upper left')\n",
    "    pylab.ylabel('Frequency')\n",
    "    pylab.title('Frequency of Six Modal Verbs by Genre')\n",
    "    pylab.show()"
   ],
   "metadata": {
    "collapsed": false,
    "pycharm": {
     "name": "#%%\n"
    }
   }
  },
  {
   "cell_type": "code",
   "execution_count": 145,
   "outputs": [
    {
     "data": {
      "text/plain": "<Figure size 432x288 with 1 Axes>",
      "image/png": "[encoded data removed]"
     },
     "metadata": {
      "needs_background": "light"
     },
     "output_type": "display_data"
    }
   ],
   "source": [
    "genres = ['news', 'religion', 'hobbies', 'government', 'adventure']\n",
    "modals = ['can', 'could', 'may', 'might', 'must', 'will']\n",
    "cfdist = nltk.ConditionalFreqDist(\n",
    "             (genre, word)\n",
    "             for genre in genres\n",
    "             for word in nltk.corpus.brown.words(categories=genre)\n",
    "             if word in modals)\n",
    "\n",
    "counts = {}\n",
    "for genre in genres:\n",
    "    counts[genre] = [cfdist[genre][word] for word in modals]\n",
    "bar_chart(genres, modals, counts)"
   ],
   "metadata": {
    "collapsed": false,
    "pycharm": {
     "name": "#%%\n"
    }
   }
  },
  {
   "cell_type": "code",
   "execution_count": 147,
   "outputs": [
    {
     "name": "stdout",
     "output_type": "stream",
     "text": [
      "Content-Type: text/html\n",
      "\n",
      "<html><body>\n",
      "<img src=\"modals.png\"/>\n",
      "</body></html>\n"
     ]
    },
    {
     "data": {
      "text/plain": "<Figure size 432x288 with 0 Axes>"
     },
     "metadata": {},
     "output_type": "display_data"
    }
   ],
   "source": [
    "import matplotlib\n",
    "import pylab\n",
    "matplotlib.use('Agg')\n",
    "pylab.savefig('modals.png')\n",
    "print('Content-Type: text/html')\n",
    "print()\n",
    "print('<html><body>')\n",
    "print('<img src=\"modals.png\"/>')\n",
    "print('</body></html>')"
   ],
   "metadata": {
    "collapsed": false,
    "pycharm": {
     "name": "#%%\n"
    }
   }
  },
  {
   "cell_type": "code",
   "execution_count": 148,
   "outputs": [
    {
     "ename": "AttributeError",
     "evalue": "module 'networkx' has no attribute 'draw_graphviz'",
     "output_type": "error",
     "traceback": [
      "\u001B[0;31m---------------------------------------------------------------------------\u001B[0m",
      "\u001B[0;31mAttributeError\u001B[0m                            Traceback (most recent call last)",
      "\u001B[0;32m<ipython-input-148-a7bb0c195cca>\u001B[0m in \u001B[0;36m<module>\u001B[0;34m\u001B[0m\n\u001B[1;32m     24\u001B[0m \u001B[0mdog\u001B[0m \u001B[0;34m=\u001B[0m \u001B[0mwn\u001B[0m\u001B[0;34m.\u001B[0m\u001B[0msynset\u001B[0m\u001B[0;34m(\u001B[0m\u001B[0;34m'dog.n.01'\u001B[0m\u001B[0;34m)\u001B[0m\u001B[0;34m\u001B[0m\u001B[0;34m\u001B[0m\u001B[0m\n\u001B[1;32m     25\u001B[0m \u001B[0mgraph\u001B[0m \u001B[0;34m=\u001B[0m \u001B[0mhyponym_graph\u001B[0m\u001B[0;34m(\u001B[0m\u001B[0mdog\u001B[0m\u001B[0;34m)\u001B[0m\u001B[0;34m\u001B[0m\u001B[0;34m\u001B[0m\u001B[0m\n\u001B[0;32m---> 26\u001B[0;31m \u001B[0mgraph_draw\u001B[0m\u001B[0;34m(\u001B[0m\u001B[0mgraph\u001B[0m\u001B[0;34m)\u001B[0m\u001B[0;34m\u001B[0m\u001B[0;34m\u001B[0m\u001B[0m\n\u001B[0m",
      "\u001B[0;32m<ipython-input-148-a7bb0c195cca>\u001B[0m in \u001B[0;36mgraph_draw\u001B[0;34m(graph)\u001B[0m\n\u001B[1;32m     16\u001B[0m \u001B[0;34m\u001B[0m\u001B[0m\n\u001B[1;32m     17\u001B[0m \u001B[0;32mdef\u001B[0m \u001B[0mgraph_draw\u001B[0m\u001B[0;34m(\u001B[0m\u001B[0mgraph\u001B[0m\u001B[0;34m)\u001B[0m\u001B[0;34m:\u001B[0m\u001B[0;34m\u001B[0m\u001B[0;34m\u001B[0m\u001B[0m\n\u001B[0;32m---> 18\u001B[0;31m     nx.draw_graphviz(graph,\n\u001B[0m\u001B[1;32m     19\u001B[0m          \u001B[0mnode_size\u001B[0m \u001B[0;34m=\u001B[0m \u001B[0;34m[\u001B[0m\u001B[0;36m16\u001B[0m \u001B[0;34m*\u001B[0m \u001B[0mgraph\u001B[0m\u001B[0;34m.\u001B[0m\u001B[0mdegree\u001B[0m\u001B[0;34m(\u001B[0m\u001B[0mn\u001B[0m\u001B[0;34m)\u001B[0m \u001B[0;32mfor\u001B[0m \u001B[0mn\u001B[0m \u001B[0;32min\u001B[0m \u001B[0mgraph\u001B[0m\u001B[0;34m]\u001B[0m\u001B[0;34m,\u001B[0m\u001B[0;34m\u001B[0m\u001B[0;34m\u001B[0m\u001B[0m\n\u001B[1;32m     20\u001B[0m          \u001B[0mnode_color\u001B[0m \u001B[0;34m=\u001B[0m \u001B[0;34m[\u001B[0m\u001B[0mgraph\u001B[0m\u001B[0;34m.\u001B[0m\u001B[0mdepth\u001B[0m\u001B[0;34m[\u001B[0m\u001B[0mn\u001B[0m\u001B[0;34m]\u001B[0m \u001B[0;32mfor\u001B[0m \u001B[0mn\u001B[0m \u001B[0;32min\u001B[0m \u001B[0mgraph\u001B[0m\u001B[0;34m]\u001B[0m\u001B[0;34m,\u001B[0m\u001B[0;34m\u001B[0m\u001B[0;34m\u001B[0m\u001B[0m\n",
      "\u001B[0;31mAttributeError\u001B[0m: module 'networkx' has no attribute 'draw_graphviz'"
     ]
    }
   ],
   "source": [
    "import networkx as nx\n",
    "import matplotlib\n",
    "from nltk.corpus import wordnet as wn\n",
    "\n",
    "def traverse(graph, start, node):\n",
    "    graph.depth[node.name] = node.shortest_path_distance(start)\n",
    "    for child in node.hyponyms():\n",
    "        graph.add_edge(node.name, child.name)\n",
    "        traverse(graph, start, child)\n",
    "\n",
    "def hyponym_graph(start):\n",
    "    G = nx.Graph()\n",
    "    G.depth = {}\n",
    "    traverse(G, start, start)\n",
    "    return G\n",
    "\n",
    "def graph_draw(graph):\n",
    "    nx.draw_graphviz(graph,\n",
    "         node_size = [16 * graph.degree(n) for n in graph],\n",
    "         node_color = [graph.depth[n] for n in graph],\n",
    "         with_labels = False)\n",
    "    matplotlib.pyplot.show()\n",
    "\n",
    "dog = wn.synset('dog.n.01')\n",
    "graph = hyponym_graph(dog)\n",
    "graph_draw(graph)"
   ],
   "metadata": {
    "collapsed": false,
    "pycharm": {
     "name": "#%%\n"
    }
   }
  },
  {
   "cell_type": "code",
   "execution_count": 149,
   "outputs": [
    {
     "ename": "Error",
     "evalue": "iterator should return strings, not bytes (did you open the file in text mode?)",
     "output_type": "error",
     "traceback": [
      "\u001B[0;31m---------------------------------------------------------------------------\u001B[0m",
      "\u001B[0;31mError\u001B[0m                                     Traceback (most recent call last)",
      "\u001B[0;32m<ipython-input-149-c640eb07f5d2>\u001B[0m in \u001B[0;36m<module>\u001B[0;34m\u001B[0m\n\u001B[1;32m      1\u001B[0m \u001B[0;32mimport\u001B[0m \u001B[0mcsv\u001B[0m\u001B[0;34m\u001B[0m\u001B[0;34m\u001B[0m\u001B[0m\n\u001B[1;32m      2\u001B[0m \u001B[0minput_file\u001B[0m \u001B[0;34m=\u001B[0m \u001B[0mopen\u001B[0m\u001B[0;34m(\u001B[0m\u001B[0;34m\"lexicon.csv\"\u001B[0m\u001B[0;34m,\u001B[0m \u001B[0;34m\"rb\"\u001B[0m\u001B[0;34m)\u001B[0m\u001B[0;34m\u001B[0m\u001B[0;34m\u001B[0m\u001B[0m\n\u001B[0;32m----> 3\u001B[0;31m \u001B[0;32mfor\u001B[0m \u001B[0mrow\u001B[0m \u001B[0;32min\u001B[0m \u001B[0mcsv\u001B[0m\u001B[0;34m.\u001B[0m\u001B[0mreader\u001B[0m\u001B[0;34m(\u001B[0m\u001B[0minput_file\u001B[0m\u001B[0;34m)\u001B[0m\u001B[0;34m:\u001B[0m\u001B[0;34m\u001B[0m\u001B[0;34m\u001B[0m\u001B[0m\n\u001B[0m\u001B[1;32m      4\u001B[0m     \u001B[0mprint\u001B[0m\u001B[0;34m(\u001B[0m\u001B[0mrow\u001B[0m\u001B[0;34m)\u001B[0m\u001B[0;34m\u001B[0m\u001B[0;34m\u001B[0m\u001B[0m\n",
      "\u001B[0;31mError\u001B[0m: iterator should return strings, not bytes (did you open the file in text mode?)"
     ]
    }
   ],
   "source": [
    "import csv\n",
    "input_file = open(\"lexicon.csv\", \"rb\")\n",
    "for row in csv.reader(input_file):\n",
    "    print(row)"
   ],
   "metadata": {
    "collapsed": false,
    "pycharm": {
     "name": "#%%\n"
    }
   }
  },
  {
   "cell_type": "code",
   "execution_count": 150,
   "outputs": [
    {
     "data": {
      "text/plain": "4"
     },
     "execution_count": 150,
     "metadata": {},
     "output_type": "execute_result"
    }
   ],
   "source": [
    "from numpy import array\n",
    "cube = array([ [[0,0,0], [1,1,1], [2,2,2]],\n",
    "               [[3,3,3], [4,4,4], [5,5,5]],\n",
    "               [[6,6,6], [7,7,7], [8,8,8]] ])\n",
    "cube[1,1,1]"
   ],
   "metadata": {
    "collapsed": false,
    "pycharm": {
     "name": "#%%\n"
    }
   }
  },
  {
   "cell_type": "code",
   "execution_count": 151,
   "outputs": [
    {
     "data": {
      "text/plain": "array([[6, 7, 8],\n       [6, 7, 8],\n       [6, 7, 8]])"
     },
     "execution_count": 151,
     "metadata": {},
     "output_type": "execute_result"
    }
   ],
   "source": [
    "cube[2].transpose()"
   ],
   "metadata": {
    "collapsed": false,
    "pycharm": {
     "name": "#%%\n"
    }
   }
  },
  {
   "cell_type": "code",
   "execution_count": 152,
   "outputs": [
    {
     "data": {
      "text/plain": "array([[7, 7, 7],\n       [8, 8, 8]])"
     },
     "execution_count": 152,
     "metadata": {},
     "output_type": "execute_result"
    }
   ],
   "source": [
    "cube[2,1:]"
   ],
   "metadata": {
    "collapsed": false,
    "pycharm": {
     "name": "#%%\n"
    }
   }
  },
  {
   "cell_type": "code",
   "execution_count": 153,
   "outputs": [
    {
     "data": {
      "text/plain": "array([[-0.4472136 , -0.89442719],\n       [-0.89442719,  0.4472136 ]])"
     },
     "execution_count": 153,
     "metadata": {},
     "output_type": "execute_result"
    }
   ],
   "source": [
    "from numpy import linalg\n",
    "a=array([[4,0], [3,-5]])\n",
    "u,s,vt = linalg.svd(a)\n",
    "u"
   ],
   "metadata": {
    "collapsed": false,
    "pycharm": {
     "name": "#%%\n"
    }
   }
  },
  {
   "cell_type": "code",
   "execution_count": 154,
   "outputs": [
    {
     "data": {
      "text/plain": "array([6.32455532, 3.16227766])"
     },
     "execution_count": 154,
     "metadata": {},
     "output_type": "execute_result"
    }
   ],
   "source": [
    "s\n"
   ],
   "metadata": {
    "collapsed": false,
    "pycharm": {
     "name": "#%%\n"
    }
   }
  },
  {
   "cell_type": "code",
   "execution_count": 155,
   "outputs": [
    {
     "data": {
      "text/plain": "array([[-0.70710678,  0.70710678],\n       [-0.70710678, -0.70710678]])"
     },
     "execution_count": 155,
     "metadata": {},
     "output_type": "execute_result"
    }
   ],
   "source": [
    "vt"
   ],
   "metadata": {
    "collapsed": false,
    "pycharm": {
     "name": "#%%\n"
    }
   }
  },
  {
   "cell_type": "code",
   "execution_count": null,
   "outputs": [],
   "source": [],
   "metadata": {
    "collapsed": false,
    "pycharm": {
     "name": "#%%\n"
    }
   }
  }
 ],
 "metadata": {
  "kernelspec": {
   "display_name": "Python 3",
   "language": "python",
   "name": "python3"
  },
  "language_info": {
   "codemirror_mode": {
    "name": "ipython",
    "version": 2
   },
   "file_extension": ".py",
   "mimetype": "text/x-python",
   "name": "python",
   "nbconvert_exporter": "python",
   "pygments_lexer": "ipython2",
   "version": "2.7.6"
  }
 },
 "nbformat": 4,
 "nbformat_minor": 0
}