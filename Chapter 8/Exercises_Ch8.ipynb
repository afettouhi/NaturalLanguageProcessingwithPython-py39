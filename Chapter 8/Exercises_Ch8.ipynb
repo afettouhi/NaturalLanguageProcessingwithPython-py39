{
 "cells": [
  {
   "cell_type": "code",
   "execution_count": 1,
   "metadata": {
    "collapsed": true
   },
   "outputs": [
    {
     "data": {
      "text/plain": "Tree('S', [Tree('S', [Tree('S', [Tree('NP', [Tree('N', ['Kim'])]), Tree('VP', [Tree('V', ['arrived'])])]), Tree('CC', ['or']), Tree('S', [Tree('NP', [Tree('N', ['Dana'])]), Tree('VP', [Tree('V', ['left'])])])]), Tree('CC', ['and']), Tree('S', [Tree('NP', [Tree('N', ['everyone'])]), Tree('VP', [Tree('V', ['cheered'])])])])",
      "image/png": "[encoded data removed]"
     },
     "execution_count": 1,
     "metadata": {},
     "output_type": "execute_result"
    }
   ],
   "source": [
    "# Exercise: 8-3\n",
    "# Consider the sentence Kim arrived or Dana left and everyone cheered. Write down the parenthesized forms to show\n",
    "# the relative scope of and and or. Generate tree structures corresponding to both of these interpretations.\n",
    "\n",
    "import nltk\n",
    "from nltk import Tree\n",
    "\n",
    "string = \"(S (S (S (NP (N Kim)) (VP (V arrived))) (CC or) (S (NP (N Dana)) (VP (V left)))) (CC and) (S (NP (N everyone)) (VP (V cheered))))\"\n",
    "nltk.Tree.fromstring(string)"
   ]
  },
  {
   "cell_type": "code",
   "execution_count": 2,
   "outputs": [
    {
     "name": "stdout",
     "output_type": "stream",
     "text": [
      "Help on class Tree in module nltk.tree:\n",
      "\n",
      "class Tree(builtins.list)\n",
      " |  Tree(node, children=None)\n",
      " |  \n",
      " |  A Tree represents a hierarchical grouping of leaves and subtrees.\n",
      " |  For example, each constituent in a syntax tree is represented by a single Tree.\n",
      " |  \n",
      " |  A tree's children are encoded as a list of leaves and subtrees,\n",
      " |  where a leaf is a basic (non-tree) value; and a subtree is a\n",
      " |  nested Tree.\n",
      " |  \n",
      " |      >>> from nltk.tree import Tree\n",
      " |      >>> print(Tree(1, [2, Tree(3, [4]), 5]))\n",
      " |      (1 2 (3 4) 5)\n",
      " |      >>> vp = Tree('VP', [Tree('V', ['saw']),\n",
      " |      ...                  Tree('NP', ['him'])])\n",
      " |      >>> s = Tree('S', [Tree('NP', ['I']), vp])\n",
      " |      >>> print(s)\n",
      " |      (S (NP I) (VP (V saw) (NP him)))\n",
      " |      >>> print(s[1])\n",
      " |      (VP (V saw) (NP him))\n",
      " |      >>> print(s[1,1])\n",
      " |      (NP him)\n",
      " |      >>> t = Tree.fromstring(\"(S (NP I) (VP (V saw) (NP him)))\")\n",
      " |      >>> s == t\n",
      " |      True\n",
      " |      >>> t[1][1].set_label('X')\n",
      " |      >>> t[1][1].label()\n",
      " |      'X'\n",
      " |      >>> print(t)\n",
      " |      (S (NP I) (VP (V saw) (X him)))\n",
      " |      >>> t[0], t[1,1] = t[1,1], t[0]\n",
      " |      >>> print(t)\n",
      " |      (S (X him) (VP (V saw) (NP I)))\n",
      " |  \n",
      " |  The length of a tree is the number of children it has.\n",
      " |  \n",
      " |      >>> len(t)\n",
      " |      2\n",
      " |  \n",
      " |  The set_label() and label() methods allow individual constituents\n",
      " |  to be labeled.  For example, syntax trees use this label to specify\n",
      " |  phrase tags, such as \"NP\" and \"VP\".\n",
      " |  \n",
      " |  Several Tree methods use \"tree positions\" to specify\n",
      " |  children or descendants of a tree.  Tree positions are defined as\n",
      " |  follows:\n",
      " |  \n",
      " |    - The tree position *i* specifies a Tree's *i*\\ th child.\n",
      " |    - The tree position ``()`` specifies the Tree itself.\n",
      " |    - If *p* is the tree position of descendant *d*, then\n",
      " |      *p+i* specifies the *i*\\ th child of *d*.\n",
      " |  \n",
      " |  I.e., every tree position is either a single index *i*,\n",
      " |  specifying ``tree[i]``; or a sequence *i1, i2, ..., iN*,\n",
      " |  specifying ``tree[i1][i2]...[iN]``.\n",
      " |  \n",
      " |  Construct a new tree.  This constructor can be called in one\n",
      " |  of two ways:\n",
      " |  \n",
      " |  - ``Tree(label, children)`` constructs a new tree with the\n",
      " |      specified label and list of children.\n",
      " |  \n",
      " |  - ``Tree.fromstring(s)`` constructs a new tree by parsing the string ``s``.\n",
      " |  \n",
      " |  Method resolution order:\n",
      " |      Tree\n",
      " |      builtins.list\n",
      " |      builtins.object\n",
      " |  \n",
      " |  Methods defined here:\n",
      " |  \n",
      " |  __add__(self, v)\n",
      " |      Return self+value.\n",
      " |  \n",
      " |  __copy__(self)\n",
      " |  \n",
      " |  __deepcopy__(self, memo)\n",
      " |  \n",
      " |  __delitem__(self, index)\n",
      " |      Delete self[key].\n",
      " |  \n",
      " |  __eq__(self, other)\n",
      " |      Return self==value.\n",
      " |  \n",
      " |  __ge__ lambda self, other\n",
      " |  \n",
      " |  __getitem__(self, index)\n",
      " |      x.__getitem__(y) <==> x[y]\n",
      " |  \n",
      " |  __gt__ lambda self, other\n",
      " |  \n",
      " |  __init__(self, node, children=None)\n",
      " |      Initialize self.  See help(type(self)) for accurate signature.\n",
      " |  \n",
      " |  __le__ lambda self, other\n",
      " |  \n",
      " |  __lt__(self, other)\n",
      " |      Return self<value.\n",
      " |  \n",
      " |  __mul__(self, v)\n",
      " |      Return self*value.\n",
      " |  \n",
      " |  __ne__ lambda self, other\n",
      " |      # @total_ordering doesn't work here, since the class inherits from a builtin class\n",
      " |  \n",
      " |  __radd__(self, v)\n",
      " |  \n",
      " |  __repr__(self)\n",
      " |      Return repr(self).\n",
      " |  \n",
      " |  __rmul__(self, v)\n",
      " |      Return value*self.\n",
      " |  \n",
      " |  __setitem__(self, index, value)\n",
      " |      Set self[key] to value.\n",
      " |  \n",
      " |  __str__(self)\n",
      " |      Return str(self).\n",
      " |  \n",
      " |  chomsky_normal_form(self, factor='right', horzMarkov=None, vertMarkov=0, childChar='|', parentChar='^')\n",
      " |      This method can modify a tree in three ways:\n",
      " |      \n",
      " |        1. Convert a tree into its Chomsky Normal Form (CNF)\n",
      " |           equivalent -- Every subtree has either two non-terminals\n",
      " |           or one terminal as its children.  This process requires\n",
      " |           the creation of more\"artificial\" non-terminal nodes.\n",
      " |        2. Markov (vertical) smoothing of children in new artificial\n",
      " |           nodes\n",
      " |        3. Horizontal (parent) annotation of nodes\n",
      " |      \n",
      " |      :param factor: Right or left factoring method (default = \"right\")\n",
      " |      :type  factor: str = [left|right]\n",
      " |      :param horzMarkov: Markov order for sibling smoothing in artificial nodes (None (default) = include all siblings)\n",
      " |      :type  horzMarkov: int | None\n",
      " |      :param vertMarkov: Markov order for parent smoothing (0 (default) = no vertical annotation)\n",
      " |      :type  vertMarkov: int | None\n",
      " |      :param childChar: A string used in construction of the artificial nodes, separating the head of the\n",
      " |                        original subtree from the child nodes that have yet to be expanded (default = \"|\")\n",
      " |      :type  childChar: str\n",
      " |      :param parentChar: A string used to separate the node representation from its vertical annotation\n",
      " |      :type  parentChar: str\n",
      " |  \n",
      " |  collapse_unary(self, collapsePOS=False, collapseRoot=False, joinChar='+')\n",
      " |      Collapse subtrees with a single child (ie. unary productions)\n",
      " |      into a new non-terminal (Tree node) joined by 'joinChar'.\n",
      " |      This is useful when working with algorithms that do not allow\n",
      " |      unary productions, and completely removing the unary productions\n",
      " |      would require loss of useful information.  The Tree is modified\n",
      " |      directly (since it is passed by reference) and no value is returned.\n",
      " |      \n",
      " |      :param collapsePOS: 'False' (default) will not collapse the parent of leaf nodes (ie.\n",
      " |                          Part-of-Speech tags) since they are always unary productions\n",
      " |      :type  collapsePOS: bool\n",
      " |      :param collapseRoot: 'False' (default) will not modify the root production\n",
      " |                           if it is unary.  For the Penn WSJ treebank corpus, this corresponds\n",
      " |                           to the TOP -> productions.\n",
      " |      :type collapseRoot: bool\n",
      " |      :param joinChar: A string used to connect collapsed node values (default = \"+\")\n",
      " |      :type  joinChar: str\n",
      " |  \n",
      " |  copy(self, deep=False)\n",
      " |      Return a shallow copy of the list.\n",
      " |  \n",
      " |  draw(self)\n",
      " |      Open a new window containing a graphical diagram of this tree.\n",
      " |  \n",
      " |  flatten(self)\n",
      " |      Return a flat version of the tree, with all non-root non-terminals removed.\n",
      " |      \n",
      " |          >>> t = Tree.fromstring(\"(S (NP (D the) (N dog)) (VP (V chased) (NP (D the) (N cat))))\")\n",
      " |          >>> print(t.flatten())\n",
      " |          (S the dog chased the cat)\n",
      " |      \n",
      " |      :return: a tree consisting of this tree's root connected directly to\n",
      " |          its leaves, omitting all intervening non-terminal nodes.\n",
      " |      :rtype: Tree\n",
      " |  \n",
      " |  freeze(self, leaf_freezer=None)\n",
      " |  \n",
      " |  height(self)\n",
      " |      Return the height of the tree.\n",
      " |      \n",
      " |          >>> t = Tree.fromstring(\"(S (NP (D the) (N dog)) (VP (V chased) (NP (D the) (N cat))))\")\n",
      " |          >>> t.height()\n",
      " |          5\n",
      " |          >>> print(t[0,0])\n",
      " |          (D the)\n",
      " |          >>> t[0,0].height()\n",
      " |          2\n",
      " |      \n",
      " |      :return: The height of this tree.  The height of a tree\n",
      " |          containing no children is 1; the height of a tree\n",
      " |          containing only leaves is 2; and the height of any other\n",
      " |          tree is one plus the maximum of its children's\n",
      " |          heights.\n",
      " |      :rtype: int\n",
      " |  \n",
      " |  label(self)\n",
      " |      Return the node label of the tree.\n",
      " |      \n",
      " |          >>> t = Tree.fromstring('(S (NP (D the) (N dog)) (VP (V chased) (NP (D the) (N cat))))')\n",
      " |          >>> t.label()\n",
      " |          'S'\n",
      " |      \n",
      " |      :return: the node label (typically a string)\n",
      " |      :rtype: any\n",
      " |  \n",
      " |  leaf_treeposition(self, index)\n",
      " |      :return: The tree position of the ``index``-th leaf in this\n",
      " |          tree.  I.e., if ``tp=self.leaf_treeposition(i)``, then\n",
      " |          ``self[tp]==self.leaves()[i]``.\n",
      " |      \n",
      " |      :raise IndexError: If this tree contains fewer than ``index+1``\n",
      " |          leaves, or if ``index<0``.\n",
      " |  \n",
      " |  leaves(self)\n",
      " |      Return the leaves of the tree.\n",
      " |      \n",
      " |          >>> t = Tree.fromstring(\"(S (NP (D the) (N dog)) (VP (V chased) (NP (D the) (N cat))))\")\n",
      " |          >>> t.leaves()\n",
      " |          ['the', 'dog', 'chased', 'the', 'cat']\n",
      " |      \n",
      " |      :return: a list containing this tree's leaves.\n",
      " |          The order reflects the order of the\n",
      " |          leaves in the tree's hierarchical structure.\n",
      " |      :rtype: list\n",
      " |  \n",
      " |  pformat(self, margin=70, indent=0, nodesep='', parens='()', quotes=False)\n",
      " |      :return: A pretty-printed string representation of this tree.\n",
      " |      :rtype: str\n",
      " |      :param margin: The right margin at which to do line-wrapping.\n",
      " |      :type margin: int\n",
      " |      :param indent: The indentation level at which printing\n",
      " |          begins.  This number is used to decide how far to indent\n",
      " |          subsequent lines.\n",
      " |      :type indent: int\n",
      " |      :param nodesep: A string that is used to separate the node\n",
      " |          from the children.  E.g., the default value ``':'`` gives\n",
      " |          trees like ``(S: (NP: I) (VP: (V: saw) (NP: it)))``.\n",
      " |  \n",
      " |  pformat_latex_qtree(self)\n",
      " |      Returns a representation of the tree compatible with the\n",
      " |      LaTeX qtree package. This consists of the string ``\\Tree``\n",
      " |      followed by the tree represented in bracketed notation.\n",
      " |      \n",
      " |      For example, the following result was generated from a parse tree of\n",
      " |      the sentence ``The announcement astounded us``::\n",
      " |      \n",
      " |        \\Tree [.I'' [.N'' [.D The ] [.N' [.N announcement ] ] ]\n",
      " |            [.I' [.V'' [.V' [.V astounded ] [.N'' [.N' [.N us ] ] ] ] ] ] ]\n",
      " |      \n",
      " |      See http://www.ling.upenn.edu/advice/latex.html for the LaTeX\n",
      " |      style file for the qtree package.\n",
      " |      \n",
      " |      :return: A latex qtree representation of this tree.\n",
      " |      :rtype: str\n",
      " |  \n",
      " |  pos(self)\n",
      " |      Return a sequence of pos-tagged words extracted from the tree.\n",
      " |      \n",
      " |          >>> t = Tree.fromstring(\"(S (NP (D the) (N dog)) (VP (V chased) (NP (D the) (N cat))))\")\n",
      " |          >>> t.pos()\n",
      " |          [('the', 'D'), ('dog', 'N'), ('chased', 'V'), ('the', 'D'), ('cat', 'N')]\n",
      " |      \n",
      " |      :return: a list of tuples containing leaves and pre-terminals (part-of-speech tags).\n",
      " |          The order reflects the order of the leaves in the tree's hierarchical structure.\n",
      " |      :rtype: list(tuple)\n",
      " |  \n",
      " |  pprint(self, **kwargs)\n",
      " |      Print a string representation of this Tree to 'stream'\n",
      " |  \n",
      " |  pretty_print(self, sentence=None, highlight=(), stream=None, **kwargs)\n",
      " |      Pretty-print this tree as ASCII or Unicode art.\n",
      " |      For explanation of the arguments, see the documentation for\n",
      " |      `nltk.treeprettyprinter.TreePrettyPrinter`.\n",
      " |  \n",
      " |  productions(self)\n",
      " |      Generate the productions that correspond to the non-terminal nodes of the tree.\n",
      " |      For each subtree of the form (P: C1 C2 ... Cn) this produces a production of the\n",
      " |      form P -> C1 C2 ... Cn.\n",
      " |      \n",
      " |          >>> t = Tree.fromstring(\"(S (NP (D the) (N dog)) (VP (V chased) (NP (D the) (N cat))))\")\n",
      " |          >>> t.productions()\n",
      " |          [S -> NP VP, NP -> D N, D -> 'the', N -> 'dog', VP -> V NP, V -> 'chased',\n",
      " |          NP -> D N, D -> 'the', N -> 'cat']\n",
      " |      \n",
      " |      :rtype: list(Production)\n",
      " |  \n",
      " |  set_label(self, label)\n",
      " |      Set the node label of the tree.\n",
      " |      \n",
      " |          >>> t = Tree.fromstring(\"(S (NP (D the) (N dog)) (VP (V chased) (NP (D the) (N cat))))\")\n",
      " |          >>> t.set_label(\"T\")\n",
      " |          >>> print(t)\n",
      " |          (T (NP (D the) (N dog)) (VP (V chased) (NP (D the) (N cat))))\n",
      " |      \n",
      " |      :param label: the node label (typically a string)\n",
      " |      :type label: any\n",
      " |  \n",
      " |  subtrees(self, filter=None)\n",
      " |      Generate all the subtrees of this tree, optionally restricted\n",
      " |      to trees matching the filter function.\n",
      " |      \n",
      " |          >>> t = Tree.fromstring(\"(S (NP (D the) (N dog)) (VP (V chased) (NP (D the) (N cat))))\")\n",
      " |          >>> for s in t.subtrees(lambda t: t.height() == 2):\n",
      " |          ...     print(s)\n",
      " |          (D the)\n",
      " |          (N dog)\n",
      " |          (V chased)\n",
      " |          (D the)\n",
      " |          (N cat)\n",
      " |      \n",
      " |      :type filter: function\n",
      " |      :param filter: the function to filter all local trees\n",
      " |  \n",
      " |  treeposition_spanning_leaves(self, start, end)\n",
      " |      :return: The tree position of the lowest descendant of this\n",
      " |          tree that dominates ``self.leaves()[start:end]``.\n",
      " |      :raise ValueError: if ``end <= start``\n",
      " |  \n",
      " |  treepositions(self, order='preorder')\n",
      " |          >>> t = Tree.fromstring(\"(S (NP (D the) (N dog)) (VP (V chased) (NP (D the) (N cat))))\")\n",
      " |          >>> t.treepositions() # doctest: +ELLIPSIS\n",
      " |          [(), (0,), (0, 0), (0, 0, 0), (0, 1), (0, 1, 0), (1,), (1, 0), (1, 0, 0), ...]\n",
      " |          >>> for pos in t.treepositions('leaves'):\n",
      " |          ...     t[pos] = t[pos][::-1].upper()\n",
      " |          >>> print(t)\n",
      " |          (S (NP (D EHT) (N GOD)) (VP (V DESAHC) (NP (D EHT) (N TAC))))\n",
      " |      \n",
      " |      :param order: One of: ``preorder``, ``postorder``, ``bothorder``,\n",
      " |          ``leaves``.\n",
      " |  \n",
      " |  un_chomsky_normal_form(self, expandUnary=True, childChar='|', parentChar='^', unaryChar='+')\n",
      " |      This method modifies the tree in three ways:\n",
      " |      \n",
      " |        1. Transforms a tree in Chomsky Normal Form back to its\n",
      " |           original structure (branching greater than two)\n",
      " |        2. Removes any parent annotation (if it exists)\n",
      " |        3. (optional) expands unary subtrees (if previously\n",
      " |           collapsed with collapseUnary(...) )\n",
      " |      \n",
      " |      :param expandUnary: Flag to expand unary or not (default = True)\n",
      " |      :type  expandUnary: bool\n",
      " |      :param childChar: A string separating the head node from its children in an artificial node (default = \"|\")\n",
      " |      :type  childChar: str\n",
      " |      :param parentChar: A sting separating the node label from its parent annotation (default = \"^\")\n",
      " |      :type  parentChar: str\n",
      " |      :param unaryChar: A string joining two non-terminals in a unary production (default = \"+\")\n",
      " |      :type  unaryChar: str\n",
      " |  \n",
      " |  ----------------------------------------------------------------------\n",
      " |  Class methods defined here:\n",
      " |  \n",
      " |  convert(tree) from builtins.type\n",
      " |      Convert a tree between different subtypes of Tree.  ``cls`` determines\n",
      " |      which class will be used to encode the new tree.\n",
      " |      \n",
      " |      :type tree: Tree\n",
      " |      :param tree: The tree that should be converted.\n",
      " |      :return: The new Tree.\n",
      " |  \n",
      " |  fromlist(l) from builtins.type\n",
      " |      :type l: list\n",
      " |      :param l: a tree represented as nested lists\n",
      " |      \n",
      " |      :return: A tree corresponding to the list representation ``l``.\n",
      " |      :rtype: Tree\n",
      " |      \n",
      " |      Convert nested lists to a NLTK Tree\n",
      " |  \n",
      " |  fromstring(s, brackets='()', read_node=None, read_leaf=None, node_pattern=None, leaf_pattern=None, remove_empty_top_bracketing=False) from builtins.type\n",
      " |      Read a bracketed tree string and return the resulting tree.\n",
      " |      Trees are represented as nested brackettings, such as::\n",
      " |      \n",
      " |        (S (NP (NNP John)) (VP (V runs)))\n",
      " |      \n",
      " |      :type s: str\n",
      " |      :param s: The string to read\n",
      " |      \n",
      " |      :type brackets: str (length=2)\n",
      " |      :param brackets: The bracket characters used to mark the\n",
      " |          beginning and end of trees and subtrees.\n",
      " |      \n",
      " |      :type read_node: function\n",
      " |      :type read_leaf: function\n",
      " |      :param read_node, read_leaf: If specified, these functions\n",
      " |          are applied to the substrings of ``s`` corresponding to\n",
      " |          nodes and leaves (respectively) to obtain the values for\n",
      " |          those nodes and leaves.  They should have the following\n",
      " |          signature:\n",
      " |      \n",
      " |             read_node(str) -> value\n",
      " |      \n",
      " |          For example, these functions could be used to process nodes\n",
      " |          and leaves whose values should be some type other than\n",
      " |          string (such as ``FeatStruct``).\n",
      " |          Note that by default, node strings and leaf strings are\n",
      " |          delimited by whitespace and brackets; to override this\n",
      " |          default, use the ``node_pattern`` and ``leaf_pattern``\n",
      " |          arguments.\n",
      " |      \n",
      " |      :type node_pattern: str\n",
      " |      :type leaf_pattern: str\n",
      " |      :param node_pattern, leaf_pattern: Regular expression patterns\n",
      " |          used to find node and leaf substrings in ``s``.  By\n",
      " |          default, both nodes patterns are defined to match any\n",
      " |          sequence of non-whitespace non-bracket characters.\n",
      " |      \n",
      " |      :type remove_empty_top_bracketing: bool\n",
      " |      :param remove_empty_top_bracketing: If the resulting tree has\n",
      " |          an empty node label, and is length one, then return its\n",
      " |          single child instead.  This is useful for treebank trees,\n",
      " |          which sometimes contain an extra level of bracketing.\n",
      " |      \n",
      " |      :return: A tree corresponding to the string representation ``s``.\n",
      " |          If this class method is called using a subclass of Tree,\n",
      " |          then it will return a tree of that type.\n",
      " |      :rtype: Tree\n",
      " |  \n",
      " |  ----------------------------------------------------------------------\n",
      " |  Data descriptors defined here:\n",
      " |  \n",
      " |  __dict__\n",
      " |      dictionary for instance variables (if defined)\n",
      " |  \n",
      " |  __weakref__\n",
      " |      list of weak references to the object (if defined)\n",
      " |  \n",
      " |  node\n",
      " |      Outdated method to access the node value; use the label() method instead.\n",
      " |  \n",
      " |  ----------------------------------------------------------------------\n",
      " |  Data and other attributes defined here:\n",
      " |  \n",
      " |  __hash__ = None\n",
      " |  \n",
      " |  ----------------------------------------------------------------------\n",
      " |  Methods inherited from builtins.list:\n",
      " |  \n",
      " |  __contains__(self, key, /)\n",
      " |      Return key in self.\n",
      " |  \n",
      " |  __getattribute__(self, name, /)\n",
      " |      Return getattr(self, name).\n",
      " |  \n",
      " |  __iadd__(self, value, /)\n",
      " |      Implement self+=value.\n",
      " |  \n",
      " |  __imul__(self, value, /)\n",
      " |      Implement self*=value.\n",
      " |  \n",
      " |  __iter__(self, /)\n",
      " |      Implement iter(self).\n",
      " |  \n",
      " |  __len__(self, /)\n",
      " |      Return len(self).\n",
      " |  \n",
      " |  __reversed__(self, /)\n",
      " |      Return a reverse iterator over the list.\n",
      " |  \n",
      " |  __sizeof__(self, /)\n",
      " |      Return the size of the list in memory, in bytes.\n",
      " |  \n",
      " |  append(self, object, /)\n",
      " |      Append object to the end of the list.\n",
      " |  \n",
      " |  clear(self, /)\n",
      " |      Remove all items from list.\n",
      " |  \n",
      " |  count(self, value, /)\n",
      " |      Return number of occurrences of value.\n",
      " |  \n",
      " |  extend(self, iterable, /)\n",
      " |      Extend list by appending elements from the iterable.\n",
      " |  \n",
      " |  index(self, value, start=0, stop=9223372036854775807, /)\n",
      " |      Return first index of value.\n",
      " |      \n",
      " |      Raises ValueError if the value is not present.\n",
      " |  \n",
      " |  insert(self, index, object, /)\n",
      " |      Insert object before index.\n",
      " |  \n",
      " |  pop(self, index=-1, /)\n",
      " |      Remove and return item at index (default last).\n",
      " |      \n",
      " |      Raises IndexError if list is empty or index is out of range.\n",
      " |  \n",
      " |  remove(self, value, /)\n",
      " |      Remove first occurrence of value.\n",
      " |      \n",
      " |      Raises ValueError if the value is not present.\n",
      " |  \n",
      " |  reverse(self, /)\n",
      " |      Reverse *IN PLACE*.\n",
      " |  \n",
      " |  sort(self, /, *, key=None, reverse=False)\n",
      " |      Sort the list in ascending order and return None.\n",
      " |      \n",
      " |      The sort is in-place (i.e. the list itself is modified) and stable (i.e. the\n",
      " |      order of two equal elements is maintained).\n",
      " |      \n",
      " |      If a key function is given, apply it once to each list item and sort them,\n",
      " |      ascending or descending, according to their function values.\n",
      " |      \n",
      " |      The reverse flag can be set to sort in descending order.\n",
      " |  \n",
      " |  ----------------------------------------------------------------------\n",
      " |  Class methods inherited from builtins.list:\n",
      " |  \n",
      " |  __class_getitem__(...) from builtins.type\n",
      " |      See PEP 585\n",
      " |  \n",
      " |  ----------------------------------------------------------------------\n",
      " |  Static methods inherited from builtins.list:\n",
      " |  \n",
      " |  __new__(*args, **kwargs) from builtins.type\n",
      " |      Create and return a new object.  See help(type) for accurate signature.\n",
      "\n"
     ]
    }
   ],
   "source": [
    "# Exercise: 8-4\n",
    "# The Tree class implements a variety of other useful methods. See the Tree help documentation for more details\n",
    "# (i.e., import the Tree class and then type help(Tree)).\n",
    "\n",
    "from nltk import Tree\n",
    "\n",
    "help(Tree)"
   ],
   "metadata": {
    "collapsed": false,
    "pycharm": {
     "name": "#%%\n"
    }
   }
  },
  {
   "cell_type": "code",
   "execution_count": 3,
   "outputs": [],
   "source": [
    "# Exercise: 8-5\n",
    "# In this exercise you will manually construct some parse trees.\n",
    "# a: Write code to produce two trees, one for each reading of the phrase old men and women.\n",
    "\n",
    "grammar = nltk.CFG.fromstring(\"\"\"\n",
    "\n",
    "S -> NP CC NP | JJ NP\n",
    "NP -> N | JJ N | N CC N\n",
    "N -> 'men' | 'women'\n",
    "JJ -> 'old'\n",
    "CC -> 'and'\n",
    "\"\"\")"
   ],
   "metadata": {
    "collapsed": false,
    "pycharm": {
     "name": "#%%\n"
    }
   }
  },
  {
   "cell_type": "code",
   "execution_count": 4,
   "outputs": [
    {
     "name": "stdout",
     "output_type": "stream",
     "text": [
      "(S (JJ old) (NP (N men) (CC and) (N women)))\n",
      "(S (NP (JJ old) (N men)) (CC and) (NP (N women)))\n"
     ]
    }
   ],
   "source": [
    "sent = ['old', 'men', 'and', 'women']\n",
    "parser = nltk.ChartParser(grammar)\n",
    "for tree in parser.parse(sent):\n",
    "    print(tree)"
   ],
   "metadata": {
    "collapsed": false,
    "pycharm": {
     "name": "#%%\n"
    }
   }
  },
  {
   "cell_type": "code",
   "execution_count": 5,
   "outputs": [
    {
     "data": {
      "text/plain": "Tree('S', [Tree('JJ', ['old']), Tree('NP', [Tree('N', ['men']), Tree('CC', ['and']), Tree('N', ['women'])])])",
      "image/png": "[encoded data removed]"
     },
     "execution_count": 5,
     "metadata": {},
     "output_type": "execute_result"
    }
   ],
   "source": [
    "trees = []\n",
    "for tree in parser.parse(sent):\n",
    "    trees.append(str(tree))\n",
    "\n",
    "nltk.Tree.fromstring(trees[0])"
   ],
   "metadata": {
    "collapsed": false,
    "pycharm": {
     "name": "#%%\n"
    }
   }
  },
  {
   "cell_type": "code",
   "execution_count": 6,
   "outputs": [
    {
     "data": {
      "text/plain": "Tree('S', [Tree('NP', [Tree('JJ', ['old']), Tree('N', ['men'])]), Tree('CC', ['and']), Tree('NP', [Tree('N', ['women'])])])",
      "image/png": "[encoded data removed]"
     },
     "execution_count": 6,
     "metadata": {},
     "output_type": "execute_result"
    }
   ],
   "source": [
    "nltk.Tree.fromstring(trees[1])"
   ],
   "metadata": {
    "collapsed": false,
    "pycharm": {
     "name": "#%%\n"
    }
   }
  },
  {
   "cell_type": "code",
   "execution_count": 7,
   "outputs": [],
   "source": [
    "for t in trees:\n",
    "    nltk.Tree.fromstring(t)"
   ],
   "metadata": {
    "collapsed": false,
    "pycharm": {
     "name": "#%%\n"
    }
   }
  },
  {
   "cell_type": "code",
   "execution_count": 8,
   "outputs": [
    {
     "data": {
      "text/plain": "Tree('S', [Tree('NP', ['I']), Tree('VP', [Tree('V', ['shot']), Tree('NP', [Tree('Det', ['an']), Tree('N', ['elephant']), Tree('PP', [Tree('P', ['in']), Tree('NP', [Tree('Det', ['my']), Tree('N', ['pajamas'])])])])])])",
      "image/png": "[encoded data removed]"
     },
     "execution_count": 8,
     "metadata": {},
     "output_type": "execute_result"
    }
   ],
   "source": [
    "# b: Encode any of the trees presented in this chapter as a labeled bracketing, and use nltk.Tree() to check that\n",
    "# it is well-formed. Now use draw() to display the tree.\n",
    "\n",
    "groucho = \"(S (NP I) (VP (V shot) (NP (Det an) (N elephant) (PP (P in)\\\n",
    "            (NP (Det my) (N pajamas))))))\"\n",
    "nltk.Tree.fromstring(groucho)"
   ],
   "metadata": {
    "collapsed": false,
    "pycharm": {
     "name": "#%%\n"
    }
   }
  },
  {
   "cell_type": "code",
   "execution_count": 9,
   "outputs": [
    {
     "data": {
      "text/plain": "Tree('S', [Tree('NP', [Tree('Det', ['The']), Tree('N', ['woman']), Tree('VP', [Tree('V', ['saw']), Tree('NP', [Tree('Det', ['a']), Tree('N', ['man'])]), Tree('ADVP', [Tree('JJ', ['last']), Tree('ADV', ['Thursday'])])])])])",
      "image/png": "[encoded data removed]"
     },
     "execution_count": 9,
     "metadata": {},
     "output_type": "execute_result"
    }
   ],
   "source": [
    "# c: As in (a), draw a tree for The woman saw a man last Thursday.\n",
    "\n",
    "string = \"(S (NP (Det The) (N woman) (VP (V saw) (NP (Det a) (N man))\\\n",
    "           (ADVP (JJ last) (ADV Thursday)))))\"\n",
    "nltk.Tree.fromstring(string)"
   ],
   "metadata": {
    "collapsed": false,
    "pycharm": {
     "name": "#%%\n"
    }
   }
  },
  {
   "cell_type": "code",
   "execution_count": 10,
   "outputs": [
    {
     "data": {
      "text/plain": "6"
     },
     "execution_count": 10,
     "metadata": {},
     "output_type": "execute_result"
    }
   ],
   "source": [
    "# Exercise: 8-6\n",
    "# Write a recursive function to traverse a tree and return the depth of the tree, such that a tree with a\n",
    "# single node would have depth zero. (Hint: the depth of a subtree is the maximum depth of its children, plus one.)\n",
    "\n",
    "def find_depth(tree):\n",
    "    max_subtree_depth = 0\n",
    "    for subtree in tree:\n",
    "        if isinstance(subtree, nltk.Tree):\n",
    "            max_subtree_depth = max(max_subtree_depth, find_depth(subtree))\n",
    "        else:\n",
    "            max_subtree_depth = max(max_subtree_depth, 0)\n",
    "\n",
    "    return 1 + max_subtree_depth\n",
    "\n",
    "from nltk.corpus import treebank\n",
    "t = treebank.parsed_sents('wsj_0001.mrg')[0]\n",
    "find_depth(t)"
   ],
   "metadata": {
    "collapsed": false,
    "pycharm": {
     "name": "#%%\n"
    }
   }
  },
  {
   "cell_type": "code",
   "execution_count": 11,
   "outputs": [
    {
     "data": {
      "text/plain": "Tree('S', [Tree('NP-SBJ', [Tree('NP', [Tree('NNP', ['Pierre']), Tree('NNP', ['Vinken'])]), Tree(',', [',']), Tree('ADJP', [Tree('NP', [Tree('CD', ['61']), Tree('NNS', ['years'])]), Tree('JJ', ['old'])]), Tree(',', [','])]), Tree('VP', [Tree('MD', ['will']), Tree('VP', [Tree('VB', ['join']), Tree('NP', [Tree('DT', ['the']), Tree('NN', ['board'])]), Tree('PP-CLR', [Tree('IN', ['as']), Tree('NP', [Tree('DT', ['a']), Tree('JJ', ['nonexecutive']), Tree('NN', ['director'])])]), Tree('NP-TMP', [Tree('NNP', ['Nov.']), Tree('CD', ['29'])])])]), Tree('.', ['.'])])",
      "image/png": "[encoded data removed]"
     },
     "execution_count": 11,
     "metadata": {},
     "output_type": "execute_result"
    }
   ],
   "source": [
    "nltk.Tree.fromstring(str(t))"
   ],
   "metadata": {
    "collapsed": false,
    "pycharm": {
     "name": "#%%\n"
    }
   }
  },
  {
   "cell_type": "code",
   "execution_count": 12,
   "outputs": [
    {
     "data": {
      "text/plain": "7"
     },
     "execution_count": 12,
     "metadata": {},
     "output_type": "execute_result"
    }
   ],
   "source": [
    "t = treebank.parsed_sents('wsj_0001.mrg')[1]\n",
    "find_depth(t)"
   ],
   "metadata": {
    "collapsed": false,
    "pycharm": {
     "name": "#%%\n"
    }
   }
  },
  {
   "cell_type": "code",
   "execution_count": 13,
   "outputs": [
    {
     "data": {
      "text/plain": "Tree('S', [Tree('NP-SBJ', [Tree('NNP', ['Mr.']), Tree('NNP', ['Vinken'])]), Tree('VP', [Tree('VBZ', ['is']), Tree('NP-PRD', [Tree('NP', [Tree('NN', ['chairman'])]), Tree('PP', [Tree('IN', ['of']), Tree('NP', [Tree('NP', [Tree('NNP', ['Elsevier']), Tree('NNP', ['N.V.'])]), Tree(',', [',']), Tree('NP', [Tree('DT', ['the']), Tree('NNP', ['Dutch']), Tree('VBG', ['publishing']), Tree('NN', ['group'])])])])])]), Tree('.', ['.'])])",
      "image/png": "[encoded data removed]"
     },
     "execution_count": 13,
     "metadata": {},
     "output_type": "execute_result"
    }
   ],
   "source": [
    "nltk.Tree.fromstring(str(t))"
   ],
   "metadata": {
    "collapsed": false,
    "pycharm": {
     "name": "#%%\n"
    }
   }
  },
  {
   "cell_type": "code",
   "execution_count": 14,
   "outputs": [
    {
     "data": {
      "text/plain": "3"
     },
     "execution_count": 14,
     "metadata": {},
     "output_type": "execute_result"
    }
   ],
   "source": [
    "t = nltk.Tree.fromstring('(S (NP Alice) (VP chased (NP the rabbit)))')\n",
    "find_depth(t)"
   ],
   "metadata": {
    "collapsed": false,
    "pycharm": {
     "name": "#%%\n"
    }
   }
  },
  {
   "cell_type": "code",
   "execution_count": 15,
   "outputs": [
    {
     "data": {
      "text/plain": "Tree('S', [Tree('NP', ['Alice']), Tree('VP', ['chased', Tree('NP', ['the', 'rabbit'])])])",
      "image/png": "[encoded data removed]"
     },
     "execution_count": 15,
     "metadata": {},
     "output_type": "execute_result"
    }
   ],
   "source": [
    "nltk.Tree.fromstring(str(t))"
   ],
   "metadata": {
    "collapsed": false,
    "pycharm": {
     "name": "#%%\n"
    }
   }
  },
  {
   "cell_type": "code",
   "execution_count": 16,
   "outputs": [],
   "source": [
    "# Exercise: 8-9\n",
    "# Can the grammar in grammar1 (Example 8-9) be used to describe sentences that are more than 20 words in length?\n",
    "\n",
    "grammar1 = nltk.CFG.fromstring(\"\"\"\n",
    "  S -> NP VP\n",
    "  VP -> V NP | V NP PP\n",
    "  PP -> P NP\n",
    "  V -> \"saw\" | \"ate\" | \"walked\"\n",
    "  NP -> \"John\" | \"Mary\" | \"Bob\" | Det N | Det N PP\n",
    "  Det -> \"a\" | \"an\" | \"the\" | \"my\"\n",
    "  N -> \"man\" | \"dog\" | \"cat\" | \"telescope\" | \"park\"\n",
    "  P -> \"in\" | \"on\" | \"by\" | \"with\"\n",
    "  \"\"\")"
   ],
   "metadata": {
    "collapsed": false,
    "pycharm": {
     "name": "#%%\n"
    }
   }
  },
  {
   "cell_type": "code",
   "execution_count": 17,
   "outputs": [
    {
     "name": "stdout",
     "output_type": "stream",
     "text": [
      "(S\n",
      "  (NP\n",
      "    (Det a)\n",
      "    (N dog)\n",
      "    (PP\n",
      "      (P in)\n",
      "      (NP\n",
      "        (Det the)\n",
      "        (N park)\n",
      "        (PP\n",
      "          (P by)\n",
      "          (NP\n",
      "            (Det the)\n",
      "            (N cat)\n",
      "            (PP\n",
      "              (P with)\n",
      "              (NP\n",
      "                (Det the)\n",
      "                (N telescope)\n",
      "                (PP (P on) (NP (Det the) (N dog))))))))))\n",
      "  (VP\n",
      "    (V ate)\n",
      "    (NP\n",
      "      (Det the)\n",
      "      (N man)\n",
      "      (PP\n",
      "        (P in)\n",
      "        (NP\n",
      "          (Det the)\n",
      "          (N park)\n",
      "          (PP\n",
      "            (P by)\n",
      "            (NP\n",
      "              (Det the)\n",
      "              (N cat)\n",
      "              (PP (P with) (NP (Det the) (N telescope))))))))))\n",
      "(S\n",
      "  (NP\n",
      "    (Det a)\n",
      "    (N dog)\n",
      "    (PP\n",
      "      (P in)\n",
      "      (NP\n",
      "        (Det the)\n",
      "        (N park)\n",
      "        (PP\n",
      "          (P by)\n",
      "          (NP\n",
      "            (Det the)\n",
      "            (N cat)\n",
      "            (PP\n",
      "              (P with)\n",
      "              (NP\n",
      "                (Det the)\n",
      "                (N telescope)\n",
      "                (PP (P on) (NP (Det the) (N dog))))))))))\n",
      "  (VP\n",
      "    (V ate)\n",
      "    (NP (Det the) (N man))\n",
      "    (PP\n",
      "      (P in)\n",
      "      (NP\n",
      "        (Det the)\n",
      "        (N park)\n",
      "        (PP\n",
      "          (P by)\n",
      "          (NP\n",
      "            (Det the)\n",
      "            (N cat)\n",
      "            (PP (P with) (NP (Det the) (N telescope)))))))))\n",
      "(S\n",
      "  (NP\n",
      "    (Det a)\n",
      "    (N dog)\n",
      "    (PP\n",
      "      (P in)\n",
      "      (NP\n",
      "        (Det the)\n",
      "        (N park)\n",
      "        (PP\n",
      "          (P by)\n",
      "          (NP\n",
      "            (Det the)\n",
      "            (N cat)\n",
      "            (PP\n",
      "              (P with)\n",
      "              (NP\n",
      "                (Det the)\n",
      "                (N telescope)\n",
      "                (PP (P on) (NP (Det the) (N dog))))))))))\n",
      "  (VP\n",
      "    (V ate)\n",
      "    (NP (Det the) (N man) (PP (P in) (NP (Det the) (N park))))\n",
      "    (PP\n",
      "      (P by)\n",
      "      (NP\n",
      "        (Det the)\n",
      "        (N cat)\n",
      "        (PP (P with) (NP (Det the) (N telescope)))))))\n",
      "(S\n",
      "  (NP\n",
      "    (Det a)\n",
      "    (N dog)\n",
      "    (PP\n",
      "      (P in)\n",
      "      (NP\n",
      "        (Det the)\n",
      "        (N park)\n",
      "        (PP\n",
      "          (P by)\n",
      "          (NP\n",
      "            (Det the)\n",
      "            (N cat)\n",
      "            (PP\n",
      "              (P with)\n",
      "              (NP\n",
      "                (Det the)\n",
      "                (N telescope)\n",
      "                (PP (P on) (NP (Det the) (N dog))))))))))\n",
      "  (VP\n",
      "    (V ate)\n",
      "    (NP\n",
      "      (Det the)\n",
      "      (N man)\n",
      "      (PP\n",
      "        (P in)\n",
      "        (NP (Det the) (N park) (PP (P by) (NP (Det the) (N cat))))))\n",
      "    (PP (P with) (NP (Det the) (N telescope)))))\n"
     ]
    }
   ],
   "source": [
    "sent = \"a dog in the park by the cat with the telescope on the dog ate the man in the park by the cat with the telescope\".split()\n",
    "rd_parser = nltk.RecursiveDescentParser(grammar1)\n",
    "for tree in rd_parser.parse(sent):\n",
    "    print(tree)"
   ],
   "metadata": {
    "collapsed": false,
    "pycharm": {
     "name": "#%%\n"
    }
   }
  },
  {
   "cell_type": "code",
   "execution_count": 18,
   "outputs": [
    {
     "data": {
      "text/plain": "26"
     },
     "execution_count": 18,
     "metadata": {},
     "output_type": "execute_result"
    }
   ],
   "source": [
    "len(sent)"
   ],
   "metadata": {
    "collapsed": false,
    "pycharm": {
     "name": "#%%\n"
    }
   }
  },
  {
   "cell_type": "code",
   "execution_count": 19,
   "outputs": [
    {
     "name": "stdout",
     "output_type": "stream",
     "text": [
      "(S\n",
      "  (NP\n",
      "    (NP (PN Buffalo) (N buffalo))\n",
      "    (RC (NP (PN Buffalo) (N buffalo)) (V buffalo)))\n",
      "  (VP (V buffalo) (NP (PN Buffalo) (N buffalo))))\n"
     ]
    }
   ],
   "source": [
    "# Exercise: 8-13\n",
    "# Consider the sequence of words: Buffalo buffalo Buffalo buffalo buffalo buffalo Buffalo buffalo. This is a\n",
    "# grammatically correct sentence, as explained at http://en.wikipedia.org/wiki/Buffalo_buffalo_Buffalo_buffalo_buffalo_buffalo_Buffalo_buffalo.\n",
    "# Consider the tree diagram presented on this Wikipedia page, and write down a suitable grammar. Normalize case to\n",
    "# lowercase, to simulate the problem that a listener has when hearing this sentence. Can you find other parses for\n",
    "# this sentence? How does the number of parse trees grow as the sentence gets longer? (More examples of these sentences\n",
    "# can be found at http://en.wikipedia.org/wiki/List_of_homophonous_phrases.)\n",
    "\n",
    "grammar1 = nltk.CFG.fromstring(\"\"\"\n",
    "  S -> NP VP\n",
    "  NP -> NP RC | PN N\n",
    "  RC -> NP V\n",
    "  VP -> V NP\n",
    "  V -> \"buffalo\"\n",
    "  N -> \"buffalo\"\n",
    "  PN -> \"Buffalo\"\n",
    "  \"\"\")\n",
    "\n",
    "sent = \"Buffalo buffalo Buffalo buffalo buffalo buffalo Buffalo buffalo\".split()\n",
    "cp_parser = nltk.ChartParser(grammar1)\n",
    "for tree in cp_parser.parse(sent):\n",
    "    print(tree)"
   ],
   "metadata": {
    "collapsed": false,
    "pycharm": {
     "name": "#%%\n"
    }
   }
  },
  {
   "cell_type": "code",
   "execution_count": 20,
   "outputs": [
    {
     "name": "stdout",
     "output_type": "stream",
     "text": [
      "(S\n",
      "  (NP\n",
      "    (NP (PN buffalo) (N buffalo))\n",
      "    (RC (NP (PN buffalo) (N buffalo)) (V buffalo)))\n",
      "  (VP (V buffalo) (NP (PN buffalo) (N buffalo))))\n",
      "(S\n",
      "  (NP (PN buffalo) (N buffalo))\n",
      "  (VP\n",
      "    (V buffalo)\n",
      "    (NP\n",
      "      (NP (PN buffalo) (N buffalo))\n",
      "      (RC (NP (PN buffalo) (N buffalo)) (V buffalo)))))\n"
     ]
    }
   ],
   "source": [
    "grammar1 = nltk.CFG.fromstring(\"\"\"\n",
    "  S -> NP VP\n",
    "  NP -> NP RC | PN N\n",
    "  RC -> NP V\n",
    "  VP -> V NP\n",
    "  V -> \"buffalo\"\n",
    "  N -> \"buffalo\"\n",
    "  PN -> \"buffalo\"\n",
    "  \"\"\")\n",
    "\n",
    "sent = [\"buffalo\"] * 8\n",
    "cp_parser = nltk.ChartParser(grammar1)\n",
    "\n",
    "for tree in cp_parser.parse(sent):\n",
    "    print(tree)"
   ],
   "metadata": {
    "collapsed": false,
    "pycharm": {
     "name": "#%%\n"
    }
   }
  },
  {
   "cell_type": "code",
   "execution_count": 21,
   "outputs": [
    {
     "data": {
      "text/plain": "[2, 5, 14, 42, 132, 429, 1430, 4862]"
     },
     "execution_count": 21,
     "metadata": {},
     "output_type": "execute_result"
    }
   ],
   "source": [
    "[sum([1 for tree in cp_parser.parse([\"buffalo\"] * i)]) for i in range(8, 30, 3)]"
   ],
   "metadata": {
    "collapsed": false,
    "pycharm": {
     "name": "#%%\n"
    }
   }
  },
  {
   "cell_type": "code",
   "execution_count": 22,
   "outputs": [],
   "source": [
    "# Exercise: 8-15\n",
    "# Extend the grammar in grammar2 with productions that expand prepositions as intransitive, transitive,\n",
    "# and requiring a PP complement. Based on these productions, use the method of the preceding exercise to\n",
    "# draw a tree for the sentence Lee ran away home.\n",
    "\n",
    "grammar2 = nltk.CFG.fromstring(\"\"\"\n",
    "  S  -> NP VP\n",
    "  NP -> PropN | Det N\n",
    "  VP -> TV NP | V PP | IV\n",
    "  PP -> P Comp\n",
    "  PropN -> 'Lee'\n",
    "  Det -> 'the' | 'a'\n",
    "  N -> 'bear' | 'squirrel' | 'tree' | 'fish' | 'log'\n",
    "  TV -> 'ate'\n",
    "  IV -> 'smiled'\n",
    "  V ->  'ran'\n",
    "  P -> 'away'\n",
    "  Comp -> 'home'\n",
    "  \"\"\")"
   ],
   "metadata": {
    "collapsed": false,
    "pycharm": {
     "name": "#%%\n"
    }
   }
  },
  {
   "cell_type": "code",
   "execution_count": 23,
   "outputs": [
    {
     "name": "stdout",
     "output_type": "stream",
     "text": [
      "(S (NP (PropN Lee)) (VP (V ran) (PP (P away) (Comp home))))\n"
     ]
    }
   ],
   "source": [
    "rd_parser = nltk.RecursiveDescentParser(grammar2)\n",
    "sent = 'Lee ran away home'.split()\n",
    "for tree in rd_parser.parse(sent):\n",
    "    print(tree)"
   ],
   "metadata": {
    "collapsed": false,
    "pycharm": {
     "name": "#%%\n"
    }
   }
  },
  {
   "cell_type": "code",
   "execution_count": 24,
   "outputs": [
    {
     "data": {
      "text/plain": "Tree('S', [Tree('NP', [Tree('PropN', ['Lee'])]), Tree('VP', [Tree('V', ['ran']), Tree('PP', [Tree('P', ['away']), Tree('Comp', ['home'])])])])",
      "image/png": "[encoded data removed]"
     },
     "execution_count": 24,
     "metadata": {},
     "output_type": "execute_result"
    }
   ],
   "source": [
    "trees = []\n",
    "for tree in rd_parser.parse(sent):\n",
    "    trees.append(str(tree))\n",
    "\n",
    "nltk.Tree.fromstring(trees[0])"
   ],
   "metadata": {
    "collapsed": false,
    "pycharm": {
     "name": "#%%\n"
    }
   }
  },
  {
   "cell_type": "code",
   "execution_count": 25,
   "outputs": [],
   "source": [
    "# Exercise: 8-16\n",
    "# Pick some common verbs and complete the following tasks:\n",
    "# a: Write a program to find those verbs in the PP Attachment Corpus nltk.corpus.ppattach. Find any cases where\n",
    "# the same verb exhibits two different attachments, but where the first noun, or second noun, or preposition stays\n",
    "# unchanged (as we saw in our discussion of syntactic ambiguity in What’s the Use of Syntax?).\n",
    "\n",
    "verbs = [\"come\", \"get\", \"give\", \"go\", \"look\", \"take\"]\n",
    "\n",
    "from collections import defaultdict\n",
    "entries = nltk.corpus.ppattach.attachments('training')\n",
    "table = defaultdict(lambda: defaultdict(set))\n",
    "for entry in entries:\n",
    "    if entry.verb in verbs:\n",
    "        key = entry.verb\n",
    "        # same noun1\n",
    "        noun1 = entry.noun1 + '_1'\n",
    "        table[key][noun1].add(entry.attachment)\n",
    "        # same noun2\n",
    "        noun2 = entry.noun2 + '_2'\n",
    "        table[key][noun2].add(entry.attachment)\n",
    "        # same preposition\n",
    "        table[key][entry.prep].add(entry.attachment)"
   ],
   "metadata": {
    "collapsed": false,
    "pycharm": {
     "name": "#%%\n"
    }
   }
  },
  {
   "cell_type": "code",
   "execution_count": 26,
   "outputs": [
    {
     "name": "stdout",
     "output_type": "stream",
     "text": [
      "get at ['N', 'V']\n",
      "get business_2 ['N', 'V']\n",
      "get dollars_2 ['N', 'V']\n",
      "get feeling_1 ['N', 'V']\n",
      "get for ['N', 'V']\n",
      "get from ['N', 'V']\n",
      "get in ['N', 'V']\n",
      "get license_1 ['N', 'V']\n",
      "get number_1 ['N', 'V']\n",
      "get on ['N', 'V']\n",
      "get pound_1 ['N', 'V']\n",
      "get price_1 ['N', 'V']\n",
      "get sort_1 ['N', 'V']\n",
      "get to ['N', 'V']\n",
      "get without ['N', 'V']\n",
      "give about ['N', 'V']\n",
      "give answers_1 ['N', 'V']\n",
      "give assessment_1 ['N', 'V']\n",
      "give boost_1 ['N', 'V']\n",
      "give firms_2 ['N', 'V']\n",
      "give for ['N', 'V']\n",
      "give in ['N', 'V']\n",
      "give leaders_1 ['N', 'V']\n",
      "give lot_1 ['N', 'V']\n",
      "give offer_2 ['N', 'V']\n",
      "give part_1 ['N', 'V']\n",
      "give protection_1 ['N', 'V']\n",
      "give sets_1 ['N', 'V']\n",
      "give some_1 ['N', 'V']\n",
      "give stake_1 ['N', 'V']\n",
      "give time_2 ['N', 'V']\n",
      "give to ['N', 'V']\n",
      "go hand_1 ['N', 'V']\n",
      "go in ['N', 'V']\n",
      "go to ['N', 'V']\n",
      "go way_1 ['N', 'V']\n",
      "take action_1 ['N', 'V']\n",
      "take against ['N', 'V']\n",
      "take applications_1 ['N', 'V']\n",
      "take at ['N', 'V']\n",
      "take charge_1 ['N', 'V']\n",
      "take charges_1 ['N', 'V']\n",
      "take control_1 ['N', 'V']\n",
      "take days_2 ['N', 'V']\n",
      "take deduction_1 ['N', 'V']\n",
      "take effect_1 ['N', 'V']\n",
      "take for ['N', 'V']\n",
      "take from ['N', 'V']\n",
      "take in ['N', 'V']\n",
      "take issue_2 ['N', 'V']\n",
      "take look_1 ['N', 'V']\n",
      "take market_2 ['N', 'V']\n",
      "take on ['N', 'V']\n",
      "take part_1 ['N', 'V']\n",
      "take problems_2 ['N', 'V']\n",
      "take role_1 ['N', 'V']\n",
      "take some_1 ['N', 'V']\n",
      "take to ['N', 'V']\n",
      "take with ['N', 'V']\n",
      "take write-offs_1 ['N', 'V']\n"
     ]
    }
   ],
   "source": [
    "for v in verbs:\n",
    "    for key in sorted(table[v]):\n",
    "        if len(table[v][key]) > 1:\n",
    "            print(v, key, sorted(table[v][key]))"
   ],
   "metadata": {
    "collapsed": false,
    "pycharm": {
     "name": "#%%\n"
    }
   }
  },
  {
   "cell_type": "code",
   "execution_count": 27,
   "outputs": [
    {
     "name": "stdout",
     "output_type": "stream",
     "text": [
      "PPAttachment(sent='1445', verb='get', noun1='return', prep='on', noun2='investment', attachment='N')\n",
      "PPAttachment(sent='5072', verb='get', noun1='hands', prep='on', noun2='some', attachment='V')\n",
      "PPAttachment(sent='6424', verb='get', noun1='attention', prep='on', noun2='anything', attachment='N')\n",
      "PPAttachment(sent='9020', verb='get', noun1='ideas', prep='on', noun2='issue', attachment='N')\n",
      "PPAttachment(sent='13366', verb='get', noun1='contracts', prep='on', noun2='basis', attachment='V')\n",
      "PPAttachment(sent='14798', verb='get', noun1='it', prep='on', noun2='line', attachment='V')\n",
      "PPAttachment(sent='15597', verb='get', noun1='broker', prep='on', noun2='phone', attachment='V')\n",
      "PPAttachment(sent='19796', verb='get', noun1='yields', prep='on', noun2='funds', attachment='N')\n",
      "PPAttachment(sent='21750', verb='get', noun1='lock', prep='on', noun2='games', attachment='N')\n",
      "PPAttachment(sent='30488', verb='get', noun1='vote', prep='on', noun2='day', attachment='V')\n",
      "PPAttachment(sent='34668', verb='get', noun1='yields', prep='on', noun2='paper', attachment='N')\n",
      "PPAttachment(sent='36141', verb='get', noun1='grasp', prep='on', noun2='volume', attachment='N')\n",
      "PPAttachment(sent='38771', verb='get', noun1='price', prep='on', noun2='space', attachment='N')\n",
      "PPAttachment(sent='39029', verb='get', noun1='quotes', prep='on', noun2='stocks', attachment='N')\n"
     ]
    }
   ],
   "source": [
    "for entry in entries:\n",
    "    if entry.verb == 'get' and entry.prep == 'on':\n",
    "        print(entry)"
   ],
   "metadata": {
    "collapsed": false,
    "pycharm": {
     "name": "#%%\n"
    }
   }
  },
  {
   "cell_type": "code",
   "execution_count": 28,
   "outputs": [],
   "source": [
    "# b: Devise CFG grammar productions to cover some of these cases.\n",
    "\n",
    "grammar3 = nltk.CFG.fromstring(\"\"\"\n",
    "  S  -> NP VP\n",
    "  NP -> PRP | N PP | N | Det N\n",
    "  VP -> MD VP | V NP | V NP PP\n",
    "  PRP -> 'I'\n",
    "  Det -> 'the'\n",
    "  N -> 'hands' | 'some' | 'ideas' | 'issue'\n",
    "  PP -> P NP\n",
    "  MD -> M Inf\n",
    "  M -> 'want'\n",
    "  Inf -> 'to'\n",
    "  V -> 'get'\n",
    "  P -> 'on'\n",
    "  \"\"\")"
   ],
   "metadata": {
    "collapsed": false,
    "pycharm": {
     "name": "#%%\n"
    }
   }
  },
  {
   "cell_type": "code",
   "execution_count": 29,
   "outputs": [
    {
     "name": "stdout",
     "output_type": "stream",
     "text": [
      "(S\n",
      "  (NP (PRP I))\n",
      "  (VP\n",
      "    (MD (M want) (Inf to))\n",
      "    (VP (V get) (NP (N hands) (PP (P on) (NP (N some)))))))\n",
      "(S\n",
      "  (NP (PRP I))\n",
      "  (VP\n",
      "    (MD (M want) (Inf to))\n",
      "    (VP (V get) (NP (N hands)) (PP (P on) (NP (N some))))))\n"
     ]
    }
   ],
   "source": [
    "rd_parser = nltk.RecursiveDescentParser(grammar3)\n",
    "sent = 'I want to get hands on some'.split()\n",
    "for tree in rd_parser.parse(sent):\n",
    "    print(tree)"
   ],
   "metadata": {
    "collapsed": false,
    "pycharm": {
     "name": "#%%\n"
    }
   }
  },
  {
   "cell_type": "code",
   "execution_count": 30,
   "outputs": [
    {
     "data": {
      "text/plain": "Tree('S', [Tree('NP', [Tree('PRP', ['I'])]), Tree('VP', [Tree('MD', [Tree('M', ['want']), Tree('Inf', ['to'])]), Tree('VP', [Tree('V', ['get']), Tree('NP', [Tree('N', ['hands']), Tree('PP', [Tree('P', ['on']), Tree('NP', [Tree('N', ['some'])])])])])])])",
      "image/png": "[encoded data removed]"
     },
     "execution_count": 30,
     "metadata": {},
     "output_type": "execute_result"
    }
   ],
   "source": [
    "trees = []\n",
    "for tree in rd_parser.parse(sent):\n",
    "    trees.append(str(tree))\n",
    "\n",
    "nltk.Tree.fromstring(trees[0])"
   ],
   "metadata": {
    "collapsed": false,
    "pycharm": {
     "name": "#%%\n"
    }
   }
  },
  {
   "cell_type": "code",
   "execution_count": 31,
   "outputs": [
    {
     "data": {
      "text/plain": "Tree('S', [Tree('NP', [Tree('PRP', ['I'])]), Tree('VP', [Tree('MD', [Tree('M', ['want']), Tree('Inf', ['to'])]), Tree('VP', [Tree('V', ['get']), Tree('NP', [Tree('N', ['hands'])]), Tree('PP', [Tree('P', ['on']), Tree('NP', [Tree('N', ['some'])])])])])])",
      "image/png": "[encoded data removed]"
     },
     "execution_count": 31,
     "metadata": {},
     "output_type": "execute_result"
    }
   ],
   "source": [
    "nltk.Tree.fromstring(trees[1])"
   ],
   "metadata": {
    "collapsed": false,
    "pycharm": {
     "name": "#%%\n"
    }
   }
  },
  {
   "cell_type": "code",
   "execution_count": 32,
   "outputs": [
    {
     "name": "stdout",
     "output_type": "stream",
     "text": [
      "(S\n",
      "  (NP (PRP I))\n",
      "  (VP\n",
      "    (MD (M want) (Inf to))\n",
      "    (VP (V get) (NP (N ideas) (PP (P on) (NP (Det the) (N issue)))))))\n",
      "(S\n",
      "  (NP (PRP I))\n",
      "  (VP\n",
      "    (MD (M want) (Inf to))\n",
      "    (VP (V get) (NP (N ideas)) (PP (P on) (NP (Det the) (N issue))))))\n"
     ]
    }
   ],
   "source": [
    "rd_parser = nltk.RecursiveDescentParser(grammar3)\n",
    "sent = 'I want to get ideas on the issue'.split()\n",
    "for tree in rd_parser.parse(sent):\n",
    "    print(tree)"
   ],
   "metadata": {
    "collapsed": false,
    "pycharm": {
     "name": "#%%\n"
    }
   }
  },
  {
   "cell_type": "code",
   "execution_count": 33,
   "outputs": [
    {
     "data": {
      "text/plain": "Tree('S', [Tree('NP', [Tree('PRP', ['I'])]), Tree('VP', [Tree('MD', [Tree('M', ['want']), Tree('Inf', ['to'])]), Tree('VP', [Tree('V', ['get']), Tree('NP', [Tree('N', ['ideas']), Tree('PP', [Tree('P', ['on']), Tree('NP', [Tree('Det', ['the']), Tree('N', ['issue'])])])])])])])",
      "image/png": "[encoded data removed]"
     },
     "execution_count": 33,
     "metadata": {},
     "output_type": "execute_result"
    }
   ],
   "source": [
    "trees = []\n",
    "for tree in rd_parser.parse(sent):\n",
    "    trees.append(str(tree))\n",
    "\n",
    "nltk.Tree.fromstring(trees[0])"
   ],
   "metadata": {
    "collapsed": false,
    "pycharm": {
     "name": "#%%\n"
    }
   }
  },
  {
   "cell_type": "code",
   "execution_count": 34,
   "outputs": [
    {
     "data": {
      "text/plain": "Tree('S', [Tree('NP', [Tree('PRP', ['I'])]), Tree('VP', [Tree('MD', [Tree('M', ['want']), Tree('Inf', ['to'])]), Tree('VP', [Tree('V', ['get']), Tree('NP', [Tree('N', ['ideas'])]), Tree('PP', [Tree('P', ['on']), Tree('NP', [Tree('Det', ['the']), Tree('N', ['issue'])])])])])])",
      "image/png": "[encoded data removed]"
     },
     "execution_count": 34,
     "metadata": {},
     "output_type": "execute_result"
    }
   ],
   "source": [
    "nltk.Tree.fromstring(trees[1])"
   ],
   "metadata": {
    "collapsed": false,
    "pycharm": {
     "name": "#%%\n"
    }
   }
  },
  {
   "cell_type": "code",
   "execution_count": 35,
   "outputs": [],
   "source": [
    "# Exercise: 8-17\n",
    "# Write a program to compare the efficiency of a top-down chart parser compared with a recursive descent parser\n",
    "# (Parsing with Context-Free Grammar). Use the same grammar and input sentences for both. Compare their performance\n",
    "# using the timeit module (see Algorithm Design for an example of how to do this).\n",
    "\n",
    "groucho_grammar = nltk.CFG.fromstring(\"\"\"\n",
    "S -> NP VP\n",
    "PP -> P NP\n",
    "NP -> Det N | Det N PP | 'I'\n",
    "VP -> V NP | VP PP\n",
    "Det -> 'an' | 'my'\n",
    "N -> 'elephant' | 'pajamas'\n",
    "V -> 'shot'\n",
    "P -> 'in'\n",
    "\"\"\")"
   ],
   "metadata": {
    "collapsed": false,
    "pycharm": {
     "name": "#%%\n"
    }
   }
  },
  {
   "cell_type": "code",
   "execution_count": 36,
   "outputs": [
    {
     "name": "stdout",
     "output_type": "stream",
     "text": [
      "419 µs ± 6.22 µs per loop (mean ± std. dev. of 7 runs, 1000 loops each)\n"
     ]
    }
   ],
   "source": [
    "%%timeit\n",
    "\n",
    "sent = 'I shot an elephant in my pajamas'.split()\n",
    "parser = nltk.ChartParser(groucho_grammar)\n",
    "parser.parse(sent)"
   ],
   "metadata": {
    "collapsed": false,
    "pycharm": {
     "name": "#%%\n"
    }
   }
  },
  {
   "cell_type": "code",
   "execution_count": 37,
   "outputs": [
    {
     "name": "stdout",
     "output_type": "stream",
     "text": [
      "2.25 µs ± 26.6 ns per loop (mean ± std. dev. of 7 runs, 100000 loops each)\n"
     ]
    }
   ],
   "source": [
    "%%timeit\n",
    "\n",
    "sent = 'I shot an elephant in my pajamas'.split()\n",
    "rd_parser = nltk.RecursiveDescentParser(groucho_grammar)\n",
    "rd_parser.parse(sent)"
   ],
   "metadata": {
    "collapsed": false,
    "pycharm": {
     "name": "#%%\n"
    }
   }
  },
  {
   "cell_type": "code",
   "execution_count": 38,
   "outputs": [],
   "source": [
    "grammar1 = nltk.CFG.fromstring(\"\"\"\n",
    "  S -> NP VP\n",
    "  VP -> V NP | V NP PP\n",
    "  PP -> P NP\n",
    "  V -> \"saw\" | \"ate\" | \"walked\"\n",
    "  NP -> \"John\" | \"Mary\" | \"Bob\" | Det N | Det N PP\n",
    "  Det -> \"a\" | \"an\" | \"the\" | \"my\"\n",
    "  N -> \"man\" | \"dog\" | \"cat\" | \"telescope\" | \"park\"\n",
    "  P -> \"in\" | \"on\" | \"by\" | \"with\"\n",
    "  \"\"\")"
   ],
   "metadata": {
    "collapsed": false,
    "pycharm": {
     "name": "#%%\n"
    }
   }
  },
  {
   "cell_type": "code",
   "execution_count": 39,
   "outputs": [
    {
     "name": "stdout",
     "output_type": "stream",
     "text": [
      "4.27 µs ± 16.1 ns per loop (mean ± std. dev. of 7 runs, 100000 loops each)\n"
     ]
    }
   ],
   "source": [
    "%%timeit\n",
    "\n",
    "sent = \"a dog in the park by the cat with the telescope on the dog ate the man in the park by the cat with the telescope\".split()\n",
    "rd_parser = nltk.RecursiveDescentParser(grammar1)\n",
    "rd_parser.parse(sent)"
   ],
   "metadata": {
    "collapsed": false,
    "pycharm": {
     "name": "#%%\n"
    }
   }
  },
  {
   "cell_type": "code",
   "execution_count": 40,
   "outputs": [
    {
     "name": "stdout",
     "output_type": "stream",
     "text": [
      "2.23 ms ± 18.5 µs per loop (mean ± std. dev. of 7 runs, 100 loops each)\n"
     ]
    }
   ],
   "source": [
    "%%timeit\n",
    "\n",
    "sent = \"a dog in the park by the cat with the telescope on the dog ate the man in the park by the cat with the telescope\".split()\n",
    "parser = nltk.ChartParser(grammar1)\n",
    "parser.parse(sent)"
   ],
   "metadata": {
    "collapsed": false,
    "pycharm": {
     "name": "#%%\n"
    }
   }
  },
  {
   "cell_type": "code",
   "execution_count": 41,
   "outputs": [],
   "source": [
    "# Exercise: 8-18\n",
    "# Compare the performance of the top-down, bottom-up, and left-corner parsers using the same grammar and three\n",
    "# grammatical test sentences. Use timeit to log the amount of time each parser takes on the same sentence.\n",
    "# Write a function that runs all three parsers on all three sentences, and prints a 3-by-3 grid of times,\n",
    "# as well as row and column totals. Discuss your findings.\n",
    "\n",
    "grammar4 = nltk.CFG.fromstring(\"\"\"\n",
    "S -> NP VP\n",
    "NP -> Det N | NP PP\n",
    "VP -> VP PP | V NP PP | V NP\n",
    "PP -> P NP\n",
    "NP -> 'I'\n",
    "Det -> 'the' | 'a'\n",
    "N -> 'man'\n",
    "V -> 'saw'\n",
    "P -> 'in' | 'with'\n",
    "N -> 'park' | 'dog' | 'statue'\n",
    "Det -> 'my'\n",
    "\"\"\")"
   ],
   "metadata": {
    "collapsed": false,
    "pycharm": {
     "name": "#%%\n"
    }
   }
  },
  {
   "cell_type": "code",
   "execution_count": 42,
   "outputs": [],
   "source": [
    "import timeit, nltk\n",
    "\n",
    "def time_parsers(sents, grammar):\n",
    "    \"\"\"\n",
    "    Times the performances of three parsers over\n",
    "    a list of sentences.\n",
    "    \"\"\"\n",
    "\n",
    "    top_down = nltk.TopDownChartParser(grammar)\n",
    "    bottom_up = nltk.BottomUpChartParser(grammar)\n",
    "    left_corner = nltk.LeftCornerChartParser(grammar)\n",
    "\n",
    "    parsers = [top_down, bottom_up, left_corner]\n",
    "\n",
    "    t = []\n",
    "\n",
    "    for sent in sents:\n",
    "        for parser in parsers:\n",
    "            start = timeit.default_timer()\n",
    "            parser.parse(sent)\n",
    "            end = timeit.default_timer()\n",
    "            t.append(end - start)\n",
    "\n",
    "    ch = [\"\", \"Top Down\", \"Bottom Up\", \"Left Corner\", \"Row Totals\"]\n",
    "    print(\"{:12}{:12}{:12}{:13}{:12}\".format(ch[0], ch[1], ch[2],\n",
    "                                              ch[3], ch[4]))\n",
    "    l = len(sents)\n",
    "    for i in range(l):\n",
    "        print(\"{:12}{:<12.8}{:<12.8}{:<13.8}{:<12.8}\".format(\n",
    "                                   \"Sent \" + str(i + 1),\n",
    "                                    t[(3 * i) + 0],\n",
    "                                    t[(3 * i) + 1],\n",
    "                                    t[(3 * i) + 2],\n",
    "                                    sum(t[(3 * i) + 0:(3 * i) + 3])))\n",
    "    col1 = sum(t[i] for i in range(0, l * 3, 3))\n",
    "    col2 = sum(t[i] for i in range(1, l * 3, 3))\n",
    "    col3 = sum(t[i] for i in range(2, l * 3, 3))\n",
    "    print(\"{:12}{:<12.8}{:<12.8}{:<13.8}\".format(\"Col Totals\",\n",
    "                                        col1, col2, col3))"
   ],
   "metadata": {
    "collapsed": false,
    "pycharm": {
     "name": "#%%\n"
    }
   }
  },
  {
   "cell_type": "code",
   "execution_count": 43,
   "outputs": [
    {
     "name": "stdout",
     "output_type": "stream",
     "text": [
      "            Top Down    Bottom Up   Left Corner  Row Totals  \n",
      "Sent 1      0.001426235 0.001457494 0.000894588  0.003778317 \n",
      "Sent 2      0.001242438 0.001231877 0.000647425  0.00312174  \n",
      "Sent 3      0.001313681 0.001532236 0.001054819  0.003900736 \n",
      "Col Totals  0.003982354 0.004221607 0.002596832  \n"
     ]
    }
   ],
   "source": [
    "sent1 = \"I saw a dog in the park with a statue\".split()\n",
    "sent2 = \"a man with a statue in the park saw a dog\".split()\n",
    "sent3 = \"a dog saw the man with a statue in the park\".split()\n",
    "\n",
    "sents = [sent1, sent2, sent3]\n",
    "\n",
    "time_parsers(sents, grammar4)"
   ],
   "metadata": {
    "collapsed": false,
    "pycharm": {
     "name": "#%%\n"
    }
   }
  },
  {
   "cell_type": "code",
   "execution_count": 44,
   "outputs": [
    {
     "name": "stdout",
     "output_type": "stream",
     "text": [
      "            Top Down    Bottom Up   Left Corner  Row Totals  \n",
      "Sent 1      0.001459314 0.001585214 0.000896922  0.00394145  \n",
      "Sent 2      0.001340673 0.001319994 0.000741069  0.003401736 \n",
      "Col Totals  0.002799987 0.002905208 0.001637991  \n"
     ]
    }
   ],
   "source": [
    "sent1 = \"I saw a dog in the park with a statue\".split()\n",
    "sent2 = \"a man with a statue in the park saw a dog\".split()\n",
    "\n",
    "sents = [sent1, sent2]\n",
    "\n",
    "time_parsers(sents, grammar4)"
   ],
   "metadata": {
    "collapsed": false,
    "pycharm": {
     "name": "#%%\n"
    }
   }
  },
  {
   "cell_type": "code",
   "execution_count": 45,
   "outputs": [
    {
     "name": "stdout",
     "output_type": "stream",
     "text": [
      "            Top Down    Bottom Up   Left Corner  Row Totals  \n",
      "Sent 1      0.001952824 0.002922539 0.001264286  0.006139649 \n",
      "Sent 2      0.001876488 0.001739635 0.000995803  0.004611926 \n",
      "Sent 3      0.001965438 0.002349797 0.001316888  0.005632123 \n",
      "Sent 4      0.001897423 0.002003724 0.001225735  0.005126882 \n",
      "Col Totals  0.007692173 0.009015695 0.004802712  \n"
     ]
    }
   ],
   "source": [
    "sent1 = \"I saw a dog in the park with a statue\".split()\n",
    "sent2 = \"a man with a statue in the park saw a dog\".split()\n",
    "sent3 = \"a dog saw the man with a statue in the park\".split()\n",
    "sent4 = \"I saw a man with a dog with a statue\".split()\n",
    "\n",
    "sents = [sent1, sent2, sent3, sent4]\n",
    "\n",
    "time_parsers(sents, grammar4)"
   ],
   "metadata": {
    "collapsed": false,
    "pycharm": {
     "name": "#%%\n"
    }
   }
  },
  {
   "cell_type": "code",
   "execution_count": 46,
   "outputs": [],
   "source": [
    "# Exercise: 8-20\n",
    "# To compare multiple trees in a single window, we can use the draw_trees() method.\n",
    "# Define some trees and try it out:\n",
    "# >>> from nltk.draw.tree import draw_trees\n",
    "# >>> draw_trees(tree1, tree2, tree3)\n",
    "\n",
    "from nltk.draw.tree import draw_trees\n",
    "\n",
    "sent1 = \"(S (NP I) (VP (VP (V shot) (NP (Det an) (N elephant))) (PP (P in) (NP (Det my) (N pajamas)))))\"\n",
    "\n",
    "sent2 = \"(S (NP I) (VP (V shot) (NP (Det an) (N elephant) (PP (P in) (NP (Det my) (N pajamas))))))\"\n",
    "\n",
    "draw_trees(nltk.Tree.fromstring(sent1), nltk.Tree.fromstring(sent2))"
   ],
   "metadata": {
    "collapsed": false,
    "pycharm": {
     "name": "#%%\n"
    }
   }
  },
  {
   "cell_type": "code",
   "execution_count": 47,
   "outputs": [
    {
     "data": {
      "text/plain": "[Tree('NNP', ['Pierre']),\n Tree('NNP', ['Vinken']),\n Tree(',', [',']),\n Tree('CD', ['61']),\n Tree('NNS', ['years']),\n Tree('JJ', ['old']),\n Tree(',', [',']),\n Tree('NNP', ['Mr.']),\n Tree('NNP', ['Vinken']),\n Tree('NNS', ['researchers']),\n Tree('NNS', ['researchers']),\n Tree('NNP', ['Lorillard']),\n Tree('NNP', ['Inc.']),\n Tree(',', [',']),\n Tree('DT', ['the']),\n Tree('NN', ['unit']),\n Tree('IN', ['of']),\n Tree('JJ', ['New']),\n Tree('JJ', ['York-based']),\n Tree('NNP', ['Loews']),\n Tree('NNP', ['Corp.']),\n Tree('WDT', ['that']),\n Tree('-NONE-', ['*T*-2']),\n Tree('VBZ', ['makes']),\n Tree('NNP', ['Kent']),\n Tree('NNS', ['cigarettes']),\n Tree(',', [',']),\n Tree('DT', ['the']),\n Tree('JJS', ['latest']),\n Tree('NNS', ['results']),\n Tree('DT', ['A']),\n Tree('NNP', ['Lorillard']),\n Tree('NN', ['spokewoman']),\n Tree('PRP', ['We']),\n Tree('EX', ['There']),\n Tree('DT', ['Neither']),\n Tree('NNP', ['Lorillard']),\n Tree('CC', ['nor']),\n Tree('DT', ['the']),\n Tree('NNS', ['researchers']),\n Tree('WP', ['who']),\n Tree('-NONE-', ['*T*-3']),\n Tree('VBD', ['studied']),\n Tree('DT', ['the']),\n Tree('NNS', ['workers']),\n Tree('NNP', ['James']),\n Tree('NNP', ['A.']),\n Tree('NNP', ['Talcott']),\n Tree('IN', ['of']),\n Tree('NNP', ['Boston']),\n Tree('POS', [\"'s\"]),\n Tree('NNP', ['Dana-Farber']),\n Tree('NNP', ['Cancer']),\n Tree('NNP', ['Institute']),\n Tree('NNP', ['Dr.']),\n Tree('NNP', ['Talcott']),\n Tree('DT', ['The']),\n Tree('NNP', ['Lorillard']),\n Tree('NN', ['spokeswoman']),\n Tree('DT', ['the']),\n Tree('NN', ['company']),\n Tree('CD', ['28']),\n Tree('-NONE-', ['*ICH*-1']),\n Tree('CD', ['Four']),\n Tree('IN', ['of']),\n Tree('DT', ['the']),\n Tree('CD', ['five']),\n Tree('VBG', ['surviving']),\n Tree('NNS', ['workers']),\n Tree('DT', ['the']),\n Tree('NNS', ['researchers']),\n Tree('NNP', ['Dr.']),\n Tree('NNP', ['Talcott']),\n Tree('PRP', ['he']),\n Tree('DT', ['The']),\n Tree('NN', ['plant']),\n Tree(',', [',']),\n Tree('WDT', ['which']),\n Tree('-NONE-', ['*T*-1']),\n Tree('VBZ', ['is']),\n Tree('VBN', ['owned']),\n Tree('-NONE-', ['*-4']),\n Tree('IN', ['by']),\n Tree('NNP', ['Hollingsworth']),\n Tree('CC', ['&']),\n Tree('NNP', ['Vose']),\n Tree('NNP', ['Co.']),\n Tree(',', [',']),\n Tree('NNP', ['Dr.']),\n Tree('NNP', ['Talcott']),\n Tree('DT', ['The']),\n Tree('NNP', ['U.S.']),\n Tree('NNP', ['Dr.']),\n Tree('NNP', ['Mossman']),\n Tree('DT', ['the']),\n Tree('NNP', ['Environmental']),\n Tree('NNP', ['Protection']),\n Tree('NNP', ['Agency']),\n Tree('NNS', ['Areas']),\n Tree('IN', ['of']),\n Tree('DT', ['the']),\n Tree('NN', ['factory']),\n Tree('-NONE-', ['*ICH*-2']),\n Tree('NNS', ['Workers']),\n Tree('NNS', ['Workers']),\n Tree('NNP', ['Darrell']),\n Tree('NNP', ['Phillips']),\n Tree(',', [',']),\n Tree('NN', ['vice']),\n Tree('NN', ['president']),\n Tree('IN', ['of']),\n Tree('JJ', ['human']),\n Tree('NNS', ['resources']),\n Tree('IN', ['for']),\n Tree('NNP', ['Hollingsworth']),\n Tree('CC', ['&']),\n Tree('NNP', ['Vose']),\n Tree('PRP', ['It']),\n Tree('DT', ['The']),\n Tree('JJ', ['average']),\n Tree('JJ', ['seven-day']),\n Tree('NN', ['compound']),\n Tree('NN', ['yield']),\n Tree('IN', ['of']),\n Tree('DT', ['the']),\n Tree('CD', ['400']),\n Tree('JJ', ['taxable']),\n Tree('NNS', ['funds']),\n Tree('VBN', ['tracked']),\n Tree('-NONE-', ['*']),\n Tree('IN', ['by']),\n Tree('NNP', ['IBC']),\n Tree('POS', [\"'s\"]),\n Tree('NNP', ['Money']),\n Tree('NNP', ['Fund']),\n Tree('NNP', ['Report']),\n Tree('NN', ['Compound']),\n Tree('NNS', ['yields']),\n Tree('JJ', ['Average']),\n Tree('NN', ['maturity']),\n Tree('IN', ['of']),\n Tree('DT', ['the']),\n Tree('NNS', ['funds']),\n Tree('POS', [\"'\"]),\n Tree('NNS', ['investments']),\n Tree('DT', ['The']),\n Tree('JJ', ['average']),\n Tree('NN', ['maturity']),\n Tree('IN', ['for']),\n Tree('NNS', ['funds']),\n Tree('JJ', ['open']),\n Tree('RB', ['only']),\n Tree('TO', ['to']),\n Tree('NNS', ['institutions']),\n Tree(',', [',']),\n Tree('VBN', ['considered']),\n Tree('IN', ['by']),\n Tree('DT', ['some']),\n Tree('-NONE-', ['*']),\n Tree('TO', ['to']),\n Tree('VB', ['be']),\n Tree('DT', ['a']),\n Tree('JJR', ['stronger']),\n Tree('NN', ['indicator']),\n Tree('IN', ['because']),\n Tree('DT', ['those']),\n Tree('NNS', ['managers']),\n Tree('VBP', ['watch']),\n Tree('DT', ['the']),\n Tree('NN', ['market']),\n Tree('RB', ['closely']),\n Tree(',', [',']),\n Tree('NNS', ['yields']),\n Tree('DT', ['The']),\n Tree('NN', ['yield']),\n Tree('IN', ['on']),\n Tree('JJ', ['six-month']),\n Tree('NNP', ['Treasury']),\n Tree('NNS', ['bills']),\n Tree('VBN', ['sold']),\n Tree('-NONE-', ['*']),\n Tree('IN', ['at']),\n Tree('NNP', ['Monday']),\n Tree('POS', [\"'s\"]),\n Tree('NN', ['auction']),\n Tree('NNS', ['Assets']),\n Tree('IN', ['of']),\n Tree('DT', ['the']),\n Tree('CD', ['400']),\n Tree('JJ', ['taxable']),\n Tree('NNS', ['funds']),\n Tree('NN', ['money-fund']),\n Tree('NNS', ['yields']),\n Tree('DT', ['The']),\n Tree('JJ', ['top']),\n Tree('NN', ['money']),\n Tree('NNS', ['funds']),\n Tree('NNP', ['Dreyfus']),\n Tree('NNP', ['World-Wide']),\n Tree('NNP', ['Dollar']),\n Tree(',', [',']),\n Tree('DT', ['the']),\n Tree('JJ', ['top-yielding']),\n Tree('NN', ['fund']),\n Tree(',', [',']),\n Tree('PRP', ['It']),\n Tree('DT', ['The']),\n Tree('JJ', ['average']),\n Tree('JJ', ['seven-day']),\n Tree('JJ', ['simple']),\n Tree('NN', ['yield']),\n Tree('IN', ['of']),\n Tree('DT', ['the']),\n Tree('CD', ['400']),\n Tree('NNS', ['funds']),\n Tree('PRP', ['He']),\n Tree('NNP', ['W.R.']),\n Tree('NNP', ['Grace']),\n Tree('NNP', ['Pacific']),\n Tree('NNP', ['First']),\n Tree('NNP', ['Financial']),\n Tree('NNP', ['Corp.']),\n Tree('DT', ['The']),\n Tree('NN', ['thrift']),\n Tree('VBG', ['holding']),\n Tree('NN', ['company']),\n Tree('NNP', ['McDermott']),\n Tree('NNP', ['International']),\n Tree('NNP', ['Inc.']),\n Tree('NNP', ['Finmeccanica']),\n Tree('NNP', ['Bailey']),\n Tree('NNP', ['Controls']),\n Tree(',', [',']),\n Tree('VBN', ['based']),\n Tree('-NONE-', ['*']),\n Tree('IN', ['in']),\n Tree('NNP', ['Wickliffe']),\n Tree(',', [',']),\n Tree('NNP', ['Ohio']),\n Tree(',', [',']),\n Tree('PRP', ['It']),\n Tree('DT', ['The']),\n Tree('JJ', ['federal']),\n Tree('NN', ['government']),\n Tree('DT', ['the']),\n Tree('NNP', ['Treasury']),\n Tree('DT', ['The']),\n Tree('NN', ['government']),\n Tree('POS', [\"'s\"]),\n Tree('NN', ['borrowing']),\n Tree('NN', ['authority']),\n Tree('DT', ['The']),\n Tree('NNP', ['Treasury']),\n Tree('PRP', ['he']),\n Tree('NNP', ['Mr.']),\n Tree('NNP', ['Vitulli']),\n Tree(',', [',']),\n Tree('CD', ['43']),\n Tree('NNS', ['years']),\n Tree('JJ', ['old']),\n Tree(',', [',']),\n Tree('PRP', ['He']),\n Tree('DT', ['the']),\n Tree('NN', ['nation']),\n Tree('POS', [\"'s\"]),\n Tree('VBG', ['manufacturing']),\n Tree('NNS', ['titans']),\n Tree('DT', ['The']),\n Tree('NNP', ['National']),\n Tree('NNP', ['Association']),\n Tree('IN', ['of']),\n Tree('NNP', ['Manufacturers']),\n Tree('NNS', ['officials']),\n Tree('IN', ['from']),\n Tree('NNS', ['giants']),\n Tree('IN', ['like']),\n Tree('NNP', ['Du']),\n Tree('NNP', ['Pont']),\n Tree('CC', ['and']),\n Tree('NNP', ['Maytag']),\n Tree(',', [',']),\n Tree('IN', ['along']),\n Tree('IN', ['with']),\n Tree('JJR', ['lesser']),\n Tree('NNS', ['knowns']),\n Tree('IN', ['like']),\n Tree('NNP', ['Trojan']),\n Tree('NNP', ['Steel']),\n Tree('CC', ['and']),\n Tree('DT', ['the']),\n Tree('NNP', ['Valley']),\n Tree('NNP', ['Queen']),\n Tree('NNP', ['Cheese']),\n Tree('NNP', ['Factory']),\n Tree('DT', ['the']),\n Tree('NNS', ['executives']),\n Tree('NN', ['Champagne']),\n Tree('CC', ['and']),\n Tree('NN', ['dessert']),\n Tree('DT', ['the']),\n Tree('NN', ['speedway']),\n Tree('NNP', ['Fortune']),\n Tree('CD', ['500']),\n Tree('NNS', ['executives']),\n Tree('PRP', ['it']),\n Tree('CD', ['nine']),\n Tree('IN', ['of']),\n Tree('DT', ['the']),\n Tree('JJS', ['hottest']),\n Tree('NNS', ['chefs']),\n Tree('IN', ['in']),\n Tree('NN', ['town']),\n Tree('JJR', ['More']),\n Tree('IN', ['than']),\n Tree('DT', ['a']),\n Tree('JJ', ['few']),\n Tree('NNS', ['CEOs']),\n Tree('PRP', ['they']),\n Tree('NNP', ['South']),\n Tree('NNP', ['Korea']),\n Tree('JJ', ['Preliminary']),\n Tree('NNS', ['tallies']),\n Tree('IN', ['by']),\n Tree('DT', ['the']),\n Tree('NNP', ['Trade']),\n Tree('CC', ['and']),\n Tree('NNP', ['Industry']),\n Tree('NNP', ['Ministry']),\n Tree('NNS', ['Exports']),\n Tree('IN', ['in']),\n Tree('NNP', ['October']),\n Tree('NNP', ['South']),\n Tree('NNP', ['Korea']),\n Tree('POS', [\"'s\"]),\n Tree('JJ', ['economic']),\n Tree('NN', ['boom']),\n Tree(',', [',']),\n Tree('WDT', ['which']),\n Tree('-NONE-', ['*T*-12']),\n Tree('VBD', ['began']),\n Tree('IN', ['in']),\n Tree('CD', ['1986']),\n Tree(',', [',']),\n Tree('NN', ['Government']),\n Tree('NNS', ['officials']),\n Tree('NNP', ['South']),\n Tree('NNP', ['Korea']),\n Tree('DT', ['the']),\n Tree('NN', ['nation']),\n Tree('POS', [\"'s\"]),\n Tree('VBN', ['accumulated']),\n Tree('NNS', ['exports']),\n Tree('NNS', ['Imports']),\n Tree('DT', ['The']),\n Tree('JJ', ['new']),\n Tree('NN', ['ad']),\n Tree('NN', ['plan']),\n Tree('IN', ['from']),\n Tree('NNP', ['Newsweek']),\n Tree(',', [',']),\n Tree('DT', ['a']),\n Tree('NN', ['unit']),\n Tree('IN', ['of']),\n Tree('DT', ['the']),\n Tree('NNP', ['Washington']),\n Tree('NNP', ['Post']),\n Tree('NNP', ['Co.']),\n Tree(',', [',']),\n Tree('NNS', ['Plans']),\n Tree('WDT', ['that']),\n Tree('-NONE-', ['*T*-13']),\n Tree('VBP', ['give']),\n Tree('NNS', ['advertisers']),\n Tree('NNS', ['discounts']),\n Tree('IN', ['for']),\n Tree('-NONE-', ['*']),\n Tree('VBG', ['maintaining']),\n Tree('CC', ['or']),\n Tree('VBG', ['increasing']),\n Tree('NN', ['ad']),\n Tree('NN', ['spending'])]"
     },
     "execution_count": 47,
     "metadata": {},
     "output_type": "execute_result"
    }
   ],
   "source": [
    "# Exercise: 8-21\n",
    "# Using tree positions, list the subjects of the first 100 sentences in the Penn treebank; to make the results\n",
    "# easier to view, limit the extracted subjects to subtrees whose height is at most 2.\n",
    "\n",
    "from nltk.corpus import treebank\n",
    "\n",
    "sbj = [subtree for tree in treebank.parsed_sents()[:100]\n",
    "         for subtree in tree if subtree.label() == 'NP-SBJ']\n",
    "\n",
    "[n for s in sbj for n in s.subtrees(lambda n: n.height() == 2)]"
   ],
   "metadata": {
    "collapsed": false,
    "pycharm": {
     "name": "#%%\n"
    }
   }
  },
  {
   "cell_type": "code",
   "execution_count": 48,
   "outputs": [
    {
     "data": {
      "text/plain": "Tree('NP-SBJ', [Tree('NP', [Tree('NNS', ['Plans'])]), Tree('SBAR', [Tree('WHNP-13', [Tree('WDT', ['that'])]), Tree('S', [Tree('NP-SBJ', [Tree('-NONE-', ['*T*-13'])]), Tree('VP', [Tree('VBP', ['give']), Tree('NP', [Tree('NNS', ['advertisers'])]), Tree('NP', [Tree('NP', [Tree('NNS', ['discounts'])]), Tree('PP', [Tree('IN', ['for']), Tree('S-NOM', [Tree('NP-SBJ', [Tree('-NONE-', ['*'])]), Tree('VP', [Tree('VBG', ['maintaining']), Tree('CC', ['or']), Tree('VBG', ['increasing']), Tree('NP', [Tree('NN', ['ad']), Tree('NN', ['spending'])])])])])])])])])])",
      "image/png": "[encoded data removed]"
     },
     "execution_count": 48,
     "metadata": {},
     "output_type": "execute_result"
    }
   ],
   "source": [
    "t = treebank.parsed_sents()[99]\n",
    "t[0]"
   ],
   "metadata": {
    "collapsed": false,
    "pycharm": {
     "name": "#%%\n"
    }
   }
  },
  {
   "cell_type": "code",
   "execution_count": 49,
   "outputs": [],
   "source": [
    "# Exercise: 8-24\n",
    "# Write a recursive function that produces a nested bracketing for a tree, leaving out the leaf nodes and\n",
    "# displaying the non-terminal labels after their subtrees. So the example in Grammar Development about\n",
    "# Pierre Vinken would produce: [[[NNP NNP]NP , [ADJP [CD NNS]NP JJ]ADJP ,]NP-SBJ MD [VB [DT NN]NP [IN\n",
    "# [DT JJ NN]NP]PP-CLR [NNP CD]NP-TMP]VP .]S. Consecutive categories should be separated by space.\n",
    "\n",
    "import nltk\n",
    "\n",
    "from nltk.corpus import treebank"
   ],
   "metadata": {
    "collapsed": false,
    "pycharm": {
     "name": "#%%\n"
    }
   }
  },
  {
   "cell_type": "code",
   "execution_count": 50,
   "outputs": [],
   "source": [
    "def bracketing(tree, parents = []):\n",
    "\n",
    "    parents.append(tree.label())\n",
    "\n",
    "    l = len(tree) - 1\n",
    "    for child in tree:\n",
    "        if child.height() == 2:\n",
    "            print(child.label(), end = \"\")\n",
    "            if l > 0:\n",
    "                print(\" \", end = \"\")\n",
    "                l -= 1\n",
    "        elif isinstance(child, nltk.Tree):\n",
    "            print(\"[\", end = \"\")\n",
    "            bracketing(child, parents)\n",
    "    print(\"]\" + parents.pop(), end = \" \")"
   ],
   "metadata": {
    "collapsed": false,
    "pycharm": {
     "name": "#%%\n"
    }
   }
  },
  {
   "cell_type": "code",
   "execution_count": 51,
   "outputs": [
    {
     "data": {
      "text/plain": "Tree('S', [Tree('NP-SBJ', [Tree('NP', [Tree('NNS', ['Plans'])]), Tree('SBAR', [Tree('WHNP-13', [Tree('WDT', ['that'])]), Tree('S', [Tree('NP-SBJ', [Tree('-NONE-', ['*T*-13'])]), Tree('VP', [Tree('VBP', ['give']), Tree('NP', [Tree('NNS', ['advertisers'])]), Tree('NP', [Tree('NP', [Tree('NNS', ['discounts'])]), Tree('PP', [Tree('IN', ['for']), Tree('S-NOM', [Tree('NP-SBJ', [Tree('-NONE-', ['*'])]), Tree('VP', [Tree('VBG', ['maintaining']), Tree('CC', ['or']), Tree('VBG', ['increasing']), Tree('NP', [Tree('NN', ['ad']), Tree('NN', ['spending'])])])])])])])])])]), Tree('VP', [Tree('VP', [Tree('VBP', ['have']), Tree('VP', [Tree('VBN', ['become']), Tree('NP-PRD', [Tree('NP', [Tree('JJ', ['permanent']), Tree('NNS', ['fixtures'])]), Tree('PP-LOC', [Tree('IN', ['at']), Tree('NP', [Tree('DT', ['the']), Tree('NN', ['news']), Tree('NNS', ['weeklies'])])])])])]), Tree('CC', ['and']), Tree('VP', [Tree('VBP', ['underscore']), Tree('NP', [Tree('NP', [Tree('DT', ['the']), Tree('JJ', ['fierce']), Tree('NN', ['competition'])]), Tree('PP-LOC', [Tree('IN', ['between']), Tree('NP', [Tree('NP', [Tree('NNP', ['Newsweek'])]), Tree(',', [',']), Tree('NP', [Tree('NP', [Tree('NNP', ['Time']), Tree('NNP', ['Warner']), Tree('NNP', ['Inc.']), Tree('POS', [\"'s\"])]), Tree('NNP', ['Time']), Tree('NN', ['magazine'])]), Tree(',', [',']), Tree('CC', ['and']), Tree('NP', [Tree('NP', [Tree('NNP', ['Mortimer']), Tree('NNP', ['B.']), Tree('NNP', ['Zuckerman']), Tree('POS', [\"'s\"])]), Tree('NNP', ['U.S.']), Tree('NNP', ['News']), Tree('CC', ['&']), Tree('NNP', ['World']), Tree('NNP', ['Report'])])])])])])]), Tree('.', ['.'])])",
      "image/png": "[encoded data removed]"
     },
     "execution_count": 51,
     "metadata": {},
     "output_type": "execute_result"
    }
   ],
   "source": [
    "t"
   ],
   "metadata": {
    "collapsed": false,
    "pycharm": {
     "name": "#%%\n"
    }
   }
  },
  {
   "cell_type": "code",
   "execution_count": 52,
   "outputs": [
    {
     "name": "stdout",
     "output_type": "stream",
     "text": [
      "[[NNS]NP [[WDT]WHNP-13 [[-NONE-]NP-SBJ [VBP [NNS]NP [[NNS]NP [IN [[-NONE-]NP-SBJ [VBG CC VBG [NN NN]NP ]VP ]S-NOM ]PP ]NP ]VP ]S ]SBAR ]NP-SBJ [[VBP [VBN [[JJ NNS]NP [IN [DT NN NNS]NP ]PP-LOC ]NP-PRD ]VP ]VP CC [VBP [[DT JJ NN]NP [IN [[NNP]NP , [[NNP NNP NNP POS]NP NNP NN ]NP , CC [[NNP NNP NNP POS]NP NNP NNP CC NNP NNP ]NP ]NP ]PP-LOC ]NP ]VP ]VP . ]S "
     ]
    }
   ],
   "source": [
    "bracketing(t)"
   ],
   "metadata": {
    "collapsed": false,
    "pycharm": {
     "name": "#%%\n"
    }
   }
  },
  {
   "cell_type": "code",
   "execution_count": 53,
   "outputs": [],
   "source": [
    "# Exercise: 8-25\n",
    "# Download several electronic books from Project Gutenberg. Write a program to scan these texts for any extremely\n",
    "# long sentences. What is the longest sentence you can find? What syntactic construction(s) are responsible for\n",
    "# such long sentences?\n",
    "\n",
    "import os, re\n",
    "path = \"/home/af/Dokumenter/Programs/NaturalLanguageProcessingwithPython-py39/Chapter 8\"\n",
    "os.chdir(path)\n",
    "\n",
    "opened_text = open('alice.txt', 'r', encoding = \"utf8\")\n",
    "alice = []\n",
    "for line in opened_text:\n",
    "    alice.append(line)\n",
    "\n",
    "alice = ' '.join(alice)\n",
    "\n",
    "alice = re.sub('\\n ', ' ', alice)\n",
    "alice = re.sub('\\ufeff   ', '', alice)\n",
    "\n",
    "alice_sents = nltk.sent_tokenize(alice)"
   ],
   "metadata": {
    "collapsed": false,
    "pycharm": {
     "name": "#%%\n"
    }
   }
  },
  {
   "cell_type": "code",
   "execution_count": 54,
   "outputs": [],
   "source": [
    "max_length = 0\n",
    "longest_sentence = \"\"\n",
    "for s in alice_sents:\n",
    "    if len(s) > max_length:\n",
    "        max_length = len(s)\n",
    "        longest_sentence = s"
   ],
   "metadata": {
    "collapsed": false,
    "pycharm": {
     "name": "#%%\n"
    }
   }
  },
  {
   "cell_type": "code",
   "execution_count": 55,
   "outputs": [
    {
     "data": {
      "text/plain": "'[Illustration]  The chief difficulty Alice found at first was in managing her flamingo; she succeeded in getting its body tucked away, comfortably enough, under her arm, with its legs hanging down, but generally, just as she had got its neck nicely straightened out, and was going to give the hedgehog a blow with its head, it _would_ twist itself round and look up in her face, with such a puzzled expression that she could not help bursting out laughing: and when she had got its head down, and was going to begin again, it was very provoking to find that the hedgehog had unrolled itself and was in the act of crawling away: besides all this, there was generally a ridge or a furrow in the way wherever she wanted to send the hedgehog to, and, as the doubled-up soldiers were always getting up and walking off to other parts of the ground, Alice soon came to the conclusion that it was a very difficult game indeed.'"
     },
     "execution_count": 55,
     "metadata": {},
     "output_type": "execute_result"
    }
   ],
   "source": [
    "longest_sentence"
   ],
   "metadata": {
    "collapsed": false,
    "pycharm": {
     "name": "#%%\n"
    }
   }
  },
  {
   "cell_type": "code",
   "execution_count": 56,
   "outputs": [
    {
     "name": "stdout",
     "output_type": "stream",
     "text": [
      "\n",
      "WFST 1    2    3    4    5    6    7   \n",
      "0    NP   .    .    .    .    .    .    \n",
      "1    .    V    .    .    .    .    .    \n",
      "2    .    .    Det  .    .    .    .    \n",
      "3    .    .    .    N    .    .    .    \n",
      "4    .    .    .    .    P    .    .    \n",
      "5    .    .    .    .    .    Det  .    \n",
      "6    .    .    .    .    .    .    N    \n"
     ]
    }
   ],
   "source": [
    "# Exercise: 8-26\n",
    "# Modify the functions init_wfst() and complete_wfst() so that the contents of each cell in the WFST is a set\n",
    "# of non-terminal symbols rather than a single non-terminal.\n",
    "\n",
    "def init_wfst(tokens, grammar):\n",
    "    numtokens = len(tokens)\n",
    "    wfst = [[None for i in range(numtokens+1)] for j in range(numtokens+1)]\n",
    "    for i in range(numtokens):\n",
    "        productions = grammar.productions(rhs=tokens[i])\n",
    "        wfst[i][i+1] = productions[0].lhs()\n",
    "    return wfst\n",
    "\n",
    "def complete_wfst(wfst, tokens, grammar, trace=False):\n",
    "    index = dict((p.rhs(), p.lhs()) for p in grammar.productions())\n",
    "    numtokens = len(tokens)\n",
    "    for span in range(2, numtokens+1):\n",
    "        for start in range(numtokens+1-span):\n",
    "            end = start + span\n",
    "            for mid in range(start+1, end):\n",
    "                nt1, nt2 = wfst[start][mid], wfst[mid][end]\n",
    "                if nt1 and nt2 and (nt1,nt2) in index:\n",
    "                    wfst[start][end] = index[(nt1,nt2)]\n",
    "                    if trace:\n",
    "                        print(\"[%s] %3s [%s] %3s [%s] ==> [%s] %3s [%s]\" % \\\n",
    "                        (start, nt1, mid, nt2, end, start, index[(nt1,nt2)], end))\n",
    "    return wfst\n",
    "\n",
    "def display(wfst, tokens):\n",
    "    print('\\nWFST ' + ' '.join((\"%-4d\" % i) for i in range(1, len(wfst))))\n",
    "    for i in range(len(wfst)-1):\n",
    "        print(\"%d   \" % i, end=\" \")\n",
    "        for j in range(1, len(wfst)):\n",
    "            print(\"%-4s\" % (wfst[i][j] or '.'), end=\" \")\n",
    "        print()\n",
    "tokens = \"I shot an elephant in my pajamas\".split()\n",
    "wfst0 = init_wfst(tokens, groucho_grammar)\n",
    "display(wfst0, tokens)"
   ],
   "metadata": {
    "collapsed": false,
    "pycharm": {
     "name": "#%%\n"
    }
   }
  }
 ],
 "metadata": {
  "kernelspec": {
   "display_name": "Python 3",
   "language": "python",
   "name": "python3"
  },
  "language_info": {
   "codemirror_mode": {
    "name": "ipython",
    "version": 2
   },
   "file_extension": ".py",
   "mimetype": "text/x-python",
   "name": "python",
   "nbconvert_exporter": "python",
   "pygments_lexer": "ipython2",
   "version": "2.7.6"
  }
 },
 "nbformat": 4,
 "nbformat_minor": 0
}